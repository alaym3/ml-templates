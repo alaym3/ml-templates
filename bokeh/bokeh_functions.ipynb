{
 "cells": [
  {
   "cell_type": "markdown",
   "metadata": {},
   "source": [
    "# Bokeh plotting template"
   ]
  },
  {
   "cell_type": "markdown",
   "metadata": {},
   "source": [
    "Do all cleaning beforehand!\n",
    "\n",
    "**Load in clean df**"
   ]
  },
  {
   "cell_type": "code",
   "execution_count": 4,
   "metadata": {},
   "outputs": [
    {
     "data": {
      "text/html": [
       "<div class=\"bk-root\">\n",
       "        <a href=\"https://bokeh.org\" target=\"_blank\" class=\"bk-logo bk-logo-small bk-logo-notebook\"></a>\n",
       "        <span id=\"1003\">Loading BokehJS ...</span>\n",
       "    </div>\n"
      ]
     },
     "metadata": {},
     "output_type": "display_data"
    },
    {
     "data": {
      "application/javascript": "(function(root) {\n  function now() {\n    return new Date();\n  }\n\n  const force = true;\n\n  if (typeof root._bokeh_onload_callbacks === \"undefined\" || force === true) {\n    root._bokeh_onload_callbacks = [];\n    root._bokeh_is_loading = undefined;\n  }\n\nconst JS_MIME_TYPE = 'application/javascript';\n  const HTML_MIME_TYPE = 'text/html';\n  const EXEC_MIME_TYPE = 'application/vnd.bokehjs_exec.v0+json';\n  const CLASS_NAME = 'output_bokeh rendered_html';\n\n  /**\n   * Render data to the DOM node\n   */\n  function render(props, node) {\n    const script = document.createElement(\"script\");\n    node.appendChild(script);\n  }\n\n  /**\n   * Handle when an output is cleared or removed\n   */\n  function handleClearOutput(event, handle) {\n    const cell = handle.cell;\n\n    const id = cell.output_area._bokeh_element_id;\n    const server_id = cell.output_area._bokeh_server_id;\n    // Clean up Bokeh references\n    if (id != null && id in Bokeh.index) {\n      Bokeh.index[id].model.document.clear();\n      delete Bokeh.index[id];\n    }\n\n    if (server_id !== undefined) {\n      // Clean up Bokeh references\n      const cmd_clean = \"from bokeh.io.state import curstate; print(curstate().uuid_to_server['\" + server_id + \"'].get_sessions()[0].document.roots[0]._id)\";\n      cell.notebook.kernel.execute(cmd_clean, {\n        iopub: {\n          output: function(msg) {\n            const id = msg.content.text.trim();\n            if (id in Bokeh.index) {\n              Bokeh.index[id].model.document.clear();\n              delete Bokeh.index[id];\n            }\n          }\n        }\n      });\n      // Destroy server and session\n      const cmd_destroy = \"import bokeh.io.notebook as ion; ion.destroy_server('\" + server_id + \"')\";\n      cell.notebook.kernel.execute(cmd_destroy);\n    }\n  }\n\n  /**\n   * Handle when a new output is added\n   */\n  function handleAddOutput(event, handle) {\n    const output_area = handle.output_area;\n    const output = handle.output;\n\n    // limit handleAddOutput to display_data with EXEC_MIME_TYPE content only\n    if ((output.output_type != \"display_data\") || (!Object.prototype.hasOwnProperty.call(output.data, EXEC_MIME_TYPE))) {\n      return\n    }\n\n    const toinsert = output_area.element.find(\".\" + CLASS_NAME.split(' ')[0]);\n\n    if (output.metadata[EXEC_MIME_TYPE][\"id\"] !== undefined) {\n      toinsert[toinsert.length - 1].firstChild.textContent = output.data[JS_MIME_TYPE];\n      // store reference to embed id on output_area\n      output_area._bokeh_element_id = output.metadata[EXEC_MIME_TYPE][\"id\"];\n    }\n    if (output.metadata[EXEC_MIME_TYPE][\"server_id\"] !== undefined) {\n      const bk_div = document.createElement(\"div\");\n      bk_div.innerHTML = output.data[HTML_MIME_TYPE];\n      const script_attrs = bk_div.children[0].attributes;\n      for (let i = 0; i < script_attrs.length; i++) {\n        toinsert[toinsert.length - 1].firstChild.setAttribute(script_attrs[i].name, script_attrs[i].value);\n        toinsert[toinsert.length - 1].firstChild.textContent = bk_div.children[0].textContent\n      }\n      // store reference to server id on output_area\n      output_area._bokeh_server_id = output.metadata[EXEC_MIME_TYPE][\"server_id\"];\n    }\n  }\n\n  function register_renderer(events, OutputArea) {\n\n    function append_mime(data, metadata, element) {\n      // create a DOM node to render to\n      const toinsert = this.create_output_subarea(\n        metadata,\n        CLASS_NAME,\n        EXEC_MIME_TYPE\n      );\n      this.keyboard_manager.register_events(toinsert);\n      // Render to node\n      const props = {data: data, metadata: metadata[EXEC_MIME_TYPE]};\n      render(props, toinsert[toinsert.length - 1]);\n      element.append(toinsert);\n      return toinsert\n    }\n\n    /* Handle when an output is cleared or removed */\n    events.on('clear_output.CodeCell', handleClearOutput);\n    events.on('delete.Cell', handleClearOutput);\n\n    /* Handle when a new output is added */\n    events.on('output_added.OutputArea', handleAddOutput);\n\n    /**\n     * Register the mime type and append_mime function with output_area\n     */\n    OutputArea.prototype.register_mime_type(EXEC_MIME_TYPE, append_mime, {\n      /* Is output safe? */\n      safe: true,\n      /* Index of renderer in `output_area.display_order` */\n      index: 0\n    });\n  }\n\n  // register the mime type if in Jupyter Notebook environment and previously unregistered\n  if (root.Jupyter !== undefined) {\n    const events = require('base/js/events');\n    const OutputArea = require('notebook/js/outputarea').OutputArea;\n\n    if (OutputArea.prototype.mime_types().indexOf(EXEC_MIME_TYPE) == -1) {\n      register_renderer(events, OutputArea);\n    }\n  }\n  if (typeof (root._bokeh_timeout) === \"undefined\" || force === true) {\n    root._bokeh_timeout = Date.now() + 5000;\n    root._bokeh_failed_load = false;\n  }\n\n  const NB_LOAD_WARNING = {'data': {'text/html':\n     \"<div style='background-color: #fdd'>\\n\"+\n     \"<p>\\n\"+\n     \"BokehJS does not appear to have successfully loaded. If loading BokehJS from CDN, this \\n\"+\n     \"may be due to a slow or bad network connection. Possible fixes:\\n\"+\n     \"</p>\\n\"+\n     \"<ul>\\n\"+\n     \"<li>re-rerun `output_notebook()` to attempt to load from CDN again, or</li>\\n\"+\n     \"<li>use INLINE resources instead, as so:</li>\\n\"+\n     \"</ul>\\n\"+\n     \"<code>\\n\"+\n     \"from bokeh.resources import INLINE\\n\"+\n     \"output_notebook(resources=INLINE)\\n\"+\n     \"</code>\\n\"+\n     \"</div>\"}};\n\n  function display_loaded() {\n    const el = document.getElementById(\"1003\");\n    if (el != null) {\n      el.textContent = \"BokehJS is loading...\";\n    }\n    if (root.Bokeh !== undefined) {\n      if (el != null) {\n        el.textContent = \"BokehJS \" + root.Bokeh.version + \" successfully loaded.\";\n      }\n    } else if (Date.now() < root._bokeh_timeout) {\n      setTimeout(display_loaded, 100)\n    }\n  }\n\n  function run_callbacks() {\n    try {\n      root._bokeh_onload_callbacks.forEach(function(callback) {\n        if (callback != null)\n          callback();\n      });\n    } finally {\n      delete root._bokeh_onload_callbacks\n    }\n    console.debug(\"Bokeh: all callbacks have finished\");\n  }\n\n  function load_libs(css_urls, js_urls, callback) {\n    if (css_urls == null) css_urls = [];\n    if (js_urls == null) js_urls = [];\n\n    root._bokeh_onload_callbacks.push(callback);\n    if (root._bokeh_is_loading > 0) {\n      console.debug(\"Bokeh: BokehJS is being loaded, scheduling callback at\", now());\n      return null;\n    }\n    if (js_urls == null || js_urls.length === 0) {\n      run_callbacks();\n      return null;\n    }\n    console.debug(\"Bokeh: BokehJS not loaded, scheduling load and callback at\", now());\n    root._bokeh_is_loading = css_urls.length + js_urls.length;\n\n    function on_load() {\n      root._bokeh_is_loading--;\n      if (root._bokeh_is_loading === 0) {\n        console.debug(\"Bokeh: all BokehJS libraries/stylesheets loaded\");\n        run_callbacks()\n      }\n    }\n\n    function on_error(url) {\n      console.error(\"failed to load \" + url);\n    }\n\n    for (let i = 0; i < css_urls.length; i++) {\n      const url = css_urls[i];\n      const element = document.createElement(\"link\");\n      element.onload = on_load;\n      element.onerror = on_error.bind(null, url);\n      element.rel = \"stylesheet\";\n      element.type = \"text/css\";\n      element.href = url;\n      console.debug(\"Bokeh: injecting link tag for BokehJS stylesheet: \", url);\n      document.body.appendChild(element);\n    }\n\n    for (let i = 0; i < js_urls.length; i++) {\n      const url = js_urls[i];\n      const element = document.createElement('script');\n      element.onload = on_load;\n      element.onerror = on_error.bind(null, url);\n      element.async = false;\n      element.src = url;\n      console.debug(\"Bokeh: injecting script tag for BokehJS library: \", url);\n      document.head.appendChild(element);\n    }\n  };\n\n  function inject_raw_css(css) {\n    const element = document.createElement(\"style\");\n    element.appendChild(document.createTextNode(css));\n    document.body.appendChild(element);\n  }\n\n  const js_urls = [\"https://cdn.bokeh.org/bokeh/release/bokeh-2.4.3.min.js\", \"https://cdn.bokeh.org/bokeh/release/bokeh-gl-2.4.3.min.js\", \"https://cdn.bokeh.org/bokeh/release/bokeh-widgets-2.4.3.min.js\", \"https://cdn.bokeh.org/bokeh/release/bokeh-tables-2.4.3.min.js\", \"https://cdn.bokeh.org/bokeh/release/bokeh-mathjax-2.4.3.min.js\"];\n  const css_urls = [];\n\n  const inline_js = [    function(Bokeh) {\n      Bokeh.set_log_level(\"info\");\n    },\nfunction(Bokeh) {\n    }\n  ];\n\n  function run_inline_js() {\n    if (root.Bokeh !== undefined || force === true) {\n          for (let i = 0; i < inline_js.length; i++) {\n      inline_js[i].call(root, root.Bokeh);\n    }\nif (force === true) {\n        display_loaded();\n      }} else if (Date.now() < root._bokeh_timeout) {\n      setTimeout(run_inline_js, 100);\n    } else if (!root._bokeh_failed_load) {\n      console.log(\"Bokeh: BokehJS failed to load within specified timeout.\");\n      root._bokeh_failed_load = true;\n    } else if (force !== true) {\n      const cell = $(document.getElementById(\"1003\")).parents('.cell').data().cell;\n      cell.output_area.append_execute_result(NB_LOAD_WARNING)\n    }\n  }\n\n  if (root._bokeh_is_loading === 0) {\n    console.debug(\"Bokeh: BokehJS loaded, going straight to plotting\");\n    run_inline_js();\n  } else {\n    load_libs(css_urls, js_urls, function() {\n      console.debug(\"Bokeh: BokehJS plotting callback run at\", now());\n      run_inline_js();\n    });\n  }\n}(window));",
      "application/vnd.bokehjs_load.v0+json": ""
     },
     "metadata": {},
     "output_type": "display_data"
    }
   ],
   "source": [
    "# imports\n",
    "import pandas as pd\n",
    "pd.options.mode.chained_assignment = None\n",
    "import numpy as np\n",
    "from math import pi\n",
    "import matplotlib.pyplot as plt\n",
    "\n",
    "from bokeh.plotting import figure, show, output_file, output_notebook\n",
    "from bokeh.models import ColumnDataSource, Range1d, HoverTool, Legend\n",
    "from bokeh.models.widgets import Tabs, Panel\n",
    "from bokeh.io import show\n",
    "from bokeh.palettes import BuGn, Category20b, Spectral, Plasma, Viridis, YlOrRd, PuOr, BuPu, BuGn, brewer, GnBu, PRGn, Inferno256, PuRd, RdPu, PiYG, RdYlGn, YlGnBu\n",
    "from bokeh.io import reset_output, output_notebook\n",
    "reset_output()\n",
    "output_notebook()\n",
    "\n",
    "from bokeh.plotting import figure, output_file, save\n",
    "from IPython.display import IFrame\n",
    "from IPython.core.display import display, HTML\n",
    "import tempfile\n"
   ]
  },
  {
   "cell_type": "code",
   "execution_count": 5,
   "metadata": {},
   "outputs": [
    {
     "data": {
      "text/html": [
       "<div>\n",
       "<style scoped>\n",
       "    .dataframe tbody tr th:only-of-type {\n",
       "        vertical-align: middle;\n",
       "    }\n",
       "\n",
       "    .dataframe tbody tr th {\n",
       "        vertical-align: top;\n",
       "    }\n",
       "\n",
       "    .dataframe thead th {\n",
       "        text-align: right;\n",
       "    }\n",
       "</style>\n",
       "<table border=\"1\" class=\"dataframe\">\n",
       "  <thead>\n",
       "    <tr style=\"text-align: right;\">\n",
       "      <th></th>\n",
       "      <th>Date of Offense</th>\n",
       "      <th>Time of Offense</th>\n",
       "      <th>Date Offense Reported</th>\n",
       "      <th>Report Year</th>\n",
       "      <th>Month</th>\n",
       "      <th>CCN</th>\n",
       "      <th>District</th>\n",
       "      <th>Block Location</th>\n",
       "      <th>Type of Hate Bias</th>\n",
       "      <th>Targeted Group</th>\n",
       "      <th>Top Offense Type</th>\n",
       "      <th>Address</th>\n",
       "      <th>gcode</th>\n",
       "      <th>lat</th>\n",
       "      <th>long</th>\n",
       "      <th>zipcodes</th>\n",
       "    </tr>\n",
       "  </thead>\n",
       "  <tbody>\n",
       "    <tr>\n",
       "      <th>0</th>\n",
       "      <td>2012-01-08</td>\n",
       "      <td>1500-1505</td>\n",
       "      <td>2012-01-08</td>\n",
       "      <td>2012</td>\n",
       "      <td>1</td>\n",
       "      <td>12003845</td>\n",
       "      <td>3</td>\n",
       "      <td>1600 B/O 17th St NW</td>\n",
       "      <td>Sexual Orientation</td>\n",
       "      <td>Not Reported</td>\n",
       "      <td>Threats</td>\n",
       "      <td>1600  17th St NW  Washington DC</td>\n",
       "      <td>1600, 17th Street Northwest, Dupont Circle, Wa...</td>\n",
       "      <td>38.911250</td>\n",
       "      <td>-77.038588</td>\n",
       "      <td>20009</td>\n",
       "    </tr>\n",
       "    <tr>\n",
       "      <th>1</th>\n",
       "      <td>2012-01-14</td>\n",
       "      <td>0240-0250</td>\n",
       "      <td>2012-01-14</td>\n",
       "      <td>2012</td>\n",
       "      <td>1</td>\n",
       "      <td>12006716</td>\n",
       "      <td>3</td>\n",
       "      <td>1800 B/O 14th St NW</td>\n",
       "      <td>Sexual Orientation</td>\n",
       "      <td>Not Reported</td>\n",
       "      <td>Simple Assault</td>\n",
       "      <td>1800  14th St NW Washington DC</td>\n",
       "      <td>1800, 14th Street Northwest, Cardozo/Shaw, Was...</td>\n",
       "      <td>38.914217</td>\n",
       "      <td>-77.032054</td>\n",
       "      <td>20009</td>\n",
       "    </tr>\n",
       "    <tr>\n",
       "      <th>2</th>\n",
       "      <td>2012-01-22</td>\n",
       "      <td>145</td>\n",
       "      <td>2012-01-22</td>\n",
       "      <td>2012</td>\n",
       "      <td>1</td>\n",
       "      <td>12010626</td>\n",
       "      <td>7</td>\n",
       "      <td>1300 B/O Alabama Ave SE</td>\n",
       "      <td>Sexual Orientation</td>\n",
       "      <td>Not Reported</td>\n",
       "      <td>ADW</td>\n",
       "      <td>1300  Alabama Ave SE Washington DC</td>\n",
       "      <td>1300, Alabama Avenue Southeast, Washington, Di...</td>\n",
       "      <td>38.845056</td>\n",
       "      <td>-76.987412</td>\n",
       "      <td>20020</td>\n",
       "    </tr>\n",
       "    <tr>\n",
       "      <th>3</th>\n",
       "      <td>2012-01-22</td>\n",
       "      <td>1930</td>\n",
       "      <td>2012-01-22</td>\n",
       "      <td>2012</td>\n",
       "      <td>1</td>\n",
       "      <td>12010912</td>\n",
       "      <td>1</td>\n",
       "      <td>600 B/O H St NW</td>\n",
       "      <td>Race</td>\n",
       "      <td>Asian</td>\n",
       "      <td>Threats</td>\n",
       "      <td>600  H St NW Washington DC</td>\n",
       "      <td>600, H Street Northwest, Chinatown, Washington...</td>\n",
       "      <td>38.899729</td>\n",
       "      <td>-77.020065</td>\n",
       "      <td>20001</td>\n",
       "    </tr>\n",
       "    <tr>\n",
       "      <th>4</th>\n",
       "      <td>2012-02-06</td>\n",
       "      <td>1900</td>\n",
       "      <td>2012-02-06</td>\n",
       "      <td>2012</td>\n",
       "      <td>2</td>\n",
       "      <td>12018396</td>\n",
       "      <td>3</td>\n",
       "      <td>1300 B/O Park Rd NW</td>\n",
       "      <td>Sexual Orientation</td>\n",
       "      <td>Not Reported</td>\n",
       "      <td>Simple Assault</td>\n",
       "      <td>1300  Park Rd NW Washington DC</td>\n",
       "      <td>1300, Park Road Northwest, Columbia Heights, W...</td>\n",
       "      <td>38.931198</td>\n",
       "      <td>-77.029808</td>\n",
       "      <td>20010</td>\n",
       "    </tr>\n",
       "  </tbody>\n",
       "</table>\n",
       "</div>"
      ],
      "text/plain": [
       "  Date of Offense Time of Offense Date Offense Reported  Report Year  Month  \\\n",
       "0      2012-01-08       1500-1505            2012-01-08         2012      1   \n",
       "1      2012-01-14       0240-0250            2012-01-14         2012      1   \n",
       "2      2012-01-22             145            2012-01-22         2012      1   \n",
       "3      2012-01-22            1930            2012-01-22         2012      1   \n",
       "4      2012-02-06            1900            2012-02-06         2012      2   \n",
       "\n",
       "        CCN  District           Block Location   Type of Hate Bias  \\\n",
       "0  12003845         3     1600 B/O 17th St NW   Sexual Orientation   \n",
       "1  12006716         3      1800 B/O 14th St NW  Sexual Orientation   \n",
       "2  12010626         7  1300 B/O Alabama Ave SE  Sexual Orientation   \n",
       "3  12010912         1          600 B/O H St NW                Race   \n",
       "4  12018396         3      1300 B/O Park Rd NW  Sexual Orientation   \n",
       "\n",
       "  Targeted Group Top Offense Type                             Address  \\\n",
       "0   Not Reported          Threats     1600  17th St NW  Washington DC   \n",
       "1   Not Reported   Simple Assault      1800  14th St NW Washington DC   \n",
       "2   Not Reported              ADW  1300  Alabama Ave SE Washington DC   \n",
       "3          Asian          Threats          600  H St NW Washington DC   \n",
       "4   Not Reported   Simple Assault      1300  Park Rd NW Washington DC   \n",
       "\n",
       "                                               gcode        lat       long  \\\n",
       "0  1600, 17th Street Northwest, Dupont Circle, Wa...  38.911250 -77.038588   \n",
       "1  1800, 14th Street Northwest, Cardozo/Shaw, Was...  38.914217 -77.032054   \n",
       "2  1300, Alabama Avenue Southeast, Washington, Di...  38.845056 -76.987412   \n",
       "3  600, H Street Northwest, Chinatown, Washington...  38.899729 -77.020065   \n",
       "4  1300, Park Road Northwest, Columbia Heights, W...  38.931198 -77.029808   \n",
       "\n",
       "   zipcodes  \n",
       "0     20009  \n",
       "1     20009  \n",
       "2     20020  \n",
       "3     20001  \n",
       "4     20010  "
      ]
     },
     "execution_count": 5,
     "metadata": {},
     "output_type": "execute_result"
    }
   ],
   "source": [
    "df = pd.read_csv('../data/hatecrime_df_clean.csv')\n",
    "df.head()"
   ]
  },
  {
   "cell_type": "markdown",
   "metadata": {},
   "source": [
    "# Horizontal bar examples"
   ]
  },
  {
   "cell_type": "markdown",
   "metadata": {},
   "source": [
    "### Step 1: Create a function that creates a seperate dataframe for every categorical column that we want to analyze"
   ]
  },
  {
   "cell_type": "code",
   "execution_count": 6,
   "metadata": {},
   "outputs": [],
   "source": [
    "# function to make a dataframe to count the unique values for each category in a given column\n",
    "def prep_bokeh_df(df, column):\n",
    "    count_df = pd.Series(df[column].value_counts()).reset_index(name='Hate crime count').rename(columns={'index':column})\n",
    "    return count_df\n"
   ]
  },
  {
   "cell_type": "markdown",
   "metadata": {},
   "source": [
    "Use the function to create multiple dfs for the categories we want to explore."
   ]
  },
  {
   "cell_type": "code",
   "execution_count": 7,
   "metadata": {},
   "outputs": [],
   "source": [
    "# make the new dfs\n",
    "type_bias_bar_df = prep_bokeh_df(df, 'Type of Hate Bias')\n",
    "targeted_group_bar_df = prep_bokeh_df(df, 'Targeted Group')\n",
    "offense_type_bar_df = prep_bokeh_df(df, 'Top Offense Type')"
   ]
  },
  {
   "cell_type": "markdown",
   "metadata": {},
   "source": [
    "### Step 2: Create a function to plot Bokeh categorical data into horizontal bars"
   ]
  },
  {
   "cell_type": "code",
   "execution_count": 8,
   "metadata": {},
   "outputs": [],
   "source": [
    "# function to plot bokeh categorical data in a horizontal bar\n",
    "# you input the dataframe, column, colorpalette, height, and width\n",
    "def bokeh_hbar(df, column, title, colorpalette, height, width):\n",
    "    TOOLS = \"hover,save,pan,box_zoom,reset,wheel_zoom,tap\"\n",
    "    p = figure(plot_height=height,\n",
    "        plot_width=width,\n",
    "        title=title,\n",
    "        tools=TOOLS,\n",
    "        toolbar_location='right',\n",
    "        y_range=df[column].unique()[::-1])\n",
    "    p.hbar(y=df[column], right=df['Hate crime count'], \n",
    "    height=0.75,color=colorpalette[df[column].nunique()]) #color='#8968CD')\n",
    "    p.yaxis.axis_label = column\n",
    "    p.xaxis.axis_label = 'Number of hate crimes'\n",
    "    p.select_one(HoverTool).tooltips = [\n",
    "        (column, '@y'),\n",
    "        ('Number of hate crimes', '@right')]\n",
    "    return p"
   ]
  },
  {
   "cell_type": "markdown",
   "metadata": {},
   "source": [
    "We display the number of hate crimes per type of hate bias, targeted group, and top offense type in tabs."
   ]
  },
  {
   "cell_type": "code",
   "execution_count": 9,
   "metadata": {},
   "outputs": [
    {
     "data": {
      "text/html": [
       "\n",
       "  <div class=\"bk-root\" id=\"8e7d67be-46d6-4a36-ba02-7aa2097e9d89\" data-root-id=\"1157\"></div>\n"
      ]
     },
     "metadata": {},
     "output_type": "display_data"
    },
    {
     "data": {
      "application/javascript": "(function(root) {\n  function embed_document(root) {\n  const docs_json = {\"3a11780b-1e86-4dda-913c-f84a76c2f2a6\":{\"defs\":[],\"roots\":{\"references\":[{\"attributes\":{\"tabs\":[{\"id\":\"1154\"},{\"id\":\"1155\"},{\"id\":\"1156\"}]},\"id\":\"1157\",\"type\":\"Tabs\"},{\"attributes\":{\"overlay\":{\"id\":\"1079\"}},\"id\":\"1075\",\"type\":\"BoxZoomTool\"},{\"attributes\":{},\"id\":\"1013\",\"type\":\"CategoricalScale\"},{\"attributes\":{},\"id\":\"1077\",\"type\":\"WheelZoomTool\"},{\"attributes\":{},\"id\":\"1076\",\"type\":\"ResetTool\"},{\"attributes\":{\"fill_alpha\":{\"value\":0.2},\"fill_color\":{\"field\":\"fill_color\"},\"hatch_alpha\":{\"value\":0.2},\"hatch_color\":{\"field\":\"hatch_color\"},\"height\":{\"value\":0.75},\"line_alpha\":{\"value\":0.2},\"line_color\":{\"field\":\"line_color\"},\"right\":{\"field\":\"right\"},\"y\":{\"field\":\"y\"}},\"id\":\"1141\",\"type\":\"HBar\"},{\"attributes\":{\"coordinates\":null,\"group\":null,\"text\":\"Number of hate crimes by type of hate bias\"},\"id\":\"1005\",\"type\":\"Title\"},{\"attributes\":{\"callback\":null},\"id\":\"1078\",\"type\":\"TapTool\"},{\"attributes\":{\"factors\":[\"Sex/Gender\",\"Homelessness\",\"Disability\",\"Political Affiliation\",\"Religion\",\"Gender Identity/Expression\",\"Ethnicity/National Origin\",\"Race\",\"Sexual Orientation\"]},\"id\":\"1009\",\"type\":\"FactorRange\"},{\"attributes\":{\"tools\":[{\"id\":\"1072\"},{\"id\":\"1073\"},{\"id\":\"1074\"},{\"id\":\"1075\"},{\"id\":\"1076\"},{\"id\":\"1077\"},{\"id\":\"1078\"}]},\"id\":\"1080\",\"type\":\"Toolbar\"},{\"attributes\":{},\"id\":\"1011\",\"type\":\"LinearScale\"},{\"attributes\":{\"fill_alpha\":{\"value\":0.2},\"fill_color\":{\"field\":\"fill_color\"},\"hatch_alpha\":{\"value\":0.2},\"hatch_color\":{\"field\":\"hatch_color\"},\"height\":{\"value\":0.75},\"line_alpha\":{\"value\":0.2},\"line_color\":{\"field\":\"line_color\"},\"right\":{\"field\":\"right\"},\"y\":{\"field\":\"y\"}},\"id\":\"1091\",\"type\":\"HBar\"},{\"attributes\":{\"callback\":null,\"tooltips\":[[\"Top Offense Type\",\"@y\"],[\"Number of hate crimes\",\"@right\"]]},\"id\":\"1122\",\"type\":\"HoverTool\"},{\"attributes\":{},\"id\":\"1123\",\"type\":\"SaveTool\"},{\"attributes\":{\"axis_label\":\"Number of hate crimes\",\"coordinates\":null,\"formatter\":{\"id\":\"1049\"},\"group\":null,\"major_label_policy\":{\"id\":\"1050\"},\"ticker\":{\"id\":\"1016\"}},\"id\":\"1015\",\"type\":\"LinearAxis\"},{\"attributes\":{\"bottom_units\":\"screen\",\"coordinates\":null,\"fill_alpha\":0.5,\"fill_color\":\"lightgrey\",\"group\":null,\"left_units\":\"screen\",\"level\":\"overlay\",\"line_alpha\":1.0,\"line_color\":\"black\",\"line_dash\":[4,4],\"line_width\":2,\"right_units\":\"screen\",\"syncable\":false,\"top_units\":\"screen\"},\"id\":\"1079\",\"type\":\"BoxAnnotation\"},{\"attributes\":{},\"id\":\"1020\",\"type\":\"CategoricalTicker\"},{\"attributes\":{},\"id\":\"1124\",\"type\":\"PanTool\"},{\"attributes\":{},\"id\":\"1016\",\"type\":\"BasicTicker\"},{\"attributes\":{\"overlay\":{\"id\":\"1129\"}},\"id\":\"1125\",\"type\":\"BoxZoomTool\"},{\"attributes\":{\"callback\":null},\"id\":\"1128\",\"type\":\"TapTool\"},{\"attributes\":{},\"id\":\"1127\",\"type\":\"WheelZoomTool\"},{\"attributes\":{\"axis\":{\"id\":\"1019\"},\"coordinates\":null,\"dimension\":1,\"group\":null,\"ticker\":null},\"id\":\"1021\",\"type\":\"Grid\"},{\"attributes\":{\"factors\":[\"Lewd, Indecent, Obscene Acts\",\"Burglary\",\"Leaving After Colliding\",\"Riot Act\",\"Violation of CPO\",\"Assault w/Significant Bodily Injury\",\"Aggravated Assault\",\"Affrays\",\"Cruelty to Children\",\"Voyeurism\",\"Arson\",\"Theft\",\"Sexual Abuse\",\"Stalking\",\"Displaying Symbols\",\"Robbery\",\"ADW\",\"Damage/Defacing/Destruction of Property\",\"Threats\",\"Simple Assault\"]},\"id\":\"1109\",\"type\":\"FactorRange\"},{\"attributes\":{},\"id\":\"1126\",\"type\":\"ResetTool\"},{\"attributes\":{\"axis_label\":\"Type of Hate Bias\",\"coordinates\":null,\"formatter\":{\"id\":\"1046\"},\"group\":null,\"major_label_policy\":{\"id\":\"1047\"},\"ticker\":{\"id\":\"1020\"}},\"id\":\"1019\",\"type\":\"CategoricalAxis\"},{\"attributes\":{\"source\":{\"id\":\"1138\"}},\"id\":\"1143\",\"type\":\"CDSView\"},{\"attributes\":{\"tools\":[{\"id\":\"1122\"},{\"id\":\"1123\"},{\"id\":\"1124\"},{\"id\":\"1125\"},{\"id\":\"1126\"},{\"id\":\"1127\"},{\"id\":\"1128\"}]},\"id\":\"1130\",\"type\":\"Toolbar\"},{\"attributes\":{\"bottom_units\":\"screen\",\"coordinates\":null,\"fill_alpha\":0.5,\"fill_color\":\"lightgrey\",\"group\":null,\"left_units\":\"screen\",\"level\":\"overlay\",\"line_alpha\":1.0,\"line_color\":\"black\",\"line_dash\":[4,4],\"line_width\":2,\"right_units\":\"screen\",\"syncable\":false,\"top_units\":\"screen\"},\"id\":\"1129\",\"type\":\"BoxAnnotation\"},{\"attributes\":{\"data\":{\"fill_color\":[\"#67001f\",\"#980043\",\"#ce1256\",\"#e7298a\",\"#df65b0\",\"#c994c7\",\"#d4b9da\",\"#e7e1ef\",\"#f7f4f9\"],\"hatch_color\":[\"#67001f\",\"#980043\",\"#ce1256\",\"#e7298a\",\"#df65b0\",\"#c994c7\",\"#d4b9da\",\"#e7e1ef\",\"#f7f4f9\"],\"line_color\":[\"#67001f\",\"#980043\",\"#ce1256\",\"#e7298a\",\"#df65b0\",\"#c994c7\",\"#d4b9da\",\"#e7e1ef\",\"#f7f4f9\"],\"right\":[422,278,257,181,72,33,5,4,3],\"y\":[\"Sexual Orientation\",\"Race\",\"Ethnicity/National Origin\",\"Gender Identity/Expression\",\"Religion\",\"Political Affiliation\",\"Disability\",\"Homelessness\",\"Sex/Gender\"]},\"selected\":{\"id\":\"1052\"},\"selection_policy\":{\"id\":\"1051\"}},\"id\":\"1038\",\"type\":\"ColumnDataSource\"},{\"attributes\":{},\"id\":\"1146\",\"type\":\"CategoricalTickFormatter\"},{\"attributes\":{},\"id\":\"1047\",\"type\":\"AllLabels\"},{\"attributes\":{},\"id\":\"1007\",\"type\":\"DataRange1d\"},{\"attributes\":{},\"id\":\"1049\",\"type\":\"BasicTickFormatter\"},{\"attributes\":{},\"id\":\"1147\",\"type\":\"AllLabels\"},{\"attributes\":{},\"id\":\"1057\",\"type\":\"DataRange1d\"},{\"attributes\":{\"tools\":[{\"id\":\"1022\"},{\"id\":\"1023\"},{\"id\":\"1024\"},{\"id\":\"1025\"},{\"id\":\"1026\"},{\"id\":\"1027\"},{\"id\":\"1028\"}]},\"id\":\"1030\",\"type\":\"Toolbar\"},{\"attributes\":{\"callback\":null,\"tooltips\":[[\"Type of Hate Bias\",\"@y\"],[\"Number of hate crimes\",\"@right\"]]},\"id\":\"1022\",\"type\":\"HoverTool\"},{\"attributes\":{\"source\":{\"id\":\"1088\"}},\"id\":\"1093\",\"type\":\"CDSView\"},{\"attributes\":{\"factors\":[\"Lebanese\",\"Iranian\",\"Turkish\",\"Japanese\",\"Pakistani\",\"Other/Unknown Religion\",\"Multiple\",\"Russian\",\"Jamaican\",\"Indian\",\"Hindu\",\"Arab/Middle Eastern or Jewish\",\"Israeli\",\"Unknown\",\"Christian\",\"Non-European\",\"Female\",\"Ethiopian\",\"Unspecified\",\"Chinese\",\"Muslim\",\"Arab/Middle Eastern\",\"Asian\",\"White\",\"Latino/Hispanic\",\"Jewish\",\"Black\",\"Not Reported\"]},\"id\":\"1059\",\"type\":\"FactorRange\"},{\"attributes\":{},\"id\":\"1063\",\"type\":\"CategoricalScale\"},{\"attributes\":{\"coordinates\":null,\"group\":null,\"text\":\"Number of hate crimes by targeted group\"},\"id\":\"1055\",\"type\":\"Title\"},{\"attributes\":{},\"id\":\"1111\",\"type\":\"LinearScale\"},{\"attributes\":{},\"id\":\"1023\",\"type\":\"SaveTool\"},{\"attributes\":{},\"id\":\"1061\",\"type\":\"LinearScale\"},{\"attributes\":{\"coordinates\":null,\"data_source\":{\"id\":\"1088\"},\"glyph\":{\"id\":\"1089\"},\"group\":null,\"hover_glyph\":null,\"muted_glyph\":{\"id\":\"1091\"},\"nonselection_glyph\":{\"id\":\"1090\"},\"view\":{\"id\":\"1093\"}},\"id\":\"1092\",\"type\":\"GlyphRenderer\"},{\"attributes\":{\"child\":{\"id\":\"1004\"},\"title\":\"Type\"},\"id\":\"1154\",\"type\":\"Panel\"},{\"attributes\":{},\"id\":\"1024\",\"type\":\"PanTool\"},{\"attributes\":{},\"id\":\"1149\",\"type\":\"BasicTickFormatter\"},{\"attributes\":{\"coordinates\":null,\"data_source\":{\"id\":\"1138\"},\"glyph\":{\"id\":\"1139\"},\"group\":null,\"hover_glyph\":null,\"muted_glyph\":{\"id\":\"1141\"},\"nonselection_glyph\":{\"id\":\"1140\"},\"view\":{\"id\":\"1143\"}},\"id\":\"1142\",\"type\":\"GlyphRenderer\"},{\"attributes\":{},\"id\":\"1096\",\"type\":\"CategoricalTickFormatter\"},{\"attributes\":{\"overlay\":{\"id\":\"1029\"}},\"id\":\"1025\",\"type\":\"BoxZoomTool\"},{\"attributes\":{},\"id\":\"1027\",\"type\":\"WheelZoomTool\"},{\"attributes\":{},\"id\":\"1097\",\"type\":\"AllLabels\"},{\"attributes\":{},\"id\":\"1026\",\"type\":\"ResetTool\"},{\"attributes\":{},\"id\":\"1099\",\"type\":\"BasicTickFormatter\"},{\"attributes\":{},\"id\":\"1150\",\"type\":\"AllLabels\"},{\"attributes\":{},\"id\":\"1151\",\"type\":\"UnionRenderers\"},{\"attributes\":{\"axis_label\":\"Number of hate crimes\",\"coordinates\":null,\"formatter\":{\"id\":\"1099\"},\"group\":null,\"major_label_policy\":{\"id\":\"1100\"},\"ticker\":{\"id\":\"1066\"}},\"id\":\"1065\",\"type\":\"LinearAxis\"},{\"attributes\":{},\"id\":\"1046\",\"type\":\"CategoricalTickFormatter\"},{\"attributes\":{},\"id\":\"1070\",\"type\":\"CategoricalTicker\"},{\"attributes\":{},\"id\":\"1100\",\"type\":\"AllLabels\"},{\"attributes\":{},\"id\":\"1152\",\"type\":\"Selection\"},{\"attributes\":{},\"id\":\"1066\",\"type\":\"BasicTicker\"},{\"attributes\":{},\"id\":\"1101\",\"type\":\"UnionRenderers\"},{\"attributes\":{\"child\":{\"id\":\"1104\"},\"title\":\"Offense type\"},\"id\":\"1156\",\"type\":\"Panel\"},{\"attributes\":{\"callback\":null},\"id\":\"1028\",\"type\":\"TapTool\"},{\"attributes\":{\"child\":{\"id\":\"1054\"},\"title\":\"Targeted group\"},\"id\":\"1155\",\"type\":\"Panel\"},{\"attributes\":{\"axis\":{\"id\":\"1065\"},\"coordinates\":null,\"group\":null,\"ticker\":null},\"id\":\"1068\",\"type\":\"Grid\"},{\"attributes\":{},\"id\":\"1102\",\"type\":\"Selection\"},{\"attributes\":{},\"id\":\"1050\",\"type\":\"AllLabels\"},{\"attributes\":{\"axis\":{\"id\":\"1069\"},\"coordinates\":null,\"dimension\":1,\"group\":null,\"ticker\":null},\"id\":\"1071\",\"type\":\"Grid\"},{\"attributes\":{\"axis_label\":\"Targeted Group\",\"coordinates\":null,\"formatter\":{\"id\":\"1096\"},\"group\":null,\"major_label_policy\":{\"id\":\"1097\"},\"ticker\":{\"id\":\"1070\"}},\"id\":\"1069\",\"type\":\"CategoricalAxis\"},{\"attributes\":{\"bottom_units\":\"screen\",\"coordinates\":null,\"fill_alpha\":0.5,\"fill_color\":\"lightgrey\",\"group\":null,\"left_units\":\"screen\",\"level\":\"overlay\",\"line_alpha\":1.0,\"line_color\":\"black\",\"line_dash\":[4,4],\"line_width\":2,\"right_units\":\"screen\",\"syncable\":false,\"top_units\":\"screen\"},\"id\":\"1029\",\"type\":\"BoxAnnotation\"},{\"attributes\":{\"fill_alpha\":{\"value\":0.1},\"fill_color\":{\"field\":\"fill_color\"},\"hatch_alpha\":{\"value\":0.1},\"hatch_color\":{\"field\":\"hatch_color\"},\"height\":{\"value\":0.75},\"line_alpha\":{\"value\":0.1},\"line_color\":{\"field\":\"line_color\"},\"right\":{\"field\":\"right\"},\"y\":{\"field\":\"y\"}},\"id\":\"1090\",\"type\":\"HBar\"},{\"attributes\":{},\"id\":\"1113\",\"type\":\"CategoricalScale\"},{\"attributes\":{\"source\":{\"id\":\"1038\"}},\"id\":\"1043\",\"type\":\"CDSView\"},{\"attributes\":{\"below\":[{\"id\":\"1065\"}],\"center\":[{\"id\":\"1068\"},{\"id\":\"1071\"}],\"height\":450,\"left\":[{\"id\":\"1069\"}],\"renderers\":[{\"id\":\"1092\"}],\"title\":{\"id\":\"1055\"},\"toolbar\":{\"id\":\"1080\"},\"width\":650,\"x_range\":{\"id\":\"1057\"},\"x_scale\":{\"id\":\"1061\"},\"y_range\":{\"id\":\"1059\"},\"y_scale\":{\"id\":\"1063\"}},\"id\":\"1054\",\"subtype\":\"Figure\",\"type\":\"Plot\"},{\"attributes\":{\"data\":{\"fill_color\":[\"#67001f\",\"#980043\",\"#ce1256\",\"#e7298a\",\"#df65b0\",\"#c994c7\",\"#d4b9da\",\"#e7e1ef\",\"#67001f\",\"#980043\",\"#ce1256\",\"#e7298a\",\"#df65b0\",\"#c994c7\",\"#d4b9da\",\"#e7e1ef\",\"#67001f\",\"#980043\",\"#ce1256\",\"#e7298a\",\"#df65b0\",\"#c994c7\",\"#d4b9da\",\"#e7e1ef\",\"#67001f\",\"#980043\",\"#ce1256\",\"#e7298a\"],\"hatch_color\":[\"#67001f\",\"#980043\",\"#ce1256\",\"#e7298a\",\"#df65b0\",\"#c994c7\",\"#d4b9da\",\"#e7e1ef\",\"#67001f\",\"#980043\",\"#ce1256\",\"#e7298a\",\"#df65b0\",\"#c994c7\",\"#d4b9da\",\"#e7e1ef\",\"#67001f\",\"#980043\",\"#ce1256\",\"#e7298a\",\"#df65b0\",\"#c994c7\",\"#d4b9da\",\"#e7e1ef\",\"#67001f\",\"#980043\",\"#ce1256\",\"#e7298a\"],\"line_color\":[\"#67001f\",\"#980043\",\"#ce1256\",\"#e7298a\",\"#df65b0\",\"#c994c7\",\"#d4b9da\",\"#e7e1ef\",\"#67001f\",\"#980043\",\"#ce1256\",\"#e7298a\",\"#df65b0\",\"#c994c7\",\"#d4b9da\",\"#e7e1ef\",\"#67001f\",\"#980043\",\"#ce1256\",\"#e7298a\",\"#df65b0\",\"#c994c7\",\"#d4b9da\",\"#e7e1ef\",\"#67001f\",\"#980043\",\"#ce1256\",\"#e7298a\"],\"right\":[645,198,112,84,81,32,24,21,15,14,5,3,3,2,2,2,1,1,1,1,1,1,1,1,1,1,1,1],\"y\":[\"Not Reported\",\"Black\",\"Jewish\",\"Latino/Hispanic\",\"White\",\"Asian\",\"Arab/Middle Eastern\",\"Muslim\",\"Chinese\",\"Unspecified\",\"Ethiopian\",\"Female\",\"Non-European\",\"Christian\",\"Unknown\",\"Israeli\",\"Arab/Middle Eastern or Jewish\",\"Hindu\",\"Indian\",\"Jamaican\",\"Russian\",\"Multiple\",\"Other/Unknown Religion\",\"Pakistani\",\"Japanese\",\"Turkish\",\"Iranian\",\"Lebanese\"]},\"selected\":{\"id\":\"1102\"},\"selection_policy\":{\"id\":\"1101\"}},\"id\":\"1088\",\"type\":\"ColumnDataSource\"},{\"attributes\":{\"fill_color\":{\"field\":\"fill_color\"},\"hatch_color\":{\"field\":\"hatch_color\"},\"height\":{\"value\":0.75},\"line_color\":{\"field\":\"line_color\"},\"right\":{\"field\":\"right\"},\"y\":{\"field\":\"y\"}},\"id\":\"1089\",\"type\":\"HBar\"},{\"attributes\":{\"axis_label\":\"Number of hate crimes\",\"coordinates\":null,\"formatter\":{\"id\":\"1149\"},\"group\":null,\"major_label_policy\":{\"id\":\"1150\"},\"ticker\":{\"id\":\"1116\"}},\"id\":\"1115\",\"type\":\"LinearAxis\"},{\"attributes\":{},\"id\":\"1120\",\"type\":\"CategoricalTicker\"},{\"attributes\":{\"coordinates\":null,\"data_source\":{\"id\":\"1038\"},\"glyph\":{\"id\":\"1039\"},\"group\":null,\"hover_glyph\":null,\"muted_glyph\":{\"id\":\"1041\"},\"nonselection_glyph\":{\"id\":\"1040\"},\"view\":{\"id\":\"1043\"}},\"id\":\"1042\",\"type\":\"GlyphRenderer\"},{\"attributes\":{},\"id\":\"1116\",\"type\":\"BasicTicker\"},{\"attributes\":{\"below\":[{\"id\":\"1115\"}],\"center\":[{\"id\":\"1118\"},{\"id\":\"1121\"}],\"height\":450,\"left\":[{\"id\":\"1119\"}],\"renderers\":[{\"id\":\"1142\"}],\"title\":{\"id\":\"1105\"},\"toolbar\":{\"id\":\"1130\"},\"width\":650,\"x_range\":{\"id\":\"1107\"},\"x_scale\":{\"id\":\"1111\"},\"y_range\":{\"id\":\"1109\"},\"y_scale\":{\"id\":\"1113\"}},\"id\":\"1104\",\"subtype\":\"Figure\",\"type\":\"Plot\"},{\"attributes\":{\"callback\":null,\"tooltips\":[[\"Targeted Group\",\"@y\"],[\"Number of hate crimes\",\"@right\"]]},\"id\":\"1072\",\"type\":\"HoverTool\"},{\"attributes\":{\"axis\":{\"id\":\"1115\"},\"coordinates\":null,\"group\":null,\"ticker\":null},\"id\":\"1118\",\"type\":\"Grid\"},{\"attributes\":{},\"id\":\"1073\",\"type\":\"SaveTool\"},{\"attributes\":{},\"id\":\"1051\",\"type\":\"UnionRenderers\"},{\"attributes\":{\"axis\":{\"id\":\"1119\"},\"coordinates\":null,\"dimension\":1,\"group\":null,\"ticker\":null},\"id\":\"1121\",\"type\":\"Grid\"},{\"attributes\":{\"fill_alpha\":{\"value\":0.2},\"fill_color\":{\"field\":\"fill_color\"},\"hatch_alpha\":{\"value\":0.2},\"hatch_color\":{\"field\":\"hatch_color\"},\"height\":{\"value\":0.75},\"line_alpha\":{\"value\":0.2},\"line_color\":{\"field\":\"line_color\"},\"right\":{\"field\":\"right\"},\"y\":{\"field\":\"y\"}},\"id\":\"1041\",\"type\":\"HBar\"},{\"attributes\":{},\"id\":\"1074\",\"type\":\"PanTool\"},{\"attributes\":{\"axis_label\":\"Top Offense Type\",\"coordinates\":null,\"formatter\":{\"id\":\"1146\"},\"group\":null,\"major_label_policy\":{\"id\":\"1147\"},\"ticker\":{\"id\":\"1120\"}},\"id\":\"1119\",\"type\":\"CategoricalAxis\"},{\"attributes\":{},\"id\":\"1052\",\"type\":\"Selection\"},{\"attributes\":{\"fill_color\":{\"field\":\"fill_color\"},\"hatch_color\":{\"field\":\"hatch_color\"},\"height\":{\"value\":0.75},\"line_color\":{\"field\":\"line_color\"},\"right\":{\"field\":\"right\"},\"y\":{\"field\":\"y\"}},\"id\":\"1139\",\"type\":\"HBar\"},{\"attributes\":{\"fill_color\":{\"field\":\"fill_color\"},\"hatch_color\":{\"field\":\"hatch_color\"},\"height\":{\"value\":0.75},\"line_color\":{\"field\":\"line_color\"},\"right\":{\"field\":\"right\"},\"y\":{\"field\":\"y\"}},\"id\":\"1039\",\"type\":\"HBar\"},{\"attributes\":{\"axis\":{\"id\":\"1015\"},\"coordinates\":null,\"group\":null,\"ticker\":null},\"id\":\"1018\",\"type\":\"Grid\"},{\"attributes\":{\"fill_alpha\":{\"value\":0.1},\"fill_color\":{\"field\":\"fill_color\"},\"hatch_alpha\":{\"value\":0.1},\"hatch_color\":{\"field\":\"hatch_color\"},\"height\":{\"value\":0.75},\"line_alpha\":{\"value\":0.1},\"line_color\":{\"field\":\"line_color\"},\"right\":{\"field\":\"right\"},\"y\":{\"field\":\"y\"}},\"id\":\"1040\",\"type\":\"HBar\"},{\"attributes\":{\"data\":{\"fill_color\":[\"#67001f\",\"#980043\",\"#ce1256\",\"#e7298a\",\"#df65b0\",\"#c994c7\",\"#d4b9da\",\"#e7e1ef\",\"#67001f\",\"#980043\",\"#ce1256\",\"#e7298a\",\"#df65b0\",\"#c994c7\",\"#d4b9da\",\"#e7e1ef\",\"#67001f\",\"#980043\",\"#ce1256\",\"#e7298a\"],\"hatch_color\":[\"#67001f\",\"#980043\",\"#ce1256\",\"#e7298a\",\"#df65b0\",\"#c994c7\",\"#d4b9da\",\"#e7e1ef\",\"#67001f\",\"#980043\",\"#ce1256\",\"#e7298a\",\"#df65b0\",\"#c994c7\",\"#d4b9da\",\"#e7e1ef\",\"#67001f\",\"#980043\",\"#ce1256\",\"#e7298a\"],\"line_color\":[\"#67001f\",\"#980043\",\"#ce1256\",\"#e7298a\",\"#df65b0\",\"#c994c7\",\"#d4b9da\",\"#e7e1ef\",\"#67001f\",\"#980043\",\"#ce1256\",\"#e7298a\",\"#df65b0\",\"#c994c7\",\"#d4b9da\",\"#e7e1ef\",\"#67001f\",\"#980043\",\"#ce1256\",\"#e7298a\"],\"right\":[463,306,190,150,71,40,13,6,4,1,1,1,1,1,1,1,1,1,1,1],\"y\":[\"Simple Assault\",\"Threats\",\"Damage/Defacing/Destruction of Property\",\"ADW\",\"Robbery\",\"Displaying Symbols\",\"Stalking\",\"Sexual Abuse\",\"Theft\",\"Arson\",\"Voyeurism\",\"Cruelty to Children\",\"Affrays\",\"Aggravated Assault\",\"Assault w/Significant Bodily Injury\",\"Violation of CPO\",\"Riot Act\",\"Leaving After Colliding\",\"Burglary\",\"Lewd, Indecent, Obscene Acts\"]},\"selected\":{\"id\":\"1152\"},\"selection_policy\":{\"id\":\"1151\"}},\"id\":\"1138\",\"type\":\"ColumnDataSource\"},{\"attributes\":{\"fill_alpha\":{\"value\":0.1},\"fill_color\":{\"field\":\"fill_color\"},\"hatch_alpha\":{\"value\":0.1},\"hatch_color\":{\"field\":\"hatch_color\"},\"height\":{\"value\":0.75},\"line_alpha\":{\"value\":0.1},\"line_color\":{\"field\":\"line_color\"},\"right\":{\"field\":\"right\"},\"y\":{\"field\":\"y\"}},\"id\":\"1140\",\"type\":\"HBar\"},{\"attributes\":{\"below\":[{\"id\":\"1015\"}],\"center\":[{\"id\":\"1018\"},{\"id\":\"1021\"}],\"height\":450,\"left\":[{\"id\":\"1019\"}],\"renderers\":[{\"id\":\"1042\"}],\"title\":{\"id\":\"1005\"},\"toolbar\":{\"id\":\"1030\"},\"width\":650,\"x_range\":{\"id\":\"1007\"},\"x_scale\":{\"id\":\"1011\"},\"y_range\":{\"id\":\"1009\"},\"y_scale\":{\"id\":\"1013\"}},\"id\":\"1004\",\"subtype\":\"Figure\",\"type\":\"Plot\"},{\"attributes\":{\"coordinates\":null,\"group\":null,\"text\":\"Number of hate crimes by offense type\"},\"id\":\"1105\",\"type\":\"Title\"},{\"attributes\":{},\"id\":\"1107\",\"type\":\"DataRange1d\"}],\"root_ids\":[\"1157\"]},\"title\":\"Bokeh Application\",\"version\":\"2.4.3\"}};\n  const render_items = [{\"docid\":\"3a11780b-1e86-4dda-913c-f84a76c2f2a6\",\"root_ids\":[\"1157\"],\"roots\":{\"1157\":\"8e7d67be-46d6-4a36-ba02-7aa2097e9d89\"}}];\n  root.Bokeh.embed.embed_items_notebook(docs_json, render_items);\n  }\n  if (root.Bokeh !== undefined) {\n    embed_document(root);\n  } else {\n    let attempts = 0;\n    const timer = setInterval(function(root) {\n      if (root.Bokeh !== undefined) {\n        clearInterval(timer);\n        embed_document(root);\n      } else {\n        attempts++;\n        if (attempts > 100) {\n          clearInterval(timer);\n          console.log(\"Bokeh: ERROR: Unable to run BokehJS code because BokehJS library is missing\");\n        }\n      }\n    }, 10, root)\n  }\n})(window);",
      "application/vnd.bokehjs_exec.v0+json": ""
     },
     "metadata": {
      "application/vnd.bokehjs_exec.v0+json": {
       "id": "1157"
      }
     },
     "output_type": "display_data"
    }
   ],
   "source": [
    "# update colorschemes\n",
    "PuRd_20 = {20: PuRd[9][:-1]+ PuRd[9][:-1] + PuRd[9][:-5]}\n",
    "PuRd_28 = {28: PuRd[9][:-1]+ PuRd[9][:-1] + PuRd[9][:-1] + PuRd[9][:-5]}\n",
    "\n",
    "\n",
    "# intialize plots to be put in tabs\n",
    "p_type = bokeh_hbar(type_bias_bar_df, 'Type of Hate Bias', \"Number of hate crimes by type of hate bias\", \n",
    "             PuRd, 450, 650)\n",
    "p_target = bokeh_hbar(targeted_group_bar_df, 'Targeted Group', \"Number of hate crimes by targeted group\", \n",
    "            PuRd_28, 450, 650)\n",
    "p_offense = bokeh_hbar(offense_type_bar_df, 'Top Offense Type', \"Number of hate crimes by offense type\", \n",
    "            PuRd_20, 450, 650)            \n",
    "\n",
    "# format in tabs\n",
    "tabs = Tabs(tabs=[\n",
    "                 Panel(child=p_type, title='Type'),\n",
    "                 Panel(child=p_target, title='Targeted group'),\n",
    "                 Panel(child=p_offense, title='Offense type')])\n",
    "\n",
    "show(tabs)"
   ]
  },
  {
   "cell_type": "markdown",
   "metadata": {},
   "source": [
    "# Trending examples"
   ]
  },
  {
   "cell_type": "markdown",
   "metadata": {},
   "source": [
    "### Step 1: Prepare dataframes for the time intervals we want to trend by."
   ]
  },
  {
   "cell_type": "code",
   "execution_count": 10,
   "metadata": {},
   "outputs": [],
   "source": [
    "# prep a dataframe to have one row per date with the count of crimes, and also include year, month\n",
    "df_daily_counts = df['Date of Offense'].value_counts()\n",
    "df_daily_counts = pd.Series(df_daily_counts).reset_index(name='Hate crime count').rename(columns={'index':'Date of Offense'})\n",
    "df_daily_counts['Year'] = pd.to_datetime(df_daily_counts['Date of Offense']).dt.year\n",
    "df_daily_counts['Month'] = pd.to_datetime(df_daily_counts['Date of Offense']).dt.month\n",
    "df_daily_counts['MonthYear'] = pd.to_datetime(df_daily_counts['Date of Offense']).dt.to_period('M')# month_temp_df.head()\n",
    "\n",
    "# df just for month and year trending\n",
    "df_yearly_counts = df_daily_counts.groupby('Year').sum().reset_index()\n",
    "df_monthly_counts = df_daily_counts.groupby('MonthYear').sum().reset_index()"
   ]
  },
  {
   "cell_type": "markdown",
   "metadata": {},
   "source": [
    "### Step 2: Create function to plot trending data in vbars."
   ]
  },
  {
   "cell_type": "code",
   "execution_count": 11,
   "metadata": {},
   "outputs": [],
   "source": [
    "# create function to take in a df, column, title, and colormap to make a trending vbar\n",
    "def bokeh_vbar(df, xcolumn, ycolumn, title, colormap, height, width):\n",
    "    TOOLS = \"hover,save,pan,box_zoom,reset,wheel_zoom,tap\"\n",
    "    p = figure(plot_height=height, plot_width=width,\n",
    "            title=title,\n",
    "            tools=TOOLS,\n",
    "            toolbar_location='right')\n",
    "\n",
    "    p.vbar(x=df[xcolumn], top=df[ycolumn], width=0.75, \n",
    "         color=colormap)\n",
    "\n",
    "    p.xaxis.axis_label = xcolumn\n",
    "    p.yaxis.axis_label = ycolumn\n",
    "    p.select_one(HoverTool).tooltips = [\n",
    "        (xcolumn, '@x'),\n",
    "        ('Number of hate crimes', '@top'),\n",
    "    ]\n",
    "\n",
    "    return p\n"
   ]
  },
  {
   "cell_type": "markdown",
   "metadata": {},
   "source": [
    "Show basic trending vbar by year."
   ]
  },
  {
   "cell_type": "code",
   "execution_count": 12,
   "metadata": {},
   "outputs": [
    {
     "data": {
      "text/html": [
       "\n",
       "  <div class=\"bk-root\" id=\"8b47fea6-3cfc-4fc5-a344-92ed1e2bb8e7\" data-root-id=\"1338\"></div>\n"
      ]
     },
     "metadata": {},
     "output_type": "display_data"
    },
    {
     "data": {
      "application/javascript": "(function(root) {\n  function embed_document(root) {\n  const docs_json = {\"f8c72c4c-70f2-4dba-a7aa-cb14fa36aba8\":{\"defs\":[],\"roots\":{\"references\":[{\"attributes\":{\"below\":[{\"id\":\"1349\"}],\"center\":[{\"id\":\"1352\"},{\"id\":\"1356\"}],\"height\":300,\"left\":[{\"id\":\"1353\"}],\"renderers\":[{\"id\":\"1377\"}],\"title\":{\"id\":\"1339\"},\"toolbar\":{\"id\":\"1365\"},\"x_range\":{\"id\":\"1341\"},\"x_scale\":{\"id\":\"1345\"},\"y_range\":{\"id\":\"1343\"},\"y_scale\":{\"id\":\"1347\"}},\"id\":\"1338\",\"subtype\":\"Figure\",\"type\":\"Plot\"},{\"attributes\":{},\"id\":\"1343\",\"type\":\"DataRange1d\"},{\"attributes\":{\"axis_label\":\"Hate crime count\",\"coordinates\":null,\"formatter\":{\"id\":\"1381\"},\"group\":null,\"major_label_policy\":{\"id\":\"1382\"},\"ticker\":{\"id\":\"1354\"}},\"id\":\"1353\",\"type\":\"LinearAxis\"},{\"attributes\":{},\"id\":\"1381\",\"type\":\"BasicTickFormatter\"},{\"attributes\":{},\"id\":\"1382\",\"type\":\"AllLabels\"},{\"attributes\":{},\"id\":\"1345\",\"type\":\"LinearScale\"},{\"attributes\":{},\"id\":\"1354\",\"type\":\"BasicTicker\"},{\"attributes\":{},\"id\":\"1384\",\"type\":\"BasicTickFormatter\"},{\"attributes\":{\"fill_color\":{\"field\":\"fill_color\"},\"hatch_color\":{\"field\":\"hatch_color\"},\"line_color\":{\"field\":\"line_color\"},\"top\":{\"field\":\"top\"},\"width\":{\"value\":0.75},\"x\":{\"field\":\"x\"}},\"id\":\"1374\",\"type\":\"VBar\"},{\"attributes\":{},\"id\":\"1385\",\"type\":\"AllLabels\"},{\"attributes\":{},\"id\":\"1358\",\"type\":\"SaveTool\"},{\"attributes\":{},\"id\":\"1386\",\"type\":\"UnionRenderers\"},{\"attributes\":{\"callback\":null,\"tooltips\":[[\"Year\",\"@x\"],[\"Number of hate crimes\",\"@top\"]]},\"id\":\"1357\",\"type\":\"HoverTool\"},{\"attributes\":{},\"id\":\"1387\",\"type\":\"Selection\"},{\"attributes\":{\"source\":{\"id\":\"1373\"}},\"id\":\"1378\",\"type\":\"CDSView\"},{\"attributes\":{},\"id\":\"1359\",\"type\":\"PanTool\"},{\"attributes\":{\"axis\":{\"id\":\"1353\"},\"coordinates\":null,\"dimension\":1,\"group\":null,\"ticker\":null},\"id\":\"1356\",\"type\":\"Grid\"},{\"attributes\":{},\"id\":\"1361\",\"type\":\"ResetTool\"},{\"attributes\":{\"axis\":{\"id\":\"1349\"},\"coordinates\":null,\"group\":null,\"ticker\":null},\"id\":\"1352\",\"type\":\"Grid\"},{\"attributes\":{\"fill_alpha\":{\"value\":0.2},\"fill_color\":{\"field\":\"fill_color\"},\"hatch_alpha\":{\"value\":0.2},\"hatch_color\":{\"field\":\"hatch_color\"},\"line_alpha\":{\"value\":0.2},\"line_color\":{\"field\":\"line_color\"},\"top\":{\"field\":\"top\"},\"width\":{\"value\":0.75},\"x\":{\"field\":\"x\"}},\"id\":\"1376\",\"type\":\"VBar\"},{\"attributes\":{\"overlay\":{\"id\":\"1364\"}},\"id\":\"1360\",\"type\":\"BoxZoomTool\"},{\"attributes\":{},\"id\":\"1341\",\"type\":\"DataRange1d\"},{\"attributes\":{\"axis_label\":\"Year\",\"coordinates\":null,\"formatter\":{\"id\":\"1384\"},\"group\":null,\"major_label_policy\":{\"id\":\"1385\"},\"ticker\":{\"id\":\"1350\"}},\"id\":\"1349\",\"type\":\"LinearAxis\"},{\"attributes\":{},\"id\":\"1362\",\"type\":\"WheelZoomTool\"},{\"attributes\":{},\"id\":\"1350\",\"type\":\"BasicTicker\"},{\"attributes\":{\"callback\":null},\"id\":\"1363\",\"type\":\"TapTool\"},{\"attributes\":{\"bottom_units\":\"screen\",\"coordinates\":null,\"fill_alpha\":0.5,\"fill_color\":\"lightgrey\",\"group\":null,\"left_units\":\"screen\",\"level\":\"overlay\",\"line_alpha\":1.0,\"line_color\":\"black\",\"line_dash\":[4,4],\"line_width\":2,\"right_units\":\"screen\",\"syncable\":false,\"top_units\":\"screen\"},\"id\":\"1364\",\"type\":\"BoxAnnotation\"},{\"attributes\":{\"coordinates\":null,\"group\":null,\"text\":\"Number of hate crimes per year\"},\"id\":\"1339\",\"type\":\"Title\"},{\"attributes\":{\"tools\":[{\"id\":\"1357\"},{\"id\":\"1358\"},{\"id\":\"1359\"},{\"id\":\"1360\"},{\"id\":\"1361\"},{\"id\":\"1362\"},{\"id\":\"1363\"}]},\"id\":\"1365\",\"type\":\"Toolbar\"},{\"attributes\":{},\"id\":\"1347\",\"type\":\"LinearScale\"},{\"attributes\":{\"coordinates\":null,\"data_source\":{\"id\":\"1373\"},\"glyph\":{\"id\":\"1374\"},\"group\":null,\"hover_glyph\":null,\"muted_glyph\":{\"id\":\"1376\"},\"nonselection_glyph\":{\"id\":\"1375\"},\"view\":{\"id\":\"1378\"}},\"id\":\"1377\",\"type\":\"GlyphRenderer\"},{\"attributes\":{\"data\":{\"fill_color\":[\"#91003f\",\"#ce1256\",\"#e7298a\",\"#df65b0\",\"#c994c7\",\"#d4b9da\",\"#e7e1ef\",\"#67001f\",\"#980043\",\"#ce1256\"],\"hatch_color\":[\"#91003f\",\"#ce1256\",\"#e7298a\",\"#df65b0\",\"#c994c7\",\"#d4b9da\",\"#e7e1ef\",\"#67001f\",\"#980043\",\"#ce1256\"],\"line_color\":[\"#91003f\",\"#ce1256\",\"#e7298a\",\"#df65b0\",\"#c994c7\",\"#d4b9da\",\"#e7e1ef\",\"#67001f\",\"#980043\",\"#ce1256\"],\"top\":[79,68,70,66,107,177,204,203,132,149],\"x\":[2012,2013,2014,2015,2016,2017,2018,2019,2020,2021]},\"selected\":{\"id\":\"1387\"},\"selection_policy\":{\"id\":\"1386\"}},\"id\":\"1373\",\"type\":\"ColumnDataSource\"},{\"attributes\":{\"fill_alpha\":{\"value\":0.1},\"fill_color\":{\"field\":\"fill_color\"},\"hatch_alpha\":{\"value\":0.1},\"hatch_color\":{\"field\":\"hatch_color\"},\"line_alpha\":{\"value\":0.1},\"line_color\":{\"field\":\"line_color\"},\"top\":{\"field\":\"top\"},\"width\":{\"value\":0.75},\"x\":{\"field\":\"x\"}},\"id\":\"1375\",\"type\":\"VBar\"}],\"root_ids\":[\"1338\"]},\"title\":\"Bokeh Application\",\"version\":\"2.4.3\"}};\n  const render_items = [{\"docid\":\"f8c72c4c-70f2-4dba-a7aa-cb14fa36aba8\",\"root_ids\":[\"1338\"],\"roots\":{\"1338\":\"8b47fea6-3cfc-4fc5-a344-92ed1e2bb8e7\"}}];\n  root.Bokeh.embed.embed_items_notebook(docs_json, render_items);\n  }\n  if (root.Bokeh !== undefined) {\n    embed_document(root);\n  } else {\n    let attempts = 0;\n    const timer = setInterval(function(root) {\n      if (root.Bokeh !== undefined) {\n        clearInterval(timer);\n        embed_document(root);\n      } else {\n        attempts++;\n        if (attempts > 100) {\n          clearInterval(timer);\n          console.log(\"Bokeh: ERROR: Unable to run BokehJS code because BokehJS library is missing\");\n        }\n      }\n    }, 10, root)\n  }\n})(window);",
      "application/vnd.bokehjs_exec.v0+json": ""
     },
     "metadata": {
      "application/vnd.bokehjs_exec.v0+json": {
       "id": "1338"
      }
     },
     "output_type": "display_data"
    }
   ],
   "source": [
    "# show yearly hate crime counts\n",
    "p = bokeh_vbar(df_yearly_counts, 'Year', 'Hate crime count', 'Number of hate crimes per year',PuRd[8][:-1]+PuRd[9][:-6], 300, 600)\n",
    "show(p)"
   ]
  },
  {
   "cell_type": "markdown",
   "metadata": {},
   "source": [
    "### Step 3: Create function to trend data in a line."
   ]
  },
  {
   "cell_type": "code",
   "execution_count": 13,
   "metadata": {},
   "outputs": [],
   "source": [
    "# create function for line graph\n",
    "def bokeh_line(df, xcolumn, ycolumn, title, line_color, line_width, xaxis_label, height, width):\n",
    "    TOOLS = \"hover,save,pan,box_zoom,reset,wheel_zoom,tap\"\n",
    "    p = figure(plot_height=height, plot_width=width,\n",
    "        title=title,\n",
    "        tools=TOOLS, x_axis_type=\"datetime\",\n",
    "        toolbar_location='right')\n",
    "\n",
    "    p.line(x=df[xcolumn], y=df[ycolumn],line_color=line_color,\n",
    "            line_width = line_width)\n",
    "\n",
    "    p.xaxis.axis_label = xaxis_label\n",
    "    p.yaxis.axis_label = ycolumn\n",
    "    p.select_one(HoverTool).tooltips = [\n",
    "        ('Month', '@x{%B %Y}'),\n",
    "        ('Number of hate crimes', '@y')]\n",
    "    p.select_one(HoverTool).formatters={ '@x': 'datetime'}\n",
    "\n",
    "    return p"
   ]
  },
  {
   "cell_type": "markdown",
   "metadata": {},
   "source": [
    "Show trending based on month."
   ]
  },
  {
   "cell_type": "code",
   "execution_count": 14,
   "metadata": {},
   "outputs": [
    {
     "data": {
      "text/html": [
       "\n",
       "  <div class=\"bk-root\" id=\"12601281-6c41-4e72-908b-42daaaa2622b\" data-root-id=\"1479\"></div>\n"
      ]
     },
     "metadata": {},
     "output_type": "display_data"
    },
    {
     "data": {
      "application/javascript": "(function(root) {\n  function embed_document(root) {\n  const docs_json = {\"75433aac-d07b-4c7f-8594-125d8a30c687\":{\"defs\":[],\"roots\":{\"references\":[{\"attributes\":{\"below\":[{\"id\":\"1490\"}],\"center\":[{\"id\":\"1493\"},{\"id\":\"1497\"}],\"height\":300,\"left\":[{\"id\":\"1494\"}],\"renderers\":[{\"id\":\"1518\"}],\"title\":{\"id\":\"1480\"},\"toolbar\":{\"id\":\"1506\"},\"width\":700,\"x_range\":{\"id\":\"1482\"},\"x_scale\":{\"id\":\"1486\"},\"y_range\":{\"id\":\"1484\"},\"y_scale\":{\"id\":\"1488\"}},\"id\":\"1479\",\"subtype\":\"Figure\",\"type\":\"Plot\"},{\"attributes\":{\"coordinates\":null,\"group\":null,\"text\":\"Number of hate crimes per month\"},\"id\":\"1480\",\"type\":\"Title\"},{\"attributes\":{},\"id\":\"1488\",\"type\":\"LinearScale\"},{\"attributes\":{},\"id\":\"1527\",\"type\":\"UnionRenderers\"},{\"attributes\":{\"mantissas\":[1,2,5],\"max_interval\":500.0,\"num_minor_ticks\":0},\"id\":\"1530\",\"type\":\"AdaptiveTicker\"},{\"attributes\":{\"months\":[0,2,4,6,8,10]},\"id\":\"1538\",\"type\":\"MonthsTicker\"},{\"attributes\":{},\"id\":\"1503\",\"type\":\"WheelZoomTool\"},{\"attributes\":{},\"id\":\"1500\",\"type\":\"PanTool\"},{\"attributes\":{\"axis_label\":\"Date\",\"coordinates\":null,\"formatter\":{\"id\":\"1525\"},\"group\":null,\"major_label_policy\":{\"id\":\"1526\"},\"ticker\":{\"id\":\"1491\"}},\"id\":\"1490\",\"type\":\"DatetimeAxis\"},{\"attributes\":{},\"id\":\"1499\",\"type\":\"SaveTool\"},{\"attributes\":{},\"id\":\"1502\",\"type\":\"ResetTool\"},{\"attributes\":{},\"id\":\"1523\",\"type\":\"AllLabels\"},{\"attributes\":{\"axis_label\":\"Hate crime count\",\"coordinates\":null,\"formatter\":{\"id\":\"1522\"},\"group\":null,\"major_label_policy\":{\"id\":\"1523\"},\"ticker\":{\"id\":\"1495\"}},\"id\":\"1494\",\"type\":\"LinearAxis\"},{\"attributes\":{},\"id\":\"1525\",\"type\":\"DatetimeTickFormatter\"},{\"attributes\":{\"callback\":null,\"formatters\":{\"@x\":\"datetime\"},\"tooltips\":[[\"Month\",\"@x{%B %Y}\"],[\"Number of hate crimes\",\"@y\"]]},\"id\":\"1498\",\"type\":\"HoverTool\"},{\"attributes\":{\"callback\":null},\"id\":\"1504\",\"type\":\"TapTool\"},{\"attributes\":{},\"id\":\"1522\",\"type\":\"BasicTickFormatter\"},{\"attributes\":{\"coordinates\":null,\"data_source\":{\"id\":\"1514\"},\"glyph\":{\"id\":\"1515\"},\"group\":null,\"hover_glyph\":null,\"muted_glyph\":{\"id\":\"1517\"},\"nonselection_glyph\":{\"id\":\"1516\"},\"view\":{\"id\":\"1519\"}},\"id\":\"1518\",\"type\":\"GlyphRenderer\"},{\"attributes\":{\"tools\":[{\"id\":\"1498\"},{\"id\":\"1499\"},{\"id\":\"1500\"},{\"id\":\"1501\"},{\"id\":\"1502\"},{\"id\":\"1503\"},{\"id\":\"1504\"}]},\"id\":\"1506\",\"type\":\"Toolbar\"},{\"attributes\":{\"data\":{\"x\":[1325376000000.0,1328054400000.0,1330560000000.0,1333238400000.0,1335830400000.0,1338508800000.0,1341100800000.0,1343779200000.0,1346457600000.0,1349049600000.0,1351728000000.0,1354320000000.0,1356998400000.0,1359676800000.0,1362096000000.0,1364774400000.0,1367366400000.0,1370044800000.0,1372636800000.0,1375315200000.0,1377993600000.0,1380585600000.0,1383264000000.0,1385856000000.0,1388534400000.0,1391212800000.0,1393632000000.0,1396310400000.0,1398902400000.0,1401580800000.0,1404172800000.0,1406851200000.0,1409529600000.0,1412121600000.0,1414800000000.0,1420070400000.0,1422748800000.0,1425168000000.0,1427846400000.0,1430438400000.0,1433116800000.0,1435708800000.0,1438387200000.0,1441065600000.0,1443657600000.0,1446336000000.0,1448928000000.0,1451606400000.0,1454284800000.0,1456790400000.0,1459468800000.0,1462060800000.0,1464739200000.0,1467331200000.0,1470009600000.0,1472688000000.0,1475280000000.0,1477958400000.0,1480550400000.0,1483228800000.0,1485907200000.0,1488326400000.0,1491004800000.0,1493596800000.0,1496275200000.0,1498867200000.0,1501545600000.0,1504224000000.0,1506816000000.0,1509494400000.0,1512086400000.0,1514764800000.0,1517443200000.0,1519862400000.0,1522540800000.0,1525132800000.0,1527811200000.0,1530403200000.0,1533081600000.0,1535760000000.0,1538352000000.0,1541030400000.0,1543622400000.0,1546300800000.0,1548979200000.0,1551398400000.0,1554076800000.0,1556668800000.0,1559347200000.0,1561939200000.0,1564617600000.0,1567296000000.0,1569888000000.0,1572566400000.0,1575158400000.0,1577836800000.0,1580515200000.0,1583020800000.0,1585699200000.0,1588291200000.0,1590969600000.0,1593561600000.0,1596240000000.0,1598918400000.0,1601510400000.0,1604188800000.0,1606780800000.0,1609459200000.0,1612137600000.0,1614556800000.0,1617235200000.0,1619827200000.0,1622505600000.0,1625097600000.0,1627776000000.0,1630454400000.0,1633046400000.0,1635724800000.0,1638316800000.0],\"y\":[7,5,8,7,4,11,5,15,3,8,3,3,7,5,7,4,4,12,10,5,5,5,1,3,2,11,3,6,6,6,10,11,5,4,6,4,4,6,3,4,7,5,4,9,8,6,6,7,4,8,12,10,15,11,7,6,12,11,4,8,11,13,12,10,17,13,16,19,21,22,15,9,9,14,15,10,25,17,25,21,27,18,14,10,15,28,21,17,19,12,20,24,23,8,6,12,11,10,4,6,11,12,14,16,17,9,10,11,2,14,19,14,14,15,15,15,10,11,9]},\"selected\":{\"id\":\"1528\"},\"selection_policy\":{\"id\":\"1527\"}},\"id\":\"1514\",\"type\":\"ColumnDataSource\"},{\"attributes\":{\"days\":[1,8,15,22]},\"id\":\"1535\",\"type\":\"DaysTicker\"},{\"attributes\":{},\"id\":\"1482\",\"type\":\"DataRange1d\"},{\"attributes\":{},\"id\":\"1484\",\"type\":\"DataRange1d\"},{\"attributes\":{},\"id\":\"1526\",\"type\":\"AllLabels\"},{\"attributes\":{\"bottom_units\":\"screen\",\"coordinates\":null,\"fill_alpha\":0.5,\"fill_color\":\"lightgrey\",\"group\":null,\"left_units\":\"screen\",\"level\":\"overlay\",\"line_alpha\":1.0,\"line_color\":\"black\",\"line_dash\":[4,4],\"line_width\":2,\"right_units\":\"screen\",\"syncable\":false,\"top_units\":\"screen\"},\"id\":\"1505\",\"type\":\"BoxAnnotation\"},{\"attributes\":{\"base\":24,\"mantissas\":[1,2,4,6,8,12],\"max_interval\":43200000.0,\"min_interval\":3600000.0,\"num_minor_ticks\":0},\"id\":\"1532\",\"type\":\"AdaptiveTicker\"},{\"attributes\":{\"days\":[1,15]},\"id\":\"1536\",\"type\":\"DaysTicker\"},{\"attributes\":{\"line_alpha\":0.1,\"line_color\":\"#872657\",\"line_width\":2.5,\"x\":{\"field\":\"x\"},\"y\":{\"field\":\"y\"}},\"id\":\"1516\",\"type\":\"Line\"},{\"attributes\":{},\"id\":\"1495\",\"type\":\"BasicTicker\"},{\"attributes\":{\"num_minor_ticks\":5,\"tickers\":[{\"id\":\"1530\"},{\"id\":\"1531\"},{\"id\":\"1532\"},{\"id\":\"1533\"},{\"id\":\"1534\"},{\"id\":\"1535\"},{\"id\":\"1536\"},{\"id\":\"1537\"},{\"id\":\"1538\"},{\"id\":\"1539\"},{\"id\":\"1540\"},{\"id\":\"1541\"}]},\"id\":\"1491\",\"type\":\"DatetimeTicker\"},{\"attributes\":{\"months\":[0,1,2,3,4,5,6,7,8,9,10,11]},\"id\":\"1537\",\"type\":\"MonthsTicker\"},{\"attributes\":{\"months\":[0,4,8]},\"id\":\"1539\",\"type\":\"MonthsTicker\"},{\"attributes\":{\"overlay\":{\"id\":\"1505\"}},\"id\":\"1501\",\"type\":\"BoxZoomTool\"},{\"attributes\":{},\"id\":\"1528\",\"type\":\"Selection\"},{\"attributes\":{\"months\":[0,6]},\"id\":\"1540\",\"type\":\"MonthsTicker\"},{\"attributes\":{\"base\":60,\"mantissas\":[1,2,5,10,15,20,30],\"max_interval\":1800000.0,\"min_interval\":1000.0,\"num_minor_ticks\":0},\"id\":\"1531\",\"type\":\"AdaptiveTicker\"},{\"attributes\":{\"days\":[1,4,7,10,13,16,19,22,25,28]},\"id\":\"1534\",\"type\":\"DaysTicker\"},{\"attributes\":{\"line_color\":\"#872657\",\"line_width\":2.5,\"x\":{\"field\":\"x\"},\"y\":{\"field\":\"y\"}},\"id\":\"1515\",\"type\":\"Line\"},{\"attributes\":{\"days\":[1,2,3,4,5,6,7,8,9,10,11,12,13,14,15,16,17,18,19,20,21,22,23,24,25,26,27,28,29,30,31]},\"id\":\"1533\",\"type\":\"DaysTicker\"},{\"attributes\":{},\"id\":\"1541\",\"type\":\"YearsTicker\"},{\"attributes\":{\"line_alpha\":0.2,\"line_color\":\"#872657\",\"line_width\":2.5,\"x\":{\"field\":\"x\"},\"y\":{\"field\":\"y\"}},\"id\":\"1517\",\"type\":\"Line\"},{\"attributes\":{\"axis\":{\"id\":\"1494\"},\"coordinates\":null,\"dimension\":1,\"group\":null,\"ticker\":null},\"id\":\"1497\",\"type\":\"Grid\"},{\"attributes\":{\"source\":{\"id\":\"1514\"}},\"id\":\"1519\",\"type\":\"CDSView\"},{\"attributes\":{},\"id\":\"1486\",\"type\":\"LinearScale\"},{\"attributes\":{\"axis\":{\"id\":\"1490\"},\"coordinates\":null,\"group\":null,\"ticker\":null},\"id\":\"1493\",\"type\":\"Grid\"}],\"root_ids\":[\"1479\"]},\"title\":\"Bokeh Application\",\"version\":\"2.4.3\"}};\n  const render_items = [{\"docid\":\"75433aac-d07b-4c7f-8594-125d8a30c687\",\"root_ids\":[\"1479\"],\"roots\":{\"1479\":\"12601281-6c41-4e72-908b-42daaaa2622b\"}}];\n  root.Bokeh.embed.embed_items_notebook(docs_json, render_items);\n  }\n  if (root.Bokeh !== undefined) {\n    embed_document(root);\n  } else {\n    let attempts = 0;\n    const timer = setInterval(function(root) {\n      if (root.Bokeh !== undefined) {\n        clearInterval(timer);\n        embed_document(root);\n      } else {\n        attempts++;\n        if (attempts > 100) {\n          clearInterval(timer);\n          console.log(\"Bokeh: ERROR: Unable to run BokehJS code because BokehJS library is missing\");\n        }\n      }\n    }, 10, root)\n  }\n})(window);",
      "application/vnd.bokehjs_exec.v0+json": ""
     },
     "metadata": {
      "application/vnd.bokehjs_exec.v0+json": {
       "id": "1479"
      }
     },
     "output_type": "display_data"
    }
   ],
   "source": [
    "# show monthly trending\n",
    "p = bokeh_line(df_monthly_counts, 'MonthYear', 'Hate crime count', 'Number of hate crimes per month',\n",
    "            \"#872657\", 2.5, 'Date', 300, 700)\n",
    "show(p)"
   ]
  },
  {
   "cell_type": "markdown",
   "metadata": {},
   "source": [
    "# Trending stacked bars"
   ]
  },
  {
   "cell_type": "markdown",
   "metadata": {},
   "source": [
    "### Step 1: create a function to prepare a new df to store one row per timeframe with the category counts in each column, and a list of the unique values for that column"
   ]
  },
  {
   "cell_type": "code",
   "execution_count": 15,
   "metadata": {},
   "outputs": [],
   "source": [
    "# function for all preproccesing for stacked bar trending graph\n",
    "def bokeh_vbar_stack_prep(df, time_column, cat_column, tot_column):\n",
    "    # prep the df to be one row per year with the category counts in each column\n",
    "    stacked_df = df.groupby([time_column, cat_column]).size().unstack().reset_index()\n",
    "    # find each category value\n",
    "    cat_values = df[cat_column].unique()\n",
    "    # add total count for hover tool\n",
    "    stacked_df[tot_column] = stacked_df.drop(time_column, axis=1).sum(axis=1)\n",
    "    # replace NaNs with 0s\n",
    "    stacked_df = stacked_df.fillna(0)\n",
    "\n",
    "    # return the prepares df and the unique values for the vbar\n",
    "    return stacked_df, cat_values"
   ]
  },
  {
   "cell_type": "markdown",
   "metadata": {},
   "source": [
    "### Step 2: create a function to plot the stacked bar trending graph"
   ]
  },
  {
   "cell_type": "code",
   "execution_count": 16,
   "metadata": {},
   "outputs": [],
   "source": [
    "# function to plot the vbar_stack\n",
    "def bokeh_vbar_stack(stacked_df, cat_values, time_column, title, xaxis_label, yaxis_label, height, width):\n",
    "    TOOLS = \"hover,save,pan,box_zoom,reset,wheel_zoom,tap\"\n",
    "    source = ColumnDataSource(data=stacked_df)\n",
    "    p = figure(plot_width=width, plot_height=height, title=title,\n",
    "        toolbar_location='above', tools=TOOLS, tooltips=\"$name @{Report Year}: @$name\")\n",
    "\n",
    "    colors = brewer['PuRd'][len(cat_values)]\n",
    "\n",
    "    p.vbar_stack(cat_values, x=time_column, width=0.9,  source=source, color=colors,\n",
    "                legend_label=cat_values.tolist())\n",
    "\n",
    "    p.xaxis.axis_label = xaxis_label\n",
    "    p.yaxis.axis_label = yaxis_label\n",
    "    p.legend.location = \"top_left\"\n",
    "    p.legend.orientation = \"vertical\"\n",
    "    p.legend.click_policy='hide'\n",
    "\n",
    "    p.add_layout(p.legend[0], 'right')\n",
    "\n",
    "    return p"
   ]
  },
  {
   "cell_type": "markdown",
   "metadata": {},
   "source": [
    "Plot the stacked bar."
   ]
  },
  {
   "cell_type": "code",
   "execution_count": 17,
   "metadata": {},
   "outputs": [
    {
     "data": {
      "text/html": [
       "\n",
       "  <div class=\"bk-root\" id=\"4e1fc658-d9d2-4f09-ae75-35c03520e79b\" data-root-id=\"1737\"></div>\n"
      ]
     },
     "metadata": {},
     "output_type": "display_data"
    },
    {
     "data": {
      "application/javascript": "(function(root) {\n  function embed_document(root) {\n  const docs_json = {\"858abd42-b38e-42e4-bc38-b9e13fe979e3\":{\"defs\":[],\"roots\":{\"references\":[{\"attributes\":{\"below\":[{\"id\":\"1748\"}],\"center\":[{\"id\":\"1751\"},{\"id\":\"1755\"},{\"id\":\"1806\"}],\"height\":450,\"left\":[{\"id\":\"1752\"}],\"renderers\":[{\"id\":\"1794\"},{\"id\":\"1812\"},{\"id\":\"1829\"},{\"id\":\"1846\"},{\"id\":\"1863\"},{\"id\":\"1880\"},{\"id\":\"1897\"},{\"id\":\"1914\"},{\"id\":\"1931\"}],\"right\":[{\"id\":\"1806\"}],\"title\":{\"id\":\"1738\"},\"toolbar\":{\"id\":\"1764\"},\"toolbar_location\":\"above\",\"width\":1000,\"x_range\":{\"id\":\"1740\"},\"x_scale\":{\"id\":\"1744\"},\"y_range\":{\"id\":\"1742\"},\"y_scale\":{\"id\":\"1746\"}},\"id\":\"1737\",\"subtype\":\"Figure\",\"type\":\"Plot\"},{\"attributes\":{\"bottom\":{\"expr\":{\"id\":\"1782\"}},\"fill_alpha\":{\"value\":0.2},\"fill_color\":{\"value\":\"#c994c7\"},\"hatch_alpha\":{\"value\":0.2},\"hatch_color\":{\"value\":\"#c994c7\"},\"line_alpha\":{\"value\":0.2},\"line_color\":{\"value\":\"#c994c7\"},\"top\":{\"expr\":{\"id\":\"1783\"}},\"width\":{\"value\":0.9},\"x\":{\"field\":\"Report Year\"}},\"id\":\"1879\",\"type\":\"VBar\"},{\"attributes\":{},\"id\":\"1749\",\"type\":\"BasicTicker\"},{\"attributes\":{\"source\":{\"id\":\"1736\"}},\"id\":\"1915\",\"type\":\"CDSView\"},{\"attributes\":{\"label\":{\"value\":\"Ethnicity/National Origin\"},\"renderers\":[{\"id\":\"1829\"}]},\"id\":\"1841\",\"type\":\"LegendItem\"},{\"attributes\":{\"label\":{\"value\":\"Homelessness\"},\"renderers\":[{\"id\":\"1914\"}]},\"id\":\"1926\",\"type\":\"LegendItem\"},{\"attributes\":{\"bottom\":{\"expr\":{\"id\":\"1786\"}},\"fill_alpha\":{\"value\":0.2},\"fill_color\":{\"value\":\"#e7e1ef\"},\"hatch_alpha\":{\"value\":0.2},\"hatch_color\":{\"value\":\"#e7e1ef\"},\"line_alpha\":{\"value\":0.2},\"line_color\":{\"value\":\"#e7e1ef\"},\"top\":{\"expr\":{\"id\":\"1787\"}},\"width\":{\"value\":0.9},\"x\":{\"field\":\"Report Year\"}},\"id\":\"1913\",\"type\":\"VBar\"},{\"attributes\":{\"source\":{\"id\":\"1736\"}},\"id\":\"1830\",\"type\":\"CDSView\"},{\"attributes\":{\"bottom\":{\"expr\":{\"id\":\"1786\"}},\"fill_color\":{\"value\":\"#e7e1ef\"},\"hatch_color\":{\"value\":\"#e7e1ef\"},\"line_color\":{\"value\":\"#e7e1ef\"},\"top\":{\"expr\":{\"id\":\"1787\"}},\"width\":{\"value\":0.9},\"x\":{\"field\":\"Report Year\"}},\"id\":\"1911\",\"type\":\"VBar\"},{\"attributes\":{\"coordinates\":null,\"data_source\":{\"id\":\"1736\"},\"glyph\":{\"id\":\"1911\"},\"group\":null,\"hover_glyph\":null,\"muted_glyph\":{\"id\":\"1913\"},\"name\":\"Homelessness\",\"nonselection_glyph\":{\"id\":\"1912\"},\"view\":{\"id\":\"1915\"}},\"id\":\"1914\",\"type\":\"GlyphRenderer\"},{\"attributes\":{\"bottom\":{\"expr\":{\"id\":\"1776\"}},\"fill_alpha\":{\"value\":0.2},\"fill_color\":{\"value\":\"#ce1256\"},\"hatch_alpha\":{\"value\":0.2},\"hatch_color\":{\"value\":\"#ce1256\"},\"line_alpha\":{\"value\":0.2},\"line_color\":{\"value\":\"#ce1256\"},\"top\":{\"expr\":{\"id\":\"1777\"}},\"width\":{\"value\":0.9},\"x\":{\"field\":\"Report Year\"}},\"id\":\"1828\",\"type\":\"VBar\"},{\"attributes\":{\"bottom\":{\"expr\":{\"id\":\"1776\"}},\"fill_alpha\":{\"value\":0.1},\"fill_color\":{\"value\":\"#ce1256\"},\"hatch_alpha\":{\"value\":0.1},\"hatch_color\":{\"value\":\"#ce1256\"},\"line_alpha\":{\"value\":0.1},\"line_color\":{\"value\":\"#ce1256\"},\"top\":{\"expr\":{\"id\":\"1777\"}},\"width\":{\"value\":0.9},\"x\":{\"field\":\"Report Year\"}},\"id\":\"1827\",\"type\":\"VBar\"},{\"attributes\":{\"coordinates\":null,\"data_source\":{\"id\":\"1736\"},\"glyph\":{\"id\":\"1826\"},\"group\":null,\"hover_glyph\":null,\"muted_glyph\":{\"id\":\"1828\"},\"name\":\"Ethnicity/National Origin\",\"nonselection_glyph\":{\"id\":\"1827\"},\"view\":{\"id\":\"1830\"}},\"id\":\"1829\",\"type\":\"GlyphRenderer\"},{\"attributes\":{\"source\":{\"id\":\"1736\"}},\"id\":\"1847\",\"type\":\"CDSView\"},{\"attributes\":{\"bottom\":{\"expr\":{\"id\":\"1786\"}},\"fill_alpha\":{\"value\":0.1},\"fill_color\":{\"value\":\"#e7e1ef\"},\"hatch_alpha\":{\"value\":0.1},\"hatch_color\":{\"value\":\"#e7e1ef\"},\"line_alpha\":{\"value\":0.1},\"line_color\":{\"value\":\"#e7e1ef\"},\"top\":{\"expr\":{\"id\":\"1787\"}},\"width\":{\"value\":0.9},\"x\":{\"field\":\"Report Year\"}},\"id\":\"1912\",\"type\":\"VBar\"},{\"attributes\":{\"label\":{\"value\":\"Gender Identity/Expression\"},\"renderers\":[{\"id\":\"1846\"}]},\"id\":\"1858\",\"type\":\"LegendItem\"},{\"attributes\":{\"bottom\":{\"expr\":{\"id\":\"1778\"}},\"fill_alpha\":{\"value\":0.2},\"fill_color\":{\"value\":\"#e7298a\"},\"hatch_alpha\":{\"value\":0.2},\"hatch_color\":{\"value\":\"#e7298a\"},\"line_alpha\":{\"value\":0.2},\"line_color\":{\"value\":\"#e7298a\"},\"top\":{\"expr\":{\"id\":\"1779\"}},\"width\":{\"value\":0.9},\"x\":{\"field\":\"Report Year\"}},\"id\":\"1845\",\"type\":\"VBar\"},{\"attributes\":{\"source\":{\"id\":\"1736\"}},\"id\":\"1932\",\"type\":\"CDSView\"},{\"attributes\":{\"coordinates\":null,\"group\":null,\"text\":\"Hate crime counts per type over year\"},\"id\":\"1738\",\"type\":\"Title\"},{\"attributes\":{},\"id\":\"1742\",\"type\":\"DataRange1d\"},{\"attributes\":{\"bottom\":{\"expr\":{\"id\":\"1788\"}},\"fill_alpha\":{\"value\":0.2},\"fill_color\":{\"value\":\"#f7f4f9\"},\"hatch_alpha\":{\"value\":0.2},\"hatch_color\":{\"value\":\"#f7f4f9\"},\"line_alpha\":{\"value\":0.2},\"line_color\":{\"value\":\"#f7f4f9\"},\"top\":{\"expr\":{\"id\":\"1789\"}},\"width\":{\"value\":0.9},\"x\":{\"field\":\"Report Year\"}},\"id\":\"1930\",\"type\":\"VBar\"},{\"attributes\":{},\"id\":\"1746\",\"type\":\"LinearScale\"},{\"attributes\":{\"bottom\":{\"expr\":{\"id\":\"1778\"}},\"fill_color\":{\"value\":\"#e7298a\"},\"hatch_color\":{\"value\":\"#e7298a\"},\"line_color\":{\"value\":\"#e7298a\"},\"top\":{\"expr\":{\"id\":\"1779\"}},\"width\":{\"value\":0.9},\"x\":{\"field\":\"Report Year\"}},\"id\":\"1843\",\"type\":\"VBar\"},{\"attributes\":{\"coordinates\":null,\"data_source\":{\"id\":\"1736\"},\"glyph\":{\"id\":\"1843\"},\"group\":null,\"hover_glyph\":null,\"muted_glyph\":{\"id\":\"1845\"},\"name\":\"Gender Identity/Expression\",\"nonselection_glyph\":{\"id\":\"1844\"},\"view\":{\"id\":\"1847\"}},\"id\":\"1846\",\"type\":\"GlyphRenderer\"},{\"attributes\":{\"bottom\":{\"expr\":{\"id\":\"1788\"}},\"fill_color\":{\"value\":\"#f7f4f9\"},\"hatch_color\":{\"value\":\"#f7f4f9\"},\"line_color\":{\"value\":\"#f7f4f9\"},\"top\":{\"expr\":{\"id\":\"1789\"}},\"width\":{\"value\":0.9},\"x\":{\"field\":\"Report Year\"}},\"id\":\"1928\",\"type\":\"VBar\"},{\"attributes\":{\"coordinates\":null,\"data_source\":{\"id\":\"1736\"},\"glyph\":{\"id\":\"1928\"},\"group\":null,\"hover_glyph\":null,\"muted_glyph\":{\"id\":\"1930\"},\"name\":\"Sex/Gender\",\"nonselection_glyph\":{\"id\":\"1929\"},\"view\":{\"id\":\"1932\"}},\"id\":\"1931\",\"type\":\"GlyphRenderer\"},{\"attributes\":{},\"id\":\"1753\",\"type\":\"BasicTicker\"},{\"attributes\":{\"label\":{\"value\":\"Sex/Gender\"},\"renderers\":[{\"id\":\"1931\"}]},\"id\":\"1943\",\"type\":\"LegendItem\"},{\"attributes\":{\"bottom\":{\"expr\":{\"id\":\"1778\"}},\"fill_alpha\":{\"value\":0.1},\"fill_color\":{\"value\":\"#e7298a\"},\"hatch_alpha\":{\"value\":0.1},\"hatch_color\":{\"value\":\"#e7298a\"},\"line_alpha\":{\"value\":0.1},\"line_color\":{\"value\":\"#e7298a\"},\"top\":{\"expr\":{\"id\":\"1779\"}},\"width\":{\"value\":0.9},\"x\":{\"field\":\"Report Year\"}},\"id\":\"1844\",\"type\":\"VBar\"},{\"attributes\":{\"source\":{\"id\":\"1736\"}},\"id\":\"1898\",\"type\":\"CDSView\"},{\"attributes\":{\"source\":{\"id\":\"1736\"}},\"id\":\"1864\",\"type\":\"CDSView\"},{\"attributes\":{\"bottom\":{\"expr\":{\"id\":\"1788\"}},\"fill_alpha\":{\"value\":0.1},\"fill_color\":{\"value\":\"#f7f4f9\"},\"hatch_alpha\":{\"value\":0.1},\"hatch_color\":{\"value\":\"#f7f4f9\"},\"line_alpha\":{\"value\":0.1},\"line_color\":{\"value\":\"#f7f4f9\"},\"top\":{\"expr\":{\"id\":\"1789\"}},\"width\":{\"value\":0.9},\"x\":{\"field\":\"Report Year\"}},\"id\":\"1929\",\"type\":\"VBar\"},{\"attributes\":{\"fields\":[\"Sexual Orientation\"]},\"id\":\"1774\",\"type\":\"Stack\"},{\"attributes\":{\"fields\":[\"Sexual Orientation\",\"Race\"]},\"id\":\"1776\",\"type\":\"Stack\"},{\"attributes\":{\"bottom\":{\"expr\":{\"id\":\"1780\"}},\"fill_alpha\":{\"value\":0.2},\"fill_color\":{\"value\":\"#df65b0\"},\"hatch_alpha\":{\"value\":0.2},\"hatch_color\":{\"value\":\"#df65b0\"},\"line_alpha\":{\"value\":0.2},\"line_color\":{\"value\":\"#df65b0\"},\"top\":{\"expr\":{\"id\":\"1781\"}},\"width\":{\"value\":0.9},\"x\":{\"field\":\"Report Year\"}},\"id\":\"1862\",\"type\":\"VBar\"},{\"attributes\":{\"bottom\":{\"expr\":{\"id\":\"1780\"}},\"fill_color\":{\"value\":\"#df65b0\"},\"hatch_color\":{\"value\":\"#df65b0\"},\"line_color\":{\"value\":\"#df65b0\"},\"top\":{\"expr\":{\"id\":\"1781\"}},\"width\":{\"value\":0.9},\"x\":{\"field\":\"Report Year\"}},\"id\":\"1860\",\"type\":\"VBar\"},{\"attributes\":{\"coordinates\":null,\"data_source\":{\"id\":\"1736\"},\"glyph\":{\"id\":\"1860\"},\"group\":null,\"hover_glyph\":null,\"muted_glyph\":{\"id\":\"1862\"},\"name\":\"Religion\",\"nonselection_glyph\":{\"id\":\"1861\"},\"view\":{\"id\":\"1864\"}},\"id\":\"1863\",\"type\":\"GlyphRenderer\"},{\"attributes\":{\"bottom\":{\"expr\":{\"id\":\"1772\"}},\"fill_alpha\":{\"value\":0.1},\"fill_color\":{\"value\":\"#67001f\"},\"hatch_alpha\":{\"value\":0.1},\"hatch_color\":{\"value\":\"#67001f\"},\"line_alpha\":{\"value\":0.1},\"line_color\":{\"value\":\"#67001f\"},\"top\":{\"expr\":{\"id\":\"1773\"}},\"width\":{\"value\":0.9},\"x\":{\"field\":\"Report Year\"}},\"id\":\"1792\",\"type\":\"VBar\"},{\"attributes\":{\"bottom\":{\"expr\":{\"id\":\"1780\"}},\"fill_alpha\":{\"value\":0.1},\"fill_color\":{\"value\":\"#df65b0\"},\"hatch_alpha\":{\"value\":0.1},\"hatch_color\":{\"value\":\"#df65b0\"},\"line_alpha\":{\"value\":0.1},\"line_color\":{\"value\":\"#df65b0\"},\"top\":{\"expr\":{\"id\":\"1781\"}},\"width\":{\"value\":0.9},\"x\":{\"field\":\"Report Year\"}},\"id\":\"1861\",\"type\":\"VBar\"},{\"attributes\":{},\"id\":\"1740\",\"type\":\"DataRange1d\"},{\"attributes\":{\"label\":{\"value\":\"Religion\"},\"renderers\":[{\"id\":\"1863\"}]},\"id\":\"1875\",\"type\":\"LegendItem\"},{\"attributes\":{\"axis\":{\"id\":\"1752\"},\"coordinates\":null,\"dimension\":1,\"group\":null,\"ticker\":null},\"id\":\"1755\",\"type\":\"Grid\"},{\"attributes\":{\"data\":{\"Disability\":{\"__ndarray__\":\"AAAAAAAA8D8AAAAAAAAAAAAAAAAAAPA/AAAAAAAAAAAAAAAAAADwPwAAAAAAAPA/AAAAAAAAAAAAAAAAAADwPwAAAAAAAAAAAAAAAAAAAAA=\",\"dtype\":\"float64\",\"order\":\"little\",\"shape\":[10]},\"Ethnicity/National Origin\":{\"__ndarray__\":\"AAAAAAAAFEAAAAAAAAAIQAAAAAAAAAhAAAAAAAAACEAAAAAAAAAqQAAAAAAAAERAAAAAAACASEAAAAAAAIBOQAAAAAAAAD1AAAAAAACASUA=\",\"dtype\":\"float64\",\"order\":\"little\",\"shape\":[10]},\"Gender Identity/Expression\":{\"__ndarray__\":\"AAAAAAAAIEAAAAAAAAAoQAAAAAAAAC5AAAAAAAAAJEAAAAAAAAAzQAAAAAAAACpAAAAAAAAAQUAAAAAAAAA7QAAAAAAAADtAAAAAAAAAMEA=\",\"dtype\":\"float64\",\"order\":\"little\",\"shape\":[10]},\"Homelessness\":{\"__ndarray__\":\"AAAAAAAAAAAAAAAAAAAAAAAAAAAAAABAAAAAAAAAAAAAAAAAAADwPwAAAAAAAAAAAAAAAAAA8D8AAAAAAAAAAAAAAAAAAAAAAAAAAAAAAAA=\",\"dtype\":\"float64\",\"order\":\"little\",\"shape\":[10]},\"Political Affiliation\":{\"__ndarray__\":\"AAAAAAAA8D8AAAAAAAAAAAAAAAAAAPA/AAAAAAAAAEAAAAAAAAAAQAAAAAAAACRAAAAAAAAAJEAAAAAAAADwPwAAAAAAABhAAAAAAAAAAAA=\",\"dtype\":\"float64\",\"order\":\"little\",\"shape\":[10]},\"Race\":{\"__ndarray__\":\"AAAAAAAAKkAAAAAAAAAxQAAAAAAAACpAAAAAAAAAM0AAAAAAAAAqQAAAAAAAgEdAAAAAAACAQ0AAAAAAAABHQAAAAAAAAD9AAAAAAAAAREA=\",\"dtype\":\"float64\",\"order\":\"little\",\"shape\":[10]},\"Religion\":{\"__ndarray__\":\"AAAAAAAAFEAAAAAAAAAUQAAAAAAAACBAAAAAAAAAFEAAAAAAAAAxQAAAAAAAACZAAAAAAAAAKEAAAAAAAAAUQAAAAAAAAPA/AAAAAAAACEA=\",\"dtype\":\"float64\",\"order\":\"little\",\"shape\":[10]},\"Report Year\":[2012,2013,2014,2015,2016,2017,2018,2019,2020,2021],\"Sex/Gender\":{\"__ndarray__\":\"AAAAAAAAAAAAAAAAAAAAAAAAAAAAAAAAAAAAAAAAAAAAAAAAAAAAAAAAAAAAAAAAAAAAAAAAAAAAAAAAAAAAQAAAAAAAAAAAAAAAAAAA8D8=\",\"dtype\":\"float64\",\"order\":\"little\",\"shape\":[10]},\"Sexual Orientation\":{\"__ndarray__\":\"AAAAAAAAR0AAAAAAAAA/QAAAAAAAADtAAAAAAAAAO0AAAAAAAABEQAAAAAAAgEtAAAAAAAAATkAAAAAAAABOQAAAAAAAAENAAAAAAAAAQ0A=\",\"dtype\":\"float64\",\"order\":\"little\",\"shape\":[10]},\"Total hate crimes\":{\"__ndarray__\":\"AAAAAADAU0AAAAAAAABRQAAAAAAAgFFAAAAAAACAUEAAAAAAAIBaQAAAAAAAIGZAAAAAAACgaUAAAAAAAGBpQAAAAAAAgGBAAAAAAACgYkA=\",\"dtype\":\"float64\",\"order\":\"little\",\"shape\":[10]},\"index\":[0,1,2,3,4,5,6,7,8,9]},\"selected\":{\"id\":\"1804\"},\"selection_policy\":{\"id\":\"1803\"}},\"id\":\"1736\",\"type\":\"ColumnDataSource\"},{\"attributes\":{},\"id\":\"1744\",\"type\":\"LinearScale\"},{\"attributes\":{\"coordinates\":null,\"data_source\":{\"id\":\"1736\"},\"glyph\":{\"id\":\"1877\"},\"group\":null,\"hover_glyph\":null,\"muted_glyph\":{\"id\":\"1879\"},\"name\":\"Political Affiliation\",\"nonselection_glyph\":{\"id\":\"1878\"},\"view\":{\"id\":\"1881\"}},\"id\":\"1880\",\"type\":\"GlyphRenderer\"},{\"attributes\":{\"source\":{\"id\":\"1736\"}},\"id\":\"1881\",\"type\":\"CDSView\"},{\"attributes\":{\"label\":{\"value\":\"Political Affiliation\"},\"renderers\":[{\"id\":\"1880\"}]},\"id\":\"1892\",\"type\":\"LegendItem\"},{\"attributes\":{\"bottom\":{\"expr\":{\"id\":\"1784\"}},\"fill_alpha\":{\"value\":0.2},\"fill_color\":{\"value\":\"#d4b9da\"},\"hatch_alpha\":{\"value\":0.2},\"hatch_color\":{\"value\":\"#d4b9da\"},\"line_alpha\":{\"value\":0.2},\"line_color\":{\"value\":\"#d4b9da\"},\"top\":{\"expr\":{\"id\":\"1785\"}},\"width\":{\"value\":0.9},\"x\":{\"field\":\"Report Year\"}},\"id\":\"1896\",\"type\":\"VBar\"},{\"attributes\":{\"bottom\":{\"expr\":{\"id\":\"1774\"}},\"fill_color\":{\"value\":\"#980043\"},\"hatch_color\":{\"value\":\"#980043\"},\"line_color\":{\"value\":\"#980043\"},\"top\":{\"expr\":{\"id\":\"1775\"}},\"width\":{\"value\":0.9},\"x\":{\"field\":\"Report Year\"}},\"id\":\"1809\",\"type\":\"VBar\"},{\"attributes\":{\"coordinates\":null,\"data_source\":{\"id\":\"1736\"},\"glyph\":{\"id\":\"1894\"},\"group\":null,\"hover_glyph\":null,\"muted_glyph\":{\"id\":\"1896\"},\"name\":\"Disability\",\"nonselection_glyph\":{\"id\":\"1895\"},\"view\":{\"id\":\"1898\"}},\"id\":\"1897\",\"type\":\"GlyphRenderer\"},{\"attributes\":{\"bottom\":{\"expr\":{\"id\":\"1784\"}},\"fill_alpha\":{\"value\":0.1},\"fill_color\":{\"value\":\"#d4b9da\"},\"hatch_alpha\":{\"value\":0.1},\"hatch_color\":{\"value\":\"#d4b9da\"},\"line_alpha\":{\"value\":0.1},\"line_color\":{\"value\":\"#d4b9da\"},\"top\":{\"expr\":{\"id\":\"1785\"}},\"width\":{\"value\":0.9},\"x\":{\"field\":\"Report Year\"}},\"id\":\"1895\",\"type\":\"VBar\"},{\"attributes\":{\"fields\":[\"Sexual Orientation\",\"Race\"]},\"id\":\"1775\",\"type\":\"Stack\"},{\"attributes\":{\"bottom\":{\"expr\":{\"id\":\"1784\"}},\"fill_color\":{\"value\":\"#d4b9da\"},\"hatch_color\":{\"value\":\"#d4b9da\"},\"line_color\":{\"value\":\"#d4b9da\"},\"top\":{\"expr\":{\"id\":\"1785\"}},\"width\":{\"value\":0.9},\"x\":{\"field\":\"Report Year\"}},\"id\":\"1894\",\"type\":\"VBar\"},{\"attributes\":{\"fields\":[]},\"id\":\"1772\",\"type\":\"Stack\"},{\"attributes\":{\"label\":{\"value\":\"Disability\"},\"renderers\":[{\"id\":\"1897\"}]},\"id\":\"1909\",\"type\":\"LegendItem\"},{\"attributes\":{\"axis_label\":\"Year\",\"coordinates\":null,\"formatter\":{\"id\":\"1801\"},\"group\":null,\"major_label_policy\":{\"id\":\"1802\"},\"ticker\":{\"id\":\"1749\"}},\"id\":\"1748\",\"type\":\"LinearAxis\"},{\"attributes\":{\"bottom\":{\"expr\":{\"id\":\"1782\"}},\"fill_color\":{\"value\":\"#c994c7\"},\"hatch_color\":{\"value\":\"#c994c7\"},\"line_color\":{\"value\":\"#c994c7\"},\"top\":{\"expr\":{\"id\":\"1783\"}},\"width\":{\"value\":0.9},\"x\":{\"field\":\"Report Year\"}},\"id\":\"1877\",\"type\":\"VBar\"},{\"attributes\":{\"fields\":[\"Sexual Orientation\",\"Race\",\"Ethnicity/National Origin\",\"Gender Identity/Expression\"]},\"id\":\"1779\",\"type\":\"Stack\"},{\"attributes\":{\"fields\":[\"Sexual Orientation\",\"Race\",\"Ethnicity/National Origin\",\"Gender Identity/Expression\",\"Religion\",\"Political Affiliation\",\"Disability\",\"Homelessness\"]},\"id\":\"1788\",\"type\":\"Stack\"},{\"attributes\":{\"bottom\":{\"expr\":{\"id\":\"1774\"}},\"fill_alpha\":{\"value\":0.1},\"fill_color\":{\"value\":\"#980043\"},\"hatch_alpha\":{\"value\":0.1},\"hatch_color\":{\"value\":\"#980043\"},\"line_alpha\":{\"value\":0.1},\"line_color\":{\"value\":\"#980043\"},\"top\":{\"expr\":{\"id\":\"1775\"}},\"width\":{\"value\":0.9},\"x\":{\"field\":\"Report Year\"}},\"id\":\"1810\",\"type\":\"VBar\"},{\"attributes\":{\"label\":{\"value\":\"Sexual Orientation\"},\"renderers\":[{\"id\":\"1794\"}]},\"id\":\"1807\",\"type\":\"LegendItem\"},{\"attributes\":{\"bottom_units\":\"screen\",\"coordinates\":null,\"fill_alpha\":0.5,\"fill_color\":\"lightgrey\",\"group\":null,\"left_units\":\"screen\",\"level\":\"overlay\",\"line_alpha\":1.0,\"line_color\":\"black\",\"line_dash\":[4,4],\"line_width\":2,\"right_units\":\"screen\",\"syncable\":false,\"top_units\":\"screen\"},\"id\":\"1763\",\"type\":\"BoxAnnotation\"},{\"attributes\":{\"fields\":[\"Sexual Orientation\",\"Race\",\"Ethnicity/National Origin\"]},\"id\":\"1777\",\"type\":\"Stack\"},{\"attributes\":{\"axis_label\":\"Total hate crimes\",\"coordinates\":null,\"formatter\":{\"id\":\"1798\"},\"group\":null,\"major_label_policy\":{\"id\":\"1799\"},\"ticker\":{\"id\":\"1753\"}},\"id\":\"1752\",\"type\":\"LinearAxis\"},{\"attributes\":{\"source\":{\"id\":\"1736\"}},\"id\":\"1813\",\"type\":\"CDSView\"},{\"attributes\":{\"label\":{\"value\":\"Race\"},\"renderers\":[{\"id\":\"1812\"}]},\"id\":\"1824\",\"type\":\"LegendItem\"},{\"attributes\":{\"coordinates\":null,\"data_source\":{\"id\":\"1736\"},\"glyph\":{\"id\":\"1791\"},\"group\":null,\"hover_glyph\":null,\"muted_glyph\":{\"id\":\"1793\"},\"name\":\"Sexual Orientation\",\"nonselection_glyph\":{\"id\":\"1792\"},\"view\":{\"id\":\"1795\"}},\"id\":\"1794\",\"type\":\"GlyphRenderer\"},{\"attributes\":{\"source\":{\"id\":\"1736\"}},\"id\":\"1795\",\"type\":\"CDSView\"},{\"attributes\":{\"callback\":null},\"id\":\"1762\",\"type\":\"TapTool\"},{\"attributes\":{\"fields\":[\"Sexual Orientation\",\"Race\",\"Ethnicity/National Origin\",\"Gender Identity/Expression\",\"Religion\",\"Political Affiliation\",\"Disability\",\"Homelessness\"]},\"id\":\"1787\",\"type\":\"Stack\"},{\"attributes\":{},\"id\":\"1757\",\"type\":\"SaveTool\"},{\"attributes\":{\"fields\":[\"Sexual Orientation\",\"Race\",\"Ethnicity/National Origin\",\"Gender Identity/Expression\"]},\"id\":\"1780\",\"type\":\"Stack\"},{\"attributes\":{\"click_policy\":\"hide\",\"coordinates\":null,\"group\":null,\"items\":[{\"id\":\"1807\"},{\"id\":\"1824\"},{\"id\":\"1841\"},{\"id\":\"1858\"},{\"id\":\"1875\"},{\"id\":\"1892\"},{\"id\":\"1909\"},{\"id\":\"1926\"},{\"id\":\"1943\"}],\"location\":\"top_left\"},\"id\":\"1806\",\"type\":\"Legend\"},{\"attributes\":{\"coordinates\":null,\"data_source\":{\"id\":\"1736\"},\"glyph\":{\"id\":\"1809\"},\"group\":null,\"hover_glyph\":null,\"muted_glyph\":{\"id\":\"1811\"},\"name\":\"Race\",\"nonselection_glyph\":{\"id\":\"1810\"},\"view\":{\"id\":\"1813\"}},\"id\":\"1812\",\"type\":\"GlyphRenderer\"},{\"attributes\":{\"fields\":[\"Sexual Orientation\",\"Race\",\"Ethnicity/National Origin\"]},\"id\":\"1778\",\"type\":\"Stack\"},{\"attributes\":{},\"id\":\"1761\",\"type\":\"WheelZoomTool\"},{\"attributes\":{},\"id\":\"1802\",\"type\":\"AllLabels\"},{\"attributes\":{},\"id\":\"1760\",\"type\":\"ResetTool\"},{\"attributes\":{},\"id\":\"1798\",\"type\":\"BasicTickFormatter\"},{\"attributes\":{\"callback\":null,\"tooltips\":\"$name @{Report Year}: @$name\"},\"id\":\"1756\",\"type\":\"HoverTool\"},{\"attributes\":{},\"id\":\"1799\",\"type\":\"AllLabels\"},{\"attributes\":{\"tools\":[{\"id\":\"1756\"},{\"id\":\"1757\"},{\"id\":\"1758\"},{\"id\":\"1759\"},{\"id\":\"1760\"},{\"id\":\"1761\"},{\"id\":\"1762\"}]},\"id\":\"1764\",\"type\":\"Toolbar\"},{\"attributes\":{\"fields\":[\"Sexual Orientation\",\"Race\",\"Ethnicity/National Origin\",\"Gender Identity/Expression\",\"Religion\",\"Political Affiliation\"]},\"id\":\"1784\",\"type\":\"Stack\"},{\"attributes\":{\"axis\":{\"id\":\"1748\"},\"coordinates\":null,\"group\":null,\"ticker\":null},\"id\":\"1751\",\"type\":\"Grid\"},{\"attributes\":{\"fields\":[\"Sexual Orientation\",\"Race\",\"Ethnicity/National Origin\",\"Gender Identity/Expression\",\"Religion\"]},\"id\":\"1781\",\"type\":\"Stack\"},{\"attributes\":{\"fields\":[\"Sexual Orientation\",\"Race\",\"Ethnicity/National Origin\",\"Gender Identity/Expression\",\"Religion\",\"Political Affiliation\",\"Disability\"]},\"id\":\"1785\",\"type\":\"Stack\"},{\"attributes\":{\"bottom\":{\"expr\":{\"id\":\"1772\"}},\"fill_color\":{\"value\":\"#67001f\"},\"hatch_color\":{\"value\":\"#67001f\"},\"line_color\":{\"value\":\"#67001f\"},\"top\":{\"expr\":{\"id\":\"1773\"}},\"width\":{\"value\":0.9},\"x\":{\"field\":\"Report Year\"}},\"id\":\"1791\",\"type\":\"VBar\"},{\"attributes\":{},\"id\":\"1758\",\"type\":\"PanTool\"},{\"attributes\":{\"overlay\":{\"id\":\"1763\"}},\"id\":\"1759\",\"type\":\"BoxZoomTool\"},{\"attributes\":{\"bottom\":{\"expr\":{\"id\":\"1782\"}},\"fill_alpha\":{\"value\":0.1},\"fill_color\":{\"value\":\"#c994c7\"},\"hatch_alpha\":{\"value\":0.1},\"hatch_color\":{\"value\":\"#c994c7\"},\"line_alpha\":{\"value\":0.1},\"line_color\":{\"value\":\"#c994c7\"},\"top\":{\"expr\":{\"id\":\"1783\"}},\"width\":{\"value\":0.9},\"x\":{\"field\":\"Report Year\"}},\"id\":\"1878\",\"type\":\"VBar\"},{\"attributes\":{\"fields\":[\"Sexual Orientation\",\"Race\",\"Ethnicity/National Origin\",\"Gender Identity/Expression\",\"Religion\"]},\"id\":\"1782\",\"type\":\"Stack\"},{\"attributes\":{\"bottom\":{\"expr\":{\"id\":\"1776\"}},\"fill_color\":{\"value\":\"#ce1256\"},\"hatch_color\":{\"value\":\"#ce1256\"},\"line_color\":{\"value\":\"#ce1256\"},\"top\":{\"expr\":{\"id\":\"1777\"}},\"width\":{\"value\":0.9},\"x\":{\"field\":\"Report Year\"}},\"id\":\"1826\",\"type\":\"VBar\"},{\"attributes\":{},\"id\":\"1803\",\"type\":\"UnionRenderers\"},{\"attributes\":{\"fields\":[\"Sexual Orientation\",\"Race\",\"Ethnicity/National Origin\",\"Gender Identity/Expression\",\"Religion\",\"Political Affiliation\",\"Disability\"]},\"id\":\"1786\",\"type\":\"Stack\"},{\"attributes\":{\"bottom\":{\"expr\":{\"id\":\"1772\"}},\"fill_alpha\":{\"value\":0.2},\"fill_color\":{\"value\":\"#67001f\"},\"hatch_alpha\":{\"value\":0.2},\"hatch_color\":{\"value\":\"#67001f\"},\"line_alpha\":{\"value\":0.2},\"line_color\":{\"value\":\"#67001f\"},\"top\":{\"expr\":{\"id\":\"1773\"}},\"width\":{\"value\":0.9},\"x\":{\"field\":\"Report Year\"}},\"id\":\"1793\",\"type\":\"VBar\"},{\"attributes\":{\"bottom\":{\"expr\":{\"id\":\"1774\"}},\"fill_alpha\":{\"value\":0.2},\"fill_color\":{\"value\":\"#980043\"},\"hatch_alpha\":{\"value\":0.2},\"hatch_color\":{\"value\":\"#980043\"},\"line_alpha\":{\"value\":0.2},\"line_color\":{\"value\":\"#980043\"},\"top\":{\"expr\":{\"id\":\"1775\"}},\"width\":{\"value\":0.9},\"x\":{\"field\":\"Report Year\"}},\"id\":\"1811\",\"type\":\"VBar\"},{\"attributes\":{\"fields\":[\"Sexual Orientation\",\"Race\",\"Ethnicity/National Origin\",\"Gender Identity/Expression\",\"Religion\",\"Political Affiliation\"]},\"id\":\"1783\",\"type\":\"Stack\"},{\"attributes\":{\"fields\":[\"Sexual Orientation\",\"Race\",\"Ethnicity/National Origin\",\"Gender Identity/Expression\",\"Religion\",\"Political Affiliation\",\"Disability\",\"Homelessness\",\"Sex/Gender\"]},\"id\":\"1789\",\"type\":\"Stack\"},{\"attributes\":{},\"id\":\"1804\",\"type\":\"Selection\"},{\"attributes\":{},\"id\":\"1801\",\"type\":\"BasicTickFormatter\"},{\"attributes\":{\"fields\":[\"Sexual Orientation\"]},\"id\":\"1773\",\"type\":\"Stack\"}],\"root_ids\":[\"1737\"]},\"title\":\"Bokeh Application\",\"version\":\"2.4.3\"}};\n  const render_items = [{\"docid\":\"858abd42-b38e-42e4-bc38-b9e13fe979e3\",\"root_ids\":[\"1737\"],\"roots\":{\"1737\":\"4e1fc658-d9d2-4f09-ae75-35c03520e79b\"}}];\n  root.Bokeh.embed.embed_items_notebook(docs_json, render_items);\n  }\n  if (root.Bokeh !== undefined) {\n    embed_document(root);\n  } else {\n    let attempts = 0;\n    const timer = setInterval(function(root) {\n      if (root.Bokeh !== undefined) {\n        clearInterval(timer);\n        embed_document(root);\n      } else {\n        attempts++;\n        if (attempts > 100) {\n          clearInterval(timer);\n          console.log(\"Bokeh: ERROR: Unable to run BokehJS code because BokehJS library is missing\");\n        }\n      }\n    }, 10, root)\n  }\n})(window);",
      "application/vnd.bokehjs_exec.v0+json": ""
     },
     "metadata": {
      "application/vnd.bokehjs_exec.v0+json": {
       "id": "1737"
      }
     },
     "output_type": "display_data"
    }
   ],
   "source": [
    "# use the initial function to prep the df and category values\n",
    "type_stacked_year, bias_types = bokeh_vbar_stack_prep(df, 'Report Year', 'Type of Hate Bias', 'Total hate crimes')\n",
    "\n",
    "# plot the stacked bar\n",
    "p = bokeh_vbar_stack(type_stacked_year, bias_types, 'Report Year', 'Hate crime counts per type over year',\n",
    "                        'Year', 'Total hate crimes', 450, 1000)\n",
    "show(p)"
   ]
  },
  {
   "cell_type": "markdown",
   "metadata": {},
   "source": [
    "# Plot % change based on last time period"
   ]
  },
  {
   "cell_type": "markdown",
   "metadata": {},
   "source": [
    "### Step 1: create dfs that store the counts per each time frame we want to analyze, and then store the percent change from the last period.\n",
    "\n",
    "We prepare the dataframes to be used in Bokeh plotting easily, by breaking them down into Year and Month. We also apply pct_change() to identify the percentage change from the previous year. The dataframe is sorted in ascending order so that it generates the change between the previous and current year values."
   ]
  },
  {
   "cell_type": "code",
   "execution_count": 18,
   "metadata": {},
   "outputs": [],
   "source": [
    "df_daily_counts = df['Date of Offense'].value_counts()\n",
    "df_daily_counts = pd.Series(df_daily_counts).reset_index(name='Hate crime count').rename(columns={'index':'Date of Offense'})\n",
    "df_daily_counts['Year'] = pd.to_datetime(df_daily_counts['Date of Offense']).dt.year\n",
    "df_daily_counts['Month'] = pd.to_datetime(df_daily_counts['Date of Offense']).dt.month\n",
    "df_daily_counts['MonthYear'] = pd.to_datetime(df_daily_counts['Date of Offense']).dt.to_period('M')# month_temp_df.head()\n",
    "\n",
    "# df just for month and year trending\n",
    "df_yearly_counts = df_daily_counts.groupby('Year').sum().reset_index()\n",
    "\n",
    "# find percentage change based on previous year\n",
    "df_yearly_counts['pct_change'] = df_yearly_counts['Hate crime count'].pct_change()\n",
    "df_yearly_counts['pct_change'] = df_yearly_counts['pct_change']*100\n",
    "df_yearly_counts['color'] = \"\"\n",
    "df_yearly_counts['color'][df_yearly_counts['pct_change'] >= 0] = '#EE6363' # red\n",
    "df_yearly_counts['color'][df_yearly_counts['pct_change'] < 0] = '#71C671' # green"
   ]
  },
  {
   "cell_type": "markdown",
   "metadata": {},
   "source": [
    "### Step 2: create a function to compute bar plots in Bokeh specifically for showing the percentage change from the previous year. Positive changes are green while negative changes are red."
   ]
  },
  {
   "cell_type": "code",
   "execution_count": 19,
   "metadata": {},
   "outputs": [],
   "source": [
    "# function to compute bar plot of percentage change from last year's count\n",
    "def bokeh_bar_pct_change(df, yearcolumn, title, height, width):\n",
    "    TOOLS = \"hover,save,pan,box_zoom,reset,wheel_zoom,tap\"\n",
    "    p = figure(plot_height=height, plot_width=width,\n",
    "        title=title,\n",
    "        tools=TOOLS,\n",
    "        toolbar_location='right')\n",
    "    p.vbar(x=df[yearcolumn], top=df['pct_change'], width=0.75, color=df['color'])\n",
    "    p.xaxis.axis_label = 'Year'\n",
    "    p.yaxis.axis_label = '% Change from last year'\n",
    "    p.select_one(HoverTool).tooltips = [\n",
    "        ('Year', '@x'),\n",
    "        ('Percent change from previous year', '@top'+'%'),\n",
    "    ]\n",
    "    return p"
   ]
  },
  {
   "cell_type": "markdown",
   "metadata": {},
   "source": [
    "Show the change of hate crime counts over year."
   ]
  },
  {
   "cell_type": "code",
   "execution_count": 20,
   "metadata": {},
   "outputs": [
    {
     "data": {
      "text/html": [
       "\n",
       "  <div class=\"bk-root\" id=\"b32579cd-da62-4c2e-a849-2c3f315123f6\" data-root-id=\"2066\"></div>\n"
      ]
     },
     "metadata": {},
     "output_type": "display_data"
    },
    {
     "data": {
      "application/javascript": "(function(root) {\n  function embed_document(root) {\n  const docs_json = {\"d30817bd-7828-4564-841f-cd8cdf1f9633\":{\"defs\":[],\"roots\":{\"references\":[{\"attributes\":{\"below\":[{\"id\":\"2077\"}],\"center\":[{\"id\":\"2080\"},{\"id\":\"2084\"}],\"height\":300,\"left\":[{\"id\":\"2081\"}],\"renderers\":[{\"id\":\"2105\"}],\"title\":{\"id\":\"2067\"},\"toolbar\":{\"id\":\"2093\"},\"width\":450,\"x_range\":{\"id\":\"2069\"},\"x_scale\":{\"id\":\"2073\"},\"y_range\":{\"id\":\"2071\"},\"y_scale\":{\"id\":\"2075\"}},\"id\":\"2066\",\"subtype\":\"Figure\",\"type\":\"Plot\"},{\"attributes\":{},\"id\":\"2073\",\"type\":\"LinearScale\"},{\"attributes\":{\"axis\":{\"id\":\"2081\"},\"coordinates\":null,\"dimension\":1,\"group\":null,\"ticker\":null},\"id\":\"2084\",\"type\":\"Grid\"},{\"attributes\":{\"fill_color\":{\"field\":\"fill_color\"},\"hatch_color\":{\"field\":\"hatch_color\"},\"line_color\":{\"field\":\"line_color\"},\"top\":{\"field\":\"top\"},\"width\":{\"value\":0.75},\"x\":{\"field\":\"x\"}},\"id\":\"2102\",\"type\":\"VBar\"},{\"attributes\":{\"axis_label\":\"% Change from last year\",\"coordinates\":null,\"formatter\":{\"id\":\"2109\"},\"group\":null,\"major_label_policy\":{\"id\":\"2110\"},\"ticker\":{\"id\":\"2082\"}},\"id\":\"2081\",\"type\":\"LinearAxis\"},{\"attributes\":{},\"id\":\"2109\",\"type\":\"BasicTickFormatter\"},{\"attributes\":{\"overlay\":{\"id\":\"2092\"}},\"id\":\"2088\",\"type\":\"BoxZoomTool\"},{\"attributes\":{},\"id\":\"2082\",\"type\":\"BasicTicker\"},{\"attributes\":{\"bottom_units\":\"screen\",\"coordinates\":null,\"fill_alpha\":0.5,\"fill_color\":\"lightgrey\",\"group\":null,\"left_units\":\"screen\",\"level\":\"overlay\",\"line_alpha\":1.0,\"line_color\":\"black\",\"line_dash\":[4,4],\"line_width\":2,\"right_units\":\"screen\",\"syncable\":false,\"top_units\":\"screen\"},\"id\":\"2092\",\"type\":\"BoxAnnotation\"},{\"attributes\":{\"fill_alpha\":{\"value\":0.1},\"fill_color\":{\"field\":\"fill_color\"},\"hatch_alpha\":{\"value\":0.1},\"hatch_color\":{\"field\":\"hatch_color\"},\"line_alpha\":{\"value\":0.1},\"line_color\":{\"field\":\"line_color\"},\"top\":{\"field\":\"top\"},\"width\":{\"value\":0.75},\"x\":{\"field\":\"x\"}},\"id\":\"2103\",\"type\":\"VBar\"},{\"attributes\":{},\"id\":\"2089\",\"type\":\"ResetTool\"},{\"attributes\":{},\"id\":\"2090\",\"type\":\"WheelZoomTool\"},{\"attributes\":{},\"id\":\"2075\",\"type\":\"LinearScale\"},{\"attributes\":{},\"id\":\"2110\",\"type\":\"AllLabels\"},{\"attributes\":{\"coordinates\":null,\"group\":null,\"text\":\"% change in total hate crime counts from previous year\"},\"id\":\"2067\",\"type\":\"Title\"},{\"attributes\":{\"data\":{\"fill_color\":[\"\",\"#71C671\",\"#EE6363\",\"#71C671\",\"#EE6363\",\"#EE6363\",\"#EE6363\",\"#71C671\",\"#71C671\",\"#EE6363\"],\"hatch_color\":[\"\",\"#71C671\",\"#EE6363\",\"#71C671\",\"#EE6363\",\"#EE6363\",\"#EE6363\",\"#71C671\",\"#71C671\",\"#EE6363\"],\"line_color\":[\"\",\"#71C671\",\"#EE6363\",\"#71C671\",\"#EE6363\",\"#EE6363\",\"#EE6363\",\"#71C671\",\"#71C671\",\"#EE6363\"],\"top\":{\"__ndarray__\":\"AAAAAAAA+H+wZyAqHdkrwHCHh4eHhwdAuW3btm3bFsAOPvjggw9PQJBMoHfqWlBAp+7LYyuCLkBAX19fX1/fv7MWCujYfEHAyAcffPDBKUA=\",\"dtype\":\"float64\",\"order\":\"little\",\"shape\":[10]},\"x\":[2012,2013,2014,2015,2016,2017,2018,2019,2020,2021]},\"selected\":{\"id\":\"2115\"},\"selection_policy\":{\"id\":\"2114\"}},\"id\":\"2101\",\"type\":\"ColumnDataSource\"},{\"attributes\":{\"fill_alpha\":{\"value\":0.2},\"fill_color\":{\"field\":\"fill_color\"},\"hatch_alpha\":{\"value\":0.2},\"hatch_color\":{\"field\":\"hatch_color\"},\"line_alpha\":{\"value\":0.2},\"line_color\":{\"field\":\"line_color\"},\"top\":{\"field\":\"top\"},\"width\":{\"value\":0.75},\"x\":{\"field\":\"x\"}},\"id\":\"2104\",\"type\":\"VBar\"},{\"attributes\":{\"coordinates\":null,\"data_source\":{\"id\":\"2101\"},\"glyph\":{\"id\":\"2102\"},\"group\":null,\"hover_glyph\":null,\"muted_glyph\":{\"id\":\"2104\"},\"nonselection_glyph\":{\"id\":\"2103\"},\"view\":{\"id\":\"2106\"}},\"id\":\"2105\",\"type\":\"GlyphRenderer\"},{\"attributes\":{},\"id\":\"2071\",\"type\":\"DataRange1d\"},{\"attributes\":{\"callback\":null,\"tooltips\":[[\"Year\",\"@x\"],[\"Percent change from previous year\",\"@top%\"]]},\"id\":\"2085\",\"type\":\"HoverTool\"},{\"attributes\":{},\"id\":\"2112\",\"type\":\"BasicTickFormatter\"},{\"attributes\":{\"callback\":null},\"id\":\"2091\",\"type\":\"TapTool\"},{\"attributes\":{},\"id\":\"2113\",\"type\":\"AllLabels\"},{\"attributes\":{},\"id\":\"2087\",\"type\":\"PanTool\"},{\"attributes\":{},\"id\":\"2114\",\"type\":\"UnionRenderers\"},{\"attributes\":{\"axis\":{\"id\":\"2077\"},\"coordinates\":null,\"group\":null,\"ticker\":null},\"id\":\"2080\",\"type\":\"Grid\"},{\"attributes\":{},\"id\":\"2086\",\"type\":\"SaveTool\"},{\"attributes\":{\"source\":{\"id\":\"2101\"}},\"id\":\"2106\",\"type\":\"CDSView\"},{\"attributes\":{},\"id\":\"2115\",\"type\":\"Selection\"},{\"attributes\":{},\"id\":\"2078\",\"type\":\"BasicTicker\"},{\"attributes\":{\"tools\":[{\"id\":\"2085\"},{\"id\":\"2086\"},{\"id\":\"2087\"},{\"id\":\"2088\"},{\"id\":\"2089\"},{\"id\":\"2090\"},{\"id\":\"2091\"}]},\"id\":\"2093\",\"type\":\"Toolbar\"},{\"attributes\":{\"axis_label\":\"Year\",\"coordinates\":null,\"formatter\":{\"id\":\"2112\"},\"group\":null,\"major_label_policy\":{\"id\":\"2113\"},\"ticker\":{\"id\":\"2078\"}},\"id\":\"2077\",\"type\":\"LinearAxis\"},{\"attributes\":{},\"id\":\"2069\",\"type\":\"DataRange1d\"}],\"root_ids\":[\"2066\"]},\"title\":\"Bokeh Application\",\"version\":\"2.4.3\"}};\n  const render_items = [{\"docid\":\"d30817bd-7828-4564-841f-cd8cdf1f9633\",\"root_ids\":[\"2066\"],\"roots\":{\"2066\":\"b32579cd-da62-4c2e-a849-2c3f315123f6\"}}];\n  root.Bokeh.embed.embed_items_notebook(docs_json, render_items);\n  }\n  if (root.Bokeh !== undefined) {\n    embed_document(root);\n  } else {\n    let attempts = 0;\n    const timer = setInterval(function(root) {\n      if (root.Bokeh !== undefined) {\n        clearInterval(timer);\n        embed_document(root);\n      } else {\n        attempts++;\n        if (attempts > 100) {\n          clearInterval(timer);\n          console.log(\"Bokeh: ERROR: Unable to run BokehJS code because BokehJS library is missing\");\n        }\n      }\n    }, 10, root)\n  }\n})(window);",
      "application/vnd.bokehjs_exec.v0+json": ""
     },
     "metadata": {
      "application/vnd.bokehjs_exec.v0+json": {
       "id": "2066"
      }
     },
     "output_type": "display_data"
    }
   ],
   "source": [
    "p = bokeh_bar_pct_change(df_yearly_counts, 'Year', '% change in total hate crime counts from previous year',\n",
    "                     300,450)\n",
    "show(p)"
   ]
  }
 ],
 "metadata": {
  "kernelspec": {
   "display_name": "Python 3.7.11 ('myenv')",
   "language": "python",
   "name": "python3"
  },
  "language_info": {
   "codemirror_mode": {
    "name": "ipython",
    "version": 3
   },
   "file_extension": ".py",
   "mimetype": "text/x-python",
   "name": "python",
   "nbconvert_exporter": "python",
   "pygments_lexer": "ipython3",
   "version": "3.7.11"
  },
  "orig_nbformat": 4,
  "vscode": {
   "interpreter": {
    "hash": "556577b464ed8290f2466f50fdd1787314e6ab7bd01d5a09df1b87bcf003920b"
   }
  }
 },
 "nbformat": 4,
 "nbformat_minor": 2
}
