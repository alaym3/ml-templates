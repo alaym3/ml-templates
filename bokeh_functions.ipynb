{
 "cells": [
  {
   "cell_type": "markdown",
   "metadata": {},
   "source": [
    "# Bokeh plotting template"
   ]
  },
  {
   "cell_type": "markdown",
   "metadata": {},
   "source": [
    "Do all cleaning beforehand!\n",
    "\n",
    "**Load in clean df**"
   ]
  },
  {
   "cell_type": "code",
   "execution_count": 29,
   "metadata": {},
   "outputs": [
    {
     "data": {
      "text/html": [
       "<div class=\"bk-root\">\n",
       "        <a href=\"https://bokeh.org\" target=\"_blank\" class=\"bk-logo bk-logo-small bk-logo-notebook\"></a>\n",
       "        <span id=\"2147\">Loading BokehJS ...</span>\n",
       "    </div>\n"
      ]
     },
     "metadata": {},
     "output_type": "display_data"
    },
    {
     "data": {
      "application/javascript": "(function(root) {\n  function now() {\n    return new Date();\n  }\n\n  const force = true;\n\n  if (typeof root._bokeh_onload_callbacks === \"undefined\" || force === true) {\n    root._bokeh_onload_callbacks = [];\n    root._bokeh_is_loading = undefined;\n  }\n\nconst JS_MIME_TYPE = 'application/javascript';\n  const HTML_MIME_TYPE = 'text/html';\n  const EXEC_MIME_TYPE = 'application/vnd.bokehjs_exec.v0+json';\n  const CLASS_NAME = 'output_bokeh rendered_html';\n\n  /**\n   * Render data to the DOM node\n   */\n  function render(props, node) {\n    const script = document.createElement(\"script\");\n    node.appendChild(script);\n  }\n\n  /**\n   * Handle when an output is cleared or removed\n   */\n  function handleClearOutput(event, handle) {\n    const cell = handle.cell;\n\n    const id = cell.output_area._bokeh_element_id;\n    const server_id = cell.output_area._bokeh_server_id;\n    // Clean up Bokeh references\n    if (id != null && id in Bokeh.index) {\n      Bokeh.index[id].model.document.clear();\n      delete Bokeh.index[id];\n    }\n\n    if (server_id !== undefined) {\n      // Clean up Bokeh references\n      const cmd_clean = \"from bokeh.io.state import curstate; print(curstate().uuid_to_server['\" + server_id + \"'].get_sessions()[0].document.roots[0]._id)\";\n      cell.notebook.kernel.execute(cmd_clean, {\n        iopub: {\n          output: function(msg) {\n            const id = msg.content.text.trim();\n            if (id in Bokeh.index) {\n              Bokeh.index[id].model.document.clear();\n              delete Bokeh.index[id];\n            }\n          }\n        }\n      });\n      // Destroy server and session\n      const cmd_destroy = \"import bokeh.io.notebook as ion; ion.destroy_server('\" + server_id + \"')\";\n      cell.notebook.kernel.execute(cmd_destroy);\n    }\n  }\n\n  /**\n   * Handle when a new output is added\n   */\n  function handleAddOutput(event, handle) {\n    const output_area = handle.output_area;\n    const output = handle.output;\n\n    // limit handleAddOutput to display_data with EXEC_MIME_TYPE content only\n    if ((output.output_type != \"display_data\") || (!Object.prototype.hasOwnProperty.call(output.data, EXEC_MIME_TYPE))) {\n      return\n    }\n\n    const toinsert = output_area.element.find(\".\" + CLASS_NAME.split(' ')[0]);\n\n    if (output.metadata[EXEC_MIME_TYPE][\"id\"] !== undefined) {\n      toinsert[toinsert.length - 1].firstChild.textContent = output.data[JS_MIME_TYPE];\n      // store reference to embed id on output_area\n      output_area._bokeh_element_id = output.metadata[EXEC_MIME_TYPE][\"id\"];\n    }\n    if (output.metadata[EXEC_MIME_TYPE][\"server_id\"] !== undefined) {\n      const bk_div = document.createElement(\"div\");\n      bk_div.innerHTML = output.data[HTML_MIME_TYPE];\n      const script_attrs = bk_div.children[0].attributes;\n      for (let i = 0; i < script_attrs.length; i++) {\n        toinsert[toinsert.length - 1].firstChild.setAttribute(script_attrs[i].name, script_attrs[i].value);\n        toinsert[toinsert.length - 1].firstChild.textContent = bk_div.children[0].textContent\n      }\n      // store reference to server id on output_area\n      output_area._bokeh_server_id = output.metadata[EXEC_MIME_TYPE][\"server_id\"];\n    }\n  }\n\n  function register_renderer(events, OutputArea) {\n\n    function append_mime(data, metadata, element) {\n      // create a DOM node to render to\n      const toinsert = this.create_output_subarea(\n        metadata,\n        CLASS_NAME,\n        EXEC_MIME_TYPE\n      );\n      this.keyboard_manager.register_events(toinsert);\n      // Render to node\n      const props = {data: data, metadata: metadata[EXEC_MIME_TYPE]};\n      render(props, toinsert[toinsert.length - 1]);\n      element.append(toinsert);\n      return toinsert\n    }\n\n    /* Handle when an output is cleared or removed */\n    events.on('clear_output.CodeCell', handleClearOutput);\n    events.on('delete.Cell', handleClearOutput);\n\n    /* Handle when a new output is added */\n    events.on('output_added.OutputArea', handleAddOutput);\n\n    /**\n     * Register the mime type and append_mime function with output_area\n     */\n    OutputArea.prototype.register_mime_type(EXEC_MIME_TYPE, append_mime, {\n      /* Is output safe? */\n      safe: true,\n      /* Index of renderer in `output_area.display_order` */\n      index: 0\n    });\n  }\n\n  // register the mime type if in Jupyter Notebook environment and previously unregistered\n  if (root.Jupyter !== undefined) {\n    const events = require('base/js/events');\n    const OutputArea = require('notebook/js/outputarea').OutputArea;\n\n    if (OutputArea.prototype.mime_types().indexOf(EXEC_MIME_TYPE) == -1) {\n      register_renderer(events, OutputArea);\n    }\n  }\n  if (typeof (root._bokeh_timeout) === \"undefined\" || force === true) {\n    root._bokeh_timeout = Date.now() + 5000;\n    root._bokeh_failed_load = false;\n  }\n\n  const NB_LOAD_WARNING = {'data': {'text/html':\n     \"<div style='background-color: #fdd'>\\n\"+\n     \"<p>\\n\"+\n     \"BokehJS does not appear to have successfully loaded. If loading BokehJS from CDN, this \\n\"+\n     \"may be due to a slow or bad network connection. Possible fixes:\\n\"+\n     \"</p>\\n\"+\n     \"<ul>\\n\"+\n     \"<li>re-rerun `output_notebook()` to attempt to load from CDN again, or</li>\\n\"+\n     \"<li>use INLINE resources instead, as so:</li>\\n\"+\n     \"</ul>\\n\"+\n     \"<code>\\n\"+\n     \"from bokeh.resources import INLINE\\n\"+\n     \"output_notebook(resources=INLINE)\\n\"+\n     \"</code>\\n\"+\n     \"</div>\"}};\n\n  function display_loaded() {\n    const el = document.getElementById(\"2147\");\n    if (el != null) {\n      el.textContent = \"BokehJS is loading...\";\n    }\n    if (root.Bokeh !== undefined) {\n      if (el != null) {\n        el.textContent = \"BokehJS \" + root.Bokeh.version + \" successfully loaded.\";\n      }\n    } else if (Date.now() < root._bokeh_timeout) {\n      setTimeout(display_loaded, 100)\n    }\n  }\n\n  function run_callbacks() {\n    try {\n      root._bokeh_onload_callbacks.forEach(function(callback) {\n        if (callback != null)\n          callback();\n      });\n    } finally {\n      delete root._bokeh_onload_callbacks\n    }\n    console.debug(\"Bokeh: all callbacks have finished\");\n  }\n\n  function load_libs(css_urls, js_urls, callback) {\n    if (css_urls == null) css_urls = [];\n    if (js_urls == null) js_urls = [];\n\n    root._bokeh_onload_callbacks.push(callback);\n    if (root._bokeh_is_loading > 0) {\n      console.debug(\"Bokeh: BokehJS is being loaded, scheduling callback at\", now());\n      return null;\n    }\n    if (js_urls == null || js_urls.length === 0) {\n      run_callbacks();\n      return null;\n    }\n    console.debug(\"Bokeh: BokehJS not loaded, scheduling load and callback at\", now());\n    root._bokeh_is_loading = css_urls.length + js_urls.length;\n\n    function on_load() {\n      root._bokeh_is_loading--;\n      if (root._bokeh_is_loading === 0) {\n        console.debug(\"Bokeh: all BokehJS libraries/stylesheets loaded\");\n        run_callbacks()\n      }\n    }\n\n    function on_error(url) {\n      console.error(\"failed to load \" + url);\n    }\n\n    for (let i = 0; i < css_urls.length; i++) {\n      const url = css_urls[i];\n      const element = document.createElement(\"link\");\n      element.onload = on_load;\n      element.onerror = on_error.bind(null, url);\n      element.rel = \"stylesheet\";\n      element.type = \"text/css\";\n      element.href = url;\n      console.debug(\"Bokeh: injecting link tag for BokehJS stylesheet: \", url);\n      document.body.appendChild(element);\n    }\n\n    for (let i = 0; i < js_urls.length; i++) {\n      const url = js_urls[i];\n      const element = document.createElement('script');\n      element.onload = on_load;\n      element.onerror = on_error.bind(null, url);\n      element.async = false;\n      element.src = url;\n      console.debug(\"Bokeh: injecting script tag for BokehJS library: \", url);\n      document.head.appendChild(element);\n    }\n  };\n\n  function inject_raw_css(css) {\n    const element = document.createElement(\"style\");\n    element.appendChild(document.createTextNode(css));\n    document.body.appendChild(element);\n  }\n\n  const js_urls = [\"https://cdn.bokeh.org/bokeh/release/bokeh-2.4.3.min.js\", \"https://cdn.bokeh.org/bokeh/release/bokeh-gl-2.4.3.min.js\", \"https://cdn.bokeh.org/bokeh/release/bokeh-widgets-2.4.3.min.js\", \"https://cdn.bokeh.org/bokeh/release/bokeh-tables-2.4.3.min.js\", \"https://cdn.bokeh.org/bokeh/release/bokeh-mathjax-2.4.3.min.js\"];\n  const css_urls = [];\n\n  const inline_js = [    function(Bokeh) {\n      Bokeh.set_log_level(\"info\");\n    },\nfunction(Bokeh) {\n    }\n  ];\n\n  function run_inline_js() {\n    if (root.Bokeh !== undefined || force === true) {\n          for (let i = 0; i < inline_js.length; i++) {\n      inline_js[i].call(root, root.Bokeh);\n    }\nif (force === true) {\n        display_loaded();\n      }} else if (Date.now() < root._bokeh_timeout) {\n      setTimeout(run_inline_js, 100);\n    } else if (!root._bokeh_failed_load) {\n      console.log(\"Bokeh: BokehJS failed to load within specified timeout.\");\n      root._bokeh_failed_load = true;\n    } else if (force !== true) {\n      const cell = $(document.getElementById(\"2147\")).parents('.cell').data().cell;\n      cell.output_area.append_execute_result(NB_LOAD_WARNING)\n    }\n  }\n\n  if (root._bokeh_is_loading === 0) {\n    console.debug(\"Bokeh: BokehJS loaded, going straight to plotting\");\n    run_inline_js();\n  } else {\n    load_libs(css_urls, js_urls, function() {\n      console.debug(\"Bokeh: BokehJS plotting callback run at\", now());\n      run_inline_js();\n    });\n  }\n}(window));",
      "application/vnd.bokehjs_load.v0+json": ""
     },
     "metadata": {},
     "output_type": "display_data"
    }
   ],
   "source": [
    "# imports\n",
    "import pandas as pd\n",
    "pd.options.mode.chained_assignment = None\n",
    "import numpy as np\n",
    "from math import pi\n",
    "import matplotlib.pyplot as plt\n",
    "\n",
    "from bokeh.plotting import figure, show, output_file, output_notebook\n",
    "from bokeh.models import ColumnDataSource, Range1d, HoverTool, Legend\n",
    "from bokeh.models.widgets import Tabs, Panel\n",
    "from bokeh.io import show\n",
    "from bokeh.palettes import BuGn, Category20b, Spectral, Plasma, Viridis, YlOrRd, PuOr, BuPu, BuGn, brewer, GnBu, PRGn, Inferno256, PuRd, RdPu, PiYG, RdYlGn, YlGnBu\n",
    "from bokeh.io import reset_output, output_notebook\n",
    "reset_output()\n",
    "output_notebook()\n",
    "\n",
    "from bokeh.plotting import figure, output_file, save\n",
    "from IPython.display import IFrame\n",
    "from IPython.core.display import display, HTML\n",
    "import tempfile\n"
   ]
  },
  {
   "cell_type": "code",
   "execution_count": 30,
   "metadata": {},
   "outputs": [
    {
     "data": {
      "text/html": [
       "<div>\n",
       "<style scoped>\n",
       "    .dataframe tbody tr th:only-of-type {\n",
       "        vertical-align: middle;\n",
       "    }\n",
       "\n",
       "    .dataframe tbody tr th {\n",
       "        vertical-align: top;\n",
       "    }\n",
       "\n",
       "    .dataframe thead th {\n",
       "        text-align: right;\n",
       "    }\n",
       "</style>\n",
       "<table border=\"1\" class=\"dataframe\">\n",
       "  <thead>\n",
       "    <tr style=\"text-align: right;\">\n",
       "      <th></th>\n",
       "      <th>Date of Offense</th>\n",
       "      <th>Time of Offense</th>\n",
       "      <th>Date Offense Reported</th>\n",
       "      <th>Report Year</th>\n",
       "      <th>Month</th>\n",
       "      <th>CCN</th>\n",
       "      <th>District</th>\n",
       "      <th>Block Location</th>\n",
       "      <th>Type of Hate Bias</th>\n",
       "      <th>Targeted Group</th>\n",
       "      <th>Top Offense Type</th>\n",
       "      <th>Address</th>\n",
       "      <th>gcode</th>\n",
       "      <th>lat</th>\n",
       "      <th>long</th>\n",
       "      <th>zipcodes</th>\n",
       "    </tr>\n",
       "  </thead>\n",
       "  <tbody>\n",
       "    <tr>\n",
       "      <th>0</th>\n",
       "      <td>2012-01-08</td>\n",
       "      <td>1500-1505</td>\n",
       "      <td>2012-01-08</td>\n",
       "      <td>2012</td>\n",
       "      <td>1</td>\n",
       "      <td>12003845</td>\n",
       "      <td>3</td>\n",
       "      <td>1600 B/O 17th St NW</td>\n",
       "      <td>Sexual Orientation</td>\n",
       "      <td>Not Reported</td>\n",
       "      <td>Threats</td>\n",
       "      <td>1600  17th St NW  Washington DC</td>\n",
       "      <td>1600, 17th Street Northwest, Dupont Circle, Wa...</td>\n",
       "      <td>38.911250</td>\n",
       "      <td>-77.038588</td>\n",
       "      <td>20009</td>\n",
       "    </tr>\n",
       "    <tr>\n",
       "      <th>1</th>\n",
       "      <td>2012-01-14</td>\n",
       "      <td>0240-0250</td>\n",
       "      <td>2012-01-14</td>\n",
       "      <td>2012</td>\n",
       "      <td>1</td>\n",
       "      <td>12006716</td>\n",
       "      <td>3</td>\n",
       "      <td>1800 B/O 14th St NW</td>\n",
       "      <td>Sexual Orientation</td>\n",
       "      <td>Not Reported</td>\n",
       "      <td>Simple Assault</td>\n",
       "      <td>1800  14th St NW Washington DC</td>\n",
       "      <td>1800, 14th Street Northwest, Cardozo/Shaw, Was...</td>\n",
       "      <td>38.914217</td>\n",
       "      <td>-77.032054</td>\n",
       "      <td>20009</td>\n",
       "    </tr>\n",
       "    <tr>\n",
       "      <th>2</th>\n",
       "      <td>2012-01-22</td>\n",
       "      <td>145</td>\n",
       "      <td>2012-01-22</td>\n",
       "      <td>2012</td>\n",
       "      <td>1</td>\n",
       "      <td>12010626</td>\n",
       "      <td>7</td>\n",
       "      <td>1300 B/O Alabama Ave SE</td>\n",
       "      <td>Sexual Orientation</td>\n",
       "      <td>Not Reported</td>\n",
       "      <td>ADW</td>\n",
       "      <td>1300  Alabama Ave SE Washington DC</td>\n",
       "      <td>1300, Alabama Avenue Southeast, Washington, Di...</td>\n",
       "      <td>38.845056</td>\n",
       "      <td>-76.987412</td>\n",
       "      <td>20020</td>\n",
       "    </tr>\n",
       "    <tr>\n",
       "      <th>3</th>\n",
       "      <td>2012-01-22</td>\n",
       "      <td>1930</td>\n",
       "      <td>2012-01-22</td>\n",
       "      <td>2012</td>\n",
       "      <td>1</td>\n",
       "      <td>12010912</td>\n",
       "      <td>1</td>\n",
       "      <td>600 B/O H St NW</td>\n",
       "      <td>Race</td>\n",
       "      <td>Asian</td>\n",
       "      <td>Threats</td>\n",
       "      <td>600  H St NW Washington DC</td>\n",
       "      <td>600, H Street Northwest, Chinatown, Washington...</td>\n",
       "      <td>38.899729</td>\n",
       "      <td>-77.020065</td>\n",
       "      <td>20001</td>\n",
       "    </tr>\n",
       "    <tr>\n",
       "      <th>4</th>\n",
       "      <td>2012-02-06</td>\n",
       "      <td>1900</td>\n",
       "      <td>2012-02-06</td>\n",
       "      <td>2012</td>\n",
       "      <td>2</td>\n",
       "      <td>12018396</td>\n",
       "      <td>3</td>\n",
       "      <td>1300 B/O Park Rd NW</td>\n",
       "      <td>Sexual Orientation</td>\n",
       "      <td>Not Reported</td>\n",
       "      <td>Simple Assault</td>\n",
       "      <td>1300  Park Rd NW Washington DC</td>\n",
       "      <td>1300, Park Road Northwest, Columbia Heights, W...</td>\n",
       "      <td>38.931198</td>\n",
       "      <td>-77.029808</td>\n",
       "      <td>20010</td>\n",
       "    </tr>\n",
       "  </tbody>\n",
       "</table>\n",
       "</div>"
      ],
      "text/plain": [
       "  Date of Offense Time of Offense Date Offense Reported  Report Year  Month  \\\n",
       "0      2012-01-08       1500-1505            2012-01-08         2012      1   \n",
       "1      2012-01-14       0240-0250            2012-01-14         2012      1   \n",
       "2      2012-01-22             145            2012-01-22         2012      1   \n",
       "3      2012-01-22            1930            2012-01-22         2012      1   \n",
       "4      2012-02-06            1900            2012-02-06         2012      2   \n",
       "\n",
       "        CCN  District           Block Location   Type of Hate Bias  \\\n",
       "0  12003845         3     1600 B/O 17th St NW   Sexual Orientation   \n",
       "1  12006716         3      1800 B/O 14th St NW  Sexual Orientation   \n",
       "2  12010626         7  1300 B/O Alabama Ave SE  Sexual Orientation   \n",
       "3  12010912         1          600 B/O H St NW                Race   \n",
       "4  12018396         3      1300 B/O Park Rd NW  Sexual Orientation   \n",
       "\n",
       "  Targeted Group Top Offense Type                             Address  \\\n",
       "0   Not Reported          Threats     1600  17th St NW  Washington DC   \n",
       "1   Not Reported   Simple Assault      1800  14th St NW Washington DC   \n",
       "2   Not Reported              ADW  1300  Alabama Ave SE Washington DC   \n",
       "3          Asian          Threats          600  H St NW Washington DC   \n",
       "4   Not Reported   Simple Assault      1300  Park Rd NW Washington DC   \n",
       "\n",
       "                                               gcode        lat       long  \\\n",
       "0  1600, 17th Street Northwest, Dupont Circle, Wa...  38.911250 -77.038588   \n",
       "1  1800, 14th Street Northwest, Cardozo/Shaw, Was...  38.914217 -77.032054   \n",
       "2  1300, Alabama Avenue Southeast, Washington, Di...  38.845056 -76.987412   \n",
       "3  600, H Street Northwest, Chinatown, Washington...  38.899729 -77.020065   \n",
       "4  1300, Park Road Northwest, Columbia Heights, W...  38.931198 -77.029808   \n",
       "\n",
       "   zipcodes  \n",
       "0     20009  \n",
       "1     20009  \n",
       "2     20020  \n",
       "3     20001  \n",
       "4     20010  "
      ]
     },
     "execution_count": 30,
     "metadata": {},
     "output_type": "execute_result"
    }
   ],
   "source": [
    "df = pd.read_csv('data/hatecrime_df_clean.csv')\n",
    "df.head()"
   ]
  },
  {
   "cell_type": "markdown",
   "metadata": {},
   "source": [
    "# Horizontal bar examples"
   ]
  },
  {
   "cell_type": "markdown",
   "metadata": {},
   "source": [
    "### Step 1: Create a function that creates a seperate dataframe for every categorical column that we want to analyze"
   ]
  },
  {
   "cell_type": "code",
   "execution_count": 31,
   "metadata": {},
   "outputs": [],
   "source": [
    "# function to make a dataframe to count the unique values for each category in a given column\n",
    "def prep_bokeh_df(df, column):\n",
    "    count_df = pd.Series(df[column].value_counts()).reset_index(name='Hate crime count').rename(columns={'index':column})\n",
    "    return count_df\n"
   ]
  },
  {
   "cell_type": "markdown",
   "metadata": {},
   "source": [
    "Use the function to create multiple dfs for the categories we want to explore."
   ]
  },
  {
   "cell_type": "code",
   "execution_count": 32,
   "metadata": {},
   "outputs": [],
   "source": [
    "# make the new dfs\n",
    "type_bias_bar_df = prep_bokeh_df(df, 'Type of Hate Bias')\n",
    "targeted_group_bar_df = prep_bokeh_df(df, 'Targeted Group')\n",
    "offense_type_bar_df = prep_bokeh_df(df, 'Top Offense Type')"
   ]
  },
  {
   "cell_type": "markdown",
   "metadata": {},
   "source": [
    "### Step 2: Create a function to plot Bokeh categorical data into horizontal bars"
   ]
  },
  {
   "cell_type": "code",
   "execution_count": 33,
   "metadata": {},
   "outputs": [],
   "source": [
    "# function to plot bokeh categorical data in a horizontal bar\n",
    "# you input the dataframe, column, colorpalette, height, and width\n",
    "def bokeh_hbar(df, column, title, colorpalette, height, width):\n",
    "    TOOLS = \"hover,save,pan,box_zoom,reset,wheel_zoom,tap\"\n",
    "    p = figure(plot_height=height,\n",
    "        plot_width=width,\n",
    "        title=title,\n",
    "        tools=TOOLS,\n",
    "        toolbar_location='right',\n",
    "        y_range=df[column].unique()[::-1])\n",
    "    p.hbar(y=df[column], right=df['Hate crime count'], \n",
    "    height=0.75,color=colorpalette[df[column].nunique()]) #color='#8968CD')\n",
    "    p.yaxis.axis_label = column\n",
    "    p.xaxis.axis_label = 'Number of hate crimes'\n",
    "    p.select_one(HoverTool).tooltips = [\n",
    "        (column, '@y'),\n",
    "        ('Number of hate crimes', '@right')]\n",
    "    return p"
   ]
  },
  {
   "cell_type": "markdown",
   "metadata": {},
   "source": [
    "We display the number of hate crimes per type of hate bias, targeted group, and top offense type in tabs."
   ]
  },
  {
   "cell_type": "code",
   "execution_count": 34,
   "metadata": {},
   "outputs": [
    {
     "data": {
      "text/html": [
       "\n",
       "  <div class=\"bk-root\" id=\"f3a318db-3072-4b5a-a351-e6901eb87d9e\" data-root-id=\"2301\"></div>\n"
      ]
     },
     "metadata": {},
     "output_type": "display_data"
    },
    {
     "data": {
      "application/javascript": "(function(root) {\n  function embed_document(root) {\n  const docs_json = {\"e3cb32db-db32-4a92-aebb-abd619c8d5c5\":{\"defs\":[],\"roots\":{\"references\":[{\"attributes\":{\"tabs\":[{\"id\":\"2298\"},{\"id\":\"2299\"},{\"id\":\"2300\"}]},\"id\":\"2301\",\"type\":\"Tabs\"},{\"attributes\":{\"below\":[{\"id\":\"2259\"}],\"center\":[{\"id\":\"2262\"},{\"id\":\"2265\"}],\"height\":450,\"left\":[{\"id\":\"2263\"}],\"renderers\":[{\"id\":\"2286\"}],\"title\":{\"id\":\"2249\"},\"toolbar\":{\"id\":\"2274\"},\"width\":650,\"x_range\":{\"id\":\"2251\"},\"x_scale\":{\"id\":\"2255\"},\"y_range\":{\"id\":\"2253\"},\"y_scale\":{\"id\":\"2257\"}},\"id\":\"2248\",\"subtype\":\"Figure\",\"type\":\"Plot\"},{\"attributes\":{\"axis_label\":\"Number of hate crimes\",\"coordinates\":null,\"formatter\":{\"id\":\"2243\"},\"group\":null,\"major_label_policy\":{\"id\":\"2244\"},\"ticker\":{\"id\":\"2210\"}},\"id\":\"2209\",\"type\":\"LinearAxis\"},{\"attributes\":{\"overlay\":{\"id\":\"2223\"}},\"id\":\"2219\",\"type\":\"BoxZoomTool\"},{\"attributes\":{\"bottom_units\":\"screen\",\"coordinates\":null,\"fill_alpha\":0.5,\"fill_color\":\"lightgrey\",\"group\":null,\"left_units\":\"screen\",\"level\":\"overlay\",\"line_alpha\":1.0,\"line_color\":\"black\",\"line_dash\":[4,4],\"line_width\":2,\"right_units\":\"screen\",\"syncable\":false,\"top_units\":\"screen\"},\"id\":\"2173\",\"type\":\"BoxAnnotation\"},{\"attributes\":{\"coordinates\":null,\"data_source\":{\"id\":\"2182\"},\"glyph\":{\"id\":\"2183\"},\"group\":null,\"hover_glyph\":null,\"muted_glyph\":{\"id\":\"2185\"},\"nonselection_glyph\":{\"id\":\"2184\"},\"view\":{\"id\":\"2187\"}},\"id\":\"2186\",\"type\":\"GlyphRenderer\"},{\"attributes\":{\"tools\":[{\"id\":\"2166\"},{\"id\":\"2167\"},{\"id\":\"2168\"},{\"id\":\"2169\"},{\"id\":\"2170\"},{\"id\":\"2171\"},{\"id\":\"2172\"}]},\"id\":\"2174\",\"type\":\"Toolbar\"},{\"attributes\":{},\"id\":\"2171\",\"type\":\"WheelZoomTool\"},{\"attributes\":{},\"id\":\"2164\",\"type\":\"CategoricalTicker\"},{\"attributes\":{},\"id\":\"2218\",\"type\":\"PanTool\"},{\"attributes\":{\"callback\":null},\"id\":\"2172\",\"type\":\"TapTool\"},{\"attributes\":{\"below\":[{\"id\":\"2209\"}],\"center\":[{\"id\":\"2212\"},{\"id\":\"2215\"}],\"height\":450,\"left\":[{\"id\":\"2213\"}],\"renderers\":[{\"id\":\"2236\"}],\"title\":{\"id\":\"2199\"},\"toolbar\":{\"id\":\"2224\"},\"width\":650,\"x_range\":{\"id\":\"2201\"},\"x_scale\":{\"id\":\"2205\"},\"y_range\":{\"id\":\"2203\"},\"y_scale\":{\"id\":\"2207\"}},\"id\":\"2198\",\"subtype\":\"Figure\",\"type\":\"Plot\"},{\"attributes\":{\"source\":{\"id\":\"2182\"}},\"id\":\"2187\",\"type\":\"CDSView\"},{\"attributes\":{},\"id\":\"2217\",\"type\":\"SaveTool\"},{\"attributes\":{},\"id\":\"2201\",\"type\":\"DataRange1d\"},{\"attributes\":{},\"id\":\"2170\",\"type\":\"ResetTool\"},{\"attributes\":{\"coordinates\":null,\"group\":null,\"text\":\"Number of hate crimes by targeted group\"},\"id\":\"2199\",\"type\":\"Title\"},{\"attributes\":{},\"id\":\"2207\",\"type\":\"CategoricalScale\"},{\"attributes\":{\"fill_alpha\":{\"value\":0.2},\"fill_color\":{\"field\":\"fill_color\"},\"hatch_alpha\":{\"value\":0.2},\"hatch_color\":{\"field\":\"hatch_color\"},\"height\":{\"value\":0.75},\"line_alpha\":{\"value\":0.2},\"line_color\":{\"field\":\"line_color\"},\"right\":{\"field\":\"right\"},\"y\":{\"field\":\"y\"}},\"id\":\"2185\",\"type\":\"HBar\"},{\"attributes\":{\"factors\":[\"Lebanese\",\"Iranian\",\"Turkish\",\"Japanese\",\"Pakistani\",\"Other/Unknown Religion\",\"Multiple\",\"Russian\",\"Jamaican\",\"Indian\",\"Hindu\",\"Arab/Middle Eastern or Jewish\",\"Israeli\",\"Unknown\",\"Christian\",\"Non-European\",\"Female\",\"Ethiopian\",\"Unspecified\",\"Chinese\",\"Muslim\",\"Arab/Middle Eastern\",\"Asian\",\"White\",\"Latino/Hispanic\",\"Jewish\",\"Black\",\"Not Reported\"]},\"id\":\"2203\",\"type\":\"FactorRange\"},{\"attributes\":{},\"id\":\"2205\",\"type\":\"LinearScale\"},{\"attributes\":{},\"id\":\"2240\",\"type\":\"CategoricalTickFormatter\"},{\"attributes\":{},\"id\":\"2290\",\"type\":\"CategoricalTickFormatter\"},{\"attributes\":{\"source\":{\"id\":\"2282\"}},\"id\":\"2287\",\"type\":\"CDSView\"},{\"attributes\":{\"child\":{\"id\":\"2148\"},\"title\":\"Type\"},\"id\":\"2298\",\"type\":\"Panel\"},{\"attributes\":{},\"id\":\"2241\",\"type\":\"AllLabels\"},{\"attributes\":{},\"id\":\"2243\",\"type\":\"BasicTickFormatter\"},{\"attributes\":{},\"id\":\"2214\",\"type\":\"CategoricalTicker\"},{\"attributes\":{\"below\":[{\"id\":\"2159\"}],\"center\":[{\"id\":\"2162\"},{\"id\":\"2165\"}],\"height\":450,\"left\":[{\"id\":\"2163\"}],\"renderers\":[{\"id\":\"2186\"}],\"title\":{\"id\":\"2149\"},\"toolbar\":{\"id\":\"2174\"},\"width\":650,\"x_range\":{\"id\":\"2151\"},\"x_scale\":{\"id\":\"2155\"},\"y_range\":{\"id\":\"2153\"},\"y_scale\":{\"id\":\"2157\"}},\"id\":\"2148\",\"subtype\":\"Figure\",\"type\":\"Plot\"},{\"attributes\":{},\"id\":\"2244\",\"type\":\"AllLabels\"},{\"attributes\":{},\"id\":\"2245\",\"type\":\"UnionRenderers\"},{\"attributes\":{\"axis\":{\"id\":\"2213\"},\"coordinates\":null,\"dimension\":1,\"group\":null,\"ticker\":null},\"id\":\"2215\",\"type\":\"Grid\"},{\"attributes\":{},\"id\":\"2151\",\"type\":\"DataRange1d\"},{\"attributes\":{\"axis_label\":\"Type of Hate Bias\",\"coordinates\":null,\"formatter\":{\"id\":\"2190\"},\"group\":null,\"major_label_policy\":{\"id\":\"2191\"},\"ticker\":{\"id\":\"2164\"}},\"id\":\"2163\",\"type\":\"CategoricalAxis\"},{\"attributes\":{},\"id\":\"2246\",\"type\":\"Selection\"},{\"attributes\":{\"factors\":[\"Sex/Gender\",\"Homelessness\",\"Disability\",\"Political Affiliation\",\"Religion\",\"Gender Identity/Expression\",\"Ethnicity/National Origin\",\"Race\",\"Sexual Orientation\"]},\"id\":\"2153\",\"type\":\"FactorRange\"},{\"attributes\":{\"overlay\":{\"id\":\"2173\"}},\"id\":\"2169\",\"type\":\"BoxZoomTool\"},{\"attributes\":{},\"id\":\"2291\",\"type\":\"AllLabels\"},{\"attributes\":{},\"id\":\"2157\",\"type\":\"CategoricalScale\"},{\"attributes\":{},\"id\":\"2293\",\"type\":\"BasicTickFormatter\"},{\"attributes\":{\"coordinates\":null,\"group\":null,\"text\":\"Number of hate crimes by type of hate bias\"},\"id\":\"2149\",\"type\":\"Title\"},{\"attributes\":{},\"id\":\"2155\",\"type\":\"LinearScale\"},{\"attributes\":{},\"id\":\"2294\",\"type\":\"AllLabels\"},{\"attributes\":{\"fill_alpha\":{\"value\":0.2},\"fill_color\":{\"field\":\"fill_color\"},\"hatch_alpha\":{\"value\":0.2},\"hatch_color\":{\"field\":\"hatch_color\"},\"height\":{\"value\":0.75},\"line_alpha\":{\"value\":0.2},\"line_color\":{\"field\":\"line_color\"},\"right\":{\"field\":\"right\"},\"y\":{\"field\":\"y\"}},\"id\":\"2285\",\"type\":\"HBar\"},{\"attributes\":{},\"id\":\"2295\",\"type\":\"UnionRenderers\"},{\"attributes\":{\"factors\":[\"Lewd, Indecent, Obscene Acts\",\"Burglary\",\"Leaving After Colliding\",\"Riot Act\",\"Violation of CPO\",\"Assault w/Significant Bodily Injury\",\"Aggravated Assault\",\"Affrays\",\"Cruelty to Children\",\"Voyeurism\",\"Arson\",\"Theft\",\"Sexual Abuse\",\"Stalking\",\"Displaying Symbols\",\"Robbery\",\"ADW\",\"Damage/Defacing/Destruction of Property\",\"Threats\",\"Simple Assault\"]},\"id\":\"2253\",\"type\":\"FactorRange\"},{\"attributes\":{},\"id\":\"2257\",\"type\":\"CategoricalScale\"},{\"attributes\":{},\"id\":\"2296\",\"type\":\"Selection\"},{\"attributes\":{\"coordinates\":null,\"group\":null,\"text\":\"Number of hate crimes by offense type\"},\"id\":\"2249\",\"type\":\"Title\"},{\"attributes\":{},\"id\":\"2191\",\"type\":\"AllLabels\"},{\"attributes\":{\"child\":{\"id\":\"2248\"},\"title\":\"Offense type\"},\"id\":\"2300\",\"type\":\"Panel\"},{\"attributes\":{},\"id\":\"2255\",\"type\":\"LinearScale\"},{\"attributes\":{\"child\":{\"id\":\"2198\"},\"title\":\"Targeted group\"},\"id\":\"2299\",\"type\":\"Panel\"},{\"attributes\":{\"axis_label\":\"Number of hate crimes\",\"coordinates\":null,\"formatter\":{\"id\":\"2193\"},\"group\":null,\"major_label_policy\":{\"id\":\"2194\"},\"ticker\":{\"id\":\"2160\"}},\"id\":\"2159\",\"type\":\"LinearAxis\"},{\"attributes\":{},\"id\":\"2210\",\"type\":\"BasicTicker\"},{\"attributes\":{\"axis\":{\"id\":\"2163\"},\"coordinates\":null,\"dimension\":1,\"group\":null,\"ticker\":null},\"id\":\"2165\",\"type\":\"Grid\"},{\"attributes\":{\"axis_label\":\"Targeted Group\",\"coordinates\":null,\"formatter\":{\"id\":\"2240\"},\"group\":null,\"major_label_policy\":{\"id\":\"2241\"},\"ticker\":{\"id\":\"2214\"}},\"id\":\"2213\",\"type\":\"CategoricalAxis\"},{\"attributes\":{},\"id\":\"2160\",\"type\":\"BasicTicker\"},{\"attributes\":{\"axis\":{\"id\":\"2209\"},\"coordinates\":null,\"group\":null,\"ticker\":null},\"id\":\"2212\",\"type\":\"Grid\"},{\"attributes\":{\"axis\":{\"id\":\"2159\"},\"coordinates\":null,\"group\":null,\"ticker\":null},\"id\":\"2162\",\"type\":\"Grid\"},{\"attributes\":{},\"id\":\"2194\",\"type\":\"AllLabels\"},{\"attributes\":{},\"id\":\"2168\",\"type\":\"PanTool\"},{\"attributes\":{\"data\":{\"fill_color\":[\"#67001f\",\"#980043\",\"#ce1256\",\"#e7298a\",\"#df65b0\",\"#c994c7\",\"#d4b9da\",\"#e7e1ef\",\"#67001f\",\"#980043\",\"#ce1256\",\"#e7298a\",\"#df65b0\",\"#c994c7\",\"#d4b9da\",\"#e7e1ef\",\"#67001f\",\"#980043\",\"#ce1256\",\"#e7298a\",\"#df65b0\",\"#c994c7\",\"#d4b9da\",\"#e7e1ef\",\"#67001f\",\"#980043\",\"#ce1256\",\"#e7298a\"],\"hatch_color\":[\"#67001f\",\"#980043\",\"#ce1256\",\"#e7298a\",\"#df65b0\",\"#c994c7\",\"#d4b9da\",\"#e7e1ef\",\"#67001f\",\"#980043\",\"#ce1256\",\"#e7298a\",\"#df65b0\",\"#c994c7\",\"#d4b9da\",\"#e7e1ef\",\"#67001f\",\"#980043\",\"#ce1256\",\"#e7298a\",\"#df65b0\",\"#c994c7\",\"#d4b9da\",\"#e7e1ef\",\"#67001f\",\"#980043\",\"#ce1256\",\"#e7298a\"],\"line_color\":[\"#67001f\",\"#980043\",\"#ce1256\",\"#e7298a\",\"#df65b0\",\"#c994c7\",\"#d4b9da\",\"#e7e1ef\",\"#67001f\",\"#980043\",\"#ce1256\",\"#e7298a\",\"#df65b0\",\"#c994c7\",\"#d4b9da\",\"#e7e1ef\",\"#67001f\",\"#980043\",\"#ce1256\",\"#e7298a\",\"#df65b0\",\"#c994c7\",\"#d4b9da\",\"#e7e1ef\",\"#67001f\",\"#980043\",\"#ce1256\",\"#e7298a\"],\"right\":[645,198,112,84,81,32,24,21,15,14,5,3,3,2,2,2,1,1,1,1,1,1,1,1,1,1,1,1],\"y\":[\"Not Reported\",\"Black\",\"Jewish\",\"Latino/Hispanic\",\"White\",\"Asian\",\"Arab/Middle Eastern\",\"Muslim\",\"Chinese\",\"Unspecified\",\"Ethiopian\",\"Female\",\"Non-European\",\"Christian\",\"Unknown\",\"Israeli\",\"Arab/Middle Eastern or Jewish\",\"Hindu\",\"Indian\",\"Jamaican\",\"Russian\",\"Multiple\",\"Other/Unknown Religion\",\"Pakistani\",\"Japanese\",\"Turkish\",\"Iranian\",\"Lebanese\"]},\"selected\":{\"id\":\"2246\"},\"selection_policy\":{\"id\":\"2245\"}},\"id\":\"2232\",\"type\":\"ColumnDataSource\"},{\"attributes\":{\"axis_label\":\"Number of hate crimes\",\"coordinates\":null,\"formatter\":{\"id\":\"2293\"},\"group\":null,\"major_label_policy\":{\"id\":\"2294\"},\"ticker\":{\"id\":\"2260\"}},\"id\":\"2259\",\"type\":\"LinearAxis\"},{\"attributes\":{},\"id\":\"2264\",\"type\":\"CategoricalTicker\"},{\"attributes\":{\"source\":{\"id\":\"2232\"}},\"id\":\"2237\",\"type\":\"CDSView\"},{\"attributes\":{},\"id\":\"2260\",\"type\":\"BasicTicker\"},{\"attributes\":{\"coordinates\":null,\"data_source\":{\"id\":\"2232\"},\"glyph\":{\"id\":\"2233\"},\"group\":null,\"hover_glyph\":null,\"muted_glyph\":{\"id\":\"2235\"},\"nonselection_glyph\":{\"id\":\"2234\"},\"view\":{\"id\":\"2237\"}},\"id\":\"2236\",\"type\":\"GlyphRenderer\"},{\"attributes\":{\"axis\":{\"id\":\"2259\"},\"coordinates\":null,\"group\":null,\"ticker\":null},\"id\":\"2262\",\"type\":\"Grid\"},{\"attributes\":{\"data\":{\"fill_color\":[\"#67001f\",\"#980043\",\"#ce1256\",\"#e7298a\",\"#df65b0\",\"#c994c7\",\"#d4b9da\",\"#e7e1ef\",\"#f7f4f9\"],\"hatch_color\":[\"#67001f\",\"#980043\",\"#ce1256\",\"#e7298a\",\"#df65b0\",\"#c994c7\",\"#d4b9da\",\"#e7e1ef\",\"#f7f4f9\"],\"line_color\":[\"#67001f\",\"#980043\",\"#ce1256\",\"#e7298a\",\"#df65b0\",\"#c994c7\",\"#d4b9da\",\"#e7e1ef\",\"#f7f4f9\"],\"right\":[422,278,257,181,72,33,5,4,3],\"y\":[\"Sexual Orientation\",\"Race\",\"Ethnicity/National Origin\",\"Gender Identity/Expression\",\"Religion\",\"Political Affiliation\",\"Disability\",\"Homelessness\",\"Sex/Gender\"]},\"selected\":{\"id\":\"2196\"},\"selection_policy\":{\"id\":\"2195\"}},\"id\":\"2182\",\"type\":\"ColumnDataSource\"},{\"attributes\":{\"axis\":{\"id\":\"2263\"},\"coordinates\":null,\"dimension\":1,\"group\":null,\"ticker\":null},\"id\":\"2265\",\"type\":\"Grid\"},{\"attributes\":{\"axis_label\":\"Top Offense Type\",\"coordinates\":null,\"formatter\":{\"id\":\"2290\"},\"group\":null,\"major_label_policy\":{\"id\":\"2291\"},\"ticker\":{\"id\":\"2264\"}},\"id\":\"2263\",\"type\":\"CategoricalAxis\"},{\"attributes\":{\"callback\":null,\"tooltips\":[[\"Type of Hate Bias\",\"@y\"],[\"Number of hate crimes\",\"@right\"]]},\"id\":\"2166\",\"type\":\"HoverTool\"},{\"attributes\":{},\"id\":\"2190\",\"type\":\"CategoricalTickFormatter\"},{\"attributes\":{\"fill_color\":{\"field\":\"fill_color\"},\"hatch_color\":{\"field\":\"hatch_color\"},\"height\":{\"value\":0.75},\"line_color\":{\"field\":\"line_color\"},\"right\":{\"field\":\"right\"},\"y\":{\"field\":\"y\"}},\"id\":\"2233\",\"type\":\"HBar\"},{\"attributes\":{\"callback\":null,\"tooltips\":[[\"Targeted Group\",\"@y\"],[\"Number of hate crimes\",\"@right\"]]},\"id\":\"2216\",\"type\":\"HoverTool\"},{\"attributes\":{},\"id\":\"2221\",\"type\":\"WheelZoomTool\"},{\"attributes\":{\"fill_alpha\":{\"value\":0.1},\"fill_color\":{\"field\":\"fill_color\"},\"hatch_alpha\":{\"value\":0.1},\"hatch_color\":{\"field\":\"hatch_color\"},\"height\":{\"value\":0.75},\"line_alpha\":{\"value\":0.1},\"line_color\":{\"field\":\"line_color\"},\"right\":{\"field\":\"right\"},\"y\":{\"field\":\"y\"}},\"id\":\"2284\",\"type\":\"HBar\"},{\"attributes\":{},\"id\":\"2220\",\"type\":\"ResetTool\"},{\"attributes\":{\"data\":{\"fill_color\":[\"#67001f\",\"#980043\",\"#ce1256\",\"#e7298a\",\"#df65b0\",\"#c994c7\",\"#d4b9da\",\"#e7e1ef\",\"#67001f\",\"#980043\",\"#ce1256\",\"#e7298a\",\"#df65b0\",\"#c994c7\",\"#d4b9da\",\"#e7e1ef\",\"#67001f\",\"#980043\",\"#ce1256\",\"#e7298a\"],\"hatch_color\":[\"#67001f\",\"#980043\",\"#ce1256\",\"#e7298a\",\"#df65b0\",\"#c994c7\",\"#d4b9da\",\"#e7e1ef\",\"#67001f\",\"#980043\",\"#ce1256\",\"#e7298a\",\"#df65b0\",\"#c994c7\",\"#d4b9da\",\"#e7e1ef\",\"#67001f\",\"#980043\",\"#ce1256\",\"#e7298a\"],\"line_color\":[\"#67001f\",\"#980043\",\"#ce1256\",\"#e7298a\",\"#df65b0\",\"#c994c7\",\"#d4b9da\",\"#e7e1ef\",\"#67001f\",\"#980043\",\"#ce1256\",\"#e7298a\",\"#df65b0\",\"#c994c7\",\"#d4b9da\",\"#e7e1ef\",\"#67001f\",\"#980043\",\"#ce1256\",\"#e7298a\"],\"right\":[463,306,190,150,71,40,13,6,4,1,1,1,1,1,1,1,1,1,1,1],\"y\":[\"Simple Assault\",\"Threats\",\"Damage/Defacing/Destruction of Property\",\"ADW\",\"Robbery\",\"Displaying Symbols\",\"Stalking\",\"Sexual Abuse\",\"Theft\",\"Arson\",\"Voyeurism\",\"Cruelty to Children\",\"Affrays\",\"Aggravated Assault\",\"Assault w/Significant Bodily Injury\",\"Violation of CPO\",\"Riot Act\",\"Leaving After Colliding\",\"Burglary\",\"Lewd, Indecent, Obscene Acts\"]},\"selected\":{\"id\":\"2296\"},\"selection_policy\":{\"id\":\"2295\"}},\"id\":\"2282\",\"type\":\"ColumnDataSource\"},{\"attributes\":{\"coordinates\":null,\"data_source\":{\"id\":\"2282\"},\"glyph\":{\"id\":\"2283\"},\"group\":null,\"hover_glyph\":null,\"muted_glyph\":{\"id\":\"2285\"},\"nonselection_glyph\":{\"id\":\"2284\"},\"view\":{\"id\":\"2287\"}},\"id\":\"2286\",\"type\":\"GlyphRenderer\"},{\"attributes\":{\"fill_alpha\":{\"value\":0.1},\"fill_color\":{\"field\":\"fill_color\"},\"hatch_alpha\":{\"value\":0.1},\"hatch_color\":{\"field\":\"hatch_color\"},\"height\":{\"value\":0.75},\"line_alpha\":{\"value\":0.1},\"line_color\":{\"field\":\"line_color\"},\"right\":{\"field\":\"right\"},\"y\":{\"field\":\"y\"}},\"id\":\"2234\",\"type\":\"HBar\"},{\"attributes\":{},\"id\":\"2251\",\"type\":\"DataRange1d\"},{\"attributes\":{},\"id\":\"2167\",\"type\":\"SaveTool\"},{\"attributes\":{\"callback\":null},\"id\":\"2222\",\"type\":\"TapTool\"},{\"attributes\":{\"tools\":[{\"id\":\"2216\"},{\"id\":\"2217\"},{\"id\":\"2218\"},{\"id\":\"2219\"},{\"id\":\"2220\"},{\"id\":\"2221\"},{\"id\":\"2222\"}]},\"id\":\"2224\",\"type\":\"Toolbar\"},{\"attributes\":{\"callback\":null,\"tooltips\":[[\"Top Offense Type\",\"@y\"],[\"Number of hate crimes\",\"@right\"]]},\"id\":\"2266\",\"type\":\"HoverTool\"},{\"attributes\":{},\"id\":\"2196\",\"type\":\"Selection\"},{\"attributes\":{\"fill_alpha\":{\"value\":0.1},\"fill_color\":{\"field\":\"fill_color\"},\"hatch_alpha\":{\"value\":0.1},\"hatch_color\":{\"field\":\"hatch_color\"},\"height\":{\"value\":0.75},\"line_alpha\":{\"value\":0.1},\"line_color\":{\"field\":\"line_color\"},\"right\":{\"field\":\"right\"},\"y\":{\"field\":\"y\"}},\"id\":\"2184\",\"type\":\"HBar\"},{\"attributes\":{},\"id\":\"2267\",\"type\":\"SaveTool\"},{\"attributes\":{\"bottom_units\":\"screen\",\"coordinates\":null,\"fill_alpha\":0.5,\"fill_color\":\"lightgrey\",\"group\":null,\"left_units\":\"screen\",\"level\":\"overlay\",\"line_alpha\":1.0,\"line_color\":\"black\",\"line_dash\":[4,4],\"line_width\":2,\"right_units\":\"screen\",\"syncable\":false,\"top_units\":\"screen\"},\"id\":\"2223\",\"type\":\"BoxAnnotation\"},{\"attributes\":{\"fill_alpha\":{\"value\":0.2},\"fill_color\":{\"field\":\"fill_color\"},\"hatch_alpha\":{\"value\":0.2},\"hatch_color\":{\"field\":\"hatch_color\"},\"height\":{\"value\":0.75},\"line_alpha\":{\"value\":0.2},\"line_color\":{\"field\":\"line_color\"},\"right\":{\"field\":\"right\"},\"y\":{\"field\":\"y\"}},\"id\":\"2235\",\"type\":\"HBar\"},{\"attributes\":{},\"id\":\"2268\",\"type\":\"PanTool\"},{\"attributes\":{\"callback\":null},\"id\":\"2272\",\"type\":\"TapTool\"},{\"attributes\":{\"overlay\":{\"id\":\"2273\"}},\"id\":\"2269\",\"type\":\"BoxZoomTool\"},{\"attributes\":{\"fill_color\":{\"field\":\"fill_color\"},\"hatch_color\":{\"field\":\"hatch_color\"},\"height\":{\"value\":0.75},\"line_color\":{\"field\":\"line_color\"},\"right\":{\"field\":\"right\"},\"y\":{\"field\":\"y\"}},\"id\":\"2183\",\"type\":\"HBar\"},{\"attributes\":{},\"id\":\"2271\",\"type\":\"WheelZoomTool\"},{\"attributes\":{\"bottom_units\":\"screen\",\"coordinates\":null,\"fill_alpha\":0.5,\"fill_color\":\"lightgrey\",\"group\":null,\"left_units\":\"screen\",\"level\":\"overlay\",\"line_alpha\":1.0,\"line_color\":\"black\",\"line_dash\":[4,4],\"line_width\":2,\"right_units\":\"screen\",\"syncable\":false,\"top_units\":\"screen\"},\"id\":\"2273\",\"type\":\"BoxAnnotation\"},{\"attributes\":{},\"id\":\"2270\",\"type\":\"ResetTool\"},{\"attributes\":{},\"id\":\"2195\",\"type\":\"UnionRenderers\"},{\"attributes\":{\"fill_color\":{\"field\":\"fill_color\"},\"hatch_color\":{\"field\":\"hatch_color\"},\"height\":{\"value\":0.75},\"line_color\":{\"field\":\"line_color\"},\"right\":{\"field\":\"right\"},\"y\":{\"field\":\"y\"}},\"id\":\"2283\",\"type\":\"HBar\"},{\"attributes\":{},\"id\":\"2193\",\"type\":\"BasicTickFormatter\"},{\"attributes\":{\"tools\":[{\"id\":\"2266\"},{\"id\":\"2267\"},{\"id\":\"2268\"},{\"id\":\"2269\"},{\"id\":\"2270\"},{\"id\":\"2271\"},{\"id\":\"2272\"}]},\"id\":\"2274\",\"type\":\"Toolbar\"}],\"root_ids\":[\"2301\"]},\"title\":\"Bokeh Application\",\"version\":\"2.4.3\"}};\n  const render_items = [{\"docid\":\"e3cb32db-db32-4a92-aebb-abd619c8d5c5\",\"root_ids\":[\"2301\"],\"roots\":{\"2301\":\"f3a318db-3072-4b5a-a351-e6901eb87d9e\"}}];\n  root.Bokeh.embed.embed_items_notebook(docs_json, render_items);\n  }\n  if (root.Bokeh !== undefined) {\n    embed_document(root);\n  } else {\n    let attempts = 0;\n    const timer = setInterval(function(root) {\n      if (root.Bokeh !== undefined) {\n        clearInterval(timer);\n        embed_document(root);\n      } else {\n        attempts++;\n        if (attempts > 100) {\n          clearInterval(timer);\n          console.log(\"Bokeh: ERROR: Unable to run BokehJS code because BokehJS library is missing\");\n        }\n      }\n    }, 10, root)\n  }\n})(window);",
      "application/vnd.bokehjs_exec.v0+json": ""
     },
     "metadata": {
      "application/vnd.bokehjs_exec.v0+json": {
       "id": "2301"
      }
     },
     "output_type": "display_data"
    }
   ],
   "source": [
    "# update colorschemes\n",
    "PuRd_20 = {20: PuRd[9][:-1]+ PuRd[9][:-1] + PuRd[9][:-5]}\n",
    "PuRd_28 = {28: PuRd[9][:-1]+ PuRd[9][:-1] + PuRd[9][:-1] + PuRd[9][:-5]}\n",
    "\n",
    "\n",
    "# intialize plots to be put in tabs\n",
    "p_type = bokeh_hbar(type_bias_bar_df, 'Type of Hate Bias', \"Number of hate crimes by type of hate bias\", \n",
    "             PuRd, 450, 650)\n",
    "p_target = bokeh_hbar(targeted_group_bar_df, 'Targeted Group', \"Number of hate crimes by targeted group\", \n",
    "            PuRd_28, 450, 650)\n",
    "p_offense = bokeh_hbar(offense_type_bar_df, 'Top Offense Type', \"Number of hate crimes by offense type\", \n",
    "            PuRd_20, 450, 650)            \n",
    "\n",
    "# format in tabs\n",
    "tabs = Tabs(tabs=[\n",
    "                 Panel(child=p_type, title='Type'),\n",
    "                 Panel(child=p_target, title='Targeted group'),\n",
    "                 Panel(child=p_offense, title='Offense type')])\n",
    "\n",
    "show(tabs)"
   ]
  },
  {
   "cell_type": "markdown",
   "metadata": {},
   "source": [
    "# Trending examples"
   ]
  },
  {
   "cell_type": "markdown",
   "metadata": {},
   "source": [
    "### Step 1: Prepare dataframes for the time intervals we want to trend by."
   ]
  },
  {
   "cell_type": "code",
   "execution_count": 35,
   "metadata": {},
   "outputs": [],
   "source": [
    "# prep a dataframe to have one row per date with the count of crimes, and also include year, month\n",
    "df_daily_counts = df['Date of Offense'].value_counts()\n",
    "df_daily_counts = pd.Series(df_daily_counts).reset_index(name='Hate crime count').rename(columns={'index':'Date of Offense'})\n",
    "df_daily_counts['Year'] = pd.to_datetime(df_daily_counts['Date of Offense']).dt.year\n",
    "df_daily_counts['Month'] = pd.to_datetime(df_daily_counts['Date of Offense']).dt.month\n",
    "df_daily_counts['MonthYear'] = pd.to_datetime(df_daily_counts['Date of Offense']).dt.to_period('M')# month_temp_df.head()\n",
    "\n",
    "# df just for month and year trending\n",
    "df_yearly_counts = df_daily_counts.groupby('Year').sum().reset_index()\n",
    "df_monthly_counts = df_daily_counts.groupby('MonthYear').sum().reset_index()"
   ]
  },
  {
   "cell_type": "markdown",
   "metadata": {},
   "source": [
    "### Step 2: Create function to plot trending data in vbars."
   ]
  },
  {
   "cell_type": "code",
   "execution_count": 36,
   "metadata": {},
   "outputs": [],
   "source": [
    "# create function to take in a df, column, title, and colormap to make a trending vbar\n",
    "def bokeh_vbar(df, xcolumn, ycolumn, title, colormap, height, width):\n",
    "    TOOLS = \"hover,save,pan,box_zoom,reset,wheel_zoom,tap\"\n",
    "    p = figure(plot_height=height, plot_width=width,\n",
    "            title=title,\n",
    "            tools=TOOLS,\n",
    "            toolbar_location='right')\n",
    "\n",
    "    p.vbar(x=df[xcolumn], top=df[ycolumn], width=0.75, \n",
    "         color=colormap)\n",
    "\n",
    "    p.xaxis.axis_label = xcolumn\n",
    "    p.yaxis.axis_label = ycolumn\n",
    "    p.select_one(HoverTool).tooltips = [\n",
    "        (xcolumn, '@x'),\n",
    "        ('Number of hate crimes', '@top'),\n",
    "    ]\n",
    "\n",
    "    return p\n"
   ]
  },
  {
   "cell_type": "markdown",
   "metadata": {},
   "source": [
    "Show basic trending vbar by year."
   ]
  },
  {
   "cell_type": "code",
   "execution_count": 37,
   "metadata": {},
   "outputs": [
    {
     "data": {
      "text/html": [
       "\n",
       "  <div class=\"bk-root\" id=\"f298d5bc-57b5-4b3a-8fec-e5b7b55abc7a\" data-root-id=\"2482\"></div>\n"
      ]
     },
     "metadata": {},
     "output_type": "display_data"
    },
    {
     "data": {
      "application/javascript": "(function(root) {\n  function embed_document(root) {\n  const docs_json = {\"f5b48317-a713-48d9-8816-937faeefbfb7\":{\"defs\":[],\"roots\":{\"references\":[{\"attributes\":{\"below\":[{\"id\":\"2493\"}],\"center\":[{\"id\":\"2496\"},{\"id\":\"2500\"}],\"height\":300,\"left\":[{\"id\":\"2497\"}],\"renderers\":[{\"id\":\"2521\"}],\"title\":{\"id\":\"2483\"},\"toolbar\":{\"id\":\"2509\"},\"x_range\":{\"id\":\"2485\"},\"x_scale\":{\"id\":\"2489\"},\"y_range\":{\"id\":\"2487\"},\"y_scale\":{\"id\":\"2491\"}},\"id\":\"2482\",\"subtype\":\"Figure\",\"type\":\"Plot\"},{\"attributes\":{\"coordinates\":null,\"data_source\":{\"id\":\"2517\"},\"glyph\":{\"id\":\"2518\"},\"group\":null,\"hover_glyph\":null,\"muted_glyph\":{\"id\":\"2520\"},\"nonselection_glyph\":{\"id\":\"2519\"},\"view\":{\"id\":\"2522\"}},\"id\":\"2521\",\"type\":\"GlyphRenderer\"},{\"attributes\":{\"data\":{\"fill_color\":[\"#91003f\",\"#ce1256\",\"#e7298a\",\"#df65b0\",\"#c994c7\",\"#d4b9da\",\"#e7e1ef\",\"#67001f\",\"#980043\",\"#ce1256\"],\"hatch_color\":[\"#91003f\",\"#ce1256\",\"#e7298a\",\"#df65b0\",\"#c994c7\",\"#d4b9da\",\"#e7e1ef\",\"#67001f\",\"#980043\",\"#ce1256\"],\"line_color\":[\"#91003f\",\"#ce1256\",\"#e7298a\",\"#df65b0\",\"#c994c7\",\"#d4b9da\",\"#e7e1ef\",\"#67001f\",\"#980043\",\"#ce1256\"],\"top\":[79,68,70,66,107,177,204,203,132,149],\"x\":[2012,2013,2014,2015,2016,2017,2018,2019,2020,2021]},\"selected\":{\"id\":\"2531\"},\"selection_policy\":{\"id\":\"2530\"}},\"id\":\"2517\",\"type\":\"ColumnDataSource\"},{\"attributes\":{},\"id\":\"2526\",\"type\":\"AllLabels\"},{\"attributes\":{},\"id\":\"2531\",\"type\":\"Selection\"},{\"attributes\":{},\"id\":\"2528\",\"type\":\"BasicTickFormatter\"},{\"attributes\":{},\"id\":\"2485\",\"type\":\"DataRange1d\"},{\"attributes\":{\"callback\":null,\"tooltips\":[[\"Year\",\"@x\"],[\"Number of hate crimes\",\"@top\"]]},\"id\":\"2501\",\"type\":\"HoverTool\"},{\"attributes\":{},\"id\":\"2489\",\"type\":\"LinearScale\"},{\"attributes\":{},\"id\":\"2502\",\"type\":\"SaveTool\"},{\"attributes\":{},\"id\":\"2491\",\"type\":\"LinearScale\"},{\"attributes\":{},\"id\":\"2503\",\"type\":\"PanTool\"},{\"attributes\":{\"axis_label\":\"Year\",\"coordinates\":null,\"formatter\":{\"id\":\"2528\"},\"group\":null,\"major_label_policy\":{\"id\":\"2529\"},\"ticker\":{\"id\":\"2494\"}},\"id\":\"2493\",\"type\":\"LinearAxis\"},{\"attributes\":{\"fill_alpha\":{\"value\":0.2},\"fill_color\":{\"field\":\"fill_color\"},\"hatch_alpha\":{\"value\":0.2},\"hatch_color\":{\"field\":\"hatch_color\"},\"line_alpha\":{\"value\":0.2},\"line_color\":{\"field\":\"line_color\"},\"top\":{\"field\":\"top\"},\"width\":{\"value\":0.75},\"x\":{\"field\":\"x\"}},\"id\":\"2520\",\"type\":\"VBar\"},{\"attributes\":{\"overlay\":{\"id\":\"2508\"}},\"id\":\"2504\",\"type\":\"BoxZoomTool\"},{\"attributes\":{},\"id\":\"2498\",\"type\":\"BasicTicker\"},{\"attributes\":{},\"id\":\"2506\",\"type\":\"WheelZoomTool\"},{\"attributes\":{},\"id\":\"2529\",\"type\":\"AllLabels\"},{\"attributes\":{},\"id\":\"2505\",\"type\":\"ResetTool\"},{\"attributes\":{\"coordinates\":null,\"group\":null,\"text\":\"Number of hate crimes per year\"},\"id\":\"2483\",\"type\":\"Title\"},{\"attributes\":{},\"id\":\"2487\",\"type\":\"DataRange1d\"},{\"attributes\":{\"callback\":null},\"id\":\"2507\",\"type\":\"TapTool\"},{\"attributes\":{\"source\":{\"id\":\"2517\"}},\"id\":\"2522\",\"type\":\"CDSView\"},{\"attributes\":{\"tools\":[{\"id\":\"2501\"},{\"id\":\"2502\"},{\"id\":\"2503\"},{\"id\":\"2504\"},{\"id\":\"2505\"},{\"id\":\"2506\"},{\"id\":\"2507\"}]},\"id\":\"2509\",\"type\":\"Toolbar\"},{\"attributes\":{},\"id\":\"2494\",\"type\":\"BasicTicker\"},{\"attributes\":{\"axis\":{\"id\":\"2493\"},\"coordinates\":null,\"group\":null,\"ticker\":null},\"id\":\"2496\",\"type\":\"Grid\"},{\"attributes\":{\"bottom_units\":\"screen\",\"coordinates\":null,\"fill_alpha\":0.5,\"fill_color\":\"lightgrey\",\"group\":null,\"left_units\":\"screen\",\"level\":\"overlay\",\"line_alpha\":1.0,\"line_color\":\"black\",\"line_dash\":[4,4],\"line_width\":2,\"right_units\":\"screen\",\"syncable\":false,\"top_units\":\"screen\"},\"id\":\"2508\",\"type\":\"BoxAnnotation\"},{\"attributes\":{\"axis\":{\"id\":\"2497\"},\"coordinates\":null,\"dimension\":1,\"group\":null,\"ticker\":null},\"id\":\"2500\",\"type\":\"Grid\"},{\"attributes\":{\"axis_label\":\"Hate crime count\",\"coordinates\":null,\"formatter\":{\"id\":\"2525\"},\"group\":null,\"major_label_policy\":{\"id\":\"2526\"},\"ticker\":{\"id\":\"2498\"}},\"id\":\"2497\",\"type\":\"LinearAxis\"},{\"attributes\":{\"fill_alpha\":{\"value\":0.1},\"fill_color\":{\"field\":\"fill_color\"},\"hatch_alpha\":{\"value\":0.1},\"hatch_color\":{\"field\":\"hatch_color\"},\"line_alpha\":{\"value\":0.1},\"line_color\":{\"field\":\"line_color\"},\"top\":{\"field\":\"top\"},\"width\":{\"value\":0.75},\"x\":{\"field\":\"x\"}},\"id\":\"2519\",\"type\":\"VBar\"},{\"attributes\":{},\"id\":\"2530\",\"type\":\"UnionRenderers\"},{\"attributes\":{},\"id\":\"2525\",\"type\":\"BasicTickFormatter\"},{\"attributes\":{\"fill_color\":{\"field\":\"fill_color\"},\"hatch_color\":{\"field\":\"hatch_color\"},\"line_color\":{\"field\":\"line_color\"},\"top\":{\"field\":\"top\"},\"width\":{\"value\":0.75},\"x\":{\"field\":\"x\"}},\"id\":\"2518\",\"type\":\"VBar\"}],\"root_ids\":[\"2482\"]},\"title\":\"Bokeh Application\",\"version\":\"2.4.3\"}};\n  const render_items = [{\"docid\":\"f5b48317-a713-48d9-8816-937faeefbfb7\",\"root_ids\":[\"2482\"],\"roots\":{\"2482\":\"f298d5bc-57b5-4b3a-8fec-e5b7b55abc7a\"}}];\n  root.Bokeh.embed.embed_items_notebook(docs_json, render_items);\n  }\n  if (root.Bokeh !== undefined) {\n    embed_document(root);\n  } else {\n    let attempts = 0;\n    const timer = setInterval(function(root) {\n      if (root.Bokeh !== undefined) {\n        clearInterval(timer);\n        embed_document(root);\n      } else {\n        attempts++;\n        if (attempts > 100) {\n          clearInterval(timer);\n          console.log(\"Bokeh: ERROR: Unable to run BokehJS code because BokehJS library is missing\");\n        }\n      }\n    }, 10, root)\n  }\n})(window);",
      "application/vnd.bokehjs_exec.v0+json": ""
     },
     "metadata": {
      "application/vnd.bokehjs_exec.v0+json": {
       "id": "2482"
      }
     },
     "output_type": "display_data"
    }
   ],
   "source": [
    "# show yearly hate crime counts\n",
    "p = bokeh_vbar(df_yearly_counts, 'Year', 'Hate crime count', 'Number of hate crimes per year',PuRd[8][:-1]+PuRd[9][:-6], 300, 600)\n",
    "show(p)"
   ]
  },
  {
   "cell_type": "markdown",
   "metadata": {},
   "source": [
    "### Step 3: Create function to trend data in a line."
   ]
  },
  {
   "cell_type": "code",
   "execution_count": 38,
   "metadata": {},
   "outputs": [],
   "source": [
    "# create function for line graph\n",
    "def bokeh_line(df, xcolumn, ycolumn, title, line_color, line_width, xaxis_label, height, width):\n",
    "    TOOLS = \"hover,save,pan,box_zoom,reset,wheel_zoom,tap\"\n",
    "    p = figure(plot_height=height, plot_width=width,\n",
    "        title=title,\n",
    "        tools=TOOLS, x_axis_type=\"datetime\",\n",
    "        toolbar_location='right')\n",
    "\n",
    "    p.line(x=df[xcolumn], y=df[ycolumn],line_color=line_color,\n",
    "            line_width = line_width)\n",
    "\n",
    "    p.xaxis.axis_label = xaxis_label\n",
    "    p.yaxis.axis_label = ycolumn\n",
    "    p.select_one(HoverTool).tooltips = [\n",
    "        ('Month', '@x{%B %Y}'),\n",
    "        ('Number of hate crimes', '@y')]\n",
    "    p.select_one(HoverTool).formatters={ '@x': 'datetime'}\n",
    "\n",
    "    return p"
   ]
  },
  {
   "cell_type": "markdown",
   "metadata": {},
   "source": [
    "Show trending based on month."
   ]
  },
  {
   "cell_type": "code",
   "execution_count": 39,
   "metadata": {},
   "outputs": [
    {
     "data": {
      "text/html": [
       "\n",
       "  <div class=\"bk-root\" id=\"7eea9cbd-e60a-47cd-a347-fa39cd7c4aaa\" data-root-id=\"2623\"></div>\n"
      ]
     },
     "metadata": {},
     "output_type": "display_data"
    },
    {
     "data": {
      "application/javascript": "(function(root) {\n  function embed_document(root) {\n  const docs_json = {\"5a6c1eb6-248e-4a61-9f9a-bb7fa4ab8b08\":{\"defs\":[],\"roots\":{\"references\":[{\"attributes\":{\"below\":[{\"id\":\"2634\"}],\"center\":[{\"id\":\"2637\"},{\"id\":\"2641\"}],\"height\":300,\"left\":[{\"id\":\"2638\"}],\"renderers\":[{\"id\":\"2662\"}],\"title\":{\"id\":\"2624\"},\"toolbar\":{\"id\":\"2650\"},\"width\":700,\"x_range\":{\"id\":\"2626\"},\"x_scale\":{\"id\":\"2630\"},\"y_range\":{\"id\":\"2628\"},\"y_scale\":{\"id\":\"2632\"}},\"id\":\"2623\",\"subtype\":\"Figure\",\"type\":\"Plot\"},{\"attributes\":{\"callback\":null,\"formatters\":{\"@x\":\"datetime\"},\"tooltips\":[[\"Month\",\"@x{%B %Y}\"],[\"Number of hate crimes\",\"@y\"]]},\"id\":\"2642\",\"type\":\"HoverTool\"},{\"attributes\":{},\"id\":\"2628\",\"type\":\"DataRange1d\"},{\"attributes\":{},\"id\":\"2632\",\"type\":\"LinearScale\"},{\"attributes\":{\"line_alpha\":0.1,\"line_color\":\"#872657\",\"line_width\":2.5,\"x\":{\"field\":\"x\"},\"y\":{\"field\":\"y\"}},\"id\":\"2660\",\"type\":\"Line\"},{\"attributes\":{\"num_minor_ticks\":5,\"tickers\":[{\"id\":\"2674\"},{\"id\":\"2675\"},{\"id\":\"2676\"},{\"id\":\"2677\"},{\"id\":\"2678\"},{\"id\":\"2679\"},{\"id\":\"2680\"},{\"id\":\"2681\"},{\"id\":\"2682\"},{\"id\":\"2683\"},{\"id\":\"2684\"},{\"id\":\"2685\"}]},\"id\":\"2635\",\"type\":\"DatetimeTicker\"},{\"attributes\":{},\"id\":\"2643\",\"type\":\"SaveTool\"},{\"attributes\":{},\"id\":\"2671\",\"type\":\"UnionRenderers\"},{\"attributes\":{\"source\":{\"id\":\"2658\"}},\"id\":\"2663\",\"type\":\"CDSView\"},{\"attributes\":{\"days\":[1,4,7,10,13,16,19,22,25,28]},\"id\":\"2678\",\"type\":\"DaysTicker\"},{\"attributes\":{\"months\":[0,4,8]},\"id\":\"2683\",\"type\":\"MonthsTicker\"},{\"attributes\":{\"mantissas\":[1,2,5],\"max_interval\":500.0,\"num_minor_ticks\":0},\"id\":\"2674\",\"type\":\"AdaptiveTicker\"},{\"attributes\":{\"days\":[1,15]},\"id\":\"2680\",\"type\":\"DaysTicker\"},{\"attributes\":{\"bottom_units\":\"screen\",\"coordinates\":null,\"fill_alpha\":0.5,\"fill_color\":\"lightgrey\",\"group\":null,\"left_units\":\"screen\",\"level\":\"overlay\",\"line_alpha\":1.0,\"line_color\":\"black\",\"line_dash\":[4,4],\"line_width\":2,\"right_units\":\"screen\",\"syncable\":false,\"top_units\":\"screen\"},\"id\":\"2649\",\"type\":\"BoxAnnotation\"},{\"attributes\":{\"months\":[0,2,4,6,8,10]},\"id\":\"2682\",\"type\":\"MonthsTicker\"},{\"attributes\":{\"line_color\":\"#872657\",\"line_width\":2.5,\"x\":{\"field\":\"x\"},\"y\":{\"field\":\"y\"}},\"id\":\"2659\",\"type\":\"Line\"},{\"attributes\":{},\"id\":\"2670\",\"type\":\"AllLabels\"},{\"attributes\":{\"line_alpha\":0.2,\"line_color\":\"#872657\",\"line_width\":2.5,\"x\":{\"field\":\"x\"},\"y\":{\"field\":\"y\"}},\"id\":\"2661\",\"type\":\"Line\"},{\"attributes\":{},\"id\":\"2667\",\"type\":\"AllLabels\"},{\"attributes\":{\"coordinates\":null,\"data_source\":{\"id\":\"2658\"},\"glyph\":{\"id\":\"2659\"},\"group\":null,\"hover_glyph\":null,\"muted_glyph\":{\"id\":\"2661\"},\"nonselection_glyph\":{\"id\":\"2660\"},\"view\":{\"id\":\"2663\"}},\"id\":\"2662\",\"type\":\"GlyphRenderer\"},{\"attributes\":{},\"id\":\"2626\",\"type\":\"DataRange1d\"},{\"attributes\":{},\"id\":\"2646\",\"type\":\"ResetTool\"},{\"attributes\":{\"days\":[1,2,3,4,5,6,7,8,9,10,11,12,13,14,15,16,17,18,19,20,21,22,23,24,25,26,27,28,29,30,31]},\"id\":\"2677\",\"type\":\"DaysTicker\"},{\"attributes\":{\"data\":{\"x\":[1325376000000.0,1328054400000.0,1330560000000.0,1333238400000.0,1335830400000.0,1338508800000.0,1341100800000.0,1343779200000.0,1346457600000.0,1349049600000.0,1351728000000.0,1354320000000.0,1356998400000.0,1359676800000.0,1362096000000.0,1364774400000.0,1367366400000.0,1370044800000.0,1372636800000.0,1375315200000.0,1377993600000.0,1380585600000.0,1383264000000.0,1385856000000.0,1388534400000.0,1391212800000.0,1393632000000.0,1396310400000.0,1398902400000.0,1401580800000.0,1404172800000.0,1406851200000.0,1409529600000.0,1412121600000.0,1414800000000.0,1420070400000.0,1422748800000.0,1425168000000.0,1427846400000.0,1430438400000.0,1433116800000.0,1435708800000.0,1438387200000.0,1441065600000.0,1443657600000.0,1446336000000.0,1448928000000.0,1451606400000.0,1454284800000.0,1456790400000.0,1459468800000.0,1462060800000.0,1464739200000.0,1467331200000.0,1470009600000.0,1472688000000.0,1475280000000.0,1477958400000.0,1480550400000.0,1483228800000.0,1485907200000.0,1488326400000.0,1491004800000.0,1493596800000.0,1496275200000.0,1498867200000.0,1501545600000.0,1504224000000.0,1506816000000.0,1509494400000.0,1512086400000.0,1514764800000.0,1517443200000.0,1519862400000.0,1522540800000.0,1525132800000.0,1527811200000.0,1530403200000.0,1533081600000.0,1535760000000.0,1538352000000.0,1541030400000.0,1543622400000.0,1546300800000.0,1548979200000.0,1551398400000.0,1554076800000.0,1556668800000.0,1559347200000.0,1561939200000.0,1564617600000.0,1567296000000.0,1569888000000.0,1572566400000.0,1575158400000.0,1577836800000.0,1580515200000.0,1583020800000.0,1585699200000.0,1588291200000.0,1590969600000.0,1593561600000.0,1596240000000.0,1598918400000.0,1601510400000.0,1604188800000.0,1606780800000.0,1609459200000.0,1612137600000.0,1614556800000.0,1617235200000.0,1619827200000.0,1622505600000.0,1625097600000.0,1627776000000.0,1630454400000.0,1633046400000.0,1635724800000.0,1638316800000.0],\"y\":[7,5,8,7,4,11,5,15,3,8,3,3,7,5,7,4,4,12,10,5,5,5,1,3,2,11,3,6,6,6,10,11,5,4,6,4,4,6,3,4,7,5,4,9,8,6,6,7,4,8,12,10,15,11,7,6,12,11,4,8,11,13,12,10,17,13,16,19,21,22,15,9,9,14,15,10,25,17,25,21,27,18,14,10,15,28,21,17,19,12,20,24,23,8,6,12,11,10,4,6,11,12,14,16,17,9,10,11,2,14,19,14,14,15,15,15,10,11,9]},\"selected\":{\"id\":\"2672\"},\"selection_policy\":{\"id\":\"2671\"}},\"id\":\"2658\",\"type\":\"ColumnDataSource\"},{\"attributes\":{\"months\":[0,1,2,3,4,5,6,7,8,9,10,11]},\"id\":\"2681\",\"type\":\"MonthsTicker\"},{\"attributes\":{},\"id\":\"2685\",\"type\":\"YearsTicker\"},{\"attributes\":{\"axis\":{\"id\":\"2638\"},\"coordinates\":null,\"dimension\":1,\"group\":null,\"ticker\":null},\"id\":\"2641\",\"type\":\"Grid\"},{\"attributes\":{},\"id\":\"2647\",\"type\":\"WheelZoomTool\"},{\"attributes\":{\"coordinates\":null,\"group\":null,\"text\":\"Number of hate crimes per month\"},\"id\":\"2624\",\"type\":\"Title\"},{\"attributes\":{\"axis_label\":\"Hate crime count\",\"coordinates\":null,\"formatter\":{\"id\":\"2666\"},\"group\":null,\"major_label_policy\":{\"id\":\"2667\"},\"ticker\":{\"id\":\"2639\"}},\"id\":\"2638\",\"type\":\"LinearAxis\"},{\"attributes\":{},\"id\":\"2644\",\"type\":\"PanTool\"},{\"attributes\":{},\"id\":\"2666\",\"type\":\"BasicTickFormatter\"},{\"attributes\":{},\"id\":\"2639\",\"type\":\"BasicTicker\"},{\"attributes\":{},\"id\":\"2669\",\"type\":\"DatetimeTickFormatter\"},{\"attributes\":{\"callback\":null},\"id\":\"2648\",\"type\":\"TapTool\"},{\"attributes\":{\"months\":[0,6]},\"id\":\"2684\",\"type\":\"MonthsTicker\"},{\"attributes\":{},\"id\":\"2630\",\"type\":\"LinearScale\"},{\"attributes\":{\"base\":60,\"mantissas\":[1,2,5,10,15,20,30],\"max_interval\":1800000.0,\"min_interval\":1000.0,\"num_minor_ticks\":0},\"id\":\"2675\",\"type\":\"AdaptiveTicker\"},{\"attributes\":{\"axis_label\":\"Date\",\"coordinates\":null,\"formatter\":{\"id\":\"2669\"},\"group\":null,\"major_label_policy\":{\"id\":\"2670\"},\"ticker\":{\"id\":\"2635\"}},\"id\":\"2634\",\"type\":\"DatetimeAxis\"},{\"attributes\":{\"overlay\":{\"id\":\"2649\"}},\"id\":\"2645\",\"type\":\"BoxZoomTool\"},{\"attributes\":{},\"id\":\"2672\",\"type\":\"Selection\"},{\"attributes\":{\"base\":24,\"mantissas\":[1,2,4,6,8,12],\"max_interval\":43200000.0,\"min_interval\":3600000.0,\"num_minor_ticks\":0},\"id\":\"2676\",\"type\":\"AdaptiveTicker\"},{\"attributes\":{\"days\":[1,8,15,22]},\"id\":\"2679\",\"type\":\"DaysTicker\"},{\"attributes\":{\"tools\":[{\"id\":\"2642\"},{\"id\":\"2643\"},{\"id\":\"2644\"},{\"id\":\"2645\"},{\"id\":\"2646\"},{\"id\":\"2647\"},{\"id\":\"2648\"}]},\"id\":\"2650\",\"type\":\"Toolbar\"},{\"attributes\":{\"axis\":{\"id\":\"2634\"},\"coordinates\":null,\"group\":null,\"ticker\":null},\"id\":\"2637\",\"type\":\"Grid\"}],\"root_ids\":[\"2623\"]},\"title\":\"Bokeh Application\",\"version\":\"2.4.3\"}};\n  const render_items = [{\"docid\":\"5a6c1eb6-248e-4a61-9f9a-bb7fa4ab8b08\",\"root_ids\":[\"2623\"],\"roots\":{\"2623\":\"7eea9cbd-e60a-47cd-a347-fa39cd7c4aaa\"}}];\n  root.Bokeh.embed.embed_items_notebook(docs_json, render_items);\n  }\n  if (root.Bokeh !== undefined) {\n    embed_document(root);\n  } else {\n    let attempts = 0;\n    const timer = setInterval(function(root) {\n      if (root.Bokeh !== undefined) {\n        clearInterval(timer);\n        embed_document(root);\n      } else {\n        attempts++;\n        if (attempts > 100) {\n          clearInterval(timer);\n          console.log(\"Bokeh: ERROR: Unable to run BokehJS code because BokehJS library is missing\");\n        }\n      }\n    }, 10, root)\n  }\n})(window);",
      "application/vnd.bokehjs_exec.v0+json": ""
     },
     "metadata": {
      "application/vnd.bokehjs_exec.v0+json": {
       "id": "2623"
      }
     },
     "output_type": "display_data"
    }
   ],
   "source": [
    "# show monthly trending\n",
    "p = bokeh_line(df_monthly_counts, 'MonthYear', 'Hate crime count', 'Number of hate crimes per month',\n",
    "            \"#872657\", 2.5, 'Date', 300, 700)\n",
    "show(p)"
   ]
  },
  {
   "cell_type": "markdown",
   "metadata": {},
   "source": [
    "# Trending stacked bars"
   ]
  },
  {
   "cell_type": "markdown",
   "metadata": {},
   "source": [
    "### Step 1: create a function to prepare a new df to store one row per timeframe with the category counts in each column, and a list of the unique values for that column"
   ]
  },
  {
   "cell_type": "code",
   "execution_count": 40,
   "metadata": {},
   "outputs": [],
   "source": [
    "# function for all preproccesing for stacked bar trending graph\n",
    "def bokeh_vbar_stack_prep(df, time_column, cat_column, tot_column):\n",
    "    # prep the df to be one row per year with the category counts in each column\n",
    "    stacked_df = df.groupby([time_column, cat_column]).size().unstack().reset_index()\n",
    "    # find each category value\n",
    "    cat_values = df[cat_column].unique()\n",
    "    # add total count for hover tool\n",
    "    stacked_df[tot_column] = stacked_df.drop(time_column, axis=1).sum(axis=1)\n",
    "    # replace NaNs with 0s\n",
    "    stacked_df = stacked_df.fillna(0)\n",
    "\n",
    "    # return the prepares df and the unique values for the vbar\n",
    "    return stacked_df, cat_values"
   ]
  },
  {
   "cell_type": "markdown",
   "metadata": {},
   "source": [
    "### Step 2: create a function to plot the stacked bar trending graph"
   ]
  },
  {
   "cell_type": "code",
   "execution_count": 41,
   "metadata": {},
   "outputs": [],
   "source": [
    "# function to plot the vbar_stack\n",
    "def bokeh_vbar_stack(stacked_df, cat_values, time_column, title, xaxis_label, yaxis_label, height, width):\n",
    "    TOOLS = \"hover,save,pan,box_zoom,reset,wheel_zoom,tap\"\n",
    "    source = ColumnDataSource(data=stacked_df)\n",
    "    p = figure(plot_width=width, plot_height=height, title=title,\n",
    "        toolbar_location='above', tools=TOOLS, tooltips=\"$name @{Report Year}: @$name\")\n",
    "\n",
    "    colors = brewer['PuRd'][len(cat_values)]\n",
    "\n",
    "    p.vbar_stack(cat_values, x=time_column, width=0.9,  source=source, color=colors,\n",
    "                legend_label=cat_values.tolist())\n",
    "\n",
    "    p.xaxis.axis_label = xaxis_label\n",
    "    p.yaxis.axis_label = yaxis_label\n",
    "    p.legend.location = \"top_left\"\n",
    "    p.legend.orientation = \"vertical\"\n",
    "    p.legend.click_policy='hide'\n",
    "\n",
    "    p.add_layout(p.legend[0], 'right')\n",
    "\n",
    "    return p"
   ]
  },
  {
   "cell_type": "markdown",
   "metadata": {},
   "source": [
    "Plot the stacked bar."
   ]
  },
  {
   "cell_type": "code",
   "execution_count": 42,
   "metadata": {},
   "outputs": [
    {
     "data": {
      "text/html": [
       "\n",
       "  <div class=\"bk-root\" id=\"8460bf31-6db2-421e-b95d-767add201fd3\" data-root-id=\"2881\"></div>\n"
      ]
     },
     "metadata": {},
     "output_type": "display_data"
    },
    {
     "data": {
      "application/javascript": "(function(root) {\n  function embed_document(root) {\n  const docs_json = {\"19f09e45-9dff-42cc-a25a-6b8b83f887ab\":{\"defs\":[],\"roots\":{\"references\":[{\"attributes\":{\"below\":[{\"id\":\"2892\"}],\"center\":[{\"id\":\"2895\"},{\"id\":\"2899\"},{\"id\":\"2950\"}],\"height\":450,\"left\":[{\"id\":\"2896\"}],\"renderers\":[{\"id\":\"2938\"},{\"id\":\"2956\"},{\"id\":\"2973\"},{\"id\":\"2990\"},{\"id\":\"3007\"},{\"id\":\"3024\"},{\"id\":\"3041\"},{\"id\":\"3058\"},{\"id\":\"3075\"}],\"right\":[{\"id\":\"2950\"}],\"title\":{\"id\":\"2882\"},\"toolbar\":{\"id\":\"2908\"},\"toolbar_location\":\"above\",\"width\":1000,\"x_range\":{\"id\":\"2884\"},\"x_scale\":{\"id\":\"2888\"},\"y_range\":{\"id\":\"2886\"},\"y_scale\":{\"id\":\"2890\"}},\"id\":\"2881\",\"subtype\":\"Figure\",\"type\":\"Plot\"},{\"attributes\":{},\"id\":\"2886\",\"type\":\"DataRange1d\"},{\"attributes\":{\"label\":{\"value\":\"Sex/Gender\"},\"renderers\":[{\"id\":\"3075\"}]},\"id\":\"3087\",\"type\":\"LegendItem\"},{\"attributes\":{},\"id\":\"2902\",\"type\":\"PanTool\"},{\"attributes\":{\"source\":{\"id\":\"2880\"}},\"id\":\"2957\",\"type\":\"CDSView\"},{\"attributes\":{\"label\":{\"value\":\"Race\"},\"renderers\":[{\"id\":\"2956\"}]},\"id\":\"2968\",\"type\":\"LegendItem\"},{\"attributes\":{\"fields\":[\"Sexual Orientation\",\"Race\"]},\"id\":\"2919\",\"type\":\"Stack\"},{\"attributes\":{\"bottom\":{\"expr\":{\"id\":\"2928\"}},\"fill_color\":{\"value\":\"#d4b9da\"},\"hatch_color\":{\"value\":\"#d4b9da\"},\"line_color\":{\"value\":\"#d4b9da\"},\"top\":{\"expr\":{\"id\":\"2929\"}},\"width\":{\"value\":0.9},\"x\":{\"field\":\"Report Year\"}},\"id\":\"3038\",\"type\":\"VBar\"},{\"attributes\":{},\"id\":\"2901\",\"type\":\"SaveTool\"},{\"attributes\":{\"coordinates\":null,\"data_source\":{\"id\":\"2880\"},\"glyph\":{\"id\":\"2935\"},\"group\":null,\"hover_glyph\":null,\"muted_glyph\":{\"id\":\"2937\"},\"name\":\"Sexual Orientation\",\"nonselection_glyph\":{\"id\":\"2936\"},\"view\":{\"id\":\"2939\"}},\"id\":\"2938\",\"type\":\"GlyphRenderer\"},{\"attributes\":{\"coordinates\":null,\"data_source\":{\"id\":\"2880\"},\"glyph\":{\"id\":\"2970\"},\"group\":null,\"hover_glyph\":null,\"muted_glyph\":{\"id\":\"2972\"},\"name\":\"Ethnicity/National Origin\",\"nonselection_glyph\":{\"id\":\"2971\"},\"view\":{\"id\":\"2974\"}},\"id\":\"2973\",\"type\":\"GlyphRenderer\"},{\"attributes\":{},\"id\":\"2905\",\"type\":\"WheelZoomTool\"},{\"attributes\":{},\"id\":\"2904\",\"type\":\"ResetTool\"},{\"attributes\":{\"callback\":null},\"id\":\"2906\",\"type\":\"TapTool\"},{\"attributes\":{\"bottom\":{\"expr\":{\"id\":\"2920\"}},\"fill_color\":{\"value\":\"#ce1256\"},\"hatch_color\":{\"value\":\"#ce1256\"},\"line_color\":{\"value\":\"#ce1256\"},\"top\":{\"expr\":{\"id\":\"2921\"}},\"width\":{\"value\":0.9},\"x\":{\"field\":\"Report Year\"}},\"id\":\"2970\",\"type\":\"VBar\"},{\"attributes\":{\"axis\":{\"id\":\"2896\"},\"coordinates\":null,\"dimension\":1,\"group\":null,\"ticker\":null},\"id\":\"2899\",\"type\":\"Grid\"},{\"attributes\":{\"label\":{\"value\":\"Ethnicity/National Origin\"},\"renderers\":[{\"id\":\"2973\"}]},\"id\":\"2985\",\"type\":\"LegendItem\"},{\"attributes\":{\"callback\":null,\"tooltips\":\"$name @{Report Year}: @$name\"},\"id\":\"2900\",\"type\":\"HoverTool\"},{\"attributes\":{\"fields\":[\"Sexual Orientation\",\"Race\",\"Ethnicity/National Origin\",\"Gender Identity/Expression\",\"Religion\",\"Political Affiliation\",\"Disability\",\"Homelessness\",\"Sex/Gender\"]},\"id\":\"2933\",\"type\":\"Stack\"},{\"attributes\":{\"fields\":[\"Sexual Orientation\"]},\"id\":\"2917\",\"type\":\"Stack\"},{\"attributes\":{\"bottom_units\":\"screen\",\"coordinates\":null,\"fill_alpha\":0.5,\"fill_color\":\"lightgrey\",\"group\":null,\"left_units\":\"screen\",\"level\":\"overlay\",\"line_alpha\":1.0,\"line_color\":\"black\",\"line_dash\":[4,4],\"line_width\":2,\"right_units\":\"screen\",\"syncable\":false,\"top_units\":\"screen\"},\"id\":\"2907\",\"type\":\"BoxAnnotation\"},{\"attributes\":{\"fields\":[\"Sexual Orientation\",\"Race\"]},\"id\":\"2920\",\"type\":\"Stack\"},{\"attributes\":{\"fields\":[\"Sexual Orientation\",\"Race\",\"Ethnicity/National Origin\",\"Gender Identity/Expression\",\"Religion\",\"Political Affiliation\",\"Disability\",\"Homelessness\"]},\"id\":\"2931\",\"type\":\"Stack\"},{\"attributes\":{\"source\":{\"id\":\"2880\"}},\"id\":\"2974\",\"type\":\"CDSView\"},{\"attributes\":{\"tools\":[{\"id\":\"2900\"},{\"id\":\"2901\"},{\"id\":\"2902\"},{\"id\":\"2903\"},{\"id\":\"2904\"},{\"id\":\"2905\"},{\"id\":\"2906\"}]},\"id\":\"2908\",\"type\":\"Toolbar\"},{\"attributes\":{\"bottom\":{\"expr\":{\"id\":\"2918\"}},\"fill_alpha\":{\"value\":0.2},\"fill_color\":{\"value\":\"#980043\"},\"hatch_alpha\":{\"value\":0.2},\"hatch_color\":{\"value\":\"#980043\"},\"line_alpha\":{\"value\":0.2},\"line_color\":{\"value\":\"#980043\"},\"top\":{\"expr\":{\"id\":\"2919\"}},\"width\":{\"value\":0.9},\"x\":{\"field\":\"Report Year\"}},\"id\":\"2955\",\"type\":\"VBar\"},{\"attributes\":{\"overlay\":{\"id\":\"2907\"}},\"id\":\"2903\",\"type\":\"BoxZoomTool\"},{\"attributes\":{\"bottom\":{\"expr\":{\"id\":\"2916\"}},\"fill_alpha\":{\"value\":0.2},\"fill_color\":{\"value\":\"#67001f\"},\"hatch_alpha\":{\"value\":0.2},\"hatch_color\":{\"value\":\"#67001f\"},\"line_alpha\":{\"value\":0.2},\"line_color\":{\"value\":\"#67001f\"},\"top\":{\"expr\":{\"id\":\"2917\"}},\"width\":{\"value\":0.9},\"x\":{\"field\":\"Report Year\"}},\"id\":\"2937\",\"type\":\"VBar\"},{\"attributes\":{\"bottom\":{\"expr\":{\"id\":\"2920\"}},\"fill_alpha\":{\"value\":0.1},\"fill_color\":{\"value\":\"#ce1256\"},\"hatch_alpha\":{\"value\":0.1},\"hatch_color\":{\"value\":\"#ce1256\"},\"line_alpha\":{\"value\":0.1},\"line_color\":{\"value\":\"#ce1256\"},\"top\":{\"expr\":{\"id\":\"2921\"}},\"width\":{\"value\":0.9},\"x\":{\"field\":\"Report Year\"}},\"id\":\"2971\",\"type\":\"VBar\"},{\"attributes\":{\"fields\":[]},\"id\":\"2916\",\"type\":\"Stack\"},{\"attributes\":{\"bottom\":{\"expr\":{\"id\":\"2920\"}},\"fill_alpha\":{\"value\":0.2},\"fill_color\":{\"value\":\"#ce1256\"},\"hatch_alpha\":{\"value\":0.2},\"hatch_color\":{\"value\":\"#ce1256\"},\"line_alpha\":{\"value\":0.2},\"line_color\":{\"value\":\"#ce1256\"},\"top\":{\"expr\":{\"id\":\"2921\"}},\"width\":{\"value\":0.9},\"x\":{\"field\":\"Report Year\"}},\"id\":\"2972\",\"type\":\"VBar\"},{\"attributes\":{\"axis_label\":\"Total hate crimes\",\"coordinates\":null,\"formatter\":{\"id\":\"2942\"},\"group\":null,\"major_label_policy\":{\"id\":\"2943\"},\"ticker\":{\"id\":\"2897\"}},\"id\":\"2896\",\"type\":\"LinearAxis\"},{\"attributes\":{\"fields\":[\"Sexual Orientation\",\"Race\",\"Ethnicity/National Origin\",\"Gender Identity/Expression\",\"Religion\",\"Political Affiliation\",\"Disability\"]},\"id\":\"2930\",\"type\":\"Stack\"},{\"attributes\":{\"fields\":[\"Sexual Orientation\"]},\"id\":\"2918\",\"type\":\"Stack\"},{\"attributes\":{},\"id\":\"2897\",\"type\":\"BasicTicker\"},{\"attributes\":{\"fields\":[\"Sexual Orientation\",\"Race\",\"Ethnicity/National Origin\",\"Gender Identity/Expression\",\"Religion\",\"Political Affiliation\",\"Disability\"]},\"id\":\"2929\",\"type\":\"Stack\"},{\"attributes\":{\"coordinates\":null,\"group\":null,\"text\":\"Hate crime counts per type over year\"},\"id\":\"2882\",\"type\":\"Title\"},{\"attributes\":{\"coordinates\":null,\"data_source\":{\"id\":\"2880\"},\"glyph\":{\"id\":\"2953\"},\"group\":null,\"hover_glyph\":null,\"muted_glyph\":{\"id\":\"2955\"},\"name\":\"Race\",\"nonselection_glyph\":{\"id\":\"2954\"},\"view\":{\"id\":\"2957\"}},\"id\":\"2956\",\"type\":\"GlyphRenderer\"},{\"attributes\":{\"source\":{\"id\":\"2880\"}},\"id\":\"3059\",\"type\":\"CDSView\"},{\"attributes\":{},\"id\":\"2942\",\"type\":\"BasicTickFormatter\"},{\"attributes\":{\"label\":{\"value\":\"Religion\"},\"renderers\":[{\"id\":\"3007\"}]},\"id\":\"3019\",\"type\":\"LegendItem\"},{\"attributes\":{\"label\":{\"value\":\"Political Affiliation\"},\"renderers\":[{\"id\":\"3024\"}]},\"id\":\"3036\",\"type\":\"LegendItem\"},{\"attributes\":{\"source\":{\"id\":\"2880\"}},\"id\":\"3025\",\"type\":\"CDSView\"},{\"attributes\":{\"bottom\":{\"expr\":{\"id\":\"2928\"}},\"fill_alpha\":{\"value\":0.2},\"fill_color\":{\"value\":\"#d4b9da\"},\"hatch_alpha\":{\"value\":0.2},\"hatch_color\":{\"value\":\"#d4b9da\"},\"line_alpha\":{\"value\":0.2},\"line_color\":{\"value\":\"#d4b9da\"},\"top\":{\"expr\":{\"id\":\"2929\"}},\"width\":{\"value\":0.9},\"x\":{\"field\":\"Report Year\"}},\"id\":\"3040\",\"type\":\"VBar\"},{\"attributes\":{\"bottom\":{\"expr\":{\"id\":\"2922\"}},\"fill_alpha\":{\"value\":0.2},\"fill_color\":{\"value\":\"#e7298a\"},\"hatch_alpha\":{\"value\":0.2},\"hatch_color\":{\"value\":\"#e7298a\"},\"line_alpha\":{\"value\":0.2},\"line_color\":{\"value\":\"#e7298a\"},\"top\":{\"expr\":{\"id\":\"2923\"}},\"width\":{\"value\":0.9},\"x\":{\"field\":\"Report Year\"}},\"id\":\"2989\",\"type\":\"VBar\"},{\"attributes\":{\"bottom\":{\"expr\":{\"id\":\"2926\"}},\"fill_alpha\":{\"value\":0.2},\"fill_color\":{\"value\":\"#c994c7\"},\"hatch_alpha\":{\"value\":0.2},\"hatch_color\":{\"value\":\"#c994c7\"},\"line_alpha\":{\"value\":0.2},\"line_color\":{\"value\":\"#c994c7\"},\"top\":{\"expr\":{\"id\":\"2927\"}},\"width\":{\"value\":0.9},\"x\":{\"field\":\"Report Year\"}},\"id\":\"3023\",\"type\":\"VBar\"},{\"attributes\":{\"coordinates\":null,\"data_source\":{\"id\":\"2880\"},\"glyph\":{\"id\":\"2987\"},\"group\":null,\"hover_glyph\":null,\"muted_glyph\":{\"id\":\"2989\"},\"name\":\"Gender Identity/Expression\",\"nonselection_glyph\":{\"id\":\"2988\"},\"view\":{\"id\":\"2991\"}},\"id\":\"2990\",\"type\":\"GlyphRenderer\"},{\"attributes\":{},\"id\":\"2893\",\"type\":\"BasicTicker\"},{\"attributes\":{\"bottom\":{\"expr\":{\"id\":\"2924\"}},\"fill_alpha\":{\"value\":0.1},\"fill_color\":{\"value\":\"#df65b0\"},\"hatch_alpha\":{\"value\":0.1},\"hatch_color\":{\"value\":\"#df65b0\"},\"line_alpha\":{\"value\":0.1},\"line_color\":{\"value\":\"#df65b0\"},\"top\":{\"expr\":{\"id\":\"2925\"}},\"width\":{\"value\":0.9},\"x\":{\"field\":\"Report Year\"}},\"id\":\"3005\",\"type\":\"VBar\"},{\"attributes\":{\"label\":{\"value\":\"Sexual Orientation\"},\"renderers\":[{\"id\":\"2938\"}]},\"id\":\"2951\",\"type\":\"LegendItem\"},{\"attributes\":{\"coordinates\":null,\"data_source\":{\"id\":\"2880\"},\"glyph\":{\"id\":\"3021\"},\"group\":null,\"hover_glyph\":null,\"muted_glyph\":{\"id\":\"3023\"},\"name\":\"Political Affiliation\",\"nonselection_glyph\":{\"id\":\"3022\"},\"view\":{\"id\":\"3025\"}},\"id\":\"3024\",\"type\":\"GlyphRenderer\"},{\"attributes\":{\"fields\":[\"Sexual Orientation\",\"Race\",\"Ethnicity/National Origin\"]},\"id\":\"2922\",\"type\":\"Stack\"},{\"attributes\":{\"source\":{\"id\":\"2880\"}},\"id\":\"2991\",\"type\":\"CDSView\"},{\"attributes\":{\"bottom\":{\"expr\":{\"id\":\"2926\"}},\"fill_color\":{\"value\":\"#c994c7\"},\"hatch_color\":{\"value\":\"#c994c7\"},\"line_color\":{\"value\":\"#c994c7\"},\"top\":{\"expr\":{\"id\":\"2927\"}},\"width\":{\"value\":0.9},\"x\":{\"field\":\"Report Year\"}},\"id\":\"3021\",\"type\":\"VBar\"},{\"attributes\":{\"axis_label\":\"Year\",\"coordinates\":null,\"formatter\":{\"id\":\"2945\"},\"group\":null,\"major_label_policy\":{\"id\":\"2946\"},\"ticker\":{\"id\":\"2893\"}},\"id\":\"2892\",\"type\":\"LinearAxis\"},{\"attributes\":{\"bottom\":{\"expr\":{\"id\":\"2926\"}},\"fill_alpha\":{\"value\":0.1},\"fill_color\":{\"value\":\"#c994c7\"},\"hatch_alpha\":{\"value\":0.1},\"hatch_color\":{\"value\":\"#c994c7\"},\"line_alpha\":{\"value\":0.1},\"line_color\":{\"value\":\"#c994c7\"},\"top\":{\"expr\":{\"id\":\"2927\"}},\"width\":{\"value\":0.9},\"x\":{\"field\":\"Report Year\"}},\"id\":\"3022\",\"type\":\"VBar\"},{\"attributes\":{\"label\":{\"value\":\"Disability\"},\"renderers\":[{\"id\":\"3041\"}]},\"id\":\"3053\",\"type\":\"LegendItem\"},{\"attributes\":{},\"id\":\"2947\",\"type\":\"UnionRenderers\"},{\"attributes\":{\"bottom\":{\"expr\":{\"id\":\"2916\"}},\"fill_color\":{\"value\":\"#67001f\"},\"hatch_color\":{\"value\":\"#67001f\"},\"line_color\":{\"value\":\"#67001f\"},\"top\":{\"expr\":{\"id\":\"2917\"}},\"width\":{\"value\":0.9},\"x\":{\"field\":\"Report Year\"}},\"id\":\"2935\",\"type\":\"VBar\"},{\"attributes\":{\"bottom\":{\"expr\":{\"id\":\"2918\"}},\"fill_color\":{\"value\":\"#980043\"},\"hatch_color\":{\"value\":\"#980043\"},\"line_color\":{\"value\":\"#980043\"},\"top\":{\"expr\":{\"id\":\"2919\"}},\"width\":{\"value\":0.9},\"x\":{\"field\":\"Report Year\"}},\"id\":\"2953\",\"type\":\"VBar\"},{\"attributes\":{\"source\":{\"id\":\"2880\"}},\"id\":\"3042\",\"type\":\"CDSView\"},{\"attributes\":{\"click_policy\":\"hide\",\"coordinates\":null,\"group\":null,\"items\":[{\"id\":\"2951\"},{\"id\":\"2968\"},{\"id\":\"2985\"},{\"id\":\"3002\"},{\"id\":\"3019\"},{\"id\":\"3036\"},{\"id\":\"3053\"},{\"id\":\"3070\"},{\"id\":\"3087\"}],\"location\":\"top_left\"},\"id\":\"2950\",\"type\":\"Legend\"},{\"attributes\":{\"bottom\":{\"expr\":{\"id\":\"2922\"}},\"fill_alpha\":{\"value\":0.1},\"fill_color\":{\"value\":\"#e7298a\"},\"hatch_alpha\":{\"value\":0.1},\"hatch_color\":{\"value\":\"#e7298a\"},\"line_alpha\":{\"value\":0.1},\"line_color\":{\"value\":\"#e7298a\"},\"top\":{\"expr\":{\"id\":\"2923\"}},\"width\":{\"value\":0.9},\"x\":{\"field\":\"Report Year\"}},\"id\":\"2988\",\"type\":\"VBar\"},{\"attributes\":{\"coordinates\":null,\"data_source\":{\"id\":\"2880\"},\"glyph\":{\"id\":\"3038\"},\"group\":null,\"hover_glyph\":null,\"muted_glyph\":{\"id\":\"3040\"},\"name\":\"Disability\",\"nonselection_glyph\":{\"id\":\"3039\"},\"view\":{\"id\":\"3042\"}},\"id\":\"3041\",\"type\":\"GlyphRenderer\"},{\"attributes\":{\"label\":{\"value\":\"Gender Identity/Expression\"},\"renderers\":[{\"id\":\"2990\"}]},\"id\":\"3002\",\"type\":\"LegendItem\"},{\"attributes\":{\"bottom\":{\"expr\":{\"id\":\"2922\"}},\"fill_color\":{\"value\":\"#e7298a\"},\"hatch_color\":{\"value\":\"#e7298a\"},\"line_color\":{\"value\":\"#e7298a\"},\"top\":{\"expr\":{\"id\":\"2923\"}},\"width\":{\"value\":0.9},\"x\":{\"field\":\"Report Year\"}},\"id\":\"2987\",\"type\":\"VBar\"},{\"attributes\":{\"bottom\":{\"expr\":{\"id\":\"2924\"}},\"fill_alpha\":{\"value\":0.2},\"fill_color\":{\"value\":\"#df65b0\"},\"hatch_alpha\":{\"value\":0.2},\"hatch_color\":{\"value\":\"#df65b0\"},\"line_alpha\":{\"value\":0.2},\"line_color\":{\"value\":\"#df65b0\"},\"top\":{\"expr\":{\"id\":\"2925\"}},\"width\":{\"value\":0.9},\"x\":{\"field\":\"Report Year\"}},\"id\":\"3006\",\"type\":\"VBar\"},{\"attributes\":{\"fields\":[\"Sexual Orientation\",\"Race\",\"Ethnicity/National Origin\",\"Gender Identity/Expression\",\"Religion\"]},\"id\":\"2925\",\"type\":\"Stack\"},{\"attributes\":{\"bottom\":{\"expr\":{\"id\":\"2928\"}},\"fill_alpha\":{\"value\":0.1},\"fill_color\":{\"value\":\"#d4b9da\"},\"hatch_alpha\":{\"value\":0.1},\"hatch_color\":{\"value\":\"#d4b9da\"},\"line_alpha\":{\"value\":0.1},\"line_color\":{\"value\":\"#d4b9da\"},\"top\":{\"expr\":{\"id\":\"2929\"}},\"width\":{\"value\":0.9},\"x\":{\"field\":\"Report Year\"}},\"id\":\"3039\",\"type\":\"VBar\"},{\"attributes\":{\"bottom\":{\"expr\":{\"id\":\"2924\"}},\"fill_color\":{\"value\":\"#df65b0\"},\"hatch_color\":{\"value\":\"#df65b0\"},\"line_color\":{\"value\":\"#df65b0\"},\"top\":{\"expr\":{\"id\":\"2925\"}},\"width\":{\"value\":0.9},\"x\":{\"field\":\"Report Year\"}},\"id\":\"3004\",\"type\":\"VBar\"},{\"attributes\":{\"source\":{\"id\":\"2880\"}},\"id\":\"3076\",\"type\":\"CDSView\"},{\"attributes\":{\"bottom\":{\"expr\":{\"id\":\"2930\"}},\"fill_alpha\":{\"value\":0.2},\"fill_color\":{\"value\":\"#e7e1ef\"},\"hatch_alpha\":{\"value\":0.2},\"hatch_color\":{\"value\":\"#e7e1ef\"},\"line_alpha\":{\"value\":0.2},\"line_color\":{\"value\":\"#e7e1ef\"},\"top\":{\"expr\":{\"id\":\"2931\"}},\"width\":{\"value\":0.9},\"x\":{\"field\":\"Report Year\"}},\"id\":\"3057\",\"type\":\"VBar\"},{\"attributes\":{\"fields\":[\"Sexual Orientation\",\"Race\",\"Ethnicity/National Origin\",\"Gender Identity/Expression\"]},\"id\":\"2923\",\"type\":\"Stack\"},{\"attributes\":{\"fields\":[\"Sexual Orientation\",\"Race\",\"Ethnicity/National Origin\",\"Gender Identity/Expression\",\"Religion\",\"Political Affiliation\",\"Disability\",\"Homelessness\"]},\"id\":\"2932\",\"type\":\"Stack\"},{\"attributes\":{\"label\":{\"value\":\"Homelessness\"},\"renderers\":[{\"id\":\"3058\"}]},\"id\":\"3070\",\"type\":\"LegendItem\"},{\"attributes\":{\"coordinates\":null,\"data_source\":{\"id\":\"2880\"},\"glyph\":{\"id\":\"3055\"},\"group\":null,\"hover_glyph\":null,\"muted_glyph\":{\"id\":\"3057\"},\"name\":\"Homelessness\",\"nonselection_glyph\":{\"id\":\"3056\"},\"view\":{\"id\":\"3059\"}},\"id\":\"3058\",\"type\":\"GlyphRenderer\"},{\"attributes\":{\"coordinates\":null,\"data_source\":{\"id\":\"2880\"},\"glyph\":{\"id\":\"3004\"},\"group\":null,\"hover_glyph\":null,\"muted_glyph\":{\"id\":\"3006\"},\"name\":\"Religion\",\"nonselection_glyph\":{\"id\":\"3005\"},\"view\":{\"id\":\"3008\"}},\"id\":\"3007\",\"type\":\"GlyphRenderer\"},{\"attributes\":{\"bottom\":{\"expr\":{\"id\":\"2930\"}},\"fill_color\":{\"value\":\"#e7e1ef\"},\"hatch_color\":{\"value\":\"#e7e1ef\"},\"line_color\":{\"value\":\"#e7e1ef\"},\"top\":{\"expr\":{\"id\":\"2931\"}},\"width\":{\"value\":0.9},\"x\":{\"field\":\"Report Year\"}},\"id\":\"3055\",\"type\":\"VBar\"},{\"attributes\":{\"axis\":{\"id\":\"2892\"},\"coordinates\":null,\"group\":null,\"ticker\":null},\"id\":\"2895\",\"type\":\"Grid\"},{\"attributes\":{\"bottom\":{\"expr\":{\"id\":\"2930\"}},\"fill_alpha\":{\"value\":0.1},\"fill_color\":{\"value\":\"#e7e1ef\"},\"hatch_alpha\":{\"value\":0.1},\"hatch_color\":{\"value\":\"#e7e1ef\"},\"line_alpha\":{\"value\":0.1},\"line_color\":{\"value\":\"#e7e1ef\"},\"top\":{\"expr\":{\"id\":\"2931\"}},\"width\":{\"value\":0.9},\"x\":{\"field\":\"Report Year\"}},\"id\":\"3056\",\"type\":\"VBar\"},{\"attributes\":{\"fields\":[\"Sexual Orientation\",\"Race\",\"Ethnicity/National Origin\",\"Gender Identity/Expression\",\"Religion\"]},\"id\":\"2926\",\"type\":\"Stack\"},{\"attributes\":{\"bottom\":{\"expr\":{\"id\":\"2918\"}},\"fill_alpha\":{\"value\":0.1},\"fill_color\":{\"value\":\"#980043\"},\"hatch_alpha\":{\"value\":0.1},\"hatch_color\":{\"value\":\"#980043\"},\"line_alpha\":{\"value\":0.1},\"line_color\":{\"value\":\"#980043\"},\"top\":{\"expr\":{\"id\":\"2919\"}},\"width\":{\"value\":0.9},\"x\":{\"field\":\"Report Year\"}},\"id\":\"2954\",\"type\":\"VBar\"},{\"attributes\":{\"fields\":[\"Sexual Orientation\",\"Race\",\"Ethnicity/National Origin\"]},\"id\":\"2921\",\"type\":\"Stack\"},{\"attributes\":{\"bottom\":{\"expr\":{\"id\":\"2916\"}},\"fill_alpha\":{\"value\":0.1},\"fill_color\":{\"value\":\"#67001f\"},\"hatch_alpha\":{\"value\":0.1},\"hatch_color\":{\"value\":\"#67001f\"},\"line_alpha\":{\"value\":0.1},\"line_color\":{\"value\":\"#67001f\"},\"top\":{\"expr\":{\"id\":\"2917\"}},\"width\":{\"value\":0.9},\"x\":{\"field\":\"Report Year\"}},\"id\":\"2936\",\"type\":\"VBar\"},{\"attributes\":{\"bottom\":{\"expr\":{\"id\":\"2932\"}},\"fill_alpha\":{\"value\":0.2},\"fill_color\":{\"value\":\"#f7f4f9\"},\"hatch_alpha\":{\"value\":0.2},\"hatch_color\":{\"value\":\"#f7f4f9\"},\"line_alpha\":{\"value\":0.2},\"line_color\":{\"value\":\"#f7f4f9\"},\"top\":{\"expr\":{\"id\":\"2933\"}},\"width\":{\"value\":0.9},\"x\":{\"field\":\"Report Year\"}},\"id\":\"3074\",\"type\":\"VBar\"},{\"attributes\":{},\"id\":\"2943\",\"type\":\"AllLabels\"},{\"attributes\":{},\"id\":\"2890\",\"type\":\"LinearScale\"},{\"attributes\":{},\"id\":\"2948\",\"type\":\"Selection\"},{\"attributes\":{\"data\":{\"Disability\":{\"__ndarray__\":\"AAAAAAAA8D8AAAAAAAAAAAAAAAAAAPA/AAAAAAAAAAAAAAAAAADwPwAAAAAAAPA/AAAAAAAAAAAAAAAAAADwPwAAAAAAAAAAAAAAAAAAAAA=\",\"dtype\":\"float64\",\"order\":\"little\",\"shape\":[10]},\"Ethnicity/National Origin\":{\"__ndarray__\":\"AAAAAAAAFEAAAAAAAAAIQAAAAAAAAAhAAAAAAAAACEAAAAAAAAAqQAAAAAAAAERAAAAAAACASEAAAAAAAIBOQAAAAAAAAD1AAAAAAACASUA=\",\"dtype\":\"float64\",\"order\":\"little\",\"shape\":[10]},\"Gender Identity/Expression\":{\"__ndarray__\":\"AAAAAAAAIEAAAAAAAAAoQAAAAAAAAC5AAAAAAAAAJEAAAAAAAAAzQAAAAAAAACpAAAAAAAAAQUAAAAAAAAA7QAAAAAAAADtAAAAAAAAAMEA=\",\"dtype\":\"float64\",\"order\":\"little\",\"shape\":[10]},\"Homelessness\":{\"__ndarray__\":\"AAAAAAAAAAAAAAAAAAAAAAAAAAAAAABAAAAAAAAAAAAAAAAAAADwPwAAAAAAAAAAAAAAAAAA8D8AAAAAAAAAAAAAAAAAAAAAAAAAAAAAAAA=\",\"dtype\":\"float64\",\"order\":\"little\",\"shape\":[10]},\"Political Affiliation\":{\"__ndarray__\":\"AAAAAAAA8D8AAAAAAAAAAAAAAAAAAPA/AAAAAAAAAEAAAAAAAAAAQAAAAAAAACRAAAAAAAAAJEAAAAAAAADwPwAAAAAAABhAAAAAAAAAAAA=\",\"dtype\":\"float64\",\"order\":\"little\",\"shape\":[10]},\"Race\":{\"__ndarray__\":\"AAAAAAAAKkAAAAAAAAAxQAAAAAAAACpAAAAAAAAAM0AAAAAAAAAqQAAAAAAAgEdAAAAAAACAQ0AAAAAAAABHQAAAAAAAAD9AAAAAAAAAREA=\",\"dtype\":\"float64\",\"order\":\"little\",\"shape\":[10]},\"Religion\":{\"__ndarray__\":\"AAAAAAAAFEAAAAAAAAAUQAAAAAAAACBAAAAAAAAAFEAAAAAAAAAxQAAAAAAAACZAAAAAAAAAKEAAAAAAAAAUQAAAAAAAAPA/AAAAAAAACEA=\",\"dtype\":\"float64\",\"order\":\"little\",\"shape\":[10]},\"Report Year\":[2012,2013,2014,2015,2016,2017,2018,2019,2020,2021],\"Sex/Gender\":{\"__ndarray__\":\"AAAAAAAAAAAAAAAAAAAAAAAAAAAAAAAAAAAAAAAAAAAAAAAAAAAAAAAAAAAAAAAAAAAAAAAAAAAAAAAAAAAAQAAAAAAAAAAAAAAAAAAA8D8=\",\"dtype\":\"float64\",\"order\":\"little\",\"shape\":[10]},\"Sexual Orientation\":{\"__ndarray__\":\"AAAAAAAAR0AAAAAAAAA/QAAAAAAAADtAAAAAAAAAO0AAAAAAAABEQAAAAAAAgEtAAAAAAAAATkAAAAAAAABOQAAAAAAAAENAAAAAAAAAQ0A=\",\"dtype\":\"float64\",\"order\":\"little\",\"shape\":[10]},\"Total hate crimes\":{\"__ndarray__\":\"AAAAAADAU0AAAAAAAABRQAAAAAAAgFFAAAAAAACAUEAAAAAAAIBaQAAAAAAAIGZAAAAAAACgaUAAAAAAAGBpQAAAAAAAgGBAAAAAAACgYkA=\",\"dtype\":\"float64\",\"order\":\"little\",\"shape\":[10]},\"index\":[0,1,2,3,4,5,6,7,8,9]},\"selected\":{\"id\":\"2948\"},\"selection_policy\":{\"id\":\"2947\"}},\"id\":\"2880\",\"type\":\"ColumnDataSource\"},{\"attributes\":{\"coordinates\":null,\"data_source\":{\"id\":\"2880\"},\"glyph\":{\"id\":\"3072\"},\"group\":null,\"hover_glyph\":null,\"muted_glyph\":{\"id\":\"3074\"},\"name\":\"Sex/Gender\",\"nonselection_glyph\":{\"id\":\"3073\"},\"view\":{\"id\":\"3076\"}},\"id\":\"3075\",\"type\":\"GlyphRenderer\"},{\"attributes\":{\"source\":{\"id\":\"2880\"}},\"id\":\"3008\",\"type\":\"CDSView\"},{\"attributes\":{\"bottom\":{\"expr\":{\"id\":\"2932\"}},\"fill_color\":{\"value\":\"#f7f4f9\"},\"hatch_color\":{\"value\":\"#f7f4f9\"},\"line_color\":{\"value\":\"#f7f4f9\"},\"top\":{\"expr\":{\"id\":\"2933\"}},\"width\":{\"value\":0.9},\"x\":{\"field\":\"Report Year\"}},\"id\":\"3072\",\"type\":\"VBar\"},{\"attributes\":{},\"id\":\"2946\",\"type\":\"AllLabels\"},{\"attributes\":{\"bottom\":{\"expr\":{\"id\":\"2932\"}},\"fill_alpha\":{\"value\":0.1},\"fill_color\":{\"value\":\"#f7f4f9\"},\"hatch_alpha\":{\"value\":0.1},\"hatch_color\":{\"value\":\"#f7f4f9\"},\"line_alpha\":{\"value\":0.1},\"line_color\":{\"value\":\"#f7f4f9\"},\"top\":{\"expr\":{\"id\":\"2933\"}},\"width\":{\"value\":0.9},\"x\":{\"field\":\"Report Year\"}},\"id\":\"3073\",\"type\":\"VBar\"},{\"attributes\":{\"fields\":[\"Sexual Orientation\",\"Race\",\"Ethnicity/National Origin\",\"Gender Identity/Expression\",\"Religion\",\"Political Affiliation\"]},\"id\":\"2928\",\"type\":\"Stack\"},{\"attributes\":{},\"id\":\"2945\",\"type\":\"BasicTickFormatter\"},{\"attributes\":{\"fields\":[\"Sexual Orientation\",\"Race\",\"Ethnicity/National Origin\",\"Gender Identity/Expression\"]},\"id\":\"2924\",\"type\":\"Stack\"},{\"attributes\":{},\"id\":\"2884\",\"type\":\"DataRange1d\"},{\"attributes\":{},\"id\":\"2888\",\"type\":\"LinearScale\"},{\"attributes\":{\"fields\":[\"Sexual Orientation\",\"Race\",\"Ethnicity/National Origin\",\"Gender Identity/Expression\",\"Religion\",\"Political Affiliation\"]},\"id\":\"2927\",\"type\":\"Stack\"},{\"attributes\":{\"source\":{\"id\":\"2880\"}},\"id\":\"2939\",\"type\":\"CDSView\"}],\"root_ids\":[\"2881\"]},\"title\":\"Bokeh Application\",\"version\":\"2.4.3\"}};\n  const render_items = [{\"docid\":\"19f09e45-9dff-42cc-a25a-6b8b83f887ab\",\"root_ids\":[\"2881\"],\"roots\":{\"2881\":\"8460bf31-6db2-421e-b95d-767add201fd3\"}}];\n  root.Bokeh.embed.embed_items_notebook(docs_json, render_items);\n  }\n  if (root.Bokeh !== undefined) {\n    embed_document(root);\n  } else {\n    let attempts = 0;\n    const timer = setInterval(function(root) {\n      if (root.Bokeh !== undefined) {\n        clearInterval(timer);\n        embed_document(root);\n      } else {\n        attempts++;\n        if (attempts > 100) {\n          clearInterval(timer);\n          console.log(\"Bokeh: ERROR: Unable to run BokehJS code because BokehJS library is missing\");\n        }\n      }\n    }, 10, root)\n  }\n})(window);",
      "application/vnd.bokehjs_exec.v0+json": ""
     },
     "metadata": {
      "application/vnd.bokehjs_exec.v0+json": {
       "id": "2881"
      }
     },
     "output_type": "display_data"
    }
   ],
   "source": [
    "# use the initial function to prep the df and category values\n",
    "type_stacked_year, bias_types = bokeh_vbar_stack_prep(df, 'Report Year', 'Type of Hate Bias', 'Total hate crimes')\n",
    "\n",
    "# plot the stacked bar\n",
    "p = bokeh_vbar_stack(type_stacked_year, bias_types, 'Report Year', 'Hate crime counts per type over year',\n",
    "                        'Year', 'Total hate crimes', 450, 1000)\n",
    "show(p)"
   ]
  },
  {
   "cell_type": "markdown",
   "metadata": {},
   "source": [
    "# Plot % change based on last time period"
   ]
  },
  {
   "cell_type": "markdown",
   "metadata": {},
   "source": [
    "### Step 1: create dfs that store the counts per each time frame we want to analyze, and then store the percent change from the last period.\n",
    "\n",
    "We prepare the dataframes to be used in Bokeh plotting easily, by breaking them down into Year and Month. We also apply pct_change() to identify the percentage change from the previous year. The dataframe is sorted in ascending order so that it generates the change between the previous and current year values."
   ]
  },
  {
   "cell_type": "code",
   "execution_count": 43,
   "metadata": {},
   "outputs": [],
   "source": [
    "df_daily_counts = df['Date of Offense'].value_counts()\n",
    "df_daily_counts = pd.Series(df_daily_counts).reset_index(name='Hate crime count').rename(columns={'index':'Date of Offense'})\n",
    "df_daily_counts['Year'] = pd.to_datetime(df_daily_counts['Date of Offense']).dt.year\n",
    "df_daily_counts['Month'] = pd.to_datetime(df_daily_counts['Date of Offense']).dt.month\n",
    "df_daily_counts['MonthYear'] = pd.to_datetime(df_daily_counts['Date of Offense']).dt.to_period('M')# month_temp_df.head()\n",
    "\n",
    "# df just for month and year trending\n",
    "df_yearly_counts = df_daily_counts.groupby('Year').sum().reset_index()\n",
    "\n",
    "# find percentage change based on previous year\n",
    "df_yearly_counts['pct_change'] = df_yearly_counts['Hate crime count'].pct_change()\n",
    "df_yearly_counts['pct_change'] = df_yearly_counts['pct_change']*100\n",
    "df_yearly_counts['color'] = \"\"\n",
    "df_yearly_counts['color'][df_yearly_counts['pct_change'] >= 0] = '#EE6363' # red\n",
    "df_yearly_counts['color'][df_yearly_counts['pct_change'] < 0] = '#71C671' # green"
   ]
  },
  {
   "cell_type": "markdown",
   "metadata": {},
   "source": [
    "### Step 2: create a function to compute bar plots in Bokeh specifically for showing the percentage change from the previous year. Positive changes are green while negative changes are red."
   ]
  },
  {
   "cell_type": "code",
   "execution_count": 44,
   "metadata": {},
   "outputs": [],
   "source": [
    "# function to compute bar plot of percentage change from last year's count\n",
    "def bokeh_bar_pct_change(df, yearcolumn, title, height, width):\n",
    "    TOOLS = \"hover,save,pan,box_zoom,reset,wheel_zoom,tap\"\n",
    "    p = figure(plot_height=height, plot_width=width,\n",
    "        title=title,\n",
    "        tools=TOOLS,\n",
    "        toolbar_location='right')\n",
    "    p.vbar(x=df[yearcolumn], top=df['pct_change'], width=0.75, color=df['color'])\n",
    "    p.xaxis.axis_label = 'Year'\n",
    "    p.yaxis.axis_label = '% Change from last year'\n",
    "    p.select_one(HoverTool).tooltips = [\n",
    "        ('Year', '@x'),\n",
    "        ('Percent change from previous year', '@top'+'%'),\n",
    "    ]\n",
    "    return p"
   ]
  },
  {
   "cell_type": "markdown",
   "metadata": {},
   "source": [
    "Show the change of hate crime counts over year."
   ]
  },
  {
   "cell_type": "code",
   "execution_count": 45,
   "metadata": {},
   "outputs": [
    {
     "data": {
      "text/html": [
       "\n",
       "  <div class=\"bk-root\" id=\"35f5d9bb-7a70-4f7a-8e6b-db79d696438e\" data-root-id=\"3210\"></div>\n"
      ]
     },
     "metadata": {},
     "output_type": "display_data"
    },
    {
     "data": {
      "application/javascript": "(function(root) {\n  function embed_document(root) {\n  const docs_json = {\"3466683c-b890-4205-bf7a-70da18f9646c\":{\"defs\":[],\"roots\":{\"references\":[{\"attributes\":{\"below\":[{\"id\":\"3221\"}],\"center\":[{\"id\":\"3224\"},{\"id\":\"3228\"}],\"height\":300,\"left\":[{\"id\":\"3225\"}],\"renderers\":[{\"id\":\"3249\"}],\"title\":{\"id\":\"3211\"},\"toolbar\":{\"id\":\"3237\"},\"width\":450,\"x_range\":{\"id\":\"3213\"},\"x_scale\":{\"id\":\"3217\"},\"y_range\":{\"id\":\"3215\"},\"y_scale\":{\"id\":\"3219\"}},\"id\":\"3210\",\"subtype\":\"Figure\",\"type\":\"Plot\"},{\"attributes\":{},\"id\":\"3215\",\"type\":\"DataRange1d\"},{\"attributes\":{},\"id\":\"3253\",\"type\":\"BasicTickFormatter\"},{\"attributes\":{\"axis_label\":\"% Change from last year\",\"coordinates\":null,\"formatter\":{\"id\":\"3253\"},\"group\":null,\"major_label_policy\":{\"id\":\"3254\"},\"ticker\":{\"id\":\"3226\"}},\"id\":\"3225\",\"type\":\"LinearAxis\"},{\"attributes\":{\"fill_alpha\":{\"value\":0.1},\"fill_color\":{\"field\":\"fill_color\"},\"hatch_alpha\":{\"value\":0.1},\"hatch_color\":{\"field\":\"hatch_color\"},\"line_alpha\":{\"value\":0.1},\"line_color\":{\"field\":\"line_color\"},\"top\":{\"field\":\"top\"},\"width\":{\"value\":0.75},\"x\":{\"field\":\"x\"}},\"id\":\"3247\",\"type\":\"VBar\"},{\"attributes\":{},\"id\":\"3231\",\"type\":\"PanTool\"},{\"attributes\":{\"source\":{\"id\":\"3245\"}},\"id\":\"3250\",\"type\":\"CDSView\"},{\"attributes\":{},\"id\":\"3222\",\"type\":\"BasicTicker\"},{\"attributes\":{},\"id\":\"3226\",\"type\":\"BasicTicker\"},{\"attributes\":{\"tools\":[{\"id\":\"3229\"},{\"id\":\"3230\"},{\"id\":\"3231\"},{\"id\":\"3232\"},{\"id\":\"3233\"},{\"id\":\"3234\"},{\"id\":\"3235\"}]},\"id\":\"3237\",\"type\":\"Toolbar\"},{\"attributes\":{\"axis\":{\"id\":\"3221\"},\"coordinates\":null,\"group\":null,\"ticker\":null},\"id\":\"3224\",\"type\":\"Grid\"},{\"attributes\":{\"axis_label\":\"Year\",\"coordinates\":null,\"formatter\":{\"id\":\"3256\"},\"group\":null,\"major_label_policy\":{\"id\":\"3257\"},\"ticker\":{\"id\":\"3222\"}},\"id\":\"3221\",\"type\":\"LinearAxis\"},{\"attributes\":{\"overlay\":{\"id\":\"3236\"}},\"id\":\"3232\",\"type\":\"BoxZoomTool\"},{\"attributes\":{},\"id\":\"3233\",\"type\":\"ResetTool\"},{\"attributes\":{},\"id\":\"3256\",\"type\":\"BasicTickFormatter\"},{\"attributes\":{\"callback\":null},\"id\":\"3235\",\"type\":\"TapTool\"},{\"attributes\":{\"callback\":null,\"tooltips\":[[\"Year\",\"@x\"],[\"Percent change from previous year\",\"@top%\"]]},\"id\":\"3229\",\"type\":\"HoverTool\"},{\"attributes\":{\"data\":{\"fill_color\":[\"\",\"#71C671\",\"#EE6363\",\"#71C671\",\"#EE6363\",\"#EE6363\",\"#EE6363\",\"#71C671\",\"#71C671\",\"#EE6363\"],\"hatch_color\":[\"\",\"#71C671\",\"#EE6363\",\"#71C671\",\"#EE6363\",\"#EE6363\",\"#EE6363\",\"#71C671\",\"#71C671\",\"#EE6363\"],\"line_color\":[\"\",\"#71C671\",\"#EE6363\",\"#71C671\",\"#EE6363\",\"#EE6363\",\"#EE6363\",\"#71C671\",\"#71C671\",\"#EE6363\"],\"top\":{\"__ndarray__\":\"AAAAAAAA+H+wZyAqHdkrwHCHh4eHhwdAuW3btm3bFsAOPvjggw9PQJBMoHfqWlBAp+7LYyuCLkBAX19fX1/fv7MWCujYfEHAyAcffPDBKUA=\",\"dtype\":\"float64\",\"order\":\"little\",\"shape\":[10]},\"x\":[2012,2013,2014,2015,2016,2017,2018,2019,2020,2021]},\"selected\":{\"id\":\"3259\"},\"selection_policy\":{\"id\":\"3258\"}},\"id\":\"3245\",\"type\":\"ColumnDataSource\"},{\"attributes\":{},\"id\":\"3234\",\"type\":\"WheelZoomTool\"},{\"attributes\":{\"coordinates\":null,\"group\":null,\"text\":\"% change in total hate crime counts from previous year\"},\"id\":\"3211\",\"type\":\"Title\"},{\"attributes\":{},\"id\":\"3217\",\"type\":\"LinearScale\"},{\"attributes\":{\"axis\":{\"id\":\"3225\"},\"coordinates\":null,\"dimension\":1,\"group\":null,\"ticker\":null},\"id\":\"3228\",\"type\":\"Grid\"},{\"attributes\":{},\"id\":\"3257\",\"type\":\"AllLabels\"},{\"attributes\":{},\"id\":\"3258\",\"type\":\"UnionRenderers\"},{\"attributes\":{},\"id\":\"3254\",\"type\":\"AllLabels\"},{\"attributes\":{\"fill_alpha\":{\"value\":0.2},\"fill_color\":{\"field\":\"fill_color\"},\"hatch_alpha\":{\"value\":0.2},\"hatch_color\":{\"field\":\"hatch_color\"},\"line_alpha\":{\"value\":0.2},\"line_color\":{\"field\":\"line_color\"},\"top\":{\"field\":\"top\"},\"width\":{\"value\":0.75},\"x\":{\"field\":\"x\"}},\"id\":\"3248\",\"type\":\"VBar\"},{\"attributes\":{},\"id\":\"3259\",\"type\":\"Selection\"},{\"attributes\":{\"fill_color\":{\"field\":\"fill_color\"},\"hatch_color\":{\"field\":\"hatch_color\"},\"line_color\":{\"field\":\"line_color\"},\"top\":{\"field\":\"top\"},\"width\":{\"value\":0.75},\"x\":{\"field\":\"x\"}},\"id\":\"3246\",\"type\":\"VBar\"},{\"attributes\":{},\"id\":\"3213\",\"type\":\"DataRange1d\"},{\"attributes\":{\"bottom_units\":\"screen\",\"coordinates\":null,\"fill_alpha\":0.5,\"fill_color\":\"lightgrey\",\"group\":null,\"left_units\":\"screen\",\"level\":\"overlay\",\"line_alpha\":1.0,\"line_color\":\"black\",\"line_dash\":[4,4],\"line_width\":2,\"right_units\":\"screen\",\"syncable\":false,\"top_units\":\"screen\"},\"id\":\"3236\",\"type\":\"BoxAnnotation\"},{\"attributes\":{},\"id\":\"3219\",\"type\":\"LinearScale\"},{\"attributes\":{},\"id\":\"3230\",\"type\":\"SaveTool\"},{\"attributes\":{\"coordinates\":null,\"data_source\":{\"id\":\"3245\"},\"glyph\":{\"id\":\"3246\"},\"group\":null,\"hover_glyph\":null,\"muted_glyph\":{\"id\":\"3248\"},\"nonselection_glyph\":{\"id\":\"3247\"},\"view\":{\"id\":\"3250\"}},\"id\":\"3249\",\"type\":\"GlyphRenderer\"}],\"root_ids\":[\"3210\"]},\"title\":\"Bokeh Application\",\"version\":\"2.4.3\"}};\n  const render_items = [{\"docid\":\"3466683c-b890-4205-bf7a-70da18f9646c\",\"root_ids\":[\"3210\"],\"roots\":{\"3210\":\"35f5d9bb-7a70-4f7a-8e6b-db79d696438e\"}}];\n  root.Bokeh.embed.embed_items_notebook(docs_json, render_items);\n  }\n  if (root.Bokeh !== undefined) {\n    embed_document(root);\n  } else {\n    let attempts = 0;\n    const timer = setInterval(function(root) {\n      if (root.Bokeh !== undefined) {\n        clearInterval(timer);\n        embed_document(root);\n      } else {\n        attempts++;\n        if (attempts > 100) {\n          clearInterval(timer);\n          console.log(\"Bokeh: ERROR: Unable to run BokehJS code because BokehJS library is missing\");\n        }\n      }\n    }, 10, root)\n  }\n})(window);",
      "application/vnd.bokehjs_exec.v0+json": ""
     },
     "metadata": {
      "application/vnd.bokehjs_exec.v0+json": {
       "id": "3210"
      }
     },
     "output_type": "display_data"
    }
   ],
   "source": [
    "p = bokeh_bar_pct_change(df_yearly_counts, 'Year', '% change in total hate crime counts from previous year',\n",
    "                     300,450)\n",
    "show(p)"
   ]
  }
 ],
 "metadata": {
  "kernelspec": {
   "display_name": "Python 3.7.11 ('myenv')",
   "language": "python",
   "name": "python3"
  },
  "language_info": {
   "codemirror_mode": {
    "name": "ipython",
    "version": 3
   },
   "file_extension": ".py",
   "mimetype": "text/x-python",
   "name": "python",
   "nbconvert_exporter": "python",
   "pygments_lexer": "ipython3",
   "version": "3.7.11"
  },
  "orig_nbformat": 4,
  "vscode": {
   "interpreter": {
    "hash": "556577b464ed8290f2466f50fdd1787314e6ab7bd01d5a09df1b87bcf003920b"
   }
  }
 },
 "nbformat": 4,
 "nbformat_minor": 2
}
