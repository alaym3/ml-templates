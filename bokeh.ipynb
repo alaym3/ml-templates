{
 "cells": [
  {
   "cell_type": "markdown",
   "metadata": {},
   "source": [
    "# Bokeh plotting template"
   ]
  },
  {
   "cell_type": "markdown",
   "metadata": {},
   "source": [
    "Do all cleaning beforehand!\n",
    "\n",
    "**Load in clean df**"
   ]
  },
  {
   "cell_type": "code",
   "execution_count": 1,
   "metadata": {},
   "outputs": [
    {
     "data": {
      "text/html": [
       "<div class=\"bk-root\">\n",
       "        <a href=\"https://bokeh.org\" target=\"_blank\" class=\"bk-logo bk-logo-small bk-logo-notebook\"></a>\n",
       "        <span id=\"1002\">Loading BokehJS ...</span>\n",
       "    </div>\n"
      ]
     },
     "metadata": {},
     "output_type": "display_data"
    },
    {
     "data": {
      "application/javascript": "(function(root) {\n  function now() {\n    return new Date();\n  }\n\n  const force = true;\n\n  if (typeof root._bokeh_onload_callbacks === \"undefined\" || force === true) {\n    root._bokeh_onload_callbacks = [];\n    root._bokeh_is_loading = undefined;\n  }\n\nconst JS_MIME_TYPE = 'application/javascript';\n  const HTML_MIME_TYPE = 'text/html';\n  const EXEC_MIME_TYPE = 'application/vnd.bokehjs_exec.v0+json';\n  const CLASS_NAME = 'output_bokeh rendered_html';\n\n  /**\n   * Render data to the DOM node\n   */\n  function render(props, node) {\n    const script = document.createElement(\"script\");\n    node.appendChild(script);\n  }\n\n  /**\n   * Handle when an output is cleared or removed\n   */\n  function handleClearOutput(event, handle) {\n    const cell = handle.cell;\n\n    const id = cell.output_area._bokeh_element_id;\n    const server_id = cell.output_area._bokeh_server_id;\n    // Clean up Bokeh references\n    if (id != null && id in Bokeh.index) {\n      Bokeh.index[id].model.document.clear();\n      delete Bokeh.index[id];\n    }\n\n    if (server_id !== undefined) {\n      // Clean up Bokeh references\n      const cmd_clean = \"from bokeh.io.state import curstate; print(curstate().uuid_to_server['\" + server_id + \"'].get_sessions()[0].document.roots[0]._id)\";\n      cell.notebook.kernel.execute(cmd_clean, {\n        iopub: {\n          output: function(msg) {\n            const id = msg.content.text.trim();\n            if (id in Bokeh.index) {\n              Bokeh.index[id].model.document.clear();\n              delete Bokeh.index[id];\n            }\n          }\n        }\n      });\n      // Destroy server and session\n      const cmd_destroy = \"import bokeh.io.notebook as ion; ion.destroy_server('\" + server_id + \"')\";\n      cell.notebook.kernel.execute(cmd_destroy);\n    }\n  }\n\n  /**\n   * Handle when a new output is added\n   */\n  function handleAddOutput(event, handle) {\n    const output_area = handle.output_area;\n    const output = handle.output;\n\n    // limit handleAddOutput to display_data with EXEC_MIME_TYPE content only\n    if ((output.output_type != \"display_data\") || (!Object.prototype.hasOwnProperty.call(output.data, EXEC_MIME_TYPE))) {\n      return\n    }\n\n    const toinsert = output_area.element.find(\".\" + CLASS_NAME.split(' ')[0]);\n\n    if (output.metadata[EXEC_MIME_TYPE][\"id\"] !== undefined) {\n      toinsert[toinsert.length - 1].firstChild.textContent = output.data[JS_MIME_TYPE];\n      // store reference to embed id on output_area\n      output_area._bokeh_element_id = output.metadata[EXEC_MIME_TYPE][\"id\"];\n    }\n    if (output.metadata[EXEC_MIME_TYPE][\"server_id\"] !== undefined) {\n      const bk_div = document.createElement(\"div\");\n      bk_div.innerHTML = output.data[HTML_MIME_TYPE];\n      const script_attrs = bk_div.children[0].attributes;\n      for (let i = 0; i < script_attrs.length; i++) {\n        toinsert[toinsert.length - 1].firstChild.setAttribute(script_attrs[i].name, script_attrs[i].value);\n        toinsert[toinsert.length - 1].firstChild.textContent = bk_div.children[0].textContent\n      }\n      // store reference to server id on output_area\n      output_area._bokeh_server_id = output.metadata[EXEC_MIME_TYPE][\"server_id\"];\n    }\n  }\n\n  function register_renderer(events, OutputArea) {\n\n    function append_mime(data, metadata, element) {\n      // create a DOM node to render to\n      const toinsert = this.create_output_subarea(\n        metadata,\n        CLASS_NAME,\n        EXEC_MIME_TYPE\n      );\n      this.keyboard_manager.register_events(toinsert);\n      // Render to node\n      const props = {data: data, metadata: metadata[EXEC_MIME_TYPE]};\n      render(props, toinsert[toinsert.length - 1]);\n      element.append(toinsert);\n      return toinsert\n    }\n\n    /* Handle when an output is cleared or removed */\n    events.on('clear_output.CodeCell', handleClearOutput);\n    events.on('delete.Cell', handleClearOutput);\n\n    /* Handle when a new output is added */\n    events.on('output_added.OutputArea', handleAddOutput);\n\n    /**\n     * Register the mime type and append_mime function with output_area\n     */\n    OutputArea.prototype.register_mime_type(EXEC_MIME_TYPE, append_mime, {\n      /* Is output safe? */\n      safe: true,\n      /* Index of renderer in `output_area.display_order` */\n      index: 0\n    });\n  }\n\n  // register the mime type if in Jupyter Notebook environment and previously unregistered\n  if (root.Jupyter !== undefined) {\n    const events = require('base/js/events');\n    const OutputArea = require('notebook/js/outputarea').OutputArea;\n\n    if (OutputArea.prototype.mime_types().indexOf(EXEC_MIME_TYPE) == -1) {\n      register_renderer(events, OutputArea);\n    }\n  }\n  if (typeof (root._bokeh_timeout) === \"undefined\" || force === true) {\n    root._bokeh_timeout = Date.now() + 5000;\n    root._bokeh_failed_load = false;\n  }\n\n  const NB_LOAD_WARNING = {'data': {'text/html':\n     \"<div style='background-color: #fdd'>\\n\"+\n     \"<p>\\n\"+\n     \"BokehJS does not appear to have successfully loaded. If loading BokehJS from CDN, this \\n\"+\n     \"may be due to a slow or bad network connection. Possible fixes:\\n\"+\n     \"</p>\\n\"+\n     \"<ul>\\n\"+\n     \"<li>re-rerun `output_notebook()` to attempt to load from CDN again, or</li>\\n\"+\n     \"<li>use INLINE resources instead, as so:</li>\\n\"+\n     \"</ul>\\n\"+\n     \"<code>\\n\"+\n     \"from bokeh.resources import INLINE\\n\"+\n     \"output_notebook(resources=INLINE)\\n\"+\n     \"</code>\\n\"+\n     \"</div>\"}};\n\n  function display_loaded() {\n    const el = document.getElementById(\"1002\");\n    if (el != null) {\n      el.textContent = \"BokehJS is loading...\";\n    }\n    if (root.Bokeh !== undefined) {\n      if (el != null) {\n        el.textContent = \"BokehJS \" + root.Bokeh.version + \" successfully loaded.\";\n      }\n    } else if (Date.now() < root._bokeh_timeout) {\n      setTimeout(display_loaded, 100)\n    }\n  }\n\n  function run_callbacks() {\n    try {\n      root._bokeh_onload_callbacks.forEach(function(callback) {\n        if (callback != null)\n          callback();\n      });\n    } finally {\n      delete root._bokeh_onload_callbacks\n    }\n    console.debug(\"Bokeh: all callbacks have finished\");\n  }\n\n  function load_libs(css_urls, js_urls, callback) {\n    if (css_urls == null) css_urls = [];\n    if (js_urls == null) js_urls = [];\n\n    root._bokeh_onload_callbacks.push(callback);\n    if (root._bokeh_is_loading > 0) {\n      console.debug(\"Bokeh: BokehJS is being loaded, scheduling callback at\", now());\n      return null;\n    }\n    if (js_urls == null || js_urls.length === 0) {\n      run_callbacks();\n      return null;\n    }\n    console.debug(\"Bokeh: BokehJS not loaded, scheduling load and callback at\", now());\n    root._bokeh_is_loading = css_urls.length + js_urls.length;\n\n    function on_load() {\n      root._bokeh_is_loading--;\n      if (root._bokeh_is_loading === 0) {\n        console.debug(\"Bokeh: all BokehJS libraries/stylesheets loaded\");\n        run_callbacks()\n      }\n    }\n\n    function on_error(url) {\n      console.error(\"failed to load \" + url);\n    }\n\n    for (let i = 0; i < css_urls.length; i++) {\n      const url = css_urls[i];\n      const element = document.createElement(\"link\");\n      element.onload = on_load;\n      element.onerror = on_error.bind(null, url);\n      element.rel = \"stylesheet\";\n      element.type = \"text/css\";\n      element.href = url;\n      console.debug(\"Bokeh: injecting link tag for BokehJS stylesheet: \", url);\n      document.body.appendChild(element);\n    }\n\n    for (let i = 0; i < js_urls.length; i++) {\n      const url = js_urls[i];\n      const element = document.createElement('script');\n      element.onload = on_load;\n      element.onerror = on_error.bind(null, url);\n      element.async = false;\n      element.src = url;\n      console.debug(\"Bokeh: injecting script tag for BokehJS library: \", url);\n      document.head.appendChild(element);\n    }\n  };\n\n  function inject_raw_css(css) {\n    const element = document.createElement(\"style\");\n    element.appendChild(document.createTextNode(css));\n    document.body.appendChild(element);\n  }\n\n  const js_urls = [\"https://cdn.bokeh.org/bokeh/release/bokeh-2.4.3.min.js\", \"https://cdn.bokeh.org/bokeh/release/bokeh-gl-2.4.3.min.js\", \"https://cdn.bokeh.org/bokeh/release/bokeh-widgets-2.4.3.min.js\", \"https://cdn.bokeh.org/bokeh/release/bokeh-tables-2.4.3.min.js\", \"https://cdn.bokeh.org/bokeh/release/bokeh-mathjax-2.4.3.min.js\"];\n  const css_urls = [];\n\n  const inline_js = [    function(Bokeh) {\n      Bokeh.set_log_level(\"info\");\n    },\nfunction(Bokeh) {\n    }\n  ];\n\n  function run_inline_js() {\n    if (root.Bokeh !== undefined || force === true) {\n          for (let i = 0; i < inline_js.length; i++) {\n      inline_js[i].call(root, root.Bokeh);\n    }\nif (force === true) {\n        display_loaded();\n      }} else if (Date.now() < root._bokeh_timeout) {\n      setTimeout(run_inline_js, 100);\n    } else if (!root._bokeh_failed_load) {\n      console.log(\"Bokeh: BokehJS failed to load within specified timeout.\");\n      root._bokeh_failed_load = true;\n    } else if (force !== true) {\n      const cell = $(document.getElementById(\"1002\")).parents('.cell').data().cell;\n      cell.output_area.append_execute_result(NB_LOAD_WARNING)\n    }\n  }\n\n  if (root._bokeh_is_loading === 0) {\n    console.debug(\"Bokeh: BokehJS loaded, going straight to plotting\");\n    run_inline_js();\n  } else {\n    load_libs(css_urls, js_urls, function() {\n      console.debug(\"Bokeh: BokehJS plotting callback run at\", now());\n      run_inline_js();\n    });\n  }\n}(window));",
      "application/vnd.bokehjs_load.v0+json": ""
     },
     "metadata": {},
     "output_type": "display_data"
    }
   ],
   "source": [
    "# imports\n",
    "import pandas as pd\n",
    "pd.options.mode.chained_assignment = None\n",
    "import numpy as np\n",
    "from math import pi\n",
    "import matplotlib.pyplot as plt\n",
    "\n",
    "from bokeh.plotting import figure, show, output_file, output_notebook\n",
    "from bokeh.models import ColumnDataSource, Range1d, HoverTool, Legend\n",
    "from bokeh.models.widgets import Tabs, Panel\n",
    "from bokeh.io import show\n",
    "from bokeh.palettes import Category20b, Spectral, Plasma, Viridis, YlOrRd, PuOr, BuPu, BuGn, brewer, GnBu, PRGn, Inferno256, PuRd, RdPu, PiYG, RdYlGn, YlGnBu\n",
    "from bokeh.io import reset_output, output_notebook\n",
    "reset_output()\n",
    "output_notebook()\n",
    "\n",
    "from bokeh.plotting import figure, output_file, save\n",
    "from IPython.display import IFrame\n",
    "from IPython.core.display import display, HTML\n",
    "import tempfile\n"
   ]
  },
  {
   "cell_type": "code",
   "execution_count": 2,
   "metadata": {},
   "outputs": [
    {
     "data": {
      "text/html": [
       "<div>\n",
       "<style scoped>\n",
       "    .dataframe tbody tr th:only-of-type {\n",
       "        vertical-align: middle;\n",
       "    }\n",
       "\n",
       "    .dataframe tbody tr th {\n",
       "        vertical-align: top;\n",
       "    }\n",
       "\n",
       "    .dataframe thead th {\n",
       "        text-align: right;\n",
       "    }\n",
       "</style>\n",
       "<table border=\"1\" class=\"dataframe\">\n",
       "  <thead>\n",
       "    <tr style=\"text-align: right;\">\n",
       "      <th></th>\n",
       "      <th>Date of Offense</th>\n",
       "      <th>Time of Offense</th>\n",
       "      <th>Date Offense Reported</th>\n",
       "      <th>Report Year</th>\n",
       "      <th>Month</th>\n",
       "      <th>CCN</th>\n",
       "      <th>District</th>\n",
       "      <th>Block Location</th>\n",
       "      <th>Type of Hate Bias</th>\n",
       "      <th>Targeted Group</th>\n",
       "      <th>Top Offense Type</th>\n",
       "      <th>Address</th>\n",
       "      <th>gcode</th>\n",
       "      <th>lat</th>\n",
       "      <th>long</th>\n",
       "      <th>zipcodes</th>\n",
       "    </tr>\n",
       "  </thead>\n",
       "  <tbody>\n",
       "    <tr>\n",
       "      <th>0</th>\n",
       "      <td>2012-01-08</td>\n",
       "      <td>1500-1505</td>\n",
       "      <td>2012-01-08</td>\n",
       "      <td>2012</td>\n",
       "      <td>1</td>\n",
       "      <td>12003845</td>\n",
       "      <td>3</td>\n",
       "      <td>1600 B/O 17th St NW</td>\n",
       "      <td>Sexual Orientation</td>\n",
       "      <td>Not Reported</td>\n",
       "      <td>Threats</td>\n",
       "      <td>1600  17th St NW  Washington DC</td>\n",
       "      <td>1600, 17th Street Northwest, Dupont Circle, Wa...</td>\n",
       "      <td>38.911250</td>\n",
       "      <td>-77.038588</td>\n",
       "      <td>20009</td>\n",
       "    </tr>\n",
       "    <tr>\n",
       "      <th>1</th>\n",
       "      <td>2012-01-14</td>\n",
       "      <td>0240-0250</td>\n",
       "      <td>2012-01-14</td>\n",
       "      <td>2012</td>\n",
       "      <td>1</td>\n",
       "      <td>12006716</td>\n",
       "      <td>3</td>\n",
       "      <td>1800 B/O 14th St NW</td>\n",
       "      <td>Sexual Orientation</td>\n",
       "      <td>Not Reported</td>\n",
       "      <td>Simple Assault</td>\n",
       "      <td>1800  14th St NW Washington DC</td>\n",
       "      <td>1800, 14th Street Northwest, Cardozo/Shaw, Was...</td>\n",
       "      <td>38.914217</td>\n",
       "      <td>-77.032054</td>\n",
       "      <td>20009</td>\n",
       "    </tr>\n",
       "    <tr>\n",
       "      <th>2</th>\n",
       "      <td>2012-01-22</td>\n",
       "      <td>145</td>\n",
       "      <td>2012-01-22</td>\n",
       "      <td>2012</td>\n",
       "      <td>1</td>\n",
       "      <td>12010626</td>\n",
       "      <td>7</td>\n",
       "      <td>1300 B/O Alabama Ave SE</td>\n",
       "      <td>Sexual Orientation</td>\n",
       "      <td>Not Reported</td>\n",
       "      <td>ADW</td>\n",
       "      <td>1300  Alabama Ave SE Washington DC</td>\n",
       "      <td>1300, Alabama Avenue Southeast, Washington, Di...</td>\n",
       "      <td>38.845056</td>\n",
       "      <td>-76.987412</td>\n",
       "      <td>20020</td>\n",
       "    </tr>\n",
       "    <tr>\n",
       "      <th>3</th>\n",
       "      <td>2012-01-22</td>\n",
       "      <td>1930</td>\n",
       "      <td>2012-01-22</td>\n",
       "      <td>2012</td>\n",
       "      <td>1</td>\n",
       "      <td>12010912</td>\n",
       "      <td>1</td>\n",
       "      <td>600 B/O H St NW</td>\n",
       "      <td>Race</td>\n",
       "      <td>Asian</td>\n",
       "      <td>Threats</td>\n",
       "      <td>600  H St NW Washington DC</td>\n",
       "      <td>600, H Street Northwest, Chinatown, Washington...</td>\n",
       "      <td>38.899729</td>\n",
       "      <td>-77.020065</td>\n",
       "      <td>20001</td>\n",
       "    </tr>\n",
       "    <tr>\n",
       "      <th>4</th>\n",
       "      <td>2012-02-06</td>\n",
       "      <td>1900</td>\n",
       "      <td>2012-02-06</td>\n",
       "      <td>2012</td>\n",
       "      <td>2</td>\n",
       "      <td>12018396</td>\n",
       "      <td>3</td>\n",
       "      <td>1300 B/O Park Rd NW</td>\n",
       "      <td>Sexual Orientation</td>\n",
       "      <td>Not Reported</td>\n",
       "      <td>Simple Assault</td>\n",
       "      <td>1300  Park Rd NW Washington DC</td>\n",
       "      <td>1300, Park Road Northwest, Columbia Heights, W...</td>\n",
       "      <td>38.931198</td>\n",
       "      <td>-77.029808</td>\n",
       "      <td>20010</td>\n",
       "    </tr>\n",
       "  </tbody>\n",
       "</table>\n",
       "</div>"
      ],
      "text/plain": [
       "  Date of Offense Time of Offense Date Offense Reported  Report Year  Month  \\\n",
       "0      2012-01-08       1500-1505            2012-01-08         2012      1   \n",
       "1      2012-01-14       0240-0250            2012-01-14         2012      1   \n",
       "2      2012-01-22             145            2012-01-22         2012      1   \n",
       "3      2012-01-22            1930            2012-01-22         2012      1   \n",
       "4      2012-02-06            1900            2012-02-06         2012      2   \n",
       "\n",
       "        CCN  District           Block Location   Type of Hate Bias  \\\n",
       "0  12003845         3     1600 B/O 17th St NW   Sexual Orientation   \n",
       "1  12006716         3      1800 B/O 14th St NW  Sexual Orientation   \n",
       "2  12010626         7  1300 B/O Alabama Ave SE  Sexual Orientation   \n",
       "3  12010912         1          600 B/O H St NW                Race   \n",
       "4  12018396         3      1300 B/O Park Rd NW  Sexual Orientation   \n",
       "\n",
       "  Targeted Group Top Offense Type                             Address  \\\n",
       "0   Not Reported          Threats     1600  17th St NW  Washington DC   \n",
       "1   Not Reported   Simple Assault      1800  14th St NW Washington DC   \n",
       "2   Not Reported              ADW  1300  Alabama Ave SE Washington DC   \n",
       "3          Asian          Threats          600  H St NW Washington DC   \n",
       "4   Not Reported   Simple Assault      1300  Park Rd NW Washington DC   \n",
       "\n",
       "                                               gcode        lat       long  \\\n",
       "0  1600, 17th Street Northwest, Dupont Circle, Wa...  38.911250 -77.038588   \n",
       "1  1800, 14th Street Northwest, Cardozo/Shaw, Was...  38.914217 -77.032054   \n",
       "2  1300, Alabama Avenue Southeast, Washington, Di...  38.845056 -76.987412   \n",
       "3  600, H Street Northwest, Chinatown, Washington...  38.899729 -77.020065   \n",
       "4  1300, Park Road Northwest, Columbia Heights, W...  38.931198 -77.029808   \n",
       "\n",
       "   zipcodes  \n",
       "0     20009  \n",
       "1     20009  \n",
       "2     20020  \n",
       "3     20001  \n",
       "4     20010  "
      ]
     },
     "execution_count": 2,
     "metadata": {},
     "output_type": "execute_result"
    }
   ],
   "source": [
    "df = pd.read_csv('data/hatecrime_df_clean.csv')\n",
    "df.head()"
   ]
  },
  {
   "cell_type": "markdown",
   "metadata": {},
   "source": [
    "# Horizontal bar examples"
   ]
  },
  {
   "cell_type": "markdown",
   "metadata": {},
   "source": [
    "### Step 1: Create a function that creates a seperate dataframe for every categorical column that we want to analyze"
   ]
  },
  {
   "cell_type": "code",
   "execution_count": 9,
   "metadata": {},
   "outputs": [],
   "source": [
    "# function to make a dataframe to count the unique values for each category in a given column\n",
    "def prep_bokeh_df(df, column):\n",
    "    count_df = pd.Series(df[column].value_counts()).reset_index(name='Hate crime count').rename(columns={'index':column})\n",
    "    return count_df\n"
   ]
  },
  {
   "cell_type": "markdown",
   "metadata": {},
   "source": [
    "Use the function to create multiple dfs for the categories we want to explore."
   ]
  },
  {
   "cell_type": "code",
   "execution_count": 12,
   "metadata": {},
   "outputs": [],
   "source": [
    "# make the new dfs\n",
    "type_bias_bar_df = prep_bokeh_df(df, 'Type of Hate Bias')\n",
    "targeted_group_bar_df = prep_bokeh_df(df, 'Targeted Group')\n",
    "offense_type_bar_df = prep_bokeh_df(df, 'Top Offense Type')"
   ]
  },
  {
   "cell_type": "markdown",
   "metadata": {},
   "source": [
    "### Step 2: Create a function to plot Bokeh categorical data into horizontal bars"
   ]
  },
  {
   "cell_type": "code",
   "execution_count": 13,
   "metadata": {},
   "outputs": [],
   "source": [
    "# function to plot bokeh categorical data in a horizontal bar\n",
    "# you input the dataframe, column, colorpalette, height, and width\n",
    "def bokeh_hbar(df, column, title, colorpalette, height, width):\n",
    "    TOOLS = \"hover,save,pan,box_zoom,reset,wheel_zoom,tap\"\n",
    "    p = figure(plot_height=height,\n",
    "        plot_width=width,\n",
    "        title=title,\n",
    "        tools=TOOLS,\n",
    "        toolbar_location='right',\n",
    "        y_range=df[column].unique()[::-1])\n",
    "    p.hbar(y=df[column], right=df['Hate crime count'], \n",
    "    height=0.75,color=colorpalette[df[column].nunique()]) #color='#8968CD')\n",
    "    p.yaxis.axis_label = column\n",
    "    p.xaxis.axis_label = 'Number of hate crimes'\n",
    "    p.select_one(HoverTool).tooltips = [\n",
    "        (column, '@y'),\n",
    "        ('Number of hate crimes', '@right')]\n",
    "    return p"
   ]
  },
  {
   "cell_type": "markdown",
   "metadata": {},
   "source": [
    "We display the number of hate crimes per type of hate bias, targeted group, and top offense type."
   ]
  },
  {
   "cell_type": "code",
   "execution_count": 14,
   "metadata": {},
   "outputs": [
    {
     "data": {
      "text/html": [
       "\n",
       "  <div class=\"bk-root\" id=\"d3734490-03b1-4fae-8601-d93309ae89c1\" data-root-id=\"1490\"></div>\n"
      ]
     },
     "metadata": {},
     "output_type": "display_data"
    },
    {
     "data": {
      "application/javascript": "(function(root) {\n  function embed_document(root) {\n  const docs_json = {\"e36a7a57-d83f-4c9d-869d-c755f3cf2c56\":{\"defs\":[],\"roots\":{\"references\":[{\"attributes\":{\"tabs\":[{\"id\":\"1487\"},{\"id\":\"1488\"},{\"id\":\"1489\"}]},\"id\":\"1490\",\"type\":\"Tabs\"},{\"attributes\":{},\"id\":\"1456\",\"type\":\"SaveTool\"},{\"attributes\":{},\"id\":\"1457\",\"type\":\"PanTool\"},{\"attributes\":{\"overlay\":{\"id\":\"1462\"}},\"id\":\"1458\",\"type\":\"BoxZoomTool\"},{\"attributes\":{},\"id\":\"1460\",\"type\":\"WheelZoomTool\"},{\"attributes\":{},\"id\":\"1459\",\"type\":\"ResetTool\"},{\"attributes\":{\"data\":{\"fill_color\":[\"#67001f\",\"#980043\",\"#ce1256\",\"#e7298a\",\"#df65b0\",\"#c994c7\",\"#d4b9da\",\"#e7e1ef\",\"#67001f\",\"#980043\",\"#ce1256\",\"#e7298a\",\"#df65b0\",\"#c994c7\",\"#d4b9da\",\"#e7e1ef\",\"#67001f\",\"#980043\",\"#ce1256\",\"#e7298a\",\"#df65b0\",\"#c994c7\",\"#d4b9da\",\"#e7e1ef\",\"#67001f\",\"#980043\",\"#ce1256\",\"#e7298a\"],\"hatch_color\":[\"#67001f\",\"#980043\",\"#ce1256\",\"#e7298a\",\"#df65b0\",\"#c994c7\",\"#d4b9da\",\"#e7e1ef\",\"#67001f\",\"#980043\",\"#ce1256\",\"#e7298a\",\"#df65b0\",\"#c994c7\",\"#d4b9da\",\"#e7e1ef\",\"#67001f\",\"#980043\",\"#ce1256\",\"#e7298a\",\"#df65b0\",\"#c994c7\",\"#d4b9da\",\"#e7e1ef\",\"#67001f\",\"#980043\",\"#ce1256\",\"#e7298a\"],\"line_color\":[\"#67001f\",\"#980043\",\"#ce1256\",\"#e7298a\",\"#df65b0\",\"#c994c7\",\"#d4b9da\",\"#e7e1ef\",\"#67001f\",\"#980043\",\"#ce1256\",\"#e7298a\",\"#df65b0\",\"#c994c7\",\"#d4b9da\",\"#e7e1ef\",\"#67001f\",\"#980043\",\"#ce1256\",\"#e7298a\",\"#df65b0\",\"#c994c7\",\"#d4b9da\",\"#e7e1ef\",\"#67001f\",\"#980043\",\"#ce1256\",\"#e7298a\"],\"right\":[645,198,112,84,81,32,24,21,15,14,5,3,3,2,2,2,1,1,1,1,1,1,1,1,1,1,1,1],\"y\":[\"Not Reported\",\"Black\",\"Jewish\",\"Latino/Hispanic\",\"White\",\"Asian\",\"Arab/Middle Eastern\",\"Muslim\",\"Chinese\",\"Unspecified\",\"Ethiopian\",\"Female\",\"Non-European\",\"Christian\",\"Unknown\",\"Israeli\",\"Arab/Middle Eastern or Jewish\",\"Hindu\",\"Indian\",\"Jamaican\",\"Russian\",\"Multiple\",\"Other/Unknown Religion\",\"Pakistani\",\"Japanese\",\"Turkish\",\"Iranian\",\"Lebanese\"]},\"selected\":{\"id\":\"1435\"},\"selection_policy\":{\"id\":\"1434\"}},\"id\":\"1421\",\"type\":\"ColumnDataSource\"},{\"attributes\":{\"axis\":{\"id\":\"1402\"},\"coordinates\":null,\"dimension\":1,\"group\":null,\"ticker\":null},\"id\":\"1404\",\"type\":\"Grid\"},{\"attributes\":{\"callback\":null},\"id\":\"1461\",\"type\":\"TapTool\"},{\"attributes\":{\"tools\":[{\"id\":\"1455\"},{\"id\":\"1456\"},{\"id\":\"1457\"},{\"id\":\"1458\"},{\"id\":\"1459\"},{\"id\":\"1460\"},{\"id\":\"1461\"}]},\"id\":\"1463\",\"type\":\"Toolbar\"},{\"attributes\":{\"fill_color\":{\"field\":\"fill_color\"},\"hatch_color\":{\"field\":\"hatch_color\"},\"height\":{\"value\":0.75},\"line_color\":{\"field\":\"line_color\"},\"right\":{\"field\":\"right\"},\"y\":{\"field\":\"y\"}},\"id\":\"1422\",\"type\":\"HBar\"},{\"attributes\":{\"bottom_units\":\"screen\",\"coordinates\":null,\"fill_alpha\":0.5,\"fill_color\":\"lightgrey\",\"group\":null,\"left_units\":\"screen\",\"level\":\"overlay\",\"line_alpha\":1.0,\"line_color\":\"black\",\"line_dash\":[4,4],\"line_width\":2,\"right_units\":\"screen\",\"syncable\":false,\"top_units\":\"screen\"},\"id\":\"1462\",\"type\":\"BoxAnnotation\"},{\"attributes\":{\"coordinates\":null,\"data_source\":{\"id\":\"1471\"},\"glyph\":{\"id\":\"1472\"},\"group\":null,\"hover_glyph\":null,\"muted_glyph\":{\"id\":\"1474\"},\"nonselection_glyph\":{\"id\":\"1473\"},\"view\":{\"id\":\"1476\"}},\"id\":\"1475\",\"type\":\"GlyphRenderer\"},{\"attributes\":{},\"id\":\"1482\",\"type\":\"BasicTickFormatter\"},{\"attributes\":{},\"id\":\"1480\",\"type\":\"AllLabels\"},{\"attributes\":{},\"id\":\"1479\",\"type\":\"CategoricalTickFormatter\"},{\"attributes\":{\"source\":{\"id\":\"1471\"}},\"id\":\"1476\",\"type\":\"CDSView\"},{\"attributes\":{},\"id\":\"1483\",\"type\":\"AllLabels\"},{\"attributes\":{},\"id\":\"1484\",\"type\":\"UnionRenderers\"},{\"attributes\":{},\"id\":\"1485\",\"type\":\"Selection\"},{\"attributes\":{\"child\":{\"id\":\"1437\"},\"title\":\"Offense type\"},\"id\":\"1489\",\"type\":\"Panel\"},{\"attributes\":{\"child\":{\"id\":\"1387\"},\"title\":\"Targeted group\"},\"id\":\"1488\",\"type\":\"Panel\"},{\"attributes\":{},\"id\":\"1340\",\"type\":\"DataRange1d\"},{\"attributes\":{\"fill_alpha\":{\"value\":0.1},\"fill_color\":{\"field\":\"fill_color\"},\"hatch_alpha\":{\"value\":0.1},\"hatch_color\":{\"field\":\"hatch_color\"},\"height\":{\"value\":0.75},\"line_alpha\":{\"value\":0.1},\"line_color\":{\"field\":\"line_color\"},\"right\":{\"field\":\"right\"},\"y\":{\"field\":\"y\"}},\"id\":\"1373\",\"type\":\"HBar\"},{\"attributes\":{\"overlay\":{\"id\":\"1412\"}},\"id\":\"1408\",\"type\":\"BoxZoomTool\"},{\"attributes\":{},\"id\":\"1356\",\"type\":\"SaveTool\"},{\"attributes\":{\"coordinates\":null,\"group\":null,\"text\":\"Number of hate crimes by targeted group\"},\"id\":\"1388\",\"type\":\"Title\"},{\"attributes\":{\"tools\":[{\"id\":\"1405\"},{\"id\":\"1406\"},{\"id\":\"1407\"},{\"id\":\"1408\"},{\"id\":\"1409\"},{\"id\":\"1410\"},{\"id\":\"1411\"}]},\"id\":\"1413\",\"type\":\"Toolbar\"},{\"attributes\":{\"axis_label\":\"Number of hate crimes\",\"coordinates\":null,\"formatter\":{\"id\":\"1432\"},\"group\":null,\"major_label_policy\":{\"id\":\"1433\"},\"ticker\":{\"id\":\"1399\"}},\"id\":\"1398\",\"type\":\"LinearAxis\"},{\"attributes\":{\"coordinates\":null,\"group\":null,\"text\":\"Number of hate crimes by offense type\"},\"id\":\"1438\",\"type\":\"Title\"},{\"attributes\":{},\"id\":\"1390\",\"type\":\"DataRange1d\"},{\"attributes\":{\"fill_alpha\":{\"value\":0.2},\"fill_color\":{\"field\":\"fill_color\"},\"hatch_alpha\":{\"value\":0.2},\"hatch_color\":{\"field\":\"hatch_color\"},\"height\":{\"value\":0.75},\"line_alpha\":{\"value\":0.2},\"line_color\":{\"field\":\"line_color\"},\"right\":{\"field\":\"right\"},\"y\":{\"field\":\"y\"}},\"id\":\"1424\",\"type\":\"HBar\"},{\"attributes\":{},\"id\":\"1433\",\"type\":\"AllLabels\"},{\"attributes\":{\"callback\":null,\"tooltips\":[[\"Type of Hate Bias\",\"@y\"],[\"Number of hate crimes\",\"@right\"]]},\"id\":\"1355\",\"type\":\"HoverTool\"},{\"attributes\":{\"callback\":null,\"tooltips\":[[\"Targeted Group\",\"@y\"],[\"Number of hate crimes\",\"@right\"]]},\"id\":\"1405\",\"type\":\"HoverTool\"},{\"attributes\":{},\"id\":\"1435\",\"type\":\"Selection\"},{\"attributes\":{},\"id\":\"1379\",\"type\":\"CategoricalTickFormatter\"},{\"attributes\":{\"fill_alpha\":{\"value\":0.1},\"fill_color\":{\"field\":\"fill_color\"},\"hatch_alpha\":{\"value\":0.1},\"hatch_color\":{\"field\":\"hatch_color\"},\"height\":{\"value\":0.75},\"line_alpha\":{\"value\":0.1},\"line_color\":{\"field\":\"line_color\"},\"right\":{\"field\":\"right\"},\"y\":{\"field\":\"y\"}},\"id\":\"1473\",\"type\":\"HBar\"},{\"attributes\":{},\"id\":\"1453\",\"type\":\"CategoricalTicker\"},{\"attributes\":{},\"id\":\"1382\",\"type\":\"BasicTickFormatter\"},{\"attributes\":{\"fill_color\":{\"field\":\"fill_color\"},\"hatch_color\":{\"field\":\"hatch_color\"},\"height\":{\"value\":0.75},\"line_color\":{\"field\":\"line_color\"},\"right\":{\"field\":\"right\"},\"y\":{\"field\":\"y\"}},\"id\":\"1472\",\"type\":\"HBar\"},{\"attributes\":{\"fill_alpha\":{\"value\":0.2},\"fill_color\":{\"field\":\"fill_color\"},\"hatch_alpha\":{\"value\":0.2},\"hatch_color\":{\"field\":\"hatch_color\"},\"height\":{\"value\":0.75},\"line_alpha\":{\"value\":0.2},\"line_color\":{\"field\":\"line_color\"},\"right\":{\"field\":\"right\"},\"y\":{\"field\":\"y\"}},\"id\":\"1474\",\"type\":\"HBar\"},{\"attributes\":{\"below\":[{\"id\":\"1398\"}],\"center\":[{\"id\":\"1401\"},{\"id\":\"1404\"}],\"height\":450,\"left\":[{\"id\":\"1402\"}],\"renderers\":[{\"id\":\"1425\"}],\"title\":{\"id\":\"1388\"},\"toolbar\":{\"id\":\"1413\"},\"width\":650,\"x_range\":{\"id\":\"1390\"},\"x_scale\":{\"id\":\"1394\"},\"y_range\":{\"id\":\"1392\"},\"y_scale\":{\"id\":\"1396\"}},\"id\":\"1387\",\"subtype\":\"Figure\",\"type\":\"Plot\"},{\"attributes\":{},\"id\":\"1353\",\"type\":\"CategoricalTicker\"},{\"attributes\":{\"callback\":null},\"id\":\"1411\",\"type\":\"TapTool\"},{\"attributes\":{\"axis\":{\"id\":\"1452\"},\"coordinates\":null,\"dimension\":1,\"group\":null,\"ticker\":null},\"id\":\"1454\",\"type\":\"Grid\"},{\"attributes\":{},\"id\":\"1406\",\"type\":\"SaveTool\"},{\"attributes\":{},\"id\":\"1380\",\"type\":\"AllLabels\"},{\"attributes\":{},\"id\":\"1349\",\"type\":\"BasicTicker\"},{\"attributes\":{},\"id\":\"1407\",\"type\":\"PanTool\"},{\"attributes\":{\"bottom_units\":\"screen\",\"coordinates\":null,\"fill_alpha\":0.5,\"fill_color\":\"lightgrey\",\"group\":null,\"left_units\":\"screen\",\"level\":\"overlay\",\"line_alpha\":1.0,\"line_color\":\"black\",\"line_dash\":[4,4],\"line_width\":2,\"right_units\":\"screen\",\"syncable\":false,\"top_units\":\"screen\"},\"id\":\"1362\",\"type\":\"BoxAnnotation\"},{\"attributes\":{\"factors\":[\"Lebanese\",\"Iranian\",\"Turkish\",\"Japanese\",\"Pakistani\",\"Other/Unknown Religion\",\"Multiple\",\"Russian\",\"Jamaican\",\"Indian\",\"Hindu\",\"Arab/Middle Eastern or Jewish\",\"Israeli\",\"Unknown\",\"Christian\",\"Non-European\",\"Female\",\"Ethiopian\",\"Unspecified\",\"Chinese\",\"Muslim\",\"Arab/Middle Eastern\",\"Asian\",\"White\",\"Latino/Hispanic\",\"Jewish\",\"Black\",\"Not Reported\"]},\"id\":\"1392\",\"type\":\"FactorRange\"},{\"attributes\":{\"fill_alpha\":{\"value\":0.1},\"fill_color\":{\"field\":\"fill_color\"},\"hatch_alpha\":{\"value\":0.1},\"hatch_color\":{\"field\":\"hatch_color\"},\"height\":{\"value\":0.75},\"line_alpha\":{\"value\":0.1},\"line_color\":{\"field\":\"line_color\"},\"right\":{\"field\":\"right\"},\"y\":{\"field\":\"y\"}},\"id\":\"1423\",\"type\":\"HBar\"},{\"attributes\":{},\"id\":\"1399\",\"type\":\"BasicTicker\"},{\"attributes\":{},\"id\":\"1446\",\"type\":\"CategoricalScale\"},{\"attributes\":{\"tools\":[{\"id\":\"1355\"},{\"id\":\"1356\"},{\"id\":\"1357\"},{\"id\":\"1358\"},{\"id\":\"1359\"},{\"id\":\"1360\"},{\"id\":\"1361\"}]},\"id\":\"1363\",\"type\":\"Toolbar\"},{\"attributes\":{\"callback\":null,\"tooltips\":[[\"Top Offense Type\",\"@y\"],[\"Number of hate crimes\",\"@right\"]]},\"id\":\"1455\",\"type\":\"HoverTool\"},{\"attributes\":{\"coordinates\":null,\"data_source\":{\"id\":\"1421\"},\"glyph\":{\"id\":\"1422\"},\"group\":null,\"hover_glyph\":null,\"muted_glyph\":{\"id\":\"1424\"},\"nonselection_glyph\":{\"id\":\"1423\"},\"view\":{\"id\":\"1426\"}},\"id\":\"1425\",\"type\":\"GlyphRenderer\"},{\"attributes\":{\"axis_label\":\"Top Offense Type\",\"coordinates\":null,\"formatter\":{\"id\":\"1479\"},\"group\":null,\"major_label_policy\":{\"id\":\"1480\"},\"ticker\":{\"id\":\"1453\"}},\"id\":\"1452\",\"type\":\"CategoricalAxis\"},{\"attributes\":{},\"id\":\"1430\",\"type\":\"AllLabels\"},{\"attributes\":{},\"id\":\"1346\",\"type\":\"CategoricalScale\"},{\"attributes\":{\"axis_label\":\"Number of hate crimes\",\"coordinates\":null,\"formatter\":{\"id\":\"1382\"},\"group\":null,\"major_label_policy\":{\"id\":\"1383\"},\"ticker\":{\"id\":\"1349\"}},\"id\":\"1348\",\"type\":\"LinearAxis\"},{\"attributes\":{},\"id\":\"1383\",\"type\":\"AllLabels\"},{\"attributes\":{\"child\":{\"id\":\"1337\"},\"title\":\"Type\"},\"id\":\"1487\",\"type\":\"Panel\"},{\"attributes\":{\"source\":{\"id\":\"1371\"}},\"id\":\"1376\",\"type\":\"CDSView\"},{\"attributes\":{},\"id\":\"1359\",\"type\":\"ResetTool\"},{\"attributes\":{\"axis_label\":\"Type of Hate Bias\",\"coordinates\":null,\"formatter\":{\"id\":\"1379\"},\"group\":null,\"major_label_policy\":{\"id\":\"1380\"},\"ticker\":{\"id\":\"1353\"}},\"id\":\"1352\",\"type\":\"CategoricalAxis\"},{\"attributes\":{},\"id\":\"1409\",\"type\":\"ResetTool\"},{\"attributes\":{\"bottom_units\":\"screen\",\"coordinates\":null,\"fill_alpha\":0.5,\"fill_color\":\"lightgrey\",\"group\":null,\"left_units\":\"screen\",\"level\":\"overlay\",\"line_alpha\":1.0,\"line_color\":\"black\",\"line_dash\":[4,4],\"line_width\":2,\"right_units\":\"screen\",\"syncable\":false,\"top_units\":\"screen\"},\"id\":\"1412\",\"type\":\"BoxAnnotation\"},{\"attributes\":{},\"id\":\"1394\",\"type\":\"LinearScale\"},{\"attributes\":{\"data\":{\"fill_color\":[\"#67001f\",\"#980043\",\"#ce1256\",\"#e7298a\",\"#df65b0\",\"#c994c7\",\"#d4b9da\",\"#e7e1ef\",\"#67001f\",\"#980043\",\"#ce1256\",\"#e7298a\",\"#df65b0\",\"#c994c7\",\"#d4b9da\",\"#e7e1ef\",\"#67001f\",\"#980043\",\"#ce1256\",\"#e7298a\"],\"hatch_color\":[\"#67001f\",\"#980043\",\"#ce1256\",\"#e7298a\",\"#df65b0\",\"#c994c7\",\"#d4b9da\",\"#e7e1ef\",\"#67001f\",\"#980043\",\"#ce1256\",\"#e7298a\",\"#df65b0\",\"#c994c7\",\"#d4b9da\",\"#e7e1ef\",\"#67001f\",\"#980043\",\"#ce1256\",\"#e7298a\"],\"line_color\":[\"#67001f\",\"#980043\",\"#ce1256\",\"#e7298a\",\"#df65b0\",\"#c994c7\",\"#d4b9da\",\"#e7e1ef\",\"#67001f\",\"#980043\",\"#ce1256\",\"#e7298a\",\"#df65b0\",\"#c994c7\",\"#d4b9da\",\"#e7e1ef\",\"#67001f\",\"#980043\",\"#ce1256\",\"#e7298a\"],\"right\":[463,306,190,150,71,40,13,6,4,1,1,1,1,1,1,1,1,1,1,1],\"y\":[\"Simple Assault\",\"Threats\",\"Damage/Defacing/Destruction of Property\",\"ADW\",\"Robbery\",\"Displaying Symbols\",\"Stalking\",\"Sexual Abuse\",\"Theft\",\"Arson\",\"Voyeurism\",\"Cruelty to Children\",\"Affrays\",\"Aggravated Assault\",\"Assault w/Significant Bodily Injury\",\"Violation of CPO\",\"Riot Act\",\"Leaving After Colliding\",\"Burglary\",\"Lewd, Indecent, Obscene Acts\"]},\"selected\":{\"id\":\"1485\"},\"selection_policy\":{\"id\":\"1484\"}},\"id\":\"1471\",\"type\":\"ColumnDataSource\"},{\"attributes\":{},\"id\":\"1410\",\"type\":\"WheelZoomTool\"},{\"attributes\":{\"axis\":{\"id\":\"1398\"},\"coordinates\":null,\"group\":null,\"ticker\":null},\"id\":\"1401\",\"type\":\"Grid\"},{\"attributes\":{},\"id\":\"1440\",\"type\":\"DataRange1d\"},{\"attributes\":{\"axis\":{\"id\":\"1352\"},\"coordinates\":null,\"dimension\":1,\"group\":null,\"ticker\":null},\"id\":\"1354\",\"type\":\"Grid\"},{\"attributes\":{},\"id\":\"1357\",\"type\":\"PanTool\"},{\"attributes\":{},\"id\":\"1360\",\"type\":\"WheelZoomTool\"},{\"attributes\":{},\"id\":\"1432\",\"type\":\"BasicTickFormatter\"},{\"attributes\":{\"coordinates\":null,\"data_source\":{\"id\":\"1371\"},\"glyph\":{\"id\":\"1372\"},\"group\":null,\"hover_glyph\":null,\"muted_glyph\":{\"id\":\"1374\"},\"nonselection_glyph\":{\"id\":\"1373\"},\"view\":{\"id\":\"1376\"}},\"id\":\"1375\",\"type\":\"GlyphRenderer\"},{\"attributes\":{},\"id\":\"1396\",\"type\":\"CategoricalScale\"},{\"attributes\":{},\"id\":\"1444\",\"type\":\"LinearScale\"},{\"attributes\":{\"data\":{\"fill_color\":[\"#67001f\",\"#980043\",\"#ce1256\",\"#e7298a\",\"#df65b0\",\"#c994c7\",\"#d4b9da\",\"#e7e1ef\",\"#f7f4f9\"],\"hatch_color\":[\"#67001f\",\"#980043\",\"#ce1256\",\"#e7298a\",\"#df65b0\",\"#c994c7\",\"#d4b9da\",\"#e7e1ef\",\"#f7f4f9\"],\"line_color\":[\"#67001f\",\"#980043\",\"#ce1256\",\"#e7298a\",\"#df65b0\",\"#c994c7\",\"#d4b9da\",\"#e7e1ef\",\"#f7f4f9\"],\"right\":[422,278,257,181,72,33,5,4,3],\"y\":[\"Sexual Orientation\",\"Race\",\"Ethnicity/National Origin\",\"Gender Identity/Expression\",\"Religion\",\"Political Affiliation\",\"Disability\",\"Homelessness\",\"Sex/Gender\"]},\"selected\":{\"id\":\"1385\"},\"selection_policy\":{\"id\":\"1384\"}},\"id\":\"1371\",\"type\":\"ColumnDataSource\"},{\"attributes\":{\"source\":{\"id\":\"1421\"}},\"id\":\"1426\",\"type\":\"CDSView\"},{\"attributes\":{\"callback\":null},\"id\":\"1361\",\"type\":\"TapTool\"},{\"attributes\":{\"coordinates\":null,\"group\":null,\"text\":\"Number of hate crimes by type of hate bias\"},\"id\":\"1338\",\"type\":\"Title\"},{\"attributes\":{},\"id\":\"1434\",\"type\":\"UnionRenderers\"},{\"attributes\":{\"factors\":[\"Lewd, Indecent, Obscene Acts\",\"Burglary\",\"Leaving After Colliding\",\"Riot Act\",\"Violation of CPO\",\"Assault w/Significant Bodily Injury\",\"Aggravated Assault\",\"Affrays\",\"Cruelty to Children\",\"Voyeurism\",\"Arson\",\"Theft\",\"Sexual Abuse\",\"Stalking\",\"Displaying Symbols\",\"Robbery\",\"ADW\",\"Damage/Defacing/Destruction of Property\",\"Threats\",\"Simple Assault\"]},\"id\":\"1442\",\"type\":\"FactorRange\"},{\"attributes\":{\"fill_alpha\":{\"value\":0.2},\"fill_color\":{\"field\":\"fill_color\"},\"hatch_alpha\":{\"value\":0.2},\"hatch_color\":{\"field\":\"hatch_color\"},\"height\":{\"value\":0.75},\"line_alpha\":{\"value\":0.2},\"line_color\":{\"field\":\"line_color\"},\"right\":{\"field\":\"right\"},\"y\":{\"field\":\"y\"}},\"id\":\"1374\",\"type\":\"HBar\"},{\"attributes\":{},\"id\":\"1403\",\"type\":\"CategoricalTicker\"},{\"attributes\":{\"factors\":[\"Sex/Gender\",\"Homelessness\",\"Disability\",\"Political Affiliation\",\"Religion\",\"Gender Identity/Expression\",\"Ethnicity/National Origin\",\"Race\",\"Sexual Orientation\"]},\"id\":\"1342\",\"type\":\"FactorRange\"},{\"attributes\":{},\"id\":\"1385\",\"type\":\"Selection\"},{\"attributes\":{\"below\":[{\"id\":\"1448\"}],\"center\":[{\"id\":\"1451\"},{\"id\":\"1454\"}],\"height\":450,\"left\":[{\"id\":\"1452\"}],\"renderers\":[{\"id\":\"1475\"}],\"title\":{\"id\":\"1438\"},\"toolbar\":{\"id\":\"1463\"},\"width\":650,\"x_range\":{\"id\":\"1440\"},\"x_scale\":{\"id\":\"1444\"},\"y_range\":{\"id\":\"1442\"},\"y_scale\":{\"id\":\"1446\"}},\"id\":\"1437\",\"subtype\":\"Figure\",\"type\":\"Plot\"},{\"attributes\":{\"axis_label\":\"Targeted Group\",\"coordinates\":null,\"formatter\":{\"id\":\"1429\"},\"group\":null,\"major_label_policy\":{\"id\":\"1430\"},\"ticker\":{\"id\":\"1403\"}},\"id\":\"1402\",\"type\":\"CategoricalAxis\"},{\"attributes\":{\"below\":[{\"id\":\"1348\"}],\"center\":[{\"id\":\"1351\"},{\"id\":\"1354\"}],\"height\":450,\"left\":[{\"id\":\"1352\"}],\"renderers\":[{\"id\":\"1375\"}],\"title\":{\"id\":\"1338\"},\"toolbar\":{\"id\":\"1363\"},\"width\":650,\"x_range\":{\"id\":\"1340\"},\"x_scale\":{\"id\":\"1344\"},\"y_range\":{\"id\":\"1342\"},\"y_scale\":{\"id\":\"1346\"}},\"id\":\"1337\",\"subtype\":\"Figure\",\"type\":\"Plot\"},{\"attributes\":{},\"id\":\"1429\",\"type\":\"CategoricalTickFormatter\"},{\"attributes\":{},\"id\":\"1449\",\"type\":\"BasicTicker\"},{\"attributes\":{},\"id\":\"1384\",\"type\":\"UnionRenderers\"},{\"attributes\":{\"fill_color\":{\"field\":\"fill_color\"},\"hatch_color\":{\"field\":\"hatch_color\"},\"height\":{\"value\":0.75},\"line_color\":{\"field\":\"line_color\"},\"right\":{\"field\":\"right\"},\"y\":{\"field\":\"y\"}},\"id\":\"1372\",\"type\":\"HBar\"},{\"attributes\":{\"overlay\":{\"id\":\"1362\"}},\"id\":\"1358\",\"type\":\"BoxZoomTool\"},{\"attributes\":{\"axis\":{\"id\":\"1348\"},\"coordinates\":null,\"group\":null,\"ticker\":null},\"id\":\"1351\",\"type\":\"Grid\"},{\"attributes\":{\"axis_label\":\"Number of hate crimes\",\"coordinates\":null,\"formatter\":{\"id\":\"1482\"},\"group\":null,\"major_label_policy\":{\"id\":\"1483\"},\"ticker\":{\"id\":\"1449\"}},\"id\":\"1448\",\"type\":\"LinearAxis\"},{\"attributes\":{},\"id\":\"1344\",\"type\":\"LinearScale\"},{\"attributes\":{\"axis\":{\"id\":\"1448\"},\"coordinates\":null,\"group\":null,\"ticker\":null},\"id\":\"1451\",\"type\":\"Grid\"}],\"root_ids\":[\"1490\"]},\"title\":\"Bokeh Application\",\"version\":\"2.4.3\"}};\n  const render_items = [{\"docid\":\"e36a7a57-d83f-4c9d-869d-c755f3cf2c56\",\"root_ids\":[\"1490\"],\"roots\":{\"1490\":\"d3734490-03b1-4fae-8601-d93309ae89c1\"}}];\n  root.Bokeh.embed.embed_items_notebook(docs_json, render_items);\n  }\n  if (root.Bokeh !== undefined) {\n    embed_document(root);\n  } else {\n    let attempts = 0;\n    const timer = setInterval(function(root) {\n      if (root.Bokeh !== undefined) {\n        clearInterval(timer);\n        embed_document(root);\n      } else {\n        attempts++;\n        if (attempts > 100) {\n          clearInterval(timer);\n          console.log(\"Bokeh: ERROR: Unable to run BokehJS code because BokehJS library is missing\");\n        }\n      }\n    }, 10, root)\n  }\n})(window);",
      "application/vnd.bokehjs_exec.v0+json": ""
     },
     "metadata": {
      "application/vnd.bokehjs_exec.v0+json": {
       "id": "1490"
      }
     },
     "output_type": "display_data"
    }
   ],
   "source": [
    "# update colorschemes\n",
    "PuRd_20 = {20: PuRd[9][:-1]+ PuRd[9][:-1] + PuRd[9][:-5]}\n",
    "PuRd_28 = {28: PuRd[9][:-1]+ PuRd[9][:-1] + PuRd[9][:-1] + PuRd[9][:-5]}\n",
    "\n",
    "\n",
    "# intialize plots to be put in tabs\n",
    "p_type = bokeh_hbar(type_bias_bar_df, 'Type of Hate Bias', \"Number of hate crimes by type of hate bias\", \n",
    "             PuRd, 450, 650)\n",
    "p_target = bokeh_hbar(targeted_group_bar_df, 'Targeted Group', \"Number of hate crimes by targeted group\", \n",
    "            PuRd_28, 450, 650)\n",
    "p_offense = bokeh_hbar(offense_type_bar_df, 'Top Offense Type', \"Number of hate crimes by offense type\", \n",
    "            PuRd_20, 450, 650)            \n",
    "\n",
    "# format in tabs\n",
    "tabs = Tabs(tabs=[\n",
    "                 Panel(child=p_type, title='Type'),\n",
    "                 Panel(child=p_target, title='Targeted group'),\n",
    "                 Panel(child=p_offense, title='Offense type')])\n",
    "\n",
    "show(tabs)\n",
    "# bokeh_deepnote_show(tabs) # To display Bokeh plot on Deepnote\n",
    "# save(tabs,filename='./html/hc_intro_tab.html')"
   ]
  },
  {
   "cell_type": "markdown",
   "metadata": {},
   "source": [
    "# Trending examples"
   ]
  },
  {
   "cell_type": "markdown",
   "metadata": {},
   "source": [
    "### Step 1: Prepare dataframes for the time intervals we want to trend by."
   ]
  },
  {
   "cell_type": "code",
   "execution_count": 16,
   "metadata": {},
   "outputs": [],
   "source": [
    "# prep a dataframe to have one row per date with the count of crimes, and also include year, month\n",
    "df_daily_counts = df['Date of Offense'].value_counts()\n",
    "df_daily_counts = pd.Series(df_daily_counts).reset_index(name='Hate crime count').rename(columns={'index':'Date of Offense'})\n",
    "df_daily_counts['Year'] = pd.to_datetime(df_daily_counts['Date of Offense']).dt.year\n",
    "df_daily_counts['Month'] = pd.to_datetime(df_daily_counts['Date of Offense']).dt.month\n",
    "df_daily_counts['MonthYear'] = pd.to_datetime(df_daily_counts['Date of Offense']).dt.to_period('M')# month_temp_df.head()\n",
    "\n",
    "# df just for month and year trending\n",
    "df_yearly_counts = df_daily_counts.groupby('Year').sum().reset_index()\n",
    "df_monthly_counts = df_daily_counts.groupby('MonthYear').sum().reset_index()"
   ]
  },
  {
   "cell_type": "markdown",
   "metadata": {},
   "source": [
    "### Step 2: Create function to plot trending data in vbars."
   ]
  },
  {
   "cell_type": "code",
   "execution_count": 23,
   "metadata": {},
   "outputs": [],
   "source": [
    "# create function to take in a df, column, title, and colormap to make a trending vbar\n",
    "def bokeh_vbar(df, column, title, colormap):\n",
    "    TOOLS = \"hover,save,pan,box_zoom,reset,wheel_zoom,tap\"\n",
    "    p = figure(plot_height=300, plot_width=600,\n",
    "            title=title,\n",
    "            tools=TOOLS,\n",
    "            toolbar_location='right')\n",
    "\n",
    "    p.vbar(x=df[column], top=df['Hate crime count'], width=0.75, \n",
    "         color=colormap)\n",
    "\n",
    "    p.xaxis.axis_label = column\n",
    "    p.yaxis.axis_label = 'Hate crime count'\n",
    "    p.select_one(HoverTool).tooltips = [\n",
    "        (column, '@x'),\n",
    "        ('Number of hate crimes', '@top'),\n",
    "    ]\n",
    "\n",
    "    return p\n"
   ]
  },
  {
   "cell_type": "markdown",
   "metadata": {},
   "source": [
    "Show basic trending vbar by year."
   ]
  },
  {
   "cell_type": "code",
   "execution_count": 26,
   "metadata": {},
   "outputs": [
    {
     "data": {
      "text/html": [
       "\n",
       "  <div class=\"bk-root\" id=\"e6db5909-1952-478f-8b89-1e793486e450\" data-root-id=\"2158\"></div>\n"
      ]
     },
     "metadata": {},
     "output_type": "display_data"
    },
    {
     "data": {
      "application/javascript": "(function(root) {\n  function embed_document(root) {\n  const docs_json = {\"3b584b02-f4b4-4327-839e-5a85de637187\":{\"defs\":[],\"roots\":{\"references\":[{\"attributes\":{\"below\":[{\"id\":\"2169\"}],\"center\":[{\"id\":\"2172\"},{\"id\":\"2176\"}],\"height\":300,\"left\":[{\"id\":\"2173\"}],\"renderers\":[{\"id\":\"2197\"}],\"title\":{\"id\":\"2159\"},\"toolbar\":{\"id\":\"2185\"},\"x_range\":{\"id\":\"2161\"},\"x_scale\":{\"id\":\"2165\"},\"y_range\":{\"id\":\"2163\"},\"y_scale\":{\"id\":\"2167\"}},\"id\":\"2158\",\"subtype\":\"Figure\",\"type\":\"Plot\"},{\"attributes\":{\"axis\":{\"id\":\"2169\"},\"coordinates\":null,\"group\":null,\"ticker\":null},\"id\":\"2172\",\"type\":\"Grid\"},{\"attributes\":{\"source\":{\"id\":\"2193\"}},\"id\":\"2198\",\"type\":\"CDSView\"},{\"attributes\":{\"coordinates\":null,\"data_source\":{\"id\":\"2193\"},\"glyph\":{\"id\":\"2194\"},\"group\":null,\"hover_glyph\":null,\"muted_glyph\":{\"id\":\"2196\"},\"nonselection_glyph\":{\"id\":\"2195\"},\"view\":{\"id\":\"2198\"}},\"id\":\"2197\",\"type\":\"GlyphRenderer\"},{\"attributes\":{\"axis\":{\"id\":\"2173\"},\"coordinates\":null,\"dimension\":1,\"group\":null,\"ticker\":null},\"id\":\"2176\",\"type\":\"Grid\"},{\"attributes\":{\"axis_label\":\"Hate crime count\",\"coordinates\":null,\"formatter\":{\"id\":\"2201\"},\"group\":null,\"major_label_policy\":{\"id\":\"2202\"},\"ticker\":{\"id\":\"2174\"}},\"id\":\"2173\",\"type\":\"LinearAxis\"},{\"attributes\":{\"fill_alpha\":{\"value\":0.2},\"fill_color\":{\"field\":\"fill_color\"},\"hatch_alpha\":{\"value\":0.2},\"hatch_color\":{\"field\":\"hatch_color\"},\"line_alpha\":{\"value\":0.2},\"line_color\":{\"field\":\"line_color\"},\"top\":{\"field\":\"top\"},\"width\":{\"value\":0.75},\"x\":{\"field\":\"x\"}},\"id\":\"2196\",\"type\":\"VBar\"},{\"attributes\":{},\"id\":\"2201\",\"type\":\"BasicTickFormatter\"},{\"attributes\":{},\"id\":\"2207\",\"type\":\"Selection\"},{\"attributes\":{\"data\":{\"fill_color\":[\"#91003f\",\"#ce1256\",\"#e7298a\",\"#df65b0\",\"#c994c7\",\"#d4b9da\",\"#e7e1ef\",\"#67001f\",\"#980043\",\"#ce1256\"],\"hatch_color\":[\"#91003f\",\"#ce1256\",\"#e7298a\",\"#df65b0\",\"#c994c7\",\"#d4b9da\",\"#e7e1ef\",\"#67001f\",\"#980043\",\"#ce1256\"],\"line_color\":[\"#91003f\",\"#ce1256\",\"#e7298a\",\"#df65b0\",\"#c994c7\",\"#d4b9da\",\"#e7e1ef\",\"#67001f\",\"#980043\",\"#ce1256\"],\"top\":[79,68,70,66,107,177,204,203,132,149],\"x\":[2012,2013,2014,2015,2016,2017,2018,2019,2020,2021]},\"selected\":{\"id\":\"2207\"},\"selection_policy\":{\"id\":\"2206\"}},\"id\":\"2193\",\"type\":\"ColumnDataSource\"},{\"attributes\":{},\"id\":\"2206\",\"type\":\"UnionRenderers\"},{\"attributes\":{\"callback\":null,\"tooltips\":[[\"Year\",\"@x\"],[\"Number of hate crimes\",\"@top\"]]},\"id\":\"2177\",\"type\":\"HoverTool\"},{\"attributes\":{},\"id\":\"2161\",\"type\":\"DataRange1d\"},{\"attributes\":{},\"id\":\"2165\",\"type\":\"LinearScale\"},{\"attributes\":{\"fill_alpha\":{\"value\":0.1},\"fill_color\":{\"field\":\"fill_color\"},\"hatch_alpha\":{\"value\":0.1},\"hatch_color\":{\"field\":\"hatch_color\"},\"line_alpha\":{\"value\":0.1},\"line_color\":{\"field\":\"line_color\"},\"top\":{\"field\":\"top\"},\"width\":{\"value\":0.75},\"x\":{\"field\":\"x\"}},\"id\":\"2195\",\"type\":\"VBar\"},{\"attributes\":{},\"id\":\"2178\",\"type\":\"SaveTool\"},{\"attributes\":{},\"id\":\"2179\",\"type\":\"PanTool\"},{\"attributes\":{},\"id\":\"2202\",\"type\":\"AllLabels\"},{\"attributes\":{\"coordinates\":null,\"group\":null,\"text\":\"Number of hate crimes per year\"},\"id\":\"2159\",\"type\":\"Title\"},{\"attributes\":{\"overlay\":{\"id\":\"2184\"}},\"id\":\"2180\",\"type\":\"BoxZoomTool\"},{\"attributes\":{},\"id\":\"2163\",\"type\":\"DataRange1d\"},{\"attributes\":{\"fill_color\":{\"field\":\"fill_color\"},\"hatch_color\":{\"field\":\"hatch_color\"},\"line_color\":{\"field\":\"line_color\"},\"top\":{\"field\":\"top\"},\"width\":{\"value\":0.75},\"x\":{\"field\":\"x\"}},\"id\":\"2194\",\"type\":\"VBar\"},{\"attributes\":{},\"id\":\"2182\",\"type\":\"WheelZoomTool\"},{\"attributes\":{},\"id\":\"2205\",\"type\":\"AllLabels\"},{\"attributes\":{},\"id\":\"2181\",\"type\":\"ResetTool\"},{\"attributes\":{},\"id\":\"2204\",\"type\":\"BasicTickFormatter\"},{\"attributes\":{},\"id\":\"2167\",\"type\":\"LinearScale\"},{\"attributes\":{\"callback\":null},\"id\":\"2183\",\"type\":\"TapTool\"},{\"attributes\":{\"axis_label\":\"Year\",\"coordinates\":null,\"formatter\":{\"id\":\"2204\"},\"group\":null,\"major_label_policy\":{\"id\":\"2205\"},\"ticker\":{\"id\":\"2170\"}},\"id\":\"2169\",\"type\":\"LinearAxis\"},{\"attributes\":{},\"id\":\"2174\",\"type\":\"BasicTicker\"},{\"attributes\":{\"bottom_units\":\"screen\",\"coordinates\":null,\"fill_alpha\":0.5,\"fill_color\":\"lightgrey\",\"group\":null,\"left_units\":\"screen\",\"level\":\"overlay\",\"line_alpha\":1.0,\"line_color\":\"black\",\"line_dash\":[4,4],\"line_width\":2,\"right_units\":\"screen\",\"syncable\":false,\"top_units\":\"screen\"},\"id\":\"2184\",\"type\":\"BoxAnnotation\"},{\"attributes\":{},\"id\":\"2170\",\"type\":\"BasicTicker\"},{\"attributes\":{\"tools\":[{\"id\":\"2177\"},{\"id\":\"2178\"},{\"id\":\"2179\"},{\"id\":\"2180\"},{\"id\":\"2181\"},{\"id\":\"2182\"},{\"id\":\"2183\"}]},\"id\":\"2185\",\"type\":\"Toolbar\"}],\"root_ids\":[\"2158\"]},\"title\":\"Bokeh Application\",\"version\":\"2.4.3\"}};\n  const render_items = [{\"docid\":\"3b584b02-f4b4-4327-839e-5a85de637187\",\"root_ids\":[\"2158\"],\"roots\":{\"2158\":\"e6db5909-1952-478f-8b89-1e793486e450\"}}];\n  root.Bokeh.embed.embed_items_notebook(docs_json, render_items);\n  }\n  if (root.Bokeh !== undefined) {\n    embed_document(root);\n  } else {\n    let attempts = 0;\n    const timer = setInterval(function(root) {\n      if (root.Bokeh !== undefined) {\n        clearInterval(timer);\n        embed_document(root);\n      } else {\n        attempts++;\n        if (attempts > 100) {\n          clearInterval(timer);\n          console.log(\"Bokeh: ERROR: Unable to run BokehJS code because BokehJS library is missing\");\n        }\n      }\n    }, 10, root)\n  }\n})(window);",
      "application/vnd.bokehjs_exec.v0+json": ""
     },
     "metadata": {
      "application/vnd.bokehjs_exec.v0+json": {
       "id": "2158"
      }
     },
     "output_type": "display_data"
    }
   ],
   "source": [
    "# show yearly hate crime counts\n",
    "p = bokeh_vbar(df_yearly_counts, 'Year', 'Number of hate crimes per year',PuRd[8][:-1]+PuRd[9][:-6])\n",
    "show(p)"
   ]
  },
  {
   "cell_type": "markdown",
   "metadata": {},
   "source": [
    "## Step 3: Create function to trend data in a line."
   ]
  }
 ],
 "metadata": {
  "kernelspec": {
   "display_name": "Python 3.7.11 ('myenv')",
   "language": "python",
   "name": "python3"
  },
  "language_info": {
   "codemirror_mode": {
    "name": "ipython",
    "version": 3
   },
   "file_extension": ".py",
   "mimetype": "text/x-python",
   "name": "python",
   "nbconvert_exporter": "python",
   "pygments_lexer": "ipython3",
   "version": "3.7.11"
  },
  "orig_nbformat": 4,
  "vscode": {
   "interpreter": {
    "hash": "556577b464ed8290f2466f50fdd1787314e6ab7bd01d5a09df1b87bcf003920b"
   }
  }
 },
 "nbformat": 4,
 "nbformat_minor": 2
}
