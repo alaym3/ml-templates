{
 "cells": [
  {
   "cell_type": "markdown",
   "metadata": {},
   "source": [
    "# Analyzing NYC leading causes of death\n",
    "\n",
    "The leading causes of death by sex and ethnicity in New York City in since 2007. Cause of death is derived from the NYC death certificate which is issued for every death that occurs in New York City.\n",
    "\n",
    "[Source from NYC OpenData](https://data.cityofnewyork.us/Health/New-York-City-Leading-Causes-of-Death/jb7j-dtam)"
   ]
  },
  {
   "cell_type": "code",
   "execution_count": 9,
   "metadata": {},
   "outputs": [
    {
     "data": {
      "text/html": [
       "<div class=\"bk-root\">\n",
       "        <a href=\"https://bokeh.org\" target=\"_blank\" class=\"bk-logo bk-logo-small bk-logo-notebook\"></a>\n",
       "        <span id=\"1003\">Loading BokehJS ...</span>\n",
       "    </div>\n"
      ]
     },
     "metadata": {},
     "output_type": "display_data"
    },
    {
     "data": {
      "application/javascript": "(function(root) {\n  function now() {\n    return new Date();\n  }\n\n  const force = true;\n\n  if (typeof root._bokeh_onload_callbacks === \"undefined\" || force === true) {\n    root._bokeh_onload_callbacks = [];\n    root._bokeh_is_loading = undefined;\n  }\n\nconst JS_MIME_TYPE = 'application/javascript';\n  const HTML_MIME_TYPE = 'text/html';\n  const EXEC_MIME_TYPE = 'application/vnd.bokehjs_exec.v0+json';\n  const CLASS_NAME = 'output_bokeh rendered_html';\n\n  /**\n   * Render data to the DOM node\n   */\n  function render(props, node) {\n    const script = document.createElement(\"script\");\n    node.appendChild(script);\n  }\n\n  /**\n   * Handle when an output is cleared or removed\n   */\n  function handleClearOutput(event, handle) {\n    const cell = handle.cell;\n\n    const id = cell.output_area._bokeh_element_id;\n    const server_id = cell.output_area._bokeh_server_id;\n    // Clean up Bokeh references\n    if (id != null && id in Bokeh.index) {\n      Bokeh.index[id].model.document.clear();\n      delete Bokeh.index[id];\n    }\n\n    if (server_id !== undefined) {\n      // Clean up Bokeh references\n      const cmd_clean = \"from bokeh.io.state import curstate; print(curstate().uuid_to_server['\" + server_id + \"'].get_sessions()[0].document.roots[0]._id)\";\n      cell.notebook.kernel.execute(cmd_clean, {\n        iopub: {\n          output: function(msg) {\n            const id = msg.content.text.trim();\n            if (id in Bokeh.index) {\n              Bokeh.index[id].model.document.clear();\n              delete Bokeh.index[id];\n            }\n          }\n        }\n      });\n      // Destroy server and session\n      const cmd_destroy = \"import bokeh.io.notebook as ion; ion.destroy_server('\" + server_id + \"')\";\n      cell.notebook.kernel.execute(cmd_destroy);\n    }\n  }\n\n  /**\n   * Handle when a new output is added\n   */\n  function handleAddOutput(event, handle) {\n    const output_area = handle.output_area;\n    const output = handle.output;\n\n    // limit handleAddOutput to display_data with EXEC_MIME_TYPE content only\n    if ((output.output_type != \"display_data\") || (!Object.prototype.hasOwnProperty.call(output.data, EXEC_MIME_TYPE))) {\n      return\n    }\n\n    const toinsert = output_area.element.find(\".\" + CLASS_NAME.split(' ')[0]);\n\n    if (output.metadata[EXEC_MIME_TYPE][\"id\"] !== undefined) {\n      toinsert[toinsert.length - 1].firstChild.textContent = output.data[JS_MIME_TYPE];\n      // store reference to embed id on output_area\n      output_area._bokeh_element_id = output.metadata[EXEC_MIME_TYPE][\"id\"];\n    }\n    if (output.metadata[EXEC_MIME_TYPE][\"server_id\"] !== undefined) {\n      const bk_div = document.createElement(\"div\");\n      bk_div.innerHTML = output.data[HTML_MIME_TYPE];\n      const script_attrs = bk_div.children[0].attributes;\n      for (let i = 0; i < script_attrs.length; i++) {\n        toinsert[toinsert.length - 1].firstChild.setAttribute(script_attrs[i].name, script_attrs[i].value);\n        toinsert[toinsert.length - 1].firstChild.textContent = bk_div.children[0].textContent\n      }\n      // store reference to server id on output_area\n      output_area._bokeh_server_id = output.metadata[EXEC_MIME_TYPE][\"server_id\"];\n    }\n  }\n\n  function register_renderer(events, OutputArea) {\n\n    function append_mime(data, metadata, element) {\n      // create a DOM node to render to\n      const toinsert = this.create_output_subarea(\n        metadata,\n        CLASS_NAME,\n        EXEC_MIME_TYPE\n      );\n      this.keyboard_manager.register_events(toinsert);\n      // Render to node\n      const props = {data: data, metadata: metadata[EXEC_MIME_TYPE]};\n      render(props, toinsert[toinsert.length - 1]);\n      element.append(toinsert);\n      return toinsert\n    }\n\n    /* Handle when an output is cleared or removed */\n    events.on('clear_output.CodeCell', handleClearOutput);\n    events.on('delete.Cell', handleClearOutput);\n\n    /* Handle when a new output is added */\n    events.on('output_added.OutputArea', handleAddOutput);\n\n    /**\n     * Register the mime type and append_mime function with output_area\n     */\n    OutputArea.prototype.register_mime_type(EXEC_MIME_TYPE, append_mime, {\n      /* Is output safe? */\n      safe: true,\n      /* Index of renderer in `output_area.display_order` */\n      index: 0\n    });\n  }\n\n  // register the mime type if in Jupyter Notebook environment and previously unregistered\n  if (root.Jupyter !== undefined) {\n    const events = require('base/js/events');\n    const OutputArea = require('notebook/js/outputarea').OutputArea;\n\n    if (OutputArea.prototype.mime_types().indexOf(EXEC_MIME_TYPE) == -1) {\n      register_renderer(events, OutputArea);\n    }\n  }\n  if (typeof (root._bokeh_timeout) === \"undefined\" || force === true) {\n    root._bokeh_timeout = Date.now() + 5000;\n    root._bokeh_failed_load = false;\n  }\n\n  const NB_LOAD_WARNING = {'data': {'text/html':\n     \"<div style='background-color: #fdd'>\\n\"+\n     \"<p>\\n\"+\n     \"BokehJS does not appear to have successfully loaded. If loading BokehJS from CDN, this \\n\"+\n     \"may be due to a slow or bad network connection. Possible fixes:\\n\"+\n     \"</p>\\n\"+\n     \"<ul>\\n\"+\n     \"<li>re-rerun `output_notebook()` to attempt to load from CDN again, or</li>\\n\"+\n     \"<li>use INLINE resources instead, as so:</li>\\n\"+\n     \"</ul>\\n\"+\n     \"<code>\\n\"+\n     \"from bokeh.resources import INLINE\\n\"+\n     \"output_notebook(resources=INLINE)\\n\"+\n     \"</code>\\n\"+\n     \"</div>\"}};\n\n  function display_loaded() {\n    const el = document.getElementById(\"1003\");\n    if (el != null) {\n      el.textContent = \"BokehJS is loading...\";\n    }\n    if (root.Bokeh !== undefined) {\n      if (el != null) {\n        el.textContent = \"BokehJS \" + root.Bokeh.version + \" successfully loaded.\";\n      }\n    } else if (Date.now() < root._bokeh_timeout) {\n      setTimeout(display_loaded, 100)\n    }\n  }\n\n  function run_callbacks() {\n    try {\n      root._bokeh_onload_callbacks.forEach(function(callback) {\n        if (callback != null)\n          callback();\n      });\n    } finally {\n      delete root._bokeh_onload_callbacks\n    }\n    console.debug(\"Bokeh: all callbacks have finished\");\n  }\n\n  function load_libs(css_urls, js_urls, callback) {\n    if (css_urls == null) css_urls = [];\n    if (js_urls == null) js_urls = [];\n\n    root._bokeh_onload_callbacks.push(callback);\n    if (root._bokeh_is_loading > 0) {\n      console.debug(\"Bokeh: BokehJS is being loaded, scheduling callback at\", now());\n      return null;\n    }\n    if (js_urls == null || js_urls.length === 0) {\n      run_callbacks();\n      return null;\n    }\n    console.debug(\"Bokeh: BokehJS not loaded, scheduling load and callback at\", now());\n    root._bokeh_is_loading = css_urls.length + js_urls.length;\n\n    function on_load() {\n      root._bokeh_is_loading--;\n      if (root._bokeh_is_loading === 0) {\n        console.debug(\"Bokeh: all BokehJS libraries/stylesheets loaded\");\n        run_callbacks()\n      }\n    }\n\n    function on_error(url) {\n      console.error(\"failed to load \" + url);\n    }\n\n    for (let i = 0; i < css_urls.length; i++) {\n      const url = css_urls[i];\n      const element = document.createElement(\"link\");\n      element.onload = on_load;\n      element.onerror = on_error.bind(null, url);\n      element.rel = \"stylesheet\";\n      element.type = \"text/css\";\n      element.href = url;\n      console.debug(\"Bokeh: injecting link tag for BokehJS stylesheet: \", url);\n      document.body.appendChild(element);\n    }\n\n    for (let i = 0; i < js_urls.length; i++) {\n      const url = js_urls[i];\n      const element = document.createElement('script');\n      element.onload = on_load;\n      element.onerror = on_error.bind(null, url);\n      element.async = false;\n      element.src = url;\n      console.debug(\"Bokeh: injecting script tag for BokehJS library: \", url);\n      document.head.appendChild(element);\n    }\n  };\n\n  function inject_raw_css(css) {\n    const element = document.createElement(\"style\");\n    element.appendChild(document.createTextNode(css));\n    document.body.appendChild(element);\n  }\n\n  const js_urls = [\"https://cdn.bokeh.org/bokeh/release/bokeh-2.4.3.min.js\", \"https://cdn.bokeh.org/bokeh/release/bokeh-gl-2.4.3.min.js\", \"https://cdn.bokeh.org/bokeh/release/bokeh-widgets-2.4.3.min.js\", \"https://cdn.bokeh.org/bokeh/release/bokeh-tables-2.4.3.min.js\", \"https://cdn.bokeh.org/bokeh/release/bokeh-mathjax-2.4.3.min.js\"];\n  const css_urls = [];\n\n  const inline_js = [    function(Bokeh) {\n      Bokeh.set_log_level(\"info\");\n    },\nfunction(Bokeh) {\n    }\n  ];\n\n  function run_inline_js() {\n    if (root.Bokeh !== undefined || force === true) {\n          for (let i = 0; i < inline_js.length; i++) {\n      inline_js[i].call(root, root.Bokeh);\n    }\nif (force === true) {\n        display_loaded();\n      }} else if (Date.now() < root._bokeh_timeout) {\n      setTimeout(run_inline_js, 100);\n    } else if (!root._bokeh_failed_load) {\n      console.log(\"Bokeh: BokehJS failed to load within specified timeout.\");\n      root._bokeh_failed_load = true;\n    } else if (force !== true) {\n      const cell = $(document.getElementById(\"1003\")).parents('.cell').data().cell;\n      cell.output_area.append_execute_result(NB_LOAD_WARNING)\n    }\n  }\n\n  if (root._bokeh_is_loading === 0) {\n    console.debug(\"Bokeh: BokehJS loaded, going straight to plotting\");\n    run_inline_js();\n  } else {\n    load_libs(css_urls, js_urls, function() {\n      console.debug(\"Bokeh: BokehJS plotting callback run at\", now());\n      run_inline_js();\n    });\n  }\n}(window));",
      "application/vnd.bokehjs_load.v0+json": ""
     },
     "metadata": {},
     "output_type": "display_data"
    }
   ],
   "source": [
    "# imports\n",
    "import pandas as pd\n",
    "pd.options.mode.chained_assignment = None\n",
    "import plotly.express as px\n",
    "pd.options.plotting.backend = \"plotly\"\n",
    "import numpy as np\n",
    "from math import pi\n",
    "import matplotlib.pyplot as plt\n",
    "\n",
    "from bokeh.plotting import figure, show, output_file, output_notebook\n",
    "from bokeh.models import ColumnDataSource, Range1d, HoverTool, Legend\n",
    "from bokeh.models.widgets import Tabs, Panel\n",
    "from bokeh.io import show\n",
    "from bokeh.palettes import BuGn, Category20b, Spectral, Plasma, Viridis, YlOrRd, PuOr, BuPu, BuGn, brewer, GnBu, PRGn, Inferno256, PuRd, RdPu, PiYG, RdYlGn, YlGnBu\n",
    "from bokeh.io import reset_output, output_notebook\n",
    "reset_output()\n",
    "output_notebook()\n",
    "\n",
    "from bokeh.plotting import figure, output_file, save\n",
    "from IPython.display import IFrame\n",
    "from IPython.core.display import display, HTML\n",
    "import tempfile"
   ]
  },
  {
   "cell_type": "markdown",
   "metadata": {},
   "source": [
    "## Load the dataset saved from NYC OpenData"
   ]
  },
  {
   "cell_type": "code",
   "execution_count": 10,
   "metadata": {},
   "outputs": [
    {
     "data": {
      "text/html": [
       "<div>\n",
       "<style scoped>\n",
       "    .dataframe tbody tr th:only-of-type {\n",
       "        vertical-align: middle;\n",
       "    }\n",
       "\n",
       "    .dataframe tbody tr th {\n",
       "        vertical-align: top;\n",
       "    }\n",
       "\n",
       "    .dataframe thead th {\n",
       "        text-align: right;\n",
       "    }\n",
       "</style>\n",
       "<table border=\"1\" class=\"dataframe\">\n",
       "  <thead>\n",
       "    <tr style=\"text-align: right;\">\n",
       "      <th></th>\n",
       "      <th>Year</th>\n",
       "      <th>Leading Cause</th>\n",
       "      <th>Sex</th>\n",
       "      <th>Race Ethnicity</th>\n",
       "      <th>Deaths</th>\n",
       "      <th>Death Rate</th>\n",
       "      <th>Age Adjusted Death Rate</th>\n",
       "    </tr>\n",
       "  </thead>\n",
       "  <tbody>\n",
       "    <tr>\n",
       "      <th>0</th>\n",
       "      <td>2009</td>\n",
       "      <td>Nephritis, Nephrotic Syndrome and Nephrisis (N...</td>\n",
       "      <td>F</td>\n",
       "      <td>Other Race/ Ethnicity</td>\n",
       "      <td>.</td>\n",
       "      <td>.</td>\n",
       "      <td>.</td>\n",
       "    </tr>\n",
       "    <tr>\n",
       "      <th>1</th>\n",
       "      <td>2013</td>\n",
       "      <td>Influenza (Flu) and Pneumonia (J09-J18)</td>\n",
       "      <td>F</td>\n",
       "      <td>Hispanic</td>\n",
       "      <td>204</td>\n",
       "      <td>16.3</td>\n",
       "      <td>18.5</td>\n",
       "    </tr>\n",
       "    <tr>\n",
       "      <th>2</th>\n",
       "      <td>2012</td>\n",
       "      <td>Assault (Homicide: Y87.1, X85-Y09)</td>\n",
       "      <td>M</td>\n",
       "      <td>Other Race/ Ethnicity</td>\n",
       "      <td>.</td>\n",
       "      <td>.</td>\n",
       "      <td>.</td>\n",
       "    </tr>\n",
       "    <tr>\n",
       "      <th>3</th>\n",
       "      <td>2007</td>\n",
       "      <td>Essential Hypertension and Renal Diseases (I10...</td>\n",
       "      <td>F</td>\n",
       "      <td>Not Stated/Unknown</td>\n",
       "      <td>5</td>\n",
       "      <td>.</td>\n",
       "      <td>.</td>\n",
       "    </tr>\n",
       "    <tr>\n",
       "      <th>4</th>\n",
       "      <td>2014</td>\n",
       "      <td>Cerebrovascular Disease (Stroke: I60-I69)</td>\n",
       "      <td>F</td>\n",
       "      <td>White Non-Hispanic</td>\n",
       "      <td>418</td>\n",
       "      <td>29.5</td>\n",
       "      <td>15.6</td>\n",
       "    </tr>\n",
       "  </tbody>\n",
       "</table>\n",
       "</div>"
      ],
      "text/plain": [
       "   Year                                      Leading Cause Sex  \\\n",
       "0  2009  Nephritis, Nephrotic Syndrome and Nephrisis (N...   F   \n",
       "1  2013            Influenza (Flu) and Pneumonia (J09-J18)   F   \n",
       "2  2012                 Assault (Homicide: Y87.1, X85-Y09)   M   \n",
       "3  2007  Essential Hypertension and Renal Diseases (I10...   F   \n",
       "4  2014          Cerebrovascular Disease (Stroke: I60-I69)   F   \n",
       "\n",
       "          Race Ethnicity Deaths Death Rate Age Adjusted Death Rate  \n",
       "0  Other Race/ Ethnicity      .          .                       .  \n",
       "1               Hispanic    204       16.3                    18.5  \n",
       "2  Other Race/ Ethnicity      .          .                       .  \n",
       "3     Not Stated/Unknown      5          .                       .  \n",
       "4     White Non-Hispanic    418       29.5                    15.6  "
      ]
     },
     "execution_count": 10,
     "metadata": {},
     "output_type": "execute_result"
    }
   ],
   "source": [
    "df = pd.read_csv('./data/New_York_City_Leading_Causes_of_Death.csv')\n",
    "df.head()"
   ]
  },
  {
   "cell_type": "code",
   "execution_count": 11,
   "metadata": {},
   "outputs": [
    {
     "data": {
      "text/plain": [
       "1272"
      ]
     },
     "execution_count": 11,
     "metadata": {},
     "output_type": "execute_result"
    }
   ],
   "source": [
    "len(df)"
   ]
  },
  {
   "cell_type": "markdown",
   "metadata": {},
   "source": [
    "Each 1272 rows pertains to a leading cause of death per sex and ethnicity per year."
   ]
  },
  {
   "cell_type": "markdown",
   "metadata": {},
   "source": [
    "## Preprocess the data."
   ]
  },
  {
   "cell_type": "markdown",
   "metadata": {},
   "source": [
    "Check the datatypes of the columns."
   ]
  },
  {
   "cell_type": "code",
   "execution_count": 12,
   "metadata": {},
   "outputs": [
    {
     "data": {
      "text/plain": [
       "Year                        int64\n",
       "Leading Cause              object\n",
       "Sex                        object\n",
       "Race Ethnicity             object\n",
       "Deaths                     object\n",
       "Death Rate                 object\n",
       "Age Adjusted Death Rate    object\n",
       "dtype: object"
      ]
     },
     "execution_count": 12,
     "metadata": {},
     "output_type": "execute_result"
    }
   ],
   "source": [
    "df.dtypes"
   ]
  },
  {
   "cell_type": "markdown",
   "metadata": {},
   "source": [
    "We will change the object columns to the data type that is most fitting."
   ]
  },
  {
   "cell_type": "code",
   "execution_count": 13,
   "metadata": {},
   "outputs": [
    {
     "data": {
      "text/plain": [
       "array(['.', '204', '5', '418', '26', '618', '267', '139', '124', '166',\n",
       "       '56', '132', '395', '292', '240', '1840', '39', '142', '134', '33',\n",
       "       '252', '1354', '15', '8', '1563', '1680', '248', '165', '24', '38',\n",
       "       '9', '68', '29', '42', '48', '272', '94', '60', '18', '20', '73',\n",
       "       '30', '4495', '12', '622', '969', '13', '227', '14', '51', '6',\n",
       "       '50', '473', '2034', '7', '1069', '5168', '237', '71', '182',\n",
       "       '307', '107', '1013', '137', '281', '84', '2194', '88', '258',\n",
       "       '87', '1327', '1918', '36', '633', '10', '57', '168', '83', '276',\n",
       "       '136', '279', '108', '3184', '271', '437', '147', '61', '1193',\n",
       "       '1375', '163', '102', '410', '219', '2269', '1195', '245', '145',\n",
       "       '188', '390', '43', '186', '285', '53', '93', '119', '7050', '129',\n",
       "       '199', '1097', '2068', '66', '52', '49', '6297', '221', '179',\n",
       "       '4535', '1341', '2316', '229', '3187', '41', '140', '27', '195',\n",
       "       '164', '235', '2445', '25', '249', '156', '191', '4085', '55',\n",
       "       '11', '1251', '19', '1473', '379', '192', '16', '988', '162',\n",
       "       '1818', '1824', '63', '215', '333', '196', '530', '143', '46',\n",
       "       '135', '98', '155', '189', '352', '220', '2365', '1057', '1230',\n",
       "       '31', '75', '1349', '550', '254', '2595', '231', '3132', '467',\n",
       "       '120', '382', '17', '72', '148', '79', '384', '59', '265', '194',\n",
       "       '290', '3142', '62', '34', '169', '187', '1684', '21', '180',\n",
       "       '123', '2722', '89', '116', '225', '37', '183', '451', '152',\n",
       "       '206', '76', '103', '1149', '208', '118', '170', '1216', '126',\n",
       "       '329', '105', '327', '233', '885', '218', '356', '1536', '1868',\n",
       "       '149', '314', '222', '171', '1307', '277', '22', '228', '462',\n",
       "       '286', '64', '1144', '114', '452', '200', '456', '58', '1067',\n",
       "       '5503', '273', '388', '201', '576', '2578', '507', '242', '131',\n",
       "       '99', '1800', '266', '3408', '428', '1337', '2275', '1316', '3366',\n",
       "       '4220', '4507', '409', '563', '214', '151', '621', '209', '5632',\n",
       "       '243', '1046', '205', '246', '122', '65', '3518', '696', '540',\n",
       "       '90', '255', '1592', '113', '300', '295', '1305', '318', '416',\n",
       "       '275', '104', '3222', '86', '502', '2015', '1735', '1382', '78',\n",
       "       '1109', '96', '4156', '67', '274', '1348', '177', '1263', '1261',\n",
       "       '3438', '95', '158', '371', '184', '2293', '35', '91', '380',\n",
       "       '469', '399', '515', '526', '1706', '2725', '80', '202', '1080',\n",
       "       '554', '54', '377', '458', '546', '510', '1085', '472', '190',\n",
       "       '3356', '299', '211', '216', '398', '1268', '146', '47', '358',\n",
       "       '297', '6836', '394', '92', '1912', '424', '1749', '646', '340',\n",
       "       '2077', '106', '1557', '167', '478', '1125', '414', '2282', '629',\n",
       "       '308', '521', '1199', '112', '173', '223', '247', '518', '1146',\n",
       "       '70', '172', '1445', '3256', '3371', '3236', '153', '444', '238',\n",
       "       '659', '1483', '1326', '154', '466', '1007', '1246', '2243',\n",
       "       '1768', '1523', '4719', '614', '1207', '197', '344', '461', '144',\n",
       "       '207', '2140', '496', '657', '3346', '1045', '115', '210', '32',\n",
       "       '427', '402', '193', '40', '1540', '320', '555', '820', '707',\n",
       "       '1320', '528', '150', '1082', '253', '28', '506', '529', '372',\n",
       "       '1180', '111', '263', '1163', '74', '45', '5016', '178', '213',\n",
       "       '1958', '345', '159', '1532', '1135', '2121', '1154', '1940',\n",
       "       '176', '1126', '347', '775', '2535', '261', '3361', '82', '101',\n",
       "       '174', '2444', '1201', '1167', '1852', '2165', '3153', '531',\n",
       "       '448', '1025', '1281', '1590', '501', '175', '339', '1418', '1330',\n",
       "       '3990', '259', '1784', '5351', '138', '109', '278', '1756', '1464',\n",
       "       '1603', '1164', '423', '1395', '731', '671', '549', '4034', '2785',\n",
       "       '373', '342', '181', '2366', '2315', '1421', '294', '185', '1507',\n",
       "       '4', '3', '2', '1', '125', '1574', '1182', '1279', '623', '582',\n",
       "       '110', '401', '4001', '2655', '480', '341', '2264', '2483', '1753',\n",
       "       '383', '316', '1578'], dtype=object)"
      ]
     },
     "execution_count": 13,
     "metadata": {},
     "output_type": "execute_result"
    }
   ],
   "source": [
    "df.Deaths.unique()"
   ]
  },
  {
   "cell_type": "markdown",
   "metadata": {},
   "source": [
    "We need to clean some of the values first - we can see that some rows have Deaths, Date Rate, or Age Adjusted Death Rate ='.' \n",
    "\n",
    "We decide to drop any rows where they = '.' since we are not sure if the data is valid."
   ]
  },
  {
   "cell_type": "code",
   "execution_count": 14,
   "metadata": {},
   "outputs": [
    {
     "data": {
      "text/plain": [
       "Year                        int64\n",
       "Leading Cause              object\n",
       "Sex                        object\n",
       "Race Ethnicity             object\n",
       "Deaths                     object\n",
       "Death Rate                 object\n",
       "Age Adjusted Death Rate    object\n",
       "dtype: object"
      ]
     },
     "execution_count": 14,
     "metadata": {},
     "output_type": "execute_result"
    }
   ],
   "source": [
    "df.dtypes"
   ]
  },
  {
   "cell_type": "code",
   "execution_count": 15,
   "metadata": {},
   "outputs": [
    {
     "data": {
      "text/plain": [
       "886"
      ]
     },
     "execution_count": 15,
     "metadata": {},
     "output_type": "execute_result"
    }
   ],
   "source": [
    "# drop suspicious rows\n",
    "df = df[df['Deaths'] != '.']\n",
    "df = df[df['Death Rate'] != '.']\n",
    "df = df[df['Age Adjusted Death Rate'] != '.']\n",
    "\n",
    "# change datatypes\n",
    "df['Deaths'] = df['Deaths'].astype('float')\n",
    "df['Death Rate'] = df['Death Rate'].astype('float')\n",
    "df['Age Adjusted Death Rate'] = df['Age Adjusted Death Rate'].astype('float')\n",
    "df['Leading Cause'] = df['Leading Cause'].astype('string')\n",
    "df['Sex'] = df['Sex'].astype('string')\n",
    "df['Race Ethnicity'] = df['Race Ethnicity'].astype('string')\n",
    "\n",
    "\n",
    "len(df)\n"
   ]
  },
  {
   "cell_type": "markdown",
   "metadata": {},
   "source": [
    "Check the unique values to see if other inaccuracies appear."
   ]
  },
  {
   "cell_type": "code",
   "execution_count": 16,
   "metadata": {},
   "outputs": [
    {
     "data": {
      "text/plain": [
       "F         354\n",
       "M         354\n",
       "Female     90\n",
       "Male       88\n",
       "Name: Sex, dtype: Int64"
      ]
     },
     "execution_count": 16,
     "metadata": {},
     "output_type": "execute_result"
    }
   ],
   "source": [
    "df.Sex.value_counts()"
   ]
  },
  {
   "cell_type": "markdown",
   "metadata": {},
   "source": [
    "The options for Male and Female also include F and M - we will change Male and Female to M and F."
   ]
  },
  {
   "cell_type": "code",
   "execution_count": 17,
   "metadata": {},
   "outputs": [
    {
     "data": {
      "text/plain": [
       "F    444\n",
       "M    442\n",
       "Name: Sex, dtype: Int64"
      ]
     },
     "execution_count": 17,
     "metadata": {},
     "output_type": "execute_result"
    }
   ],
   "source": [
    "# update based on conditions\n",
    "df['Sex'].loc[df['Sex']=='Female'] ='F'\n",
    "df['Sex'].loc[df['Sex']=='Male'] ='M'\n",
    "df.Sex.value_counts()"
   ]
  },
  {
   "cell_type": "code",
   "execution_count": 18,
   "metadata": {},
   "outputs": [
    {
     "data": {
      "text/plain": [
       "Hispanic                      199\n",
       "Asian and Pacific Islander    199\n",
       "Black Non-Hispanic            178\n",
       "White Non-Hispanic            176\n",
       "Other Race/ Ethnicity          67\n",
       "Not Stated/Unknown             23\n",
       "Non-Hispanic White             22\n",
       "Non-Hispanic Black             22\n",
       "Name: Race Ethnicity, dtype: Int64"
      ]
     },
     "execution_count": 18,
     "metadata": {},
     "output_type": "execute_result"
    }
   ],
   "source": [
    "df['Race Ethnicity'].value_counts()"
   ]
  },
  {
   "cell_type": "markdown",
   "metadata": {},
   "source": [
    "The dataset now has 886 rows with valid data."
   ]
  },
  {
   "cell_type": "markdown",
   "metadata": {},
   "source": [
    "Show each Hispanic death in 2009 sorted by the leading cause and sex, to gain an understanding of how the data is stored."
   ]
  },
  {
   "cell_type": "code",
   "execution_count": 19,
   "metadata": {},
   "outputs": [
    {
     "data": {
      "text/html": [
       "<div>\n",
       "<style scoped>\n",
       "    .dataframe tbody tr th:only-of-type {\n",
       "        vertical-align: middle;\n",
       "    }\n",
       "\n",
       "    .dataframe tbody tr th {\n",
       "        vertical-align: top;\n",
       "    }\n",
       "\n",
       "    .dataframe thead th {\n",
       "        text-align: right;\n",
       "    }\n",
       "</style>\n",
       "<table border=\"1\" class=\"dataframe\">\n",
       "  <thead>\n",
       "    <tr style=\"text-align: right;\">\n",
       "      <th></th>\n",
       "      <th>Year</th>\n",
       "      <th>Leading Cause</th>\n",
       "      <th>Sex</th>\n",
       "      <th>Race Ethnicity</th>\n",
       "      <th>Deaths</th>\n",
       "      <th>Death Rate</th>\n",
       "      <th>Age Adjusted Death Rate</th>\n",
       "    </tr>\n",
       "  </thead>\n",
       "  <tbody>\n",
       "    <tr>\n",
       "      <th>1075</th>\n",
       "      <td>2009</td>\n",
       "      <td>Accidents Except Drug Posioning (V01-X39, X43,...</td>\n",
       "      <td>F</td>\n",
       "      <td>Hispanic</td>\n",
       "      <td>56.0</td>\n",
       "      <td>4.7</td>\n",
       "      <td>5.3</td>\n",
       "    </tr>\n",
       "    <tr>\n",
       "      <th>341</th>\n",
       "      <td>2009</td>\n",
       "      <td>Accidents Except Drug Posioning (V01-X39, X43,...</td>\n",
       "      <td>M</td>\n",
       "      <td>Hispanic</td>\n",
       "      <td>170.0</td>\n",
       "      <td>15.1</td>\n",
       "      <td>17.9</td>\n",
       "    </tr>\n",
       "    <tr>\n",
       "      <th>971</th>\n",
       "      <td>2009</td>\n",
       "      <td>All Other Causes</td>\n",
       "      <td>F</td>\n",
       "      <td>Hispanic</td>\n",
       "      <td>775.0</td>\n",
       "      <td>64.7</td>\n",
       "      <td>75.3</td>\n",
       "    </tr>\n",
       "    <tr>\n",
       "      <th>400</th>\n",
       "      <td>2009</td>\n",
       "      <td>All Other Causes</td>\n",
       "      <td>M</td>\n",
       "      <td>Hispanic</td>\n",
       "      <td>1067.0</td>\n",
       "      <td>95.0</td>\n",
       "      <td>138.1</td>\n",
       "    </tr>\n",
       "    <tr>\n",
       "      <th>830</th>\n",
       "      <td>2009</td>\n",
       "      <td>Alzheimer's Disease (G30)</td>\n",
       "      <td>F</td>\n",
       "      <td>Hispanic</td>\n",
       "      <td>56.0</td>\n",
       "      <td>4.7</td>\n",
       "      <td>6.2</td>\n",
       "    </tr>\n",
       "    <tr>\n",
       "      <th>898</th>\n",
       "      <td>2009</td>\n",
       "      <td>Cerebrovascular Disease (Stroke: I60-I69)</td>\n",
       "      <td>F</td>\n",
       "      <td>Hispanic</td>\n",
       "      <td>154.0</td>\n",
       "      <td>12.9</td>\n",
       "      <td>16.0</td>\n",
       "    </tr>\n",
       "    <tr>\n",
       "      <th>886</th>\n",
       "      <td>2009</td>\n",
       "      <td>Cerebrovascular Disease (Stroke: I60-I69)</td>\n",
       "      <td>M</td>\n",
       "      <td>Hispanic</td>\n",
       "      <td>143.0</td>\n",
       "      <td>12.7</td>\n",
       "      <td>21.1</td>\n",
       "    </tr>\n",
       "    <tr>\n",
       "      <th>143</th>\n",
       "      <td>2009</td>\n",
       "      <td>Chronic Liver Disease and Cirrhosis (K70, K73)</td>\n",
       "      <td>M</td>\n",
       "      <td>Hispanic</td>\n",
       "      <td>119.0</td>\n",
       "      <td>10.6</td>\n",
       "      <td>14.1</td>\n",
       "    </tr>\n",
       "    <tr>\n",
       "      <th>802</th>\n",
       "      <td>2009</td>\n",
       "      <td>Chronic Lower Respiratory Diseases (J40-J47)</td>\n",
       "      <td>F</td>\n",
       "      <td>Hispanic</td>\n",
       "      <td>155.0</td>\n",
       "      <td>12.9</td>\n",
       "      <td>16.0</td>\n",
       "    </tr>\n",
       "    <tr>\n",
       "      <th>1086</th>\n",
       "      <td>2009</td>\n",
       "      <td>Chronic Lower Respiratory Diseases (J40-J47)</td>\n",
       "      <td>M</td>\n",
       "      <td>Hispanic</td>\n",
       "      <td>111.0</td>\n",
       "      <td>9.9</td>\n",
       "      <td>18.3</td>\n",
       "    </tr>\n",
       "    <tr>\n",
       "      <th>700</th>\n",
       "      <td>2009</td>\n",
       "      <td>Diabetes Mellitus (E10-E14)</td>\n",
       "      <td>F</td>\n",
       "      <td>Hispanic</td>\n",
       "      <td>215.0</td>\n",
       "      <td>18.0</td>\n",
       "      <td>22.2</td>\n",
       "    </tr>\n",
       "    <tr>\n",
       "      <th>709</th>\n",
       "      <td>2009</td>\n",
       "      <td>Diabetes Mellitus (E10-E14)</td>\n",
       "      <td>M</td>\n",
       "      <td>Hispanic</td>\n",
       "      <td>172.0</td>\n",
       "      <td>15.3</td>\n",
       "      <td>25.4</td>\n",
       "    </tr>\n",
       "    <tr>\n",
       "      <th>257</th>\n",
       "      <td>2009</td>\n",
       "      <td>Diseases of Heart (I00-I09, I11, I13, I20-I51)</td>\n",
       "      <td>F</td>\n",
       "      <td>Hispanic</td>\n",
       "      <td>1349.0</td>\n",
       "      <td>112.7</td>\n",
       "      <td>143.8</td>\n",
       "    </tr>\n",
       "    <tr>\n",
       "      <th>538</th>\n",
       "      <td>2009</td>\n",
       "      <td>Diseases of Heart (I00-I09, I11, I13, I20-I51)</td>\n",
       "      <td>M</td>\n",
       "      <td>Hispanic</td>\n",
       "      <td>1382.0</td>\n",
       "      <td>123.1</td>\n",
       "      <td>227.9</td>\n",
       "    </tr>\n",
       "    <tr>\n",
       "      <th>88</th>\n",
       "      <td>2009</td>\n",
       "      <td>Essential Hypertension and Renal Diseases (I10...</td>\n",
       "      <td>F</td>\n",
       "      <td>Hispanic</td>\n",
       "      <td>84.0</td>\n",
       "      <td>7.0</td>\n",
       "      <td>8.8</td>\n",
       "    </tr>\n",
       "    <tr>\n",
       "      <th>961</th>\n",
       "      <td>2009</td>\n",
       "      <td>Human Immunodeficiency Virus Disease (HIV: B20...</td>\n",
       "      <td>F</td>\n",
       "      <td>Hispanic</td>\n",
       "      <td>96.0</td>\n",
       "      <td>8.0</td>\n",
       "      <td>8.1</td>\n",
       "    </tr>\n",
       "    <tr>\n",
       "      <th>367</th>\n",
       "      <td>2009</td>\n",
       "      <td>Human Immunodeficiency Virus Disease (HIV: B20...</td>\n",
       "      <td>M</td>\n",
       "      <td>Hispanic</td>\n",
       "      <td>196.0</td>\n",
       "      <td>17.5</td>\n",
       "      <td>20.0</td>\n",
       "    </tr>\n",
       "    <tr>\n",
       "      <th>634</th>\n",
       "      <td>2009</td>\n",
       "      <td>Influenza (Flu) and Pneumonia (J09-J18)</td>\n",
       "      <td>F</td>\n",
       "      <td>Hispanic</td>\n",
       "      <td>216.0</td>\n",
       "      <td>18.0</td>\n",
       "      <td>22.8</td>\n",
       "    </tr>\n",
       "    <tr>\n",
       "      <th>642</th>\n",
       "      <td>2009</td>\n",
       "      <td>Influenza (Flu) and Pneumonia (J09-J18)</td>\n",
       "      <td>M</td>\n",
       "      <td>Hispanic</td>\n",
       "      <td>183.0</td>\n",
       "      <td>16.3</td>\n",
       "      <td>30.9</td>\n",
       "    </tr>\n",
       "    <tr>\n",
       "      <th>147</th>\n",
       "      <td>2009</td>\n",
       "      <td>Malignant Neoplasms (Cancer: C00-C97)</td>\n",
       "      <td>F</td>\n",
       "      <td>Hispanic</td>\n",
       "      <td>1097.0</td>\n",
       "      <td>91.6</td>\n",
       "      <td>107.2</td>\n",
       "    </tr>\n",
       "    <tr>\n",
       "      <th>894</th>\n",
       "      <td>2009</td>\n",
       "      <td>Malignant Neoplasms (Cancer: C00-C97)</td>\n",
       "      <td>M</td>\n",
       "      <td>Hispanic</td>\n",
       "      <td>1180.0</td>\n",
       "      <td>105.1</td>\n",
       "      <td>172.2</td>\n",
       "    </tr>\n",
       "    <tr>\n",
       "      <th>825</th>\n",
       "      <td>2009</td>\n",
       "      <td>Mental and Behavioral Disorders due to Acciden...</td>\n",
       "      <td>F</td>\n",
       "      <td>Hispanic</td>\n",
       "      <td>57.0</td>\n",
       "      <td>4.8</td>\n",
       "      <td>4.7</td>\n",
       "    </tr>\n",
       "    <tr>\n",
       "      <th>134</th>\n",
       "      <td>2009</td>\n",
       "      <td>Mental and Behavioral Disorders due to Acciden...</td>\n",
       "      <td>M</td>\n",
       "      <td>Hispanic</td>\n",
       "      <td>145.0</td>\n",
       "      <td>12.9</td>\n",
       "      <td>13.5</td>\n",
       "    </tr>\n",
       "  </tbody>\n",
       "</table>\n",
       "</div>"
      ],
      "text/plain": [
       "      Year                                      Leading Cause Sex  \\\n",
       "1075  2009  Accidents Except Drug Posioning (V01-X39, X43,...   F   \n",
       "341   2009  Accidents Except Drug Posioning (V01-X39, X43,...   M   \n",
       "971   2009                                   All Other Causes   F   \n",
       "400   2009                                   All Other Causes   M   \n",
       "830   2009                          Alzheimer's Disease (G30)   F   \n",
       "898   2009          Cerebrovascular Disease (Stroke: I60-I69)   F   \n",
       "886   2009          Cerebrovascular Disease (Stroke: I60-I69)   M   \n",
       "143   2009     Chronic Liver Disease and Cirrhosis (K70, K73)   M   \n",
       "802   2009       Chronic Lower Respiratory Diseases (J40-J47)   F   \n",
       "1086  2009       Chronic Lower Respiratory Diseases (J40-J47)   M   \n",
       "700   2009                        Diabetes Mellitus (E10-E14)   F   \n",
       "709   2009                        Diabetes Mellitus (E10-E14)   M   \n",
       "257   2009     Diseases of Heart (I00-I09, I11, I13, I20-I51)   F   \n",
       "538   2009     Diseases of Heart (I00-I09, I11, I13, I20-I51)   M   \n",
       "88    2009  Essential Hypertension and Renal Diseases (I10...   F   \n",
       "961   2009  Human Immunodeficiency Virus Disease (HIV: B20...   F   \n",
       "367   2009  Human Immunodeficiency Virus Disease (HIV: B20...   M   \n",
       "634   2009            Influenza (Flu) and Pneumonia (J09-J18)   F   \n",
       "642   2009            Influenza (Flu) and Pneumonia (J09-J18)   M   \n",
       "147   2009              Malignant Neoplasms (Cancer: C00-C97)   F   \n",
       "894   2009              Malignant Neoplasms (Cancer: C00-C97)   M   \n",
       "825   2009  Mental and Behavioral Disorders due to Acciden...   F   \n",
       "134   2009  Mental and Behavioral Disorders due to Acciden...   M   \n",
       "\n",
       "     Race Ethnicity  Deaths  Death Rate  Age Adjusted Death Rate  \n",
       "1075       Hispanic    56.0         4.7                      5.3  \n",
       "341        Hispanic   170.0        15.1                     17.9  \n",
       "971        Hispanic   775.0        64.7                     75.3  \n",
       "400        Hispanic  1067.0        95.0                    138.1  \n",
       "830        Hispanic    56.0         4.7                      6.2  \n",
       "898        Hispanic   154.0        12.9                     16.0  \n",
       "886        Hispanic   143.0        12.7                     21.1  \n",
       "143        Hispanic   119.0        10.6                     14.1  \n",
       "802        Hispanic   155.0        12.9                     16.0  \n",
       "1086       Hispanic   111.0         9.9                     18.3  \n",
       "700        Hispanic   215.0        18.0                     22.2  \n",
       "709        Hispanic   172.0        15.3                     25.4  \n",
       "257        Hispanic  1349.0       112.7                    143.8  \n",
       "538        Hispanic  1382.0       123.1                    227.9  \n",
       "88         Hispanic    84.0         7.0                      8.8  \n",
       "961        Hispanic    96.0         8.0                      8.1  \n",
       "367        Hispanic   196.0        17.5                     20.0  \n",
       "634        Hispanic   216.0        18.0                     22.8  \n",
       "642        Hispanic   183.0        16.3                     30.9  \n",
       "147        Hispanic  1097.0        91.6                    107.2  \n",
       "894        Hispanic  1180.0       105.1                    172.2  \n",
       "825        Hispanic    57.0         4.8                      4.7  \n",
       "134        Hispanic   145.0        12.9                     13.5  "
      ]
     },
     "execution_count": 19,
     "metadata": {},
     "output_type": "execute_result"
    }
   ],
   "source": [
    "df[(df.Year==2009) & (df['Race Ethnicity']=='Hispanic')].sort_values(by=['Leading Cause', 'Sex'])"
   ]
  },
  {
   "cell_type": "markdown",
   "metadata": {},
   "source": [
    "Now sort by the Death Rate in descending order."
   ]
  },
  {
   "cell_type": "code",
   "execution_count": 20,
   "metadata": {},
   "outputs": [
    {
     "data": {
      "text/html": [
       "<div>\n",
       "<style scoped>\n",
       "    .dataframe tbody tr th:only-of-type {\n",
       "        vertical-align: middle;\n",
       "    }\n",
       "\n",
       "    .dataframe tbody tr th {\n",
       "        vertical-align: top;\n",
       "    }\n",
       "\n",
       "    .dataframe thead th {\n",
       "        text-align: right;\n",
       "    }\n",
       "</style>\n",
       "<table border=\"1\" class=\"dataframe\">\n",
       "  <thead>\n",
       "    <tr style=\"text-align: right;\">\n",
       "      <th></th>\n",
       "      <th>Year</th>\n",
       "      <th>Leading Cause</th>\n",
       "      <th>Sex</th>\n",
       "      <th>Race Ethnicity</th>\n",
       "      <th>Deaths</th>\n",
       "      <th>Death Rate</th>\n",
       "      <th>Age Adjusted Death Rate</th>\n",
       "    </tr>\n",
       "  </thead>\n",
       "  <tbody>\n",
       "    <tr>\n",
       "      <th>538</th>\n",
       "      <td>2009</td>\n",
       "      <td>Diseases of Heart (I00-I09, I11, I13, I20-I51)</td>\n",
       "      <td>M</td>\n",
       "      <td>Hispanic</td>\n",
       "      <td>1382.0</td>\n",
       "      <td>123.1</td>\n",
       "      <td>227.9</td>\n",
       "    </tr>\n",
       "    <tr>\n",
       "      <th>257</th>\n",
       "      <td>2009</td>\n",
       "      <td>Diseases of Heart (I00-I09, I11, I13, I20-I51)</td>\n",
       "      <td>F</td>\n",
       "      <td>Hispanic</td>\n",
       "      <td>1349.0</td>\n",
       "      <td>112.7</td>\n",
       "      <td>143.8</td>\n",
       "    </tr>\n",
       "    <tr>\n",
       "      <th>894</th>\n",
       "      <td>2009</td>\n",
       "      <td>Malignant Neoplasms (Cancer: C00-C97)</td>\n",
       "      <td>M</td>\n",
       "      <td>Hispanic</td>\n",
       "      <td>1180.0</td>\n",
       "      <td>105.1</td>\n",
       "      <td>172.2</td>\n",
       "    </tr>\n",
       "    <tr>\n",
       "      <th>400</th>\n",
       "      <td>2009</td>\n",
       "      <td>All Other Causes</td>\n",
       "      <td>M</td>\n",
       "      <td>Hispanic</td>\n",
       "      <td>1067.0</td>\n",
       "      <td>95.0</td>\n",
       "      <td>138.1</td>\n",
       "    </tr>\n",
       "    <tr>\n",
       "      <th>147</th>\n",
       "      <td>2009</td>\n",
       "      <td>Malignant Neoplasms (Cancer: C00-C97)</td>\n",
       "      <td>F</td>\n",
       "      <td>Hispanic</td>\n",
       "      <td>1097.0</td>\n",
       "      <td>91.6</td>\n",
       "      <td>107.2</td>\n",
       "    </tr>\n",
       "    <tr>\n",
       "      <th>971</th>\n",
       "      <td>2009</td>\n",
       "      <td>All Other Causes</td>\n",
       "      <td>F</td>\n",
       "      <td>Hispanic</td>\n",
       "      <td>775.0</td>\n",
       "      <td>64.7</td>\n",
       "      <td>75.3</td>\n",
       "    </tr>\n",
       "    <tr>\n",
       "      <th>634</th>\n",
       "      <td>2009</td>\n",
       "      <td>Influenza (Flu) and Pneumonia (J09-J18)</td>\n",
       "      <td>F</td>\n",
       "      <td>Hispanic</td>\n",
       "      <td>216.0</td>\n",
       "      <td>18.0</td>\n",
       "      <td>22.8</td>\n",
       "    </tr>\n",
       "    <tr>\n",
       "      <th>700</th>\n",
       "      <td>2009</td>\n",
       "      <td>Diabetes Mellitus (E10-E14)</td>\n",
       "      <td>F</td>\n",
       "      <td>Hispanic</td>\n",
       "      <td>215.0</td>\n",
       "      <td>18.0</td>\n",
       "      <td>22.2</td>\n",
       "    </tr>\n",
       "    <tr>\n",
       "      <th>367</th>\n",
       "      <td>2009</td>\n",
       "      <td>Human Immunodeficiency Virus Disease (HIV: B20...</td>\n",
       "      <td>M</td>\n",
       "      <td>Hispanic</td>\n",
       "      <td>196.0</td>\n",
       "      <td>17.5</td>\n",
       "      <td>20.0</td>\n",
       "    </tr>\n",
       "    <tr>\n",
       "      <th>642</th>\n",
       "      <td>2009</td>\n",
       "      <td>Influenza (Flu) and Pneumonia (J09-J18)</td>\n",
       "      <td>M</td>\n",
       "      <td>Hispanic</td>\n",
       "      <td>183.0</td>\n",
       "      <td>16.3</td>\n",
       "      <td>30.9</td>\n",
       "    </tr>\n",
       "    <tr>\n",
       "      <th>709</th>\n",
       "      <td>2009</td>\n",
       "      <td>Diabetes Mellitus (E10-E14)</td>\n",
       "      <td>M</td>\n",
       "      <td>Hispanic</td>\n",
       "      <td>172.0</td>\n",
       "      <td>15.3</td>\n",
       "      <td>25.4</td>\n",
       "    </tr>\n",
       "    <tr>\n",
       "      <th>341</th>\n",
       "      <td>2009</td>\n",
       "      <td>Accidents Except Drug Posioning (V01-X39, X43,...</td>\n",
       "      <td>M</td>\n",
       "      <td>Hispanic</td>\n",
       "      <td>170.0</td>\n",
       "      <td>15.1</td>\n",
       "      <td>17.9</td>\n",
       "    </tr>\n",
       "    <tr>\n",
       "      <th>134</th>\n",
       "      <td>2009</td>\n",
       "      <td>Mental and Behavioral Disorders due to Acciden...</td>\n",
       "      <td>M</td>\n",
       "      <td>Hispanic</td>\n",
       "      <td>145.0</td>\n",
       "      <td>12.9</td>\n",
       "      <td>13.5</td>\n",
       "    </tr>\n",
       "    <tr>\n",
       "      <th>802</th>\n",
       "      <td>2009</td>\n",
       "      <td>Chronic Lower Respiratory Diseases (J40-J47)</td>\n",
       "      <td>F</td>\n",
       "      <td>Hispanic</td>\n",
       "      <td>155.0</td>\n",
       "      <td>12.9</td>\n",
       "      <td>16.0</td>\n",
       "    </tr>\n",
       "    <tr>\n",
       "      <th>898</th>\n",
       "      <td>2009</td>\n",
       "      <td>Cerebrovascular Disease (Stroke: I60-I69)</td>\n",
       "      <td>F</td>\n",
       "      <td>Hispanic</td>\n",
       "      <td>154.0</td>\n",
       "      <td>12.9</td>\n",
       "      <td>16.0</td>\n",
       "    </tr>\n",
       "    <tr>\n",
       "      <th>886</th>\n",
       "      <td>2009</td>\n",
       "      <td>Cerebrovascular Disease (Stroke: I60-I69)</td>\n",
       "      <td>M</td>\n",
       "      <td>Hispanic</td>\n",
       "      <td>143.0</td>\n",
       "      <td>12.7</td>\n",
       "      <td>21.1</td>\n",
       "    </tr>\n",
       "    <tr>\n",
       "      <th>143</th>\n",
       "      <td>2009</td>\n",
       "      <td>Chronic Liver Disease and Cirrhosis (K70, K73)</td>\n",
       "      <td>M</td>\n",
       "      <td>Hispanic</td>\n",
       "      <td>119.0</td>\n",
       "      <td>10.6</td>\n",
       "      <td>14.1</td>\n",
       "    </tr>\n",
       "    <tr>\n",
       "      <th>1086</th>\n",
       "      <td>2009</td>\n",
       "      <td>Chronic Lower Respiratory Diseases (J40-J47)</td>\n",
       "      <td>M</td>\n",
       "      <td>Hispanic</td>\n",
       "      <td>111.0</td>\n",
       "      <td>9.9</td>\n",
       "      <td>18.3</td>\n",
       "    </tr>\n",
       "    <tr>\n",
       "      <th>961</th>\n",
       "      <td>2009</td>\n",
       "      <td>Human Immunodeficiency Virus Disease (HIV: B20...</td>\n",
       "      <td>F</td>\n",
       "      <td>Hispanic</td>\n",
       "      <td>96.0</td>\n",
       "      <td>8.0</td>\n",
       "      <td>8.1</td>\n",
       "    </tr>\n",
       "    <tr>\n",
       "      <th>88</th>\n",
       "      <td>2009</td>\n",
       "      <td>Essential Hypertension and Renal Diseases (I10...</td>\n",
       "      <td>F</td>\n",
       "      <td>Hispanic</td>\n",
       "      <td>84.0</td>\n",
       "      <td>7.0</td>\n",
       "      <td>8.8</td>\n",
       "    </tr>\n",
       "    <tr>\n",
       "      <th>825</th>\n",
       "      <td>2009</td>\n",
       "      <td>Mental and Behavioral Disorders due to Acciden...</td>\n",
       "      <td>F</td>\n",
       "      <td>Hispanic</td>\n",
       "      <td>57.0</td>\n",
       "      <td>4.8</td>\n",
       "      <td>4.7</td>\n",
       "    </tr>\n",
       "    <tr>\n",
       "      <th>830</th>\n",
       "      <td>2009</td>\n",
       "      <td>Alzheimer's Disease (G30)</td>\n",
       "      <td>F</td>\n",
       "      <td>Hispanic</td>\n",
       "      <td>56.0</td>\n",
       "      <td>4.7</td>\n",
       "      <td>6.2</td>\n",
       "    </tr>\n",
       "    <tr>\n",
       "      <th>1075</th>\n",
       "      <td>2009</td>\n",
       "      <td>Accidents Except Drug Posioning (V01-X39, X43,...</td>\n",
       "      <td>F</td>\n",
       "      <td>Hispanic</td>\n",
       "      <td>56.0</td>\n",
       "      <td>4.7</td>\n",
       "      <td>5.3</td>\n",
       "    </tr>\n",
       "  </tbody>\n",
       "</table>\n",
       "</div>"
      ],
      "text/plain": [
       "      Year                                      Leading Cause Sex  \\\n",
       "538   2009     Diseases of Heart (I00-I09, I11, I13, I20-I51)   M   \n",
       "257   2009     Diseases of Heart (I00-I09, I11, I13, I20-I51)   F   \n",
       "894   2009              Malignant Neoplasms (Cancer: C00-C97)   M   \n",
       "400   2009                                   All Other Causes   M   \n",
       "147   2009              Malignant Neoplasms (Cancer: C00-C97)   F   \n",
       "971   2009                                   All Other Causes   F   \n",
       "634   2009            Influenza (Flu) and Pneumonia (J09-J18)   F   \n",
       "700   2009                        Diabetes Mellitus (E10-E14)   F   \n",
       "367   2009  Human Immunodeficiency Virus Disease (HIV: B20...   M   \n",
       "642   2009            Influenza (Flu) and Pneumonia (J09-J18)   M   \n",
       "709   2009                        Diabetes Mellitus (E10-E14)   M   \n",
       "341   2009  Accidents Except Drug Posioning (V01-X39, X43,...   M   \n",
       "134   2009  Mental and Behavioral Disorders due to Acciden...   M   \n",
       "802   2009       Chronic Lower Respiratory Diseases (J40-J47)   F   \n",
       "898   2009          Cerebrovascular Disease (Stroke: I60-I69)   F   \n",
       "886   2009          Cerebrovascular Disease (Stroke: I60-I69)   M   \n",
       "143   2009     Chronic Liver Disease and Cirrhosis (K70, K73)   M   \n",
       "1086  2009       Chronic Lower Respiratory Diseases (J40-J47)   M   \n",
       "961   2009  Human Immunodeficiency Virus Disease (HIV: B20...   F   \n",
       "88    2009  Essential Hypertension and Renal Diseases (I10...   F   \n",
       "825   2009  Mental and Behavioral Disorders due to Acciden...   F   \n",
       "830   2009                          Alzheimer's Disease (G30)   F   \n",
       "1075  2009  Accidents Except Drug Posioning (V01-X39, X43,...   F   \n",
       "\n",
       "     Race Ethnicity  Deaths  Death Rate  Age Adjusted Death Rate  \n",
       "538        Hispanic  1382.0       123.1                    227.9  \n",
       "257        Hispanic  1349.0       112.7                    143.8  \n",
       "894        Hispanic  1180.0       105.1                    172.2  \n",
       "400        Hispanic  1067.0        95.0                    138.1  \n",
       "147        Hispanic  1097.0        91.6                    107.2  \n",
       "971        Hispanic   775.0        64.7                     75.3  \n",
       "634        Hispanic   216.0        18.0                     22.8  \n",
       "700        Hispanic   215.0        18.0                     22.2  \n",
       "367        Hispanic   196.0        17.5                     20.0  \n",
       "642        Hispanic   183.0        16.3                     30.9  \n",
       "709        Hispanic   172.0        15.3                     25.4  \n",
       "341        Hispanic   170.0        15.1                     17.9  \n",
       "134        Hispanic   145.0        12.9                     13.5  \n",
       "802        Hispanic   155.0        12.9                     16.0  \n",
       "898        Hispanic   154.0        12.9                     16.0  \n",
       "886        Hispanic   143.0        12.7                     21.1  \n",
       "143        Hispanic   119.0        10.6                     14.1  \n",
       "1086       Hispanic   111.0         9.9                     18.3  \n",
       "961        Hispanic    96.0         8.0                      8.1  \n",
       "88         Hispanic    84.0         7.0                      8.8  \n",
       "825        Hispanic    57.0         4.8                      4.7  \n",
       "830        Hispanic    56.0         4.7                      6.2  \n",
       "1075       Hispanic    56.0         4.7                      5.3  "
      ]
     },
     "execution_count": 20,
     "metadata": {},
     "output_type": "execute_result"
    }
   ],
   "source": [
    "df[(df.Year==2009) & (df['Race Ethnicity']=='Hispanic')].sort_values('Death Rate', ascending=False)"
   ]
  },
  {
   "cell_type": "markdown",
   "metadata": {},
   "source": [
    "### EDA"
   ]
  },
  {
   "cell_type": "markdown",
   "metadata": {},
   "source": [
    "Now show the distributions of data."
   ]
  },
  {
   "cell_type": "code",
   "execution_count": 30,
   "metadata": {},
   "outputs": [
    {
     "data": {
      "application/vnd.plotly.v1+json": {
       "config": {
        "plotlyServerURL": "https://plot.ly"
       },
       "data": [
        {
         "alignmentgroup": "True",
         "bingroup": "x",
         "hovertemplate": "variable=Year<br>value=%{x}<br>count=%{y}<extra></extra>",
         "legendgroup": "Year",
         "marker": {
          "color": "#636efa",
          "pattern": {
           "shape": ""
          }
         },
         "name": "Year",
         "offsetgroup": "Year",
         "orientation": "v",
         "showlegend": true,
         "type": "histogram",
         "x": [
          2013,
          2014,
          2009,
          2013,
          2007,
          2008,
          2007,
          2012,
          2012,
          2013,
          2012,
          2013,
          2011,
          2014,
          2009,
          2010,
          2010,
          2013,
          2012,
          2007,
          2007,
          2014,
          2008,
          2011,
          2011,
          2013,
          2012,
          2011,
          2009,
          2010,
          2013,
          2007,
          2008,
          2009,
          2009,
          2008,
          2012,
          2010,
          2008,
          2009,
          2007,
          2007,
          2007,
          2011,
          2010,
          2007,
          2007,
          2011,
          2009,
          2014,
          2010,
          2013,
          2013,
          2014,
          2007,
          2007,
          2011,
          2013,
          2012,
          2013,
          2011,
          2010,
          2012,
          2010,
          2010,
          2012,
          2013,
          2013,
          2011,
          2010,
          2010,
          2013,
          2014,
          2007,
          2013,
          2011,
          2011,
          2010,
          2012,
          2014,
          2008,
          2009,
          2009,
          2009,
          2014,
          2012,
          2007,
          2013,
          2009,
          2007,
          2012,
          2012,
          2009,
          2009,
          2013,
          2011,
          2010,
          2008,
          2009,
          2007,
          2014,
          2011,
          2013,
          2008,
          2013,
          2012,
          2009,
          2013,
          2007,
          2010,
          2010,
          2013,
          2008,
          2008,
          2014,
          2012,
          2011,
          2009,
          2013,
          2013,
          2013,
          2011,
          2013,
          2012,
          2008,
          2012,
          2011,
          2008,
          2013,
          2014,
          2007,
          2011,
          2013,
          2009,
          2008,
          2013,
          2009,
          2012,
          2007,
          2011,
          2007,
          2012,
          2011,
          2008,
          2008,
          2011,
          2011,
          2011,
          2007,
          2010,
          2012,
          2009,
          2013,
          2010,
          2007,
          2008,
          2009,
          2009,
          2011,
          2011,
          2013,
          2013,
          2011,
          2013,
          2009,
          2013,
          2014,
          2013,
          2010,
          2008,
          2010,
          2013,
          2009,
          2010,
          2008,
          2013,
          2013,
          2009,
          2012,
          2009,
          2014,
          2012,
          2014,
          2011,
          2014,
          2012,
          2013,
          2007,
          2008,
          2008,
          2009,
          2014,
          2011,
          2007,
          2007,
          2014,
          2011,
          2009,
          2007,
          2011,
          2008,
          2007,
          2013,
          2007,
          2012,
          2012,
          2011,
          2012,
          2013,
          2013,
          2009,
          2014,
          2009,
          2010,
          2008,
          2007,
          2009,
          2014,
          2009,
          2012,
          2013,
          2008,
          2011,
          2008,
          2014,
          2013,
          2011,
          2010,
          2009,
          2014,
          2008,
          2010,
          2009,
          2011,
          2013,
          2014,
          2014,
          2012,
          2010,
          2014,
          2013,
          2008,
          2010,
          2011,
          2007,
          2011,
          2010,
          2011,
          2008,
          2012,
          2007,
          2009,
          2008,
          2011,
          2014,
          2010,
          2010,
          2012,
          2014,
          2008,
          2007,
          2008,
          2007,
          2007,
          2011,
          2010,
          2010,
          2009,
          2013,
          2011,
          2012,
          2012,
          2009,
          2007,
          2014,
          2010,
          2007,
          2010,
          2011,
          2014,
          2008,
          2007,
          2010,
          2008,
          2011,
          2007,
          2007,
          2014,
          2009,
          2012,
          2014,
          2012,
          2008,
          2008,
          2011,
          2009,
          2007,
          2011,
          2008,
          2009,
          2008,
          2014,
          2014,
          2008,
          2013,
          2014,
          2008,
          2007,
          2011,
          2012,
          2011,
          2011,
          2011,
          2009,
          2013,
          2008,
          2008,
          2013,
          2012,
          2009,
          2007,
          2011,
          2007,
          2008,
          2008,
          2012,
          2010,
          2008,
          2008,
          2011,
          2007,
          2009,
          2011,
          2010,
          2014,
          2010,
          2009,
          2010,
          2009,
          2013,
          2011,
          2012,
          2011,
          2013,
          2012,
          2013,
          2011,
          2014,
          2011,
          2012,
          2013,
          2014,
          2010,
          2010,
          2010,
          2008,
          2013,
          2012,
          2009,
          2012,
          2007,
          2013,
          2012,
          2013,
          2008,
          2009,
          2014,
          2008,
          2012,
          2014,
          2014,
          2008,
          2008,
          2009,
          2009,
          2014,
          2010,
          2008,
          2010,
          2007,
          2008,
          2012,
          2008,
          2013,
          2010,
          2008,
          2014,
          2007,
          2010,
          2007,
          2012,
          2009,
          2012,
          2008,
          2011,
          2011,
          2007,
          2007,
          2011,
          2007,
          2007,
          2007,
          2010,
          2012,
          2010,
          2009,
          2009,
          2008,
          2010,
          2013,
          2008,
          2009,
          2013,
          2014,
          2007,
          2007,
          2008,
          2007,
          2014,
          2013,
          2008,
          2007,
          2010,
          2012,
          2014,
          2007,
          2011,
          2011,
          2008,
          2008,
          2013,
          2009,
          2013,
          2011,
          2011,
          2010,
          2012,
          2013,
          2010,
          2010,
          2009,
          2008,
          2012,
          2013,
          2010,
          2008,
          2012,
          2014,
          2012,
          2011,
          2008,
          2014,
          2012,
          2012,
          2010,
          2009,
          2010,
          2008,
          2014,
          2013,
          2013,
          2009,
          2012,
          2008,
          2012,
          2012,
          2011,
          2013,
          2009,
          2010,
          2011,
          2013,
          2007,
          2012,
          2008,
          2008,
          2010,
          2009,
          2014,
          2010,
          2014,
          2011,
          2011,
          2013,
          2010,
          2009,
          2008,
          2011,
          2010,
          2012,
          2012,
          2007,
          2012,
          2009,
          2009,
          2011,
          2010,
          2008,
          2014,
          2007,
          2011,
          2014,
          2008,
          2012,
          2012,
          2008,
          2007,
          2008,
          2011,
          2014,
          2013,
          2014,
          2010,
          2007,
          2014,
          2008,
          2012,
          2014,
          2009,
          2014,
          2012,
          2007,
          2009,
          2014,
          2010,
          2007,
          2007,
          2009,
          2008,
          2012,
          2013,
          2012,
          2010,
          2013,
          2008,
          2010,
          2011,
          2009,
          2012,
          2014,
          2012,
          2009,
          2014,
          2014,
          2009,
          2011,
          2010,
          2013,
          2009,
          2013,
          2010,
          2010,
          2007,
          2007,
          2010,
          2012,
          2012,
          2013,
          2013,
          2012,
          2014,
          2011,
          2009,
          2007,
          2013,
          2014,
          2010,
          2013,
          2012,
          2010,
          2011,
          2011,
          2014,
          2009,
          2007,
          2008,
          2012,
          2010,
          2009,
          2008,
          2007,
          2009,
          2014,
          2009,
          2013,
          2007,
          2012,
          2011,
          2010,
          2009,
          2012,
          2007,
          2012,
          2007,
          2008,
          2010,
          2007,
          2013,
          2010,
          2012,
          2011,
          2010,
          2009,
          2014,
          2007,
          2008,
          2007,
          2014,
          2008,
          2008,
          2007,
          2009,
          2011,
          2007,
          2013,
          2007,
          2009,
          2009,
          2014,
          2012,
          2008,
          2014,
          2007,
          2014,
          2009,
          2014,
          2012,
          2014,
          2012,
          2008,
          2013,
          2007,
          2009,
          2009,
          2014,
          2010,
          2007,
          2014,
          2011,
          2011,
          2012,
          2008,
          2010,
          2014,
          2014,
          2012,
          2013,
          2012,
          2011,
          2010,
          2014,
          2014,
          2011,
          2013,
          2014,
          2007,
          2010,
          2014,
          2013,
          2009,
          2010,
          2009,
          2011,
          2014,
          2011,
          2010,
          2014,
          2009,
          2014,
          2014,
          2014,
          2007,
          2007,
          2008,
          2014,
          2013,
          2007,
          2011,
          2010,
          2014,
          2012,
          2007,
          2010,
          2011,
          2013,
          2010,
          2012,
          2011,
          2010,
          2010,
          2014,
          2009,
          2012,
          2008,
          2010,
          2008,
          2014,
          2007,
          2009,
          2010,
          2013,
          2009,
          2007,
          2011,
          2009,
          2008,
          2008,
          2009,
          2019,
          2019,
          2019,
          2019,
          2019,
          2019,
          2019,
          2019,
          2019,
          2019,
          2019,
          2019,
          2019,
          2019,
          2019,
          2019,
          2019,
          2019,
          2019,
          2019,
          2019,
          2019,
          2019,
          2019,
          2019,
          2019,
          2019,
          2019,
          2019,
          2019,
          2019,
          2019,
          2019,
          2019,
          2019,
          2019,
          2019,
          2019,
          2019,
          2019,
          2019,
          2019,
          2019,
          2019,
          2019,
          2019,
          2019,
          2019,
          2019,
          2019,
          2019,
          2019,
          2019,
          2019,
          2019,
          2019,
          2019,
          2019,
          2019,
          2019,
          2019,
          2019,
          2019,
          2019,
          2019,
          2019,
          2019,
          2019,
          2019,
          2019,
          2019,
          2019,
          2019,
          2019,
          2019,
          2019,
          2019,
          2019,
          2019,
          2019,
          2019,
          2019,
          2019,
          2019,
          2019,
          2019,
          2019,
          2019,
          2019,
          2019,
          2019,
          2019,
          2019,
          2019,
          2019,
          2019,
          2019,
          2019,
          2019,
          2019,
          2019,
          2019,
          2019,
          2019,
          2019,
          2019,
          2019,
          2019,
          2019,
          2019,
          2019,
          2019,
          2019,
          2019,
          2019,
          2019,
          2019,
          2019,
          2019,
          2019,
          2019,
          2019,
          2019,
          2019,
          2019,
          2019,
          2019,
          2019,
          2019,
          2019,
          2019,
          2019,
          2019,
          2019,
          2019,
          2019,
          2019,
          2019,
          2019,
          2019,
          2019,
          2019,
          2019,
          2019,
          2019,
          2019,
          2019,
          2019,
          2019,
          2019,
          2019,
          2019,
          2019,
          2019,
          2019,
          2019,
          2019,
          2019,
          2019,
          2019,
          2019,
          2019,
          2019,
          2019,
          2019,
          2019,
          2019,
          2019,
          2019,
          2019,
          2019,
          2019,
          2019,
          2019,
          2019,
          2019,
          2019,
          2019
         ],
         "xaxis": "x",
         "yaxis": "y"
        }
       ],
       "layout": {
        "barmode": "relative",
        "legend": {
         "title": {
          "text": "variable"
         },
         "tracegroupgap": 0
        },
        "template": {
         "data": {
          "bar": [
           {
            "error_x": {
             "color": "#2a3f5f"
            },
            "error_y": {
             "color": "#2a3f5f"
            },
            "marker": {
             "line": {
              "color": "#E5ECF6",
              "width": 0.5
             },
             "pattern": {
              "fillmode": "overlay",
              "size": 10,
              "solidity": 0.2
             }
            },
            "type": "bar"
           }
          ],
          "barpolar": [
           {
            "marker": {
             "line": {
              "color": "#E5ECF6",
              "width": 0.5
             },
             "pattern": {
              "fillmode": "overlay",
              "size": 10,
              "solidity": 0.2
             }
            },
            "type": "barpolar"
           }
          ],
          "carpet": [
           {
            "aaxis": {
             "endlinecolor": "#2a3f5f",
             "gridcolor": "white",
             "linecolor": "white",
             "minorgridcolor": "white",
             "startlinecolor": "#2a3f5f"
            },
            "baxis": {
             "endlinecolor": "#2a3f5f",
             "gridcolor": "white",
             "linecolor": "white",
             "minorgridcolor": "white",
             "startlinecolor": "#2a3f5f"
            },
            "type": "carpet"
           }
          ],
          "choropleth": [
           {
            "colorbar": {
             "outlinewidth": 0,
             "ticks": ""
            },
            "type": "choropleth"
           }
          ],
          "contour": [
           {
            "colorbar": {
             "outlinewidth": 0,
             "ticks": ""
            },
            "colorscale": [
             [
              0,
              "#0d0887"
             ],
             [
              0.1111111111111111,
              "#46039f"
             ],
             [
              0.2222222222222222,
              "#7201a8"
             ],
             [
              0.3333333333333333,
              "#9c179e"
             ],
             [
              0.4444444444444444,
              "#bd3786"
             ],
             [
              0.5555555555555556,
              "#d8576b"
             ],
             [
              0.6666666666666666,
              "#ed7953"
             ],
             [
              0.7777777777777778,
              "#fb9f3a"
             ],
             [
              0.8888888888888888,
              "#fdca26"
             ],
             [
              1,
              "#f0f921"
             ]
            ],
            "type": "contour"
           }
          ],
          "contourcarpet": [
           {
            "colorbar": {
             "outlinewidth": 0,
             "ticks": ""
            },
            "type": "contourcarpet"
           }
          ],
          "heatmap": [
           {
            "colorbar": {
             "outlinewidth": 0,
             "ticks": ""
            },
            "colorscale": [
             [
              0,
              "#0d0887"
             ],
             [
              0.1111111111111111,
              "#46039f"
             ],
             [
              0.2222222222222222,
              "#7201a8"
             ],
             [
              0.3333333333333333,
              "#9c179e"
             ],
             [
              0.4444444444444444,
              "#bd3786"
             ],
             [
              0.5555555555555556,
              "#d8576b"
             ],
             [
              0.6666666666666666,
              "#ed7953"
             ],
             [
              0.7777777777777778,
              "#fb9f3a"
             ],
             [
              0.8888888888888888,
              "#fdca26"
             ],
             [
              1,
              "#f0f921"
             ]
            ],
            "type": "heatmap"
           }
          ],
          "heatmapgl": [
           {
            "colorbar": {
             "outlinewidth": 0,
             "ticks": ""
            },
            "colorscale": [
             [
              0,
              "#0d0887"
             ],
             [
              0.1111111111111111,
              "#46039f"
             ],
             [
              0.2222222222222222,
              "#7201a8"
             ],
             [
              0.3333333333333333,
              "#9c179e"
             ],
             [
              0.4444444444444444,
              "#bd3786"
             ],
             [
              0.5555555555555556,
              "#d8576b"
             ],
             [
              0.6666666666666666,
              "#ed7953"
             ],
             [
              0.7777777777777778,
              "#fb9f3a"
             ],
             [
              0.8888888888888888,
              "#fdca26"
             ],
             [
              1,
              "#f0f921"
             ]
            ],
            "type": "heatmapgl"
           }
          ],
          "histogram": [
           {
            "marker": {
             "pattern": {
              "fillmode": "overlay",
              "size": 10,
              "solidity": 0.2
             }
            },
            "type": "histogram"
           }
          ],
          "histogram2d": [
           {
            "colorbar": {
             "outlinewidth": 0,
             "ticks": ""
            },
            "colorscale": [
             [
              0,
              "#0d0887"
             ],
             [
              0.1111111111111111,
              "#46039f"
             ],
             [
              0.2222222222222222,
              "#7201a8"
             ],
             [
              0.3333333333333333,
              "#9c179e"
             ],
             [
              0.4444444444444444,
              "#bd3786"
             ],
             [
              0.5555555555555556,
              "#d8576b"
             ],
             [
              0.6666666666666666,
              "#ed7953"
             ],
             [
              0.7777777777777778,
              "#fb9f3a"
             ],
             [
              0.8888888888888888,
              "#fdca26"
             ],
             [
              1,
              "#f0f921"
             ]
            ],
            "type": "histogram2d"
           }
          ],
          "histogram2dcontour": [
           {
            "colorbar": {
             "outlinewidth": 0,
             "ticks": ""
            },
            "colorscale": [
             [
              0,
              "#0d0887"
             ],
             [
              0.1111111111111111,
              "#46039f"
             ],
             [
              0.2222222222222222,
              "#7201a8"
             ],
             [
              0.3333333333333333,
              "#9c179e"
             ],
             [
              0.4444444444444444,
              "#bd3786"
             ],
             [
              0.5555555555555556,
              "#d8576b"
             ],
             [
              0.6666666666666666,
              "#ed7953"
             ],
             [
              0.7777777777777778,
              "#fb9f3a"
             ],
             [
              0.8888888888888888,
              "#fdca26"
             ],
             [
              1,
              "#f0f921"
             ]
            ],
            "type": "histogram2dcontour"
           }
          ],
          "mesh3d": [
           {
            "colorbar": {
             "outlinewidth": 0,
             "ticks": ""
            },
            "type": "mesh3d"
           }
          ],
          "parcoords": [
           {
            "line": {
             "colorbar": {
              "outlinewidth": 0,
              "ticks": ""
             }
            },
            "type": "parcoords"
           }
          ],
          "pie": [
           {
            "automargin": true,
            "type": "pie"
           }
          ],
          "scatter": [
           {
            "fillpattern": {
             "fillmode": "overlay",
             "size": 10,
             "solidity": 0.2
            },
            "type": "scatter"
           }
          ],
          "scatter3d": [
           {
            "line": {
             "colorbar": {
              "outlinewidth": 0,
              "ticks": ""
             }
            },
            "marker": {
             "colorbar": {
              "outlinewidth": 0,
              "ticks": ""
             }
            },
            "type": "scatter3d"
           }
          ],
          "scattercarpet": [
           {
            "marker": {
             "colorbar": {
              "outlinewidth": 0,
              "ticks": ""
             }
            },
            "type": "scattercarpet"
           }
          ],
          "scattergeo": [
           {
            "marker": {
             "colorbar": {
              "outlinewidth": 0,
              "ticks": ""
             }
            },
            "type": "scattergeo"
           }
          ],
          "scattergl": [
           {
            "marker": {
             "colorbar": {
              "outlinewidth": 0,
              "ticks": ""
             }
            },
            "type": "scattergl"
           }
          ],
          "scattermapbox": [
           {
            "marker": {
             "colorbar": {
              "outlinewidth": 0,
              "ticks": ""
             }
            },
            "type": "scattermapbox"
           }
          ],
          "scatterpolar": [
           {
            "marker": {
             "colorbar": {
              "outlinewidth": 0,
              "ticks": ""
             }
            },
            "type": "scatterpolar"
           }
          ],
          "scatterpolargl": [
           {
            "marker": {
             "colorbar": {
              "outlinewidth": 0,
              "ticks": ""
             }
            },
            "type": "scatterpolargl"
           }
          ],
          "scatterternary": [
           {
            "marker": {
             "colorbar": {
              "outlinewidth": 0,
              "ticks": ""
             }
            },
            "type": "scatterternary"
           }
          ],
          "surface": [
           {
            "colorbar": {
             "outlinewidth": 0,
             "ticks": ""
            },
            "colorscale": [
             [
              0,
              "#0d0887"
             ],
             [
              0.1111111111111111,
              "#46039f"
             ],
             [
              0.2222222222222222,
              "#7201a8"
             ],
             [
              0.3333333333333333,
              "#9c179e"
             ],
             [
              0.4444444444444444,
              "#bd3786"
             ],
             [
              0.5555555555555556,
              "#d8576b"
             ],
             [
              0.6666666666666666,
              "#ed7953"
             ],
             [
              0.7777777777777778,
              "#fb9f3a"
             ],
             [
              0.8888888888888888,
              "#fdca26"
             ],
             [
              1,
              "#f0f921"
             ]
            ],
            "type": "surface"
           }
          ],
          "table": [
           {
            "cells": {
             "fill": {
              "color": "#EBF0F8"
             },
             "line": {
              "color": "white"
             }
            },
            "header": {
             "fill": {
              "color": "#C8D4E3"
             },
             "line": {
              "color": "white"
             }
            },
            "type": "table"
           }
          ]
         },
         "layout": {
          "annotationdefaults": {
           "arrowcolor": "#2a3f5f",
           "arrowhead": 0,
           "arrowwidth": 1
          },
          "autotypenumbers": "strict",
          "coloraxis": {
           "colorbar": {
            "outlinewidth": 0,
            "ticks": ""
           }
          },
          "colorscale": {
           "diverging": [
            [
             0,
             "#8e0152"
            ],
            [
             0.1,
             "#c51b7d"
            ],
            [
             0.2,
             "#de77ae"
            ],
            [
             0.3,
             "#f1b6da"
            ],
            [
             0.4,
             "#fde0ef"
            ],
            [
             0.5,
             "#f7f7f7"
            ],
            [
             0.6,
             "#e6f5d0"
            ],
            [
             0.7,
             "#b8e186"
            ],
            [
             0.8,
             "#7fbc41"
            ],
            [
             0.9,
             "#4d9221"
            ],
            [
             1,
             "#276419"
            ]
           ],
           "sequential": [
            [
             0,
             "#0d0887"
            ],
            [
             0.1111111111111111,
             "#46039f"
            ],
            [
             0.2222222222222222,
             "#7201a8"
            ],
            [
             0.3333333333333333,
             "#9c179e"
            ],
            [
             0.4444444444444444,
             "#bd3786"
            ],
            [
             0.5555555555555556,
             "#d8576b"
            ],
            [
             0.6666666666666666,
             "#ed7953"
            ],
            [
             0.7777777777777778,
             "#fb9f3a"
            ],
            [
             0.8888888888888888,
             "#fdca26"
            ],
            [
             1,
             "#f0f921"
            ]
           ],
           "sequentialminus": [
            [
             0,
             "#0d0887"
            ],
            [
             0.1111111111111111,
             "#46039f"
            ],
            [
             0.2222222222222222,
             "#7201a8"
            ],
            [
             0.3333333333333333,
             "#9c179e"
            ],
            [
             0.4444444444444444,
             "#bd3786"
            ],
            [
             0.5555555555555556,
             "#d8576b"
            ],
            [
             0.6666666666666666,
             "#ed7953"
            ],
            [
             0.7777777777777778,
             "#fb9f3a"
            ],
            [
             0.8888888888888888,
             "#fdca26"
            ],
            [
             1,
             "#f0f921"
            ]
           ]
          },
          "colorway": [
           "#636efa",
           "#EF553B",
           "#00cc96",
           "#ab63fa",
           "#FFA15A",
           "#19d3f3",
           "#FF6692",
           "#B6E880",
           "#FF97FF",
           "#FECB52"
          ],
          "font": {
           "color": "#2a3f5f"
          },
          "geo": {
           "bgcolor": "white",
           "lakecolor": "white",
           "landcolor": "#E5ECF6",
           "showlakes": true,
           "showland": true,
           "subunitcolor": "white"
          },
          "hoverlabel": {
           "align": "left"
          },
          "hovermode": "closest",
          "mapbox": {
           "style": "light"
          },
          "paper_bgcolor": "white",
          "plot_bgcolor": "#E5ECF6",
          "polar": {
           "angularaxis": {
            "gridcolor": "white",
            "linecolor": "white",
            "ticks": ""
           },
           "bgcolor": "#E5ECF6",
           "radialaxis": {
            "gridcolor": "white",
            "linecolor": "white",
            "ticks": ""
           }
          },
          "scene": {
           "xaxis": {
            "backgroundcolor": "#E5ECF6",
            "gridcolor": "white",
            "gridwidth": 2,
            "linecolor": "white",
            "showbackground": true,
            "ticks": "",
            "zerolinecolor": "white"
           },
           "yaxis": {
            "backgroundcolor": "#E5ECF6",
            "gridcolor": "white",
            "gridwidth": 2,
            "linecolor": "white",
            "showbackground": true,
            "ticks": "",
            "zerolinecolor": "white"
           },
           "zaxis": {
            "backgroundcolor": "#E5ECF6",
            "gridcolor": "white",
            "gridwidth": 2,
            "linecolor": "white",
            "showbackground": true,
            "ticks": "",
            "zerolinecolor": "white"
           }
          },
          "shapedefaults": {
           "line": {
            "color": "#2a3f5f"
           }
          },
          "ternary": {
           "aaxis": {
            "gridcolor": "white",
            "linecolor": "white",
            "ticks": ""
           },
           "baxis": {
            "gridcolor": "white",
            "linecolor": "white",
            "ticks": ""
           },
           "bgcolor": "#E5ECF6",
           "caxis": {
            "gridcolor": "white",
            "linecolor": "white",
            "ticks": ""
           }
          },
          "title": {
           "x": 0.05
          },
          "xaxis": {
           "automargin": true,
           "gridcolor": "white",
           "linecolor": "white",
           "ticks": "",
           "title": {
            "standoff": 15
           },
           "zerolinecolor": "white",
           "zerolinewidth": 2
          },
          "yaxis": {
           "automargin": true,
           "gridcolor": "white",
           "linecolor": "white",
           "ticks": "",
           "title": {
            "standoff": 15
           },
           "zerolinecolor": "white",
           "zerolinewidth": 2
          }
         }
        },
        "title": {
         "text": "Year"
        },
        "xaxis": {
         "anchor": "y",
         "domain": [
          0,
          1
         ],
         "title": {
          "text": "value"
         }
        },
        "yaxis": {
         "anchor": "x",
         "domain": [
          0,
          1
         ],
         "title": {
          "text": "count"
         }
        }
       }
      }
     },
     "metadata": {},
     "output_type": "display_data"
    },
    {
     "data": {
      "application/vnd.plotly.v1+json": {
       "config": {
        "plotlyServerURL": "https://plot.ly"
       },
       "data": [
        {
         "alignmentgroup": "True",
         "bingroup": "x",
         "hovertemplate": "variable=Deaths<br>value=%{x}<br>count=%{y}<extra></extra>",
         "legendgroup": "Deaths",
         "marker": {
          "color": "#636efa",
          "pattern": {
           "shape": ""
          }
         },
         "name": "Deaths",
         "offsetgroup": "Deaths",
         "orientation": "v",
         "showlegend": true,
         "type": "histogram",
         "x": [
          204,
          418,
          26,
          618,
          267,
          124,
          166,
          56,
          132,
          395,
          292,
          240,
          1840,
          142,
          134,
          252,
          1354,
          15,
          1563,
          1680,
          248,
          165,
          68,
          56,
          272,
          60,
          20,
          73,
          30,
          4495,
          622,
          969,
          13,
          227,
          14,
          473,
          39,
          2034,
          1069,
          5168,
          237,
          71,
          182,
          307,
          107,
          1013,
          137,
          281,
          84,
          2194,
          88,
          258,
          29,
          71,
          87,
          1327,
          1918,
          633,
          57,
          168,
          83,
          276,
          136,
          279,
          108,
          3184,
          271,
          437,
          147,
          30,
          61,
          1193,
          1375,
          163,
          102,
          94,
          410,
          219,
          2269,
          1195,
          245,
          145,
          188,
          390,
          186,
          285,
          53,
          93,
          119,
          7050,
          129,
          199,
          1097,
          2068,
          271,
          49,
          258,
          36,
          6297,
          221,
          42,
          179,
          4535,
          227,
          1341,
          2316,
          229,
          3187,
          29,
          168,
          140,
          27,
          227,
          195,
          164,
          235,
          2445,
          245,
          249,
          156,
          191,
          88,
          4085,
          55,
          272,
          1251,
          1473,
          379,
          192,
          29,
          988,
          162,
          285,
          1818,
          1824,
          63,
          215,
          333,
          279,
          196,
          530,
          143,
          19,
          46,
          30,
          145,
          135,
          98,
          155,
          189,
          352,
          220,
          2365,
          1057,
          1230,
          31,
          75,
          1349,
          550,
          254,
          166,
          2595,
          231,
          3132,
          75,
          467,
          31,
          120,
          382,
          73,
          17,
          72,
          148,
          384,
          14,
          50,
          265,
          61,
          194,
          290,
          1230,
          39,
          220,
          83,
          3142,
          34,
          63,
          107,
          169,
          187,
          1684,
          180,
          123,
          2722,
          89,
          116,
          225,
          37,
          183,
          451,
          152,
          56,
          206,
          107,
          76,
          103,
          156,
          169,
          142,
          1149,
          208,
          118,
          170,
          79,
          1216,
          126,
          329,
          105,
          48,
          327,
          233,
          885,
          218,
          356,
          1536,
          1868,
          60,
          149,
          196,
          314,
          222,
          171,
          84,
          221,
          1307,
          68,
          277,
          22,
          228,
          462,
          286,
          14,
          64,
          1144,
          114,
          452,
          156,
          200,
          456,
          200,
          58,
          1067,
          5503,
          273,
          199,
          388,
          201,
          576,
          2578,
          286,
          25,
          228,
          395,
          137,
          30,
          147,
          89,
          58,
          437,
          142,
          507,
          242,
          131,
          1800,
          266,
          3408,
          428,
          163,
          1337,
          2275,
          48,
          13,
          1316,
          3366,
          4220,
          87,
          164,
          4507,
          51,
          409,
          563,
          214,
          621,
          191,
          209,
          227,
          5632,
          243,
          1046,
          205,
          246,
          292,
          148,
          30,
          122,
          191,
          65,
          3518,
          696,
          540,
          24,
          277,
          90,
          255,
          1592,
          26,
          113,
          300,
          295,
          1305,
          89,
          43,
          218,
          186,
          318,
          416,
          275,
          104,
          206,
          200,
          116,
          279,
          3222,
          86,
          502,
          2015,
          1735,
          18,
          1382,
          78,
          46,
          1109,
          90,
          96,
          4156,
          274,
          1348,
          274,
          177,
          1263,
          1261,
          220,
          3438,
          95,
          83,
          191,
          158,
          199,
          371,
          184,
          205,
          2293,
          205,
          60,
          214,
          35,
          91,
          380,
          469,
          399,
          204,
          151,
          149,
          79,
          221,
          515,
          526,
          1706,
          58,
          295,
          63,
          271,
          2725,
          80,
          202,
          1080,
          554,
          66,
          54,
          377,
          143,
          458,
          240,
          546,
          510,
          1085,
          472,
          22,
          258,
          123,
          190,
          3356,
          299,
          177,
          211,
          216,
          398,
          1268,
          25,
          33,
          146,
          183,
          410,
          186,
          47,
          358,
          134,
          297,
          95,
          16,
          6836,
          267,
          394,
          1912,
          424,
          1749,
          646,
          340,
          156,
          2077,
          135,
          191,
          1557,
          167,
          184,
          478,
          1125,
          222,
          414,
          2282,
          629,
          165,
          308,
          521,
          132,
          47,
          1199,
          90,
          60,
          199,
          151,
          112,
          173,
          223,
          247,
          215,
          152,
          518,
          502,
          1146,
          107,
          172,
          204,
          1445,
          126,
          3256,
          3371,
          148,
          3236,
          153,
          444,
          238,
          659,
          1483,
          238,
          227,
          1326,
          554,
          36,
          46,
          102,
          154,
          466,
          149,
          1007,
          1246,
          52,
          2243,
          1768,
          286,
          113,
          1523,
          4719,
          55,
          147,
          83,
          614,
          53,
          50,
          22,
          1207,
          197,
          344,
          158,
          461,
          172,
          18,
          192,
          144,
          80,
          221,
          207,
          2140,
          496,
          657,
          86,
          191,
          92,
          3346,
          186,
          170,
          49,
          155,
          218,
          1045,
          189,
          78,
          281,
          210,
          272,
          188,
          54,
          245,
          427,
          32,
          18,
          70,
          57,
          402,
          193,
          40,
          56,
          155,
          50,
          285,
          21,
          1540,
          320,
          555,
          35,
          308,
          51,
          163,
          820,
          707,
          115,
          1320,
          71,
          204,
          39,
          1146,
          37,
          220,
          528,
          106,
          398,
          150,
          1082,
          33,
          187,
          253,
          200,
          28,
          143,
          187,
          193,
          70,
          71,
          506,
          529,
          372,
          1180,
          145,
          154,
          263,
          34,
          152,
          51,
          28,
          83,
          209,
          246,
          622,
          1163,
          265,
          33,
          229,
          204,
          235,
          74,
          5016,
          178,
          384,
          318,
          213,
          267,
          231,
          1958,
          90,
          71,
          345,
          207,
          290,
          177,
          159,
          36,
          17,
          18,
          1532,
          222,
          222,
          1135,
          2121,
          1154,
          96,
          209,
          1940,
          176,
          1126,
          347,
          184,
          32,
          775,
          2535,
          276,
          206,
          261,
          196,
          79,
          266,
          76,
          3361,
          74,
          258,
          26,
          101,
          174,
          2444,
          1201,
          1167,
          228,
          1852,
          2165,
          103,
          169,
          154,
          297,
          3153,
          531,
          448,
          238,
          1557,
          1025,
          1281,
          1590,
          501,
          175,
          17,
          64,
          339,
          28,
          1418,
          70,
          1330,
          3990,
          41,
          43,
          402,
          271,
          242,
          153,
          162,
          259,
          180,
          1784,
          182,
          76,
          61,
          5351,
          1230,
          123,
          154,
          102,
          132,
          219,
          70,
          66,
          158,
          178,
          138,
          189,
          56,
          109,
          278,
          111,
          1756,
          1464,
          55,
          1603,
          1164,
          423,
          245,
          182,
          182,
          174,
          171,
          170,
          135,
          1395,
          731,
          671,
          105,
          92,
          80,
          76,
          56,
          52,
          48,
          41,
          549,
          4034,
          2785,
          418,
          373,
          342,
          272,
          266,
          248,
          194,
          181,
          2366,
          2315,
          1421,
          377,
          294,
          228,
          211,
          210,
          185,
          156,
          150,
          1507,
          66,
          32,
          9,
          9,
          8,
          5,
          5,
          4,
          4,
          4,
          4,
          4,
          27,
          19,
          15,
          6,
          5,
          3,
          3,
          2,
          2,
          2,
          1,
          1,
          1,
          1,
          1,
          1,
          1,
          1,
          1,
          1,
          10,
          193,
          75,
          34,
          22,
          17,
          15,
          14,
          14,
          14,
          14,
          125,
          1574,
          1182,
          249,
          231,
          214,
          178,
          156,
          151,
          104,
          98,
          1279,
          623,
          582,
          110,
          78,
          67,
          66,
          50,
          40,
          40,
          40,
          401,
          4001,
          2655,
          480,
          390,
          341,
          308,
          228,
          197,
          167,
          125,
          2264,
          2483,
          1753,
          383,
          316,
          290,
          242,
          227,
          171,
          120,
          96,
          1578,
          39,
          35,
          14,
          9,
          5,
          3,
          3,
          3,
          3,
          2,
          2,
          2,
          2,
          28,
          30,
          17,
          5,
          3,
          2,
          2,
          2,
          2,
          1,
          1,
          1,
          1,
          1,
          1,
          1,
          1,
          1,
          1,
          1,
          17,
          110,
          61,
          15,
          12,
          11,
          10,
          9,
          8,
          7,
          5,
          5,
          64
         ],
         "xaxis": "x",
         "yaxis": "y"
        }
       ],
       "layout": {
        "barmode": "relative",
        "legend": {
         "title": {
          "text": "variable"
         },
         "tracegroupgap": 0
        },
        "template": {
         "data": {
          "bar": [
           {
            "error_x": {
             "color": "#2a3f5f"
            },
            "error_y": {
             "color": "#2a3f5f"
            },
            "marker": {
             "line": {
              "color": "#E5ECF6",
              "width": 0.5
             },
             "pattern": {
              "fillmode": "overlay",
              "size": 10,
              "solidity": 0.2
             }
            },
            "type": "bar"
           }
          ],
          "barpolar": [
           {
            "marker": {
             "line": {
              "color": "#E5ECF6",
              "width": 0.5
             },
             "pattern": {
              "fillmode": "overlay",
              "size": 10,
              "solidity": 0.2
             }
            },
            "type": "barpolar"
           }
          ],
          "carpet": [
           {
            "aaxis": {
             "endlinecolor": "#2a3f5f",
             "gridcolor": "white",
             "linecolor": "white",
             "minorgridcolor": "white",
             "startlinecolor": "#2a3f5f"
            },
            "baxis": {
             "endlinecolor": "#2a3f5f",
             "gridcolor": "white",
             "linecolor": "white",
             "minorgridcolor": "white",
             "startlinecolor": "#2a3f5f"
            },
            "type": "carpet"
           }
          ],
          "choropleth": [
           {
            "colorbar": {
             "outlinewidth": 0,
             "ticks": ""
            },
            "type": "choropleth"
           }
          ],
          "contour": [
           {
            "colorbar": {
             "outlinewidth": 0,
             "ticks": ""
            },
            "colorscale": [
             [
              0,
              "#0d0887"
             ],
             [
              0.1111111111111111,
              "#46039f"
             ],
             [
              0.2222222222222222,
              "#7201a8"
             ],
             [
              0.3333333333333333,
              "#9c179e"
             ],
             [
              0.4444444444444444,
              "#bd3786"
             ],
             [
              0.5555555555555556,
              "#d8576b"
             ],
             [
              0.6666666666666666,
              "#ed7953"
             ],
             [
              0.7777777777777778,
              "#fb9f3a"
             ],
             [
              0.8888888888888888,
              "#fdca26"
             ],
             [
              1,
              "#f0f921"
             ]
            ],
            "type": "contour"
           }
          ],
          "contourcarpet": [
           {
            "colorbar": {
             "outlinewidth": 0,
             "ticks": ""
            },
            "type": "contourcarpet"
           }
          ],
          "heatmap": [
           {
            "colorbar": {
             "outlinewidth": 0,
             "ticks": ""
            },
            "colorscale": [
             [
              0,
              "#0d0887"
             ],
             [
              0.1111111111111111,
              "#46039f"
             ],
             [
              0.2222222222222222,
              "#7201a8"
             ],
             [
              0.3333333333333333,
              "#9c179e"
             ],
             [
              0.4444444444444444,
              "#bd3786"
             ],
             [
              0.5555555555555556,
              "#d8576b"
             ],
             [
              0.6666666666666666,
              "#ed7953"
             ],
             [
              0.7777777777777778,
              "#fb9f3a"
             ],
             [
              0.8888888888888888,
              "#fdca26"
             ],
             [
              1,
              "#f0f921"
             ]
            ],
            "type": "heatmap"
           }
          ],
          "heatmapgl": [
           {
            "colorbar": {
             "outlinewidth": 0,
             "ticks": ""
            },
            "colorscale": [
             [
              0,
              "#0d0887"
             ],
             [
              0.1111111111111111,
              "#46039f"
             ],
             [
              0.2222222222222222,
              "#7201a8"
             ],
             [
              0.3333333333333333,
              "#9c179e"
             ],
             [
              0.4444444444444444,
              "#bd3786"
             ],
             [
              0.5555555555555556,
              "#d8576b"
             ],
             [
              0.6666666666666666,
              "#ed7953"
             ],
             [
              0.7777777777777778,
              "#fb9f3a"
             ],
             [
              0.8888888888888888,
              "#fdca26"
             ],
             [
              1,
              "#f0f921"
             ]
            ],
            "type": "heatmapgl"
           }
          ],
          "histogram": [
           {
            "marker": {
             "pattern": {
              "fillmode": "overlay",
              "size": 10,
              "solidity": 0.2
             }
            },
            "type": "histogram"
           }
          ],
          "histogram2d": [
           {
            "colorbar": {
             "outlinewidth": 0,
             "ticks": ""
            },
            "colorscale": [
             [
              0,
              "#0d0887"
             ],
             [
              0.1111111111111111,
              "#46039f"
             ],
             [
              0.2222222222222222,
              "#7201a8"
             ],
             [
              0.3333333333333333,
              "#9c179e"
             ],
             [
              0.4444444444444444,
              "#bd3786"
             ],
             [
              0.5555555555555556,
              "#d8576b"
             ],
             [
              0.6666666666666666,
              "#ed7953"
             ],
             [
              0.7777777777777778,
              "#fb9f3a"
             ],
             [
              0.8888888888888888,
              "#fdca26"
             ],
             [
              1,
              "#f0f921"
             ]
            ],
            "type": "histogram2d"
           }
          ],
          "histogram2dcontour": [
           {
            "colorbar": {
             "outlinewidth": 0,
             "ticks": ""
            },
            "colorscale": [
             [
              0,
              "#0d0887"
             ],
             [
              0.1111111111111111,
              "#46039f"
             ],
             [
              0.2222222222222222,
              "#7201a8"
             ],
             [
              0.3333333333333333,
              "#9c179e"
             ],
             [
              0.4444444444444444,
              "#bd3786"
             ],
             [
              0.5555555555555556,
              "#d8576b"
             ],
             [
              0.6666666666666666,
              "#ed7953"
             ],
             [
              0.7777777777777778,
              "#fb9f3a"
             ],
             [
              0.8888888888888888,
              "#fdca26"
             ],
             [
              1,
              "#f0f921"
             ]
            ],
            "type": "histogram2dcontour"
           }
          ],
          "mesh3d": [
           {
            "colorbar": {
             "outlinewidth": 0,
             "ticks": ""
            },
            "type": "mesh3d"
           }
          ],
          "parcoords": [
           {
            "line": {
             "colorbar": {
              "outlinewidth": 0,
              "ticks": ""
             }
            },
            "type": "parcoords"
           }
          ],
          "pie": [
           {
            "automargin": true,
            "type": "pie"
           }
          ],
          "scatter": [
           {
            "fillpattern": {
             "fillmode": "overlay",
             "size": 10,
             "solidity": 0.2
            },
            "type": "scatter"
           }
          ],
          "scatter3d": [
           {
            "line": {
             "colorbar": {
              "outlinewidth": 0,
              "ticks": ""
             }
            },
            "marker": {
             "colorbar": {
              "outlinewidth": 0,
              "ticks": ""
             }
            },
            "type": "scatter3d"
           }
          ],
          "scattercarpet": [
           {
            "marker": {
             "colorbar": {
              "outlinewidth": 0,
              "ticks": ""
             }
            },
            "type": "scattercarpet"
           }
          ],
          "scattergeo": [
           {
            "marker": {
             "colorbar": {
              "outlinewidth": 0,
              "ticks": ""
             }
            },
            "type": "scattergeo"
           }
          ],
          "scattergl": [
           {
            "marker": {
             "colorbar": {
              "outlinewidth": 0,
              "ticks": ""
             }
            },
            "type": "scattergl"
           }
          ],
          "scattermapbox": [
           {
            "marker": {
             "colorbar": {
              "outlinewidth": 0,
              "ticks": ""
             }
            },
            "type": "scattermapbox"
           }
          ],
          "scatterpolar": [
           {
            "marker": {
             "colorbar": {
              "outlinewidth": 0,
              "ticks": ""
             }
            },
            "type": "scatterpolar"
           }
          ],
          "scatterpolargl": [
           {
            "marker": {
             "colorbar": {
              "outlinewidth": 0,
              "ticks": ""
             }
            },
            "type": "scatterpolargl"
           }
          ],
          "scatterternary": [
           {
            "marker": {
             "colorbar": {
              "outlinewidth": 0,
              "ticks": ""
             }
            },
            "type": "scatterternary"
           }
          ],
          "surface": [
           {
            "colorbar": {
             "outlinewidth": 0,
             "ticks": ""
            },
            "colorscale": [
             [
              0,
              "#0d0887"
             ],
             [
              0.1111111111111111,
              "#46039f"
             ],
             [
              0.2222222222222222,
              "#7201a8"
             ],
             [
              0.3333333333333333,
              "#9c179e"
             ],
             [
              0.4444444444444444,
              "#bd3786"
             ],
             [
              0.5555555555555556,
              "#d8576b"
             ],
             [
              0.6666666666666666,
              "#ed7953"
             ],
             [
              0.7777777777777778,
              "#fb9f3a"
             ],
             [
              0.8888888888888888,
              "#fdca26"
             ],
             [
              1,
              "#f0f921"
             ]
            ],
            "type": "surface"
           }
          ],
          "table": [
           {
            "cells": {
             "fill": {
              "color": "#EBF0F8"
             },
             "line": {
              "color": "white"
             }
            },
            "header": {
             "fill": {
              "color": "#C8D4E3"
             },
             "line": {
              "color": "white"
             }
            },
            "type": "table"
           }
          ]
         },
         "layout": {
          "annotationdefaults": {
           "arrowcolor": "#2a3f5f",
           "arrowhead": 0,
           "arrowwidth": 1
          },
          "autotypenumbers": "strict",
          "coloraxis": {
           "colorbar": {
            "outlinewidth": 0,
            "ticks": ""
           }
          },
          "colorscale": {
           "diverging": [
            [
             0,
             "#8e0152"
            ],
            [
             0.1,
             "#c51b7d"
            ],
            [
             0.2,
             "#de77ae"
            ],
            [
             0.3,
             "#f1b6da"
            ],
            [
             0.4,
             "#fde0ef"
            ],
            [
             0.5,
             "#f7f7f7"
            ],
            [
             0.6,
             "#e6f5d0"
            ],
            [
             0.7,
             "#b8e186"
            ],
            [
             0.8,
             "#7fbc41"
            ],
            [
             0.9,
             "#4d9221"
            ],
            [
             1,
             "#276419"
            ]
           ],
           "sequential": [
            [
             0,
             "#0d0887"
            ],
            [
             0.1111111111111111,
             "#46039f"
            ],
            [
             0.2222222222222222,
             "#7201a8"
            ],
            [
             0.3333333333333333,
             "#9c179e"
            ],
            [
             0.4444444444444444,
             "#bd3786"
            ],
            [
             0.5555555555555556,
             "#d8576b"
            ],
            [
             0.6666666666666666,
             "#ed7953"
            ],
            [
             0.7777777777777778,
             "#fb9f3a"
            ],
            [
             0.8888888888888888,
             "#fdca26"
            ],
            [
             1,
             "#f0f921"
            ]
           ],
           "sequentialminus": [
            [
             0,
             "#0d0887"
            ],
            [
             0.1111111111111111,
             "#46039f"
            ],
            [
             0.2222222222222222,
             "#7201a8"
            ],
            [
             0.3333333333333333,
             "#9c179e"
            ],
            [
             0.4444444444444444,
             "#bd3786"
            ],
            [
             0.5555555555555556,
             "#d8576b"
            ],
            [
             0.6666666666666666,
             "#ed7953"
            ],
            [
             0.7777777777777778,
             "#fb9f3a"
            ],
            [
             0.8888888888888888,
             "#fdca26"
            ],
            [
             1,
             "#f0f921"
            ]
           ]
          },
          "colorway": [
           "#636efa",
           "#EF553B",
           "#00cc96",
           "#ab63fa",
           "#FFA15A",
           "#19d3f3",
           "#FF6692",
           "#B6E880",
           "#FF97FF",
           "#FECB52"
          ],
          "font": {
           "color": "#2a3f5f"
          },
          "geo": {
           "bgcolor": "white",
           "lakecolor": "white",
           "landcolor": "#E5ECF6",
           "showlakes": true,
           "showland": true,
           "subunitcolor": "white"
          },
          "hoverlabel": {
           "align": "left"
          },
          "hovermode": "closest",
          "mapbox": {
           "style": "light"
          },
          "paper_bgcolor": "white",
          "plot_bgcolor": "#E5ECF6",
          "polar": {
           "angularaxis": {
            "gridcolor": "white",
            "linecolor": "white",
            "ticks": ""
           },
           "bgcolor": "#E5ECF6",
           "radialaxis": {
            "gridcolor": "white",
            "linecolor": "white",
            "ticks": ""
           }
          },
          "scene": {
           "xaxis": {
            "backgroundcolor": "#E5ECF6",
            "gridcolor": "white",
            "gridwidth": 2,
            "linecolor": "white",
            "showbackground": true,
            "ticks": "",
            "zerolinecolor": "white"
           },
           "yaxis": {
            "backgroundcolor": "#E5ECF6",
            "gridcolor": "white",
            "gridwidth": 2,
            "linecolor": "white",
            "showbackground": true,
            "ticks": "",
            "zerolinecolor": "white"
           },
           "zaxis": {
            "backgroundcolor": "#E5ECF6",
            "gridcolor": "white",
            "gridwidth": 2,
            "linecolor": "white",
            "showbackground": true,
            "ticks": "",
            "zerolinecolor": "white"
           }
          },
          "shapedefaults": {
           "line": {
            "color": "#2a3f5f"
           }
          },
          "ternary": {
           "aaxis": {
            "gridcolor": "white",
            "linecolor": "white",
            "ticks": ""
           },
           "baxis": {
            "gridcolor": "white",
            "linecolor": "white",
            "ticks": ""
           },
           "bgcolor": "#E5ECF6",
           "caxis": {
            "gridcolor": "white",
            "linecolor": "white",
            "ticks": ""
           }
          },
          "title": {
           "x": 0.05
          },
          "xaxis": {
           "automargin": true,
           "gridcolor": "white",
           "linecolor": "white",
           "ticks": "",
           "title": {
            "standoff": 15
           },
           "zerolinecolor": "white",
           "zerolinewidth": 2
          },
          "yaxis": {
           "automargin": true,
           "gridcolor": "white",
           "linecolor": "white",
           "ticks": "",
           "title": {
            "standoff": 15
           },
           "zerolinecolor": "white",
           "zerolinewidth": 2
          }
         }
        },
        "title": {
         "text": "Deaths"
        },
        "xaxis": {
         "anchor": "y",
         "domain": [
          0,
          1
         ],
         "title": {
          "text": "value"
         }
        },
        "yaxis": {
         "anchor": "x",
         "domain": [
          0,
          1
         ],
         "title": {
          "text": "count"
         }
        }
       }
      }
     },
     "metadata": {},
     "output_type": "display_data"
    },
    {
     "data": {
      "application/vnd.plotly.v1+json": {
       "config": {
        "plotlyServerURL": "https://plot.ly"
       },
       "data": [
        {
         "alignmentgroup": "True",
         "bingroup": "x",
         "hovertemplate": "variable=Death Rate<br>value=%{x}<br>count=%{y}<extra></extra>",
         "legendgroup": "Death Rate",
         "marker": {
          "color": "#636efa",
          "pattern": {
           "shape": ""
          }
         },
         "name": "Death Rate",
         "offsetgroup": "Death Rate",
         "orientation": "v",
         "showlegend": true,
         "type": "histogram",
         "x": [
          16.3,
          29.5,
          5.1,
          45.9,
          31.3,
          11.2,
          15.8,
          10.4,
          11.3,
          71.3,
          21.8,
          23,
          215.7,
          11.2,
          15.8,
          24,
          118.5,
          2.5,
          182.7,
          117.1,
          23.6,
          13.8,
          5.8,
          4.6,
          20.4,
          4.8,
          3.7,
          13.8,
          5.5,
          335.1,
          43.7,
          83,
          2.4,
          16.9,
          2.5,
          95,
          6.7,
          151.6,
          96.7,
          384.2,
          17.7,
          6.1,
          35.3,
          36,
          7.5,
          92.9,
          16.1,
          26.8,
          7,
          209.1,
          8.4,
          24.7,
          5.2,
          12.4,
          8.3,
          121.7,
          183.2,
          114.2,
          9.8,
          13.5,
          7.9,
          20.6,
          13,
          32.8,
          20.7,
          237.7,
          25.9,
          72.8,
          12.8,
          5.8,
          11.7,
          101,
          159.3,
          19.1,
          18.4,
          17.8,
          39.2,
          18,
          217.1,
          100.1,
          18.3,
          12.9,
          18,
          27.1,
          21.5,
          21.3,
          11,
          8.9,
          10.6,
          491.4,
          11,
          14.9,
          91.6,
          243.5,
          20.1,
          9.3,
          18,
          6.8,
          438.3,
          45.7,
          6.7,
          14.6,
          319,
          16.9,
          156.3,
          172.9,
          15.9,
          224.2,
          5.6,
          13.8,
          12.3,
          4.5,
          21.7,
          14.5,
          13.7,
          27.5,
          172.6,
          23.4,
          18.5,
          11.6,
          22.3,
          6.2,
          303.5,
          10.2,
          20.3,
          107.1,
          140.7,
          26.4,
          16.3,
          4.6,
          90.6,
          14.1,
          27.3,
          135.1,
          135.9,
          11.4,
          15,
          61.6,
          26.5,
          16,
          39.6,
          12.2,
          3.6,
          9.2,
          5.6,
          12.6,
          15.8,
          17.2,
          10.8,
          16.5,
          26.3,
          40.1,
          226.4,
          92.5,
          116.8,
          6.2,
          7.2,
          112.7,
          104.1,
          19,
          11.7,
          182.5,
          16.3,
          232.7,
          5.2,
          77.8,
          5.4,
          9.6,
          26.7,
          13.7,
          3,
          13,
          11,
          36.6,
          2.8,
          8.3,
          19.7,
          11.1,
          16.6,
          21.6,
          97.1,
          6.7,
          17.4,
          6.8,
          234,
          5.8,
          5,
          7.5,
          19.9,
          16.9,
          117.2,
          12.7,
          10.7,
          258.6,
          8.5,
          9.2,
          21.5,
          6.7,
          16.8,
          79.1,
          12.9,
          11.6,
          14.5,
          9.8,
          14.1,
          8.8,
          12.7,
          13.6,
          12,
          92.1,
          19.9,
          8.3,
          15.1,
          6.5,
          143.2,
          11.6,
          38.7,
          18.3,
          9.4,
          56,
          19.7,
          74.9,
          17.8,
          41.9,
          146.4,
          217.7,
          11.4,
          13,
          17.5,
          23.4,
          26.1,
          20.1,
          16.5,
          21.1,
          110.7,
          11.9,
          20.6,
          3.8,
          18.7,
          73.8,
          21.2,
          2.8,
          12.3,
          99.2,
          10.5,
          85.5,
          12.8,
          17.3,
          85.6,
          16.1,
          11.3,
          95,
          410,
          26.1,
          16.7,
          28.9,
          23.6,
          40.6,
          181.9,
          33.7,
          5.2,
          19.3,
          76.7,
          16.1,
          5.3,
          17.3,
          15.8,
          11.4,
          32.5,
          10.6,
          35.7,
          28.3,
          15.4,
          171,
          25.3,
          254.1,
          83.1,
          11.4,
          156.7,
          169.4,
          9.6,
          2.5,
          108.1,
          234.5,
          316.4,
          8.3,
          14,
          318,
          10,
          39.1,
          39.7,
          20.5,
          43.3,
          18.2,
          18.1,
          21.7,
          421,
          28.5,
          88.5,
          14.3,
          18.3,
          21.7,
          17.1,
          6,
          10.3,
          16,
          12.2,
          245.2,
          49.1,
          40.3,
          4.2,
          32.5,
          7.3,
          30,
          185.5,
          4.9,
          9.6,
          35,
          28.2,
          124.6,
          6.2,
          7.5,
          20,
          16.8,
          30.4,
          29.3,
          26.2,
          8.8,
          24.3,
          23.4,
          9.9,
          20.7,
          241.6,
          8.2,
          37.4,
          236.7,
          165.7,
          3.5,
          123.1,
          13,
          8.1,
          89.5,
          8.6,
          17.3,
          310.3,
          31.9,
          110,
          26.1,
          13.3,
          102,
          101,
          21,
          240.4,
          7.8,
          15.9,
          17.3,
          13.4,
          14,
          27.6,
          21.5,
          17.6,
          170.3,
          17.5,
          10,
          40.2,
          6.9,
          15.9,
          36.3,
          86.8,
          29.7,
          15.2,
          10.5,
          13.5,
          7.5,
          16.4,
          36.3,
          101,
          118.9,
          4.8,
          28,
          5.3,
          25.9,
          260.1,
          13.3,
          23.7,
          97.7,
          96.5,
          13.6,
          10.4,
          44.2,
          16.7,
          31.9,
          16.9,
          109.6,
          36,
          88.6,
          32.9,
          4.3,
          19.3,
          9.2,
          16.3,
          250.9,
          35.1,
          12.5,
          15.7,
          18,
          72.5,
          121,
          4.4,
          6,
          17.2,
          16.3,
          39.3,
          21.5,
          9.7,
          34,
          15.8,
          22.2,
          16.6,
          2.7,
          476.2,
          20,
          70.1,
          182.9,
          73.9,
          130.7,
          48.4,
          64.3,
          13.2,
          244.6,
          9.5,
          14.2,
          149.1,
          14.5,
          13,
          91.8,
          90.8,
          17.8,
          73.6,
          217.7,
          43.8,
          12.3,
          36,
          36.6,
          11.6,
          8.8,
          102.6,
          8.6,
          4.8,
          14,
          10.5,
          17.9,
          14.8,
          26.1,
          17.3,
          18,
          14.5,
          36.1,
          80.2,
          97.1,
          10.2,
          15.3,
          19.5,
          122.3,
          10.2,
          229.6,
          238,
          17.2,
          240.5,
          11.4,
          33.3,
          16.7,
          45.9,
          141.9,
          47.8,
          19.2,
          126.5,
          108.5,
          5.8,
          8.8,
          9.7,
          18.1,
          32.9,
          12.6,
          82.7,
          146.7,
          10.4,
          214.3,
          168.6,
          21.4,
          8,
          178.7,
          332.7,
          10,
          17.3,
          14.5,
          45.8,
          10.6,
          8,
          4.3,
          104.7,
          22.8,
          64.6,
          12.8,
          78.9,
          15.6,
          3.7,
          18.3,
          13.8,
          12.8,
          17.7,
          19.7,
          149.7,
          102.5,
          114.5,
          6,
          16.3,
          7.7,
          232.9,
          15.6,
          19.9,
          4.2,
          12.9,
          17.2,
          85.9,
          17.3,
          6.7,
          26.8,
          14.6,
          20.3,
          15.9,
          4.4,
          18.3,
          30,
          6,
          3.2,
          5.7,
          4.8,
          68.8,
          15.2,
          7.4,
          4.7,
          18,
          8.7,
          33.6,
          3.7,
          180.9,
          53.3,
          41.3,
          5.8,
          59.2,
          9.1,
          15.5,
          70.2,
          49.4,
          11,
          154.3,
          12.8,
          15.2,
          7.2,
          96,
          7,
          43.1,
          109.1,
          10.1,
          37.9,
          13.1,
          86.7,
          5.6,
          16.4,
          17.9,
          23.4,
          4.9,
          12.7,
          14,
          13.4,
          13,
          5.8,
          99.1,
          39.4,
          25.9,
          105.1,
          12.1,
          12.9,
          18.5,
          6.6,
          17.8,
          8.9,
          5,
          15.1,
          16.9,
          28.9,
          115.1,
          136.5,
          31.2,
          5.9,
          26.9,
          23.8,
          20.6,
          12.7,
          354.1,
          20.9,
          36.7,
          36.8,
          25,
          25.5,
          16.1,
          226.8,
          18.1,
          6.8,
          25.8,
          24.4,
          21.7,
          16.2,
          18.5,
          7.4,
          3.1,
          3.3,
          177.5,
          15.7,
          20.1,
          89.6,
          248.9,
          91.1,
          8,
          16.5,
          226.8,
          14.7,
          96.4,
          25.9,
          21.4,
          6.2,
          64.7,
          242.1,
          19.5,
          19.6,
          19.5,
          22.7,
          15,
          31.2,
          7.3,
          250.4,
          13.2,
          19.2,
          4.2,
          8.2,
          20.3,
          172.3,
          104.2,
          102.1,
          16.1,
          176.5,
          162.3,
          8.3,
          11.9,
          14.1,
          34.9,
          222.5,
          95.8,
          81.6,
          42.3,
          183.4,
          83.7,
          107.3,
          186.4,
          35,
          13,
          3.3,
          5.1,
          54.2,
          4.5,
          121.5,
          13.6,
          120.3,
          297.1,
          7.4,
          8.9,
          70.5,
          20.2,
          28,
          11.4,
          11.3,
          24.7,
          15.6,
          170.8,
          13.6,
          14.1,
          11.5,
          374.2,
          144.5,
          11.7,
          18.1,
          17.5,
          11.9,
          15.3,
          6.7,
          5.2,
          18.5,
          12.4,
          12.1,
          16,
          4.7,
          9.3,
          48.7,
          9.9,
          167.6,
          172.4,
          10.8,
          136.8029917,
          99.3379179,
          36.09960418,
          20.9087542,
          15.5322174,
          15.5322174,
          14.84948257,
          14.59345701,
          14.50811516,
          11.52115027,
          119.0518861,
          124.7523299,
          114.5127406,
          17.91928132,
          15.70070363,
          13.65278577,
          12.97014648,
          9.556950036,
          8.874310748,
          8.191671459,
          6.997052705,
          93.69224232,
          307.7768198,
          212.4835011,
          31.89159908,
          28.45829296,
          26.09312652,
          20.75242811,
          20.29465396,
          18.92133151,
          14.80136417,
          13.80952018,
          180.5156063,
          279.3451137,
          171.4684262,
          45.49162327,
          35.4762261,
          27.51217534,
          25.46082894,
          25.3401615,
          22.32347561,
          18.82411997,
          18.10011536,
          181.8458256,
          null,
          null,
          null,
          null,
          null,
          null,
          null,
          null,
          null,
          null,
          null,
          null,
          null,
          null,
          null,
          null,
          null,
          null,
          null,
          null,
          null,
          null,
          null,
          null,
          null,
          null,
          null,
          null,
          null,
          null,
          null,
          null,
          null,
          237.3748555,
          92.24411483,
          41.81733205,
          27.05827368,
          20.90866603,
          18.44882297,
          17.21890143,
          17.21890143,
          17.21890143,
          17.21890143,
          153.7401914,
          125.7357217,
          94.42161568,
          19.89084797,
          18.45295535,
          17.09494565,
          14.2191604,
          12.46173608,
          12.06232146,
          8.307824053,
          7.828526512,
          102.1702593,
          96.18932777,
          89.85905098,
          16.98366943,
          12.0429656,
          10.34459865,
          10.19020166,
          7.719849741,
          6.175879793,
          6.175879793,
          6.175879793,
          61.91319492,
          291.7699153,
          193.6138778,
          35.00363892,
          28.44045662,
          24.86716848,
          22.46066831,
          16.62672849,
          14.36607681,
          12.17834937,
          9.115530969,
          165.1004969,
          249.0161705,
          175.805617,
          38.41046851,
          31.69114373,
          29.08364456,
          24.26979995,
          22.7654735,
          17.14932145,
          12.03461154,
          9.627689234,
          158.2551418,
          null,
          null,
          null,
          null,
          null,
          null,
          null,
          null,
          null,
          null,
          null,
          null,
          null,
          null,
          null,
          null,
          null,
          null,
          null,
          null,
          null,
          null,
          null,
          null,
          null,
          null,
          null,
          null,
          null,
          null,
          null,
          null,
          null,
          null,
          121.6074291,
          67.43684705,
          16.58283124,
          13.26626499,
          12.16074291,
          11.05522083,
          9.949698745,
          8.844176662,
          7.73865458,
          5.527610414,
          5.527610414,
          70.7534133
         ],
         "xaxis": "x",
         "yaxis": "y"
        }
       ],
       "layout": {
        "barmode": "relative",
        "legend": {
         "title": {
          "text": "variable"
         },
         "tracegroupgap": 0
        },
        "template": {
         "data": {
          "bar": [
           {
            "error_x": {
             "color": "#2a3f5f"
            },
            "error_y": {
             "color": "#2a3f5f"
            },
            "marker": {
             "line": {
              "color": "#E5ECF6",
              "width": 0.5
             },
             "pattern": {
              "fillmode": "overlay",
              "size": 10,
              "solidity": 0.2
             }
            },
            "type": "bar"
           }
          ],
          "barpolar": [
           {
            "marker": {
             "line": {
              "color": "#E5ECF6",
              "width": 0.5
             },
             "pattern": {
              "fillmode": "overlay",
              "size": 10,
              "solidity": 0.2
             }
            },
            "type": "barpolar"
           }
          ],
          "carpet": [
           {
            "aaxis": {
             "endlinecolor": "#2a3f5f",
             "gridcolor": "white",
             "linecolor": "white",
             "minorgridcolor": "white",
             "startlinecolor": "#2a3f5f"
            },
            "baxis": {
             "endlinecolor": "#2a3f5f",
             "gridcolor": "white",
             "linecolor": "white",
             "minorgridcolor": "white",
             "startlinecolor": "#2a3f5f"
            },
            "type": "carpet"
           }
          ],
          "choropleth": [
           {
            "colorbar": {
             "outlinewidth": 0,
             "ticks": ""
            },
            "type": "choropleth"
           }
          ],
          "contour": [
           {
            "colorbar": {
             "outlinewidth": 0,
             "ticks": ""
            },
            "colorscale": [
             [
              0,
              "#0d0887"
             ],
             [
              0.1111111111111111,
              "#46039f"
             ],
             [
              0.2222222222222222,
              "#7201a8"
             ],
             [
              0.3333333333333333,
              "#9c179e"
             ],
             [
              0.4444444444444444,
              "#bd3786"
             ],
             [
              0.5555555555555556,
              "#d8576b"
             ],
             [
              0.6666666666666666,
              "#ed7953"
             ],
             [
              0.7777777777777778,
              "#fb9f3a"
             ],
             [
              0.8888888888888888,
              "#fdca26"
             ],
             [
              1,
              "#f0f921"
             ]
            ],
            "type": "contour"
           }
          ],
          "contourcarpet": [
           {
            "colorbar": {
             "outlinewidth": 0,
             "ticks": ""
            },
            "type": "contourcarpet"
           }
          ],
          "heatmap": [
           {
            "colorbar": {
             "outlinewidth": 0,
             "ticks": ""
            },
            "colorscale": [
             [
              0,
              "#0d0887"
             ],
             [
              0.1111111111111111,
              "#46039f"
             ],
             [
              0.2222222222222222,
              "#7201a8"
             ],
             [
              0.3333333333333333,
              "#9c179e"
             ],
             [
              0.4444444444444444,
              "#bd3786"
             ],
             [
              0.5555555555555556,
              "#d8576b"
             ],
             [
              0.6666666666666666,
              "#ed7953"
             ],
             [
              0.7777777777777778,
              "#fb9f3a"
             ],
             [
              0.8888888888888888,
              "#fdca26"
             ],
             [
              1,
              "#f0f921"
             ]
            ],
            "type": "heatmap"
           }
          ],
          "heatmapgl": [
           {
            "colorbar": {
             "outlinewidth": 0,
             "ticks": ""
            },
            "colorscale": [
             [
              0,
              "#0d0887"
             ],
             [
              0.1111111111111111,
              "#46039f"
             ],
             [
              0.2222222222222222,
              "#7201a8"
             ],
             [
              0.3333333333333333,
              "#9c179e"
             ],
             [
              0.4444444444444444,
              "#bd3786"
             ],
             [
              0.5555555555555556,
              "#d8576b"
             ],
             [
              0.6666666666666666,
              "#ed7953"
             ],
             [
              0.7777777777777778,
              "#fb9f3a"
             ],
             [
              0.8888888888888888,
              "#fdca26"
             ],
             [
              1,
              "#f0f921"
             ]
            ],
            "type": "heatmapgl"
           }
          ],
          "histogram": [
           {
            "marker": {
             "pattern": {
              "fillmode": "overlay",
              "size": 10,
              "solidity": 0.2
             }
            },
            "type": "histogram"
           }
          ],
          "histogram2d": [
           {
            "colorbar": {
             "outlinewidth": 0,
             "ticks": ""
            },
            "colorscale": [
             [
              0,
              "#0d0887"
             ],
             [
              0.1111111111111111,
              "#46039f"
             ],
             [
              0.2222222222222222,
              "#7201a8"
             ],
             [
              0.3333333333333333,
              "#9c179e"
             ],
             [
              0.4444444444444444,
              "#bd3786"
             ],
             [
              0.5555555555555556,
              "#d8576b"
             ],
             [
              0.6666666666666666,
              "#ed7953"
             ],
             [
              0.7777777777777778,
              "#fb9f3a"
             ],
             [
              0.8888888888888888,
              "#fdca26"
             ],
             [
              1,
              "#f0f921"
             ]
            ],
            "type": "histogram2d"
           }
          ],
          "histogram2dcontour": [
           {
            "colorbar": {
             "outlinewidth": 0,
             "ticks": ""
            },
            "colorscale": [
             [
              0,
              "#0d0887"
             ],
             [
              0.1111111111111111,
              "#46039f"
             ],
             [
              0.2222222222222222,
              "#7201a8"
             ],
             [
              0.3333333333333333,
              "#9c179e"
             ],
             [
              0.4444444444444444,
              "#bd3786"
             ],
             [
              0.5555555555555556,
              "#d8576b"
             ],
             [
              0.6666666666666666,
              "#ed7953"
             ],
             [
              0.7777777777777778,
              "#fb9f3a"
             ],
             [
              0.8888888888888888,
              "#fdca26"
             ],
             [
              1,
              "#f0f921"
             ]
            ],
            "type": "histogram2dcontour"
           }
          ],
          "mesh3d": [
           {
            "colorbar": {
             "outlinewidth": 0,
             "ticks": ""
            },
            "type": "mesh3d"
           }
          ],
          "parcoords": [
           {
            "line": {
             "colorbar": {
              "outlinewidth": 0,
              "ticks": ""
             }
            },
            "type": "parcoords"
           }
          ],
          "pie": [
           {
            "automargin": true,
            "type": "pie"
           }
          ],
          "scatter": [
           {
            "fillpattern": {
             "fillmode": "overlay",
             "size": 10,
             "solidity": 0.2
            },
            "type": "scatter"
           }
          ],
          "scatter3d": [
           {
            "line": {
             "colorbar": {
              "outlinewidth": 0,
              "ticks": ""
             }
            },
            "marker": {
             "colorbar": {
              "outlinewidth": 0,
              "ticks": ""
             }
            },
            "type": "scatter3d"
           }
          ],
          "scattercarpet": [
           {
            "marker": {
             "colorbar": {
              "outlinewidth": 0,
              "ticks": ""
             }
            },
            "type": "scattercarpet"
           }
          ],
          "scattergeo": [
           {
            "marker": {
             "colorbar": {
              "outlinewidth": 0,
              "ticks": ""
             }
            },
            "type": "scattergeo"
           }
          ],
          "scattergl": [
           {
            "marker": {
             "colorbar": {
              "outlinewidth": 0,
              "ticks": ""
             }
            },
            "type": "scattergl"
           }
          ],
          "scattermapbox": [
           {
            "marker": {
             "colorbar": {
              "outlinewidth": 0,
              "ticks": ""
             }
            },
            "type": "scattermapbox"
           }
          ],
          "scatterpolar": [
           {
            "marker": {
             "colorbar": {
              "outlinewidth": 0,
              "ticks": ""
             }
            },
            "type": "scatterpolar"
           }
          ],
          "scatterpolargl": [
           {
            "marker": {
             "colorbar": {
              "outlinewidth": 0,
              "ticks": ""
             }
            },
            "type": "scatterpolargl"
           }
          ],
          "scatterternary": [
           {
            "marker": {
             "colorbar": {
              "outlinewidth": 0,
              "ticks": ""
             }
            },
            "type": "scatterternary"
           }
          ],
          "surface": [
           {
            "colorbar": {
             "outlinewidth": 0,
             "ticks": ""
            },
            "colorscale": [
             [
              0,
              "#0d0887"
             ],
             [
              0.1111111111111111,
              "#46039f"
             ],
             [
              0.2222222222222222,
              "#7201a8"
             ],
             [
              0.3333333333333333,
              "#9c179e"
             ],
             [
              0.4444444444444444,
              "#bd3786"
             ],
             [
              0.5555555555555556,
              "#d8576b"
             ],
             [
              0.6666666666666666,
              "#ed7953"
             ],
             [
              0.7777777777777778,
              "#fb9f3a"
             ],
             [
              0.8888888888888888,
              "#fdca26"
             ],
             [
              1,
              "#f0f921"
             ]
            ],
            "type": "surface"
           }
          ],
          "table": [
           {
            "cells": {
             "fill": {
              "color": "#EBF0F8"
             },
             "line": {
              "color": "white"
             }
            },
            "header": {
             "fill": {
              "color": "#C8D4E3"
             },
             "line": {
              "color": "white"
             }
            },
            "type": "table"
           }
          ]
         },
         "layout": {
          "annotationdefaults": {
           "arrowcolor": "#2a3f5f",
           "arrowhead": 0,
           "arrowwidth": 1
          },
          "autotypenumbers": "strict",
          "coloraxis": {
           "colorbar": {
            "outlinewidth": 0,
            "ticks": ""
           }
          },
          "colorscale": {
           "diverging": [
            [
             0,
             "#8e0152"
            ],
            [
             0.1,
             "#c51b7d"
            ],
            [
             0.2,
             "#de77ae"
            ],
            [
             0.3,
             "#f1b6da"
            ],
            [
             0.4,
             "#fde0ef"
            ],
            [
             0.5,
             "#f7f7f7"
            ],
            [
             0.6,
             "#e6f5d0"
            ],
            [
             0.7,
             "#b8e186"
            ],
            [
             0.8,
             "#7fbc41"
            ],
            [
             0.9,
             "#4d9221"
            ],
            [
             1,
             "#276419"
            ]
           ],
           "sequential": [
            [
             0,
             "#0d0887"
            ],
            [
             0.1111111111111111,
             "#46039f"
            ],
            [
             0.2222222222222222,
             "#7201a8"
            ],
            [
             0.3333333333333333,
             "#9c179e"
            ],
            [
             0.4444444444444444,
             "#bd3786"
            ],
            [
             0.5555555555555556,
             "#d8576b"
            ],
            [
             0.6666666666666666,
             "#ed7953"
            ],
            [
             0.7777777777777778,
             "#fb9f3a"
            ],
            [
             0.8888888888888888,
             "#fdca26"
            ],
            [
             1,
             "#f0f921"
            ]
           ],
           "sequentialminus": [
            [
             0,
             "#0d0887"
            ],
            [
             0.1111111111111111,
             "#46039f"
            ],
            [
             0.2222222222222222,
             "#7201a8"
            ],
            [
             0.3333333333333333,
             "#9c179e"
            ],
            [
             0.4444444444444444,
             "#bd3786"
            ],
            [
             0.5555555555555556,
             "#d8576b"
            ],
            [
             0.6666666666666666,
             "#ed7953"
            ],
            [
             0.7777777777777778,
             "#fb9f3a"
            ],
            [
             0.8888888888888888,
             "#fdca26"
            ],
            [
             1,
             "#f0f921"
            ]
           ]
          },
          "colorway": [
           "#636efa",
           "#EF553B",
           "#00cc96",
           "#ab63fa",
           "#FFA15A",
           "#19d3f3",
           "#FF6692",
           "#B6E880",
           "#FF97FF",
           "#FECB52"
          ],
          "font": {
           "color": "#2a3f5f"
          },
          "geo": {
           "bgcolor": "white",
           "lakecolor": "white",
           "landcolor": "#E5ECF6",
           "showlakes": true,
           "showland": true,
           "subunitcolor": "white"
          },
          "hoverlabel": {
           "align": "left"
          },
          "hovermode": "closest",
          "mapbox": {
           "style": "light"
          },
          "paper_bgcolor": "white",
          "plot_bgcolor": "#E5ECF6",
          "polar": {
           "angularaxis": {
            "gridcolor": "white",
            "linecolor": "white",
            "ticks": ""
           },
           "bgcolor": "#E5ECF6",
           "radialaxis": {
            "gridcolor": "white",
            "linecolor": "white",
            "ticks": ""
           }
          },
          "scene": {
           "xaxis": {
            "backgroundcolor": "#E5ECF6",
            "gridcolor": "white",
            "gridwidth": 2,
            "linecolor": "white",
            "showbackground": true,
            "ticks": "",
            "zerolinecolor": "white"
           },
           "yaxis": {
            "backgroundcolor": "#E5ECF6",
            "gridcolor": "white",
            "gridwidth": 2,
            "linecolor": "white",
            "showbackground": true,
            "ticks": "",
            "zerolinecolor": "white"
           },
           "zaxis": {
            "backgroundcolor": "#E5ECF6",
            "gridcolor": "white",
            "gridwidth": 2,
            "linecolor": "white",
            "showbackground": true,
            "ticks": "",
            "zerolinecolor": "white"
           }
          },
          "shapedefaults": {
           "line": {
            "color": "#2a3f5f"
           }
          },
          "ternary": {
           "aaxis": {
            "gridcolor": "white",
            "linecolor": "white",
            "ticks": ""
           },
           "baxis": {
            "gridcolor": "white",
            "linecolor": "white",
            "ticks": ""
           },
           "bgcolor": "#E5ECF6",
           "caxis": {
            "gridcolor": "white",
            "linecolor": "white",
            "ticks": ""
           }
          },
          "title": {
           "x": 0.05
          },
          "xaxis": {
           "automargin": true,
           "gridcolor": "white",
           "linecolor": "white",
           "ticks": "",
           "title": {
            "standoff": 15
           },
           "zerolinecolor": "white",
           "zerolinewidth": 2
          },
          "yaxis": {
           "automargin": true,
           "gridcolor": "white",
           "linecolor": "white",
           "ticks": "",
           "title": {
            "standoff": 15
           },
           "zerolinecolor": "white",
           "zerolinewidth": 2
          }
         }
        },
        "title": {
         "text": "Death Rate"
        },
        "xaxis": {
         "anchor": "y",
         "domain": [
          0,
          1
         ],
         "title": {
          "text": "value"
         }
        },
        "yaxis": {
         "anchor": "x",
         "domain": [
          0,
          1
         ],
         "title": {
          "text": "count"
         }
        }
       }
      }
     },
     "metadata": {},
     "output_type": "display_data"
    },
    {
     "data": {
      "application/vnd.plotly.v1+json": {
       "config": {
        "plotlyServerURL": "https://plot.ly"
       },
       "data": [
        {
         "alignmentgroup": "True",
         "bingroup": "x",
         "hovertemplate": "variable=Age Adjusted Death Rate<br>value=%{x}<br>count=%{y}<extra></extra>",
         "legendgroup": "Age Adjusted Death Rate",
         "marker": {
          "color": "#636efa",
          "pattern": {
           "shape": ""
          }
         },
         "name": "Age Adjusted Death Rate",
         "offsetgroup": "Age Adjusted Death Rate",
         "orientation": "v",
         "showlegend": true,
         "type": "histogram",
         "x": [
          18.5,
          15.6,
          7.2,
          36.7,
          31.1,
          18.8,
          15,
          12,
          19.2,
          89.8,
          18.1,
          18.9,
          268.3,
          12.5,
          16.8,
          21.4,
          215.5,
          2.5,
          215.3,
          81.5,
          22.1,
          20.4,
          6.6,
          4.5,
          18.1,
          5.1,
          4.1,
          22,
          7.4,
          277,
          22.1,
          100.7,
          3.3,
          14.2,
          3.6,
          123.5,
          7.8,
          130.9,
          139.5,
          319.8,
          15,
          7.1,
          44.6,
          43.9,
          4.3,
          163.5,
          22.7,
          23.6,
          8.8,
          169.1,
          7.3,
          20.8,
          5.4,
          14.2,
          7.4,
          238.4,
          163.3,
          130.9,
          11.4,
          14.8,
          6.9,
          17.2,
          11.6,
          41,
          31.7,
          200.7,
          21.7,
          81.8,
          20.9,
          8.7,
          17.8,
          146.4,
          177.8,
          19,
          26.8,
          28.7,
          34.7,
          21.5,
          183.9,
          143.3,
          15.4,
          13.5,
          16.4,
          15.2,
          21.5,
          17.6,
          13,
          7.6,
          14.1,
          250.7,
          17.2,
          13.6,
          107.2,
          318.9,
          17.9,
          9.4,
          11.1,
          8.5,
          226.2,
          61.2,
          6.9,
          17.3,
          160.6,
          15.5,
          175.7,
          145.7,
          9.5,
          153.3,
          7.9,
          16.7,
          21.4,
          5.2,
          20,
          13.1,
          16.7,
          27.6,
          105.4,
          21.3,
          15.1,
          9.3,
          25,
          6.1,
          244.3,
          15.1,
          18.4,
          182.5,
          128.8,
          14.9,
          24.9,
          5.1,
          142.6,
          16.2,
          22.5,
          118.5,
          119.9,
          12.8,
          7.8,
          79.7,
          25.3,
          18.5,
          32.9,
          15,
          4.2,
          16.1,
          7.9,
          13,
          14.8,
          20.6,
          5.9,
          18.4,
          21.8,
          48.9,
          187.3,
          150,
          113.4,
          9.8,
          6.7,
          143.8,
          130.4,
          17.3,
          8.1,
          111.1,
          7.2,
          194.5,
          5.1,
          79.6,
          5.3,
          11,
          14.1,
          19.1,
          2.9,
          18.5,
          9.1,
          33,
          4.9,
          9.3,
          16.4,
          14.1,
          26.1,
          18.2,
          106.7,
          8,
          19,
          8.1,
          195.1,
          6.4,
          4.9,
          3.5,
          26.4,
          35.5,
          77.2,
          6.7,
          19.2,
          247.3,
          8.1,
          10.1,
          18.7,
          8,
          17.9,
          86.1,
          16.4,
          16.2,
          7.5,
          12.8,
          20.9,
          10.1,
          15,
          15.7,
          20,
          99.9,
          17.9,
          4.7,
          17.9,
          6.5,
          163.5,
          20,
          38.5,
          25,
          13.3,
          65,
          33.1,
          90.2,
          21.5,
          41.8,
          126.4,
          258.5,
          14.3,
          23.9,
          20,
          21.4,
          37.6,
          23.9,
          26.1,
          18.6,
          183.3,
          13.3,
          16.8,
          4.3,
          23.1,
          81.1,
          19.5,
          3,
          15.5,
          157.7,
          9.9,
          117.8,
          15.4,
          29.2,
          117.7,
          18.4,
          15.8,
          138.1,
          342.3,
          22.8,
          26.6,
          24.2,
          31.8,
          20.2,
          110.7,
          33.8,
          8.3,
          24.1,
          88.4,
          22,
          6.6,
          18.3,
          19.2,
          15.5,
          26.4,
          8.8,
          21.4,
          37.4,
          19,
          161.7,
          20.6,
          216.6,
          115.2,
          7.8,
          181.7,
          141.3,
          14.1,
          3.2,
          133.2,
          160.5,
          260.2,
          8.1,
          18.3,
          161,
          16.9,
          33.8,
          20.4,
          17.4,
          22.2,
          17.1,
          34.4,
          19.6,
          350.7,
          38,
          104.7,
          6.5,
          15.6,
          18.1,
          17.7,
          6.3,
          11.3,
          16.6,
          15.4,
          167.4,
          25.4,
          32.3,
          5.4,
          31.8,
          9.1,
          30,
          212.8,
          4.5,
          9.6,
          41.1,
          24.1,
          117.3,
          3.5,
          8.5,
          23.1,
          20.6,
          28.6,
          15.4,
          23.6,
          11.4,
          31,
          28.1,
          12.8,
          18.7,
          206.1,
          7.4,
          29.7,
          307.7,
          151.1,
          3.1,
          227.9,
          14.6,
          10.2,
          98.8,
          7.4,
          21.1,
          252.4,
          40,
          131.8,
          21.4,
          12,
          118.4,
          113.6,
          17.9,
          163,
          9.5,
          21.3,
          31.3,
          20.8,
          7.2,
          23.3,
          27.3,
          22.6,
          143.3,
          31.5,
          10.9,
          50.3,
          6.7,
          19.3,
          34.3,
          116.9,
          24,
          13.4,
          5.9,
          16.8,
          6.8,
          14.8,
          21,
          124.5,
          78.6,
          5.2,
          26.9,
          6.2,
          22.1,
          243.6,
          14.4,
          30.9,
          165.9,
          118.5,
          25.7,
          13.7,
          44.2,
          21.3,
          19.1,
          10.3,
          166.3,
          21,
          99.6,
          19.6,
          6.3,
          16.3,
          7.6,
          22.3,
          213.7,
          35.5,
          8.5,
          14.5,
          22.8,
          83.5,
          116.1,
          5.1,
          8.4,
          18.1,
          30.9,
          33.1,
          25.4,
          13.6,
          32.5,
          20.9,
          19.8,
          22.9,
          2.9,
          245.5,
          16.7,
          89.7,
          159.1,
          90.4,
          115.9,
          39.3,
          85.1,
          16.8,
          330.2,
          5,
          13,
          129.5,
          18.8,
          8.2,
          130,
          100.5,
          19.8,
          79.9,
          194.2,
          23.1,
          10.3,
          42.9,
          21.6,
          13.9,
          11.3,
          150.5,
          7.1,
          5.2,
          6.8,
          5.1,
          19.1,
          15.5,
          25.8,
          7.5,
          22.2,
          12.9,
          21.4,
          80.6,
          148.5,
          8.7,
          25.4,
          16.9,
          160.7,
          12.2,
          157.3,
          161.1,
          20.9,
          205.6,
          9.4,
          27.8,
          10.4,
          23.2,
          127.3,
          63.3,
          25.5,
          117.4,
          158.8,
          6.3,
          8.7,
          8.5,
          21.7,
          17.6,
          15.7,
          94.6,
          167.7,
          14.9,
          186.7,
          151.8,
          18.8,
          4.2,
          229.4,
          167.7,
          12.7,
          22.6,
          17.8,
          37.6,
          12.2,
          8.5,
          3.9,
          151.1,
          26.4,
          73.8,
          14.6,
          83.8,
          16.3,
          3.6,
          17.1,
          12.4,
          14.1,
          19.6,
          15.9,
          93.9,
          157.8,
          129.5,
          5.5,
          19.7,
          8.7,
          159,
          23.2,
          23.3,
          5.5,
          16,
          18.8,
          98.5,
          36.7,
          8.9,
          24.5,
          8.8,
          18.7,
          16.6,
          4.6,
          15.6,
          16.4,
          8,
          4,
          5.7,
          4.7,
          81.2,
          16.8,
          7.3,
          6.2,
          21.6,
          8.7,
          41.4,
          3.7,
          224.1,
          59,
          34.3,
          6.3,
          77.2,
          11.3,
          14.8,
          85.6,
          24.8,
          8.9,
          175,
          16.1,
          13.6,
          10.8,
          143.5,
          10.5,
          56.1,
          145.9,
          8,
          31.6,
          17.6,
          94,
          5.8,
          27.3,
          11.1,
          29.1,
          5.8,
          21.1,
          12.7,
          9.4,
          17.5,
          7.5,
          127,
          32.7,
          14.4,
          172.2,
          19.3,
          16,
          8.4,
          8.3,
          18.6,
          10.7,
          6.7,
          20.3,
          19.6,
          38.1,
          138.4,
          162.4,
          40.2,
          7.1,
          40.1,
          23.2,
          38.9,
          15.1,
          179.8,
          27.7,
          33.7,
          42.2,
          33,
          23.6,
          9.8,
          264.7,
          30.2,
          6.3,
          21.7,
          33.3,
          18.2,
          27.6,
          19.1,
          7.7,
          3.1,
          4.6,
          199.6,
          7.2,
          22.7,
          96,
          340.2,
          97.4,
          8.1,
          17.9,
          280.7,
          16.9,
          151,
          21.8,
          26.1,
          7.6,
          75.3,
          220.9,
          8.6,
          17.7,
          17.6,
          21.7,
          18.5,
          31.5,
          6.3,
          214.3,
          16.9,
          16.4,
          4.7,
          9.5,
          20.6,
          105.1,
          180.8,
          150,
          10,
          148.4,
          139.5,
          9.3,
          7.4,
          17.4,
          34,
          150.2,
          123.7,
          108.7,
          51.6,
          228.8,
          94.8,
          170.5,
          224.4,
          20.7,
          10.5,
          3.5,
          5.4,
          59,
          4.2,
          164.3,
          17.6,
          228,
          238.4,
          7.2,
          16.7,
          86.1,
          18.4,
          33.9,
          9.3,
          7.3,
          22.2,
          18.9,
          145.5,
          12.3,
          18,
          14.8,
          189.2,
          166.2,
          9.2,
          22.8,
          20.7,
          22.8,
          7.7,
          6.4,
          5.4,
          20.6,
          8.3,
          12.9,
          19,
          5.3,
          9.5,
          57.4,
          18.3,
          156.3,
          220.4,
          12.3,
          176.783287,
          121.5817693,
          35.70789583,
          25.40934387,
          19.85821025,
          19.55837808,
          16.10828575,
          15.95641278,
          18.82042264,
          15.71279828,
          143.485633,
          119.3723376,
          105.9242636,
          16.87065413,
          15.27352088,
          13.41842449,
          11.96179248,
          9.228507274,
          8.389708675,
          7.848126622,
          7.415199568,
          90.70089869,
          224.9990183,
          163.7927192,
          28.91253713,
          20.77153997,
          19.10848654,
          16.68493048,
          14.85203326,
          14.48032854,
          13.5805479,
          10.0100868,
          139.6400628,
          279.643801,
          168.4803046,
          44.92295145,
          32.35415157,
          27.14739223,
          25.79699843,
          25.6023163,
          22.76463114,
          18.99230593,
          17.77687704,
          182.6826072,
          null,
          null,
          null,
          null,
          null,
          null,
          null,
          null,
          null,
          null,
          null,
          null,
          null,
          null,
          null,
          null,
          null,
          null,
          null,
          null,
          null,
          null,
          null,
          null,
          null,
          null,
          null,
          null,
          null,
          null,
          null,
          null,
          null,
          414.5944733,
          146.1092186,
          65.49320907,
          48.36535015,
          27.20905858,
          28.63593587,
          28.51477435,
          21.0146938,
          12.84231049,
          24.15790476,
          251.283561,
          111.7353368,
          87.06528773,
          17.65789189,
          15.93330728,
          15.49801993,
          12.85579621,
          11.18444404,
          10.7897817,
          8.039053498,
          7.322347649,
          93.37882892,
          78.8163246,
          75.79927081,
          14.15550557,
          9.944715133,
          8.518144202,
          8.354977901,
          6.207494885,
          5.084314882,
          5.346443053,
          5.373332294,
          53.34011786,
          141.5642319,
          124.3381382,
          19.22599409,
          14.41986136,
          10.50871683,
          11.14077883,
          8.218487701,
          8.62864342,
          7.049815954,
          8.755260544,
          96.12840989,
          173.1869461,
          132.4018003,
          27.78150486,
          22.36321122,
          20.45669126,
          18.07759942,
          16.24829465,
          10.82707992,
          10.40042785,
          7.092763442,
          123.7629009,
          null,
          null,
          null,
          null,
          null,
          null,
          null,
          null,
          null,
          null,
          null,
          null,
          null,
          null,
          null,
          null,
          null,
          null,
          null,
          null,
          null,
          null,
          null,
          null,
          null,
          null,
          null,
          null,
          null,
          null,
          null,
          null,
          null,
          null,
          161.6351392,
          90.59242339,
          21.71794941,
          18.86074635,
          15.98649499,
          14.64331729,
          12.73357975,
          12.14778648,
          6.390793995,
          6.724040882,
          6.979219825,
          88.7919256
         ],
         "xaxis": "x",
         "yaxis": "y"
        }
       ],
       "layout": {
        "barmode": "relative",
        "legend": {
         "title": {
          "text": "variable"
         },
         "tracegroupgap": 0
        },
        "template": {
         "data": {
          "bar": [
           {
            "error_x": {
             "color": "#2a3f5f"
            },
            "error_y": {
             "color": "#2a3f5f"
            },
            "marker": {
             "line": {
              "color": "#E5ECF6",
              "width": 0.5
             },
             "pattern": {
              "fillmode": "overlay",
              "size": 10,
              "solidity": 0.2
             }
            },
            "type": "bar"
           }
          ],
          "barpolar": [
           {
            "marker": {
             "line": {
              "color": "#E5ECF6",
              "width": 0.5
             },
             "pattern": {
              "fillmode": "overlay",
              "size": 10,
              "solidity": 0.2
             }
            },
            "type": "barpolar"
           }
          ],
          "carpet": [
           {
            "aaxis": {
             "endlinecolor": "#2a3f5f",
             "gridcolor": "white",
             "linecolor": "white",
             "minorgridcolor": "white",
             "startlinecolor": "#2a3f5f"
            },
            "baxis": {
             "endlinecolor": "#2a3f5f",
             "gridcolor": "white",
             "linecolor": "white",
             "minorgridcolor": "white",
             "startlinecolor": "#2a3f5f"
            },
            "type": "carpet"
           }
          ],
          "choropleth": [
           {
            "colorbar": {
             "outlinewidth": 0,
             "ticks": ""
            },
            "type": "choropleth"
           }
          ],
          "contour": [
           {
            "colorbar": {
             "outlinewidth": 0,
             "ticks": ""
            },
            "colorscale": [
             [
              0,
              "#0d0887"
             ],
             [
              0.1111111111111111,
              "#46039f"
             ],
             [
              0.2222222222222222,
              "#7201a8"
             ],
             [
              0.3333333333333333,
              "#9c179e"
             ],
             [
              0.4444444444444444,
              "#bd3786"
             ],
             [
              0.5555555555555556,
              "#d8576b"
             ],
             [
              0.6666666666666666,
              "#ed7953"
             ],
             [
              0.7777777777777778,
              "#fb9f3a"
             ],
             [
              0.8888888888888888,
              "#fdca26"
             ],
             [
              1,
              "#f0f921"
             ]
            ],
            "type": "contour"
           }
          ],
          "contourcarpet": [
           {
            "colorbar": {
             "outlinewidth": 0,
             "ticks": ""
            },
            "type": "contourcarpet"
           }
          ],
          "heatmap": [
           {
            "colorbar": {
             "outlinewidth": 0,
             "ticks": ""
            },
            "colorscale": [
             [
              0,
              "#0d0887"
             ],
             [
              0.1111111111111111,
              "#46039f"
             ],
             [
              0.2222222222222222,
              "#7201a8"
             ],
             [
              0.3333333333333333,
              "#9c179e"
             ],
             [
              0.4444444444444444,
              "#bd3786"
             ],
             [
              0.5555555555555556,
              "#d8576b"
             ],
             [
              0.6666666666666666,
              "#ed7953"
             ],
             [
              0.7777777777777778,
              "#fb9f3a"
             ],
             [
              0.8888888888888888,
              "#fdca26"
             ],
             [
              1,
              "#f0f921"
             ]
            ],
            "type": "heatmap"
           }
          ],
          "heatmapgl": [
           {
            "colorbar": {
             "outlinewidth": 0,
             "ticks": ""
            },
            "colorscale": [
             [
              0,
              "#0d0887"
             ],
             [
              0.1111111111111111,
              "#46039f"
             ],
             [
              0.2222222222222222,
              "#7201a8"
             ],
             [
              0.3333333333333333,
              "#9c179e"
             ],
             [
              0.4444444444444444,
              "#bd3786"
             ],
             [
              0.5555555555555556,
              "#d8576b"
             ],
             [
              0.6666666666666666,
              "#ed7953"
             ],
             [
              0.7777777777777778,
              "#fb9f3a"
             ],
             [
              0.8888888888888888,
              "#fdca26"
             ],
             [
              1,
              "#f0f921"
             ]
            ],
            "type": "heatmapgl"
           }
          ],
          "histogram": [
           {
            "marker": {
             "pattern": {
              "fillmode": "overlay",
              "size": 10,
              "solidity": 0.2
             }
            },
            "type": "histogram"
           }
          ],
          "histogram2d": [
           {
            "colorbar": {
             "outlinewidth": 0,
             "ticks": ""
            },
            "colorscale": [
             [
              0,
              "#0d0887"
             ],
             [
              0.1111111111111111,
              "#46039f"
             ],
             [
              0.2222222222222222,
              "#7201a8"
             ],
             [
              0.3333333333333333,
              "#9c179e"
             ],
             [
              0.4444444444444444,
              "#bd3786"
             ],
             [
              0.5555555555555556,
              "#d8576b"
             ],
             [
              0.6666666666666666,
              "#ed7953"
             ],
             [
              0.7777777777777778,
              "#fb9f3a"
             ],
             [
              0.8888888888888888,
              "#fdca26"
             ],
             [
              1,
              "#f0f921"
             ]
            ],
            "type": "histogram2d"
           }
          ],
          "histogram2dcontour": [
           {
            "colorbar": {
             "outlinewidth": 0,
             "ticks": ""
            },
            "colorscale": [
             [
              0,
              "#0d0887"
             ],
             [
              0.1111111111111111,
              "#46039f"
             ],
             [
              0.2222222222222222,
              "#7201a8"
             ],
             [
              0.3333333333333333,
              "#9c179e"
             ],
             [
              0.4444444444444444,
              "#bd3786"
             ],
             [
              0.5555555555555556,
              "#d8576b"
             ],
             [
              0.6666666666666666,
              "#ed7953"
             ],
             [
              0.7777777777777778,
              "#fb9f3a"
             ],
             [
              0.8888888888888888,
              "#fdca26"
             ],
             [
              1,
              "#f0f921"
             ]
            ],
            "type": "histogram2dcontour"
           }
          ],
          "mesh3d": [
           {
            "colorbar": {
             "outlinewidth": 0,
             "ticks": ""
            },
            "type": "mesh3d"
           }
          ],
          "parcoords": [
           {
            "line": {
             "colorbar": {
              "outlinewidth": 0,
              "ticks": ""
             }
            },
            "type": "parcoords"
           }
          ],
          "pie": [
           {
            "automargin": true,
            "type": "pie"
           }
          ],
          "scatter": [
           {
            "fillpattern": {
             "fillmode": "overlay",
             "size": 10,
             "solidity": 0.2
            },
            "type": "scatter"
           }
          ],
          "scatter3d": [
           {
            "line": {
             "colorbar": {
              "outlinewidth": 0,
              "ticks": ""
             }
            },
            "marker": {
             "colorbar": {
              "outlinewidth": 0,
              "ticks": ""
             }
            },
            "type": "scatter3d"
           }
          ],
          "scattercarpet": [
           {
            "marker": {
             "colorbar": {
              "outlinewidth": 0,
              "ticks": ""
             }
            },
            "type": "scattercarpet"
           }
          ],
          "scattergeo": [
           {
            "marker": {
             "colorbar": {
              "outlinewidth": 0,
              "ticks": ""
             }
            },
            "type": "scattergeo"
           }
          ],
          "scattergl": [
           {
            "marker": {
             "colorbar": {
              "outlinewidth": 0,
              "ticks": ""
             }
            },
            "type": "scattergl"
           }
          ],
          "scattermapbox": [
           {
            "marker": {
             "colorbar": {
              "outlinewidth": 0,
              "ticks": ""
             }
            },
            "type": "scattermapbox"
           }
          ],
          "scatterpolar": [
           {
            "marker": {
             "colorbar": {
              "outlinewidth": 0,
              "ticks": ""
             }
            },
            "type": "scatterpolar"
           }
          ],
          "scatterpolargl": [
           {
            "marker": {
             "colorbar": {
              "outlinewidth": 0,
              "ticks": ""
             }
            },
            "type": "scatterpolargl"
           }
          ],
          "scatterternary": [
           {
            "marker": {
             "colorbar": {
              "outlinewidth": 0,
              "ticks": ""
             }
            },
            "type": "scatterternary"
           }
          ],
          "surface": [
           {
            "colorbar": {
             "outlinewidth": 0,
             "ticks": ""
            },
            "colorscale": [
             [
              0,
              "#0d0887"
             ],
             [
              0.1111111111111111,
              "#46039f"
             ],
             [
              0.2222222222222222,
              "#7201a8"
             ],
             [
              0.3333333333333333,
              "#9c179e"
             ],
             [
              0.4444444444444444,
              "#bd3786"
             ],
             [
              0.5555555555555556,
              "#d8576b"
             ],
             [
              0.6666666666666666,
              "#ed7953"
             ],
             [
              0.7777777777777778,
              "#fb9f3a"
             ],
             [
              0.8888888888888888,
              "#fdca26"
             ],
             [
              1,
              "#f0f921"
             ]
            ],
            "type": "surface"
           }
          ],
          "table": [
           {
            "cells": {
             "fill": {
              "color": "#EBF0F8"
             },
             "line": {
              "color": "white"
             }
            },
            "header": {
             "fill": {
              "color": "#C8D4E3"
             },
             "line": {
              "color": "white"
             }
            },
            "type": "table"
           }
          ]
         },
         "layout": {
          "annotationdefaults": {
           "arrowcolor": "#2a3f5f",
           "arrowhead": 0,
           "arrowwidth": 1
          },
          "autotypenumbers": "strict",
          "coloraxis": {
           "colorbar": {
            "outlinewidth": 0,
            "ticks": ""
           }
          },
          "colorscale": {
           "diverging": [
            [
             0,
             "#8e0152"
            ],
            [
             0.1,
             "#c51b7d"
            ],
            [
             0.2,
             "#de77ae"
            ],
            [
             0.3,
             "#f1b6da"
            ],
            [
             0.4,
             "#fde0ef"
            ],
            [
             0.5,
             "#f7f7f7"
            ],
            [
             0.6,
             "#e6f5d0"
            ],
            [
             0.7,
             "#b8e186"
            ],
            [
             0.8,
             "#7fbc41"
            ],
            [
             0.9,
             "#4d9221"
            ],
            [
             1,
             "#276419"
            ]
           ],
           "sequential": [
            [
             0,
             "#0d0887"
            ],
            [
             0.1111111111111111,
             "#46039f"
            ],
            [
             0.2222222222222222,
             "#7201a8"
            ],
            [
             0.3333333333333333,
             "#9c179e"
            ],
            [
             0.4444444444444444,
             "#bd3786"
            ],
            [
             0.5555555555555556,
             "#d8576b"
            ],
            [
             0.6666666666666666,
             "#ed7953"
            ],
            [
             0.7777777777777778,
             "#fb9f3a"
            ],
            [
             0.8888888888888888,
             "#fdca26"
            ],
            [
             1,
             "#f0f921"
            ]
           ],
           "sequentialminus": [
            [
             0,
             "#0d0887"
            ],
            [
             0.1111111111111111,
             "#46039f"
            ],
            [
             0.2222222222222222,
             "#7201a8"
            ],
            [
             0.3333333333333333,
             "#9c179e"
            ],
            [
             0.4444444444444444,
             "#bd3786"
            ],
            [
             0.5555555555555556,
             "#d8576b"
            ],
            [
             0.6666666666666666,
             "#ed7953"
            ],
            [
             0.7777777777777778,
             "#fb9f3a"
            ],
            [
             0.8888888888888888,
             "#fdca26"
            ],
            [
             1,
             "#f0f921"
            ]
           ]
          },
          "colorway": [
           "#636efa",
           "#EF553B",
           "#00cc96",
           "#ab63fa",
           "#FFA15A",
           "#19d3f3",
           "#FF6692",
           "#B6E880",
           "#FF97FF",
           "#FECB52"
          ],
          "font": {
           "color": "#2a3f5f"
          },
          "geo": {
           "bgcolor": "white",
           "lakecolor": "white",
           "landcolor": "#E5ECF6",
           "showlakes": true,
           "showland": true,
           "subunitcolor": "white"
          },
          "hoverlabel": {
           "align": "left"
          },
          "hovermode": "closest",
          "mapbox": {
           "style": "light"
          },
          "paper_bgcolor": "white",
          "plot_bgcolor": "#E5ECF6",
          "polar": {
           "angularaxis": {
            "gridcolor": "white",
            "linecolor": "white",
            "ticks": ""
           },
           "bgcolor": "#E5ECF6",
           "radialaxis": {
            "gridcolor": "white",
            "linecolor": "white",
            "ticks": ""
           }
          },
          "scene": {
           "xaxis": {
            "backgroundcolor": "#E5ECF6",
            "gridcolor": "white",
            "gridwidth": 2,
            "linecolor": "white",
            "showbackground": true,
            "ticks": "",
            "zerolinecolor": "white"
           },
           "yaxis": {
            "backgroundcolor": "#E5ECF6",
            "gridcolor": "white",
            "gridwidth": 2,
            "linecolor": "white",
            "showbackground": true,
            "ticks": "",
            "zerolinecolor": "white"
           },
           "zaxis": {
            "backgroundcolor": "#E5ECF6",
            "gridcolor": "white",
            "gridwidth": 2,
            "linecolor": "white",
            "showbackground": true,
            "ticks": "",
            "zerolinecolor": "white"
           }
          },
          "shapedefaults": {
           "line": {
            "color": "#2a3f5f"
           }
          },
          "ternary": {
           "aaxis": {
            "gridcolor": "white",
            "linecolor": "white",
            "ticks": ""
           },
           "baxis": {
            "gridcolor": "white",
            "linecolor": "white",
            "ticks": ""
           },
           "bgcolor": "#E5ECF6",
           "caxis": {
            "gridcolor": "white",
            "linecolor": "white",
            "ticks": ""
           }
          },
          "title": {
           "x": 0.05
          },
          "xaxis": {
           "automargin": true,
           "gridcolor": "white",
           "linecolor": "white",
           "ticks": "",
           "title": {
            "standoff": 15
           },
           "zerolinecolor": "white",
           "zerolinewidth": 2
          },
          "yaxis": {
           "automargin": true,
           "gridcolor": "white",
           "linecolor": "white",
           "ticks": "",
           "title": {
            "standoff": 15
           },
           "zerolinecolor": "white",
           "zerolinewidth": 2
          }
         }
        },
        "title": {
         "text": "Age Adjusted Death Rate"
        },
        "xaxis": {
         "anchor": "y",
         "domain": [
          0,
          1
         ],
         "title": {
          "text": "value"
         }
        },
        "yaxis": {
         "anchor": "x",
         "domain": [
          0,
          1
         ],
         "title": {
          "text": "count"
         }
        }
       }
      }
     },
     "metadata": {},
     "output_type": "display_data"
    }
   ],
   "source": [
    "# show histograms for numeric columns\n",
    "numeric_columns = ['Year', 'Deaths', 'Death Rate', 'Age Adjusted Death Rate']\n",
    "for column in numeric_columns:\n",
    "    fig = df[column].hist(title = column)\n",
    "    fig.show()"
   ]
  },
  {
   "cell_type": "code",
   "execution_count": 31,
   "metadata": {},
   "outputs": [
    {
     "data": {
      "text/html": [
       "<div>\n",
       "<style scoped>\n",
       "    .dataframe tbody tr th:only-of-type {\n",
       "        vertical-align: middle;\n",
       "    }\n",
       "\n",
       "    .dataframe tbody tr th {\n",
       "        vertical-align: top;\n",
       "    }\n",
       "\n",
       "    .dataframe thead th {\n",
       "        text-align: right;\n",
       "    }\n",
       "</style>\n",
       "<table border=\"1\" class=\"dataframe\">\n",
       "  <thead>\n",
       "    <tr style=\"text-align: right;\">\n",
       "      <th></th>\n",
       "      <th>Year</th>\n",
       "      <th>Leading Cause</th>\n",
       "      <th>Sex</th>\n",
       "      <th>Race Ethnicity</th>\n",
       "      <th>Deaths</th>\n",
       "      <th>Death Rate</th>\n",
       "      <th>Age Adjusted Death Rate</th>\n",
       "    </tr>\n",
       "  </thead>\n",
       "  <tbody>\n",
       "    <tr>\n",
       "      <th>1</th>\n",
       "      <td>2013</td>\n",
       "      <td>Influenza (Flu) and Pneumonia (J09-J18)</td>\n",
       "      <td>F</td>\n",
       "      <td>Hispanic</td>\n",
       "      <td>204.0</td>\n",
       "      <td>16.3</td>\n",
       "      <td>18.5</td>\n",
       "    </tr>\n",
       "    <tr>\n",
       "      <th>4</th>\n",
       "      <td>2014</td>\n",
       "      <td>Cerebrovascular Disease (Stroke: I60-I69)</td>\n",
       "      <td>F</td>\n",
       "      <td>White Non-Hispanic</td>\n",
       "      <td>418.0</td>\n",
       "      <td>29.5</td>\n",
       "      <td>15.6</td>\n",
       "    </tr>\n",
       "    <tr>\n",
       "      <th>5</th>\n",
       "      <td>2009</td>\n",
       "      <td>Essential Hypertension and Renal Diseases (I10...</td>\n",
       "      <td>M</td>\n",
       "      <td>Asian and Pacific Islander</td>\n",
       "      <td>26.0</td>\n",
       "      <td>5.1</td>\n",
       "      <td>7.2</td>\n",
       "    </tr>\n",
       "    <tr>\n",
       "      <th>6</th>\n",
       "      <td>2013</td>\n",
       "      <td>Influenza (Flu) and Pneumonia (J09-J18)</td>\n",
       "      <td>M</td>\n",
       "      <td>White Non-Hispanic</td>\n",
       "      <td>618.0</td>\n",
       "      <td>45.9</td>\n",
       "      <td>36.7</td>\n",
       "    </tr>\n",
       "    <tr>\n",
       "      <th>7</th>\n",
       "      <td>2007</td>\n",
       "      <td>Assault (Homicide: Y87.1, X85-Y09)</td>\n",
       "      <td>M</td>\n",
       "      <td>Black Non-Hispanic</td>\n",
       "      <td>267.0</td>\n",
       "      <td>31.3</td>\n",
       "      <td>31.1</td>\n",
       "    </tr>\n",
       "  </tbody>\n",
       "</table>\n",
       "</div>"
      ],
      "text/plain": [
       "   Year                                      Leading Cause Sex  \\\n",
       "1  2013            Influenza (Flu) and Pneumonia (J09-J18)   F   \n",
       "4  2014          Cerebrovascular Disease (Stroke: I60-I69)   F   \n",
       "5  2009  Essential Hypertension and Renal Diseases (I10...   M   \n",
       "6  2013            Influenza (Flu) and Pneumonia (J09-J18)   M   \n",
       "7  2007                 Assault (Homicide: Y87.1, X85-Y09)   M   \n",
       "\n",
       "               Race Ethnicity  Deaths  Death Rate  Age Adjusted Death Rate  \n",
       "1                    Hispanic   204.0        16.3                     18.5  \n",
       "4          White Non-Hispanic   418.0        29.5                     15.6  \n",
       "5  Asian and Pacific Islander    26.0         5.1                      7.2  \n",
       "6          White Non-Hispanic   618.0        45.9                     36.7  \n",
       "7          Black Non-Hispanic   267.0        31.3                     31.1  "
      ]
     },
     "execution_count": 31,
     "metadata": {},
     "output_type": "execute_result"
    }
   ],
   "source": [
    "df.head()"
   ]
  },
  {
   "cell_type": "markdown",
   "metadata": {},
   "source": [
    "Show breakdown of categorical columns."
   ]
  },
  {
   "cell_type": "code",
   "execution_count": 39,
   "metadata": {},
   "outputs": [
    {
     "data": {
      "application/vnd.plotly.v1+json": {
       "config": {
        "plotlyServerURL": "https://plot.ly"
       },
       "data": [
        {
         "alignmentgroup": "True",
         "hovertemplate": "variable=Leading Cause<br>count=%{x}<br>value=%{y}<extra></extra>",
         "legendgroup": "Leading Cause",
         "marker": {
          "color": "#636efa",
          "pattern": {
           "shape": ""
          }
         },
         "name": "Leading Cause",
         "offsetgroup": "Leading Cause",
         "orientation": "h",
         "showlegend": true,
         "textposition": "auto",
         "type": "bar",
         "x": [
          1,
          1,
          1,
          1,
          1,
          1,
          1,
          1,
          1,
          1,
          1,
          1,
          1,
          1,
          1,
          1,
          1,
          1,
          1,
          1,
          1,
          1,
          1,
          1,
          1,
          1,
          1,
          1,
          1,
          1,
          1,
          1,
          1,
          1,
          1,
          1,
          1,
          1,
          1,
          1,
          1,
          1,
          1,
          1,
          1,
          1,
          1,
          1,
          1,
          1,
          1,
          1,
          1,
          1,
          1,
          1,
          1,
          1,
          1,
          1,
          1,
          1,
          1,
          1,
          1,
          1,
          1,
          1,
          1,
          1,
          1,
          1,
          1,
          1,
          1,
          1,
          1,
          1,
          1,
          1,
          1,
          1,
          1,
          1,
          1,
          1,
          1,
          1,
          1,
          1,
          1,
          1,
          1,
          1,
          1,
          1,
          1,
          1,
          1,
          1,
          1,
          1,
          1,
          1,
          1,
          1,
          1,
          1,
          1,
          1,
          1,
          1,
          1,
          1,
          1,
          1,
          1,
          1,
          1,
          1,
          1,
          1,
          1,
          1,
          1,
          1,
          1,
          1,
          1,
          1,
          1,
          1,
          1,
          1,
          1,
          1,
          1,
          1,
          1,
          1,
          1,
          1,
          1,
          1,
          1,
          1,
          1,
          1,
          1,
          1,
          1,
          1,
          1,
          1,
          1,
          1,
          1,
          1,
          1,
          1,
          1,
          1,
          1,
          1,
          1,
          1,
          1,
          1,
          1,
          1,
          1,
          1,
          1,
          1,
          1,
          1,
          1,
          1,
          1,
          1,
          1,
          1,
          1,
          1,
          1,
          1,
          1,
          1,
          1,
          1,
          1,
          1,
          1,
          1,
          1,
          1,
          1,
          1,
          1,
          1,
          1,
          1,
          1,
          1,
          1,
          1,
          1,
          1,
          1,
          1,
          1,
          1,
          1,
          1,
          1,
          1,
          1,
          1,
          1,
          1,
          1,
          1,
          1,
          1,
          1,
          1,
          1,
          1,
          1,
          1,
          1,
          1,
          1,
          1,
          1,
          1,
          1,
          1,
          1,
          1,
          1,
          1,
          1,
          1,
          1,
          1,
          1,
          1,
          1,
          1,
          1,
          1,
          1,
          1,
          1,
          1,
          1,
          1,
          1,
          1,
          1,
          1,
          1,
          1,
          1,
          1,
          1,
          1,
          1,
          1,
          1,
          1,
          1,
          1,
          1,
          1,
          1,
          1,
          1,
          1,
          1,
          1,
          1,
          1,
          1,
          1,
          1,
          1,
          1,
          1,
          1,
          1,
          1,
          1,
          1,
          1,
          1,
          1,
          1,
          1,
          1,
          1,
          1,
          1,
          1,
          1,
          1,
          1,
          1,
          1,
          1,
          1,
          1,
          1,
          1,
          1,
          1,
          1,
          1,
          1,
          1,
          1,
          1,
          1,
          1,
          1,
          1,
          1,
          1,
          1,
          1,
          1,
          1,
          1,
          1,
          1,
          1,
          1,
          1,
          1,
          1,
          1,
          1,
          1,
          1,
          1,
          1,
          1,
          1,
          1,
          1,
          1,
          1,
          1,
          1,
          1,
          1,
          1,
          1,
          1,
          1,
          1,
          1,
          1,
          1,
          1,
          1,
          1,
          1,
          1,
          1,
          1,
          1,
          1,
          1,
          1,
          1,
          1,
          1,
          1,
          1,
          1,
          1,
          1,
          1,
          1,
          1,
          1,
          1,
          1,
          1,
          1,
          1,
          1,
          1,
          1,
          1,
          1,
          1,
          1,
          1,
          1,
          1,
          1,
          1,
          1,
          1,
          1,
          1,
          1,
          1,
          1,
          1,
          1,
          1,
          1,
          1,
          1,
          1,
          1,
          1,
          1,
          1,
          1,
          1,
          1,
          1,
          1,
          1,
          1,
          1,
          1,
          1,
          1,
          1,
          1,
          1,
          1,
          1,
          1,
          1,
          1,
          1,
          1,
          1,
          1,
          1,
          1,
          1,
          1,
          1,
          1,
          1,
          1,
          1,
          1,
          1,
          1,
          1,
          1,
          1,
          1,
          1,
          1,
          1,
          1,
          1,
          1,
          1,
          1,
          1,
          1,
          1,
          1,
          1,
          1,
          1,
          1,
          1,
          1,
          1,
          1,
          1,
          1,
          1,
          1,
          1,
          1,
          1,
          1,
          1,
          1,
          1,
          1,
          1,
          1,
          1,
          1,
          1,
          1,
          1,
          1,
          1,
          1,
          1,
          1,
          1,
          1,
          1,
          1,
          1,
          1,
          1,
          1,
          1,
          1,
          1,
          1,
          1,
          1,
          1,
          1,
          1,
          1,
          1,
          1,
          1,
          1,
          1,
          1,
          1,
          1,
          1,
          1,
          1,
          1,
          1,
          1,
          1,
          1,
          1,
          1,
          1,
          1,
          1,
          1,
          1,
          1,
          1,
          1,
          1,
          1,
          1,
          1,
          1,
          1,
          1,
          1,
          1,
          1,
          1,
          1,
          1,
          1,
          1,
          1,
          1,
          1,
          1,
          1,
          1,
          1,
          1,
          1,
          1,
          1,
          1,
          1,
          1,
          1,
          1,
          1,
          1,
          1,
          1,
          1,
          1,
          1,
          1,
          1,
          1,
          1,
          1,
          1,
          1,
          1,
          1,
          1,
          1,
          1,
          1,
          1,
          1,
          1,
          1,
          1,
          1,
          1,
          1,
          1,
          1,
          1,
          1,
          1,
          1,
          1,
          1,
          1,
          1,
          1,
          1,
          1,
          1,
          1,
          1,
          1,
          1,
          1,
          1,
          1,
          1,
          1,
          1,
          1,
          1,
          1,
          1,
          1,
          1,
          1,
          1,
          1,
          1,
          1,
          1,
          1,
          1,
          1,
          1,
          1,
          1,
          1,
          1,
          1,
          1,
          1,
          1,
          1,
          1,
          1,
          1,
          1,
          1,
          1,
          1,
          1,
          1,
          1,
          1,
          1,
          1,
          1,
          1,
          1,
          1,
          1,
          1,
          1,
          1,
          1,
          1,
          1,
          1,
          1,
          1,
          1,
          1,
          1,
          1,
          1,
          1,
          1,
          1,
          1,
          1,
          1,
          1,
          1,
          1,
          1,
          1,
          1,
          1,
          1,
          1,
          1,
          1,
          1,
          1,
          1,
          1,
          1,
          1,
          1,
          1,
          1,
          1,
          1,
          1,
          1,
          1,
          1,
          1,
          1,
          1,
          1,
          1,
          1,
          1,
          1,
          1,
          1,
          1,
          1,
          1,
          1,
          1,
          1,
          1,
          1,
          1,
          1,
          1,
          1,
          1,
          1,
          1,
          1,
          1,
          1,
          1,
          1,
          1,
          1,
          1,
          1,
          1,
          1,
          1,
          1,
          1,
          1,
          1,
          1,
          1,
          1,
          1,
          1,
          1,
          1,
          1,
          1,
          1,
          1,
          1,
          1,
          1,
          1,
          1,
          1,
          1,
          1,
          1,
          1,
          1,
          1,
          1,
          1,
          1,
          1,
          1,
          1,
          1,
          1,
          1,
          1,
          1,
          1,
          1,
          1,
          1,
          1,
          1,
          1,
          1,
          1,
          1,
          1,
          1,
          1,
          1,
          1,
          1,
          1,
          1,
          1,
          1,
          1,
          1,
          1,
          1,
          1,
          1,
          1,
          1,
          1,
          1,
          1,
          1,
          1,
          1,
          1,
          1,
          1,
          1,
          1,
          1,
          1,
          1,
          1,
          1,
          1,
          1,
          1,
          1,
          1,
          1,
          1,
          1,
          1,
          1,
          1,
          1,
          1,
          1,
          1,
          1,
          1,
          1,
          1,
          1,
          1,
          1,
          1,
          1,
          1,
          1,
          1,
          1,
          1,
          1,
          1,
          1,
          1,
          1,
          1,
          1,
          1,
          1,
          1,
          1,
          1,
          1,
          1,
          1,
          1
         ],
         "xaxis": "x",
         "y": [
          "Influenza (Flu) and Pneumonia (J09-J18)",
          "Cerebrovascular Disease (Stroke: I60-I69)",
          "Essential Hypertension and Renal Diseases (I10, I12)",
          "Influenza (Flu) and Pneumonia (J09-J18)",
          "Assault (Homicide: Y87.1, X85-Y09)",
          "Cerebrovascular Disease (Stroke: I60-I69)",
          "Essential Hypertension and Renal Diseases (I10, I12)",
          "Accidents Except Drug Posioning (V01-X39, X43, X45-X59, Y85-Y86)",
          "Chronic Lower Respiratory Diseases (J40-J47)",
          "All Other Causes",
          "Diabetes Mellitus (E10-E14)",
          "Essential Hypertension and Renal Diseases (I10, I12)",
          "Diseases of Heart (I00-I09, I11, I13, I20-I51)",
          "Alzheimer's Disease (G30)",
          "Accidents Except Drug Posioning (V01-X39, X43, X45-X59, Y85-Y86)",
          "Essential Hypertension and Renal Diseases (I10, I12)",
          "Diseases of Heart (I00-I09, I11, I13, I20-I51)",
          "Viral Hepatitis (B15-B19)",
          "Malignant Neoplasms (Cancer: C00-C97)",
          "All Other Causes",
          "Human Immunodeficiency Virus Disease (HIV: B20-B24)",
          "Cerebrovascular Disease (Stroke: I60-I69)",
          "Accidents Except Drug Posioning (V01-X39, X43, X45-X59, Y85-Y86)",
          "Mental and Behavioral Disorders due to Accidental Poisoning and Other Psychoactive Substance Use (F11-F16, F18-F19, X40-X42, X44)",
          "Accidents Except Drug Posioning (V01-X39, X43, X45-X59, Y85-Y86)",
          "Accidents Except Drug Posioning (V01-X39, X43, X45-X59, Y85-Y86)",
          "Chronic Liver Disease and Cirrhosis (K70, K73)",
          "Chronic Lower Respiratory Diseases (J40-J47)",
          "Chronic Lower Respiratory Diseases (J40-J47)",
          "Diseases of Heart (I00-I09, I11, I13, I20-I51)",
          "Influenza (Flu) and Pneumonia (J09-J18)",
          "Malignant Neoplasms (Cancer: C00-C97)",
          "Nephritis, Nephrotic Syndrome and Nephrisis (N00-N07, N17-N19, N25-N27)",
          "Cerebrovascular Disease (Stroke: I60-I69)",
          "Alzheimer's Disease (G30)",
          "Malignant Neoplasms (Cancer: C00-C97)",
          "Essential Hypertension and Renal Diseases (I10, I12)",
          "All Other Causes",
          "All Other Causes",
          "Diseases of Heart (I00-I09, I11, I13, I20-I51)",
          "Diabetes Mellitus (E10-E14)",
          "Accidents Except Drug Posioning (V01-X39, X43, X45-X59, Y85-Y86)",
          "All Other Causes",
          "Diabetes Mellitus (E10-E14)",
          "Septicemia (A40-A41)",
          "Malignant Neoplasms (Cancer: C00-C97)",
          "Chronic Lower Respiratory Diseases (J40-J47)",
          "Cerebrovascular Disease (Stroke: I60-I69)",
          "Essential Hypertension and Renal Diseases (I10, I12)",
          "Diseases of Heart (I00-I09, I11, I13, I20-I51)",
          "Alzheimer's Disease (G30)",
          "Chronic Lower Respiratory Diseases (J40-J47)",
          "Chronic Liver Disease and Cirrhosis (K70, K73)",
          "Diabetes Mellitus (E10-E14)",
          "Mental and Behavioral Disorders due to Accidental Poisoning and Other Psychoactive Substance Use (F11-F16, F18-F19, X40-X42, X44)",
          "Diseases of Heart (I00-I09, I11, I13, I20-I51)",
          "Malignant Neoplasms (Cancer: C00-C97)",
          "Malignant Neoplasms (Cancer: C00-C97)",
          "Diabetes Mellitus (E10-E14)",
          "Chronic Lower Respiratory Diseases (J40-J47)",
          "Nephritis, Nephrotic Syndrome and Nephrisis (N00-N07, N17-N19, N25-N27)",
          "Cerebrovascular Disease (Stroke: I60-I69)",
          "Human Immunodeficiency Virus Disease (HIV: B20-B24)",
          "Diabetes Mellitus (E10-E14)",
          "Influenza (Flu) and Pneumonia (J09-J18)",
          "Malignant Neoplasms (Cancer: C00-C97)",
          "Cerebrovascular Disease (Stroke: I60-I69)",
          "Diseases of Heart (I00-I09, I11, I13, I20-I51)",
          "Cerebrovascular Disease (Stroke: I60-I69)",
          "Essential Hypertension and Renal Diseases (I10, I12)",
          "Chronic Lower Respiratory Diseases (J40-J47)",
          "All Other Causes",
          "All Other Causes",
          "Mental and Behavioral Disorders due to Accidental Poisoning and Other Psychoactive Substance Use (F11-F16, F18-F19, X40-X42, X44)",
          "Influenza (Flu) and Pneumonia (J09-J18)",
          "Influenza (Flu) and Pneumonia (J09-J18)",
          "Diabetes Mellitus (E10-E14)",
          "Diabetes Mellitus (E10-E14)",
          "Diseases of Heart (I00-I09, I11, I13, I20-I51)",
          "All Other Causes",
          "Cerebrovascular Disease (Stroke: I60-I69)",
          "Mental and Behavioral Disorders due to Accidental Poisoning and Other Psychoactive Substance Use (F11-F16, F18-F19, X40-X42, X44)",
          "Chronic Lower Respiratory Diseases (J40-J47)",
          "Cerebrovascular Disease (Stroke: I60-I69)",
          "Assault (Homicide: Y87.1, X85-Y09)",
          "Cerebrovascular Disease (Stroke: I60-I69)",
          "Accidents Except Drug Posioning (V01-X39, X43, X45-X59, Y85-Y86)",
          "Nephritis, Nephrotic Syndrome and Nephrisis (N00-N07, N17-N19, N25-N27)",
          "Chronic Liver Disease and Cirrhosis (K70, K73)",
          "Diseases of Heart (I00-I09, I11, I13, I20-I51)",
          "Cerebrovascular Disease (Stroke: I60-I69)",
          "Intentional Self-Harm (Suicide: X60-X84, Y87.0)",
          "Malignant Neoplasms (Cancer: C00-C97)",
          "Diseases of Heart (I00-I09, I11, I13, I20-I51)",
          "Accidents Except Drug Posioning (V01-X39, X43, X45-X59, Y85-Y86)",
          "Intentional Self-Harm (Suicide: X60-X84, Y87.0)",
          "Diabetes Mellitus (E10-E14)",
          "Accidents Except Drug Posioning (V01-X39, X43, X45-X59, Y85-Y86)",
          "Diseases of Heart (I00-I09, I11, I13, I20-I51)",
          "All Other Causes",
          "Accidents Except Drug Posioning (V01-X39, X43, X45-X59, Y85-Y86)",
          "Cerebrovascular Disease (Stroke: I60-I69)",
          "Diseases of Heart (I00-I09, I11, I13, I20-I51)",
          "Mental and Behavioral Disorders due to Accidental Poisoning and Other Psychoactive Substance Use (F11-F16, F18-F19, X40-X42, X44)",
          "All Other Causes",
          "All Other Causes",
          "Diabetes Mellitus (E10-E14)",
          "Malignant Neoplasms (Cancer: C00-C97)",
          "Chronic Lower Respiratory Diseases (J40-J47)",
          "Cerebrovascular Disease (Stroke: I60-I69)",
          "Cerebrovascular Disease (Stroke: I60-I69)",
          "Chronic Lower Respiratory Diseases (J40-J47)",
          "Human Immunodeficiency Virus Disease (HIV: B20-B24)",
          "Intentional Self-Harm (Suicide: X60-X84, Y87.0)",
          "Chronic Liver Disease and Cirrhosis (K70, K73)",
          "Assault (Homicide: Y87.1, X85-Y09)",
          "All Other Causes",
          "Cerebrovascular Disease (Stroke: I60-I69)",
          "Cerebrovascular Disease (Stroke: I60-I69)",
          "Essential Hypertension and Renal Diseases (I10, I12)",
          "Cerebrovascular Disease (Stroke: I60-I69)",
          "Mental and Behavioral Disorders due to Accidental Poisoning and Other Psychoactive Substance Use (F11-F16, F18-F19, X40-X42, X44)",
          "Diseases of Heart (I00-I09, I11, I13, I20-I51)",
          "Chronic Lower Respiratory Diseases (J40-J47)",
          "Accidents Except Drug Posioning (V01-X39, X43, X45-X59, Y85-Y86)",
          "Diseases of Heart (I00-I09, I11, I13, I20-I51)",
          "All Other Causes",
          "Cerebrovascular Disease (Stroke: I60-I69)",
          "Diabetes Mellitus (E10-E14)",
          "Essential Hypertension and Renal Diseases (I10, I12)",
          "All Other Causes",
          "Human Immunodeficiency Virus Disease (HIV: B20-B24)",
          "Influenza (Flu) and Pneumonia (J09-J18)",
          "All Other Causes",
          "All Other Causes",
          "Accidents Except Drug Posioning (V01-X39, X43, X45-X59, Y85-Y86)",
          "Essential Hypertension and Renal Diseases (I10, I12)",
          "All Other Causes",
          "Cerebrovascular Disease (Stroke: I60-I69)",
          "Diabetes Mellitus (E10-E14)",
          "Influenza (Flu) and Pneumonia (J09-J18)",
          "Chronic Liver Disease and Cirrhosis (K70, K73)",
          "Certain Conditions originating in the Perinatal Period (P00-P96)",
          "Chronic Lower Respiratory Diseases (J40-J47)",
          "Chronic Lower Respiratory Diseases (J40-J47)",
          "Mental and Behavioral Disorders due to Accidental Poisoning and Other Psychoactive Substance Use (F11-F16, F18-F19, X40-X42, X44)",
          "Mental and Behavioral Disorders due to Accidental Poisoning and Other Psychoactive Substance Use (F11-F16, F18-F19, X40-X42, X44)",
          "Cerebrovascular Disease (Stroke: I60-I69)",
          "Essential Hypertension and Renal Diseases (I10, I12)",
          "Human Immunodeficiency Virus Disease (HIV: B20-B24)",
          "Chronic Lower Respiratory Diseases (J40-J47)",
          "All Other Causes",
          "Diseases of Heart (I00-I09, I11, I13, I20-I51)",
          "Malignant Neoplasms (Cancer: C00-C97)",
          "All Other Causes",
          "Essential Hypertension and Renal Diseases (I10, I12)",
          "Nephritis, Nephrotic Syndrome and Nephrisis (N00-N07, N17-N19, N25-N27)",
          "Diseases of Heart (I00-I09, I11, I13, I20-I51)",
          "Malignant Neoplasms (Cancer: C00-C97)",
          "Mental and Behavioral Disorders due to Accidental Poisoning and Other Psychoactive Substance Use (F11-F16, F18-F19, X40-X42, X44)",
          "Accidents Except Drug Posioning (V01-X39, X43, X45-X59, Y85-Y86)",
          "All Other Causes",
          "Alzheimer's Disease (G30)",
          "Malignant Neoplasms (Cancer: C00-C97)",
          "Mental and Behavioral Disorders due to Accidental Poisoning and Other Psychoactive Substance Use (F11-F16, F18-F19, X40-X42, X44)",
          "Malignant Neoplasms (Cancer: C00-C97)",
          "Chronic Liver Disease and Cirrhosis (K70, K73)",
          "Alzheimer's Disease (G30)",
          "Cerebrovascular Disease (Stroke: I60-I69)",
          "Influenza (Flu) and Pneumonia (J09-J18)",
          "Intentional Self-Harm (Suicide: X60-X84, Y87.0)",
          "Chronic Lower Respiratory Diseases (J40-J47)",
          "Essential Hypertension and Renal Diseases (I10, I12)",
          "Diabetes Mellitus (E10-E14)",
          "Nephritis, Nephrotic Syndrome and Nephrisis (N00-N07, N17-N19, N25-N27)",
          "Essential Hypertension and Renal Diseases (I10, I12)",
          "Diabetes Mellitus (E10-E14)",
          "Cerebrovascular Disease (Stroke: I60-I69)",
          "Diabetes Mellitus (E10-E14)",
          "Diabetes Mellitus (E10-E14)",
          "Diseases of Heart (I00-I09, I11, I13, I20-I51)",
          "Chronic Lower Respiratory Diseases (J40-J47)",
          "Cerebrovascular Disease (Stroke: I60-I69)",
          "Essential Hypertension and Renal Diseases (I10, I12)",
          "Malignant Neoplasms (Cancer: C00-C97)",
          "Accidents Except Drug Posioning (V01-X39, X43, X45-X59, Y85-Y86)",
          "Mental and Behavioral Disorders due to Accidental Poisoning and Other Psychoactive Substance Use (F11-F16, F18-F19, X40-X42, X44)",
          "Alzheimer's Disease (G30)",
          "Chronic Lower Respiratory Diseases (J40-J47)",
          "Influenza (Flu) and Pneumonia (J09-J18)",
          "All Other Causes",
          "Essential Hypertension and Renal Diseases (I10, I12)",
          "Chronic Lower Respiratory Diseases (J40-J47)",
          "Diseases of Heart (I00-I09, I11, I13, I20-I51)",
          "Septicemia (A40-A41)",
          "Essential Hypertension and Renal Diseases (I10, I12)",
          "Essential Hypertension and Renal Diseases (I10, I12)",
          "Accidents Except Drug Posioning (V01-X39, X43, X45-X59, Y85-Y86)",
          "Mental and Behavioral Disorders due to Accidental Poisoning and Other Psychoactive Substance Use (F11-F16, F18-F19, X40-X42, X44)",
          "Malignant Neoplasms (Cancer: C00-C97)",
          "Cerebrovascular Disease (Stroke: I60-I69)",
          "Cerebrovascular Disease (Stroke: I60-I69)",
          "Essential Hypertension and Renal Diseases (I10, I12)",
          "Chronic Liver Disease and Cirrhosis (K70, K73)",
          "Influenza (Flu) and Pneumonia (J09-J18)",
          "Human Immunodeficiency Virus Disease (HIV: B20-B24)",
          "Chronic Lower Respiratory Diseases (J40-J47)",
          "Cerebrovascular Disease (Stroke: I60-I69)",
          "Chronic Lower Respiratory Diseases (J40-J47)",
          "Malignant Neoplasms (Cancer: C00-C97)",
          "Human Immunodeficiency Virus Disease (HIV: B20-B24)",
          "Septicemia (A40-A41)",
          "Accidents Except Drug Posioning (V01-X39, X43, X45-X59, Y85-Y86)",
          "Human Immunodeficiency Virus Disease (HIV: B20-B24)",
          "All Other Causes",
          "Cerebrovascular Disease (Stroke: I60-I69)",
          "Human Immunodeficiency Virus Disease (HIV: B20-B24)",
          "Influenza (Flu) and Pneumonia (J09-J18)",
          "Diabetes Mellitus (E10-E14)",
          "All Other Causes",
          "Influenza (Flu) and Pneumonia (J09-J18)",
          "All Other Causes",
          "Influenza (Flu) and Pneumonia (J09-J18)",
          "Human Immunodeficiency Virus Disease (HIV: B20-B24)",
          "All Other Causes",
          "Diseases of Heart (I00-I09, I11, I13, I20-I51)",
          "Diabetes Mellitus (E10-E14)",
          "Chronic Lower Respiratory Diseases (J40-J47)",
          "Human Immunodeficiency Virus Disease (HIV: B20-B24)",
          "Mental and Behavioral Disorders due to Accidental Poisoning and Other Psychoactive Substance Use (F11-F16, F18-F19, X40-X42, X44)",
          "Influenza (Flu) and Pneumonia (J09-J18)",
          "Cerebrovascular Disease (Stroke: I60-I69)",
          "Influenza (Flu) and Pneumonia (J09-J18)",
          "Chronic Lower Respiratory Diseases (J40-J47)",
          "Diseases of Heart (I00-I09, I11, I13, I20-I51)",
          "Accidents Except Drug Posioning (V01-X39, X43, X45-X59, Y85-Y86)",
          "Cerebrovascular Disease (Stroke: I60-I69)",
          "Nephritis, Nephrotic Syndrome and Nephrisis (N00-N07, N17-N19, N25-N27)",
          "Influenza (Flu) and Pneumonia (J09-J18)",
          "Diseases of Heart (I00-I09, I11, I13, I20-I51)",
          "Mental and Behavioral Disorders due to Accidental Poisoning and Other Psychoactive Substance Use (F11-F16, F18-F19, X40-X42, X44)",
          "Congenital Malformations, Deformations, and Chromosomal Abnormalities (Q00-Q99)",
          "Diabetes Mellitus (E10-E14)",
          "Malignant Neoplasms (Cancer: C00-C97)",
          "Assault (Homicide: Y87.1, X85-Y09)",
          "Diseases of Heart (I00-I09, I11, I13, I20-I51)",
          "Chronic Lower Respiratory Diseases (J40-J47)",
          "Diabetes Mellitus (E10-E14)",
          "Diseases of Heart (I00-I09, I11, I13, I20-I51)",
          "Diabetes Mellitus (E10-E14)",
          "Influenza (Flu) and Pneumonia (J09-J18)",
          "All Other Causes",
          "Diseases of Heart (I00-I09, I11, I13, I20-I51)",
          "Influenza (Flu) and Pneumonia (J09-J18)",
          "Influenza (Flu) and Pneumonia (J09-J18)",
          "Chronic Lower Respiratory Diseases (J40-J47)",
          "Influenza (Flu) and Pneumonia (J09-J18)",
          "Influenza (Flu) and Pneumonia (J09-J18)",
          "All Other Causes",
          "Assault (Homicide: Y87.1, X85-Y09)",
          "Essential Hypertension and Renal Diseases (I10, I12)",
          "Diabetes Mellitus (E10-E14)",
          "Malignant Neoplasms (Cancer: C00-C97)",
          "Essential Hypertension and Renal Diseases (I10, I12)",
          "Chronic Lower Respiratory Diseases (J40-J47)",
          "Accidents Except Drug Posioning (V01-X39, X43, X45-X59, Y85-Y86)",
          "Cerebrovascular Disease (Stroke: I60-I69)",
          "Cerebrovascular Disease (Stroke: I60-I69)",
          "Chronic Lower Respiratory Diseases (J40-J47)",
          "Essential Hypertension and Renal Diseases (I10, I12)",
          "Chronic Lower Respiratory Diseases (J40-J47)",
          "Influenza (Flu) and Pneumonia (J09-J18)",
          "Essential Hypertension and Renal Diseases (I10, I12)",
          "Malignant Neoplasms (Cancer: C00-C97)",
          "Influenza (Flu) and Pneumonia (J09-J18)",
          "Malignant Neoplasms (Cancer: C00-C97)",
          "Diseases of Heart (I00-I09, I11, I13, I20-I51)",
          "Accidents Except Drug Posioning (V01-X39, X43, X45-X59, Y85-Y86)",
          "All Other Causes",
          "All Other Causes",
          "Cerebrovascular Disease (Stroke: I60-I69)",
          "Nephritis, Nephrotic Syndrome and Nephrisis (N00-N07, N17-N19, N25-N27)",
          "Diseases of Heart (I00-I09, I11, I13, I20-I51)",
          "Malignant Neoplasms (Cancer: C00-C97)",
          "Diseases of Heart (I00-I09, I11, I13, I20-I51)",
          "Accidents Except Drug Posioning (V01-X39, X43, X45-X59, Y85-Y86)",
          "Cerebrovascular Disease (Stroke: I60-I69)",
          "Diseases of Heart (I00-I09, I11, I13, I20-I51)",
          "Chronic Lower Respiratory Diseases (J40-J47)",
          "Diabetes Mellitus (E10-E14)",
          "Influenza (Flu) and Pneumonia (J09-J18)",
          "Essential Hypertension and Renal Diseases (I10, I12)",
          "Influenza (Flu) and Pneumonia (J09-J18)",
          "Chronic Lower Respiratory Diseases (J40-J47)",
          "Influenza (Flu) and Pneumonia (J09-J18)",
          "Essential Hypertension and Renal Diseases (I10, I12)",
          "Diseases of Heart (I00-I09, I11, I13, I20-I51)",
          "Influenza (Flu) and Pneumonia (J09-J18)",
          "Malignant Neoplasms (Cancer: C00-C97)",
          "Alzheimer's Disease (G30)",
          "Diabetes Mellitus (E10-E14)",
          "Diabetes Mellitus (E10-E14)",
          "Accidents Except Drug Posioning (V01-X39, X43, X45-X59, Y85-Y86)",
          "Intentional Self-Harm (Suicide: X60-X84, Y87.0)",
          "Human Immunodeficiency Virus Disease (HIV: B20-B24)",
          "Mental and Behavioral Disorders due to Accidental Poisoning and Other Psychoactive Substance Use (F11-F16, F18-F19, X40-X42, X44)",
          "Cerebrovascular Disease (Stroke: I60-I69)",
          "Malignant Neoplasms (Cancer: C00-C97)",
          "Influenza (Flu) and Pneumonia (J09-J18)",
          "Influenza (Flu) and Pneumonia (J09-J18)",
          "Alzheimer's Disease (G30)",
          "Human Immunodeficiency Virus Disease (HIV: B20-B24)",
          "Alzheimer's Disease (G30)",
          "Assault (Homicide: Y87.1, X85-Y09)",
          "Malignant Neoplasms (Cancer: C00-C97)",
          "Intentional Self-Harm (Suicide: X60-X84, Y87.0)",
          "Human Immunodeficiency Virus Disease (HIV: B20-B24)",
          "Diabetes Mellitus (E10-E14)",
          "Influenza (Flu) and Pneumonia (J09-J18)",
          "All Other Causes",
          "Nephritis, Nephrotic Syndrome and Nephrisis (N00-N07, N17-N19, N25-N27)",
          "Accidents Except Drug Posioning (V01-X39, X43, X45-X59, Y85-Y86)",
          "Human Immunodeficiency Virus Disease (HIV: B20-B24)",
          "Accidents Except Drug Posioning (V01-X39, X43, X45-X59, Y85-Y86)",
          "Influenza (Flu) and Pneumonia (J09-J18)",
          "Cerebrovascular Disease (Stroke: I60-I69)",
          "Influenza (Flu) and Pneumonia (J09-J18)",
          "Essential Hypertension and Renal Diseases (I10, I12)",
          "Cerebrovascular Disease (Stroke: I60-I69)",
          "Cerebrovascular Disease (Stroke: I60-I69)",
          "Chronic Lower Respiratory Diseases (J40-J47)",
          "Accidents Except Drug Posioning (V01-X39, X43, X45-X59, Y85-Y86)",
          "Malignant Neoplasms (Cancer: C00-C97)",
          "Nephritis, Nephrotic Syndrome and Nephrisis (N00-N07, N17-N19, N25-N27)",
          "Influenza (Flu) and Pneumonia (J09-J18)",
          "Diseases of Heart (I00-I09, I11, I13, I20-I51)",
          "Malignant Neoplasms (Cancer: C00-C97)",
          "Chronic Liver Disease and Cirrhosis (K70, K73)",
          "Diseases of Heart (I00-I09, I11, I13, I20-I51)",
          "Influenza (Flu) and Pneumonia (J09-J18)",
          "Essential Hypertension and Renal Diseases (I10, I12)",
          "All Other Causes",
          "Alzheimer's Disease (G30)",
          "Diabetes Mellitus (E10-E14)",
          "Diseases of Heart (I00-I09, I11, I13, I20-I51)",
          "Influenza (Flu) and Pneumonia (J09-J18)",
          "Diseases of Heart (I00-I09, I11, I13, I20-I51)",
          "Cerebrovascular Disease (Stroke: I60-I69)",
          "Intentional Self-Harm (Suicide: X60-X84, Y87.0)",
          "Diseases of Heart (I00-I09, I11, I13, I20-I51)",
          "Diseases of Heart (I00-I09, I11, I13, I20-I51)",
          "Chronic Lower Respiratory Diseases (J40-J47)",
          "Malignant Neoplasms (Cancer: C00-C97)",
          "Essential Hypertension and Renal Diseases (I10, I12)",
          "Cerebrovascular Disease (Stroke: I60-I69)",
          "Diabetes Mellitus (E10-E14)",
          "Cerebrovascular Disease (Stroke: I60-I69)",
          "Essential Hypertension and Renal Diseases (I10, I12)",
          "Chronic Lower Respiratory Diseases (J40-J47)",
          "Chronic Lower Respiratory Diseases (J40-J47)",
          "Diabetes Mellitus (E10-E14)",
          "All Other Causes",
          "Influenza (Flu) and Pneumonia (J09-J18)",
          "Diabetes Mellitus (E10-E14)",
          "All Other Causes",
          "Intentional Self-Harm (Suicide: X60-X84, Y87.0)",
          "Cerebrovascular Disease (Stroke: I60-I69)",
          "Diabetes Mellitus (E10-E14)",
          "Diseases of Heart (I00-I09, I11, I13, I20-I51)",
          "Chronic Lower Respiratory Diseases (J40-J47)",
          "Intentional Self-Harm (Suicide: X60-X84, Y87.0)",
          "Essential Hypertension and Renal Diseases (I10, I12)",
          "Chronic Liver Disease and Cirrhosis (K70, K73)",
          "Alzheimer's Disease (G30)",
          "Mental and Behavioral Disorders due to Accidental Poisoning and Other Psychoactive Substance Use (F11-F16, F18-F19, X40-X42, X44)",
          "Chronic Lower Respiratory Diseases (J40-J47)",
          "Malignant Neoplasms (Cancer: C00-C97)",
          "All Other Causes",
          "Accidents Except Drug Posioning (V01-X39, X43, X45-X59, Y85-Y86)",
          "Influenza (Flu) and Pneumonia (J09-J18)",
          "Chronic Liver Disease and Cirrhosis (K70, K73)",
          "Cerebrovascular Disease (Stroke: I60-I69)",
          "Diseases of Heart (I00-I09, I11, I13, I20-I51)",
          "Cerebrovascular Disease (Stroke: I60-I69)",
          "Chronic Lower Respiratory Diseases (J40-J47)",
          "Malignant Neoplasms (Cancer: C00-C97)",
          "Diseases of Heart (I00-I09, I11, I13, I20-I51)",
          "Influenza (Flu) and Pneumonia (J09-J18)",
          "Accidents Except Drug Posioning (V01-X39, X43, X45-X59, Y85-Y86)",
          "Human Immunodeficiency Virus Disease (HIV: B20-B24)",
          "Essential Hypertension and Renal Diseases (I10, I12)",
          "Chronic Lower Respiratory Diseases (J40-J47)",
          "Diabetes Mellitus (E10-E14)",
          "Diseases of Heart (I00-I09, I11, I13, I20-I51)",
          "Chronic Lower Respiratory Diseases (J40-J47)",
          "Malignant Neoplasms (Cancer: C00-C97)",
          "Chronic Lower Respiratory Diseases (J40-J47)",
          "Essential Hypertension and Renal Diseases (I10, I12)",
          "Diabetes Mellitus (E10-E14)",
          "Essential Hypertension and Renal Diseases (I10, I12)",
          "Influenza (Flu) and Pneumonia (J09-J18)",
          "Malignant Neoplasms (Cancer: C00-C97)",
          "Assault (Homicide: Y87.1, X85-Y09)",
          "Accidents Except Drug Posioning (V01-X39, X43, X45-X59, Y85-Y86)",
          "Mental and Behavioral Disorders due to Accidental Poisoning and Other Psychoactive Substance Use (F11-F16, F18-F19, X40-X42, X44)",
          "Influenza (Flu) and Pneumonia (J09-J18)",
          "Malignant Neoplasms (Cancer: C00-C97)",
          "All Other Causes",
          "Accidents Except Drug Posioning (V01-X39, X43, X45-X59, Y85-Y86)",
          "Essential Hypertension and Renal Diseases (I10, I12)",
          "Accidents Except Drug Posioning (V01-X39, X43, X45-X59, Y85-Y86)",
          "Influenza (Flu) and Pneumonia (J09-J18)",
          "Diabetes Mellitus (E10-E14)",
          "Chronic Lower Respiratory Diseases (J40-J47)",
          "Diabetes Mellitus (E10-E14)",
          "Diabetes Mellitus (E10-E14)",
          "Essential Hypertension and Renal Diseases (I10, I12)",
          "Accidents Except Drug Posioning (V01-X39, X43, X45-X59, Y85-Y86)",
          "Chronic Lower Respiratory Diseases (J40-J47)",
          "Septicemia (A40-A41)",
          "Diseases of Heart (I00-I09, I11, I13, I20-I51)",
          "Cerebrovascular Disease (Stroke: I60-I69)",
          "Diseases of Heart (I00-I09, I11, I13, I20-I51)",
          "Malignant Neoplasms (Cancer: C00-C97)",
          "All Other Causes",
          "All Other Causes",
          "Influenza (Flu) and Pneumonia (J09-J18)",
          "All Other Causes",
          "Chronic Lower Respiratory Diseases (J40-J47)",
          "Diseases of Heart (I00-I09, I11, I13, I20-I51)",
          "Septicemia (A40-A41)",
          "Intentional Self-Harm (Suicide: X60-X84, Y87.0)",
          "All Other Causes",
          "Chronic Liver Disease and Cirrhosis (K70, K73)",
          "Accidents Except Drug Posioning (V01-X39, X43, X45-X59, Y85-Y86)",
          "Diseases of Heart (I00-I09, I11, I13, I20-I51)",
          "Malignant Neoplasms (Cancer: C00-C97)",
          "Cerebrovascular Disease (Stroke: I60-I69)",
          "Malignant Neoplasms (Cancer: C00-C97)",
          "Diseases of Heart (I00-I09, I11, I13, I20-I51)",
          "Influenza (Flu) and Pneumonia (J09-J18)",
          "Essential Hypertension and Renal Diseases (I10, I12)",
          "Diabetes Mellitus (E10-E14)",
          "Chronic Lower Respiratory Diseases (J40-J47)",
          "Accidents Except Drug Posioning (V01-X39, X43, X45-X59, Y85-Y86)",
          "Diabetes Mellitus (E10-E14)",
          "All Other Causes",
          "Nephritis, Nephrotic Syndrome and Nephrisis (N00-N07, N17-N19, N25-N27)",
          "Accidents Except Drug Posioning (V01-X39, X43, X45-X59, Y85-Y86)",
          "Essential Hypertension and Renal Diseases (I10, I12)",
          "Alzheimer's Disease (G30)",
          "Cerebrovascular Disease (Stroke: I60-I69)",
          "Mental and Behavioral Disorders due to Accidental Poisoning and Other Psychoactive Substance Use (F11-F16, F18-F19, X40-X42, X44)",
          "Human Immunodeficiency Virus Disease (HIV: B20-B24)",
          "Alzheimer's Disease (G30)",
          "Diabetes Mellitus (E10-E14)",
          "Human Immunodeficiency Virus Disease (HIV: B20-B24)",
          "Chronic Lower Respiratory Diseases (J40-J47)",
          "Malignant Neoplasms (Cancer: C00-C97)",
          "Malignant Neoplasms (Cancer: C00-C97)",
          "Human Immunodeficiency Virus Disease (HIV: B20-B24)",
          "Diabetes Mellitus (E10-E14)",
          "Chronic Lower Respiratory Diseases (J40-J47)",
          "Diseases of Heart (I00-I09, I11, I13, I20-I51)",
          "Alzheimer's Disease (G30)",
          "Malignant Neoplasms (Cancer: C00-C97)",
          "Malignant Neoplasms (Cancer: C00-C97)",
          "Essential Hypertension and Renal Diseases (I10, I12)",
          "Malignant Neoplasms (Cancer: C00-C97)",
          "Essential Hypertension and Renal Diseases (I10, I12)",
          "Chronic Lower Respiratory Diseases (J40-J47)",
          "Diabetes Mellitus (E10-E14)",
          "Influenza (Flu) and Pneumonia (J09-J18)",
          "All Other Causes",
          "All Other Causes",
          "Influenza (Flu) and Pneumonia (J09-J18)",
          "All Other Causes",
          "Diseases of Heart (I00-I09, I11, I13, I20-I51)",
          "Chronic Lower Respiratory Diseases (J40-J47)",
          "Intentional Self-Harm (Suicide: X60-X84, Y87.0)",
          "Human Immunodeficiency Virus Disease (HIV: B20-B24)",
          "Essential Hypertension and Renal Diseases (I10, I12)",
          "Cerebrovascular Disease (Stroke: I60-I69)",
          "Chronic Liver Disease and Cirrhosis (K70, K73)",
          "All Other Causes",
          "All Other Causes",
          "Diabetes Mellitus (E10-E14)",
          "Diseases of Heart (I00-I09, I11, I13, I20-I51)",
          "Malignant Neoplasms (Cancer: C00-C97)",
          "Accidents Except Drug Posioning (V01-X39, X43, X45-X59, Y85-Y86)",
          "Septicemia (A40-A41)",
          "Malignant Neoplasms (Cancer: C00-C97)",
          "Diseases of Heart (I00-I09, I11, I13, I20-I51)",
          "Diabetes Mellitus (E10-E14)",
          "Chronic Lower Respiratory Diseases (J40-J47)",
          "Influenza (Flu) and Pneumonia (J09-J18)",
          "Influenza (Flu) and Pneumonia (J09-J18)",
          "Accidents Except Drug Posioning (V01-X39, X43, X45-X59, Y85-Y86)",
          "Diabetes Mellitus (E10-E14)",
          "Intentional Self-Harm (Suicide: X60-X84, Y87.0)",
          "All Other Causes",
          "Cerebrovascular Disease (Stroke: I60-I69)",
          "Malignant Neoplasms (Cancer: C00-C97)",
          "Chronic Lower Respiratory Diseases (J40-J47)",
          "Malignant Neoplasms (Cancer: C00-C97)",
          "Mental and Behavioral Disorders due to Accidental Poisoning and Other Psychoactive Substance Use (F11-F16, F18-F19, X40-X42, X44)",
          "Chronic Liver Disease and Cirrhosis (K70, K73)",
          "Essential Hypertension and Renal Diseases (I10, I12)",
          "Human Immunodeficiency Virus Disease (HIV: B20-B24)",
          "Influenza (Flu) and Pneumonia (J09-J18)",
          "Diabetes Mellitus (E10-E14)",
          "Essential Hypertension and Renal Diseases (I10, I12)",
          "All Other Causes",
          "Diseases of Heart (I00-I09, I11, I13, I20-I51)",
          "Malignant Neoplasms (Cancer: C00-C97)",
          "Mental and Behavioral Disorders due to Accidental Poisoning and Other Psychoactive Substance Use (F11-F16, F18-F19, X40-X42, X44)",
          "Accidents Except Drug Posioning (V01-X39, X43, X45-X59, Y85-Y86)",
          "Human Immunodeficiency Virus Disease (HIV: B20-B24)",
          "Malignant Neoplasms (Cancer: C00-C97)",
          "Diabetes Mellitus (E10-E14)",
          "Cerebrovascular Disease (Stroke: I60-I69)",
          "Septicemia (A40-A41)",
          "Chronic Lower Respiratory Diseases (J40-J47)",
          "Influenza (Flu) and Pneumonia (J09-J18)",
          "Malignant Neoplasms (Cancer: C00-C97)",
          "Influenza (Flu) and Pneumonia (J09-J18)",
          "Essential Hypertension and Renal Diseases (I10, I12)",
          "Influenza (Flu) and Pneumonia (J09-J18)",
          "Diabetes Mellitus (E10-E14)",
          "Mental and Behavioral Disorders due to Accidental Poisoning and Other Psychoactive Substance Use (F11-F16, F18-F19, X40-X42, X44)",
          "Mental and Behavioral Disorders due to Accidental Poisoning and Other Psychoactive Substance Use (F11-F16, F18-F19, X40-X42, X44)",
          "Chronic Liver Disease and Cirrhosis (K70, K73)",
          "Diabetes Mellitus (E10-E14)",
          "Cerebrovascular Disease (Stroke: I60-I69)",
          "Essential Hypertension and Renal Diseases (I10, I12)",
          "Certain Conditions originating in the Perinatal Period (P00-P96)",
          "Human Immunodeficiency Virus Disease (HIV: B20-B24)",
          "Mental and Behavioral Disorders due to Accidental Poisoning and Other Psychoactive Substance Use (F11-F16, F18-F19, X40-X42, X44)",
          "Diseases of Heart (I00-I09, I11, I13, I20-I51)",
          "Chronic Lower Respiratory Diseases (J40-J47)",
          "Intentional Self-Harm (Suicide: X60-X84, Y87.0)",
          "Alzheimer's Disease (G30)",
          "Essential Hypertension and Renal Diseases (I10, I12)",
          "Intentional Self-Harm (Suicide: X60-X84, Y87.0)",
          "Diabetes Mellitus (E10-E14)",
          "Intentional Self-Harm (Suicide: X60-X84, Y87.0)",
          "Malignant Neoplasms (Cancer: C00-C97)",
          "All Other Causes",
          "Influenza (Flu) and Pneumonia (J09-J18)",
          "Accidents Except Drug Posioning (V01-X39, X43, X45-X59, Y85-Y86)",
          "All Other Causes",
          "Diabetes Mellitus (E10-E14)",
          "Chronic Lower Respiratory Diseases (J40-J47)",
          "All Other Causes",
          "Influenza (Flu) and Pneumonia (J09-J18)",
          "Alzheimer's Disease (G30)",
          "All Other Causes",
          "Cerebrovascular Disease (Stroke: I60-I69)",
          "Intentional Self-Harm (Suicide: X60-X84, Y87.0)",
          "Essential Hypertension and Renal Diseases (I10, I12)",
          "Malignant Neoplasms (Cancer: C00-C97)",
          "Essential Hypertension and Renal Diseases (I10, I12)",
          "All Other Causes",
          "Malignant Neoplasms (Cancer: C00-C97)",
          "Alzheimer's Disease (G30)",
          "Diabetes Mellitus (E10-E14)",
          "Chronic Liver Disease and Cirrhosis (K70, K73)",
          "All Other Causes",
          "Intentional Self-Harm (Suicide: X60-X84, Y87.0)",
          "Diabetes Mellitus (E10-E14)",
          "Diabetes Mellitus (E10-E14)",
          "Chronic Lower Respiratory Diseases (J40-J47)",
          "Nephritis, Nephrotic Syndrome and Nephrisis (N00-N07, N17-N19, N25-N27)",
          "Cerebrovascular Disease (Stroke: I60-I69)",
          "Intentional Self-Harm (Suicide: X60-X84, Y87.0)",
          "Accidents Except Drug Posioning (V01-X39, X43, X45-X59, Y85-Y86)",
          "Cerebrovascular Disease (Stroke: I60-I69)",
          "Alzheimer's Disease (G30)",
          "Malignant Neoplasms (Cancer: C00-C97)",
          "Influenza (Flu) and Pneumonia (J09-J18)",
          "Cerebrovascular Disease (Stroke: I60-I69)",
          "Malignant Neoplasms (Cancer: C00-C97)",
          "Chronic Lower Respiratory Diseases (J40-J47)",
          "Cerebrovascular Disease (Stroke: I60-I69)",
          "Alzheimer's Disease (G30)",
          "Diabetes Mellitus (E10-E14)",
          "Accidents Except Drug Posioning (V01-X39, X43, X45-X59, Y85-Y86)",
          "Diabetes Mellitus (E10-E14)",
          "Chronic Lower Respiratory Diseases (J40-J47)",
          "Influenza (Flu) and Pneumonia (J09-J18)",
          "Influenza (Flu) and Pneumonia (J09-J18)",
          "Diabetes Mellitus (E10-E14)",
          "Malignant Neoplasms (Cancer: C00-C97)",
          "All Other Causes",
          "Diabetes Mellitus (E10-E14)",
          "Essential Hypertension and Renal Diseases (I10, I12)",
          "Influenza (Flu) and Pneumonia (J09-J18)",
          "Human Immunodeficiency Virus Disease (HIV: B20-B24)",
          "Influenza (Flu) and Pneumonia (J09-J18)",
          "Influenza (Flu) and Pneumonia (J09-J18)",
          "Diseases of Heart (I00-I09, I11, I13, I20-I51)",
          "Essential Hypertension and Renal Diseases (I10, I12)",
          "Diabetes Mellitus (E10-E14)",
          "Diabetes Mellitus (E10-E14)",
          "Cerebrovascular Disease (Stroke: I60-I69)",
          "Cerebrovascular Disease (Stroke: I60-I69)",
          "Diabetes Mellitus (E10-E14)",
          "Diseases of Heart (I00-I09, I11, I13, I20-I51)",
          "Influenza (Flu) and Pneumonia (J09-J18)",
          "Nephritis, Nephrotic Syndrome and Nephrisis (N00-N07, N17-N19, N25-N27)",
          "Chronic Lower Respiratory Diseases (J40-J47)",
          "Influenza (Flu) and Pneumonia (J09-J18)",
          "Cerebrovascular Disease (Stroke: I60-I69)",
          "Diabetes Mellitus (E10-E14)",
          "Accidents Except Drug Posioning (V01-X39, X43, X45-X59, Y85-Y86)",
          "Intentional Self-Harm (Suicide: X60-X84, Y87.0)",
          "Intentional Self-Harm (Suicide: X60-X84, Y87.0)",
          "Essential Hypertension and Renal Diseases (I10, I12)",
          "Malignant Neoplasms (Cancer: C00-C97)",
          "Alzheimer's Disease (G30)",
          "Human Immunodeficiency Virus Disease (HIV: B20-B24)",
          "All Other Causes",
          "Diseases of Heart (I00-I09, I11, I13, I20-I51)",
          "Malignant Neoplasms (Cancer: C00-C97)",
          "Human Immunodeficiency Virus Disease (HIV: B20-B24)",
          "Diabetes Mellitus (E10-E14)",
          "Diseases of Heart (I00-I09, I11, I13, I20-I51)",
          "Accidents Except Drug Posioning (V01-X39, X43, X45-X59, Y85-Y86)",
          "Malignant Neoplasms (Cancer: C00-C97)",
          "Chronic Lower Respiratory Diseases (J40-J47)",
          "Chronic Lower Respiratory Diseases (J40-J47)",
          "Accidents Except Drug Posioning (V01-X39, X43, X45-X59, Y85-Y86)",
          "All Other Causes",
          "Diseases of Heart (I00-I09, I11, I13, I20-I51)",
          "Alzheimer's Disease (G30)",
          "Chronic Lower Respiratory Diseases (J40-J47)",
          "Mental and Behavioral Disorders due to Accidental Poisoning and Other Psychoactive Substance Use (F11-F16, F18-F19, X40-X42, X44)",
          "Human Immunodeficiency Virus Disease (HIV: B20-B24)",
          "Cerebrovascular Disease (Stroke: I60-I69)",
          "Assault (Homicide: Y87.1, X85-Y09)",
          "Nephritis, Nephrotic Syndrome and Nephrisis (N00-N07, N17-N19, N25-N27)",
          "Malignant Neoplasms (Cancer: C00-C97)",
          "Influenza (Flu) and Pneumonia (J09-J18)",
          "Accidents Except Drug Posioning (V01-X39, X43, X45-X59, Y85-Y86)",
          "Alzheimer's Disease (G30)",
          "Essential Hypertension and Renal Diseases (I10, I12)",
          "Assault (Homicide: Y87.1, X85-Y09)",
          "All Other Causes",
          "Diseases of Heart (I00-I09, I11, I13, I20-I51)",
          "All Other Causes",
          "Diabetes Mellitus (E10-E14)",
          "Malignant Neoplasms (Cancer: C00-C97)",
          "All Other Causes",
          "Essential Hypertension and Renal Diseases (I10, I12)",
          "Accidents Except Drug Posioning (V01-X39, X43, X45-X59, Y85-Y86)",
          "Accidents Except Drug Posioning (V01-X39, X43, X45-X59, Y85-Y86)",
          "Human Immunodeficiency Virus Disease (HIV: B20-B24)",
          "Malignant Neoplasms (Cancer: C00-C97)",
          "Diseases of Heart (I00-I09, I11, I13, I20-I51)",
          "Diseases of Heart (I00-I09, I11, I13, I20-I51)",
          "All Other Causes",
          "Malignant Neoplasms (Cancer: C00-C97)",
          "All Other Causes",
          "Diseases of Heart (I00-I09, I11, I13, I20-I51)",
          "Malignant Neoplasms (Cancer: C00-C97)",
          "Chronic Lower Respiratory Diseases (J40-J47)",
          "Essential Hypertension and Renal Diseases (I10, I12)",
          "Chronic Liver Disease and Cirrhosis (K70, K73)",
          "Accidents Except Drug Posioning (V01-X39, X43, X45-X59, Y85-Y86)",
          "All Other Causes",
          "Intentional Self-Harm (Suicide: X60-X84, Y87.0)",
          "Diseases of Heart (I00-I09, I11, I13, I20-I51)",
          "Cerebrovascular Disease (Stroke: I60-I69)",
          "Diseases of Heart (I00-I09, I11, I13, I20-I51)",
          "Diseases of Heart (I00-I09, I11, I13, I20-I51)",
          "Intentional Self-Harm (Suicide: X60-X84, Y87.0)",
          "Chronic Lower Respiratory Diseases (J40-J47)",
          "Diseases of Heart (I00-I09, I11, I13, I20-I51)",
          "Accidents Except Drug Posioning (V01-X39, X43, X45-X59, Y85-Y86)",
          "Influenza (Flu) and Pneumonia (J09-J18)",
          "Essential Hypertension and Renal Diseases (I10, I12)",
          "Accidents Except Drug Posioning (V01-X39, X43, X45-X59, Y85-Y86)",
          "Cerebrovascular Disease (Stroke: I60-I69)",
          "Accidents Except Drug Posioning (V01-X39, X43, X45-X59, Y85-Y86)",
          "Malignant Neoplasms (Cancer: C00-C97)",
          "Intentional Self-Harm (Suicide: X60-X84, Y87.0)",
          "Diabetes Mellitus (E10-E14)",
          "Accidents Except Drug Posioning (V01-X39, X43, X45-X59, Y85-Y86)",
          "Diseases of Heart (I00-I09, I11, I13, I20-I51)",
          "All Other Causes",
          "Alzheimer's Disease (G30)",
          "Cerebrovascular Disease (Stroke: I60-I69)",
          "Cerebrovascular Disease (Stroke: I60-I69)",
          "Chronic Lower Respiratory Diseases (J40-J47)",
          "Essential Hypertension and Renal Diseases (I10, I12)",
          "Accidents Except Drug Posioning (V01-X39, X43, X45-X59, Y85-Y86)",
          "Chronic Liver Disease and Cirrhosis (K70, K73)",
          "Accidents Except Drug Posioning (V01-X39, X43, X45-X59, Y85-Y86)",
          "Accidents Except Drug Posioning (V01-X39, X43, X45-X59, Y85-Y86)",
          "Mental and Behavioral Disorders due to Accidental Poisoning and Other Psychoactive Substance Use (F11-F16, F18-F19, X40-X42, X44)",
          "Accidents Except Drug Posioning (V01-X39, X43, X45-X59, Y85-Y86)",
          "Accidents Except Drug Posioning (V01-X39, X43, X45-X59, Y85-Y86)",
          "Human Immunodeficiency Virus Disease (HIV: B20-B24)",
          "All Other Causes",
          "Chronic Lower Respiratory Diseases (J40-J47)",
          "Malignant Neoplasms (Cancer: C00-C97)",
          "Malignant Neoplasms (Cancer: C00-C97)",
          "Accidents Except Drug Posioning (V01-X39, X43, X45-X59, Y85-Y86)",
          "Diseases of Heart (I00-I09, I11, I13, I20-I51)",
          "Malignant Neoplasms (Cancer: C00-C97)",
          "Mental and Behavioral Disorders due to Accidental Poisoning and Other Psychoactive Substance Use (F11-F16, F18-F19, X40-X42, X44)",
          "Diabetes Mellitus (E10-E14)",
          "Influenza (Flu) and Pneumonia (J09-J18)",
          "Cerebrovascular Disease (Stroke: I60-I69)",
          "Accidents Except Drug Poisoning (V01-X39, X43, X45-X59, Y85-Y86)",
          "Chronic Liver Disease and Cirrhosis (K70, K73-K74)",
          "Chronic Lower Respiratory Diseases (J40-J47)",
          "Essential Hypertension and Renal Diseases (I10, I12)",
          "All Other Causes",
          "Diseases of Heart (I00-I09, I11, I13, I20-I51)",
          "Malignant Neoplasms (Cancer: C00-C97)",
          "Cerebrovascular Disease (Stroke: I60-I69)",
          "Influenza (Flu) and Pneumonia (J09-J18)",
          "Chronic Lower Respiratory Diseases (J40-J47)",
          "Diabetes Mellitus (E10-E14)",
          "Essential Hypertension and Renal Diseases (I10, I12)",
          "Accidents Except Drug Poisoning (V01-X39, X43, X45-X59, Y85-Y86)",
          "Intentional Self-Harm (Suicide: U03, X60-X84, Y87.0)",
          "Alzheimer's Disease (G30)",
          "All Other Causes",
          "Diseases of Heart (I00-I09, I11, I13, I20-I51)",
          "Malignant Neoplasms (Cancer: C00-C97)",
          "Mental and Behavioral Disorders due to Accidental Poisoning and Other Psychoactive Substance Use (F11-F16, F18-F19, X40-X42, X44)",
          "Chronic Lower Respiratory Diseases (J40-J47)",
          "Influenza (Flu) and Pneumonia (J09-J18)",
          "Accidents Except Drug Poisoning (V01-X39, X43, X45-X59, Y85-Y86)",
          "Cerebrovascular Disease (Stroke: I60-I69)",
          "Diabetes Mellitus (E10-E14)",
          "Intentional Self-Harm (Suicide: U03, X60-X84, Y87.0)",
          "Essential Hypertension and Renal Diseases (I10, I12)",
          "All Other Causes",
          "Diseases of Heart (I00-I09, I11, I13, I20-I51)",
          "Malignant Neoplasms (Cancer: C00-C97)",
          "Diabetes Mellitus (E10-E14)",
          "Mental and Behavioral Disorders due to Accidental Poisoning and Other Psychoactive Substance Use (F11-F16, F18-F19, X40-X42, X44)",
          "Cerebrovascular Disease (Stroke: I60-I69)",
          "Influenza (Flu) and Pneumonia (J09-J18)",
          "Chronic Lower Respiratory Diseases (J40-J47)",
          "Essential Hypertension and Renal Diseases (I10, I12)",
          "Assault (Homicide: U01-U02, Y87.1, X85-Y09)",
          "Accidents Except Drug Poisoning (V01-X39, X43, X45-X59, Y85-Y86)",
          "All Other Causes",
          "Diseases of Heart (I00-I09, I11, I13, I20-I51)",
          "Malignant Neoplasms (Cancer: C00-C97)",
          "Intentional Self-Harm (Suicide: U03, X60-X84, Y87.0)",
          "Diabetes Mellitus (E10-E14)",
          "Cerebrovascular Disease (Stroke: I60-I69)",
          "Essential Hypertension and Renal Diseases (I10, I12)",
          "Mental and Behavioral Disorders due to Accidental Poisoning and Other Psychoactive Substance Use (F11-F16, F18-F19, X40-X42, X44)",
          "Chronic Lower Respiratory Diseases (J40-J47)",
          "Influenza (Flu) and Pneumonia (J09-J18)",
          "Mental and Behavioral Disorders due to Use of Alcohol (F10)",
          "Accidents Except Drug Poisoning (V01-X39, X43, X45-X59, Y85-Y86)",
          "Chronic Liver Disease and Cirrhosis (K70, K73-K74)",
          "All Other Causes",
          "Diseases of Heart (I00-I09, I11, I13, I20-I51)",
          "Malignant Neoplasms (Cancer: C00-C97)",
          "Influenza (Flu) and Pneumonia (J09-J18)",
          "Mental and Behavioral Disorders due to Accidental Poisoning and Other Psychoactive Substance Use (F11-F16, F18-F19, X40-X42, X44)",
          "Diabetes Mellitus (E10-E14)",
          "Congenital Malformations, Deformations, and Chromosomal Abnormalities (Q00-Q99)",
          "Assault (Homicide: U01-U02, Y87.1, X85-Y09)",
          "Aortic Aneurysm and Dissection (I71)",
          "Intentional Self-Harm (Suicide: U03, X60-X84, Y87.0)",
          "Viral Hepatitis (B15-B19)",
          "Septicemia (A40-A41)",
          "Mental and Behavioral Disorders due to Use of Alcohol (F10)",
          "Complications of Medical and Surgical Care (Y40-Y84, Y88)",
          "Essential Hypertension and Renal Diseases (I10, I12)",
          "Accidents Except Drug Poisoning (V01-X39, X43, X45-X59, Y85-Y86)",
          "Cerebrovascular Disease (Stroke: I60-I69)",
          "Human Immunodeficiency Virus Disease (HIV: B20-B24)",
          "Alzheimer's Disease (G30)",
          "Cholelithiasis and Disorders of Gallbladder (K80-K82)",
          "All Other Causes",
          "Diseases of Heart (I00-I09, I11, I13, I20-I51)",
          "Malignant Neoplasms (Cancer: C00-C97)",
          "Diabetes Mellitus (E10-E14)",
          "Chronic Lower Respiratory Diseases (J40-J47)",
          "Mental and Behavioral Disorders due to Accidental Poisoning and Other Psychoactive Substance Use (F11-F16, F18-F19, X40-X42, X44)",
          "Accidents Except Drug Poisoning (V01-X39, X43, X45-X59, Y85-Y86)",
          "Influenza (Flu) and Pneumonia (J09-J18)",
          "Mental and Behavioral Disorders due to Use of Alcohol (F10)",
          "Certain Conditions originating in the Perinatal Period (P00-P96)",
          "Chronic Liver Disease and Cirrhosis (K70, K73-K74)",
          "All Other Causes",
          "Diseases of Heart (I00-I09, I11, I13, I20-I51)",
          "Malignant Neoplasms (Cancer: C00-C97)",
          "Cerebrovascular Disease (Stroke: I60-I69)",
          "Alzheimer's Disease (G30)",
          "Diabetes Mellitus (E10-E14)",
          "Chronic Lower Respiratory Diseases (J40-J47)",
          "Influenza (Flu) and Pneumonia (J09-J18)",
          "Essential Hypertension and Renal Diseases (I10, I12)",
          "Mental and Behavioral Disorders due to Accidental Poisoning and Other Psychoactive Substance Use (F11-F16, F18-F19, X40-X42, X44)",
          "Accidents Except Drug Poisoning (V01-X39, X43, X45-X59, Y85-Y86)",
          "All Other Causes",
          "Diseases of Heart (I00-I09, I11, I13, I20-I51)",
          "Malignant Neoplasms (Cancer: C00-C97)",
          "Cerebrovascular Disease (Stroke: I60-I69)",
          "Diabetes Mellitus (E10-E14)",
          "Influenza (Flu) and Pneumonia (J09-J18)",
          "Essential Hypertension and Renal Diseases (I10, I12)",
          "Alzheimer's Disease (G30)",
          "Chronic Lower Respiratory Diseases (J40-J47)",
          "Intentional Self-Harm (Suicide: U03, X60-X84, Y87.0)",
          "Accidents Except Drug Poisoning (V01-X39, X43, X45-X59, Y85-Y86)",
          "All Other Causes",
          "Diseases of Heart (I00-I09, I11, I13, I20-I51)",
          "Malignant Neoplasms (Cancer: C00-C97)",
          "Chronic Lower Respiratory Diseases (J40-J47)",
          "Cerebrovascular Disease (Stroke: I60-I69)",
          "Alzheimer's Disease (G30)",
          "Influenza (Flu) and Pneumonia (J09-J18)",
          "Essential Hypertension and Renal Diseases (I10, I12)",
          "Diabetes Mellitus (E10-E14)",
          "Accidents Except Drug Poisoning (V01-X39, X43, X45-X59, Y85-Y86)",
          "Mental and Behavioral Disorders due to Accidental Poisoning and Other Psychoactive Substance Use (F11-F16, F18-F19, X40-X42, X44)",
          "All Other Causes",
          "Diseases of Heart (I00-I09, I11, I13, I20-I51)",
          "Malignant Neoplasms (Cancer: C00-C97)",
          "Diabetes Mellitus (E10-E14)",
          "Cerebrovascular Disease (Stroke: I60-I69)",
          "Essential Hypertension and Renal Diseases (I10, I12)",
          "Chronic Lower Respiratory Diseases (J40-J47)",
          "Influenza (Flu) and Pneumonia (J09-J18)",
          "Alzheimer's Disease (G30)",
          "Mental and Behavioral Disorders due to Accidental Poisoning and Other Psychoactive Substance Use (F11-F16, F18-F19, X40-X42, X44)",
          "Nephritis, Nephrotic Syndrome and Nephrisis (N00-N07, N17-N19, N25-N27)",
          "All Other Causes",
          "Diseases of Heart (I00-I09, I11, I13, I20-I51)",
          "Malignant Neoplasms (Cancer: C00-C97)",
          "Diabetes Mellitus (E10-E14)",
          "Cerebrovascular Disease (Stroke: I60-I69)",
          "Essential Hypertension and Renal Diseases (I10, I12)",
          "Mental and Behavioral Disorders due to Accidental Poisoning and Other Psychoactive Substance Use (F11-F16, F18-F19, X40-X42, X44)",
          "Assault (Homicide: U01-U02, Y87.1, X85-Y09)",
          "Accidents Except Drug Poisoning (V01-X39, X43, X45-X59, Y85-Y86)",
          "Alzheimer's Disease (G30)",
          "Influenza (Flu) and Pneumonia (J09-J18)",
          "Complications of Medical and Surgical Care (Y40-Y84, Y88)",
          "Septicemia (A40-A41)",
          "Insitu or Benign / Uncertain Neoplasms (D00-D48)",
          "All Other Causes",
          "Diseases of Heart (I00-I09, I11, I13, I20-I51)",
          "Malignant Neoplasms (Cancer: C00-C97)",
          "Influenza (Flu) and Pneumonia (J09-J18)",
          "Alzheimer's Disease (G30)",
          "Chronic Lower Respiratory Diseases (J40-J47)",
          "Cerebrovascular Disease (Stroke: I60-I69)",
          "Essential Hypertension and Renal Diseases (I10, I12)",
          "Nephritis, Nephrotic Syndrome and Nephrisis (N00-N07, N17-N19, N25-N27)",
          "Mental and Behavioral Disorders due to Accidental Poisoning and Other Psychoactive Substance Use (F11-F16, F18-F19, X40-X42, X44)",
          "Mental and Behavioral Disorders due to Use of Alcohol (F10)",
          "Diabetes Mellitus (E10-E14)",
          "Intentional Self-Harm (Suicide: U03, X60-X84, Y87.0)",
          "Accidents Except Drug Poisoning (V01-X39, X43, X45-X59, Y85-Y86)",
          "Congenital Malformations, Deformations, and Chromosomal Abnormalities (Q00-Q99)",
          "Septicemia (A40-A41)",
          "Anemias (D50-D64)",
          "Cholelithiasis and Disorders of Gallbladder (K80-K82)",
          "Parkinson's Disease (G20)",
          "Peptic Ulcer (K25-K28)",
          "All Other Causes",
          "Diseases of Heart (I00-I09, I11, I13, I20-I51)",
          "Malignant Neoplasms (Cancer: C00-C97)",
          "Diabetes Mellitus (E10-E14)",
          "Chronic Lower Respiratory Diseases (J40-J47)",
          "Cerebrovascular Disease (Stroke: I60-I69)",
          "Essential Hypertension and Renal Diseases (I10, I12)",
          "Accidents Except Drug Poisoning (V01-X39, X43, X45-X59, Y85-Y86)",
          "Influenza (Flu) and Pneumonia (J09-J18)",
          "Certain Conditions originating in the Perinatal Period (P00-P96)",
          "Mental and Behavioral Disorders due to Accidental Poisoning and Other Psychoactive Substance Use (F11-F16, F18-F19, X40-X42, X44)",
          "Intentional Self-Harm (Suicide: U03, X60-X84, Y87.0)",
          "All Other Causes"
         ],
         "yaxis": "y"
        }
       ],
       "layout": {
        "barmode": "relative",
        "legend": {
         "title": {
          "text": "variable"
         },
         "tracegroupgap": 0
        },
        "margin": {
         "t": 60
        },
        "template": {
         "data": {
          "bar": [
           {
            "error_x": {
             "color": "#2a3f5f"
            },
            "error_y": {
             "color": "#2a3f5f"
            },
            "marker": {
             "line": {
              "color": "#E5ECF6",
              "width": 0.5
             },
             "pattern": {
              "fillmode": "overlay",
              "size": 10,
              "solidity": 0.2
             }
            },
            "type": "bar"
           }
          ],
          "barpolar": [
           {
            "marker": {
             "line": {
              "color": "#E5ECF6",
              "width": 0.5
             },
             "pattern": {
              "fillmode": "overlay",
              "size": 10,
              "solidity": 0.2
             }
            },
            "type": "barpolar"
           }
          ],
          "carpet": [
           {
            "aaxis": {
             "endlinecolor": "#2a3f5f",
             "gridcolor": "white",
             "linecolor": "white",
             "minorgridcolor": "white",
             "startlinecolor": "#2a3f5f"
            },
            "baxis": {
             "endlinecolor": "#2a3f5f",
             "gridcolor": "white",
             "linecolor": "white",
             "minorgridcolor": "white",
             "startlinecolor": "#2a3f5f"
            },
            "type": "carpet"
           }
          ],
          "choropleth": [
           {
            "colorbar": {
             "outlinewidth": 0,
             "ticks": ""
            },
            "type": "choropleth"
           }
          ],
          "contour": [
           {
            "colorbar": {
             "outlinewidth": 0,
             "ticks": ""
            },
            "colorscale": [
             [
              0,
              "#0d0887"
             ],
             [
              0.1111111111111111,
              "#46039f"
             ],
             [
              0.2222222222222222,
              "#7201a8"
             ],
             [
              0.3333333333333333,
              "#9c179e"
             ],
             [
              0.4444444444444444,
              "#bd3786"
             ],
             [
              0.5555555555555556,
              "#d8576b"
             ],
             [
              0.6666666666666666,
              "#ed7953"
             ],
             [
              0.7777777777777778,
              "#fb9f3a"
             ],
             [
              0.8888888888888888,
              "#fdca26"
             ],
             [
              1,
              "#f0f921"
             ]
            ],
            "type": "contour"
           }
          ],
          "contourcarpet": [
           {
            "colorbar": {
             "outlinewidth": 0,
             "ticks": ""
            },
            "type": "contourcarpet"
           }
          ],
          "heatmap": [
           {
            "colorbar": {
             "outlinewidth": 0,
             "ticks": ""
            },
            "colorscale": [
             [
              0,
              "#0d0887"
             ],
             [
              0.1111111111111111,
              "#46039f"
             ],
             [
              0.2222222222222222,
              "#7201a8"
             ],
             [
              0.3333333333333333,
              "#9c179e"
             ],
             [
              0.4444444444444444,
              "#bd3786"
             ],
             [
              0.5555555555555556,
              "#d8576b"
             ],
             [
              0.6666666666666666,
              "#ed7953"
             ],
             [
              0.7777777777777778,
              "#fb9f3a"
             ],
             [
              0.8888888888888888,
              "#fdca26"
             ],
             [
              1,
              "#f0f921"
             ]
            ],
            "type": "heatmap"
           }
          ],
          "heatmapgl": [
           {
            "colorbar": {
             "outlinewidth": 0,
             "ticks": ""
            },
            "colorscale": [
             [
              0,
              "#0d0887"
             ],
             [
              0.1111111111111111,
              "#46039f"
             ],
             [
              0.2222222222222222,
              "#7201a8"
             ],
             [
              0.3333333333333333,
              "#9c179e"
             ],
             [
              0.4444444444444444,
              "#bd3786"
             ],
             [
              0.5555555555555556,
              "#d8576b"
             ],
             [
              0.6666666666666666,
              "#ed7953"
             ],
             [
              0.7777777777777778,
              "#fb9f3a"
             ],
             [
              0.8888888888888888,
              "#fdca26"
             ],
             [
              1,
              "#f0f921"
             ]
            ],
            "type": "heatmapgl"
           }
          ],
          "histogram": [
           {
            "marker": {
             "pattern": {
              "fillmode": "overlay",
              "size": 10,
              "solidity": 0.2
             }
            },
            "type": "histogram"
           }
          ],
          "histogram2d": [
           {
            "colorbar": {
             "outlinewidth": 0,
             "ticks": ""
            },
            "colorscale": [
             [
              0,
              "#0d0887"
             ],
             [
              0.1111111111111111,
              "#46039f"
             ],
             [
              0.2222222222222222,
              "#7201a8"
             ],
             [
              0.3333333333333333,
              "#9c179e"
             ],
             [
              0.4444444444444444,
              "#bd3786"
             ],
             [
              0.5555555555555556,
              "#d8576b"
             ],
             [
              0.6666666666666666,
              "#ed7953"
             ],
             [
              0.7777777777777778,
              "#fb9f3a"
             ],
             [
              0.8888888888888888,
              "#fdca26"
             ],
             [
              1,
              "#f0f921"
             ]
            ],
            "type": "histogram2d"
           }
          ],
          "histogram2dcontour": [
           {
            "colorbar": {
             "outlinewidth": 0,
             "ticks": ""
            },
            "colorscale": [
             [
              0,
              "#0d0887"
             ],
             [
              0.1111111111111111,
              "#46039f"
             ],
             [
              0.2222222222222222,
              "#7201a8"
             ],
             [
              0.3333333333333333,
              "#9c179e"
             ],
             [
              0.4444444444444444,
              "#bd3786"
             ],
             [
              0.5555555555555556,
              "#d8576b"
             ],
             [
              0.6666666666666666,
              "#ed7953"
             ],
             [
              0.7777777777777778,
              "#fb9f3a"
             ],
             [
              0.8888888888888888,
              "#fdca26"
             ],
             [
              1,
              "#f0f921"
             ]
            ],
            "type": "histogram2dcontour"
           }
          ],
          "mesh3d": [
           {
            "colorbar": {
             "outlinewidth": 0,
             "ticks": ""
            },
            "type": "mesh3d"
           }
          ],
          "parcoords": [
           {
            "line": {
             "colorbar": {
              "outlinewidth": 0,
              "ticks": ""
             }
            },
            "type": "parcoords"
           }
          ],
          "pie": [
           {
            "automargin": true,
            "type": "pie"
           }
          ],
          "scatter": [
           {
            "fillpattern": {
             "fillmode": "overlay",
             "size": 10,
             "solidity": 0.2
            },
            "type": "scatter"
           }
          ],
          "scatter3d": [
           {
            "line": {
             "colorbar": {
              "outlinewidth": 0,
              "ticks": ""
             }
            },
            "marker": {
             "colorbar": {
              "outlinewidth": 0,
              "ticks": ""
             }
            },
            "type": "scatter3d"
           }
          ],
          "scattercarpet": [
           {
            "marker": {
             "colorbar": {
              "outlinewidth": 0,
              "ticks": ""
             }
            },
            "type": "scattercarpet"
           }
          ],
          "scattergeo": [
           {
            "marker": {
             "colorbar": {
              "outlinewidth": 0,
              "ticks": ""
             }
            },
            "type": "scattergeo"
           }
          ],
          "scattergl": [
           {
            "marker": {
             "colorbar": {
              "outlinewidth": 0,
              "ticks": ""
             }
            },
            "type": "scattergl"
           }
          ],
          "scattermapbox": [
           {
            "marker": {
             "colorbar": {
              "outlinewidth": 0,
              "ticks": ""
             }
            },
            "type": "scattermapbox"
           }
          ],
          "scatterpolar": [
           {
            "marker": {
             "colorbar": {
              "outlinewidth": 0,
              "ticks": ""
             }
            },
            "type": "scatterpolar"
           }
          ],
          "scatterpolargl": [
           {
            "marker": {
             "colorbar": {
              "outlinewidth": 0,
              "ticks": ""
             }
            },
            "type": "scatterpolargl"
           }
          ],
          "scatterternary": [
           {
            "marker": {
             "colorbar": {
              "outlinewidth": 0,
              "ticks": ""
             }
            },
            "type": "scatterternary"
           }
          ],
          "surface": [
           {
            "colorbar": {
             "outlinewidth": 0,
             "ticks": ""
            },
            "colorscale": [
             [
              0,
              "#0d0887"
             ],
             [
              0.1111111111111111,
              "#46039f"
             ],
             [
              0.2222222222222222,
              "#7201a8"
             ],
             [
              0.3333333333333333,
              "#9c179e"
             ],
             [
              0.4444444444444444,
              "#bd3786"
             ],
             [
              0.5555555555555556,
              "#d8576b"
             ],
             [
              0.6666666666666666,
              "#ed7953"
             ],
             [
              0.7777777777777778,
              "#fb9f3a"
             ],
             [
              0.8888888888888888,
              "#fdca26"
             ],
             [
              1,
              "#f0f921"
             ]
            ],
            "type": "surface"
           }
          ],
          "table": [
           {
            "cells": {
             "fill": {
              "color": "#EBF0F8"
             },
             "line": {
              "color": "white"
             }
            },
            "header": {
             "fill": {
              "color": "#C8D4E3"
             },
             "line": {
              "color": "white"
             }
            },
            "type": "table"
           }
          ]
         },
         "layout": {
          "annotationdefaults": {
           "arrowcolor": "#2a3f5f",
           "arrowhead": 0,
           "arrowwidth": 1
          },
          "autotypenumbers": "strict",
          "coloraxis": {
           "colorbar": {
            "outlinewidth": 0,
            "ticks": ""
           }
          },
          "colorscale": {
           "diverging": [
            [
             0,
             "#8e0152"
            ],
            [
             0.1,
             "#c51b7d"
            ],
            [
             0.2,
             "#de77ae"
            ],
            [
             0.3,
             "#f1b6da"
            ],
            [
             0.4,
             "#fde0ef"
            ],
            [
             0.5,
             "#f7f7f7"
            ],
            [
             0.6,
             "#e6f5d0"
            ],
            [
             0.7,
             "#b8e186"
            ],
            [
             0.8,
             "#7fbc41"
            ],
            [
             0.9,
             "#4d9221"
            ],
            [
             1,
             "#276419"
            ]
           ],
           "sequential": [
            [
             0,
             "#0d0887"
            ],
            [
             0.1111111111111111,
             "#46039f"
            ],
            [
             0.2222222222222222,
             "#7201a8"
            ],
            [
             0.3333333333333333,
             "#9c179e"
            ],
            [
             0.4444444444444444,
             "#bd3786"
            ],
            [
             0.5555555555555556,
             "#d8576b"
            ],
            [
             0.6666666666666666,
             "#ed7953"
            ],
            [
             0.7777777777777778,
             "#fb9f3a"
            ],
            [
             0.8888888888888888,
             "#fdca26"
            ],
            [
             1,
             "#f0f921"
            ]
           ],
           "sequentialminus": [
            [
             0,
             "#0d0887"
            ],
            [
             0.1111111111111111,
             "#46039f"
            ],
            [
             0.2222222222222222,
             "#7201a8"
            ],
            [
             0.3333333333333333,
             "#9c179e"
            ],
            [
             0.4444444444444444,
             "#bd3786"
            ],
            [
             0.5555555555555556,
             "#d8576b"
            ],
            [
             0.6666666666666666,
             "#ed7953"
            ],
            [
             0.7777777777777778,
             "#fb9f3a"
            ],
            [
             0.8888888888888888,
             "#fdca26"
            ],
            [
             1,
             "#f0f921"
            ]
           ]
          },
          "colorway": [
           "#636efa",
           "#EF553B",
           "#00cc96",
           "#ab63fa",
           "#FFA15A",
           "#19d3f3",
           "#FF6692",
           "#B6E880",
           "#FF97FF",
           "#FECB52"
          ],
          "font": {
           "color": "#2a3f5f"
          },
          "geo": {
           "bgcolor": "white",
           "lakecolor": "white",
           "landcolor": "#E5ECF6",
           "showlakes": true,
           "showland": true,
           "subunitcolor": "white"
          },
          "hoverlabel": {
           "align": "left"
          },
          "hovermode": "closest",
          "mapbox": {
           "style": "light"
          },
          "paper_bgcolor": "white",
          "plot_bgcolor": "#E5ECF6",
          "polar": {
           "angularaxis": {
            "gridcolor": "white",
            "linecolor": "white",
            "ticks": ""
           },
           "bgcolor": "#E5ECF6",
           "radialaxis": {
            "gridcolor": "white",
            "linecolor": "white",
            "ticks": ""
           }
          },
          "scene": {
           "xaxis": {
            "backgroundcolor": "#E5ECF6",
            "gridcolor": "white",
            "gridwidth": 2,
            "linecolor": "white",
            "showbackground": true,
            "ticks": "",
            "zerolinecolor": "white"
           },
           "yaxis": {
            "backgroundcolor": "#E5ECF6",
            "gridcolor": "white",
            "gridwidth": 2,
            "linecolor": "white",
            "showbackground": true,
            "ticks": "",
            "zerolinecolor": "white"
           },
           "zaxis": {
            "backgroundcolor": "#E5ECF6",
            "gridcolor": "white",
            "gridwidth": 2,
            "linecolor": "white",
            "showbackground": true,
            "ticks": "",
            "zerolinecolor": "white"
           }
          },
          "shapedefaults": {
           "line": {
            "color": "#2a3f5f"
           }
          },
          "ternary": {
           "aaxis": {
            "gridcolor": "white",
            "linecolor": "white",
            "ticks": ""
           },
           "baxis": {
            "gridcolor": "white",
            "linecolor": "white",
            "ticks": ""
           },
           "bgcolor": "#E5ECF6",
           "caxis": {
            "gridcolor": "white",
            "linecolor": "white",
            "ticks": ""
           }
          },
          "title": {
           "x": 0.05
          },
          "xaxis": {
           "automargin": true,
           "gridcolor": "white",
           "linecolor": "white",
           "ticks": "",
           "title": {
            "standoff": 15
           },
           "zerolinecolor": "white",
           "zerolinewidth": 2
          },
          "yaxis": {
           "automargin": true,
           "gridcolor": "white",
           "linecolor": "white",
           "ticks": "",
           "title": {
            "standoff": 15
           },
           "zerolinecolor": "white",
           "zerolinewidth": 2
          }
         }
        },
        "xaxis": {
         "anchor": "y",
         "domain": [
          0,
          1
         ],
         "title": {
          "text": "count"
         }
        },
        "yaxis": {
         "anchor": "x",
         "domain": [
          0,
          1
         ],
         "title": {
          "text": "value"
         }
        }
       }
      }
     },
     "metadata": {},
     "output_type": "display_data"
    }
   ],
   "source": [
    "df['Leading Cause'].plot(kind='barh')"
   ]
  },
  {
   "cell_type": "markdown",
   "metadata": {},
   "source": [
    "uhhh what lollll lets just use bokeh"
   ]
  },
  {
   "cell_type": "code",
   "execution_count": 54,
   "metadata": {},
   "outputs": [],
   "source": [
    "# function to make a dataframe to count the unique values for each category in a given column\n",
    "def prep_bokeh_df(df, column):\n",
    "    count_df = pd.Series(df[column].value_counts()).reset_index(name='Count').rename(columns={'index':column})\n",
    "    return count_df\n"
   ]
  },
  {
   "cell_type": "code",
   "execution_count": 55,
   "metadata": {},
   "outputs": [],
   "source": [
    "# make the new dfs\n",
    "leading_cause_bar_df = prep_bokeh_df(df, 'Leading Cause')\n",
    "race_bar_df = prep_bokeh_df(df, 'Race Ethnicity')\n",
    "sex_bar_df = prep_bokeh_df(df, 'Sex')"
   ]
  },
  {
   "cell_type": "code",
   "execution_count": 56,
   "metadata": {},
   "outputs": [],
   "source": [
    "# function to plot bokeh categorical data in a horizontal bar\n",
    "# you input the dataframe, column, colorpalette, height, and width\n",
    "def bokeh_hbar(df, column, title, colorpalette, height, width):\n",
    "    TOOLS = \"hover,save,pan,box_zoom,reset,wheel_zoom,tap\"\n",
    "    p = figure(plot_height=height,\n",
    "        plot_width=width,\n",
    "        title=title,\n",
    "        tools=TOOLS,\n",
    "        toolbar_location='right',\n",
    "        y_range=df[column].unique()[::-1])\n",
    "    p.hbar(y=df[column], right=df['Count'], \n",
    "    height=0.75,color=colorpalette[df[column].nunique()]) #color='#8968CD')\n",
    "    p.yaxis.axis_label = column\n",
    "    p.xaxis.axis_label = 'Number of documentations'\n",
    "    p.select_one(HoverTool).tooltips = [\n",
    "        (column, '@y'),\n",
    "        ('Number of documentations', '@right')]\n",
    "    return p"
   ]
  },
  {
   "cell_type": "code",
   "execution_count": 59,
   "metadata": {},
   "outputs": [],
   "source": [
    "# update colorschemes\n",
    "PuRd_32 = {32: PuRd[9][:-1]+ PuRd[9][:-1] + PuRd[9][:-1] + PuRd[9][:-1]}\n",
    "PuRd_2 = {2: PuRd[9][:-7]}\n"
   ]
  },
  {
   "cell_type": "code",
   "execution_count": 63,
   "metadata": {},
   "outputs": [
    {
     "ename": "AttributeError",
     "evalue": "'IntegerArray' object has no attribute 'tolist'",
     "output_type": "error",
     "traceback": [
      "\u001b[0;31m---------------------------------------------------------------------------\u001b[0m",
      "\u001b[0;31mAttributeError\u001b[0m                            Traceback (most recent call last)",
      "\u001b[0;32m/var/folders/z5/w7rdzhpn7xx4g1wy_6cb0stw0000gn/T/ipykernel_33776/901250857.py\u001b[0m in \u001b[0;36m<module>\u001b[0;34m\u001b[0m\n\u001b[1;32m     17\u001b[0m \u001b[0;31m# show(tabs)\u001b[0m\u001b[0;34m\u001b[0m\u001b[0;34m\u001b[0m\u001b[0;34m\u001b[0m\u001b[0m\n\u001b[1;32m     18\u001b[0m \u001b[0;34m\u001b[0m\u001b[0m\n\u001b[0;32m---> 19\u001b[0;31m \u001b[0mshow\u001b[0m\u001b[0;34m(\u001b[0m\u001b[0mp_type\u001b[0m\u001b[0;34m)\u001b[0m\u001b[0;34m\u001b[0m\u001b[0;34m\u001b[0m\u001b[0m\n\u001b[0m",
      "\u001b[0;32m~/opt/anaconda3/envs/myenv/lib/python3.7/site-packages/bokeh/io/showing.py\u001b[0m in \u001b[0;36mshow\u001b[0;34m(obj, browser, new, notebook_handle, notebook_url, **kwargs)\u001b[0m\n\u001b[1;32m    142\u001b[0m \u001b[0;34m\u001b[0m\u001b[0m\n\u001b[1;32m    143\u001b[0m     \u001b[0;32mif\u001b[0m \u001b[0misinstance\u001b[0m\u001b[0;34m(\u001b[0m\u001b[0mobj\u001b[0m\u001b[0;34m,\u001b[0m \u001b[0mLayoutDOM\u001b[0m\u001b[0;34m)\u001b[0m\u001b[0;34m:\u001b[0m\u001b[0;34m\u001b[0m\u001b[0;34m\u001b[0m\u001b[0m\n\u001b[0;32m--> 144\u001b[0;31m         \u001b[0;32mreturn\u001b[0m \u001b[0m_show_with_state\u001b[0m\u001b[0;34m(\u001b[0m\u001b[0mobj\u001b[0m\u001b[0;34m,\u001b[0m \u001b[0mstate\u001b[0m\u001b[0;34m,\u001b[0m \u001b[0mbrowser\u001b[0m\u001b[0;34m,\u001b[0m \u001b[0mnew\u001b[0m\u001b[0;34m,\u001b[0m \u001b[0mnotebook_handle\u001b[0m\u001b[0;34m=\u001b[0m\u001b[0mnotebook_handle\u001b[0m\u001b[0;34m)\u001b[0m\u001b[0;34m\u001b[0m\u001b[0;34m\u001b[0m\u001b[0m\n\u001b[0m\u001b[1;32m    145\u001b[0m \u001b[0;34m\u001b[0m\u001b[0m\n\u001b[1;32m    146\u001b[0m     \u001b[0;32mdef\u001b[0m \u001b[0mis_application\u001b[0m\u001b[0;34m(\u001b[0m\u001b[0mobj\u001b[0m\u001b[0;34m:\u001b[0m \u001b[0mAny\u001b[0m\u001b[0;34m)\u001b[0m \u001b[0;34m->\u001b[0m \u001b[0mTypeGuard\u001b[0m\u001b[0;34m[\u001b[0m\u001b[0mApplication\u001b[0m\u001b[0;34m]\u001b[0m\u001b[0;34m:\u001b[0m\u001b[0;34m\u001b[0m\u001b[0;34m\u001b[0m\u001b[0m\n",
      "\u001b[0;32m~/opt/anaconda3/envs/myenv/lib/python3.7/site-packages/bokeh/io/showing.py\u001b[0m in \u001b[0;36m_show_with_state\u001b[0;34m(obj, state, browser, new, notebook_handle)\u001b[0m\n\u001b[1;32m    189\u001b[0m     \u001b[0;32mif\u001b[0m \u001b[0mstate\u001b[0m\u001b[0;34m.\u001b[0m\u001b[0mnotebook\u001b[0m\u001b[0;34m:\u001b[0m\u001b[0;34m\u001b[0m\u001b[0;34m\u001b[0m\u001b[0m\n\u001b[1;32m    190\u001b[0m         \u001b[0;32massert\u001b[0m \u001b[0mstate\u001b[0m\u001b[0;34m.\u001b[0m\u001b[0mnotebook_type\u001b[0m \u001b[0;32mis\u001b[0m \u001b[0;32mnot\u001b[0m \u001b[0;32mNone\u001b[0m\u001b[0;34m\u001b[0m\u001b[0;34m\u001b[0m\u001b[0m\n\u001b[0;32m--> 191\u001b[0;31m         \u001b[0mcomms_handle\u001b[0m \u001b[0;34m=\u001b[0m \u001b[0mrun_notebook_hook\u001b[0m\u001b[0;34m(\u001b[0m\u001b[0mstate\u001b[0m\u001b[0;34m.\u001b[0m\u001b[0mnotebook_type\u001b[0m\u001b[0;34m,\u001b[0m \u001b[0;34m'doc'\u001b[0m\u001b[0;34m,\u001b[0m \u001b[0mobj\u001b[0m\u001b[0;34m,\u001b[0m \u001b[0mstate\u001b[0m\u001b[0;34m,\u001b[0m \u001b[0mnotebook_handle\u001b[0m\u001b[0;34m)\u001b[0m\u001b[0;34m\u001b[0m\u001b[0;34m\u001b[0m\u001b[0m\n\u001b[0m\u001b[1;32m    192\u001b[0m         \u001b[0mshown\u001b[0m \u001b[0;34m=\u001b[0m \u001b[0;32mTrue\u001b[0m\u001b[0;34m\u001b[0m\u001b[0;34m\u001b[0m\u001b[0m\n\u001b[1;32m    193\u001b[0m \u001b[0;34m\u001b[0m\u001b[0m\n",
      "\u001b[0;32m~/opt/anaconda3/envs/myenv/lib/python3.7/site-packages/bokeh/io/notebook.py\u001b[0m in \u001b[0;36mrun_notebook_hook\u001b[0;34m(notebook_type, action, *args, **kwargs)\u001b[0m\n\u001b[1;32m    355\u001b[0m     \u001b[0;32mif\u001b[0m \u001b[0m_HOOKS\u001b[0m\u001b[0;34m[\u001b[0m\u001b[0mnotebook_type\u001b[0m\u001b[0;34m]\u001b[0m\u001b[0;34m[\u001b[0m\u001b[0maction\u001b[0m\u001b[0;34m]\u001b[0m \u001b[0;32mis\u001b[0m \u001b[0;32mNone\u001b[0m\u001b[0;34m:\u001b[0m\u001b[0;34m\u001b[0m\u001b[0;34m\u001b[0m\u001b[0m\n\u001b[1;32m    356\u001b[0m         \u001b[0;32mraise\u001b[0m \u001b[0mRuntimeError\u001b[0m\u001b[0;34m(\u001b[0m\u001b[0;34mf\"notebook hook for {notebook_type!r} did not install {action!r} action\"\u001b[0m\u001b[0;34m)\u001b[0m\u001b[0;34m\u001b[0m\u001b[0;34m\u001b[0m\u001b[0m\n\u001b[0;32m--> 357\u001b[0;31m     \u001b[0;32mreturn\u001b[0m \u001b[0m_HOOKS\u001b[0m\u001b[0;34m[\u001b[0m\u001b[0mnotebook_type\u001b[0m\u001b[0;34m]\u001b[0m\u001b[0;34m[\u001b[0m\u001b[0maction\u001b[0m\u001b[0;34m]\u001b[0m\u001b[0;34m(\u001b[0m\u001b[0;34m*\u001b[0m\u001b[0margs\u001b[0m\u001b[0;34m,\u001b[0m \u001b[0;34m**\u001b[0m\u001b[0mkwargs\u001b[0m\u001b[0;34m)\u001b[0m\u001b[0;34m\u001b[0m\u001b[0;34m\u001b[0m\u001b[0m\n\u001b[0m\u001b[1;32m    358\u001b[0m \u001b[0;34m\u001b[0m\u001b[0m\n\u001b[1;32m    359\u001b[0m \u001b[0;31m#-----------------------------------------------------------------------------\u001b[0m\u001b[0;34m\u001b[0m\u001b[0;34m\u001b[0m\u001b[0;34m\u001b[0m\u001b[0m\n",
      "\u001b[0;32m~/opt/anaconda3/envs/myenv/lib/python3.7/site-packages/bokeh/io/notebook.py\u001b[0m in \u001b[0;36mshow_doc\u001b[0;34m(obj, state, notebook_handle)\u001b[0m\n\u001b[1;32m    572\u001b[0m     \u001b[0;32mfrom\u001b[0m \u001b[0;34m.\u001b[0m\u001b[0;34m.\u001b[0m\u001b[0membed\u001b[0m\u001b[0;34m.\u001b[0m\u001b[0mnotebook\u001b[0m \u001b[0;32mimport\u001b[0m \u001b[0mnotebook_content\u001b[0m\u001b[0;34m\u001b[0m\u001b[0;34m\u001b[0m\u001b[0m\n\u001b[1;32m    573\u001b[0m     \u001b[0mcomms_target\u001b[0m \u001b[0;34m=\u001b[0m \u001b[0mmake_id\u001b[0m\u001b[0;34m(\u001b[0m\u001b[0;34m)\u001b[0m \u001b[0;32mif\u001b[0m \u001b[0mnotebook_handle\u001b[0m \u001b[0;32melse\u001b[0m \u001b[0;32mNone\u001b[0m\u001b[0;34m\u001b[0m\u001b[0;34m\u001b[0m\u001b[0m\n\u001b[0;32m--> 574\u001b[0;31m     \u001b[0;34m(\u001b[0m\u001b[0mscript\u001b[0m\u001b[0;34m,\u001b[0m \u001b[0mdiv\u001b[0m\u001b[0;34m,\u001b[0m \u001b[0mcell_doc\u001b[0m\u001b[0;34m)\u001b[0m \u001b[0;34m=\u001b[0m \u001b[0mnotebook_content\u001b[0m\u001b[0;34m(\u001b[0m\u001b[0mobj\u001b[0m\u001b[0;34m,\u001b[0m \u001b[0mcomms_target\u001b[0m\u001b[0;34m)\u001b[0m\u001b[0;34m\u001b[0m\u001b[0;34m\u001b[0m\u001b[0m\n\u001b[0m\u001b[1;32m    575\u001b[0m \u001b[0;34m\u001b[0m\u001b[0m\n\u001b[1;32m    576\u001b[0m     \u001b[0mpublish_display_data\u001b[0m\u001b[0;34m(\u001b[0m\u001b[0;34m{\u001b[0m\u001b[0mHTML_MIME_TYPE\u001b[0m\u001b[0;34m:\u001b[0m \u001b[0mdiv\u001b[0m\u001b[0;34m}\u001b[0m\u001b[0;34m)\u001b[0m\u001b[0;34m\u001b[0m\u001b[0;34m\u001b[0m\u001b[0m\n",
      "\u001b[0;32m~/opt/anaconda3/envs/myenv/lib/python3.7/site-packages/bokeh/embed/notebook.py\u001b[0m in \u001b[0;36mnotebook_content\u001b[0;34m(model, notebook_comms_target, theme)\u001b[0m\n\u001b[1;32m     85\u001b[0m     \u001b[0;31m# has models with the same IDs as they were started with\u001b[0m\u001b[0;34m\u001b[0m\u001b[0;34m\u001b[0m\u001b[0;34m\u001b[0m\u001b[0m\n\u001b[1;32m     86\u001b[0m     \u001b[0;32mwith\u001b[0m \u001b[0mOutputDocumentFor\u001b[0m\u001b[0;34m(\u001b[0m\u001b[0;34m[\u001b[0m\u001b[0mmodel\u001b[0m\u001b[0;34m]\u001b[0m\u001b[0;34m,\u001b[0m \u001b[0mapply_theme\u001b[0m\u001b[0;34m=\u001b[0m\u001b[0mtheme\u001b[0m\u001b[0;34m,\u001b[0m \u001b[0malways_new\u001b[0m\u001b[0;34m=\u001b[0m\u001b[0;32mTrue\u001b[0m\u001b[0;34m)\u001b[0m \u001b[0;32mas\u001b[0m \u001b[0mnew_doc\u001b[0m\u001b[0;34m:\u001b[0m\u001b[0;34m\u001b[0m\u001b[0;34m\u001b[0m\u001b[0m\n\u001b[0;32m---> 87\u001b[0;31m         \u001b[0;34m(\u001b[0m\u001b[0mdocs_json\u001b[0m\u001b[0;34m,\u001b[0m \u001b[0;34m[\u001b[0m\u001b[0mrender_item\u001b[0m\u001b[0;34m]\u001b[0m\u001b[0;34m)\u001b[0m \u001b[0;34m=\u001b[0m \u001b[0mstandalone_docs_json_and_render_items\u001b[0m\u001b[0;34m(\u001b[0m\u001b[0;34m[\u001b[0m\u001b[0mmodel\u001b[0m\u001b[0;34m]\u001b[0m\u001b[0;34m)\u001b[0m\u001b[0;34m\u001b[0m\u001b[0;34m\u001b[0m\u001b[0m\n\u001b[0m\u001b[1;32m     88\u001b[0m \u001b[0;34m\u001b[0m\u001b[0m\n\u001b[1;32m     89\u001b[0m     \u001b[0mdiv\u001b[0m \u001b[0;34m=\u001b[0m \u001b[0mdiv_for_render_item\u001b[0m\u001b[0;34m(\u001b[0m\u001b[0mrender_item\u001b[0m\u001b[0;34m)\u001b[0m\u001b[0;34m\u001b[0m\u001b[0;34m\u001b[0m\u001b[0m\n",
      "\u001b[0;32m~/opt/anaconda3/envs/myenv/lib/python3.7/site-packages/bokeh/embed/util.py\u001b[0m in \u001b[0;36mstandalone_docs_json_and_render_items\u001b[0;34m(models, suppress_callback_warning)\u001b[0m\n\u001b[1;32m    335\u001b[0m     \u001b[0mdocs_json\u001b[0m\u001b[0;34m:\u001b[0m \u001b[0mDict\u001b[0m\u001b[0;34m[\u001b[0m\u001b[0mID\u001b[0m\u001b[0;34m,\u001b[0m \u001b[0mDocJson\u001b[0m\u001b[0;34m]\u001b[0m \u001b[0;34m=\u001b[0m \u001b[0;34m{\u001b[0m\u001b[0;34m}\u001b[0m\u001b[0;34m\u001b[0m\u001b[0;34m\u001b[0m\u001b[0m\n\u001b[1;32m    336\u001b[0m     \u001b[0;32mfor\u001b[0m \u001b[0mdoc\u001b[0m\u001b[0;34m,\u001b[0m \u001b[0;34m(\u001b[0m\u001b[0mdocid\u001b[0m\u001b[0;34m,\u001b[0m \u001b[0m_\u001b[0m\u001b[0;34m)\u001b[0m \u001b[0;32min\u001b[0m \u001b[0mdocs\u001b[0m\u001b[0;34m.\u001b[0m\u001b[0mitems\u001b[0m\u001b[0;34m(\u001b[0m\u001b[0;34m)\u001b[0m\u001b[0;34m:\u001b[0m\u001b[0;34m\u001b[0m\u001b[0;34m\u001b[0m\u001b[0m\n\u001b[0;32m--> 337\u001b[0;31m         \u001b[0mdocs_json\u001b[0m\u001b[0;34m[\u001b[0m\u001b[0mdocid\u001b[0m\u001b[0;34m]\u001b[0m \u001b[0;34m=\u001b[0m \u001b[0mdoc\u001b[0m\u001b[0;34m.\u001b[0m\u001b[0mto_json\u001b[0m\u001b[0;34m(\u001b[0m\u001b[0;34m)\u001b[0m\u001b[0;34m\u001b[0m\u001b[0;34m\u001b[0m\u001b[0m\n\u001b[0m\u001b[1;32m    338\u001b[0m \u001b[0;34m\u001b[0m\u001b[0m\n\u001b[1;32m    339\u001b[0m     \u001b[0mrender_items\u001b[0m\u001b[0;34m:\u001b[0m \u001b[0mList\u001b[0m\u001b[0;34m[\u001b[0m\u001b[0mRenderItem\u001b[0m\u001b[0;34m]\u001b[0m \u001b[0;34m=\u001b[0m \u001b[0;34m[\u001b[0m\u001b[0;34m]\u001b[0m\u001b[0;34m\u001b[0m\u001b[0;34m\u001b[0m\u001b[0m\n",
      "\u001b[0;32m~/opt/anaconda3/envs/myenv/lib/python3.7/site-packages/bokeh/document/document.py\u001b[0m in \u001b[0;36mto_json\u001b[0;34m(self)\u001b[0m\n\u001b[1;32m    756\u001b[0m         \u001b[0;31m# this is a total hack to go via a string, needed because\u001b[0m\u001b[0;34m\u001b[0m\u001b[0;34m\u001b[0m\u001b[0;34m\u001b[0m\u001b[0m\n\u001b[1;32m    757\u001b[0m         \u001b[0;31m# our BokehJSONEncoder goes straight to a string.\u001b[0m\u001b[0;34m\u001b[0m\u001b[0;34m\u001b[0m\u001b[0;34m\u001b[0m\u001b[0m\n\u001b[0;32m--> 758\u001b[0;31m         \u001b[0mdoc_json\u001b[0m \u001b[0;34m=\u001b[0m \u001b[0mself\u001b[0m\u001b[0;34m.\u001b[0m\u001b[0mto_json_string\u001b[0m\u001b[0;34m(\u001b[0m\u001b[0;34m)\u001b[0m\u001b[0;34m\u001b[0m\u001b[0;34m\u001b[0m\u001b[0m\n\u001b[0m\u001b[1;32m    759\u001b[0m         \u001b[0;32mreturn\u001b[0m \u001b[0mloads\u001b[0m\u001b[0;34m(\u001b[0m\u001b[0mdoc_json\u001b[0m\u001b[0;34m)\u001b[0m\u001b[0;34m\u001b[0m\u001b[0;34m\u001b[0m\u001b[0m\n\u001b[1;32m    760\u001b[0m \u001b[0;34m\u001b[0m\u001b[0m\n",
      "\u001b[0;32m~/opt/anaconda3/envs/myenv/lib/python3.7/site-packages/bokeh/document/document.py\u001b[0m in \u001b[0;36mto_json_string\u001b[0;34m(self, indent)\u001b[0m\n\u001b[1;32m    783\u001b[0m             roots=RootsJson(\n\u001b[1;32m    784\u001b[0m                 \u001b[0mroot_ids\u001b[0m\u001b[0;34m=\u001b[0m\u001b[0mroot_ids\u001b[0m\u001b[0;34m,\u001b[0m\u001b[0;34m\u001b[0m\u001b[0;34m\u001b[0m\u001b[0m\n\u001b[0;32m--> 785\u001b[0;31m                 \u001b[0mreferences\u001b[0m\u001b[0;34m=\u001b[0m\u001b[0mreferences_json\u001b[0m\u001b[0;34m(\u001b[0m\u001b[0mself\u001b[0m\u001b[0;34m.\u001b[0m\u001b[0mmodels\u001b[0m\u001b[0;34m)\u001b[0m\u001b[0;34m,\u001b[0m\u001b[0;34m\u001b[0m\u001b[0;34m\u001b[0m\u001b[0m\n\u001b[0m\u001b[1;32m    786\u001b[0m             ),\n\u001b[1;32m    787\u001b[0m             \u001b[0mversion\u001b[0m\u001b[0;34m=\u001b[0m\u001b[0m__version__\u001b[0m\u001b[0;34m,\u001b[0m\u001b[0;34m\u001b[0m\u001b[0;34m\u001b[0m\u001b[0m\n",
      "\u001b[0;32m~/opt/anaconda3/envs/myenv/lib/python3.7/site-packages/bokeh/document/util.py\u001b[0m in \u001b[0;36mreferences_json\u001b[0;34m(references)\u001b[0m\n\u001b[1;32m    149\u001b[0m     \u001b[0;32mfor\u001b[0m \u001b[0mr\u001b[0m \u001b[0;32min\u001b[0m \u001b[0mreferences\u001b[0m\u001b[0;34m:\u001b[0m\u001b[0;34m\u001b[0m\u001b[0;34m\u001b[0m\u001b[0m\n\u001b[1;32m    150\u001b[0m         \u001b[0mstruct\u001b[0m \u001b[0;34m=\u001b[0m \u001b[0mr\u001b[0m\u001b[0;34m.\u001b[0m\u001b[0mstruct\u001b[0m\u001b[0;34m\u001b[0m\u001b[0;34m\u001b[0m\u001b[0m\n\u001b[0;32m--> 151\u001b[0;31m         \u001b[0mstruct\u001b[0m\u001b[0;34m[\u001b[0m\u001b[0;34m'attributes'\u001b[0m\u001b[0;34m]\u001b[0m \u001b[0;34m=\u001b[0m \u001b[0mr\u001b[0m\u001b[0;34m.\u001b[0m\u001b[0m_to_json_like\u001b[0m\u001b[0;34m(\u001b[0m\u001b[0minclude_defaults\u001b[0m\u001b[0;34m=\u001b[0m\u001b[0;32mFalse\u001b[0m\u001b[0;34m)\u001b[0m\u001b[0;34m\u001b[0m\u001b[0;34m\u001b[0m\u001b[0m\n\u001b[0m\u001b[1;32m    152\u001b[0m         \u001b[0mreferences_json\u001b[0m\u001b[0;34m.\u001b[0m\u001b[0mappend\u001b[0m\u001b[0;34m(\u001b[0m\u001b[0mstruct\u001b[0m\u001b[0;34m)\u001b[0m\u001b[0;34m\u001b[0m\u001b[0;34m\u001b[0m\u001b[0m\n\u001b[1;32m    153\u001b[0m \u001b[0;34m\u001b[0m\u001b[0m\n",
      "\u001b[0;32m~/opt/anaconda3/envs/myenv/lib/python3.7/site-packages/bokeh/model/model.py\u001b[0m in \u001b[0;36m_to_json_like\u001b[0;34m(self, include_defaults)\u001b[0m\n\u001b[1;32m    621\u001b[0m \u001b[0;34m\u001b[0m\u001b[0m\n\u001b[1;32m    622\u001b[0m         '''\n\u001b[0;32m--> 623\u001b[0;31m         \u001b[0mall_attrs\u001b[0m \u001b[0;34m=\u001b[0m \u001b[0mself\u001b[0m\u001b[0;34m.\u001b[0m\u001b[0mproperties_with_values\u001b[0m\u001b[0;34m(\u001b[0m\u001b[0minclude_defaults\u001b[0m\u001b[0;34m=\u001b[0m\u001b[0minclude_defaults\u001b[0m\u001b[0;34m)\u001b[0m\u001b[0;34m\u001b[0m\u001b[0;34m\u001b[0m\u001b[0m\n\u001b[0m\u001b[1;32m    624\u001b[0m \u001b[0;34m\u001b[0m\u001b[0m\n\u001b[1;32m    625\u001b[0m         \u001b[0;31m# If __subtype__ is defined, then this model may introduce properties\u001b[0m\u001b[0;34m\u001b[0m\u001b[0;34m\u001b[0m\u001b[0;34m\u001b[0m\u001b[0m\n",
      "\u001b[0;32m~/opt/anaconda3/envs/myenv/lib/python3.7/site-packages/bokeh/core/has_props.py\u001b[0m in \u001b[0;36mproperties_with_values\u001b[0;34m(self, include_defaults, include_undefined)\u001b[0m\n\u001b[1;32m    554\u001b[0m         '''\n\u001b[1;32m    555\u001b[0m         return self.query_properties_with_values(lambda prop: prop.serialized,\n\u001b[0;32m--> 556\u001b[0;31m             include_defaults=include_defaults, include_undefined=include_undefined)\n\u001b[0m\u001b[1;32m    557\u001b[0m \u001b[0;34m\u001b[0m\u001b[0m\n\u001b[1;32m    558\u001b[0m     \u001b[0;34m@\u001b[0m\u001b[0mclassmethod\u001b[0m\u001b[0;34m\u001b[0m\u001b[0;34m\u001b[0m\u001b[0m\n",
      "\u001b[0;32m~/opt/anaconda3/envs/myenv/lib/python3.7/site-packages/bokeh/core/has_props.py\u001b[0m in \u001b[0;36mquery_properties_with_values\u001b[0;34m(self, query, include_defaults, include_undefined)\u001b[0m\n\u001b[1;32m    609\u001b[0m \u001b[0;34m\u001b[0m\u001b[0m\n\u001b[1;32m    610\u001b[0m             \u001b[0;32mtry\u001b[0m\u001b[0;34m:\u001b[0m\u001b[0;34m\u001b[0m\u001b[0;34m\u001b[0m\u001b[0m\n\u001b[0;32m--> 611\u001b[0;31m                 \u001b[0mvalue\u001b[0m \u001b[0;34m=\u001b[0m \u001b[0mdescriptor\u001b[0m\u001b[0;34m.\u001b[0m\u001b[0mserializable_value\u001b[0m\u001b[0;34m(\u001b[0m\u001b[0mself\u001b[0m\u001b[0;34m)\u001b[0m\u001b[0;34m\u001b[0m\u001b[0;34m\u001b[0m\u001b[0m\n\u001b[0m\u001b[1;32m    612\u001b[0m             \u001b[0;32mexcept\u001b[0m \u001b[0mUnsetValueError\u001b[0m\u001b[0;34m:\u001b[0m\u001b[0;34m\u001b[0m\u001b[0;34m\u001b[0m\u001b[0m\n\u001b[1;32m    613\u001b[0m                 \u001b[0;32mif\u001b[0m \u001b[0minclude_undefined\u001b[0m\u001b[0;34m:\u001b[0m\u001b[0;34m\u001b[0m\u001b[0;34m\u001b[0m\u001b[0m\n",
      "\u001b[0;32m~/opt/anaconda3/envs/myenv/lib/python3.7/site-packages/bokeh/core/property/descriptors.py\u001b[0m in \u001b[0;36mserializable_value\u001b[0;34m(self, obj)\u001b[0m\n\u001b[1;32m    342\u001b[0m         \"\"\"\n\u001b[1;32m    343\u001b[0m         \u001b[0mvalue\u001b[0m \u001b[0;34m=\u001b[0m \u001b[0mself\u001b[0m\u001b[0;34m.\u001b[0m\u001b[0m__get__\u001b[0m\u001b[0;34m(\u001b[0m\u001b[0mobj\u001b[0m\u001b[0;34m,\u001b[0m \u001b[0mobj\u001b[0m\u001b[0;34m.\u001b[0m\u001b[0m__class__\u001b[0m\u001b[0;34m)\u001b[0m\u001b[0;34m\u001b[0m\u001b[0;34m\u001b[0m\u001b[0m\n\u001b[0;32m--> 344\u001b[0;31m         \u001b[0;32mreturn\u001b[0m \u001b[0mself\u001b[0m\u001b[0;34m.\u001b[0m\u001b[0mproperty\u001b[0m\u001b[0;34m.\u001b[0m\u001b[0mserialize_value\u001b[0m\u001b[0;34m(\u001b[0m\u001b[0mvalue\u001b[0m\u001b[0;34m)\u001b[0m\u001b[0;34m\u001b[0m\u001b[0;34m\u001b[0m\u001b[0m\n\u001b[0m\u001b[1;32m    345\u001b[0m \u001b[0;34m\u001b[0m\u001b[0m\n\u001b[1;32m    346\u001b[0m     def set_from_json(self, obj: HasProps, json: Any, *,\n",
      "\u001b[0;32m~/opt/anaconda3/envs/myenv/lib/python3.7/site-packages/bokeh/core/property/container.py\u001b[0m in \u001b[0;36mserialize_value\u001b[0;34m(self, value)\u001b[0m\n\u001b[1;32m    265\u001b[0m \u001b[0;34m\u001b[0m\u001b[0m\n\u001b[1;32m    266\u001b[0m     \u001b[0;32mdef\u001b[0m \u001b[0mserialize_value\u001b[0m\u001b[0;34m(\u001b[0m\u001b[0mself\u001b[0m\u001b[0;34m,\u001b[0m \u001b[0mvalue\u001b[0m\u001b[0;34m)\u001b[0m\u001b[0;34m:\u001b[0m\u001b[0;34m\u001b[0m\u001b[0;34m\u001b[0m\u001b[0m\n\u001b[0;32m--> 267\u001b[0;31m         \u001b[0;32mreturn\u001b[0m \u001b[0mtransform_column_source_data\u001b[0m\u001b[0;34m(\u001b[0m\u001b[0mvalue\u001b[0m\u001b[0;34m)\u001b[0m\u001b[0;34m\u001b[0m\u001b[0;34m\u001b[0m\u001b[0m\n\u001b[0m\u001b[1;32m    268\u001b[0m \u001b[0;34m\u001b[0m\u001b[0m\n\u001b[1;32m    269\u001b[0m     \u001b[0;32mdef\u001b[0m \u001b[0mwrap\u001b[0m\u001b[0;34m(\u001b[0m\u001b[0mself\u001b[0m\u001b[0;34m,\u001b[0m \u001b[0mvalue\u001b[0m\u001b[0;34m)\u001b[0m\u001b[0;34m:\u001b[0m\u001b[0;34m\u001b[0m\u001b[0;34m\u001b[0m\u001b[0m\n",
      "\u001b[0;32m~/opt/anaconda3/envs/myenv/lib/python3.7/site-packages/bokeh/util/serialization.py\u001b[0m in \u001b[0;36mtransform_column_source_data\u001b[0;34m(data, buffers, cols)\u001b[0m\n\u001b[1;32m    523\u001b[0m     \u001b[0;32mfor\u001b[0m \u001b[0mkey\u001b[0m \u001b[0;32min\u001b[0m \u001b[0mto_transform\u001b[0m\u001b[0;34m:\u001b[0m\u001b[0;34m\u001b[0m\u001b[0;34m\u001b[0m\u001b[0m\n\u001b[1;32m    524\u001b[0m         \u001b[0;32mif\u001b[0m \u001b[0mpd\u001b[0m \u001b[0;32mand\u001b[0m \u001b[0misinstance\u001b[0m\u001b[0;34m(\u001b[0m\u001b[0mdata\u001b[0m\u001b[0;34m[\u001b[0m\u001b[0mkey\u001b[0m\u001b[0;34m]\u001b[0m\u001b[0;34m,\u001b[0m \u001b[0;34m(\u001b[0m\u001b[0mpd\u001b[0m\u001b[0;34m.\u001b[0m\u001b[0mSeries\u001b[0m\u001b[0;34m,\u001b[0m \u001b[0mpd\u001b[0m\u001b[0;34m.\u001b[0m\u001b[0mIndex\u001b[0m\u001b[0;34m)\u001b[0m\u001b[0;34m)\u001b[0m\u001b[0;34m:\u001b[0m\u001b[0;34m\u001b[0m\u001b[0;34m\u001b[0m\u001b[0m\n\u001b[0;32m--> 525\u001b[0;31m             \u001b[0mdata_copy\u001b[0m\u001b[0;34m[\u001b[0m\u001b[0mkey\u001b[0m\u001b[0;34m]\u001b[0m \u001b[0;34m=\u001b[0m \u001b[0mtransform_series\u001b[0m\u001b[0;34m(\u001b[0m\u001b[0mdata\u001b[0m\u001b[0;34m[\u001b[0m\u001b[0mkey\u001b[0m\u001b[0;34m]\u001b[0m\u001b[0;34m,\u001b[0m \u001b[0mbuffers\u001b[0m\u001b[0;34m=\u001b[0m\u001b[0mbuffers\u001b[0m\u001b[0;34m)\u001b[0m\u001b[0;34m\u001b[0m\u001b[0;34m\u001b[0m\u001b[0m\n\u001b[0m\u001b[1;32m    526\u001b[0m         \u001b[0;32melif\u001b[0m \u001b[0misinstance\u001b[0m\u001b[0;34m(\u001b[0m\u001b[0mdata\u001b[0m\u001b[0;34m[\u001b[0m\u001b[0mkey\u001b[0m\u001b[0;34m]\u001b[0m\u001b[0;34m,\u001b[0m \u001b[0mnp\u001b[0m\u001b[0;34m.\u001b[0m\u001b[0mndarray\u001b[0m\u001b[0;34m)\u001b[0m\u001b[0;34m:\u001b[0m\u001b[0;34m\u001b[0m\u001b[0;34m\u001b[0m\u001b[0m\n\u001b[1;32m    527\u001b[0m             \u001b[0mdata_copy\u001b[0m\u001b[0;34m[\u001b[0m\u001b[0mkey\u001b[0m\u001b[0;34m]\u001b[0m \u001b[0;34m=\u001b[0m \u001b[0mtransform_array\u001b[0m\u001b[0;34m(\u001b[0m\u001b[0mdata\u001b[0m\u001b[0;34m[\u001b[0m\u001b[0mkey\u001b[0m\u001b[0;34m]\u001b[0m\u001b[0;34m,\u001b[0m \u001b[0mbuffers\u001b[0m\u001b[0;34m=\u001b[0m\u001b[0mbuffers\u001b[0m\u001b[0;34m)\u001b[0m\u001b[0;34m\u001b[0m\u001b[0;34m\u001b[0m\u001b[0m\n",
      "\u001b[0;32m~/opt/anaconda3/envs/myenv/lib/python3.7/site-packages/bokeh/util/serialization.py\u001b[0m in \u001b[0;36mtransform_series\u001b[0;34m(series, force_list, buffers)\u001b[0m\n\u001b[1;32m    425\u001b[0m     \u001b[0;32melse\u001b[0m\u001b[0;34m:\u001b[0m\u001b[0;34m\u001b[0m\u001b[0;34m\u001b[0m\u001b[0m\n\u001b[1;32m    426\u001b[0m         \u001b[0mvals\u001b[0m \u001b[0;34m=\u001b[0m \u001b[0mseries\u001b[0m\u001b[0;34m.\u001b[0m\u001b[0mvalues\u001b[0m\u001b[0;34m\u001b[0m\u001b[0;34m\u001b[0m\u001b[0m\n\u001b[0;32m--> 427\u001b[0;31m     \u001b[0;32mreturn\u001b[0m \u001b[0mtransform_array\u001b[0m\u001b[0;34m(\u001b[0m\u001b[0mvals\u001b[0m\u001b[0;34m,\u001b[0m \u001b[0mforce_list\u001b[0m\u001b[0;34m=\u001b[0m\u001b[0mforce_list\u001b[0m\u001b[0;34m,\u001b[0m \u001b[0mbuffers\u001b[0m\u001b[0;34m=\u001b[0m\u001b[0mbuffers\u001b[0m\u001b[0;34m)\u001b[0m\u001b[0;34m\u001b[0m\u001b[0;34m\u001b[0m\u001b[0m\n\u001b[0m\u001b[1;32m    428\u001b[0m \u001b[0;34m\u001b[0m\u001b[0m\n\u001b[1;32m    429\u001b[0m \u001b[0;32mdef\u001b[0m \u001b[0mserialize_array\u001b[0m\u001b[0;34m(\u001b[0m\u001b[0marray\u001b[0m\u001b[0;34m:\u001b[0m \u001b[0mnp\u001b[0m\u001b[0;34m.\u001b[0m\u001b[0mndarray\u001b[0m\u001b[0;34m,\u001b[0m \u001b[0mforce_list\u001b[0m\u001b[0;34m:\u001b[0m \u001b[0mbool\u001b[0m \u001b[0;34m=\u001b[0m \u001b[0;32mFalse\u001b[0m\u001b[0;34m,\u001b[0m \u001b[0mbuffers\u001b[0m\u001b[0;34m:\u001b[0m \u001b[0mBuffers\u001b[0m \u001b[0;34m|\u001b[0m \u001b[0;32mNone\u001b[0m \u001b[0;34m=\u001b[0m \u001b[0;32mNone\u001b[0m\u001b[0;34m)\u001b[0m\u001b[0;34m:\u001b[0m\u001b[0;34m\u001b[0m\u001b[0;34m\u001b[0m\u001b[0m\n",
      "\u001b[0;32m~/opt/anaconda3/envs/myenv/lib/python3.7/site-packages/bokeh/util/serialization.py\u001b[0m in \u001b[0;36mtransform_array\u001b[0;34m(array, force_list, buffers)\u001b[0m\n\u001b[1;32m    369\u001b[0m     \u001b[0marray\u001b[0m \u001b[0;34m=\u001b[0m \u001b[0mconvert_datetime_array\u001b[0m\u001b[0;34m(\u001b[0m\u001b[0marray\u001b[0m\u001b[0;34m)\u001b[0m\u001b[0;34m\u001b[0m\u001b[0;34m\u001b[0m\u001b[0m\n\u001b[1;32m    370\u001b[0m \u001b[0;34m\u001b[0m\u001b[0m\n\u001b[0;32m--> 371\u001b[0;31m     \u001b[0;32mreturn\u001b[0m \u001b[0mserialize_array\u001b[0m\u001b[0;34m(\u001b[0m\u001b[0marray\u001b[0m\u001b[0;34m,\u001b[0m \u001b[0mforce_list\u001b[0m\u001b[0;34m=\u001b[0m\u001b[0mforce_list\u001b[0m\u001b[0;34m,\u001b[0m \u001b[0mbuffers\u001b[0m\u001b[0;34m=\u001b[0m\u001b[0mbuffers\u001b[0m\u001b[0;34m)\u001b[0m\u001b[0;34m\u001b[0m\u001b[0;34m\u001b[0m\u001b[0m\n\u001b[0m\u001b[1;32m    372\u001b[0m \u001b[0;34m\u001b[0m\u001b[0m\n\u001b[1;32m    373\u001b[0m \u001b[0;32mdef\u001b[0m \u001b[0mtransform_array_to_list\u001b[0m\u001b[0;34m(\u001b[0m\u001b[0marray\u001b[0m\u001b[0;34m:\u001b[0m \u001b[0mnp\u001b[0m\u001b[0;34m.\u001b[0m\u001b[0mndarray\u001b[0m\u001b[0;34m)\u001b[0m \u001b[0;34m->\u001b[0m \u001b[0mSequence\u001b[0m\u001b[0;34m[\u001b[0m\u001b[0mAny\u001b[0m\u001b[0;34m]\u001b[0m\u001b[0;34m:\u001b[0m\u001b[0;34m\u001b[0m\u001b[0;34m\u001b[0m\u001b[0m\n",
      "\u001b[0;32m~/opt/anaconda3/envs/myenv/lib/python3.7/site-packages/bokeh/util/serialization.py\u001b[0m in \u001b[0;36mserialize_array\u001b[0;34m(array, force_list, buffers)\u001b[0m\n\u001b[1;32m    456\u001b[0m         \u001b[0marray\u001b[0m \u001b[0;34m=\u001b[0m \u001b[0marray\u001b[0m\u001b[0;34m.\u001b[0m\u001b[0mfilled\u001b[0m\u001b[0;34m(\u001b[0m\u001b[0mnp\u001b[0m\u001b[0;34m.\u001b[0m\u001b[0mnan\u001b[0m\u001b[0;34m)\u001b[0m  \u001b[0;31m# Set masked values to nan\u001b[0m\u001b[0;34m\u001b[0m\u001b[0;34m\u001b[0m\u001b[0m\n\u001b[1;32m    457\u001b[0m     \u001b[0;32mif\u001b[0m \u001b[0;34m(\u001b[0m\u001b[0marray_encoding_disabled\u001b[0m\u001b[0;34m(\u001b[0m\u001b[0marray\u001b[0m\u001b[0;34m)\u001b[0m \u001b[0;32mor\u001b[0m \u001b[0mforce_list\u001b[0m\u001b[0;34m)\u001b[0m\u001b[0;34m:\u001b[0m\u001b[0;34m\u001b[0m\u001b[0;34m\u001b[0m\u001b[0m\n\u001b[0;32m--> 458\u001b[0;31m         \u001b[0;32mreturn\u001b[0m \u001b[0mtransform_array_to_list\u001b[0m\u001b[0;34m(\u001b[0m\u001b[0marray\u001b[0m\u001b[0;34m)\u001b[0m\u001b[0;34m\u001b[0m\u001b[0;34m\u001b[0m\u001b[0m\n\u001b[0m\u001b[1;32m    459\u001b[0m     \u001b[0;32mif\u001b[0m \u001b[0;32mnot\u001b[0m \u001b[0marray\u001b[0m\u001b[0;34m.\u001b[0m\u001b[0mflags\u001b[0m\u001b[0;34m[\u001b[0m\u001b[0;34m'C_CONTIGUOUS'\u001b[0m\u001b[0;34m]\u001b[0m\u001b[0;34m:\u001b[0m\u001b[0;34m\u001b[0m\u001b[0;34m\u001b[0m\u001b[0m\n\u001b[1;32m    460\u001b[0m         \u001b[0marray\u001b[0m \u001b[0;34m=\u001b[0m \u001b[0mnp\u001b[0m\u001b[0;34m.\u001b[0m\u001b[0mascontiguousarray\u001b[0m\u001b[0;34m(\u001b[0m\u001b[0marray\u001b[0m\u001b[0;34m)\u001b[0m\u001b[0;34m\u001b[0m\u001b[0;34m\u001b[0m\u001b[0m\n",
      "\u001b[0;32m~/opt/anaconda3/envs/myenv/lib/python3.7/site-packages/bokeh/util/serialization.py\u001b[0m in \u001b[0;36mtransform_array_to_list\u001b[0;34m(array)\u001b[0m\n\u001b[1;32m    391\u001b[0m         \u001b[0mtransformed\u001b[0m\u001b[0;34m[\u001b[0m\u001b[0mpd\u001b[0m\u001b[0;34m.\u001b[0m\u001b[0misnull\u001b[0m\u001b[0;34m(\u001b[0m\u001b[0marray\u001b[0m\u001b[0;34m)\u001b[0m\u001b[0;34m]\u001b[0m \u001b[0;34m=\u001b[0m \u001b[0;34m'NaN'\u001b[0m\u001b[0;34m\u001b[0m\u001b[0;34m\u001b[0m\u001b[0m\n\u001b[1;32m    392\u001b[0m         \u001b[0;32mreturn\u001b[0m \u001b[0mtransformed\u001b[0m\u001b[0;34m.\u001b[0m\u001b[0mtolist\u001b[0m\u001b[0;34m(\u001b[0m\u001b[0;34m)\u001b[0m\u001b[0;34m\u001b[0m\u001b[0;34m\u001b[0m\u001b[0m\n\u001b[0;32m--> 393\u001b[0;31m     \u001b[0;32mreturn\u001b[0m \u001b[0marray\u001b[0m\u001b[0;34m.\u001b[0m\u001b[0mtolist\u001b[0m\u001b[0;34m(\u001b[0m\u001b[0;34m)\u001b[0m\u001b[0;34m\u001b[0m\u001b[0;34m\u001b[0m\u001b[0m\n\u001b[0m\u001b[1;32m    394\u001b[0m \u001b[0;34m\u001b[0m\u001b[0m\n\u001b[1;32m    395\u001b[0m \u001b[0;32mdef\u001b[0m \u001b[0mtransform_series\u001b[0m\u001b[0;34m(\u001b[0m\u001b[0mseries\u001b[0m\u001b[0;34m:\u001b[0m \u001b[0mpd\u001b[0m\u001b[0;34m.\u001b[0m\u001b[0mSeries\u001b[0m \u001b[0;34m|\u001b[0m \u001b[0mpd\u001b[0m\u001b[0;34m.\u001b[0m\u001b[0mIndex\u001b[0m\u001b[0;34m,\u001b[0m \u001b[0mforce_list\u001b[0m\u001b[0;34m:\u001b[0m \u001b[0mbool\u001b[0m \u001b[0;34m=\u001b[0m \u001b[0;32mFalse\u001b[0m\u001b[0;34m,\u001b[0m \u001b[0mbuffers\u001b[0m\u001b[0;34m:\u001b[0m \u001b[0mBuffers\u001b[0m \u001b[0;34m|\u001b[0m \u001b[0;32mNone\u001b[0m \u001b[0;34m=\u001b[0m \u001b[0;32mNone\u001b[0m\u001b[0;34m)\u001b[0m\u001b[0;34m:\u001b[0m\u001b[0;34m\u001b[0m\u001b[0;34m\u001b[0m\u001b[0m\n",
      "\u001b[0;31mAttributeError\u001b[0m: 'IntegerArray' object has no attribute 'tolist'"
     ]
    }
   ],
   "source": [
    "# intialize plots to be put in tabs\n",
    "p_type = bokeh_hbar(leading_cause_bar_df, 'Leading Cause', \"Number of leading cause documentations\", \n",
    "             PuRd_32, 450, 650)\n",
    "p_target = bokeh_hbar(race_bar_df, 'Race Ethnicity', \"Number of race documentations\", \n",
    "            PuRd, 450, 650)\n",
    "# p_offense = bokeh_hbar(sex_bar_df, 'Sex', \"Number of sex documentations\", \n",
    "#             PuRd_2, 450, 650)            \n",
    "\n",
    "# format in tabs\n",
    "tabs = Tabs(tabs=[\n",
    "                 Panel(child=p_type, title='Leading Cause'),\n",
    "                #  Panel(child=p_target, title='Race'),\n",
    "                #  Panel(child=p_offense, title='Sex')\n",
    "                 ]\n",
    "                 )\n",
    "\n",
    "# show(tabs)\n",
    "\n",
    "show(p_type)"
   ]
  }
 ],
 "metadata": {
  "kernelspec": {
   "display_name": "Python 3.7.11 ('myenv')",
   "language": "python",
   "name": "python3"
  },
  "language_info": {
   "codemirror_mode": {
    "name": "ipython",
    "version": 3
   },
   "file_extension": ".py",
   "mimetype": "text/x-python",
   "name": "python",
   "nbconvert_exporter": "python",
   "pygments_lexer": "ipython3",
   "version": "3.7.11"
  },
  "orig_nbformat": 4,
  "vscode": {
   "interpreter": {
    "hash": "556577b464ed8290f2466f50fdd1787314e6ab7bd01d5a09df1b87bcf003920b"
   }
  }
 },
 "nbformat": 4,
 "nbformat_minor": 2
}
