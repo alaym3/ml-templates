{
 "cells": [
  {
   "cell_type": "markdown",
   "id": "fbd5dedd",
   "metadata": {},
   "source": [
    "# Taylor Swift song analysis\n",
    "#### In this notebook we will analyze metadata information from Spotify about all of Taylor Swift's albums. The goal is to gain an overview of how Taylor's songs have changed overtime, and identify if there are any key trends or outliers in her songs.\n",
    "#### Data is retrieved from [kaggle](https://www.kaggle.com/datasets/marcnhwu/taylor-swift-songs-with-audio-features-in-spotify)\n",
    "### Most plots are done with plotly express.\n",
    "\n",
    "# <font color=red> also add analysis on the lyrics with vader. can also check how the sentiment score of the songs compare to the spotify attributes. [new dataset here](https://www.kaggle.com/datasets/thespacefreak/taylor-swift-song-lyrics-all-albums)\n",
    "\n",
    "# <font color=red> eventually make it more generalized so that anyone can upload spotify data about an artist and then they can see all the graphs about it\n",
    "\n",
    "### <font color=red> figure out if i should get the taylor's version for fearless and red and replace them.... or keep all 4 to see?"
   ]
  },
  {
   "cell_type": "code",
   "execution_count": 1,
   "id": "9bf16d7a",
   "metadata": {},
   "outputs": [
    {
     "data": {
      "text/html": [
       "<div class=\"bk-root\">\n",
       "        <a href=\"https://bokeh.org\" target=\"_blank\" class=\"bk-logo bk-logo-small bk-logo-notebook\"></a>\n",
       "        <span id=\"1002\">Loading BokehJS ...</span>\n",
       "    </div>\n"
      ]
     },
     "metadata": {},
     "output_type": "display_data"
    },
    {
     "data": {
      "application/javascript": "(function(root) {\n  function now() {\n    return new Date();\n  }\n\n  const force = true;\n\n  if (typeof root._bokeh_onload_callbacks === \"undefined\" || force === true) {\n    root._bokeh_onload_callbacks = [];\n    root._bokeh_is_loading = undefined;\n  }\n\nconst JS_MIME_TYPE = 'application/javascript';\n  const HTML_MIME_TYPE = 'text/html';\n  const EXEC_MIME_TYPE = 'application/vnd.bokehjs_exec.v0+json';\n  const CLASS_NAME = 'output_bokeh rendered_html';\n\n  /**\n   * Render data to the DOM node\n   */\n  function render(props, node) {\n    const script = document.createElement(\"script\");\n    node.appendChild(script);\n  }\n\n  /**\n   * Handle when an output is cleared or removed\n   */\n  function handleClearOutput(event, handle) {\n    const cell = handle.cell;\n\n    const id = cell.output_area._bokeh_element_id;\n    const server_id = cell.output_area._bokeh_server_id;\n    // Clean up Bokeh references\n    if (id != null && id in Bokeh.index) {\n      Bokeh.index[id].model.document.clear();\n      delete Bokeh.index[id];\n    }\n\n    if (server_id !== undefined) {\n      // Clean up Bokeh references\n      const cmd_clean = \"from bokeh.io.state import curstate; print(curstate().uuid_to_server['\" + server_id + \"'].get_sessions()[0].document.roots[0]._id)\";\n      cell.notebook.kernel.execute(cmd_clean, {\n        iopub: {\n          output: function(msg) {\n            const id = msg.content.text.trim();\n            if (id in Bokeh.index) {\n              Bokeh.index[id].model.document.clear();\n              delete Bokeh.index[id];\n            }\n          }\n        }\n      });\n      // Destroy server and session\n      const cmd_destroy = \"import bokeh.io.notebook as ion; ion.destroy_server('\" + server_id + \"')\";\n      cell.notebook.kernel.execute(cmd_destroy);\n    }\n  }\n\n  /**\n   * Handle when a new output is added\n   */\n  function handleAddOutput(event, handle) {\n    const output_area = handle.output_area;\n    const output = handle.output;\n\n    // limit handleAddOutput to display_data with EXEC_MIME_TYPE content only\n    if ((output.output_type != \"display_data\") || (!Object.prototype.hasOwnProperty.call(output.data, EXEC_MIME_TYPE))) {\n      return\n    }\n\n    const toinsert = output_area.element.find(\".\" + CLASS_NAME.split(' ')[0]);\n\n    if (output.metadata[EXEC_MIME_TYPE][\"id\"] !== undefined) {\n      toinsert[toinsert.length - 1].firstChild.textContent = output.data[JS_MIME_TYPE];\n      // store reference to embed id on output_area\n      output_area._bokeh_element_id = output.metadata[EXEC_MIME_TYPE][\"id\"];\n    }\n    if (output.metadata[EXEC_MIME_TYPE][\"server_id\"] !== undefined) {\n      const bk_div = document.createElement(\"div\");\n      bk_div.innerHTML = output.data[HTML_MIME_TYPE];\n      const script_attrs = bk_div.children[0].attributes;\n      for (let i = 0; i < script_attrs.length; i++) {\n        toinsert[toinsert.length - 1].firstChild.setAttribute(script_attrs[i].name, script_attrs[i].value);\n        toinsert[toinsert.length - 1].firstChild.textContent = bk_div.children[0].textContent\n      }\n      // store reference to server id on output_area\n      output_area._bokeh_server_id = output.metadata[EXEC_MIME_TYPE][\"server_id\"];\n    }\n  }\n\n  function register_renderer(events, OutputArea) {\n\n    function append_mime(data, metadata, element) {\n      // create a DOM node to render to\n      const toinsert = this.create_output_subarea(\n        metadata,\n        CLASS_NAME,\n        EXEC_MIME_TYPE\n      );\n      this.keyboard_manager.register_events(toinsert);\n      // Render to node\n      const props = {data: data, metadata: metadata[EXEC_MIME_TYPE]};\n      render(props, toinsert[toinsert.length - 1]);\n      element.append(toinsert);\n      return toinsert\n    }\n\n    /* Handle when an output is cleared or removed */\n    events.on('clear_output.CodeCell', handleClearOutput);\n    events.on('delete.Cell', handleClearOutput);\n\n    /* Handle when a new output is added */\n    events.on('output_added.OutputArea', handleAddOutput);\n\n    /**\n     * Register the mime type and append_mime function with output_area\n     */\n    OutputArea.prototype.register_mime_type(EXEC_MIME_TYPE, append_mime, {\n      /* Is output safe? */\n      safe: true,\n      /* Index of renderer in `output_area.display_order` */\n      index: 0\n    });\n  }\n\n  // register the mime type if in Jupyter Notebook environment and previously unregistered\n  if (root.Jupyter !== undefined) {\n    const events = require('base/js/events');\n    const OutputArea = require('notebook/js/outputarea').OutputArea;\n\n    if (OutputArea.prototype.mime_types().indexOf(EXEC_MIME_TYPE) == -1) {\n      register_renderer(events, OutputArea);\n    }\n  }\n  if (typeof (root._bokeh_timeout) === \"undefined\" || force === true) {\n    root._bokeh_timeout = Date.now() + 5000;\n    root._bokeh_failed_load = false;\n  }\n\n  const NB_LOAD_WARNING = {'data': {'text/html':\n     \"<div style='background-color: #fdd'>\\n\"+\n     \"<p>\\n\"+\n     \"BokehJS does not appear to have successfully loaded. If loading BokehJS from CDN, this \\n\"+\n     \"may be due to a slow or bad network connection. Possible fixes:\\n\"+\n     \"</p>\\n\"+\n     \"<ul>\\n\"+\n     \"<li>re-rerun `output_notebook()` to attempt to load from CDN again, or</li>\\n\"+\n     \"<li>use INLINE resources instead, as so:</li>\\n\"+\n     \"</ul>\\n\"+\n     \"<code>\\n\"+\n     \"from bokeh.resources import INLINE\\n\"+\n     \"output_notebook(resources=INLINE)\\n\"+\n     \"</code>\\n\"+\n     \"</div>\"}};\n\n  function display_loaded() {\n    const el = document.getElementById(\"1002\");\n    if (el != null) {\n      el.textContent = \"BokehJS is loading...\";\n    }\n    if (root.Bokeh !== undefined) {\n      if (el != null) {\n        el.textContent = \"BokehJS \" + root.Bokeh.version + \" successfully loaded.\";\n      }\n    } else if (Date.now() < root._bokeh_timeout) {\n      setTimeout(display_loaded, 100)\n    }\n  }\n\n  function run_callbacks() {\n    try {\n      root._bokeh_onload_callbacks.forEach(function(callback) {\n        if (callback != null)\n          callback();\n      });\n    } finally {\n      delete root._bokeh_onload_callbacks\n    }\n    console.debug(\"Bokeh: all callbacks have finished\");\n  }\n\n  function load_libs(css_urls, js_urls, callback) {\n    if (css_urls == null) css_urls = [];\n    if (js_urls == null) js_urls = [];\n\n    root._bokeh_onload_callbacks.push(callback);\n    if (root._bokeh_is_loading > 0) {\n      console.debug(\"Bokeh: BokehJS is being loaded, scheduling callback at\", now());\n      return null;\n    }\n    if (js_urls == null || js_urls.length === 0) {\n      run_callbacks();\n      return null;\n    }\n    console.debug(\"Bokeh: BokehJS not loaded, scheduling load and callback at\", now());\n    root._bokeh_is_loading = css_urls.length + js_urls.length;\n\n    function on_load() {\n      root._bokeh_is_loading--;\n      if (root._bokeh_is_loading === 0) {\n        console.debug(\"Bokeh: all BokehJS libraries/stylesheets loaded\");\n        run_callbacks()\n      }\n    }\n\n    function on_error(url) {\n      console.error(\"failed to load \" + url);\n    }\n\n    for (let i = 0; i < css_urls.length; i++) {\n      const url = css_urls[i];\n      const element = document.createElement(\"link\");\n      element.onload = on_load;\n      element.onerror = on_error.bind(null, url);\n      element.rel = \"stylesheet\";\n      element.type = \"text/css\";\n      element.href = url;\n      console.debug(\"Bokeh: injecting link tag for BokehJS stylesheet: \", url);\n      document.body.appendChild(element);\n    }\n\n    for (let i = 0; i < js_urls.length; i++) {\n      const url = js_urls[i];\n      const element = document.createElement('script');\n      element.onload = on_load;\n      element.onerror = on_error.bind(null, url);\n      element.async = false;\n      element.src = url;\n      console.debug(\"Bokeh: injecting script tag for BokehJS library: \", url);\n      document.head.appendChild(element);\n    }\n  };\n\n  function inject_raw_css(css) {\n    const element = document.createElement(\"style\");\n    element.appendChild(document.createTextNode(css));\n    document.body.appendChild(element);\n  }\n\n  const js_urls = [\"https://cdn.bokeh.org/bokeh/release/bokeh-2.4.3.min.js\", \"https://cdn.bokeh.org/bokeh/release/bokeh-gl-2.4.3.min.js\", \"https://cdn.bokeh.org/bokeh/release/bokeh-widgets-2.4.3.min.js\", \"https://cdn.bokeh.org/bokeh/release/bokeh-tables-2.4.3.min.js\", \"https://cdn.bokeh.org/bokeh/release/bokeh-mathjax-2.4.3.min.js\"];\n  const css_urls = [];\n\n  const inline_js = [    function(Bokeh) {\n      Bokeh.set_log_level(\"info\");\n    },\nfunction(Bokeh) {\n    }\n  ];\n\n  function run_inline_js() {\n    if (root.Bokeh !== undefined || force === true) {\n          for (let i = 0; i < inline_js.length; i++) {\n      inline_js[i].call(root, root.Bokeh);\n    }\nif (force === true) {\n        display_loaded();\n      }} else if (Date.now() < root._bokeh_timeout) {\n      setTimeout(run_inline_js, 100);\n    } else if (!root._bokeh_failed_load) {\n      console.log(\"Bokeh: BokehJS failed to load within specified timeout.\");\n      root._bokeh_failed_load = true;\n    } else if (force !== true) {\n      const cell = $(document.getElementById(\"1002\")).parents('.cell').data().cell;\n      cell.output_area.append_execute_result(NB_LOAD_WARNING)\n    }\n  }\n\n  if (root._bokeh_is_loading === 0) {\n    console.debug(\"Bokeh: BokehJS loaded, going straight to plotting\");\n    run_inline_js();\n  } else {\n    load_libs(css_urls, js_urls, function() {\n      console.debug(\"Bokeh: BokehJS plotting callback run at\", now());\n      run_inline_js();\n    });\n  }\n}(window));",
      "application/vnd.bokehjs_load.v0+json": ""
     },
     "metadata": {},
     "output_type": "display_data"
    }
   ],
   "source": [
    "## Imports\n",
    "import numpy as np\n",
    "import pandas as pd\n",
    "pd.options.mode.chained_assignment = None\n",
    "import matplotlib.pyplot as plt\n",
    "import plotly.express as px\n",
    "import plotly.graph_objects as go\n",
    "import seaborn as sns\n",
    "from bokeh.plotting import figure, show, output_file, output_notebook\n",
    "from bokeh.models import ColumnDataSource, Range1d, HoverTool, Legend\n",
    "from bokeh.models.widgets import Tabs, Panel\n",
    "from bokeh.io import show\n",
    "from bokeh.palettes import Category20b, Spectral, Plasma, Viridis, YlOrRd, PuOr, BuPu, BuGn, brewer, GnBu, PRGn, Inferno256, PuRd, RdPu, PiYG, RdYlGn, YlGnBu, Reds, Purples\n",
    "from bokeh.io import reset_output, output_notebook\n",
    "reset_output()\n",
    "output_notebook()"
   ]
  },
  {
   "cell_type": "markdown",
   "id": "6138956c",
   "metadata": {},
   "source": [
    "# Load and preprocess the data\n",
    "\n",
    "**Load the Taylor Swift song dataset from Kaggle which was downloaded onto my computer as `TaylorSwiftSpotifyCorpus.csv`**"
   ]
  },
  {
   "cell_type": "code",
   "execution_count": 2,
   "id": "88776cfe",
   "metadata": {},
   "outputs": [
    {
     "data": {
      "text/html": [
       "<div>\n",
       "<style scoped>\n",
       "    .dataframe tbody tr th:only-of-type {\n",
       "        vertical-align: middle;\n",
       "    }\n",
       "\n",
       "    .dataframe tbody tr th {\n",
       "        vertical-align: top;\n",
       "    }\n",
       "\n",
       "    .dataframe thead th {\n",
       "        text-align: right;\n",
       "    }\n",
       "</style>\n",
       "<table border=\"1\" class=\"dataframe\">\n",
       "  <thead>\n",
       "    <tr style=\"text-align: right;\">\n",
       "      <th></th>\n",
       "      <th>artist</th>\n",
       "      <th>name</th>\n",
       "      <th>album</th>\n",
       "      <th>release_date</th>\n",
       "      <th>length</th>\n",
       "      <th>popularity</th>\n",
       "      <th>danceability</th>\n",
       "      <th>acousticness</th>\n",
       "      <th>danceability.1</th>\n",
       "      <th>energy</th>\n",
       "      <th>instrumentalness</th>\n",
       "      <th>liveness</th>\n",
       "      <th>loudness</th>\n",
       "      <th>speechiness</th>\n",
       "      <th>valence</th>\n",
       "      <th>tempo</th>\n",
       "      <th>time_signature</th>\n",
       "    </tr>\n",
       "  </thead>\n",
       "  <tbody>\n",
       "    <tr>\n",
       "      <th>1</th>\n",
       "      <td>Taylor Swift</td>\n",
       "      <td>Picture To Burn</td>\n",
       "      <td>Taylor Swift</td>\n",
       "      <td>2006-10-24</td>\n",
       "      <td>173066</td>\n",
       "      <td>64</td>\n",
       "      <td>0.658</td>\n",
       "      <td>0.1730</td>\n",
       "      <td>0.658</td>\n",
       "      <td>0.877</td>\n",
       "      <td>0.000000</td>\n",
       "      <td>0.0962</td>\n",
       "      <td>-2.098</td>\n",
       "      <td>0.0323</td>\n",
       "      <td>0.821</td>\n",
       "      <td>105.586</td>\n",
       "      <td>4</td>\n",
       "    </tr>\n",
       "    <tr>\n",
       "      <th>2</th>\n",
       "      <td>Taylor Swift</td>\n",
       "      <td>Our Song</td>\n",
       "      <td>Taylor Swift</td>\n",
       "      <td>2006-10-24</td>\n",
       "      <td>201106</td>\n",
       "      <td>68</td>\n",
       "      <td>0.668</td>\n",
       "      <td>0.1110</td>\n",
       "      <td>0.668</td>\n",
       "      <td>0.672</td>\n",
       "      <td>0.000000</td>\n",
       "      <td>0.3290</td>\n",
       "      <td>-4.931</td>\n",
       "      <td>0.0303</td>\n",
       "      <td>0.539</td>\n",
       "      <td>89.011</td>\n",
       "      <td>4</td>\n",
       "    </tr>\n",
       "    <tr>\n",
       "      <th>3</th>\n",
       "      <td>Taylor Swift</td>\n",
       "      <td>Should've Said No</td>\n",
       "      <td>Taylor Swift</td>\n",
       "      <td>2006-10-24</td>\n",
       "      <td>242200</td>\n",
       "      <td>61</td>\n",
       "      <td>0.476</td>\n",
       "      <td>0.0103</td>\n",
       "      <td>0.476</td>\n",
       "      <td>0.777</td>\n",
       "      <td>0.000000</td>\n",
       "      <td>0.1960</td>\n",
       "      <td>-3.771</td>\n",
       "      <td>0.0289</td>\n",
       "      <td>0.472</td>\n",
       "      <td>167.964</td>\n",
       "      <td>4</td>\n",
       "    </tr>\n",
       "    <tr>\n",
       "      <th>4</th>\n",
       "      <td>Taylor Swift</td>\n",
       "      <td>Tim McGraw</td>\n",
       "      <td>Taylor Swift</td>\n",
       "      <td>2006-10-24</td>\n",
       "      <td>232106</td>\n",
       "      <td>62</td>\n",
       "      <td>0.580</td>\n",
       "      <td>0.5750</td>\n",
       "      <td>0.580</td>\n",
       "      <td>0.491</td>\n",
       "      <td>0.000000</td>\n",
       "      <td>0.1210</td>\n",
       "      <td>-6.462</td>\n",
       "      <td>0.0251</td>\n",
       "      <td>0.425</td>\n",
       "      <td>76.009</td>\n",
       "      <td>4</td>\n",
       "    </tr>\n",
       "    <tr>\n",
       "      <th>5</th>\n",
       "      <td>Taylor Swift</td>\n",
       "      <td>A Place in this World</td>\n",
       "      <td>Taylor Swift</td>\n",
       "      <td>2006-10-24</td>\n",
       "      <td>199200</td>\n",
       "      <td>51</td>\n",
       "      <td>0.576</td>\n",
       "      <td>0.0510</td>\n",
       "      <td>0.576</td>\n",
       "      <td>0.777</td>\n",
       "      <td>0.000000</td>\n",
       "      <td>0.3200</td>\n",
       "      <td>-2.881</td>\n",
       "      <td>0.0324</td>\n",
       "      <td>0.428</td>\n",
       "      <td>115.028</td>\n",
       "      <td>4</td>\n",
       "    </tr>\n",
       "    <tr>\n",
       "      <th>...</th>\n",
       "      <td>...</td>\n",
       "      <td>...</td>\n",
       "      <td>...</td>\n",
       "      <td>...</td>\n",
       "      <td>...</td>\n",
       "      <td>...</td>\n",
       "      <td>...</td>\n",
       "      <td>...</td>\n",
       "      <td>...</td>\n",
       "      <td>...</td>\n",
       "      <td>...</td>\n",
       "      <td>...</td>\n",
       "      <td>...</td>\n",
       "      <td>...</td>\n",
       "      <td>...</td>\n",
       "      <td>...</td>\n",
       "      <td>...</td>\n",
       "    </tr>\n",
       "    <tr>\n",
       "      <th>261</th>\n",
       "      <td>Taylor Swift</td>\n",
       "      <td>Mr. Perfectly Fine (Taylor’s Version) (From Th...</td>\n",
       "      <td>Fearless (Taylor's Version)</td>\n",
       "      <td>2021-04-09</td>\n",
       "      <td>277591</td>\n",
       "      <td>79</td>\n",
       "      <td>0.660</td>\n",
       "      <td>0.1620</td>\n",
       "      <td>0.660</td>\n",
       "      <td>0.817</td>\n",
       "      <td>0.000000</td>\n",
       "      <td>0.0667</td>\n",
       "      <td>-6.269</td>\n",
       "      <td>0.0521</td>\n",
       "      <td>0.714</td>\n",
       "      <td>135.942</td>\n",
       "      <td>4</td>\n",
       "    </tr>\n",
       "    <tr>\n",
       "      <th>262</th>\n",
       "      <td>Taylor Swift</td>\n",
       "      <td>We Were Happy (Taylor’s Version) (From The Vault)</td>\n",
       "      <td>Fearless (Taylor's Version)</td>\n",
       "      <td>2021-04-09</td>\n",
       "      <td>244236</td>\n",
       "      <td>68</td>\n",
       "      <td>0.609</td>\n",
       "      <td>0.8490</td>\n",
       "      <td>0.609</td>\n",
       "      <td>0.373</td>\n",
       "      <td>0.000000</td>\n",
       "      <td>0.0779</td>\n",
       "      <td>-8.819</td>\n",
       "      <td>0.0263</td>\n",
       "      <td>0.130</td>\n",
       "      <td>106.007</td>\n",
       "      <td>4</td>\n",
       "    </tr>\n",
       "    <tr>\n",
       "      <th>263</th>\n",
       "      <td>Taylor Swift</td>\n",
       "      <td>That’s When (feat. Keith Urban) (Taylor’s Vers...</td>\n",
       "      <td>Fearless (Taylor's Version)</td>\n",
       "      <td>2021-04-09</td>\n",
       "      <td>189495</td>\n",
       "      <td>71</td>\n",
       "      <td>0.588</td>\n",
       "      <td>0.2250</td>\n",
       "      <td>0.588</td>\n",
       "      <td>0.608</td>\n",
       "      <td>0.000000</td>\n",
       "      <td>0.0920</td>\n",
       "      <td>-7.062</td>\n",
       "      <td>0.0365</td>\n",
       "      <td>0.508</td>\n",
       "      <td>90.201</td>\n",
       "      <td>4</td>\n",
       "    </tr>\n",
       "    <tr>\n",
       "      <th>264</th>\n",
       "      <td>Taylor Swift</td>\n",
       "      <td>Don’t You (Taylor’s Version) (From The Vault)</td>\n",
       "      <td>Fearless (Taylor's Version)</td>\n",
       "      <td>2021-04-09</td>\n",
       "      <td>208608</td>\n",
       "      <td>69</td>\n",
       "      <td>0.563</td>\n",
       "      <td>0.5140</td>\n",
       "      <td>0.563</td>\n",
       "      <td>0.473</td>\n",
       "      <td>0.000012</td>\n",
       "      <td>0.1090</td>\n",
       "      <td>-11.548</td>\n",
       "      <td>0.0503</td>\n",
       "      <td>0.405</td>\n",
       "      <td>101.934</td>\n",
       "      <td>4</td>\n",
       "    </tr>\n",
       "    <tr>\n",
       "      <th>265</th>\n",
       "      <td>Taylor Swift</td>\n",
       "      <td>Bye Bye Baby (Taylor’s Version) (From The Vault)</td>\n",
       "      <td>Fearless (Taylor's Version)</td>\n",
       "      <td>2021-04-09</td>\n",
       "      <td>242157</td>\n",
       "      <td>68</td>\n",
       "      <td>0.624</td>\n",
       "      <td>0.3340</td>\n",
       "      <td>0.624</td>\n",
       "      <td>0.624</td>\n",
       "      <td>0.000000</td>\n",
       "      <td>0.0995</td>\n",
       "      <td>-7.860</td>\n",
       "      <td>0.0539</td>\n",
       "      <td>0.527</td>\n",
       "      <td>80.132</td>\n",
       "      <td>4</td>\n",
       "    </tr>\n",
       "  </tbody>\n",
       "</table>\n",
       "<p>265 rows × 17 columns</p>\n",
       "</div>"
      ],
      "text/plain": [
       "           artist                                               name  \\\n",
       "1    Taylor Swift                                    Picture To Burn   \n",
       "2    Taylor Swift                                           Our Song   \n",
       "3    Taylor Swift                                  Should've Said No   \n",
       "4    Taylor Swift                                         Tim McGraw   \n",
       "5    Taylor Swift                              A Place in this World   \n",
       "..            ...                                                ...   \n",
       "261  Taylor Swift  Mr. Perfectly Fine (Taylor’s Version) (From Th...   \n",
       "262  Taylor Swift  We Were Happy (Taylor’s Version) (From The Vault)   \n",
       "263  Taylor Swift  That’s When (feat. Keith Urban) (Taylor’s Vers...   \n",
       "264  Taylor Swift      Don’t You (Taylor’s Version) (From The Vault)   \n",
       "265  Taylor Swift   Bye Bye Baby (Taylor’s Version) (From The Vault)   \n",
       "\n",
       "                           album release_date  length  popularity  \\\n",
       "1                   Taylor Swift   2006-10-24  173066          64   \n",
       "2                   Taylor Swift   2006-10-24  201106          68   \n",
       "3                   Taylor Swift   2006-10-24  242200          61   \n",
       "4                   Taylor Swift   2006-10-24  232106          62   \n",
       "5                   Taylor Swift   2006-10-24  199200          51   \n",
       "..                           ...          ...     ...         ...   \n",
       "261  Fearless (Taylor's Version)   2021-04-09  277591          79   \n",
       "262  Fearless (Taylor's Version)   2021-04-09  244236          68   \n",
       "263  Fearless (Taylor's Version)   2021-04-09  189495          71   \n",
       "264  Fearless (Taylor's Version)   2021-04-09  208608          69   \n",
       "265  Fearless (Taylor's Version)   2021-04-09  242157          68   \n",
       "\n",
       "     danceability  acousticness  danceability.1  energy  instrumentalness  \\\n",
       "1           0.658        0.1730           0.658   0.877          0.000000   \n",
       "2           0.668        0.1110           0.668   0.672          0.000000   \n",
       "3           0.476        0.0103           0.476   0.777          0.000000   \n",
       "4           0.580        0.5750           0.580   0.491          0.000000   \n",
       "5           0.576        0.0510           0.576   0.777          0.000000   \n",
       "..            ...           ...             ...     ...               ...   \n",
       "261         0.660        0.1620           0.660   0.817          0.000000   \n",
       "262         0.609        0.8490           0.609   0.373          0.000000   \n",
       "263         0.588        0.2250           0.588   0.608          0.000000   \n",
       "264         0.563        0.5140           0.563   0.473          0.000012   \n",
       "265         0.624        0.3340           0.624   0.624          0.000000   \n",
       "\n",
       "     liveness  loudness  speechiness  valence    tempo  time_signature  \n",
       "1      0.0962    -2.098       0.0323    0.821  105.586               4  \n",
       "2      0.3290    -4.931       0.0303    0.539   89.011               4  \n",
       "3      0.1960    -3.771       0.0289    0.472  167.964               4  \n",
       "4      0.1210    -6.462       0.0251    0.425   76.009               4  \n",
       "5      0.3200    -2.881       0.0324    0.428  115.028               4  \n",
       "..        ...       ...          ...      ...      ...             ...  \n",
       "261    0.0667    -6.269       0.0521    0.714  135.942               4  \n",
       "262    0.0779    -8.819       0.0263    0.130  106.007               4  \n",
       "263    0.0920    -7.062       0.0365    0.508   90.201               4  \n",
       "264    0.1090   -11.548       0.0503    0.405  101.934               4  \n",
       "265    0.0995    -7.860       0.0539    0.527   80.132               4  \n",
       "\n",
       "[265 rows x 17 columns]"
      ]
     },
     "execution_count": 2,
     "metadata": {},
     "output_type": "execute_result"
    }
   ],
   "source": [
    "df = pd.read_csv('TaylorSwiftSpotifyCorpus.csv', index_col=0)\n",
    "df"
   ]
  },
  {
   "cell_type": "markdown",
   "id": "e0908d88",
   "metadata": {},
   "source": [
    "### We decide to only analyze songs from Taylor's main studio albums on Spotify, so we reduce the dataset to those 158 songs.\n",
    "**We keep the following albums:**\n",
    "1. Taylor Swift\n",
    "2. Fearless Platinum Edition  - we choose use this rather than Fearless (Taylor's Version) so that we are uniform in exploring the original albums. \n",
    "3. Speak Now (Deluxe Edition)\n",
    "4. Red (Deluxe Edition)\n",
    "5. 1989 (Deluxe Edition)\n",
    "6. reputation\n",
    "7. Lover\n",
    "8. folklore\n",
    "9. evermore (deluxe version)\n",
    "\n",
    "### Additional processing:\n",
    "1. **We will strip away the (Taylor's Version) and (Deluxe Edition)s from the album titles to make all ensuing graphs easier to read.**\n",
    "2. **We will strip (Taylor’s Version) (From The Vault) from the songs on the Fearless album to be more concise.**\n",
    "\n"
   ]
  },
  {
   "cell_type": "code",
   "execution_count": 3,
   "id": "157c0a8c",
   "metadata": {},
   "outputs": [
    {
     "data": {
      "text/plain": [
       "Fearless (Taylor's Version)                                                            26\n",
       "Red (Deluxe Edition)                                                                   22\n",
       "Speak Now (Deluxe Edition)                                                             20\n",
       "folklore: the long pond studio sessions (from the Disney+ special) [deluxe edition]    19\n",
       "Lover                                                                                  19\n",
       "Fearless Platinum Edition                                                              18\n",
       "evermore (deluxe version)                                                              17\n",
       "folklore                                                                               16\n",
       "Speak Now World Tour Live                                                              16\n",
       "1989 (Deluxe Edition)                                                                  16\n",
       "reputation                                                                             15\n",
       "Taylor Swift                                                                           15\n",
       "The Taylor Swift Holiday Collection                                                     6\n",
       "The Hunger Games: Songs From District 12 And Beyond                                     2\n",
       "Spotify Singles                                                                         2\n",
       "Daylight (Live From Paris)                                                              2\n",
       "Cornelia Street (Live From Paris)                                                       2\n",
       "Ronan                                                                                   1\n",
       "Music from the 3D Concert Experience                                                    1\n",
       "The Archer (Live From Paris)                                                            1\n",
       "Death By A Thousand Cuts (Live From Paris)                                              1\n",
       "You Need To Calm Down (Live From Paris)                                                 1\n",
       "Lover (Live From Paris)                                                                 1\n",
       "Hannah Montana The Movie                                                                1\n",
       "cardigan (cabin in candlelight version)                                                 1\n",
       "folklore (deluxe version)                                                               1\n",
       "willow [dancing witch version (Elvira remix)]                                           1\n",
       "willow (lonely witch version)                                                           1\n",
       "willow (moonlit witch version)                                                          1\n",
       "Love Story (Taylor's Version) [Elvira Remix]                                            1\n",
       "ME! (Live From Paris)                                                                   1\n",
       "Only The Young (Featured in Miss Americana)                                             1\n",
       "The Man (Live From Paris)                                                               1\n",
       "Delicate (Seeb Remix)                                                                   1\n",
       "Sweeter Than Fiction                                                                    1\n",
       "Strange Clouds                                                                          1\n",
       "Fifty Shades Darker (Original Motion Picture Soundtrack)                                1\n",
       "Live in No Shoes Nation                                                                 1\n",
       "...Ready For It? (BloodPop® Remix)                                                      1\n",
       "Delicate (Sawyr And Ryan Tedder Mix)                                                    1\n",
       "Bigger                                                                                  1\n",
       "Two Lanes Of Freedom (Accelerated Deluxe)                                               1\n",
       "Today Was A Fairytale                                                                   1\n",
       "Love Drunk                                                                              1\n",
       "Lover (Remix) [feat. Shawn Mendes]                                                      1\n",
       "Beautiful Ghosts (From The Motion Picture \"Cats\")                                       1\n",
       "Lover (First Dance Remix)                                                               1\n",
       "Christmas Tree Farm                                                                     1\n",
       "You Need To Calm Down (Clean Bandit Remix)                                              1\n",
       "Name: album, dtype: int64"
      ]
     },
     "execution_count": 3,
     "metadata": {},
     "output_type": "execute_result"
    }
   ],
   "source": [
    "# show the albums and number of songs on each\n",
    "df.album.value_counts()"
   ]
  },
  {
   "cell_type": "code",
   "execution_count": 4,
   "id": "0d279d21",
   "metadata": {},
   "outputs": [
    {
     "data": {
      "text/html": [
       "<div>\n",
       "<style scoped>\n",
       "    .dataframe tbody tr th:only-of-type {\n",
       "        vertical-align: middle;\n",
       "    }\n",
       "\n",
       "    .dataframe tbody tr th {\n",
       "        vertical-align: top;\n",
       "    }\n",
       "\n",
       "    .dataframe thead th {\n",
       "        text-align: right;\n",
       "    }\n",
       "</style>\n",
       "<table border=\"1\" class=\"dataframe\">\n",
       "  <thead>\n",
       "    <tr style=\"text-align: right;\">\n",
       "      <th></th>\n",
       "      <th>artist</th>\n",
       "      <th>name</th>\n",
       "      <th>album</th>\n",
       "      <th>release_date</th>\n",
       "      <th>length</th>\n",
       "      <th>popularity</th>\n",
       "      <th>danceability</th>\n",
       "      <th>acousticness</th>\n",
       "      <th>danceability.1</th>\n",
       "      <th>energy</th>\n",
       "      <th>instrumentalness</th>\n",
       "      <th>liveness</th>\n",
       "      <th>loudness</th>\n",
       "      <th>speechiness</th>\n",
       "      <th>valence</th>\n",
       "      <th>tempo</th>\n",
       "      <th>time_signature</th>\n",
       "    </tr>\n",
       "  </thead>\n",
       "  <tbody>\n",
       "    <tr>\n",
       "      <th>1</th>\n",
       "      <td>Taylor Swift</td>\n",
       "      <td>Picture To Burn</td>\n",
       "      <td>Taylor Swift</td>\n",
       "      <td>2006-10-24</td>\n",
       "      <td>173066</td>\n",
       "      <td>64</td>\n",
       "      <td>0.658</td>\n",
       "      <td>0.1730</td>\n",
       "      <td>0.658</td>\n",
       "      <td>0.877</td>\n",
       "      <td>0.000000</td>\n",
       "      <td>0.0962</td>\n",
       "      <td>-2.098</td>\n",
       "      <td>0.0323</td>\n",
       "      <td>0.821</td>\n",
       "      <td>105.586</td>\n",
       "      <td>4</td>\n",
       "    </tr>\n",
       "    <tr>\n",
       "      <th>2</th>\n",
       "      <td>Taylor Swift</td>\n",
       "      <td>Our Song</td>\n",
       "      <td>Taylor Swift</td>\n",
       "      <td>2006-10-24</td>\n",
       "      <td>201106</td>\n",
       "      <td>68</td>\n",
       "      <td>0.668</td>\n",
       "      <td>0.1110</td>\n",
       "      <td>0.668</td>\n",
       "      <td>0.672</td>\n",
       "      <td>0.000000</td>\n",
       "      <td>0.3290</td>\n",
       "      <td>-4.931</td>\n",
       "      <td>0.0303</td>\n",
       "      <td>0.539</td>\n",
       "      <td>89.011</td>\n",
       "      <td>4</td>\n",
       "    </tr>\n",
       "    <tr>\n",
       "      <th>3</th>\n",
       "      <td>Taylor Swift</td>\n",
       "      <td>Should've Said No</td>\n",
       "      <td>Taylor Swift</td>\n",
       "      <td>2006-10-24</td>\n",
       "      <td>242200</td>\n",
       "      <td>61</td>\n",
       "      <td>0.476</td>\n",
       "      <td>0.0103</td>\n",
       "      <td>0.476</td>\n",
       "      <td>0.777</td>\n",
       "      <td>0.000000</td>\n",
       "      <td>0.1960</td>\n",
       "      <td>-3.771</td>\n",
       "      <td>0.0289</td>\n",
       "      <td>0.472</td>\n",
       "      <td>167.964</td>\n",
       "      <td>4</td>\n",
       "    </tr>\n",
       "    <tr>\n",
       "      <th>4</th>\n",
       "      <td>Taylor Swift</td>\n",
       "      <td>Tim McGraw</td>\n",
       "      <td>Taylor Swift</td>\n",
       "      <td>2006-10-24</td>\n",
       "      <td>232106</td>\n",
       "      <td>62</td>\n",
       "      <td>0.580</td>\n",
       "      <td>0.5750</td>\n",
       "      <td>0.580</td>\n",
       "      <td>0.491</td>\n",
       "      <td>0.000000</td>\n",
       "      <td>0.1210</td>\n",
       "      <td>-6.462</td>\n",
       "      <td>0.0251</td>\n",
       "      <td>0.425</td>\n",
       "      <td>76.009</td>\n",
       "      <td>4</td>\n",
       "    </tr>\n",
       "    <tr>\n",
       "      <th>5</th>\n",
       "      <td>Taylor Swift</td>\n",
       "      <td>A Place in this World</td>\n",
       "      <td>Taylor Swift</td>\n",
       "      <td>2006-10-24</td>\n",
       "      <td>199200</td>\n",
       "      <td>51</td>\n",
       "      <td>0.576</td>\n",
       "      <td>0.0510</td>\n",
       "      <td>0.576</td>\n",
       "      <td>0.777</td>\n",
       "      <td>0.000000</td>\n",
       "      <td>0.3200</td>\n",
       "      <td>-2.881</td>\n",
       "      <td>0.0324</td>\n",
       "      <td>0.428</td>\n",
       "      <td>115.028</td>\n",
       "      <td>4</td>\n",
       "    </tr>\n",
       "    <tr>\n",
       "      <th>...</th>\n",
       "      <td>...</td>\n",
       "      <td>...</td>\n",
       "      <td>...</td>\n",
       "      <td>...</td>\n",
       "      <td>...</td>\n",
       "      <td>...</td>\n",
       "      <td>...</td>\n",
       "      <td>...</td>\n",
       "      <td>...</td>\n",
       "      <td>...</td>\n",
       "      <td>...</td>\n",
       "      <td>...</td>\n",
       "      <td>...</td>\n",
       "      <td>...</td>\n",
       "      <td>...</td>\n",
       "      <td>...</td>\n",
       "      <td>...</td>\n",
       "    </tr>\n",
       "    <tr>\n",
       "      <th>234</th>\n",
       "      <td>Taylor Swift</td>\n",
       "      <td>marjorie</td>\n",
       "      <td>evermore (deluxe version)</td>\n",
       "      <td>2021-01-07</td>\n",
       "      <td>257773</td>\n",
       "      <td>62</td>\n",
       "      <td>0.535</td>\n",
       "      <td>0.8760</td>\n",
       "      <td>0.535</td>\n",
       "      <td>0.561</td>\n",
       "      <td>0.000136</td>\n",
       "      <td>0.1150</td>\n",
       "      <td>-11.609</td>\n",
       "      <td>0.0484</td>\n",
       "      <td>0.287</td>\n",
       "      <td>96.103</td>\n",
       "      <td>4</td>\n",
       "    </tr>\n",
       "    <tr>\n",
       "      <th>235</th>\n",
       "      <td>Taylor Swift</td>\n",
       "      <td>closure</td>\n",
       "      <td>evermore (deluxe version)</td>\n",
       "      <td>2021-01-07</td>\n",
       "      <td>180653</td>\n",
       "      <td>61</td>\n",
       "      <td>0.689</td>\n",
       "      <td>0.8350</td>\n",
       "      <td>0.689</td>\n",
       "      <td>0.704</td>\n",
       "      <td>0.000005</td>\n",
       "      <td>0.1340</td>\n",
       "      <td>-10.813</td>\n",
       "      <td>0.2450</td>\n",
       "      <td>0.920</td>\n",
       "      <td>151.884</td>\n",
       "      <td>5</td>\n",
       "    </tr>\n",
       "    <tr>\n",
       "      <th>236</th>\n",
       "      <td>Taylor Swift</td>\n",
       "      <td>evermore (feat. Bon Iver)</td>\n",
       "      <td>evermore (deluxe version)</td>\n",
       "      <td>2021-01-07</td>\n",
       "      <td>304106</td>\n",
       "      <td>63</td>\n",
       "      <td>0.390</td>\n",
       "      <td>0.9370</td>\n",
       "      <td>0.390</td>\n",
       "      <td>0.270</td>\n",
       "      <td>0.002270</td>\n",
       "      <td>0.1110</td>\n",
       "      <td>-10.673</td>\n",
       "      <td>0.0308</td>\n",
       "      <td>0.320</td>\n",
       "      <td>125.177</td>\n",
       "      <td>5</td>\n",
       "    </tr>\n",
       "    <tr>\n",
       "      <th>237</th>\n",
       "      <td>Taylor Swift</td>\n",
       "      <td>right where you left me - bonus track</td>\n",
       "      <td>evermore (deluxe version)</td>\n",
       "      <td>2021-01-07</td>\n",
       "      <td>245026</td>\n",
       "      <td>70</td>\n",
       "      <td>0.581</td>\n",
       "      <td>0.7690</td>\n",
       "      <td>0.581</td>\n",
       "      <td>0.619</td>\n",
       "      <td>0.000106</td>\n",
       "      <td>0.1170</td>\n",
       "      <td>-6.524</td>\n",
       "      <td>0.0282</td>\n",
       "      <td>0.645</td>\n",
       "      <td>137.915</td>\n",
       "      <td>4</td>\n",
       "    </tr>\n",
       "    <tr>\n",
       "      <th>238</th>\n",
       "      <td>Taylor Swift</td>\n",
       "      <td>it’s time to go - bonus track</td>\n",
       "      <td>evermore (deluxe version)</td>\n",
       "      <td>2021-01-07</td>\n",
       "      <td>254640</td>\n",
       "      <td>67</td>\n",
       "      <td>0.592</td>\n",
       "      <td>0.8010</td>\n",
       "      <td>0.592</td>\n",
       "      <td>0.410</td>\n",
       "      <td>0.000014</td>\n",
       "      <td>0.0900</td>\n",
       "      <td>-12.426</td>\n",
       "      <td>0.0397</td>\n",
       "      <td>0.416</td>\n",
       "      <td>151.923</td>\n",
       "      <td>4</td>\n",
       "    </tr>\n",
       "  </tbody>\n",
       "</table>\n",
       "<p>158 rows × 17 columns</p>\n",
       "</div>"
      ],
      "text/plain": [
       "           artist                                   name  \\\n",
       "1    Taylor Swift                        Picture To Burn   \n",
       "2    Taylor Swift                               Our Song   \n",
       "3    Taylor Swift                      Should've Said No   \n",
       "4    Taylor Swift                             Tim McGraw   \n",
       "5    Taylor Swift                  A Place in this World   \n",
       "..            ...                                    ...   \n",
       "234  Taylor Swift                               marjorie   \n",
       "235  Taylor Swift                                closure   \n",
       "236  Taylor Swift              evermore (feat. Bon Iver)   \n",
       "237  Taylor Swift  right where you left me - bonus track   \n",
       "238  Taylor Swift          it’s time to go - bonus track   \n",
       "\n",
       "                         album release_date  length  popularity  danceability  \\\n",
       "1                 Taylor Swift   2006-10-24  173066          64         0.658   \n",
       "2                 Taylor Swift   2006-10-24  201106          68         0.668   \n",
       "3                 Taylor Swift   2006-10-24  242200          61         0.476   \n",
       "4                 Taylor Swift   2006-10-24  232106          62         0.580   \n",
       "5                 Taylor Swift   2006-10-24  199200          51         0.576   \n",
       "..                         ...          ...     ...         ...           ...   \n",
       "234  evermore (deluxe version)   2021-01-07  257773          62         0.535   \n",
       "235  evermore (deluxe version)   2021-01-07  180653          61         0.689   \n",
       "236  evermore (deluxe version)   2021-01-07  304106          63         0.390   \n",
       "237  evermore (deluxe version)   2021-01-07  245026          70         0.581   \n",
       "238  evermore (deluxe version)   2021-01-07  254640          67         0.592   \n",
       "\n",
       "     acousticness  danceability.1  energy  instrumentalness  liveness  \\\n",
       "1          0.1730           0.658   0.877          0.000000    0.0962   \n",
       "2          0.1110           0.668   0.672          0.000000    0.3290   \n",
       "3          0.0103           0.476   0.777          0.000000    0.1960   \n",
       "4          0.5750           0.580   0.491          0.000000    0.1210   \n",
       "5          0.0510           0.576   0.777          0.000000    0.3200   \n",
       "..            ...             ...     ...               ...       ...   \n",
       "234        0.8760           0.535   0.561          0.000136    0.1150   \n",
       "235        0.8350           0.689   0.704          0.000005    0.1340   \n",
       "236        0.9370           0.390   0.270          0.002270    0.1110   \n",
       "237        0.7690           0.581   0.619          0.000106    0.1170   \n",
       "238        0.8010           0.592   0.410          0.000014    0.0900   \n",
       "\n",
       "     loudness  speechiness  valence    tempo  time_signature  \n",
       "1      -2.098       0.0323    0.821  105.586               4  \n",
       "2      -4.931       0.0303    0.539   89.011               4  \n",
       "3      -3.771       0.0289    0.472  167.964               4  \n",
       "4      -6.462       0.0251    0.425   76.009               4  \n",
       "5      -2.881       0.0324    0.428  115.028               4  \n",
       "..        ...          ...      ...      ...             ...  \n",
       "234   -11.609       0.0484    0.287   96.103               4  \n",
       "235   -10.813       0.2450    0.920  151.884               5  \n",
       "236   -10.673       0.0308    0.320  125.177               5  \n",
       "237    -6.524       0.0282    0.645  137.915               4  \n",
       "238   -12.426       0.0397    0.416  151.923               4  \n",
       "\n",
       "[158 rows x 17 columns]"
      ]
     },
     "execution_count": 4,
     "metadata": {},
     "output_type": "execute_result"
    }
   ],
   "source": [
    "# filter the df for only the albums we want\n",
    "albums_to_keep = [\"Taylor Swift\", \"Fearless Platinum Edition\", \"Speak Now (Deluxe Edition)\",\"Red (Deluxe Edition)\",\n",
    "                  \"1989 (Deluxe Edition)\", \"reputation\", \"Lover\", \"folklore\", \"evermore (deluxe version)\"]\n",
    "\n",
    "df = df[df['album'].isin(albums_to_keep)]\n",
    "df"
   ]
  },
  {
   "cell_type": "code",
   "execution_count": 5,
   "id": "92437b1a",
   "metadata": {},
   "outputs": [
    {
     "data": {
      "text/html": [
       "<div>\n",
       "<style scoped>\n",
       "    .dataframe tbody tr th:only-of-type {\n",
       "        vertical-align: middle;\n",
       "    }\n",
       "\n",
       "    .dataframe tbody tr th {\n",
       "        vertical-align: top;\n",
       "    }\n",
       "\n",
       "    .dataframe thead th {\n",
       "        text-align: right;\n",
       "    }\n",
       "</style>\n",
       "<table border=\"1\" class=\"dataframe\">\n",
       "  <thead>\n",
       "    <tr style=\"text-align: right;\">\n",
       "      <th></th>\n",
       "      <th>artist</th>\n",
       "      <th>name</th>\n",
       "      <th>album</th>\n",
       "      <th>release_date</th>\n",
       "      <th>length</th>\n",
       "      <th>popularity</th>\n",
       "      <th>danceability</th>\n",
       "      <th>acousticness</th>\n",
       "      <th>danceability.1</th>\n",
       "      <th>energy</th>\n",
       "      <th>instrumentalness</th>\n",
       "      <th>liveness</th>\n",
       "      <th>loudness</th>\n",
       "      <th>speechiness</th>\n",
       "      <th>valence</th>\n",
       "      <th>tempo</th>\n",
       "      <th>time_signature</th>\n",
       "    </tr>\n",
       "  </thead>\n",
       "  <tbody>\n",
       "    <tr>\n",
       "      <th>1</th>\n",
       "      <td>Taylor Swift</td>\n",
       "      <td>Picture To Burn</td>\n",
       "      <td>Taylor Swift</td>\n",
       "      <td>2006-10-24</td>\n",
       "      <td>173066</td>\n",
       "      <td>64</td>\n",
       "      <td>0.658</td>\n",
       "      <td>0.1730</td>\n",
       "      <td>0.658</td>\n",
       "      <td>0.877</td>\n",
       "      <td>0.000000</td>\n",
       "      <td>0.0962</td>\n",
       "      <td>-2.098</td>\n",
       "      <td>0.0323</td>\n",
       "      <td>0.821</td>\n",
       "      <td>105.586</td>\n",
       "      <td>4</td>\n",
       "    </tr>\n",
       "    <tr>\n",
       "      <th>2</th>\n",
       "      <td>Taylor Swift</td>\n",
       "      <td>Our Song</td>\n",
       "      <td>Taylor Swift</td>\n",
       "      <td>2006-10-24</td>\n",
       "      <td>201106</td>\n",
       "      <td>68</td>\n",
       "      <td>0.668</td>\n",
       "      <td>0.1110</td>\n",
       "      <td>0.668</td>\n",
       "      <td>0.672</td>\n",
       "      <td>0.000000</td>\n",
       "      <td>0.3290</td>\n",
       "      <td>-4.931</td>\n",
       "      <td>0.0303</td>\n",
       "      <td>0.539</td>\n",
       "      <td>89.011</td>\n",
       "      <td>4</td>\n",
       "    </tr>\n",
       "    <tr>\n",
       "      <th>3</th>\n",
       "      <td>Taylor Swift</td>\n",
       "      <td>Should've Said No</td>\n",
       "      <td>Taylor Swift</td>\n",
       "      <td>2006-10-24</td>\n",
       "      <td>242200</td>\n",
       "      <td>61</td>\n",
       "      <td>0.476</td>\n",
       "      <td>0.0103</td>\n",
       "      <td>0.476</td>\n",
       "      <td>0.777</td>\n",
       "      <td>0.000000</td>\n",
       "      <td>0.1960</td>\n",
       "      <td>-3.771</td>\n",
       "      <td>0.0289</td>\n",
       "      <td>0.472</td>\n",
       "      <td>167.964</td>\n",
       "      <td>4</td>\n",
       "    </tr>\n",
       "    <tr>\n",
       "      <th>4</th>\n",
       "      <td>Taylor Swift</td>\n",
       "      <td>Tim McGraw</td>\n",
       "      <td>Taylor Swift</td>\n",
       "      <td>2006-10-24</td>\n",
       "      <td>232106</td>\n",
       "      <td>62</td>\n",
       "      <td>0.580</td>\n",
       "      <td>0.5750</td>\n",
       "      <td>0.580</td>\n",
       "      <td>0.491</td>\n",
       "      <td>0.000000</td>\n",
       "      <td>0.1210</td>\n",
       "      <td>-6.462</td>\n",
       "      <td>0.0251</td>\n",
       "      <td>0.425</td>\n",
       "      <td>76.009</td>\n",
       "      <td>4</td>\n",
       "    </tr>\n",
       "    <tr>\n",
       "      <th>5</th>\n",
       "      <td>Taylor Swift</td>\n",
       "      <td>A Place in this World</td>\n",
       "      <td>Taylor Swift</td>\n",
       "      <td>2006-10-24</td>\n",
       "      <td>199200</td>\n",
       "      <td>51</td>\n",
       "      <td>0.576</td>\n",
       "      <td>0.0510</td>\n",
       "      <td>0.576</td>\n",
       "      <td>0.777</td>\n",
       "      <td>0.000000</td>\n",
       "      <td>0.3200</td>\n",
       "      <td>-2.881</td>\n",
       "      <td>0.0324</td>\n",
       "      <td>0.428</td>\n",
       "      <td>115.028</td>\n",
       "      <td>4</td>\n",
       "    </tr>\n",
       "    <tr>\n",
       "      <th>...</th>\n",
       "      <td>...</td>\n",
       "      <td>...</td>\n",
       "      <td>...</td>\n",
       "      <td>...</td>\n",
       "      <td>...</td>\n",
       "      <td>...</td>\n",
       "      <td>...</td>\n",
       "      <td>...</td>\n",
       "      <td>...</td>\n",
       "      <td>...</td>\n",
       "      <td>...</td>\n",
       "      <td>...</td>\n",
       "      <td>...</td>\n",
       "      <td>...</td>\n",
       "      <td>...</td>\n",
       "      <td>...</td>\n",
       "      <td>...</td>\n",
       "    </tr>\n",
       "    <tr>\n",
       "      <th>234</th>\n",
       "      <td>Taylor Swift</td>\n",
       "      <td>marjorie</td>\n",
       "      <td>evermore</td>\n",
       "      <td>2021-01-07</td>\n",
       "      <td>257773</td>\n",
       "      <td>62</td>\n",
       "      <td>0.535</td>\n",
       "      <td>0.8760</td>\n",
       "      <td>0.535</td>\n",
       "      <td>0.561</td>\n",
       "      <td>0.000136</td>\n",
       "      <td>0.1150</td>\n",
       "      <td>-11.609</td>\n",
       "      <td>0.0484</td>\n",
       "      <td>0.287</td>\n",
       "      <td>96.103</td>\n",
       "      <td>4</td>\n",
       "    </tr>\n",
       "    <tr>\n",
       "      <th>235</th>\n",
       "      <td>Taylor Swift</td>\n",
       "      <td>closure</td>\n",
       "      <td>evermore</td>\n",
       "      <td>2021-01-07</td>\n",
       "      <td>180653</td>\n",
       "      <td>61</td>\n",
       "      <td>0.689</td>\n",
       "      <td>0.8350</td>\n",
       "      <td>0.689</td>\n",
       "      <td>0.704</td>\n",
       "      <td>0.000005</td>\n",
       "      <td>0.1340</td>\n",
       "      <td>-10.813</td>\n",
       "      <td>0.2450</td>\n",
       "      <td>0.920</td>\n",
       "      <td>151.884</td>\n",
       "      <td>5</td>\n",
       "    </tr>\n",
       "    <tr>\n",
       "      <th>236</th>\n",
       "      <td>Taylor Swift</td>\n",
       "      <td>evermore (feat. Bon Iver)</td>\n",
       "      <td>evermore</td>\n",
       "      <td>2021-01-07</td>\n",
       "      <td>304106</td>\n",
       "      <td>63</td>\n",
       "      <td>0.390</td>\n",
       "      <td>0.9370</td>\n",
       "      <td>0.390</td>\n",
       "      <td>0.270</td>\n",
       "      <td>0.002270</td>\n",
       "      <td>0.1110</td>\n",
       "      <td>-10.673</td>\n",
       "      <td>0.0308</td>\n",
       "      <td>0.320</td>\n",
       "      <td>125.177</td>\n",
       "      <td>5</td>\n",
       "    </tr>\n",
       "    <tr>\n",
       "      <th>237</th>\n",
       "      <td>Taylor Swift</td>\n",
       "      <td>right where you left me - bonus track</td>\n",
       "      <td>evermore</td>\n",
       "      <td>2021-01-07</td>\n",
       "      <td>245026</td>\n",
       "      <td>70</td>\n",
       "      <td>0.581</td>\n",
       "      <td>0.7690</td>\n",
       "      <td>0.581</td>\n",
       "      <td>0.619</td>\n",
       "      <td>0.000106</td>\n",
       "      <td>0.1170</td>\n",
       "      <td>-6.524</td>\n",
       "      <td>0.0282</td>\n",
       "      <td>0.645</td>\n",
       "      <td>137.915</td>\n",
       "      <td>4</td>\n",
       "    </tr>\n",
       "    <tr>\n",
       "      <th>238</th>\n",
       "      <td>Taylor Swift</td>\n",
       "      <td>it’s time to go - bonus track</td>\n",
       "      <td>evermore</td>\n",
       "      <td>2021-01-07</td>\n",
       "      <td>254640</td>\n",
       "      <td>67</td>\n",
       "      <td>0.592</td>\n",
       "      <td>0.8010</td>\n",
       "      <td>0.592</td>\n",
       "      <td>0.410</td>\n",
       "      <td>0.000014</td>\n",
       "      <td>0.0900</td>\n",
       "      <td>-12.426</td>\n",
       "      <td>0.0397</td>\n",
       "      <td>0.416</td>\n",
       "      <td>151.923</td>\n",
       "      <td>4</td>\n",
       "    </tr>\n",
       "  </tbody>\n",
       "</table>\n",
       "<p>158 rows × 17 columns</p>\n",
       "</div>"
      ],
      "text/plain": [
       "           artist                                   name         album  \\\n",
       "1    Taylor Swift                        Picture To Burn  Taylor Swift   \n",
       "2    Taylor Swift                               Our Song  Taylor Swift   \n",
       "3    Taylor Swift                      Should've Said No  Taylor Swift   \n",
       "4    Taylor Swift                             Tim McGraw  Taylor Swift   \n",
       "5    Taylor Swift                  A Place in this World  Taylor Swift   \n",
       "..            ...                                    ...           ...   \n",
       "234  Taylor Swift                               marjorie      evermore   \n",
       "235  Taylor Swift                                closure      evermore   \n",
       "236  Taylor Swift              evermore (feat. Bon Iver)      evermore   \n",
       "237  Taylor Swift  right where you left me - bonus track      evermore   \n",
       "238  Taylor Swift          it’s time to go - bonus track      evermore   \n",
       "\n",
       "    release_date  length  popularity  danceability  acousticness  \\\n",
       "1     2006-10-24  173066          64         0.658        0.1730   \n",
       "2     2006-10-24  201106          68         0.668        0.1110   \n",
       "3     2006-10-24  242200          61         0.476        0.0103   \n",
       "4     2006-10-24  232106          62         0.580        0.5750   \n",
       "5     2006-10-24  199200          51         0.576        0.0510   \n",
       "..           ...     ...         ...           ...           ...   \n",
       "234   2021-01-07  257773          62         0.535        0.8760   \n",
       "235   2021-01-07  180653          61         0.689        0.8350   \n",
       "236   2021-01-07  304106          63         0.390        0.9370   \n",
       "237   2021-01-07  245026          70         0.581        0.7690   \n",
       "238   2021-01-07  254640          67         0.592        0.8010   \n",
       "\n",
       "     danceability.1  energy  instrumentalness  liveness  loudness  \\\n",
       "1             0.658   0.877          0.000000    0.0962    -2.098   \n",
       "2             0.668   0.672          0.000000    0.3290    -4.931   \n",
       "3             0.476   0.777          0.000000    0.1960    -3.771   \n",
       "4             0.580   0.491          0.000000    0.1210    -6.462   \n",
       "5             0.576   0.777          0.000000    0.3200    -2.881   \n",
       "..              ...     ...               ...       ...       ...   \n",
       "234           0.535   0.561          0.000136    0.1150   -11.609   \n",
       "235           0.689   0.704          0.000005    0.1340   -10.813   \n",
       "236           0.390   0.270          0.002270    0.1110   -10.673   \n",
       "237           0.581   0.619          0.000106    0.1170    -6.524   \n",
       "238           0.592   0.410          0.000014    0.0900   -12.426   \n",
       "\n",
       "     speechiness  valence    tempo  time_signature  \n",
       "1         0.0323    0.821  105.586               4  \n",
       "2         0.0303    0.539   89.011               4  \n",
       "3         0.0289    0.472  167.964               4  \n",
       "4         0.0251    0.425   76.009               4  \n",
       "5         0.0324    0.428  115.028               4  \n",
       "..           ...      ...      ...             ...  \n",
       "234       0.0484    0.287   96.103               4  \n",
       "235       0.2450    0.920  151.884               5  \n",
       "236       0.0308    0.320  125.177               5  \n",
       "237       0.0282    0.645  137.915               4  \n",
       "238       0.0397    0.416  151.923               4  \n",
       "\n",
       "[158 rows x 17 columns]"
      ]
     },
     "execution_count": 5,
     "metadata": {},
     "output_type": "execute_result"
    }
   ],
   "source": [
    "# strip the suffixes from the album names\n",
    "df['album'][df['album']==\"Fearless Platinum Edition\"] = 'Fearless'\n",
    "df['album'][df['album']==\"Red (Deluxe Edition)\"] = 'Red'\n",
    "df['album'][df['album']==\"Speak Now (Deluxe Edition)\"] = 'Speak Now'\n",
    "df['album'][df['album']==\"evermore (deluxe version)\"] = 'evermore'\n",
    "df['album'][df['album']==\"1989 (Deluxe Edition)\"] = '1989'\n",
    "\n",
    "df"
   ]
  },
  {
   "cell_type": "code",
   "execution_count": 6,
   "id": "64a7da4f",
   "metadata": {},
   "outputs": [],
   "source": [
    "# make lists of colors to use for the color_disgrete_sequence argument\n",
    "color_purd = list(PuRd[9])\n",
    "color_prgn = list(PRGn[9])\n",
    "color_piyg = list(PiYG[9])\n",
    "color_bupu = list(BuPu[9])"
   ]
  },
  {
   "cell_type": "code",
   "execution_count": 7,
   "id": "5968b4cc",
   "metadata": {},
   "outputs": [
    {
     "data": {
      "application/vnd.plotly.v1+json": {
       "config": {
        "plotlyServerURL": "https://plot.ly"
       },
       "data": [
        {
         "alignmentgroup": "True",
         "hovertemplate": "album=%{x}<br>Songs=%{y}<extra></extra>",
         "legendgroup": "Red",
         "marker": {
          "color": "#67001f",
          "pattern": {
           "shape": ""
          }
         },
         "name": "Red",
         "offsetgroup": "Red",
         "orientation": "v",
         "showlegend": true,
         "textposition": "auto",
         "type": "bar",
         "x": [
          "Red"
         ],
         "xaxis": "x",
         "y": [
          22
         ],
         "yaxis": "y"
        },
        {
         "alignmentgroup": "True",
         "hovertemplate": "album=%{x}<br>Songs=%{y}<extra></extra>",
         "legendgroup": "Speak Now",
         "marker": {
          "color": "#980043",
          "pattern": {
           "shape": ""
          }
         },
         "name": "Speak Now",
         "offsetgroup": "Speak Now",
         "orientation": "v",
         "showlegend": true,
         "textposition": "auto",
         "type": "bar",
         "x": [
          "Speak Now"
         ],
         "xaxis": "x",
         "y": [
          20
         ],
         "yaxis": "y"
        },
        {
         "alignmentgroup": "True",
         "hovertemplate": "album=%{x}<br>Songs=%{y}<extra></extra>",
         "legendgroup": "Lover",
         "marker": {
          "color": "#ce1256",
          "pattern": {
           "shape": ""
          }
         },
         "name": "Lover",
         "offsetgroup": "Lover",
         "orientation": "v",
         "showlegend": true,
         "textposition": "auto",
         "type": "bar",
         "x": [
          "Lover"
         ],
         "xaxis": "x",
         "y": [
          19
         ],
         "yaxis": "y"
        },
        {
         "alignmentgroup": "True",
         "hovertemplate": "album=%{x}<br>Songs=%{y}<extra></extra>",
         "legendgroup": "Fearless",
         "marker": {
          "color": "#e7298a",
          "pattern": {
           "shape": ""
          }
         },
         "name": "Fearless",
         "offsetgroup": "Fearless",
         "orientation": "v",
         "showlegend": true,
         "textposition": "auto",
         "type": "bar",
         "x": [
          "Fearless"
         ],
         "xaxis": "x",
         "y": [
          18
         ],
         "yaxis": "y"
        },
        {
         "alignmentgroup": "True",
         "hovertemplate": "album=%{x}<br>Songs=%{y}<extra></extra>",
         "legendgroup": "evermore",
         "marker": {
          "color": "#df65b0",
          "pattern": {
           "shape": ""
          }
         },
         "name": "evermore",
         "offsetgroup": "evermore",
         "orientation": "v",
         "showlegend": true,
         "textposition": "auto",
         "type": "bar",
         "x": [
          "evermore"
         ],
         "xaxis": "x",
         "y": [
          17
         ],
         "yaxis": "y"
        },
        {
         "alignmentgroup": "True",
         "hovertemplate": "album=%{x}<br>Songs=%{y}<extra></extra>",
         "legendgroup": "1989",
         "marker": {
          "color": "#c994c7",
          "pattern": {
           "shape": ""
          }
         },
         "name": "1989",
         "offsetgroup": "1989",
         "orientation": "v",
         "showlegend": true,
         "textposition": "auto",
         "type": "bar",
         "x": [
          "1989"
         ],
         "xaxis": "x",
         "y": [
          16
         ],
         "yaxis": "y"
        },
        {
         "alignmentgroup": "True",
         "hovertemplate": "album=%{x}<br>Songs=%{y}<extra></extra>",
         "legendgroup": "folklore",
         "marker": {
          "color": "#d4b9da",
          "pattern": {
           "shape": ""
          }
         },
         "name": "folklore",
         "offsetgroup": "folklore",
         "orientation": "v",
         "showlegend": true,
         "textposition": "auto",
         "type": "bar",
         "x": [
          "folklore"
         ],
         "xaxis": "x",
         "y": [
          16
         ],
         "yaxis": "y"
        },
        {
         "alignmentgroup": "True",
         "hovertemplate": "album=%{x}<br>Songs=%{y}<extra></extra>",
         "legendgroup": "Taylor Swift",
         "marker": {
          "color": "#e7e1ef",
          "pattern": {
           "shape": ""
          }
         },
         "name": "Taylor Swift",
         "offsetgroup": "Taylor Swift",
         "orientation": "v",
         "showlegend": true,
         "textposition": "auto",
         "type": "bar",
         "x": [
          "Taylor Swift"
         ],
         "xaxis": "x",
         "y": [
          15
         ],
         "yaxis": "y"
        },
        {
         "alignmentgroup": "True",
         "hovertemplate": "album=%{x}<br>Songs=%{y}<extra></extra>",
         "legendgroup": "reputation",
         "marker": {
          "color": "#f7f4f9",
          "pattern": {
           "shape": ""
          }
         },
         "name": "reputation",
         "offsetgroup": "reputation",
         "orientation": "v",
         "showlegend": true,
         "textposition": "auto",
         "type": "bar",
         "x": [
          "reputation"
         ],
         "xaxis": "x",
         "y": [
          15
         ],
         "yaxis": "y"
        }
       ],
       "layout": {
        "barmode": "relative",
        "legend": {
         "title": {
          "text": "album"
         },
         "tracegroupgap": 0
        },
        "template": {
         "data": {
          "bar": [
           {
            "error_x": {
             "color": "#f2f5fa"
            },
            "error_y": {
             "color": "#f2f5fa"
            },
            "marker": {
             "line": {
              "color": "rgb(17,17,17)",
              "width": 0.5
             },
             "pattern": {
              "fillmode": "overlay",
              "size": 10,
              "solidity": 0.2
             }
            },
            "type": "bar"
           }
          ],
          "barpolar": [
           {
            "marker": {
             "line": {
              "color": "rgb(17,17,17)",
              "width": 0.5
             },
             "pattern": {
              "fillmode": "overlay",
              "size": 10,
              "solidity": 0.2
             }
            },
            "type": "barpolar"
           }
          ],
          "carpet": [
           {
            "aaxis": {
             "endlinecolor": "#A2B1C6",
             "gridcolor": "#506784",
             "linecolor": "#506784",
             "minorgridcolor": "#506784",
             "startlinecolor": "#A2B1C6"
            },
            "baxis": {
             "endlinecolor": "#A2B1C6",
             "gridcolor": "#506784",
             "linecolor": "#506784",
             "minorgridcolor": "#506784",
             "startlinecolor": "#A2B1C6"
            },
            "type": "carpet"
           }
          ],
          "choropleth": [
           {
            "colorbar": {
             "outlinewidth": 0,
             "ticks": ""
            },
            "type": "choropleth"
           }
          ],
          "contour": [
           {
            "colorbar": {
             "outlinewidth": 0,
             "ticks": ""
            },
            "colorscale": [
             [
              0,
              "#0d0887"
             ],
             [
              0.1111111111111111,
              "#46039f"
             ],
             [
              0.2222222222222222,
              "#7201a8"
             ],
             [
              0.3333333333333333,
              "#9c179e"
             ],
             [
              0.4444444444444444,
              "#bd3786"
             ],
             [
              0.5555555555555556,
              "#d8576b"
             ],
             [
              0.6666666666666666,
              "#ed7953"
             ],
             [
              0.7777777777777778,
              "#fb9f3a"
             ],
             [
              0.8888888888888888,
              "#fdca26"
             ],
             [
              1,
              "#f0f921"
             ]
            ],
            "type": "contour"
           }
          ],
          "contourcarpet": [
           {
            "colorbar": {
             "outlinewidth": 0,
             "ticks": ""
            },
            "type": "contourcarpet"
           }
          ],
          "heatmap": [
           {
            "colorbar": {
             "outlinewidth": 0,
             "ticks": ""
            },
            "colorscale": [
             [
              0,
              "#0d0887"
             ],
             [
              0.1111111111111111,
              "#46039f"
             ],
             [
              0.2222222222222222,
              "#7201a8"
             ],
             [
              0.3333333333333333,
              "#9c179e"
             ],
             [
              0.4444444444444444,
              "#bd3786"
             ],
             [
              0.5555555555555556,
              "#d8576b"
             ],
             [
              0.6666666666666666,
              "#ed7953"
             ],
             [
              0.7777777777777778,
              "#fb9f3a"
             ],
             [
              0.8888888888888888,
              "#fdca26"
             ],
             [
              1,
              "#f0f921"
             ]
            ],
            "type": "heatmap"
           }
          ],
          "heatmapgl": [
           {
            "colorbar": {
             "outlinewidth": 0,
             "ticks": ""
            },
            "colorscale": [
             [
              0,
              "#0d0887"
             ],
             [
              0.1111111111111111,
              "#46039f"
             ],
             [
              0.2222222222222222,
              "#7201a8"
             ],
             [
              0.3333333333333333,
              "#9c179e"
             ],
             [
              0.4444444444444444,
              "#bd3786"
             ],
             [
              0.5555555555555556,
              "#d8576b"
             ],
             [
              0.6666666666666666,
              "#ed7953"
             ],
             [
              0.7777777777777778,
              "#fb9f3a"
             ],
             [
              0.8888888888888888,
              "#fdca26"
             ],
             [
              1,
              "#f0f921"
             ]
            ],
            "type": "heatmapgl"
           }
          ],
          "histogram": [
           {
            "marker": {
             "pattern": {
              "fillmode": "overlay",
              "size": 10,
              "solidity": 0.2
             }
            },
            "type": "histogram"
           }
          ],
          "histogram2d": [
           {
            "colorbar": {
             "outlinewidth": 0,
             "ticks": ""
            },
            "colorscale": [
             [
              0,
              "#0d0887"
             ],
             [
              0.1111111111111111,
              "#46039f"
             ],
             [
              0.2222222222222222,
              "#7201a8"
             ],
             [
              0.3333333333333333,
              "#9c179e"
             ],
             [
              0.4444444444444444,
              "#bd3786"
             ],
             [
              0.5555555555555556,
              "#d8576b"
             ],
             [
              0.6666666666666666,
              "#ed7953"
             ],
             [
              0.7777777777777778,
              "#fb9f3a"
             ],
             [
              0.8888888888888888,
              "#fdca26"
             ],
             [
              1,
              "#f0f921"
             ]
            ],
            "type": "histogram2d"
           }
          ],
          "histogram2dcontour": [
           {
            "colorbar": {
             "outlinewidth": 0,
             "ticks": ""
            },
            "colorscale": [
             [
              0,
              "#0d0887"
             ],
             [
              0.1111111111111111,
              "#46039f"
             ],
             [
              0.2222222222222222,
              "#7201a8"
             ],
             [
              0.3333333333333333,
              "#9c179e"
             ],
             [
              0.4444444444444444,
              "#bd3786"
             ],
             [
              0.5555555555555556,
              "#d8576b"
             ],
             [
              0.6666666666666666,
              "#ed7953"
             ],
             [
              0.7777777777777778,
              "#fb9f3a"
             ],
             [
              0.8888888888888888,
              "#fdca26"
             ],
             [
              1,
              "#f0f921"
             ]
            ],
            "type": "histogram2dcontour"
           }
          ],
          "mesh3d": [
           {
            "colorbar": {
             "outlinewidth": 0,
             "ticks": ""
            },
            "type": "mesh3d"
           }
          ],
          "parcoords": [
           {
            "line": {
             "colorbar": {
              "outlinewidth": 0,
              "ticks": ""
             }
            },
            "type": "parcoords"
           }
          ],
          "pie": [
           {
            "automargin": true,
            "type": "pie"
           }
          ],
          "scatter": [
           {
            "marker": {
             "line": {
              "color": "#283442"
             }
            },
            "type": "scatter"
           }
          ],
          "scatter3d": [
           {
            "line": {
             "colorbar": {
              "outlinewidth": 0,
              "ticks": ""
             }
            },
            "marker": {
             "colorbar": {
              "outlinewidth": 0,
              "ticks": ""
             }
            },
            "type": "scatter3d"
           }
          ],
          "scattercarpet": [
           {
            "marker": {
             "colorbar": {
              "outlinewidth": 0,
              "ticks": ""
             }
            },
            "type": "scattercarpet"
           }
          ],
          "scattergeo": [
           {
            "marker": {
             "colorbar": {
              "outlinewidth": 0,
              "ticks": ""
             }
            },
            "type": "scattergeo"
           }
          ],
          "scattergl": [
           {
            "marker": {
             "line": {
              "color": "#283442"
             }
            },
            "type": "scattergl"
           }
          ],
          "scattermapbox": [
           {
            "marker": {
             "colorbar": {
              "outlinewidth": 0,
              "ticks": ""
             }
            },
            "type": "scattermapbox"
           }
          ],
          "scatterpolar": [
           {
            "marker": {
             "colorbar": {
              "outlinewidth": 0,
              "ticks": ""
             }
            },
            "type": "scatterpolar"
           }
          ],
          "scatterpolargl": [
           {
            "marker": {
             "colorbar": {
              "outlinewidth": 0,
              "ticks": ""
             }
            },
            "type": "scatterpolargl"
           }
          ],
          "scatterternary": [
           {
            "marker": {
             "colorbar": {
              "outlinewidth": 0,
              "ticks": ""
             }
            },
            "type": "scatterternary"
           }
          ],
          "surface": [
           {
            "colorbar": {
             "outlinewidth": 0,
             "ticks": ""
            },
            "colorscale": [
             [
              0,
              "#0d0887"
             ],
             [
              0.1111111111111111,
              "#46039f"
             ],
             [
              0.2222222222222222,
              "#7201a8"
             ],
             [
              0.3333333333333333,
              "#9c179e"
             ],
             [
              0.4444444444444444,
              "#bd3786"
             ],
             [
              0.5555555555555556,
              "#d8576b"
             ],
             [
              0.6666666666666666,
              "#ed7953"
             ],
             [
              0.7777777777777778,
              "#fb9f3a"
             ],
             [
              0.8888888888888888,
              "#fdca26"
             ],
             [
              1,
              "#f0f921"
             ]
            ],
            "type": "surface"
           }
          ],
          "table": [
           {
            "cells": {
             "fill": {
              "color": "#506784"
             },
             "line": {
              "color": "rgb(17,17,17)"
             }
            },
            "header": {
             "fill": {
              "color": "#2a3f5f"
             },
             "line": {
              "color": "rgb(17,17,17)"
             }
            },
            "type": "table"
           }
          ]
         },
         "layout": {
          "annotationdefaults": {
           "arrowcolor": "#f2f5fa",
           "arrowhead": 0,
           "arrowwidth": 1
          },
          "autotypenumbers": "strict",
          "coloraxis": {
           "colorbar": {
            "outlinewidth": 0,
            "ticks": ""
           }
          },
          "colorscale": {
           "diverging": [
            [
             0,
             "#8e0152"
            ],
            [
             0.1,
             "#c51b7d"
            ],
            [
             0.2,
             "#de77ae"
            ],
            [
             0.3,
             "#f1b6da"
            ],
            [
             0.4,
             "#fde0ef"
            ],
            [
             0.5,
             "#f7f7f7"
            ],
            [
             0.6,
             "#e6f5d0"
            ],
            [
             0.7,
             "#b8e186"
            ],
            [
             0.8,
             "#7fbc41"
            ],
            [
             0.9,
             "#4d9221"
            ],
            [
             1,
             "#276419"
            ]
           ],
           "sequential": [
            [
             0,
             "#0d0887"
            ],
            [
             0.1111111111111111,
             "#46039f"
            ],
            [
             0.2222222222222222,
             "#7201a8"
            ],
            [
             0.3333333333333333,
             "#9c179e"
            ],
            [
             0.4444444444444444,
             "#bd3786"
            ],
            [
             0.5555555555555556,
             "#d8576b"
            ],
            [
             0.6666666666666666,
             "#ed7953"
            ],
            [
             0.7777777777777778,
             "#fb9f3a"
            ],
            [
             0.8888888888888888,
             "#fdca26"
            ],
            [
             1,
             "#f0f921"
            ]
           ],
           "sequentialminus": [
            [
             0,
             "#0d0887"
            ],
            [
             0.1111111111111111,
             "#46039f"
            ],
            [
             0.2222222222222222,
             "#7201a8"
            ],
            [
             0.3333333333333333,
             "#9c179e"
            ],
            [
             0.4444444444444444,
             "#bd3786"
            ],
            [
             0.5555555555555556,
             "#d8576b"
            ],
            [
             0.6666666666666666,
             "#ed7953"
            ],
            [
             0.7777777777777778,
             "#fb9f3a"
            ],
            [
             0.8888888888888888,
             "#fdca26"
            ],
            [
             1,
             "#f0f921"
            ]
           ]
          },
          "colorway": [
           "#636efa",
           "#EF553B",
           "#00cc96",
           "#ab63fa",
           "#FFA15A",
           "#19d3f3",
           "#FF6692",
           "#B6E880",
           "#FF97FF",
           "#FECB52"
          ],
          "font": {
           "color": "#f2f5fa"
          },
          "geo": {
           "bgcolor": "rgb(17,17,17)",
           "lakecolor": "rgb(17,17,17)",
           "landcolor": "rgb(17,17,17)",
           "showlakes": true,
           "showland": true,
           "subunitcolor": "#506784"
          },
          "hoverlabel": {
           "align": "left"
          },
          "hovermode": "closest",
          "mapbox": {
           "style": "dark"
          },
          "paper_bgcolor": "rgb(17,17,17)",
          "plot_bgcolor": "rgb(17,17,17)",
          "polar": {
           "angularaxis": {
            "gridcolor": "#506784",
            "linecolor": "#506784",
            "ticks": ""
           },
           "bgcolor": "rgb(17,17,17)",
           "radialaxis": {
            "gridcolor": "#506784",
            "linecolor": "#506784",
            "ticks": ""
           }
          },
          "scene": {
           "xaxis": {
            "backgroundcolor": "rgb(17,17,17)",
            "gridcolor": "#506784",
            "gridwidth": 2,
            "linecolor": "#506784",
            "showbackground": true,
            "ticks": "",
            "zerolinecolor": "#C8D4E3"
           },
           "yaxis": {
            "backgroundcolor": "rgb(17,17,17)",
            "gridcolor": "#506784",
            "gridwidth": 2,
            "linecolor": "#506784",
            "showbackground": true,
            "ticks": "",
            "zerolinecolor": "#C8D4E3"
           },
           "zaxis": {
            "backgroundcolor": "rgb(17,17,17)",
            "gridcolor": "#506784",
            "gridwidth": 2,
            "linecolor": "#506784",
            "showbackground": true,
            "ticks": "",
            "zerolinecolor": "#C8D4E3"
           }
          },
          "shapedefaults": {
           "line": {
            "color": "#f2f5fa"
           }
          },
          "sliderdefaults": {
           "bgcolor": "#C8D4E3",
           "bordercolor": "rgb(17,17,17)",
           "borderwidth": 1,
           "tickwidth": 0
          },
          "ternary": {
           "aaxis": {
            "gridcolor": "#506784",
            "linecolor": "#506784",
            "ticks": ""
           },
           "baxis": {
            "gridcolor": "#506784",
            "linecolor": "#506784",
            "ticks": ""
           },
           "bgcolor": "rgb(17,17,17)",
           "caxis": {
            "gridcolor": "#506784",
            "linecolor": "#506784",
            "ticks": ""
           }
          },
          "title": {
           "x": 0.05
          },
          "updatemenudefaults": {
           "bgcolor": "#506784",
           "borderwidth": 0
          },
          "xaxis": {
           "automargin": true,
           "gridcolor": "#283442",
           "linecolor": "#506784",
           "ticks": "",
           "title": {
            "standoff": 15
           },
           "zerolinecolor": "#283442",
           "zerolinewidth": 2
          },
          "yaxis": {
           "automargin": true,
           "gridcolor": "#283442",
           "linecolor": "#506784",
           "ticks": "",
           "title": {
            "standoff": 15
           },
           "zerolinecolor": "#283442",
           "zerolinewidth": 2
          }
         }
        },
        "title": {
         "text": "Number of songs per album"
        },
        "xaxis": {
         "anchor": "y",
         "categoryarray": [
          "Red",
          "Speak Now",
          "Lover",
          "Fearless",
          "evermore",
          "1989",
          "folklore",
          "Taylor Swift",
          "reputation"
         ],
         "categoryorder": "array",
         "domain": [
          0,
          1
         ],
         "title": {
          "text": "album"
         }
        },
        "yaxis": {
         "anchor": "x",
         "domain": [
          0,
          1
         ],
         "title": {
          "text": "Songs"
         }
        }
       }
      }
     },
     "metadata": {},
     "output_type": "display_data"
    }
   ],
   "source": [
    "## show the amount of songs per album\n",
    "# first need to make a df with one row per album containing the number of songs.\n",
    "df_song_count = pd.DataFrame(df.album.value_counts().reset_index())\n",
    "df_song_count.columns = ['album', 'Songs']\n",
    "df_song_count\n",
    "\n",
    "# now plot\n",
    "fig = px.bar(df_song_count, x=\"album\", y=\"Songs\", title=\"Number of songs per album\", color='album', \n",
    "            template='plotly_dark', color_discrete_sequence=color_purd) #, width=600, height=400)\n",
    "# fig.write_html('./images/number_songs_per_album.html')\n",
    "fig.show()\n"
   ]
  },
  {
   "cell_type": "code",
   "execution_count": 8,
   "id": "2bf2bd1b",
   "metadata": {},
   "outputs": [],
   "source": [
    "# # show the amount of songs per album - pandas\n",
    "# ax = df.album.value_counts().plot(kind='bar', color='lavender', edgecolor='indigo', linewidth=3,\n",
    "#                              title=\"Number of songs per album\", xlabel=\"Album\", ylabel=\"Number of songs\",\n",
    "#                              figsize=(10,5),rot=0)\n",
    "# plt.savefig('./images/number_songs_per_album.png')\n",
    "# plt.show()\n"
   ]
  },
  {
   "cell_type": "code",
   "execution_count": 9,
   "id": "7dae01b4",
   "metadata": {},
   "outputs": [
    {
     "name": "stderr",
     "output_type": "stream",
     "text": [
      "/var/folders/z5/w7rdzhpn7xx4g1wy_6cb0stw0000gn/T/ipykernel_66680/683638417.py:2: FutureWarning:\n",
      "\n",
      "The default value of regex will change from True to False in a future version.\n",
      "\n"
     ]
    },
    {
     "data": {
      "text/plain": [
       "1                            Picture To Burn\n",
       "2                                   Our Song\n",
       "3                          Should've Said No\n",
       "4                                 Tim McGraw\n",
       "5                      A Place in this World\n",
       "                       ...                  \n",
       "234                                 marjorie\n",
       "235                                  closure\n",
       "236                evermore (feat. Bon Iver)\n",
       "237    right where you left me - bonus track\n",
       "238            it’s time to go - bonus track\n",
       "Name: name, Length: 158, dtype: object"
      ]
     },
     "execution_count": 9,
     "metadata": {},
     "output_type": "execute_result"
    }
   ],
   "source": [
    "# strip the suffixes from song names\n",
    "df['name'] = df['name'].str.replace(\" \\(Taylor’s Version\\) \\(From The Vault\\)\",\"\") # /(From The Vault/)\", \"\")\n",
    "\n",
    "df.name"
   ]
  },
  {
   "cell_type": "markdown",
   "id": "e7b01582",
   "metadata": {},
   "source": [
    "**We can drop the `artist` and `time_signature` columns since they are not useful to us. We also will drop `danceability.1` since it is a duplicate.**"
   ]
  },
  {
   "cell_type": "code",
   "execution_count": 10,
   "id": "97d5386d",
   "metadata": {},
   "outputs": [
    {
     "data": {
      "text/html": [
       "<div>\n",
       "<style scoped>\n",
       "    .dataframe tbody tr th:only-of-type {\n",
       "        vertical-align: middle;\n",
       "    }\n",
       "\n",
       "    .dataframe tbody tr th {\n",
       "        vertical-align: top;\n",
       "    }\n",
       "\n",
       "    .dataframe thead th {\n",
       "        text-align: right;\n",
       "    }\n",
       "</style>\n",
       "<table border=\"1\" class=\"dataframe\">\n",
       "  <thead>\n",
       "    <tr style=\"text-align: right;\">\n",
       "      <th></th>\n",
       "      <th>name</th>\n",
       "      <th>album</th>\n",
       "      <th>release_date</th>\n",
       "      <th>length</th>\n",
       "      <th>popularity</th>\n",
       "      <th>danceability</th>\n",
       "      <th>acousticness</th>\n",
       "      <th>energy</th>\n",
       "      <th>instrumentalness</th>\n",
       "      <th>liveness</th>\n",
       "      <th>loudness</th>\n",
       "      <th>speechiness</th>\n",
       "      <th>valence</th>\n",
       "      <th>tempo</th>\n",
       "    </tr>\n",
       "  </thead>\n",
       "  <tbody>\n",
       "    <tr>\n",
       "      <th>1</th>\n",
       "      <td>Picture To Burn</td>\n",
       "      <td>Taylor Swift</td>\n",
       "      <td>2006-10-24</td>\n",
       "      <td>173066</td>\n",
       "      <td>64</td>\n",
       "      <td>0.658</td>\n",
       "      <td>0.1730</td>\n",
       "      <td>0.877</td>\n",
       "      <td>0.000000</td>\n",
       "      <td>0.0962</td>\n",
       "      <td>-2.098</td>\n",
       "      <td>0.0323</td>\n",
       "      <td>0.821</td>\n",
       "      <td>105.586</td>\n",
       "    </tr>\n",
       "    <tr>\n",
       "      <th>2</th>\n",
       "      <td>Our Song</td>\n",
       "      <td>Taylor Swift</td>\n",
       "      <td>2006-10-24</td>\n",
       "      <td>201106</td>\n",
       "      <td>68</td>\n",
       "      <td>0.668</td>\n",
       "      <td>0.1110</td>\n",
       "      <td>0.672</td>\n",
       "      <td>0.000000</td>\n",
       "      <td>0.3290</td>\n",
       "      <td>-4.931</td>\n",
       "      <td>0.0303</td>\n",
       "      <td>0.539</td>\n",
       "      <td>89.011</td>\n",
       "    </tr>\n",
       "    <tr>\n",
       "      <th>3</th>\n",
       "      <td>Should've Said No</td>\n",
       "      <td>Taylor Swift</td>\n",
       "      <td>2006-10-24</td>\n",
       "      <td>242200</td>\n",
       "      <td>61</td>\n",
       "      <td>0.476</td>\n",
       "      <td>0.0103</td>\n",
       "      <td>0.777</td>\n",
       "      <td>0.000000</td>\n",
       "      <td>0.1960</td>\n",
       "      <td>-3.771</td>\n",
       "      <td>0.0289</td>\n",
       "      <td>0.472</td>\n",
       "      <td>167.964</td>\n",
       "    </tr>\n",
       "    <tr>\n",
       "      <th>4</th>\n",
       "      <td>Tim McGraw</td>\n",
       "      <td>Taylor Swift</td>\n",
       "      <td>2006-10-24</td>\n",
       "      <td>232106</td>\n",
       "      <td>62</td>\n",
       "      <td>0.580</td>\n",
       "      <td>0.5750</td>\n",
       "      <td>0.491</td>\n",
       "      <td>0.000000</td>\n",
       "      <td>0.1210</td>\n",
       "      <td>-6.462</td>\n",
       "      <td>0.0251</td>\n",
       "      <td>0.425</td>\n",
       "      <td>76.009</td>\n",
       "    </tr>\n",
       "    <tr>\n",
       "      <th>5</th>\n",
       "      <td>A Place in this World</td>\n",
       "      <td>Taylor Swift</td>\n",
       "      <td>2006-10-24</td>\n",
       "      <td>199200</td>\n",
       "      <td>51</td>\n",
       "      <td>0.576</td>\n",
       "      <td>0.0510</td>\n",
       "      <td>0.777</td>\n",
       "      <td>0.000000</td>\n",
       "      <td>0.3200</td>\n",
       "      <td>-2.881</td>\n",
       "      <td>0.0324</td>\n",
       "      <td>0.428</td>\n",
       "      <td>115.028</td>\n",
       "    </tr>\n",
       "    <tr>\n",
       "      <th>...</th>\n",
       "      <td>...</td>\n",
       "      <td>...</td>\n",
       "      <td>...</td>\n",
       "      <td>...</td>\n",
       "      <td>...</td>\n",
       "      <td>...</td>\n",
       "      <td>...</td>\n",
       "      <td>...</td>\n",
       "      <td>...</td>\n",
       "      <td>...</td>\n",
       "      <td>...</td>\n",
       "      <td>...</td>\n",
       "      <td>...</td>\n",
       "      <td>...</td>\n",
       "    </tr>\n",
       "    <tr>\n",
       "      <th>234</th>\n",
       "      <td>marjorie</td>\n",
       "      <td>evermore</td>\n",
       "      <td>2021-01-07</td>\n",
       "      <td>257773</td>\n",
       "      <td>62</td>\n",
       "      <td>0.535</td>\n",
       "      <td>0.8760</td>\n",
       "      <td>0.561</td>\n",
       "      <td>0.000136</td>\n",
       "      <td>0.1150</td>\n",
       "      <td>-11.609</td>\n",
       "      <td>0.0484</td>\n",
       "      <td>0.287</td>\n",
       "      <td>96.103</td>\n",
       "    </tr>\n",
       "    <tr>\n",
       "      <th>235</th>\n",
       "      <td>closure</td>\n",
       "      <td>evermore</td>\n",
       "      <td>2021-01-07</td>\n",
       "      <td>180653</td>\n",
       "      <td>61</td>\n",
       "      <td>0.689</td>\n",
       "      <td>0.8350</td>\n",
       "      <td>0.704</td>\n",
       "      <td>0.000005</td>\n",
       "      <td>0.1340</td>\n",
       "      <td>-10.813</td>\n",
       "      <td>0.2450</td>\n",
       "      <td>0.920</td>\n",
       "      <td>151.884</td>\n",
       "    </tr>\n",
       "    <tr>\n",
       "      <th>236</th>\n",
       "      <td>evermore (feat. Bon Iver)</td>\n",
       "      <td>evermore</td>\n",
       "      <td>2021-01-07</td>\n",
       "      <td>304106</td>\n",
       "      <td>63</td>\n",
       "      <td>0.390</td>\n",
       "      <td>0.9370</td>\n",
       "      <td>0.270</td>\n",
       "      <td>0.002270</td>\n",
       "      <td>0.1110</td>\n",
       "      <td>-10.673</td>\n",
       "      <td>0.0308</td>\n",
       "      <td>0.320</td>\n",
       "      <td>125.177</td>\n",
       "    </tr>\n",
       "    <tr>\n",
       "      <th>237</th>\n",
       "      <td>right where you left me - bonus track</td>\n",
       "      <td>evermore</td>\n",
       "      <td>2021-01-07</td>\n",
       "      <td>245026</td>\n",
       "      <td>70</td>\n",
       "      <td>0.581</td>\n",
       "      <td>0.7690</td>\n",
       "      <td>0.619</td>\n",
       "      <td>0.000106</td>\n",
       "      <td>0.1170</td>\n",
       "      <td>-6.524</td>\n",
       "      <td>0.0282</td>\n",
       "      <td>0.645</td>\n",
       "      <td>137.915</td>\n",
       "    </tr>\n",
       "    <tr>\n",
       "      <th>238</th>\n",
       "      <td>it’s time to go - bonus track</td>\n",
       "      <td>evermore</td>\n",
       "      <td>2021-01-07</td>\n",
       "      <td>254640</td>\n",
       "      <td>67</td>\n",
       "      <td>0.592</td>\n",
       "      <td>0.8010</td>\n",
       "      <td>0.410</td>\n",
       "      <td>0.000014</td>\n",
       "      <td>0.0900</td>\n",
       "      <td>-12.426</td>\n",
       "      <td>0.0397</td>\n",
       "      <td>0.416</td>\n",
       "      <td>151.923</td>\n",
       "    </tr>\n",
       "  </tbody>\n",
       "</table>\n",
       "<p>158 rows × 14 columns</p>\n",
       "</div>"
      ],
      "text/plain": [
       "                                      name         album release_date  length  \\\n",
       "1                          Picture To Burn  Taylor Swift   2006-10-24  173066   \n",
       "2                                 Our Song  Taylor Swift   2006-10-24  201106   \n",
       "3                        Should've Said No  Taylor Swift   2006-10-24  242200   \n",
       "4                               Tim McGraw  Taylor Swift   2006-10-24  232106   \n",
       "5                    A Place in this World  Taylor Swift   2006-10-24  199200   \n",
       "..                                     ...           ...          ...     ...   \n",
       "234                               marjorie      evermore   2021-01-07  257773   \n",
       "235                                closure      evermore   2021-01-07  180653   \n",
       "236              evermore (feat. Bon Iver)      evermore   2021-01-07  304106   \n",
       "237  right where you left me - bonus track      evermore   2021-01-07  245026   \n",
       "238          it’s time to go - bonus track      evermore   2021-01-07  254640   \n",
       "\n",
       "     popularity  danceability  acousticness  energy  instrumentalness  \\\n",
       "1            64         0.658        0.1730   0.877          0.000000   \n",
       "2            68         0.668        0.1110   0.672          0.000000   \n",
       "3            61         0.476        0.0103   0.777          0.000000   \n",
       "4            62         0.580        0.5750   0.491          0.000000   \n",
       "5            51         0.576        0.0510   0.777          0.000000   \n",
       "..          ...           ...           ...     ...               ...   \n",
       "234          62         0.535        0.8760   0.561          0.000136   \n",
       "235          61         0.689        0.8350   0.704          0.000005   \n",
       "236          63         0.390        0.9370   0.270          0.002270   \n",
       "237          70         0.581        0.7690   0.619          0.000106   \n",
       "238          67         0.592        0.8010   0.410          0.000014   \n",
       "\n",
       "     liveness  loudness  speechiness  valence    tempo  \n",
       "1      0.0962    -2.098       0.0323    0.821  105.586  \n",
       "2      0.3290    -4.931       0.0303    0.539   89.011  \n",
       "3      0.1960    -3.771       0.0289    0.472  167.964  \n",
       "4      0.1210    -6.462       0.0251    0.425   76.009  \n",
       "5      0.3200    -2.881       0.0324    0.428  115.028  \n",
       "..        ...       ...          ...      ...      ...  \n",
       "234    0.1150   -11.609       0.0484    0.287   96.103  \n",
       "235    0.1340   -10.813       0.2450    0.920  151.884  \n",
       "236    0.1110   -10.673       0.0308    0.320  125.177  \n",
       "237    0.1170    -6.524       0.0282    0.645  137.915  \n",
       "238    0.0900   -12.426       0.0397    0.416  151.923  \n",
       "\n",
       "[158 rows x 14 columns]"
      ]
     },
     "execution_count": 10,
     "metadata": {},
     "output_type": "execute_result"
    }
   ],
   "source": [
    "# drop the 2 unneeded columns\n",
    "df = df.drop(['artist', 'time_signature', 'danceability.1'], axis=1)\n",
    "df"
   ]
  },
  {
   "cell_type": "code",
   "execution_count": 11,
   "id": "3cc65607",
   "metadata": {},
   "outputs": [
    {
     "data": {
      "text/plain": [
       "name                 object\n",
       "album                object\n",
       "release_date         object\n",
       "length                int64\n",
       "popularity            int64\n",
       "danceability        float64\n",
       "acousticness        float64\n",
       "energy              float64\n",
       "instrumentalness    float64\n",
       "liveness            float64\n",
       "loudness            float64\n",
       "speechiness         float64\n",
       "valence             float64\n",
       "tempo               float64\n",
       "dtype: object"
      ]
     },
     "execution_count": 11,
     "metadata": {},
     "output_type": "execute_result"
    }
   ],
   "source": [
    "df.dtypes"
   ]
  },
  {
   "cell_type": "markdown",
   "id": "38f92e2d",
   "metadata": {},
   "source": [
    "**Clean the release_date column to be a date, and update length to be in seconds rather than milliseconds then round to the nearest second value.**"
   ]
  },
  {
   "cell_type": "code",
   "execution_count": 12,
   "id": "98906b56",
   "metadata": {},
   "outputs": [
    {
     "data": {
      "text/html": [
       "<div>\n",
       "<style scoped>\n",
       "    .dataframe tbody tr th:only-of-type {\n",
       "        vertical-align: middle;\n",
       "    }\n",
       "\n",
       "    .dataframe tbody tr th {\n",
       "        vertical-align: top;\n",
       "    }\n",
       "\n",
       "    .dataframe thead th {\n",
       "        text-align: right;\n",
       "    }\n",
       "</style>\n",
       "<table border=\"1\" class=\"dataframe\">\n",
       "  <thead>\n",
       "    <tr style=\"text-align: right;\">\n",
       "      <th></th>\n",
       "      <th>name</th>\n",
       "      <th>album</th>\n",
       "      <th>release_date</th>\n",
       "      <th>length</th>\n",
       "      <th>popularity</th>\n",
       "      <th>danceability</th>\n",
       "      <th>acousticness</th>\n",
       "      <th>energy</th>\n",
       "      <th>instrumentalness</th>\n",
       "      <th>liveness</th>\n",
       "      <th>loudness</th>\n",
       "      <th>speechiness</th>\n",
       "      <th>valence</th>\n",
       "      <th>tempo</th>\n",
       "    </tr>\n",
       "  </thead>\n",
       "  <tbody>\n",
       "    <tr>\n",
       "      <th>1</th>\n",
       "      <td>Picture To Burn</td>\n",
       "      <td>Taylor Swift</td>\n",
       "      <td>2006-10-24</td>\n",
       "      <td>173</td>\n",
       "      <td>64</td>\n",
       "      <td>0.658</td>\n",
       "      <td>0.1730</td>\n",
       "      <td>0.877</td>\n",
       "      <td>0.000000</td>\n",
       "      <td>0.0962</td>\n",
       "      <td>-2.098</td>\n",
       "      <td>0.0323</td>\n",
       "      <td>0.821</td>\n",
       "      <td>105.586</td>\n",
       "    </tr>\n",
       "    <tr>\n",
       "      <th>2</th>\n",
       "      <td>Our Song</td>\n",
       "      <td>Taylor Swift</td>\n",
       "      <td>2006-10-24</td>\n",
       "      <td>201</td>\n",
       "      <td>68</td>\n",
       "      <td>0.668</td>\n",
       "      <td>0.1110</td>\n",
       "      <td>0.672</td>\n",
       "      <td>0.000000</td>\n",
       "      <td>0.3290</td>\n",
       "      <td>-4.931</td>\n",
       "      <td>0.0303</td>\n",
       "      <td>0.539</td>\n",
       "      <td>89.011</td>\n",
       "    </tr>\n",
       "    <tr>\n",
       "      <th>3</th>\n",
       "      <td>Should've Said No</td>\n",
       "      <td>Taylor Swift</td>\n",
       "      <td>2006-10-24</td>\n",
       "      <td>242</td>\n",
       "      <td>61</td>\n",
       "      <td>0.476</td>\n",
       "      <td>0.0103</td>\n",
       "      <td>0.777</td>\n",
       "      <td>0.000000</td>\n",
       "      <td>0.1960</td>\n",
       "      <td>-3.771</td>\n",
       "      <td>0.0289</td>\n",
       "      <td>0.472</td>\n",
       "      <td>167.964</td>\n",
       "    </tr>\n",
       "    <tr>\n",
       "      <th>4</th>\n",
       "      <td>Tim McGraw</td>\n",
       "      <td>Taylor Swift</td>\n",
       "      <td>2006-10-24</td>\n",
       "      <td>232</td>\n",
       "      <td>62</td>\n",
       "      <td>0.580</td>\n",
       "      <td>0.5750</td>\n",
       "      <td>0.491</td>\n",
       "      <td>0.000000</td>\n",
       "      <td>0.1210</td>\n",
       "      <td>-6.462</td>\n",
       "      <td>0.0251</td>\n",
       "      <td>0.425</td>\n",
       "      <td>76.009</td>\n",
       "    </tr>\n",
       "    <tr>\n",
       "      <th>5</th>\n",
       "      <td>A Place in this World</td>\n",
       "      <td>Taylor Swift</td>\n",
       "      <td>2006-10-24</td>\n",
       "      <td>199</td>\n",
       "      <td>51</td>\n",
       "      <td>0.576</td>\n",
       "      <td>0.0510</td>\n",
       "      <td>0.777</td>\n",
       "      <td>0.000000</td>\n",
       "      <td>0.3200</td>\n",
       "      <td>-2.881</td>\n",
       "      <td>0.0324</td>\n",
       "      <td>0.428</td>\n",
       "      <td>115.028</td>\n",
       "    </tr>\n",
       "    <tr>\n",
       "      <th>...</th>\n",
       "      <td>...</td>\n",
       "      <td>...</td>\n",
       "      <td>...</td>\n",
       "      <td>...</td>\n",
       "      <td>...</td>\n",
       "      <td>...</td>\n",
       "      <td>...</td>\n",
       "      <td>...</td>\n",
       "      <td>...</td>\n",
       "      <td>...</td>\n",
       "      <td>...</td>\n",
       "      <td>...</td>\n",
       "      <td>...</td>\n",
       "      <td>...</td>\n",
       "    </tr>\n",
       "    <tr>\n",
       "      <th>234</th>\n",
       "      <td>marjorie</td>\n",
       "      <td>evermore</td>\n",
       "      <td>2021-01-07</td>\n",
       "      <td>258</td>\n",
       "      <td>62</td>\n",
       "      <td>0.535</td>\n",
       "      <td>0.8760</td>\n",
       "      <td>0.561</td>\n",
       "      <td>0.000136</td>\n",
       "      <td>0.1150</td>\n",
       "      <td>-11.609</td>\n",
       "      <td>0.0484</td>\n",
       "      <td>0.287</td>\n",
       "      <td>96.103</td>\n",
       "    </tr>\n",
       "    <tr>\n",
       "      <th>235</th>\n",
       "      <td>closure</td>\n",
       "      <td>evermore</td>\n",
       "      <td>2021-01-07</td>\n",
       "      <td>181</td>\n",
       "      <td>61</td>\n",
       "      <td>0.689</td>\n",
       "      <td>0.8350</td>\n",
       "      <td>0.704</td>\n",
       "      <td>0.000005</td>\n",
       "      <td>0.1340</td>\n",
       "      <td>-10.813</td>\n",
       "      <td>0.2450</td>\n",
       "      <td>0.920</td>\n",
       "      <td>151.884</td>\n",
       "    </tr>\n",
       "    <tr>\n",
       "      <th>236</th>\n",
       "      <td>evermore (feat. Bon Iver)</td>\n",
       "      <td>evermore</td>\n",
       "      <td>2021-01-07</td>\n",
       "      <td>304</td>\n",
       "      <td>63</td>\n",
       "      <td>0.390</td>\n",
       "      <td>0.9370</td>\n",
       "      <td>0.270</td>\n",
       "      <td>0.002270</td>\n",
       "      <td>0.1110</td>\n",
       "      <td>-10.673</td>\n",
       "      <td>0.0308</td>\n",
       "      <td>0.320</td>\n",
       "      <td>125.177</td>\n",
       "    </tr>\n",
       "    <tr>\n",
       "      <th>237</th>\n",
       "      <td>right where you left me - bonus track</td>\n",
       "      <td>evermore</td>\n",
       "      <td>2021-01-07</td>\n",
       "      <td>245</td>\n",
       "      <td>70</td>\n",
       "      <td>0.581</td>\n",
       "      <td>0.7690</td>\n",
       "      <td>0.619</td>\n",
       "      <td>0.000106</td>\n",
       "      <td>0.1170</td>\n",
       "      <td>-6.524</td>\n",
       "      <td>0.0282</td>\n",
       "      <td>0.645</td>\n",
       "      <td>137.915</td>\n",
       "    </tr>\n",
       "    <tr>\n",
       "      <th>238</th>\n",
       "      <td>it’s time to go - bonus track</td>\n",
       "      <td>evermore</td>\n",
       "      <td>2021-01-07</td>\n",
       "      <td>255</td>\n",
       "      <td>67</td>\n",
       "      <td>0.592</td>\n",
       "      <td>0.8010</td>\n",
       "      <td>0.410</td>\n",
       "      <td>0.000014</td>\n",
       "      <td>0.0900</td>\n",
       "      <td>-12.426</td>\n",
       "      <td>0.0397</td>\n",
       "      <td>0.416</td>\n",
       "      <td>151.923</td>\n",
       "    </tr>\n",
       "  </tbody>\n",
       "</table>\n",
       "<p>158 rows × 14 columns</p>\n",
       "</div>"
      ],
      "text/plain": [
       "                                      name         album release_date  length  \\\n",
       "1                          Picture To Burn  Taylor Swift   2006-10-24     173   \n",
       "2                                 Our Song  Taylor Swift   2006-10-24     201   \n",
       "3                        Should've Said No  Taylor Swift   2006-10-24     242   \n",
       "4                               Tim McGraw  Taylor Swift   2006-10-24     232   \n",
       "5                    A Place in this World  Taylor Swift   2006-10-24     199   \n",
       "..                                     ...           ...          ...     ...   \n",
       "234                               marjorie      evermore   2021-01-07     258   \n",
       "235                                closure      evermore   2021-01-07     181   \n",
       "236              evermore (feat. Bon Iver)      evermore   2021-01-07     304   \n",
       "237  right where you left me - bonus track      evermore   2021-01-07     245   \n",
       "238          it’s time to go - bonus track      evermore   2021-01-07     255   \n",
       "\n",
       "     popularity  danceability  acousticness  energy  instrumentalness  \\\n",
       "1            64         0.658        0.1730   0.877          0.000000   \n",
       "2            68         0.668        0.1110   0.672          0.000000   \n",
       "3            61         0.476        0.0103   0.777          0.000000   \n",
       "4            62         0.580        0.5750   0.491          0.000000   \n",
       "5            51         0.576        0.0510   0.777          0.000000   \n",
       "..          ...           ...           ...     ...               ...   \n",
       "234          62         0.535        0.8760   0.561          0.000136   \n",
       "235          61         0.689        0.8350   0.704          0.000005   \n",
       "236          63         0.390        0.9370   0.270          0.002270   \n",
       "237          70         0.581        0.7690   0.619          0.000106   \n",
       "238          67         0.592        0.8010   0.410          0.000014   \n",
       "\n",
       "     liveness  loudness  speechiness  valence    tempo  \n",
       "1      0.0962    -2.098       0.0323    0.821  105.586  \n",
       "2      0.3290    -4.931       0.0303    0.539   89.011  \n",
       "3      0.1960    -3.771       0.0289    0.472  167.964  \n",
       "4      0.1210    -6.462       0.0251    0.425   76.009  \n",
       "5      0.3200    -2.881       0.0324    0.428  115.028  \n",
       "..        ...       ...          ...      ...      ...  \n",
       "234    0.1150   -11.609       0.0484    0.287   96.103  \n",
       "235    0.1340   -10.813       0.2450    0.920  151.884  \n",
       "236    0.1110   -10.673       0.0308    0.320  125.177  \n",
       "237    0.1170    -6.524       0.0282    0.645  137.915  \n",
       "238    0.0900   -12.426       0.0397    0.416  151.923  \n",
       "\n",
       "[158 rows x 14 columns]"
      ]
     },
     "execution_count": 12,
     "metadata": {},
     "output_type": "execute_result"
    }
   ],
   "source": [
    "df[\"release_date\"] = pd.to_datetime(df[\"release_date\"])\n",
    "df[\"length\"] = df[\"length\"]/1000\n",
    "df[\"length\"] = df[\"length\"].round().astype(int)\n",
    "df"
   ]
  },
  {
   "cell_type": "code",
   "execution_count": 13,
   "id": "70160e58",
   "metadata": {},
   "outputs": [],
   "source": [
    "## save the cleaned dataframe as a csv\n",
    "df.to_csv('clean_df.csv')"
   ]
  },
  {
   "cell_type": "markdown",
   "id": "fe804e35",
   "metadata": {},
   "source": []
  },
  {
   "cell_type": "markdown",
   "id": "9e862830",
   "metadata": {},
   "source": [
    "## Data exploration\n",
    "\n",
    "Now that the dataset has been processed, we can make some initial graphs to understand what the dataset looks like."
   ]
  },
  {
   "cell_type": "markdown",
   "id": "4f56e8f3",
   "metadata": {},
   "source": [
    "#### View distributions of data\n",
    "\n",
    "Make a new df with only the values we want to show distributions for, so that we can use `px.histogram()`"
   ]
  },
  {
   "cell_type": "code",
   "execution_count": 14,
   "id": "cc8313f4",
   "metadata": {},
   "outputs": [
    {
     "data": {
      "text/plain": [
       "name                        object\n",
       "album                       object\n",
       "release_date        datetime64[ns]\n",
       "length                       int64\n",
       "popularity                   int64\n",
       "danceability               float64\n",
       "acousticness               float64\n",
       "energy                     float64\n",
       "instrumentalness           float64\n",
       "liveness                   float64\n",
       "loudness                   float64\n",
       "speechiness                float64\n",
       "valence                    float64\n",
       "tempo                      float64\n",
       "dtype: object"
      ]
     },
     "execution_count": 14,
     "metadata": {},
     "output_type": "execute_result"
    }
   ],
   "source": [
    "df.dtypes"
   ]
  },
  {
   "cell_type": "code",
   "execution_count": 15,
   "id": "e144fc25",
   "metadata": {},
   "outputs": [
    {
     "data": {
      "text/html": [
       "<div>\n",
       "<style scoped>\n",
       "    .dataframe tbody tr th:only-of-type {\n",
       "        vertical-align: middle;\n",
       "    }\n",
       "\n",
       "    .dataframe tbody tr th {\n",
       "        vertical-align: top;\n",
       "    }\n",
       "\n",
       "    .dataframe thead th {\n",
       "        text-align: right;\n",
       "    }\n",
       "</style>\n",
       "<table border=\"1\" class=\"dataframe\">\n",
       "  <thead>\n",
       "    <tr style=\"text-align: right;\">\n",
       "      <th></th>\n",
       "      <th>length</th>\n",
       "      <th>popularity</th>\n",
       "      <th>danceability</th>\n",
       "      <th>acousticness</th>\n",
       "      <th>energy</th>\n",
       "      <th>instrumentalness</th>\n",
       "      <th>liveness</th>\n",
       "      <th>loudness</th>\n",
       "      <th>speechiness</th>\n",
       "      <th>valence</th>\n",
       "      <th>tempo</th>\n",
       "      <th>release_year</th>\n",
       "    </tr>\n",
       "  </thead>\n",
       "  <tbody>\n",
       "    <tr>\n",
       "      <th>1</th>\n",
       "      <td>173</td>\n",
       "      <td>64</td>\n",
       "      <td>0.658</td>\n",
       "      <td>0.1730</td>\n",
       "      <td>0.877</td>\n",
       "      <td>0.000000</td>\n",
       "      <td>0.0962</td>\n",
       "      <td>-2.098</td>\n",
       "      <td>0.0323</td>\n",
       "      <td>0.821</td>\n",
       "      <td>105.586</td>\n",
       "      <td>2006</td>\n",
       "    </tr>\n",
       "    <tr>\n",
       "      <th>2</th>\n",
       "      <td>201</td>\n",
       "      <td>68</td>\n",
       "      <td>0.668</td>\n",
       "      <td>0.1110</td>\n",
       "      <td>0.672</td>\n",
       "      <td>0.000000</td>\n",
       "      <td>0.3290</td>\n",
       "      <td>-4.931</td>\n",
       "      <td>0.0303</td>\n",
       "      <td>0.539</td>\n",
       "      <td>89.011</td>\n",
       "      <td>2006</td>\n",
       "    </tr>\n",
       "    <tr>\n",
       "      <th>3</th>\n",
       "      <td>242</td>\n",
       "      <td>61</td>\n",
       "      <td>0.476</td>\n",
       "      <td>0.0103</td>\n",
       "      <td>0.777</td>\n",
       "      <td>0.000000</td>\n",
       "      <td>0.1960</td>\n",
       "      <td>-3.771</td>\n",
       "      <td>0.0289</td>\n",
       "      <td>0.472</td>\n",
       "      <td>167.964</td>\n",
       "      <td>2006</td>\n",
       "    </tr>\n",
       "    <tr>\n",
       "      <th>4</th>\n",
       "      <td>232</td>\n",
       "      <td>62</td>\n",
       "      <td>0.580</td>\n",
       "      <td>0.5750</td>\n",
       "      <td>0.491</td>\n",
       "      <td>0.000000</td>\n",
       "      <td>0.1210</td>\n",
       "      <td>-6.462</td>\n",
       "      <td>0.0251</td>\n",
       "      <td>0.425</td>\n",
       "      <td>76.009</td>\n",
       "      <td>2006</td>\n",
       "    </tr>\n",
       "    <tr>\n",
       "      <th>5</th>\n",
       "      <td>199</td>\n",
       "      <td>51</td>\n",
       "      <td>0.576</td>\n",
       "      <td>0.0510</td>\n",
       "      <td>0.777</td>\n",
       "      <td>0.000000</td>\n",
       "      <td>0.3200</td>\n",
       "      <td>-2.881</td>\n",
       "      <td>0.0324</td>\n",
       "      <td>0.428</td>\n",
       "      <td>115.028</td>\n",
       "      <td>2006</td>\n",
       "    </tr>\n",
       "    <tr>\n",
       "      <th>...</th>\n",
       "      <td>...</td>\n",
       "      <td>...</td>\n",
       "      <td>...</td>\n",
       "      <td>...</td>\n",
       "      <td>...</td>\n",
       "      <td>...</td>\n",
       "      <td>...</td>\n",
       "      <td>...</td>\n",
       "      <td>...</td>\n",
       "      <td>...</td>\n",
       "      <td>...</td>\n",
       "      <td>...</td>\n",
       "    </tr>\n",
       "    <tr>\n",
       "      <th>234</th>\n",
       "      <td>258</td>\n",
       "      <td>62</td>\n",
       "      <td>0.535</td>\n",
       "      <td>0.8760</td>\n",
       "      <td>0.561</td>\n",
       "      <td>0.000136</td>\n",
       "      <td>0.1150</td>\n",
       "      <td>-11.609</td>\n",
       "      <td>0.0484</td>\n",
       "      <td>0.287</td>\n",
       "      <td>96.103</td>\n",
       "      <td>2021</td>\n",
       "    </tr>\n",
       "    <tr>\n",
       "      <th>235</th>\n",
       "      <td>181</td>\n",
       "      <td>61</td>\n",
       "      <td>0.689</td>\n",
       "      <td>0.8350</td>\n",
       "      <td>0.704</td>\n",
       "      <td>0.000005</td>\n",
       "      <td>0.1340</td>\n",
       "      <td>-10.813</td>\n",
       "      <td>0.2450</td>\n",
       "      <td>0.920</td>\n",
       "      <td>151.884</td>\n",
       "      <td>2021</td>\n",
       "    </tr>\n",
       "    <tr>\n",
       "      <th>236</th>\n",
       "      <td>304</td>\n",
       "      <td>63</td>\n",
       "      <td>0.390</td>\n",
       "      <td>0.9370</td>\n",
       "      <td>0.270</td>\n",
       "      <td>0.002270</td>\n",
       "      <td>0.1110</td>\n",
       "      <td>-10.673</td>\n",
       "      <td>0.0308</td>\n",
       "      <td>0.320</td>\n",
       "      <td>125.177</td>\n",
       "      <td>2021</td>\n",
       "    </tr>\n",
       "    <tr>\n",
       "      <th>237</th>\n",
       "      <td>245</td>\n",
       "      <td>70</td>\n",
       "      <td>0.581</td>\n",
       "      <td>0.7690</td>\n",
       "      <td>0.619</td>\n",
       "      <td>0.000106</td>\n",
       "      <td>0.1170</td>\n",
       "      <td>-6.524</td>\n",
       "      <td>0.0282</td>\n",
       "      <td>0.645</td>\n",
       "      <td>137.915</td>\n",
       "      <td>2021</td>\n",
       "    </tr>\n",
       "    <tr>\n",
       "      <th>238</th>\n",
       "      <td>255</td>\n",
       "      <td>67</td>\n",
       "      <td>0.592</td>\n",
       "      <td>0.8010</td>\n",
       "      <td>0.410</td>\n",
       "      <td>0.000014</td>\n",
       "      <td>0.0900</td>\n",
       "      <td>-12.426</td>\n",
       "      <td>0.0397</td>\n",
       "      <td>0.416</td>\n",
       "      <td>151.923</td>\n",
       "      <td>2021</td>\n",
       "    </tr>\n",
       "  </tbody>\n",
       "</table>\n",
       "<p>158 rows × 12 columns</p>\n",
       "</div>"
      ],
      "text/plain": [
       "     length  popularity  danceability  acousticness  energy  instrumentalness  \\\n",
       "1       173          64         0.658        0.1730   0.877          0.000000   \n",
       "2       201          68         0.668        0.1110   0.672          0.000000   \n",
       "3       242          61         0.476        0.0103   0.777          0.000000   \n",
       "4       232          62         0.580        0.5750   0.491          0.000000   \n",
       "5       199          51         0.576        0.0510   0.777          0.000000   \n",
       "..      ...         ...           ...           ...     ...               ...   \n",
       "234     258          62         0.535        0.8760   0.561          0.000136   \n",
       "235     181          61         0.689        0.8350   0.704          0.000005   \n",
       "236     304          63         0.390        0.9370   0.270          0.002270   \n",
       "237     245          70         0.581        0.7690   0.619          0.000106   \n",
       "238     255          67         0.592        0.8010   0.410          0.000014   \n",
       "\n",
       "     liveness  loudness  speechiness  valence    tempo  release_year  \n",
       "1      0.0962    -2.098       0.0323    0.821  105.586          2006  \n",
       "2      0.3290    -4.931       0.0303    0.539   89.011          2006  \n",
       "3      0.1960    -3.771       0.0289    0.472  167.964          2006  \n",
       "4      0.1210    -6.462       0.0251    0.425   76.009          2006  \n",
       "5      0.3200    -2.881       0.0324    0.428  115.028          2006  \n",
       "..        ...       ...          ...      ...      ...           ...  \n",
       "234    0.1150   -11.609       0.0484    0.287   96.103          2021  \n",
       "235    0.1340   -10.813       0.2450    0.920  151.884          2021  \n",
       "236    0.1110   -10.673       0.0308    0.320  125.177          2021  \n",
       "237    0.1170    -6.524       0.0282    0.645  137.915          2021  \n",
       "238    0.0900   -12.426       0.0397    0.416  151.923          2021  \n",
       "\n",
       "[158 rows x 12 columns]"
      ]
     },
     "execution_count": 15,
     "metadata": {},
     "output_type": "execute_result"
    }
   ],
   "source": [
    "# make a new df with the columnd we want - including year for release_date\n",
    "df_hist = df.drop(columns=['name','album'])\n",
    "df_hist['release_year'] = df_hist['release_date'].dt.year\n",
    "df_hist = df_hist.drop(columns=['release_date'])\n",
    "df_hist"
   ]
  },
  {
   "cell_type": "markdown",
   "id": "9dd78faa",
   "metadata": {},
   "source": [
    "We can make the pd backend option plotly so that we can use standard pandas plotting on top of plotly."
   ]
  },
  {
   "cell_type": "code",
   "execution_count": 16,
   "id": "6af63b60",
   "metadata": {},
   "outputs": [],
   "source": [
    "# pd.options.plotting.backend = \"plotly\"\n"
   ]
  },
  {
   "cell_type": "markdown",
   "id": "5241eb95",
   "metadata": {},
   "source": [
    "Plot the histograms of each feature.\n",
    "\n",
    "<font color=red> optimize this code at some point!"
   ]
  },
  {
   "cell_type": "code",
   "execution_count": 17,
   "id": "4babe5ab",
   "metadata": {},
   "outputs": [
    {
     "data": {
      "application/vnd.plotly.v1+json": {
       "config": {
        "plotlyServerURL": "https://plot.ly"
       },
       "data": [
        {
         "name": "Length",
         "type": "histogram",
         "x": [
          173,
          201,
          242,
          232,
          199,
          239,
          207,
          248,
          236,
          213,
          213,
          203,
          220,
          179,
          203,
          231,
          234,
          242,
          294,
          237,
          311,
          268,
          238,
          261,
          238,
          254,
          264,
          201,
          262,
          244,
          225,
          245,
          281,
          238,
          266,
          241,
          238,
          231,
          261,
          293,
          404,
          290,
          352,
          217,
          302,
          242,
          367,
          317,
          235,
          276,
          293,
          218,
          230,
          192,
          218,
          230,
          328,
          295,
          221,
          241,
          243,
          205,
          298,
          202,
          284,
          244,
          218,
          238,
          223,
          220,
          240,
          286,
          323,
          240,
          226,
          232,
          219,
          231,
          236,
          220,
          213,
          193,
          207,
          212,
          248,
          250,
          196,
          271,
          246,
          267,
          230,
          208,
          245,
          212,
          232,
          234,
          210,
          238,
          236,
          228,
          214,
          212,
          230,
          207,
          204,
          235,
          190,
          171,
          178,
          221,
          190,
          211,
          173,
          234,
          222,
          287,
          199,
          190,
          202,
          200,
          171,
          223,
          193,
          150,
          293,
          240,
          286,
          295,
          262,
          195,
          210,
          231,
          256,
          209,
          209,
          191,
          253,
          237,
          290,
          234,
          220,
          215,
          244,
          185,
          230,
          245,
          216,
          315,
          226,
          275,
          260,
          275,
          216,
          258,
          181,
          304,
          245,
          255
         ],
         "xaxis": "x",
         "yaxis": "y"
        },
        {
         "name": "Popularity",
         "type": "histogram",
         "x": [
          64,
          68,
          61,
          62,
          51,
          51,
          48,
          49,
          50,
          53,
          53,
          49,
          46,
          50,
          64,
          54,
          46,
          47,
          47,
          46,
          45,
          46,
          44,
          42,
          44,
          44,
          48,
          42,
          44,
          46,
          46,
          42,
          41,
          54,
          55,
          53,
          56,
          56,
          57,
          56,
          60,
          55,
          55,
          64,
          49,
          55,
          56,
          54,
          52,
          49,
          52,
          48,
          46,
          60,
          61,
          63,
          69,
          60,
          62,
          59,
          59,
          58,
          59,
          59,
          56,
          58,
          57,
          57,
          57,
          53,
          58,
          56,
          54,
          51,
          51,
          61,
          58,
          61,
          60,
          59,
          55,
          57,
          58,
          56,
          58,
          57,
          58,
          60,
          60,
          59,
          65,
          73,
          71,
          77,
          77,
          75,
          71,
          73,
          72,
          65,
          68,
          67,
          68,
          68,
          70,
          66,
          76,
          73,
          77,
          77,
          76,
          68,
          69,
          69,
          74,
          70,
          70,
          71,
          65,
          67,
          80,
          68,
          78,
          64,
          67,
          80,
          78,
          72,
          75,
          70,
          76,
          71,
          71,
          70,
          69,
          70,
          71,
          67,
          67,
          67,
          67,
          66,
          67,
          65,
          65,
          64,
          64,
          63,
          63,
          63,
          64,
          63,
          63,
          62,
          61,
          63,
          70,
          67
         ],
         "xaxis": "x2",
         "yaxis": "y2"
        },
        {
         "name": "Danceability",
         "type": "histogram",
         "x": [
          0.658,
          0.668,
          0.476,
          0.58,
          0.576,
          0.418,
          0.589,
          0.479,
          0.594,
          0.403,
          0.563,
          0.612,
          0.483,
          0.459,
          0.621,
          0.687,
          0.585,
          0.598,
          0.559,
          0.618,
          0.419,
          0.592,
          0.527,
          0.61,
          0.476,
          0.843,
          0.498,
          0.601,
          0.459,
          0.436,
          0.605,
          0.664,
          0.548,
          0.568,
          0.543,
          0.709,
          0.608,
          0.624,
          0.605,
          0.529,
          0.589,
          0.714,
          0.455,
          0.516,
          0.552,
          0.436,
          0.371,
          0.418,
          0.511,
          0.582,
          0.541,
          0.563,
          0.695,
          0.628,
          0.622,
          0.658,
          0.602,
          0.588,
          0.602,
          0.705,
          0.567,
          0.729,
          0.505,
          0.627,
          0.624,
          0.624,
          0.649,
          0.53,
          0.483,
          0.733,
          0.706,
          0.62,
          0.626,
          0.828,
          0.678,
          0.76,
          0.647,
          0.588,
          0.553,
          0.55,
          0.789,
          0.605,
          0.653,
          0.646,
          0.765,
          0.481,
          0.602,
          0.815,
          0.422,
          0.474,
          0.633,
          0.613,
          0.649,
          0.766,
          0.75,
          0.562,
          0.8,
          0.696,
          0.615,
          0.574,
          0.675,
          0.624,
          0.719,
          0.567,
          0.598,
          0.661,
          0.777,
          0.664,
          0.552,
          0.359,
          0.777,
          0.292,
          0.897,
          0.662,
          0.811,
          0.824,
          0.712,
          0.695,
          0.433,
          0.739,
          0.771,
          0.756,
          0.61,
          0.737,
          0.557,
          0.613,
          0.298,
          0.593,
          0.532,
          0.515,
          0.777,
          0.686,
          0.456,
          0.553,
          0.596,
          0.559,
          0.653,
          0.592,
          0.354,
          0.647,
          0.662,
          0.392,
          0.462,
          0.512,
          0.575,
          0.316,
          0.546,
          0.559,
          0.605,
          0.537,
          0.515,
          0.604,
          0.546,
          0.535,
          0.689,
          0.39,
          0.581,
          0.592
         ],
         "xaxis": "x3",
         "yaxis": "y3"
        },
        {
         "name": "Acousticness",
         "type": "histogram",
         "x": [
          0.173,
          0.111,
          0.0103,
          0.575,
          0.051,
          0.217,
          0.00491,
          0.525,
          0.0868,
          0.0177,
          0.00452,
          0.637,
          0.00349,
          0.0402,
          0.288,
          0.164,
          0.302,
          0.0364,
          0.0728,
          0.111,
          0.0583,
          0.852,
          0.0868,
          0.367,
          0.169,
          0.168,
          0.373,
          0.0606,
          0.13,
          0.0322,
          0.0907,
          0.611,
          0.00471,
          0.452,
          0.00478,
          0.095,
          0.537,
          0.00265,
          0.0396,
          0.117,
          0.166,
          0.819,
          0.0739,
          0.0139,
          0.186,
          0.0826,
          0.57,
          0.036,
          0.166,
          0.0268,
          0.748,
          0.842,
          0.00727,
          0.00957,
          0.00454,
          0.00215,
          0.0382,
          0.000197,
          0.0773,
          0.101,
          0.0173,
          0.307,
          0.035,
          0.0162,
          0.632,
          0.36,
          0.0213,
          0.199,
          0.00471,
          0.272,
          0.0371,
          0.187,
          0.664,
          0.175,
          0.113,
          0.103,
          0.0647,
          0.00245,
          0.000743,
          0.0692,
          0.0348,
          0.00201,
          0.0158,
          0.0885,
          0.00364,
          0.678,
          0.245,
          0.232,
          0.0493,
          0.707,
          0.00463,
          0.0527,
          0.00845,
          0.204,
          0.216,
          0.00465,
          0.0713,
          0.0679,
          0.106,
          0.122,
          0.00882,
          0.0604,
          0.0329,
          0.0156,
          0.186,
          0.921,
          0.0767,
          0.298,
          0.117,
          0.492,
          0.0767,
          0.12,
          0.00889,
          0.028,
          0.0129,
          0.781,
          0.454,
          0.0246,
          0.907,
          0.736,
          0.00929,
          0.13,
          0.033,
          0.971,
          0.808,
          0.537,
          0.778,
          0.6,
          0.538,
          0.314,
          0.757,
          0.467,
          0.806,
          0.687,
          0.9,
          0.881,
          0.838,
          0.655,
          0.731,
          0.918,
          0.966,
          0.833,
          0.92,
          0.83,
          0.735,
          0.878,
          0.418,
          0.87,
          0.696,
          0.819,
          0.855,
          0.768,
          0.66,
          0.876,
          0.835,
          0.937,
          0.769,
          0.801
         ],
         "xaxis": "x4",
         "yaxis": "y4"
        },
        {
         "name": "Energy",
         "type": "histogram",
         "x": [
          0.877,
          0.672,
          0.777,
          0.491,
          0.777,
          0.482,
          0.805,
          0.578,
          0.629,
          0.627,
          0.934,
          0.394,
          0.751,
          0.753,
          0.417,
          0.771,
          0.346,
          0.714,
          0.636,
          0.687,
          0.454,
          0.16,
          0.475,
          0.531,
          0.816,
          0.553,
          0.486,
          0.852,
          0.459,
          0.712,
          0.829,
          0.447,
          0.756,
          0.761,
          0.818,
          0.599,
          0.569,
          0.757,
          0.787,
          0.67,
          0.47,
          0.305,
          0.623,
          0.917,
          0.608,
          0.95,
          0.341,
          0.68,
          0.719,
          0.765,
          0.453,
          0.443,
          0.723,
          0.676,
          0.469,
          0.729,
          0.609,
          0.825,
          0.896,
          0.621,
          0.481,
          0.748,
          0.443,
          0.816,
          0.34,
          0.458,
          0.777,
          0.526,
          0.548,
          0.59,
          0.499,
          0.506,
          0.118,
          0.64,
          0.902,
          0.703,
          0.8,
          0.791,
          0.841,
          0.688,
          0.634,
          0.725,
          0.893,
          0.794,
          0.656,
          0.435,
          0.755,
          0.377,
          0.692,
          0.48,
          0.889,
          0.764,
          0.589,
          0.709,
          0.404,
          0.689,
          0.535,
          0.602,
          0.534,
          0.61,
          0.703,
          0.691,
          0.469,
          0.789,
          0.504,
          0.151,
          0.658,
          0.316,
          0.702,
          0.543,
          0.658,
          0.574,
          0.366,
          0.747,
          0.719,
          0.624,
          0.732,
          0.71,
          0.182,
          0.32,
          0.671,
          0.449,
          0.83,
          0.175,
          0.496,
          0.581,
          0.38,
          0.377,
          0.623,
          0.476,
          0.357,
          0.662,
          0.263,
          0.413,
          0.488,
          0.31,
          0.452,
          0.699,
          0.267,
          0.272,
          0.181,
          0.574,
          0.24,
          0.462,
          0.434,
          0.361,
          0.613,
          0.334,
          0.488,
          0.537,
          0.545,
          0.517,
          0.73,
          0.561,
          0.704,
          0.27,
          0.619,
          0.41
         ],
         "xaxis": "x5",
         "yaxis": "y5"
        },
        {
         "name": "Instrumentalness",
         "type": "histogram",
         "x": [
          0,
          0,
          0,
          0,
          0,
          0,
          0,
          0,
          0,
          0,
          0.000807,
          0,
          0,
          0,
          0,
          0.0000246,
          0,
          0.00000104,
          0,
          0,
          0.00000378,
          0,
          0.00000434,
          0,
          0,
          0.00000266,
          0,
          0.00000341,
          0.0000023,
          0,
          0,
          0.000001,
          0,
          0,
          0.000368,
          0,
          0,
          0.00000187,
          0.00000142,
          0,
          0.00000145,
          0,
          0.000424,
          0.00000637,
          0,
          0.00000108,
          0.0000309,
          0.0000759,
          0.00000454,
          0.00000195,
          0,
          0,
          0.0000012,
          0.0000265,
          0.00000225,
          0.0013,
          0.0002,
          0.00138,
          0.0000887,
          0.0000043,
          0.0000413,
          0.00000129,
          0.00000315,
          0.00208,
          0.0337,
          0.00000389,
          0.000335,
          0.00000352,
          0.00000201,
          0,
          0,
          0.0000147,
          0.000169,
          0.0000614,
          0.000235,
          0,
          0,
          0.00258,
          0.0000119,
          0.00144,
          0.00000164,
          0.0000202,
          0.0000495,
          0.00000616,
          0.00868,
          0,
          0,
          0,
          0.0000257,
          0.000108,
          0.000458,
          0,
          0,
          0.0000141,
          0.000357,
          0.00000223,
          0.00000948,
          0.0000211,
          0.0000176,
          0.0000011,
          0.00000221,
          0.000011,
          0,
          0,
          0.000221,
          0,
          0,
          0.00000203,
          0.0000206,
          0.0000158,
          0,
          0.00569,
          0.000353,
          0.00615,
          0.0000136,
          0.000189,
          0,
          0.000104,
          0,
          0.000147,
          0,
          0,
          0,
          0.000337,
          0.000173,
          0.000345,
          0.0000562,
          0,
          0.0000728,
          0.0000474,
          0.00000728,
          0.0023,
          0,
          0.00000233,
          0.000027,
          0,
          0.0000773,
          0.0000168,
          0.000402,
          0.0000173,
          0.00000386,
          0.00179,
          0,
          0.166,
          0.0000659,
          0.0000267,
          0,
          0,
          0,
          0.000904,
          0.0000197,
          0.000155,
          0.179,
          0.000136,
          0.00000483,
          0.00227,
          0.000106,
          0.0000139
         ],
         "xaxis": "x6",
         "yaxis": "y6"
        },
        {
         "name": "Liveness",
         "type": "histogram",
         "x": [
          0.0962,
          0.329,
          0.196,
          0.121,
          0.32,
          0.123,
          0.24,
          0.0841,
          0.137,
          0.182,
          0.103,
          0.147,
          0.128,
          0.0863,
          0.119,
          0.112,
          0.102,
          0.31,
          0.144,
          0.0693,
          0.0974,
          0.116,
          0.248,
          0.351,
          0.238,
          0.107,
          0.113,
          0.37,
          0.113,
          0.111,
          0.106,
          0.139,
          0.117,
          0.217,
          0.0357,
          0.0973,
          0.097,
          0.189,
          0.163,
          0.334,
          0.112,
          0.174,
          0.146,
          0.36,
          0.125,
          0.149,
          0.101,
          0.114,
          0.34,
          0.103,
          0.2,
          0.293,
          0.1,
          0.102,
          0.0398,
          0.0752,
          0.127,
          0.0885,
          0.091,
          0.147,
          0.182,
          0.09,
          0.0921,
          0.0966,
          0.121,
          0.303,
          0.221,
          0.232,
          0.0997,
          0.136,
          0.132,
          0.102,
          0.127,
          0.0996,
          0.0722,
          0.0913,
          0.334,
          0.118,
          0.341,
          0.106,
          0.302,
          0.101,
          0.102,
          0.201,
          0.0918,
          0.0928,
          0.178,
          0.1,
          0.177,
          0.0903,
          0.0658,
          0.197,
          0.108,
          0.126,
          0.0911,
          0.0888,
          0.213,
          0.0696,
          0.0607,
          0.13,
          0.0391,
          0.138,
          0.169,
          0.382,
          0.34,
          0.13,
          0.0901,
          0.0812,
          0.105,
          0.118,
          0.0901,
          0.0663,
          0.0715,
          0.138,
          0.0742,
          0.1,
          0.319,
          0.133,
          0.123,
          0.111,
          0.0637,
          0.114,
          0.118,
          0.171,
          0.0772,
          0.25,
          0.11,
          0.0976,
          0.0925,
          0.171,
          0.108,
          0.109,
          0.0749,
          0.0594,
          0.091,
          0.106,
          0.108,
          0.114,
          0.0858,
          0.0918,
          0.133,
          0.145,
          0.113,
          0.121,
          0.105,
          0.0797,
          0.103,
          0.114,
          0.129,
          0.142,
          0.0921,
          0.123,
          0.0972,
          0.115,
          0.134,
          0.111,
          0.117,
          0.09
         ],
         "xaxis": "x7",
         "yaxis": "y7"
        },
        {
         "name": "Loudness",
         "type": "histogram",
         "x": [
          -2.098,
          -4.931,
          -3.771,
          -6.462,
          -2.881,
          -5.769,
          -4.055,
          -4.963,
          -4.919,
          -5.28,
          -3.629,
          -5.723,
          -5.726,
          -3.827,
          -6.941,
          -4.424,
          -8.014,
          -4.397,
          -4.4,
          -5.737,
          -6.809,
          -10.785,
          -6.205,
          -6.123,
          -4.279,
          -7.348,
          -7.384,
          -3.096,
          -4.126,
          -3.689,
          -4.993,
          -8.535,
          -4.175,
          -3.987,
          -3.611,
          -3.734,
          -7.227,
          -2.94,
          -3.002,
          -4.663,
          -5.32,
          -8.837,
          -3.878,
          -3.186,
          -5.29,
          -2.627,
          -9.475,
          -4.3,
          -3.457,
          -3.648,
          -6.459,
          -5.078,
          -3.806,
          -5.911,
          -6.798,
          -6.561,
          -7.803,
          -5.882,
          -4.267,
          -8.086,
          -7.357,
          -6.67,
          -7.039,
          -6.698,
          -12.411,
          -6.755,
          -5.804,
          -8.349,
          -6.291,
          -5.86,
          -7.675,
          -7.327,
          -15.91,
          -8.248,
          -4.659,
          -5.412,
          -5.384,
          -5.595,
          -6.937,
          -7.416,
          -4.762,
          -5.729,
          -5.966,
          -6.104,
          -6.112,
          -8.795,
          -4.991,
          -7.754,
          -5.447,
          -8.894,
          -5.87,
          -6.509,
          -6.237,
          -6.471,
          -10.178,
          -6.745,
          -6.684,
          -6.156,
          -6.719,
          -7.283,
          -7.902,
          -6.686,
          -8.792,
          -5.986,
          -9.874,
          -12.864,
          -5.191,
          -10.345,
          -5.707,
          -7.582,
          -5.191,
          -9.375,
          -8.029,
          -6.926,
          -6.553,
          -9.728,
          -6.754,
          -6.639,
          -12.566,
          -10.862,
          -5.617,
          -8.746,
          -4.105,
          -9.912,
          -9.602,
          -8.588,
          -8.426,
          -8.761,
          -9.208,
          -9.843,
          -6.942,
          -8.505,
          -10.63,
          -10.037,
          -10.769,
          -10.445,
          -11.143,
          -8.995,
          -13.69,
          -12.906,
          -15.065,
          -9.195,
          -12.077,
          -10.491,
          -8.193,
          -10.381,
          -7.589,
          -10.733,
          -8.322,
          -11.266,
          -9.277,
          -9.014,
          -7.704,
          -11.609,
          -10.813,
          -10.673,
          -6.524,
          -12.426
         ],
         "xaxis": "x8",
         "yaxis": "y8"
        },
        {
         "name": "Speechiness",
         "type": "histogram",
         "x": [
          0.0323,
          0.0303,
          0.0289,
          0.0251,
          0.0324,
          0.0266,
          0.0293,
          0.0294,
          0.0246,
          0.0292,
          0.0646,
          0.0243,
          0.0365,
          0.0537,
          0.0231,
          0.0384,
          0.0256,
          0.0273,
          0.0263,
          0.0271,
          0.0335,
          0.0347,
          0.0258,
          0.0239,
          0.0347,
          0.0317,
          0.0273,
          0.0386,
          0.0275,
          0.0329,
          0.0549,
          0.0292,
          0.036,
          0.0459,
          0.0398,
          0.0304,
          0.0284,
          0.0296,
          0.0308,
          0.0303,
          0.028,
          0.0305,
          0.0288,
          0.0827,
          0.0259,
          0.057,
          0.0319,
          0.0347,
          0.0265,
          0.0324,
          0.0266,
          0.0247,
          0.0285,
          0.0916,
          0.0363,
          0.0378,
          0.0243,
          0.0328,
          0.0437,
          0.0334,
          0.027,
          0.0245,
          0.0276,
          0.0774,
          0.029,
          0.0287,
          0.0406,
          0.0263,
          0.0254,
          0.0284,
          0.0369,
          0.0312,
          0.0305,
          0.0355,
          0.0358,
          0.054,
          0.165,
          0.0402,
          0.0396,
          0.0897,
          0.0323,
          0.0323,
          0.0538,
          0.19,
          0.0504,
          0.0321,
          0.071,
          0.0346,
          0.0549,
          0.0622,
          0.0715,
          0.136,
          0.0558,
          0.123,
          0.0682,
          0.127,
          0.135,
          0.159,
          0.0386,
          0.0732,
          0.0382,
          0.196,
          0.0533,
          0.115,
          0.0731,
          0.0354,
          0.054,
          0.519,
          0.157,
          0.0919,
          0.054,
          0.0401,
          0.0569,
          0.0736,
          0.0497,
          0.0827,
          0.0629,
          0.05,
          0.0641,
          0.239,
          0.0553,
          0.0344,
          0.0571,
          0.0401,
          0.0563,
          0.0424,
          0.0287,
          0.0253,
          0.0331,
          0.0328,
          0.0522,
          0.0413,
          0.0332,
          0.0334,
          0.0274,
          0.0338,
          0.055,
          0.0471,
          0.0281,
          0.0916,
          0.0415,
          0.17,
          0.0377,
          0.0408,
          0.0312,
          0.0488,
          0.0264,
          0.0376,
          0.0264,
          0.0617,
          0.0353,
          0.0347,
          0.0417,
          0.0484,
          0.245,
          0.0308,
          0.0282,
          0.0397
         ],
         "xaxis": "x9",
         "yaxis": "y9"
        },
        {
         "name": "Valence",
         "type": "histogram",
         "x": [
          0.821,
          0.539,
          0.472,
          0.425,
          0.428,
          0.261,
          0.591,
          0.192,
          0.504,
          0.374,
          0.518,
          0.233,
          0.268,
          0.483,
          0.289,
          0.445,
          0.195,
          0.467,
          0.214,
          0.82,
          0.288,
          0.294,
          0.224,
          0.228,
          0.469,
          0.825,
          0.17,
          0.513,
          0.281,
          0.379,
          0.514,
          0.364,
          0.224,
          0.789,
          0.683,
          0.735,
          0.238,
          0.658,
          0.374,
          0.286,
          0.102,
          0.554,
          0.208,
          0.635,
          0.17,
          0.352,
          0.196,
          0.142,
          0.289,
          0.559,
          0.377,
          0.313,
          0.679,
          0.75,
          0.679,
          0.668,
          0.337,
          0.397,
          0.641,
          0.395,
          0.233,
          0.928,
          0.123,
          0.648,
          0.261,
          0.436,
          0.587,
          0.323,
          0.217,
          0.633,
          0.545,
          0.275,
          0.0682,
          0.519,
          0.637,
          0.57,
          0.942,
          0.487,
          0.338,
          0.465,
          0.658,
          0.539,
          0.513,
          0.287,
          0.545,
          0.107,
          0.495,
          0.211,
          0.197,
          0.319,
          0.584,
          0.417,
          0.151,
          0.506,
          0.0499,
          0.351,
          0.451,
          0.305,
          0.193,
          0.374,
          0.314,
          0.284,
          0.0851,
          0.438,
          0.252,
          0.23,
          0.633,
          0.541,
          0.564,
          0.453,
          0.633,
          0.166,
          0.416,
          0.487,
          0.865,
          0.248,
          0.313,
          0.557,
          0.421,
          0.351,
          0.714,
          0.399,
          0.728,
          0.545,
          0.265,
          0.551,
          0.152,
          0.502,
          0.403,
          0.412,
          0.172,
          0.706,
          0.111,
          0.379,
          0.415,
          0.46,
          0.45,
          0.506,
          0.113,
          0.339,
          0.429,
          0.529,
          0.32,
          0.353,
          0.348,
          0.221,
          0.535,
          0.211,
          0.354,
          0.292,
          0.535,
          0.511,
          0.573,
          0.287,
          0.92,
          0.32,
          0.645,
          0.416
         ],
         "xaxis": "x10",
         "yaxis": "y10"
        },
        {
         "marker": {
          "color": "#EB89B5"
         },
         "name": "Tempo",
         "type": "histogram",
         "x": [
          105.586,
          89.011,
          167.964,
          76.009,
          115.028,
          175.558,
          112.982,
          146.165,
          131.597,
          74.9,
          143.964,
          96.001,
          156.092,
          199.997,
          99.953,
          129.964,
          92.564,
          99.979,
          95.485,
          79.991,
          200.017,
          118.929,
          143.962,
          85.979,
          163.847,
          115.997,
          147.952,
          100.015,
          134.018,
          160.886,
          128.012,
          126.079,
          96.038,
          163.974,
          139.898,
          118.975,
          159.845,
          121.07,
          114.987,
          141.893,
          119.386,
          124.91,
          163.893,
          145.821,
          134.05,
          162.088,
          89.038,
          204.12,
          147.852,
          131.982,
          141.757,
          80.962,
          121.011,
          85.984,
          77.019,
          104.007,
          93.06,
          129.968,
          124.978,
          109.993,
          145.865,
          99.981,
          94.069,
          157.043,
          129.987,
          80.017,
          126.018,
          79.025,
          79.926,
          125.048,
          117.937,
          126.015,
          105.597,
          109.993,
          124.998,
          95.997,
          160.078,
          94.933,
          92.008,
          139.997,
          116.992,
          96.97,
          118.035,
          170.216,
          119.997,
          143.95,
          159.965,
          103.97,
          184.014,
          170.109,
          121.956,
          160.015,
          159.073,
          128.07,
          95.045,
          172.054,
          92.027,
          82.989,
          135.917,
          74.957,
          110.01,
          160.024,
          120.085,
          163.96,
          163.954,
          94.922,
          110.048,
          92.875,
          169.994,
          68.534,
          110.048,
          124.344,
          100.003,
          150.088,
          103.979,
          102.012,
          94.071,
          157.925,
          207.476,
          79.97,
          85.026,
          111.011,
          182.162,
          70.008,
          149.983,
          130.033,
          75.602,
          95.939,
          89.937,
          135.886,
          139.883,
          147.922,
          129.86,
          110.107,
          94.926,
          119.845,
          83.433,
          141.916,
          94.219,
          150.044,
          118.819,
          81.112,
          171.319,
          112.05,
          145.916,
          74.952,
          79.015,
          122.079,
          119.966,
          107.895,
          88.856,
          127.967,
          157.895,
          96.103,
          151.884,
          125.177,
          137.915,
          151.923
         ],
         "xaxis": "x11",
         "yaxis": "y11"
        },
        {
         "marker": {
          "color": "#330C73"
         },
         "name": "Year",
         "type": "histogram",
         "x": [
          2006,
          2006,
          2006,
          2006,
          2006,
          2006,
          2006,
          2006,
          2006,
          2006,
          2006,
          2006,
          2006,
          2006,
          2006,
          2008,
          2008,
          2008,
          2008,
          2008,
          2008,
          2008,
          2008,
          2008,
          2008,
          2008,
          2008,
          2008,
          2008,
          2008,
          2008,
          2008,
          2008,
          2010,
          2010,
          2010,
          2010,
          2010,
          2010,
          2010,
          2010,
          2010,
          2010,
          2010,
          2010,
          2010,
          2010,
          2010,
          2010,
          2010,
          2010,
          2010,
          2010,
          2012,
          2012,
          2012,
          2012,
          2012,
          2012,
          2012,
          2012,
          2012,
          2012,
          2012,
          2012,
          2012,
          2012,
          2012,
          2012,
          2012,
          2012,
          2012,
          2012,
          2012,
          2012,
          2014,
          2014,
          2014,
          2014,
          2014,
          2014,
          2014,
          2014,
          2014,
          2014,
          2014,
          2014,
          2014,
          2014,
          2014,
          2014,
          2017,
          2017,
          2017,
          2017,
          2017,
          2017,
          2017,
          2017,
          2017,
          2017,
          2017,
          2017,
          2017,
          2017,
          2017,
          2019,
          2019,
          2019,
          2019,
          2019,
          2019,
          2019,
          2019,
          2019,
          2019,
          2019,
          2019,
          2019,
          2019,
          2019,
          2019,
          2019,
          2019,
          2019,
          2020,
          2020,
          2020,
          2020,
          2020,
          2020,
          2020,
          2020,
          2020,
          2020,
          2020,
          2020,
          2020,
          2020,
          2020,
          2020,
          2021,
          2021,
          2021,
          2021,
          2021,
          2021,
          2021,
          2021,
          2021,
          2021,
          2021,
          2021,
          2021,
          2021,
          2021,
          2021,
          2021
         ],
         "xaxis": "x12",
         "yaxis": "y12"
        }
       ],
       "layout": {
        "bargap": 0.2,
        "bargroupgap": 0.1,
        "template": {
         "data": {
          "bar": [
           {
            "error_x": {
             "color": "#2a3f5f"
            },
            "error_y": {
             "color": "#2a3f5f"
            },
            "marker": {
             "line": {
              "color": "#E5ECF6",
              "width": 0.5
             },
             "pattern": {
              "fillmode": "overlay",
              "size": 10,
              "solidity": 0.2
             }
            },
            "type": "bar"
           }
          ],
          "barpolar": [
           {
            "marker": {
             "line": {
              "color": "#E5ECF6",
              "width": 0.5
             },
             "pattern": {
              "fillmode": "overlay",
              "size": 10,
              "solidity": 0.2
             }
            },
            "type": "barpolar"
           }
          ],
          "carpet": [
           {
            "aaxis": {
             "endlinecolor": "#2a3f5f",
             "gridcolor": "white",
             "linecolor": "white",
             "minorgridcolor": "white",
             "startlinecolor": "#2a3f5f"
            },
            "baxis": {
             "endlinecolor": "#2a3f5f",
             "gridcolor": "white",
             "linecolor": "white",
             "minorgridcolor": "white",
             "startlinecolor": "#2a3f5f"
            },
            "type": "carpet"
           }
          ],
          "choropleth": [
           {
            "colorbar": {
             "outlinewidth": 0,
             "ticks": ""
            },
            "type": "choropleth"
           }
          ],
          "contour": [
           {
            "colorbar": {
             "outlinewidth": 0,
             "ticks": ""
            },
            "colorscale": [
             [
              0,
              "#0d0887"
             ],
             [
              0.1111111111111111,
              "#46039f"
             ],
             [
              0.2222222222222222,
              "#7201a8"
             ],
             [
              0.3333333333333333,
              "#9c179e"
             ],
             [
              0.4444444444444444,
              "#bd3786"
             ],
             [
              0.5555555555555556,
              "#d8576b"
             ],
             [
              0.6666666666666666,
              "#ed7953"
             ],
             [
              0.7777777777777778,
              "#fb9f3a"
             ],
             [
              0.8888888888888888,
              "#fdca26"
             ],
             [
              1,
              "#f0f921"
             ]
            ],
            "type": "contour"
           }
          ],
          "contourcarpet": [
           {
            "colorbar": {
             "outlinewidth": 0,
             "ticks": ""
            },
            "type": "contourcarpet"
           }
          ],
          "heatmap": [
           {
            "colorbar": {
             "outlinewidth": 0,
             "ticks": ""
            },
            "colorscale": [
             [
              0,
              "#0d0887"
             ],
             [
              0.1111111111111111,
              "#46039f"
             ],
             [
              0.2222222222222222,
              "#7201a8"
             ],
             [
              0.3333333333333333,
              "#9c179e"
             ],
             [
              0.4444444444444444,
              "#bd3786"
             ],
             [
              0.5555555555555556,
              "#d8576b"
             ],
             [
              0.6666666666666666,
              "#ed7953"
             ],
             [
              0.7777777777777778,
              "#fb9f3a"
             ],
             [
              0.8888888888888888,
              "#fdca26"
             ],
             [
              1,
              "#f0f921"
             ]
            ],
            "type": "heatmap"
           }
          ],
          "heatmapgl": [
           {
            "colorbar": {
             "outlinewidth": 0,
             "ticks": ""
            },
            "colorscale": [
             [
              0,
              "#0d0887"
             ],
             [
              0.1111111111111111,
              "#46039f"
             ],
             [
              0.2222222222222222,
              "#7201a8"
             ],
             [
              0.3333333333333333,
              "#9c179e"
             ],
             [
              0.4444444444444444,
              "#bd3786"
             ],
             [
              0.5555555555555556,
              "#d8576b"
             ],
             [
              0.6666666666666666,
              "#ed7953"
             ],
             [
              0.7777777777777778,
              "#fb9f3a"
             ],
             [
              0.8888888888888888,
              "#fdca26"
             ],
             [
              1,
              "#f0f921"
             ]
            ],
            "type": "heatmapgl"
           }
          ],
          "histogram": [
           {
            "marker": {
             "pattern": {
              "fillmode": "overlay",
              "size": 10,
              "solidity": 0.2
             }
            },
            "type": "histogram"
           }
          ],
          "histogram2d": [
           {
            "colorbar": {
             "outlinewidth": 0,
             "ticks": ""
            },
            "colorscale": [
             [
              0,
              "#0d0887"
             ],
             [
              0.1111111111111111,
              "#46039f"
             ],
             [
              0.2222222222222222,
              "#7201a8"
             ],
             [
              0.3333333333333333,
              "#9c179e"
             ],
             [
              0.4444444444444444,
              "#bd3786"
             ],
             [
              0.5555555555555556,
              "#d8576b"
             ],
             [
              0.6666666666666666,
              "#ed7953"
             ],
             [
              0.7777777777777778,
              "#fb9f3a"
             ],
             [
              0.8888888888888888,
              "#fdca26"
             ],
             [
              1,
              "#f0f921"
             ]
            ],
            "type": "histogram2d"
           }
          ],
          "histogram2dcontour": [
           {
            "colorbar": {
             "outlinewidth": 0,
             "ticks": ""
            },
            "colorscale": [
             [
              0,
              "#0d0887"
             ],
             [
              0.1111111111111111,
              "#46039f"
             ],
             [
              0.2222222222222222,
              "#7201a8"
             ],
             [
              0.3333333333333333,
              "#9c179e"
             ],
             [
              0.4444444444444444,
              "#bd3786"
             ],
             [
              0.5555555555555556,
              "#d8576b"
             ],
             [
              0.6666666666666666,
              "#ed7953"
             ],
             [
              0.7777777777777778,
              "#fb9f3a"
             ],
             [
              0.8888888888888888,
              "#fdca26"
             ],
             [
              1,
              "#f0f921"
             ]
            ],
            "type": "histogram2dcontour"
           }
          ],
          "mesh3d": [
           {
            "colorbar": {
             "outlinewidth": 0,
             "ticks": ""
            },
            "type": "mesh3d"
           }
          ],
          "parcoords": [
           {
            "line": {
             "colorbar": {
              "outlinewidth": 0,
              "ticks": ""
             }
            },
            "type": "parcoords"
           }
          ],
          "pie": [
           {
            "automargin": true,
            "type": "pie"
           }
          ],
          "scatter": [
           {
            "fillpattern": {
             "fillmode": "overlay",
             "size": 10,
             "solidity": 0.2
            },
            "type": "scatter"
           }
          ],
          "scatter3d": [
           {
            "line": {
             "colorbar": {
              "outlinewidth": 0,
              "ticks": ""
             }
            },
            "marker": {
             "colorbar": {
              "outlinewidth": 0,
              "ticks": ""
             }
            },
            "type": "scatter3d"
           }
          ],
          "scattercarpet": [
           {
            "marker": {
             "colorbar": {
              "outlinewidth": 0,
              "ticks": ""
             }
            },
            "type": "scattercarpet"
           }
          ],
          "scattergeo": [
           {
            "marker": {
             "colorbar": {
              "outlinewidth": 0,
              "ticks": ""
             }
            },
            "type": "scattergeo"
           }
          ],
          "scattergl": [
           {
            "marker": {
             "colorbar": {
              "outlinewidth": 0,
              "ticks": ""
             }
            },
            "type": "scattergl"
           }
          ],
          "scattermapbox": [
           {
            "marker": {
             "colorbar": {
              "outlinewidth": 0,
              "ticks": ""
             }
            },
            "type": "scattermapbox"
           }
          ],
          "scatterpolar": [
           {
            "marker": {
             "colorbar": {
              "outlinewidth": 0,
              "ticks": ""
             }
            },
            "type": "scatterpolar"
           }
          ],
          "scatterpolargl": [
           {
            "marker": {
             "colorbar": {
              "outlinewidth": 0,
              "ticks": ""
             }
            },
            "type": "scatterpolargl"
           }
          ],
          "scatterternary": [
           {
            "marker": {
             "colorbar": {
              "outlinewidth": 0,
              "ticks": ""
             }
            },
            "type": "scatterternary"
           }
          ],
          "surface": [
           {
            "colorbar": {
             "outlinewidth": 0,
             "ticks": ""
            },
            "colorscale": [
             [
              0,
              "#0d0887"
             ],
             [
              0.1111111111111111,
              "#46039f"
             ],
             [
              0.2222222222222222,
              "#7201a8"
             ],
             [
              0.3333333333333333,
              "#9c179e"
             ],
             [
              0.4444444444444444,
              "#bd3786"
             ],
             [
              0.5555555555555556,
              "#d8576b"
             ],
             [
              0.6666666666666666,
              "#ed7953"
             ],
             [
              0.7777777777777778,
              "#fb9f3a"
             ],
             [
              0.8888888888888888,
              "#fdca26"
             ],
             [
              1,
              "#f0f921"
             ]
            ],
            "type": "surface"
           }
          ],
          "table": [
           {
            "cells": {
             "fill": {
              "color": "#EBF0F8"
             },
             "line": {
              "color": "white"
             }
            },
            "header": {
             "fill": {
              "color": "#C8D4E3"
             },
             "line": {
              "color": "white"
             }
            },
            "type": "table"
           }
          ]
         },
         "layout": {
          "annotationdefaults": {
           "arrowcolor": "#2a3f5f",
           "arrowhead": 0,
           "arrowwidth": 1
          },
          "autotypenumbers": "strict",
          "coloraxis": {
           "colorbar": {
            "outlinewidth": 0,
            "ticks": ""
           }
          },
          "colorscale": {
           "diverging": [
            [
             0,
             "#8e0152"
            ],
            [
             0.1,
             "#c51b7d"
            ],
            [
             0.2,
             "#de77ae"
            ],
            [
             0.3,
             "#f1b6da"
            ],
            [
             0.4,
             "#fde0ef"
            ],
            [
             0.5,
             "#f7f7f7"
            ],
            [
             0.6,
             "#e6f5d0"
            ],
            [
             0.7,
             "#b8e186"
            ],
            [
             0.8,
             "#7fbc41"
            ],
            [
             0.9,
             "#4d9221"
            ],
            [
             1,
             "#276419"
            ]
           ],
           "sequential": [
            [
             0,
             "#0d0887"
            ],
            [
             0.1111111111111111,
             "#46039f"
            ],
            [
             0.2222222222222222,
             "#7201a8"
            ],
            [
             0.3333333333333333,
             "#9c179e"
            ],
            [
             0.4444444444444444,
             "#bd3786"
            ],
            [
             0.5555555555555556,
             "#d8576b"
            ],
            [
             0.6666666666666666,
             "#ed7953"
            ],
            [
             0.7777777777777778,
             "#fb9f3a"
            ],
            [
             0.8888888888888888,
             "#fdca26"
            ],
            [
             1,
             "#f0f921"
            ]
           ],
           "sequentialminus": [
            [
             0,
             "#0d0887"
            ],
            [
             0.1111111111111111,
             "#46039f"
            ],
            [
             0.2222222222222222,
             "#7201a8"
            ],
            [
             0.3333333333333333,
             "#9c179e"
            ],
            [
             0.4444444444444444,
             "#bd3786"
            ],
            [
             0.5555555555555556,
             "#d8576b"
            ],
            [
             0.6666666666666666,
             "#ed7953"
            ],
            [
             0.7777777777777778,
             "#fb9f3a"
            ],
            [
             0.8888888888888888,
             "#fdca26"
            ],
            [
             1,
             "#f0f921"
            ]
           ]
          },
          "colorway": [
           "#636efa",
           "#EF553B",
           "#00cc96",
           "#ab63fa",
           "#FFA15A",
           "#19d3f3",
           "#FF6692",
           "#B6E880",
           "#FF97FF",
           "#FECB52"
          ],
          "font": {
           "color": "#2a3f5f"
          },
          "geo": {
           "bgcolor": "white",
           "lakecolor": "white",
           "landcolor": "#E5ECF6",
           "showlakes": true,
           "showland": true,
           "subunitcolor": "white"
          },
          "hoverlabel": {
           "align": "left"
          },
          "hovermode": "closest",
          "mapbox": {
           "style": "light"
          },
          "paper_bgcolor": "white",
          "plot_bgcolor": "#E5ECF6",
          "polar": {
           "angularaxis": {
            "gridcolor": "white",
            "linecolor": "white",
            "ticks": ""
           },
           "bgcolor": "#E5ECF6",
           "radialaxis": {
            "gridcolor": "white",
            "linecolor": "white",
            "ticks": ""
           }
          },
          "scene": {
           "xaxis": {
            "backgroundcolor": "#E5ECF6",
            "gridcolor": "white",
            "gridwidth": 2,
            "linecolor": "white",
            "showbackground": true,
            "ticks": "",
            "zerolinecolor": "white"
           },
           "yaxis": {
            "backgroundcolor": "#E5ECF6",
            "gridcolor": "white",
            "gridwidth": 2,
            "linecolor": "white",
            "showbackground": true,
            "ticks": "",
            "zerolinecolor": "white"
           },
           "zaxis": {
            "backgroundcolor": "#E5ECF6",
            "gridcolor": "white",
            "gridwidth": 2,
            "linecolor": "white",
            "showbackground": true,
            "ticks": "",
            "zerolinecolor": "white"
           }
          },
          "shapedefaults": {
           "line": {
            "color": "#2a3f5f"
           }
          },
          "ternary": {
           "aaxis": {
            "gridcolor": "white",
            "linecolor": "white",
            "ticks": ""
           },
           "baxis": {
            "gridcolor": "white",
            "linecolor": "white",
            "ticks": ""
           },
           "bgcolor": "#E5ECF6",
           "caxis": {
            "gridcolor": "white",
            "linecolor": "white",
            "ticks": ""
           }
          },
          "title": {
           "x": 0.05
          },
          "xaxis": {
           "automargin": true,
           "gridcolor": "white",
           "linecolor": "white",
           "ticks": "",
           "title": {
            "standoff": 15
           },
           "zerolinecolor": "white",
           "zerolinewidth": 2
          },
          "yaxis": {
           "automargin": true,
           "gridcolor": "white",
           "linecolor": "white",
           "ticks": "",
           "title": {
            "standoff": 15
           },
           "zerolinecolor": "white",
           "zerolinewidth": 2
          }
         }
        },
        "title": {
         "text": "Distribution of song data"
        },
        "xaxis": {
         "anchor": "y",
         "domain": [
          0,
          0.2125
         ],
         "title": {
          "text": "Value"
         }
        },
        "xaxis10": {
         "anchor": "y10",
         "domain": [
          0.2625,
          0.475
         ]
        },
        "xaxis11": {
         "anchor": "y11",
         "domain": [
          0.525,
          0.7375
         ]
        },
        "xaxis12": {
         "anchor": "y12",
         "domain": [
          0.7875,
          1
         ]
        },
        "xaxis2": {
         "anchor": "y2",
         "domain": [
          0.2625,
          0.475
         ]
        },
        "xaxis3": {
         "anchor": "y3",
         "domain": [
          0.525,
          0.7375
         ]
        },
        "xaxis4": {
         "anchor": "y4",
         "domain": [
          0.7875,
          1
         ]
        },
        "xaxis5": {
         "anchor": "y5",
         "domain": [
          0,
          0.2125
         ]
        },
        "xaxis6": {
         "anchor": "y6",
         "domain": [
          0.2625,
          0.475
         ]
        },
        "xaxis7": {
         "anchor": "y7",
         "domain": [
          0.525,
          0.7375
         ]
        },
        "xaxis8": {
         "anchor": "y8",
         "domain": [
          0.7875,
          1
         ]
        },
        "xaxis9": {
         "anchor": "y9",
         "domain": [
          0,
          0.2125
         ]
        },
        "yaxis": {
         "anchor": "x",
         "domain": [
          0.7333333333333333,
          1
         ],
         "title": {
          "text": "Count"
         }
        },
        "yaxis10": {
         "anchor": "x10",
         "domain": [
          0,
          0.26666666666666666
         ]
        },
        "yaxis11": {
         "anchor": "x11",
         "domain": [
          0,
          0.26666666666666666
         ]
        },
        "yaxis12": {
         "anchor": "x12",
         "domain": [
          0,
          0.26666666666666666
         ]
        },
        "yaxis2": {
         "anchor": "x2",
         "domain": [
          0.7333333333333333,
          1
         ]
        },
        "yaxis3": {
         "anchor": "x3",
         "domain": [
          0.7333333333333333,
          1
         ]
        },
        "yaxis4": {
         "anchor": "x4",
         "domain": [
          0.7333333333333333,
          1
         ]
        },
        "yaxis5": {
         "anchor": "x5",
         "domain": [
          0.36666666666666664,
          0.6333333333333333
         ]
        },
        "yaxis6": {
         "anchor": "x6",
         "domain": [
          0.36666666666666664,
          0.6333333333333333
         ]
        },
        "yaxis7": {
         "anchor": "x7",
         "domain": [
          0.36666666666666664,
          0.6333333333333333
         ]
        },
        "yaxis8": {
         "anchor": "x8",
         "domain": [
          0.36666666666666664,
          0.6333333333333333
         ]
        },
        "yaxis9": {
         "anchor": "x9",
         "domain": [
          0,
          0.26666666666666666
         ]
        }
       }
      }
     },
     "metadata": {},
     "output_type": "display_data"
    }
   ],
   "source": [
    "from plotly.subplots import make_subplots\n",
    "import plotly.graph_objects as go\n",
    "\n",
    "fig = make_subplots(rows=3, cols=4)\n",
    "\n",
    "fig.add_trace(\n",
    "    go.Histogram(x=df_hist['length'], name='Length'),\n",
    "    row=1, col=1\n",
    ")\n",
    "fig.add_trace(\n",
    "    go.Histogram(x=df_hist['popularity'], name='Popularity'),\n",
    "    row=1, col=2\n",
    ")\n",
    "fig.add_trace(\n",
    "    go.Histogram(x=df_hist['danceability'], name='Danceability'),\n",
    "    row=1, col=3\n",
    ")\n",
    "fig.add_trace(\n",
    "    go.Histogram(x=df_hist['acousticness'], name='Acousticness'),\n",
    "    row=1, col=4\n",
    ")\n",
    "fig.add_trace(\n",
    "    go.Histogram(x=df_hist['energy'], name='Energy'),\n",
    "    row=2, col=1\n",
    ")\n",
    "fig.add_trace(\n",
    "    go.Histogram(x=df_hist['instrumentalness'], name='Instrumentalness'),\n",
    "    row=2, col=2\n",
    ")\n",
    "fig.add_trace(\n",
    "    go.Histogram(x=df_hist['liveness'], name='Liveness'),\n",
    "    row=2, col=3\n",
    ")\n",
    "fig.add_trace(\n",
    "    go.Histogram(x=df_hist['loudness'], name='Loudness'),\n",
    "    row=2, col=4\n",
    ")\n",
    "fig.add_trace(\n",
    "    go.Histogram(x=df_hist['speechiness'], name='Speechiness'),\n",
    "    row=3, col=1\n",
    ")\n",
    "fig.add_trace(\n",
    "    go.Histogram(x=df_hist['valence'], name='Valence'),\n",
    "    row=3, col=2\n",
    ")\n",
    "fig.add_trace(\n",
    "    go.Histogram(x=df_hist['tempo'], name='Tempo', marker_color='#EB89B5'),\n",
    "    row=3, col=3\n",
    ")\n",
    "fig.add_trace(\n",
    "    go.Histogram(x=df_hist['release_year'], name='Year', marker_color='#330C73'),\n",
    "    row=3, col=4\n",
    ")\n",
    "fig.update_layout(\n",
    "    title='Distribution of song data',\n",
    "    xaxis_title_text='Value', # xaxis label\n",
    "    yaxis_title_text='Count', # yaxis label\n",
    "    bargap=0.2, # gap between bars of adjacent location coordinates\n",
    "    bargroupgap=0.1 # gap between bars of the same location coordinates\n",
    ")\n"
   ]
  },
  {
   "cell_type": "code",
   "execution_count": 18,
   "id": "e5740308",
   "metadata": {},
   "outputs": [],
   "source": [
    "# # return to matplotlib\n",
    "# pd.options.plotting.backend = \"matplotlib\"\n",
    "\n",
    "\n",
    "# df.hist(figsize=(15,15), color='lavender', edgecolor='indigo', linewidth=2)\n",
    "# plt.show()"
   ]
  },
  {
   "cell_type": "markdown",
   "id": "740c5a99",
   "metadata": {},
   "source": [
    "\n",
    "#### From looking at the distribution of all the features, we can identify a few key values.\n",
    "1.  The `instrumentalness` and `speechiness` features are very skewed towards 0. These features do not seem that interesting or relevant to explore further due to this.\n",
    "2. add others lol\n",
    "3. She by far released the most songs in 2020, when two albums (folklore and evermore) were released.\n"
   ]
  },
  {
   "cell_type": "markdown",
   "id": "e51c1ec5",
   "metadata": {},
   "source": [
    "**How do the features relate to one another?**\n",
    "\n",
    "We start with scatter plots for all pairs of attributes that we kept in `df_hist`, and then we show a correlation matrix."
   ]
  },
  {
   "cell_type": "code",
   "execution_count": 19,
   "id": "775a7de1",
   "metadata": {},
   "outputs": [
    {
     "data": {
      "application/vnd.plotly.v1+json": {
       "config": {
        "plotlyServerURL": "https://plot.ly"
       },
       "data": [
        {
         "dimensions": [
          {
           "axis": {
            "matches": true
           },
           "label": "length",
           "values": [
            173,
            201,
            242,
            232,
            199,
            239,
            207,
            248,
            236,
            213,
            213,
            203,
            220,
            179,
            203,
            231,
            234,
            242,
            294,
            237,
            311,
            268,
            238,
            261,
            238,
            254,
            264,
            201,
            262,
            244,
            225,
            245,
            281,
            238,
            266,
            241,
            238,
            231,
            261,
            293,
            404,
            290,
            352,
            217,
            302,
            242,
            367,
            317,
            235,
            276,
            293,
            218,
            230,
            192,
            218,
            230,
            328,
            295,
            221,
            241,
            243,
            205,
            298,
            202,
            284,
            244,
            218,
            238,
            223,
            220,
            240,
            286,
            323,
            240,
            226,
            232,
            219,
            231,
            236,
            220,
            213,
            193,
            207,
            212,
            248,
            250,
            196,
            271,
            246,
            267,
            230,
            208,
            245,
            212,
            232,
            234,
            210,
            238,
            236,
            228,
            214,
            212,
            230,
            207,
            204,
            235,
            190,
            171,
            178,
            221,
            190,
            211,
            173,
            234,
            222,
            287,
            199,
            190,
            202,
            200,
            171,
            223,
            193,
            150,
            293,
            240,
            286,
            295,
            262,
            195,
            210,
            231,
            256,
            209,
            209,
            191,
            253,
            237,
            290,
            234,
            220,
            215,
            244,
            185,
            230,
            245,
            216,
            315,
            226,
            275,
            260,
            275,
            216,
            258,
            181,
            304,
            245,
            255
           ]
          },
          {
           "axis": {
            "matches": true
           },
           "label": "popularity",
           "values": [
            64,
            68,
            61,
            62,
            51,
            51,
            48,
            49,
            50,
            53,
            53,
            49,
            46,
            50,
            64,
            54,
            46,
            47,
            47,
            46,
            45,
            46,
            44,
            42,
            44,
            44,
            48,
            42,
            44,
            46,
            46,
            42,
            41,
            54,
            55,
            53,
            56,
            56,
            57,
            56,
            60,
            55,
            55,
            64,
            49,
            55,
            56,
            54,
            52,
            49,
            52,
            48,
            46,
            60,
            61,
            63,
            69,
            60,
            62,
            59,
            59,
            58,
            59,
            59,
            56,
            58,
            57,
            57,
            57,
            53,
            58,
            56,
            54,
            51,
            51,
            61,
            58,
            61,
            60,
            59,
            55,
            57,
            58,
            56,
            58,
            57,
            58,
            60,
            60,
            59,
            65,
            73,
            71,
            77,
            77,
            75,
            71,
            73,
            72,
            65,
            68,
            67,
            68,
            68,
            70,
            66,
            76,
            73,
            77,
            77,
            76,
            68,
            69,
            69,
            74,
            70,
            70,
            71,
            65,
            67,
            80,
            68,
            78,
            64,
            67,
            80,
            78,
            72,
            75,
            70,
            76,
            71,
            71,
            70,
            69,
            70,
            71,
            67,
            67,
            67,
            67,
            66,
            67,
            65,
            65,
            64,
            64,
            63,
            63,
            63,
            64,
            63,
            63,
            62,
            61,
            63,
            70,
            67
           ]
          },
          {
           "axis": {
            "matches": true
           },
           "label": "danceability",
           "values": [
            0.658,
            0.668,
            0.476,
            0.58,
            0.576,
            0.418,
            0.589,
            0.479,
            0.594,
            0.403,
            0.563,
            0.612,
            0.483,
            0.459,
            0.621,
            0.687,
            0.585,
            0.598,
            0.559,
            0.618,
            0.419,
            0.592,
            0.527,
            0.61,
            0.476,
            0.843,
            0.498,
            0.601,
            0.459,
            0.436,
            0.605,
            0.664,
            0.548,
            0.568,
            0.543,
            0.709,
            0.608,
            0.624,
            0.605,
            0.529,
            0.589,
            0.714,
            0.455,
            0.516,
            0.552,
            0.436,
            0.371,
            0.418,
            0.511,
            0.582,
            0.541,
            0.563,
            0.695,
            0.628,
            0.622,
            0.658,
            0.602,
            0.588,
            0.602,
            0.705,
            0.567,
            0.729,
            0.505,
            0.627,
            0.624,
            0.624,
            0.649,
            0.53,
            0.483,
            0.733,
            0.706,
            0.62,
            0.626,
            0.828,
            0.678,
            0.76,
            0.647,
            0.588,
            0.553,
            0.55,
            0.789,
            0.605,
            0.653,
            0.646,
            0.765,
            0.481,
            0.602,
            0.815,
            0.422,
            0.474,
            0.633,
            0.613,
            0.649,
            0.766,
            0.75,
            0.562,
            0.8,
            0.696,
            0.615,
            0.574,
            0.675,
            0.624,
            0.719,
            0.567,
            0.598,
            0.661,
            0.777,
            0.664,
            0.552,
            0.359,
            0.777,
            0.292,
            0.897,
            0.662,
            0.811,
            0.824,
            0.712,
            0.695,
            0.433,
            0.739,
            0.771,
            0.756,
            0.61,
            0.737,
            0.557,
            0.613,
            0.298,
            0.593,
            0.532,
            0.515,
            0.777,
            0.686,
            0.456,
            0.553,
            0.596,
            0.559,
            0.653,
            0.592,
            0.354,
            0.647,
            0.662,
            0.392,
            0.462,
            0.512,
            0.575,
            0.316,
            0.546,
            0.559,
            0.605,
            0.537,
            0.515,
            0.604,
            0.546,
            0.535,
            0.689,
            0.39,
            0.581,
            0.592
           ]
          },
          {
           "axis": {
            "matches": true
           },
           "label": "acousticness",
           "values": [
            0.173,
            0.111,
            0.0103,
            0.575,
            0.051,
            0.217,
            0.00491,
            0.525,
            0.0868,
            0.0177,
            0.00452,
            0.637,
            0.00349,
            0.0402,
            0.288,
            0.164,
            0.302,
            0.0364,
            0.0728,
            0.111,
            0.0583,
            0.852,
            0.0868,
            0.367,
            0.169,
            0.168,
            0.373,
            0.0606,
            0.13,
            0.0322,
            0.0907,
            0.611,
            0.00471,
            0.452,
            0.00478,
            0.095,
            0.537,
            0.00265,
            0.0396,
            0.117,
            0.166,
            0.819,
            0.0739,
            0.0139,
            0.186,
            0.0826,
            0.57,
            0.036,
            0.166,
            0.0268,
            0.748,
            0.842,
            0.00727,
            0.00957,
            0.00454,
            0.00215,
            0.0382,
            0.000197,
            0.0773,
            0.101,
            0.0173,
            0.307,
            0.035,
            0.0162,
            0.632,
            0.36,
            0.0213,
            0.199,
            0.00471,
            0.272,
            0.0371,
            0.187,
            0.664,
            0.175,
            0.113,
            0.103,
            0.0647,
            0.00245,
            0.000743,
            0.0692,
            0.0348,
            0.00201,
            0.0158,
            0.0885,
            0.00364,
            0.678,
            0.245,
            0.232,
            0.0493,
            0.707,
            0.00463,
            0.0527,
            0.00845,
            0.204,
            0.216,
            0.00465,
            0.0713,
            0.0679,
            0.106,
            0.122,
            0.00882,
            0.0604,
            0.0329,
            0.0156,
            0.186,
            0.921,
            0.0767,
            0.298,
            0.117,
            0.492,
            0.0767,
            0.12,
            0.00889,
            0.028,
            0.0129,
            0.781,
            0.454,
            0.0246,
            0.907,
            0.736,
            0.00929,
            0.13,
            0.033,
            0.971,
            0.808,
            0.537,
            0.778,
            0.6,
            0.538,
            0.314,
            0.757,
            0.467,
            0.806,
            0.687,
            0.9,
            0.881,
            0.838,
            0.655,
            0.731,
            0.918,
            0.966,
            0.833,
            0.92,
            0.83,
            0.735,
            0.878,
            0.418,
            0.87,
            0.696,
            0.819,
            0.855,
            0.768,
            0.66,
            0.876,
            0.835,
            0.937,
            0.769,
            0.801
           ]
          },
          {
           "axis": {
            "matches": true
           },
           "label": "energy",
           "values": [
            0.877,
            0.672,
            0.777,
            0.491,
            0.777,
            0.482,
            0.805,
            0.578,
            0.629,
            0.627,
            0.934,
            0.394,
            0.751,
            0.753,
            0.417,
            0.771,
            0.346,
            0.714,
            0.636,
            0.687,
            0.454,
            0.16,
            0.475,
            0.531,
            0.816,
            0.553,
            0.486,
            0.852,
            0.459,
            0.712,
            0.829,
            0.447,
            0.756,
            0.761,
            0.818,
            0.599,
            0.569,
            0.757,
            0.787,
            0.67,
            0.47,
            0.305,
            0.623,
            0.917,
            0.608,
            0.95,
            0.341,
            0.68,
            0.719,
            0.765,
            0.453,
            0.443,
            0.723,
            0.676,
            0.469,
            0.729,
            0.609,
            0.825,
            0.896,
            0.621,
            0.481,
            0.748,
            0.443,
            0.816,
            0.34,
            0.458,
            0.777,
            0.526,
            0.548,
            0.59,
            0.499,
            0.506,
            0.118,
            0.64,
            0.902,
            0.703,
            0.8,
            0.791,
            0.841,
            0.688,
            0.634,
            0.725,
            0.893,
            0.794,
            0.656,
            0.435,
            0.755,
            0.377,
            0.692,
            0.48,
            0.889,
            0.764,
            0.589,
            0.709,
            0.404,
            0.689,
            0.535,
            0.602,
            0.534,
            0.61,
            0.703,
            0.691,
            0.469,
            0.789,
            0.504,
            0.151,
            0.658,
            0.316,
            0.702,
            0.543,
            0.658,
            0.574,
            0.366,
            0.747,
            0.719,
            0.624,
            0.732,
            0.71,
            0.182,
            0.32,
            0.671,
            0.449,
            0.83,
            0.175,
            0.496,
            0.581,
            0.38,
            0.377,
            0.623,
            0.476,
            0.357,
            0.662,
            0.263,
            0.413,
            0.488,
            0.31,
            0.452,
            0.699,
            0.267,
            0.272,
            0.181,
            0.574,
            0.24,
            0.462,
            0.434,
            0.361,
            0.613,
            0.334,
            0.488,
            0.537,
            0.545,
            0.517,
            0.73,
            0.561,
            0.704,
            0.27,
            0.619,
            0.41
           ]
          },
          {
           "axis": {
            "matches": true
           },
           "label": "instrumentalness",
           "values": [
            0,
            0,
            0,
            0,
            0,
            0,
            0,
            0,
            0,
            0,
            0.000807,
            0,
            0,
            0,
            0,
            0.0000246,
            0,
            0.00000104,
            0,
            0,
            0.00000378,
            0,
            0.00000434,
            0,
            0,
            0.00000266,
            0,
            0.00000341,
            0.0000023,
            0,
            0,
            0.000001,
            0,
            0,
            0.000368,
            0,
            0,
            0.00000187,
            0.00000142,
            0,
            0.00000145,
            0,
            0.000424,
            0.00000637,
            0,
            0.00000108,
            0.0000309,
            0.0000759,
            0.00000454,
            0.00000195,
            0,
            0,
            0.0000012,
            0.0000265,
            0.00000225,
            0.0013,
            0.0002,
            0.00138,
            0.0000887,
            0.0000043,
            0.0000413,
            0.00000129,
            0.00000315,
            0.00208,
            0.0337,
            0.00000389,
            0.000335,
            0.00000352,
            0.00000201,
            0,
            0,
            0.0000147,
            0.000169,
            0.0000614,
            0.000235,
            0,
            0,
            0.00258,
            0.0000119,
            0.00144,
            0.00000164,
            0.0000202,
            0.0000495,
            0.00000616,
            0.00868,
            0,
            0,
            0,
            0.0000257,
            0.000108,
            0.000458,
            0,
            0,
            0.0000141,
            0.000357,
            0.00000223,
            0.00000948,
            0.0000211,
            0.0000176,
            0.0000011,
            0.00000221,
            0.000011,
            0,
            0,
            0.000221,
            0,
            0,
            0.00000203,
            0.0000206,
            0.0000158,
            0,
            0.00569,
            0.000353,
            0.00615,
            0.0000136,
            0.000189,
            0,
            0.000104,
            0,
            0.000147,
            0,
            0,
            0,
            0.000337,
            0.000173,
            0.000345,
            0.0000562,
            0,
            0.0000728,
            0.0000474,
            0.00000728,
            0.0023,
            0,
            0.00000233,
            0.000027,
            0,
            0.0000773,
            0.0000168,
            0.000402,
            0.0000173,
            0.00000386,
            0.00179,
            0,
            0.166,
            0.0000659,
            0.0000267,
            0,
            0,
            0,
            0.000904,
            0.0000197,
            0.000155,
            0.179,
            0.000136,
            0.00000483,
            0.00227,
            0.000106,
            0.0000139
           ]
          },
          {
           "axis": {
            "matches": true
           },
           "label": "liveness",
           "values": [
            0.0962,
            0.329,
            0.196,
            0.121,
            0.32,
            0.123,
            0.24,
            0.0841,
            0.137,
            0.182,
            0.103,
            0.147,
            0.128,
            0.0863,
            0.119,
            0.112,
            0.102,
            0.31,
            0.144,
            0.0693,
            0.0974,
            0.116,
            0.248,
            0.351,
            0.238,
            0.107,
            0.113,
            0.37,
            0.113,
            0.111,
            0.106,
            0.139,
            0.117,
            0.217,
            0.0357,
            0.0973,
            0.097,
            0.189,
            0.163,
            0.334,
            0.112,
            0.174,
            0.146,
            0.36,
            0.125,
            0.149,
            0.101,
            0.114,
            0.34,
            0.103,
            0.2,
            0.293,
            0.1,
            0.102,
            0.0398,
            0.0752,
            0.127,
            0.0885,
            0.091,
            0.147,
            0.182,
            0.09,
            0.0921,
            0.0966,
            0.121,
            0.303,
            0.221,
            0.232,
            0.0997,
            0.136,
            0.132,
            0.102,
            0.127,
            0.0996,
            0.0722,
            0.0913,
            0.334,
            0.118,
            0.341,
            0.106,
            0.302,
            0.101,
            0.102,
            0.201,
            0.0918,
            0.0928,
            0.178,
            0.1,
            0.177,
            0.0903,
            0.0658,
            0.197,
            0.108,
            0.126,
            0.0911,
            0.0888,
            0.213,
            0.0696,
            0.0607,
            0.13,
            0.0391,
            0.138,
            0.169,
            0.382,
            0.34,
            0.13,
            0.0901,
            0.0812,
            0.105,
            0.118,
            0.0901,
            0.0663,
            0.0715,
            0.138,
            0.0742,
            0.1,
            0.319,
            0.133,
            0.123,
            0.111,
            0.0637,
            0.114,
            0.118,
            0.171,
            0.0772,
            0.25,
            0.11,
            0.0976,
            0.0925,
            0.171,
            0.108,
            0.109,
            0.0749,
            0.0594,
            0.091,
            0.106,
            0.108,
            0.114,
            0.0858,
            0.0918,
            0.133,
            0.145,
            0.113,
            0.121,
            0.105,
            0.0797,
            0.103,
            0.114,
            0.129,
            0.142,
            0.0921,
            0.123,
            0.0972,
            0.115,
            0.134,
            0.111,
            0.117,
            0.09
           ]
          },
          {
           "axis": {
            "matches": true
           },
           "label": "loudness",
           "values": [
            -2.098,
            -4.931,
            -3.771,
            -6.462,
            -2.881,
            -5.769,
            -4.055,
            -4.963,
            -4.919,
            -5.28,
            -3.629,
            -5.723,
            -5.726,
            -3.827,
            -6.941,
            -4.424,
            -8.014,
            -4.397,
            -4.4,
            -5.737,
            -6.809,
            -10.785,
            -6.205,
            -6.123,
            -4.279,
            -7.348,
            -7.384,
            -3.096,
            -4.126,
            -3.689,
            -4.993,
            -8.535,
            -4.175,
            -3.987,
            -3.611,
            -3.734,
            -7.227,
            -2.94,
            -3.002,
            -4.663,
            -5.32,
            -8.837,
            -3.878,
            -3.186,
            -5.29,
            -2.627,
            -9.475,
            -4.3,
            -3.457,
            -3.648,
            -6.459,
            -5.078,
            -3.806,
            -5.911,
            -6.798,
            -6.561,
            -7.803,
            -5.882,
            -4.267,
            -8.086,
            -7.357,
            -6.67,
            -7.039,
            -6.698,
            -12.411,
            -6.755,
            -5.804,
            -8.349,
            -6.291,
            -5.86,
            -7.675,
            -7.327,
            -15.91,
            -8.248,
            -4.659,
            -5.412,
            -5.384,
            -5.595,
            -6.937,
            -7.416,
            -4.762,
            -5.729,
            -5.966,
            -6.104,
            -6.112,
            -8.795,
            -4.991,
            -7.754,
            -5.447,
            -8.894,
            -5.87,
            -6.509,
            -6.237,
            -6.471,
            -10.178,
            -6.745,
            -6.684,
            -6.156,
            -6.719,
            -7.283,
            -7.902,
            -6.686,
            -8.792,
            -5.986,
            -9.874,
            -12.864,
            -5.191,
            -10.345,
            -5.707,
            -7.582,
            -5.191,
            -9.375,
            -8.029,
            -6.926,
            -6.553,
            -9.728,
            -6.754,
            -6.639,
            -12.566,
            -10.862,
            -5.617,
            -8.746,
            -4.105,
            -9.912,
            -9.602,
            -8.588,
            -8.426,
            -8.761,
            -9.208,
            -9.843,
            -6.942,
            -8.505,
            -10.63,
            -10.037,
            -10.769,
            -10.445,
            -11.143,
            -8.995,
            -13.69,
            -12.906,
            -15.065,
            -9.195,
            -12.077,
            -10.491,
            -8.193,
            -10.381,
            -7.589,
            -10.733,
            -8.322,
            -11.266,
            -9.277,
            -9.014,
            -7.704,
            -11.609,
            -10.813,
            -10.673,
            -6.524,
            -12.426
           ]
          },
          {
           "axis": {
            "matches": true
           },
           "label": "speechiness",
           "values": [
            0.0323,
            0.0303,
            0.0289,
            0.0251,
            0.0324,
            0.0266,
            0.0293,
            0.0294,
            0.0246,
            0.0292,
            0.0646,
            0.0243,
            0.0365,
            0.0537,
            0.0231,
            0.0384,
            0.0256,
            0.0273,
            0.0263,
            0.0271,
            0.0335,
            0.0347,
            0.0258,
            0.0239,
            0.0347,
            0.0317,
            0.0273,
            0.0386,
            0.0275,
            0.0329,
            0.0549,
            0.0292,
            0.036,
            0.0459,
            0.0398,
            0.0304,
            0.0284,
            0.0296,
            0.0308,
            0.0303,
            0.028,
            0.0305,
            0.0288,
            0.0827,
            0.0259,
            0.057,
            0.0319,
            0.0347,
            0.0265,
            0.0324,
            0.0266,
            0.0247,
            0.0285,
            0.0916,
            0.0363,
            0.0378,
            0.0243,
            0.0328,
            0.0437,
            0.0334,
            0.027,
            0.0245,
            0.0276,
            0.0774,
            0.029,
            0.0287,
            0.0406,
            0.0263,
            0.0254,
            0.0284,
            0.0369,
            0.0312,
            0.0305,
            0.0355,
            0.0358,
            0.054,
            0.165,
            0.0402,
            0.0396,
            0.0897,
            0.0323,
            0.0323,
            0.0538,
            0.19,
            0.0504,
            0.0321,
            0.071,
            0.0346,
            0.0549,
            0.0622,
            0.0715,
            0.136,
            0.0558,
            0.123,
            0.0682,
            0.127,
            0.135,
            0.159,
            0.0386,
            0.0732,
            0.0382,
            0.196,
            0.0533,
            0.115,
            0.0731,
            0.0354,
            0.054,
            0.519,
            0.157,
            0.0919,
            0.054,
            0.0401,
            0.0569,
            0.0736,
            0.0497,
            0.0827,
            0.0629,
            0.05,
            0.0641,
            0.239,
            0.0553,
            0.0344,
            0.0571,
            0.0401,
            0.0563,
            0.0424,
            0.0287,
            0.0253,
            0.0331,
            0.0328,
            0.0522,
            0.0413,
            0.0332,
            0.0334,
            0.0274,
            0.0338,
            0.055,
            0.0471,
            0.0281,
            0.0916,
            0.0415,
            0.17,
            0.0377,
            0.0408,
            0.0312,
            0.0488,
            0.0264,
            0.0376,
            0.0264,
            0.0617,
            0.0353,
            0.0347,
            0.0417,
            0.0484,
            0.245,
            0.0308,
            0.0282,
            0.0397
           ]
          },
          {
           "axis": {
            "matches": true
           },
           "label": "valence",
           "values": [
            0.821,
            0.539,
            0.472,
            0.425,
            0.428,
            0.261,
            0.591,
            0.192,
            0.504,
            0.374,
            0.518,
            0.233,
            0.268,
            0.483,
            0.289,
            0.445,
            0.195,
            0.467,
            0.214,
            0.82,
            0.288,
            0.294,
            0.224,
            0.228,
            0.469,
            0.825,
            0.17,
            0.513,
            0.281,
            0.379,
            0.514,
            0.364,
            0.224,
            0.789,
            0.683,
            0.735,
            0.238,
            0.658,
            0.374,
            0.286,
            0.102,
            0.554,
            0.208,
            0.635,
            0.17,
            0.352,
            0.196,
            0.142,
            0.289,
            0.559,
            0.377,
            0.313,
            0.679,
            0.75,
            0.679,
            0.668,
            0.337,
            0.397,
            0.641,
            0.395,
            0.233,
            0.928,
            0.123,
            0.648,
            0.261,
            0.436,
            0.587,
            0.323,
            0.217,
            0.633,
            0.545,
            0.275,
            0.0682,
            0.519,
            0.637,
            0.57,
            0.942,
            0.487,
            0.338,
            0.465,
            0.658,
            0.539,
            0.513,
            0.287,
            0.545,
            0.107,
            0.495,
            0.211,
            0.197,
            0.319,
            0.584,
            0.417,
            0.151,
            0.506,
            0.0499,
            0.351,
            0.451,
            0.305,
            0.193,
            0.374,
            0.314,
            0.284,
            0.0851,
            0.438,
            0.252,
            0.23,
            0.633,
            0.541,
            0.564,
            0.453,
            0.633,
            0.166,
            0.416,
            0.487,
            0.865,
            0.248,
            0.313,
            0.557,
            0.421,
            0.351,
            0.714,
            0.399,
            0.728,
            0.545,
            0.265,
            0.551,
            0.152,
            0.502,
            0.403,
            0.412,
            0.172,
            0.706,
            0.111,
            0.379,
            0.415,
            0.46,
            0.45,
            0.506,
            0.113,
            0.339,
            0.429,
            0.529,
            0.32,
            0.353,
            0.348,
            0.221,
            0.535,
            0.211,
            0.354,
            0.292,
            0.535,
            0.511,
            0.573,
            0.287,
            0.92,
            0.32,
            0.645,
            0.416
           ]
          },
          {
           "axis": {
            "matches": true
           },
           "label": "tempo",
           "values": [
            105.586,
            89.011,
            167.964,
            76.009,
            115.028,
            175.558,
            112.982,
            146.165,
            131.597,
            74.9,
            143.964,
            96.001,
            156.092,
            199.997,
            99.953,
            129.964,
            92.564,
            99.979,
            95.485,
            79.991,
            200.017,
            118.929,
            143.962,
            85.979,
            163.847,
            115.997,
            147.952,
            100.015,
            134.018,
            160.886,
            128.012,
            126.079,
            96.038,
            163.974,
            139.898,
            118.975,
            159.845,
            121.07,
            114.987,
            141.893,
            119.386,
            124.91,
            163.893,
            145.821,
            134.05,
            162.088,
            89.038,
            204.12,
            147.852,
            131.982,
            141.757,
            80.962,
            121.011,
            85.984,
            77.019,
            104.007,
            93.06,
            129.968,
            124.978,
            109.993,
            145.865,
            99.981,
            94.069,
            157.043,
            129.987,
            80.017,
            126.018,
            79.025,
            79.926,
            125.048,
            117.937,
            126.015,
            105.597,
            109.993,
            124.998,
            95.997,
            160.078,
            94.933,
            92.008,
            139.997,
            116.992,
            96.97,
            118.035,
            170.216,
            119.997,
            143.95,
            159.965,
            103.97,
            184.014,
            170.109,
            121.956,
            160.015,
            159.073,
            128.07,
            95.045,
            172.054,
            92.027,
            82.989,
            135.917,
            74.957,
            110.01,
            160.024,
            120.085,
            163.96,
            163.954,
            94.922,
            110.048,
            92.875,
            169.994,
            68.534,
            110.048,
            124.344,
            100.003,
            150.088,
            103.979,
            102.012,
            94.071,
            157.925,
            207.476,
            79.97,
            85.026,
            111.011,
            182.162,
            70.008,
            149.983,
            130.033,
            75.602,
            95.939,
            89.937,
            135.886,
            139.883,
            147.922,
            129.86,
            110.107,
            94.926,
            119.845,
            83.433,
            141.916,
            94.219,
            150.044,
            118.819,
            81.112,
            171.319,
            112.05,
            145.916,
            74.952,
            79.015,
            122.079,
            119.966,
            107.895,
            88.856,
            127.967,
            157.895,
            96.103,
            151.884,
            125.177,
            137.915,
            151.923
           ]
          },
          {
           "axis": {
            "matches": true
           },
           "label": "release_year",
           "values": [
            2006,
            2006,
            2006,
            2006,
            2006,
            2006,
            2006,
            2006,
            2006,
            2006,
            2006,
            2006,
            2006,
            2006,
            2006,
            2008,
            2008,
            2008,
            2008,
            2008,
            2008,
            2008,
            2008,
            2008,
            2008,
            2008,
            2008,
            2008,
            2008,
            2008,
            2008,
            2008,
            2008,
            2010,
            2010,
            2010,
            2010,
            2010,
            2010,
            2010,
            2010,
            2010,
            2010,
            2010,
            2010,
            2010,
            2010,
            2010,
            2010,
            2010,
            2010,
            2010,
            2010,
            2012,
            2012,
            2012,
            2012,
            2012,
            2012,
            2012,
            2012,
            2012,
            2012,
            2012,
            2012,
            2012,
            2012,
            2012,
            2012,
            2012,
            2012,
            2012,
            2012,
            2012,
            2012,
            2014,
            2014,
            2014,
            2014,
            2014,
            2014,
            2014,
            2014,
            2014,
            2014,
            2014,
            2014,
            2014,
            2014,
            2014,
            2014,
            2017,
            2017,
            2017,
            2017,
            2017,
            2017,
            2017,
            2017,
            2017,
            2017,
            2017,
            2017,
            2017,
            2017,
            2017,
            2019,
            2019,
            2019,
            2019,
            2019,
            2019,
            2019,
            2019,
            2019,
            2019,
            2019,
            2019,
            2019,
            2019,
            2019,
            2019,
            2019,
            2019,
            2019,
            2020,
            2020,
            2020,
            2020,
            2020,
            2020,
            2020,
            2020,
            2020,
            2020,
            2020,
            2020,
            2020,
            2020,
            2020,
            2020,
            2021,
            2021,
            2021,
            2021,
            2021,
            2021,
            2021,
            2021,
            2021,
            2021,
            2021,
            2021,
            2021,
            2021,
            2021,
            2021,
            2021
           ]
          }
         ],
         "hovertemplate": "%{xaxis.title.text}=%{x}<br>%{yaxis.title.text}=%{y}<extra></extra>",
         "legendgroup": "",
         "marker": {
          "color": "darkred",
          "symbol": "circle"
         },
         "name": "",
         "showlegend": false,
         "type": "splom"
        }
       ],
       "layout": {
        "dragmode": "select",
        "height": 1000,
        "legend": {
         "tracegroupgap": 0
        },
        "template": {
         "data": {
          "bar": [
           {
            "error_x": {
             "color": "#2a3f5f"
            },
            "error_y": {
             "color": "#2a3f5f"
            },
            "marker": {
             "line": {
              "color": "#E5ECF6",
              "width": 0.5
             },
             "pattern": {
              "fillmode": "overlay",
              "size": 10,
              "solidity": 0.2
             }
            },
            "type": "bar"
           }
          ],
          "barpolar": [
           {
            "marker": {
             "line": {
              "color": "#E5ECF6",
              "width": 0.5
             },
             "pattern": {
              "fillmode": "overlay",
              "size": 10,
              "solidity": 0.2
             }
            },
            "type": "barpolar"
           }
          ],
          "carpet": [
           {
            "aaxis": {
             "endlinecolor": "#2a3f5f",
             "gridcolor": "white",
             "linecolor": "white",
             "minorgridcolor": "white",
             "startlinecolor": "#2a3f5f"
            },
            "baxis": {
             "endlinecolor": "#2a3f5f",
             "gridcolor": "white",
             "linecolor": "white",
             "minorgridcolor": "white",
             "startlinecolor": "#2a3f5f"
            },
            "type": "carpet"
           }
          ],
          "choropleth": [
           {
            "colorbar": {
             "outlinewidth": 0,
             "ticks": ""
            },
            "type": "choropleth"
           }
          ],
          "contour": [
           {
            "colorbar": {
             "outlinewidth": 0,
             "ticks": ""
            },
            "colorscale": [
             [
              0,
              "#0d0887"
             ],
             [
              0.1111111111111111,
              "#46039f"
             ],
             [
              0.2222222222222222,
              "#7201a8"
             ],
             [
              0.3333333333333333,
              "#9c179e"
             ],
             [
              0.4444444444444444,
              "#bd3786"
             ],
             [
              0.5555555555555556,
              "#d8576b"
             ],
             [
              0.6666666666666666,
              "#ed7953"
             ],
             [
              0.7777777777777778,
              "#fb9f3a"
             ],
             [
              0.8888888888888888,
              "#fdca26"
             ],
             [
              1,
              "#f0f921"
             ]
            ],
            "type": "contour"
           }
          ],
          "contourcarpet": [
           {
            "colorbar": {
             "outlinewidth": 0,
             "ticks": ""
            },
            "type": "contourcarpet"
           }
          ],
          "heatmap": [
           {
            "colorbar": {
             "outlinewidth": 0,
             "ticks": ""
            },
            "colorscale": [
             [
              0,
              "#0d0887"
             ],
             [
              0.1111111111111111,
              "#46039f"
             ],
             [
              0.2222222222222222,
              "#7201a8"
             ],
             [
              0.3333333333333333,
              "#9c179e"
             ],
             [
              0.4444444444444444,
              "#bd3786"
             ],
             [
              0.5555555555555556,
              "#d8576b"
             ],
             [
              0.6666666666666666,
              "#ed7953"
             ],
             [
              0.7777777777777778,
              "#fb9f3a"
             ],
             [
              0.8888888888888888,
              "#fdca26"
             ],
             [
              1,
              "#f0f921"
             ]
            ],
            "type": "heatmap"
           }
          ],
          "heatmapgl": [
           {
            "colorbar": {
             "outlinewidth": 0,
             "ticks": ""
            },
            "colorscale": [
             [
              0,
              "#0d0887"
             ],
             [
              0.1111111111111111,
              "#46039f"
             ],
             [
              0.2222222222222222,
              "#7201a8"
             ],
             [
              0.3333333333333333,
              "#9c179e"
             ],
             [
              0.4444444444444444,
              "#bd3786"
             ],
             [
              0.5555555555555556,
              "#d8576b"
             ],
             [
              0.6666666666666666,
              "#ed7953"
             ],
             [
              0.7777777777777778,
              "#fb9f3a"
             ],
             [
              0.8888888888888888,
              "#fdca26"
             ],
             [
              1,
              "#f0f921"
             ]
            ],
            "type": "heatmapgl"
           }
          ],
          "histogram": [
           {
            "marker": {
             "pattern": {
              "fillmode": "overlay",
              "size": 10,
              "solidity": 0.2
             }
            },
            "type": "histogram"
           }
          ],
          "histogram2d": [
           {
            "colorbar": {
             "outlinewidth": 0,
             "ticks": ""
            },
            "colorscale": [
             [
              0,
              "#0d0887"
             ],
             [
              0.1111111111111111,
              "#46039f"
             ],
             [
              0.2222222222222222,
              "#7201a8"
             ],
             [
              0.3333333333333333,
              "#9c179e"
             ],
             [
              0.4444444444444444,
              "#bd3786"
             ],
             [
              0.5555555555555556,
              "#d8576b"
             ],
             [
              0.6666666666666666,
              "#ed7953"
             ],
             [
              0.7777777777777778,
              "#fb9f3a"
             ],
             [
              0.8888888888888888,
              "#fdca26"
             ],
             [
              1,
              "#f0f921"
             ]
            ],
            "type": "histogram2d"
           }
          ],
          "histogram2dcontour": [
           {
            "colorbar": {
             "outlinewidth": 0,
             "ticks": ""
            },
            "colorscale": [
             [
              0,
              "#0d0887"
             ],
             [
              0.1111111111111111,
              "#46039f"
             ],
             [
              0.2222222222222222,
              "#7201a8"
             ],
             [
              0.3333333333333333,
              "#9c179e"
             ],
             [
              0.4444444444444444,
              "#bd3786"
             ],
             [
              0.5555555555555556,
              "#d8576b"
             ],
             [
              0.6666666666666666,
              "#ed7953"
             ],
             [
              0.7777777777777778,
              "#fb9f3a"
             ],
             [
              0.8888888888888888,
              "#fdca26"
             ],
             [
              1,
              "#f0f921"
             ]
            ],
            "type": "histogram2dcontour"
           }
          ],
          "mesh3d": [
           {
            "colorbar": {
             "outlinewidth": 0,
             "ticks": ""
            },
            "type": "mesh3d"
           }
          ],
          "parcoords": [
           {
            "line": {
             "colorbar": {
              "outlinewidth": 0,
              "ticks": ""
             }
            },
            "type": "parcoords"
           }
          ],
          "pie": [
           {
            "automargin": true,
            "type": "pie"
           }
          ],
          "scatter": [
           {
            "fillpattern": {
             "fillmode": "overlay",
             "size": 10,
             "solidity": 0.2
            },
            "type": "scatter"
           }
          ],
          "scatter3d": [
           {
            "line": {
             "colorbar": {
              "outlinewidth": 0,
              "ticks": ""
             }
            },
            "marker": {
             "colorbar": {
              "outlinewidth": 0,
              "ticks": ""
             }
            },
            "type": "scatter3d"
           }
          ],
          "scattercarpet": [
           {
            "marker": {
             "colorbar": {
              "outlinewidth": 0,
              "ticks": ""
             }
            },
            "type": "scattercarpet"
           }
          ],
          "scattergeo": [
           {
            "marker": {
             "colorbar": {
              "outlinewidth": 0,
              "ticks": ""
             }
            },
            "type": "scattergeo"
           }
          ],
          "scattergl": [
           {
            "marker": {
             "colorbar": {
              "outlinewidth": 0,
              "ticks": ""
             }
            },
            "type": "scattergl"
           }
          ],
          "scattermapbox": [
           {
            "marker": {
             "colorbar": {
              "outlinewidth": 0,
              "ticks": ""
             }
            },
            "type": "scattermapbox"
           }
          ],
          "scatterpolar": [
           {
            "marker": {
             "colorbar": {
              "outlinewidth": 0,
              "ticks": ""
             }
            },
            "type": "scatterpolar"
           }
          ],
          "scatterpolargl": [
           {
            "marker": {
             "colorbar": {
              "outlinewidth": 0,
              "ticks": ""
             }
            },
            "type": "scatterpolargl"
           }
          ],
          "scatterternary": [
           {
            "marker": {
             "colorbar": {
              "outlinewidth": 0,
              "ticks": ""
             }
            },
            "type": "scatterternary"
           }
          ],
          "surface": [
           {
            "colorbar": {
             "outlinewidth": 0,
             "ticks": ""
            },
            "colorscale": [
             [
              0,
              "#0d0887"
             ],
             [
              0.1111111111111111,
              "#46039f"
             ],
             [
              0.2222222222222222,
              "#7201a8"
             ],
             [
              0.3333333333333333,
              "#9c179e"
             ],
             [
              0.4444444444444444,
              "#bd3786"
             ],
             [
              0.5555555555555556,
              "#d8576b"
             ],
             [
              0.6666666666666666,
              "#ed7953"
             ],
             [
              0.7777777777777778,
              "#fb9f3a"
             ],
             [
              0.8888888888888888,
              "#fdca26"
             ],
             [
              1,
              "#f0f921"
             ]
            ],
            "type": "surface"
           }
          ],
          "table": [
           {
            "cells": {
             "fill": {
              "color": "#EBF0F8"
             },
             "line": {
              "color": "white"
             }
            },
            "header": {
             "fill": {
              "color": "#C8D4E3"
             },
             "line": {
              "color": "white"
             }
            },
            "type": "table"
           }
          ]
         },
         "layout": {
          "annotationdefaults": {
           "arrowcolor": "#2a3f5f",
           "arrowhead": 0,
           "arrowwidth": 1
          },
          "autotypenumbers": "strict",
          "coloraxis": {
           "colorbar": {
            "outlinewidth": 0,
            "ticks": ""
           }
          },
          "colorscale": {
           "diverging": [
            [
             0,
             "#8e0152"
            ],
            [
             0.1,
             "#c51b7d"
            ],
            [
             0.2,
             "#de77ae"
            ],
            [
             0.3,
             "#f1b6da"
            ],
            [
             0.4,
             "#fde0ef"
            ],
            [
             0.5,
             "#f7f7f7"
            ],
            [
             0.6,
             "#e6f5d0"
            ],
            [
             0.7,
             "#b8e186"
            ],
            [
             0.8,
             "#7fbc41"
            ],
            [
             0.9,
             "#4d9221"
            ],
            [
             1,
             "#276419"
            ]
           ],
           "sequential": [
            [
             0,
             "#0d0887"
            ],
            [
             0.1111111111111111,
             "#46039f"
            ],
            [
             0.2222222222222222,
             "#7201a8"
            ],
            [
             0.3333333333333333,
             "#9c179e"
            ],
            [
             0.4444444444444444,
             "#bd3786"
            ],
            [
             0.5555555555555556,
             "#d8576b"
            ],
            [
             0.6666666666666666,
             "#ed7953"
            ],
            [
             0.7777777777777778,
             "#fb9f3a"
            ],
            [
             0.8888888888888888,
             "#fdca26"
            ],
            [
             1,
             "#f0f921"
            ]
           ],
           "sequentialminus": [
            [
             0,
             "#0d0887"
            ],
            [
             0.1111111111111111,
             "#46039f"
            ],
            [
             0.2222222222222222,
             "#7201a8"
            ],
            [
             0.3333333333333333,
             "#9c179e"
            ],
            [
             0.4444444444444444,
             "#bd3786"
            ],
            [
             0.5555555555555556,
             "#d8576b"
            ],
            [
             0.6666666666666666,
             "#ed7953"
            ],
            [
             0.7777777777777778,
             "#fb9f3a"
            ],
            [
             0.8888888888888888,
             "#fdca26"
            ],
            [
             1,
             "#f0f921"
            ]
           ]
          },
          "colorway": [
           "#636efa",
           "#EF553B",
           "#00cc96",
           "#ab63fa",
           "#FFA15A",
           "#19d3f3",
           "#FF6692",
           "#B6E880",
           "#FF97FF",
           "#FECB52"
          ],
          "font": {
           "color": "#2a3f5f"
          },
          "geo": {
           "bgcolor": "white",
           "lakecolor": "white",
           "landcolor": "#E5ECF6",
           "showlakes": true,
           "showland": true,
           "subunitcolor": "white"
          },
          "hoverlabel": {
           "align": "left"
          },
          "hovermode": "closest",
          "mapbox": {
           "style": "light"
          },
          "paper_bgcolor": "white",
          "plot_bgcolor": "#E5ECF6",
          "polar": {
           "angularaxis": {
            "gridcolor": "white",
            "linecolor": "white",
            "ticks": ""
           },
           "bgcolor": "#E5ECF6",
           "radialaxis": {
            "gridcolor": "white",
            "linecolor": "white",
            "ticks": ""
           }
          },
          "scene": {
           "xaxis": {
            "backgroundcolor": "#E5ECF6",
            "gridcolor": "white",
            "gridwidth": 2,
            "linecolor": "white",
            "showbackground": true,
            "ticks": "",
            "zerolinecolor": "white"
           },
           "yaxis": {
            "backgroundcolor": "#E5ECF6",
            "gridcolor": "white",
            "gridwidth": 2,
            "linecolor": "white",
            "showbackground": true,
            "ticks": "",
            "zerolinecolor": "white"
           },
           "zaxis": {
            "backgroundcolor": "#E5ECF6",
            "gridcolor": "white",
            "gridwidth": 2,
            "linecolor": "white",
            "showbackground": true,
            "ticks": "",
            "zerolinecolor": "white"
           }
          },
          "shapedefaults": {
           "line": {
            "color": "#2a3f5f"
           }
          },
          "ternary": {
           "aaxis": {
            "gridcolor": "white",
            "linecolor": "white",
            "ticks": ""
           },
           "baxis": {
            "gridcolor": "white",
            "linecolor": "white",
            "ticks": ""
           },
           "bgcolor": "#E5ECF6",
           "caxis": {
            "gridcolor": "white",
            "linecolor": "white",
            "ticks": ""
           }
          },
          "title": {
           "x": 0.05
          },
          "xaxis": {
           "automargin": true,
           "gridcolor": "white",
           "linecolor": "white",
           "ticks": "",
           "title": {
            "standoff": 15
           },
           "zerolinecolor": "white",
           "zerolinewidth": 2
          },
          "yaxis": {
           "automargin": true,
           "gridcolor": "white",
           "linecolor": "white",
           "ticks": "",
           "title": {
            "standoff": 15
           },
           "zerolinecolor": "white",
           "zerolinewidth": 2
          }
         }
        },
        "title": {
         "text": "Comparison of all song attributes"
        }
       }
      }
     },
     "metadata": {},
     "output_type": "display_data"
    }
   ],
   "source": [
    "## show scatter matrix\n",
    "fig = px.scatter_matrix(df_hist, height=1000, title='Comparison of all song attributes', color_discrete_sequence=['darkred'])\n",
    "fig.show()\n",
    "\n",
    "# sns.pairplot(df) # if using seaborn"
   ]
  },
  {
   "cell_type": "code",
   "execution_count": 20,
   "id": "1b812817",
   "metadata": {},
   "outputs": [],
   "source": [
    "## same thing using pandas\n",
    "# pd.plotting.scatter_matrix(df, figsize=(20,20), color='indigo');"
   ]
  },
  {
   "cell_type": "markdown",
   "id": "9e8b6a7f",
   "metadata": {},
   "source": [
    "The only two features that seem to have a strong positive correlation are loudness and energy. Let's look further with a correlation matrix."
   ]
  },
  {
   "cell_type": "code",
   "execution_count": 21,
   "id": "3a05568d",
   "metadata": {},
   "outputs": [
    {
     "data": {
      "application/vnd.plotly.v1+json": {
       "config": {
        "plotlyServerURL": "https://plot.ly"
       },
       "data": [
        {
         "coloraxis": "coloraxis",
         "hovertemplate": "x: %{x}<br>y: %{y}<br>color: %{z}<extra></extra>",
         "name": "0",
         "texttemplate": "%{z:.2f}",
         "type": "heatmap",
         "x": [
          "length",
          "popularity",
          "danceability",
          "acousticness",
          "energy",
          "instrumentalness",
          "liveness",
          "loudness",
          "speechiness",
          "valence",
          "tempo"
         ],
         "xaxis": "x",
         "y": [
          "length",
          "popularity",
          "danceability",
          "acousticness",
          "energy",
          "instrumentalness",
          "liveness",
          "loudness",
          "speechiness",
          "valence",
          "tempo"
         ],
         "yaxis": "y",
         "z": [
          [
           1,
           -0.24632396307766594,
           -0.3064404200654879,
           0.13894097647467604,
           -0.23930598071002093,
           -0.09138465521857145,
           -0.10694400757863569,
           -0.12064444178885303,
           -0.3202069044984792,
           -0.46357901650887756,
           0.040313498450064725
          ],
          [
           -0.24632396307766594,
           1,
           0.1701423025531277,
           0.20814179724537296,
           -0.1529894297863326,
           0.037714961548302395,
           -0.20937828710416712,
           -0.381058553019724,
           0.30762109053608094,
           0.042789196057265715,
           -0.09954311685953357
          ],
          [
           -0.3064404200654879,
           0.1701423025531277,
           1,
           -0.1794544796565353,
           0.07971879029641535,
           -0.06342137942685082,
           -0.022358378513950034,
           0.03030829630641646,
           0.14849859901163925,
           0.3946126912228078,
           -0.21560584428457305
          ],
          [
           0.13894097647467604,
           0.20814179724537296,
           -0.1794544796565353,
           1,
           -0.6786179113006771,
           0.1511931136295911,
           -0.14791285568929483,
           -0.7323412396097412,
           -0.01933255084011765,
           -0.20974968119713072,
           -0.12213036580419828
          ],
          [
           -0.23930598071002093,
           -0.1529894297863326,
           0.07971879029641535,
           -0.6786179113006771,
           1,
           0.00022869662101061302,
           0.20900244507990468,
           0.7640397752931245,
           0.04094254965240481,
           0.4783724957429745,
           0.21351514138477493
          ],
          [
           -0.09138465521857145,
           0.037714961548302395,
           -0.06342137942685082,
           0.1511931136295911,
           0.00022869662101061302,
           1,
           -0.05685931217810955,
           -0.10423788387363907,
           -0.03054705335946247,
           0.020801955858453514,
           0.0496115522725207
          ],
          [
           -0.10694400757863569,
           -0.20937828710416712,
           -0.022358378513950034,
           -0.14791285568929483,
           0.20900244507990468,
           -0.05685931217810955,
           1,
           0.2653724465672569,
           -0.007610142943057928,
           0.014862137938179728,
           0.04281134301921725
          ],
          [
           -0.12064444178885303,
           -0.381058553019724,
           0.03030829630641646,
           -0.7323412396097412,
           0.7640397752931245,
           -0.10423788387363907,
           0.2653724465672569,
           1,
           -0.12534942742765962,
           0.30944541729294717,
           0.16380267865239498
          ],
          [
           -0.3202069044984792,
           0.30762109053608094,
           0.14849859901163925,
           -0.01933255084011765,
           0.04094254965240481,
           -0.03054705335946247,
           -0.007610142943057928,
           -0.12534942742765962,
           1,
           0.15440613333071818,
           0.055157282466403446
          ],
          [
           -0.46357901650887756,
           0.042789196057265715,
           0.3946126912228078,
           -0.20974968119713072,
           0.4783724957429745,
           0.020801955858453514,
           0.014862137938179728,
           0.30944541729294717,
           0.15440613333071818,
           1,
           -0.030089481946943393
          ],
          [
           0.040313498450064725,
           -0.09954311685953357,
           -0.21560584428457305,
           -0.12213036580419828,
           0.21351514138477493,
           0.0496115522725207,
           0.04281134301921725,
           0.16380267865239498,
           0.055157282466403446,
           -0.030089481946943393,
           1
          ]
         ]
        }
       ],
       "layout": {
        "coloraxis": {
         "colorscale": [
          [
           0,
           "rgb(247,244,249)"
          ],
          [
           0.125,
           "rgb(231,225,239)"
          ],
          [
           0.25,
           "rgb(212,185,218)"
          ],
          [
           0.375,
           "rgb(201,148,199)"
          ],
          [
           0.5,
           "rgb(223,101,176)"
          ],
          [
           0.625,
           "rgb(231,41,138)"
          ],
          [
           0.75,
           "rgb(206,18,86)"
          ],
          [
           0.875,
           "rgb(152,0,67)"
          ],
          [
           1,
           "rgb(103,0,31)"
          ]
         ]
        },
        "height": 700,
        "template": {
         "data": {
          "bar": [
           {
            "error_x": {
             "color": "#2a3f5f"
            },
            "error_y": {
             "color": "#2a3f5f"
            },
            "marker": {
             "line": {
              "color": "#E5ECF6",
              "width": 0.5
             },
             "pattern": {
              "fillmode": "overlay",
              "size": 10,
              "solidity": 0.2
             }
            },
            "type": "bar"
           }
          ],
          "barpolar": [
           {
            "marker": {
             "line": {
              "color": "#E5ECF6",
              "width": 0.5
             },
             "pattern": {
              "fillmode": "overlay",
              "size": 10,
              "solidity": 0.2
             }
            },
            "type": "barpolar"
           }
          ],
          "carpet": [
           {
            "aaxis": {
             "endlinecolor": "#2a3f5f",
             "gridcolor": "white",
             "linecolor": "white",
             "minorgridcolor": "white",
             "startlinecolor": "#2a3f5f"
            },
            "baxis": {
             "endlinecolor": "#2a3f5f",
             "gridcolor": "white",
             "linecolor": "white",
             "minorgridcolor": "white",
             "startlinecolor": "#2a3f5f"
            },
            "type": "carpet"
           }
          ],
          "choropleth": [
           {
            "colorbar": {
             "outlinewidth": 0,
             "ticks": ""
            },
            "type": "choropleth"
           }
          ],
          "contour": [
           {
            "colorbar": {
             "outlinewidth": 0,
             "ticks": ""
            },
            "colorscale": [
             [
              0,
              "#0d0887"
             ],
             [
              0.1111111111111111,
              "#46039f"
             ],
             [
              0.2222222222222222,
              "#7201a8"
             ],
             [
              0.3333333333333333,
              "#9c179e"
             ],
             [
              0.4444444444444444,
              "#bd3786"
             ],
             [
              0.5555555555555556,
              "#d8576b"
             ],
             [
              0.6666666666666666,
              "#ed7953"
             ],
             [
              0.7777777777777778,
              "#fb9f3a"
             ],
             [
              0.8888888888888888,
              "#fdca26"
             ],
             [
              1,
              "#f0f921"
             ]
            ],
            "type": "contour"
           }
          ],
          "contourcarpet": [
           {
            "colorbar": {
             "outlinewidth": 0,
             "ticks": ""
            },
            "type": "contourcarpet"
           }
          ],
          "heatmap": [
           {
            "colorbar": {
             "outlinewidth": 0,
             "ticks": ""
            },
            "colorscale": [
             [
              0,
              "#0d0887"
             ],
             [
              0.1111111111111111,
              "#46039f"
             ],
             [
              0.2222222222222222,
              "#7201a8"
             ],
             [
              0.3333333333333333,
              "#9c179e"
             ],
             [
              0.4444444444444444,
              "#bd3786"
             ],
             [
              0.5555555555555556,
              "#d8576b"
             ],
             [
              0.6666666666666666,
              "#ed7953"
             ],
             [
              0.7777777777777778,
              "#fb9f3a"
             ],
             [
              0.8888888888888888,
              "#fdca26"
             ],
             [
              1,
              "#f0f921"
             ]
            ],
            "type": "heatmap"
           }
          ],
          "heatmapgl": [
           {
            "colorbar": {
             "outlinewidth": 0,
             "ticks": ""
            },
            "colorscale": [
             [
              0,
              "#0d0887"
             ],
             [
              0.1111111111111111,
              "#46039f"
             ],
             [
              0.2222222222222222,
              "#7201a8"
             ],
             [
              0.3333333333333333,
              "#9c179e"
             ],
             [
              0.4444444444444444,
              "#bd3786"
             ],
             [
              0.5555555555555556,
              "#d8576b"
             ],
             [
              0.6666666666666666,
              "#ed7953"
             ],
             [
              0.7777777777777778,
              "#fb9f3a"
             ],
             [
              0.8888888888888888,
              "#fdca26"
             ],
             [
              1,
              "#f0f921"
             ]
            ],
            "type": "heatmapgl"
           }
          ],
          "histogram": [
           {
            "marker": {
             "pattern": {
              "fillmode": "overlay",
              "size": 10,
              "solidity": 0.2
             }
            },
            "type": "histogram"
           }
          ],
          "histogram2d": [
           {
            "colorbar": {
             "outlinewidth": 0,
             "ticks": ""
            },
            "colorscale": [
             [
              0,
              "#0d0887"
             ],
             [
              0.1111111111111111,
              "#46039f"
             ],
             [
              0.2222222222222222,
              "#7201a8"
             ],
             [
              0.3333333333333333,
              "#9c179e"
             ],
             [
              0.4444444444444444,
              "#bd3786"
             ],
             [
              0.5555555555555556,
              "#d8576b"
             ],
             [
              0.6666666666666666,
              "#ed7953"
             ],
             [
              0.7777777777777778,
              "#fb9f3a"
             ],
             [
              0.8888888888888888,
              "#fdca26"
             ],
             [
              1,
              "#f0f921"
             ]
            ],
            "type": "histogram2d"
           }
          ],
          "histogram2dcontour": [
           {
            "colorbar": {
             "outlinewidth": 0,
             "ticks": ""
            },
            "colorscale": [
             [
              0,
              "#0d0887"
             ],
             [
              0.1111111111111111,
              "#46039f"
             ],
             [
              0.2222222222222222,
              "#7201a8"
             ],
             [
              0.3333333333333333,
              "#9c179e"
             ],
             [
              0.4444444444444444,
              "#bd3786"
             ],
             [
              0.5555555555555556,
              "#d8576b"
             ],
             [
              0.6666666666666666,
              "#ed7953"
             ],
             [
              0.7777777777777778,
              "#fb9f3a"
             ],
             [
              0.8888888888888888,
              "#fdca26"
             ],
             [
              1,
              "#f0f921"
             ]
            ],
            "type": "histogram2dcontour"
           }
          ],
          "mesh3d": [
           {
            "colorbar": {
             "outlinewidth": 0,
             "ticks": ""
            },
            "type": "mesh3d"
           }
          ],
          "parcoords": [
           {
            "line": {
             "colorbar": {
              "outlinewidth": 0,
              "ticks": ""
             }
            },
            "type": "parcoords"
           }
          ],
          "pie": [
           {
            "automargin": true,
            "type": "pie"
           }
          ],
          "scatter": [
           {
            "fillpattern": {
             "fillmode": "overlay",
             "size": 10,
             "solidity": 0.2
            },
            "type": "scatter"
           }
          ],
          "scatter3d": [
           {
            "line": {
             "colorbar": {
              "outlinewidth": 0,
              "ticks": ""
             }
            },
            "marker": {
             "colorbar": {
              "outlinewidth": 0,
              "ticks": ""
             }
            },
            "type": "scatter3d"
           }
          ],
          "scattercarpet": [
           {
            "marker": {
             "colorbar": {
              "outlinewidth": 0,
              "ticks": ""
             }
            },
            "type": "scattercarpet"
           }
          ],
          "scattergeo": [
           {
            "marker": {
             "colorbar": {
              "outlinewidth": 0,
              "ticks": ""
             }
            },
            "type": "scattergeo"
           }
          ],
          "scattergl": [
           {
            "marker": {
             "colorbar": {
              "outlinewidth": 0,
              "ticks": ""
             }
            },
            "type": "scattergl"
           }
          ],
          "scattermapbox": [
           {
            "marker": {
             "colorbar": {
              "outlinewidth": 0,
              "ticks": ""
             }
            },
            "type": "scattermapbox"
           }
          ],
          "scatterpolar": [
           {
            "marker": {
             "colorbar": {
              "outlinewidth": 0,
              "ticks": ""
             }
            },
            "type": "scatterpolar"
           }
          ],
          "scatterpolargl": [
           {
            "marker": {
             "colorbar": {
              "outlinewidth": 0,
              "ticks": ""
             }
            },
            "type": "scatterpolargl"
           }
          ],
          "scatterternary": [
           {
            "marker": {
             "colorbar": {
              "outlinewidth": 0,
              "ticks": ""
             }
            },
            "type": "scatterternary"
           }
          ],
          "surface": [
           {
            "colorbar": {
             "outlinewidth": 0,
             "ticks": ""
            },
            "colorscale": [
             [
              0,
              "#0d0887"
             ],
             [
              0.1111111111111111,
              "#46039f"
             ],
             [
              0.2222222222222222,
              "#7201a8"
             ],
             [
              0.3333333333333333,
              "#9c179e"
             ],
             [
              0.4444444444444444,
              "#bd3786"
             ],
             [
              0.5555555555555556,
              "#d8576b"
             ],
             [
              0.6666666666666666,
              "#ed7953"
             ],
             [
              0.7777777777777778,
              "#fb9f3a"
             ],
             [
              0.8888888888888888,
              "#fdca26"
             ],
             [
              1,
              "#f0f921"
             ]
            ],
            "type": "surface"
           }
          ],
          "table": [
           {
            "cells": {
             "fill": {
              "color": "#EBF0F8"
             },
             "line": {
              "color": "white"
             }
            },
            "header": {
             "fill": {
              "color": "#C8D4E3"
             },
             "line": {
              "color": "white"
             }
            },
            "type": "table"
           }
          ]
         },
         "layout": {
          "annotationdefaults": {
           "arrowcolor": "#2a3f5f",
           "arrowhead": 0,
           "arrowwidth": 1
          },
          "autotypenumbers": "strict",
          "coloraxis": {
           "colorbar": {
            "outlinewidth": 0,
            "ticks": ""
           }
          },
          "colorscale": {
           "diverging": [
            [
             0,
             "#8e0152"
            ],
            [
             0.1,
             "#c51b7d"
            ],
            [
             0.2,
             "#de77ae"
            ],
            [
             0.3,
             "#f1b6da"
            ],
            [
             0.4,
             "#fde0ef"
            ],
            [
             0.5,
             "#f7f7f7"
            ],
            [
             0.6,
             "#e6f5d0"
            ],
            [
             0.7,
             "#b8e186"
            ],
            [
             0.8,
             "#7fbc41"
            ],
            [
             0.9,
             "#4d9221"
            ],
            [
             1,
             "#276419"
            ]
           ],
           "sequential": [
            [
             0,
             "#0d0887"
            ],
            [
             0.1111111111111111,
             "#46039f"
            ],
            [
             0.2222222222222222,
             "#7201a8"
            ],
            [
             0.3333333333333333,
             "#9c179e"
            ],
            [
             0.4444444444444444,
             "#bd3786"
            ],
            [
             0.5555555555555556,
             "#d8576b"
            ],
            [
             0.6666666666666666,
             "#ed7953"
            ],
            [
             0.7777777777777778,
             "#fb9f3a"
            ],
            [
             0.8888888888888888,
             "#fdca26"
            ],
            [
             1,
             "#f0f921"
            ]
           ],
           "sequentialminus": [
            [
             0,
             "#0d0887"
            ],
            [
             0.1111111111111111,
             "#46039f"
            ],
            [
             0.2222222222222222,
             "#7201a8"
            ],
            [
             0.3333333333333333,
             "#9c179e"
            ],
            [
             0.4444444444444444,
             "#bd3786"
            ],
            [
             0.5555555555555556,
             "#d8576b"
            ],
            [
             0.6666666666666666,
             "#ed7953"
            ],
            [
             0.7777777777777778,
             "#fb9f3a"
            ],
            [
             0.8888888888888888,
             "#fdca26"
            ],
            [
             1,
             "#f0f921"
            ]
           ]
          },
          "colorway": [
           "#636efa",
           "#EF553B",
           "#00cc96",
           "#ab63fa",
           "#FFA15A",
           "#19d3f3",
           "#FF6692",
           "#B6E880",
           "#FF97FF",
           "#FECB52"
          ],
          "font": {
           "color": "#2a3f5f"
          },
          "geo": {
           "bgcolor": "white",
           "lakecolor": "white",
           "landcolor": "#E5ECF6",
           "showlakes": true,
           "showland": true,
           "subunitcolor": "white"
          },
          "hoverlabel": {
           "align": "left"
          },
          "hovermode": "closest",
          "mapbox": {
           "style": "light"
          },
          "paper_bgcolor": "white",
          "plot_bgcolor": "#E5ECF6",
          "polar": {
           "angularaxis": {
            "gridcolor": "white",
            "linecolor": "white",
            "ticks": ""
           },
           "bgcolor": "#E5ECF6",
           "radialaxis": {
            "gridcolor": "white",
            "linecolor": "white",
            "ticks": ""
           }
          },
          "scene": {
           "xaxis": {
            "backgroundcolor": "#E5ECF6",
            "gridcolor": "white",
            "gridwidth": 2,
            "linecolor": "white",
            "showbackground": true,
            "ticks": "",
            "zerolinecolor": "white"
           },
           "yaxis": {
            "backgroundcolor": "#E5ECF6",
            "gridcolor": "white",
            "gridwidth": 2,
            "linecolor": "white",
            "showbackground": true,
            "ticks": "",
            "zerolinecolor": "white"
           },
           "zaxis": {
            "backgroundcolor": "#E5ECF6",
            "gridcolor": "white",
            "gridwidth": 2,
            "linecolor": "white",
            "showbackground": true,
            "ticks": "",
            "zerolinecolor": "white"
           }
          },
          "shapedefaults": {
           "line": {
            "color": "#2a3f5f"
           }
          },
          "ternary": {
           "aaxis": {
            "gridcolor": "white",
            "linecolor": "white",
            "ticks": ""
           },
           "baxis": {
            "gridcolor": "white",
            "linecolor": "white",
            "ticks": ""
           },
           "bgcolor": "#E5ECF6",
           "caxis": {
            "gridcolor": "white",
            "linecolor": "white",
            "ticks": ""
           }
          },
          "title": {
           "x": 0.05
          },
          "xaxis": {
           "automargin": true,
           "gridcolor": "white",
           "linecolor": "white",
           "ticks": "",
           "title": {
            "standoff": 15
           },
           "zerolinecolor": "white",
           "zerolinewidth": 2
          },
          "yaxis": {
           "automargin": true,
           "gridcolor": "white",
           "linecolor": "white",
           "ticks": "",
           "title": {
            "standoff": 15
           },
           "zerolinecolor": "white",
           "zerolinewidth": 2
          }
         }
        },
        "title": {
         "text": "Correlation between song features"
        },
        "width": 700,
        "xaxis": {
         "anchor": "y",
         "constrain": "domain",
         "domain": [
          0,
          1
         ],
         "scaleanchor": "y",
         "side": "top",
         "tickangle": 30
        },
        "yaxis": {
         "anchor": "x",
         "autorange": "reversed",
         "constrain": "domain",
         "domain": [
          0,
          1
         ]
        }
       }
      }
     },
     "metadata": {},
     "output_type": "display_data"
    }
   ],
   "source": [
    "# show correlation heatmap\n",
    "corr = df.corr()\n",
    "fig = px.imshow(corr, text_auto=\".2f\", color_continuous_scale='PuRd', width=700, height=700, title='Correlation between song features')\n",
    "fig.update_xaxes(side=\"top\", tickangle=30)\n",
    "# fig.write_html('./images/corr_matrix.html')\n",
    "fig.show()"
   ]
  },
  {
   "cell_type": "code",
   "execution_count": 22,
   "id": "41e64dfa",
   "metadata": {},
   "outputs": [],
   "source": [
    "# # show correlation heatmap in sns\n",
    "# # set sns fonts\n",
    "# sns.set(font_scale=1.2)\n",
    "# corr = df.corr()\n",
    "# sns.set(rc = {'figure.figsize':(12,8)})\n",
    "# sns.heatmap(corr, cmap=\"PuRd\", annot=True, linecolor='black', linewidth=0.1)\n",
    "# plt.xticks(rotation = 45)\n",
    "# plt.title('Correlation between song attributes')\n",
    "# plt.savefig('./images/corr_all_attributes.png')\n",
    "# plt.show()"
   ]
  },
  {
   "cell_type": "code",
   "execution_count": 23,
   "id": "427ca031",
   "metadata": {},
   "outputs": [],
   "source": [
    "# show jitterplot to see distribution of each feature more closely\n",
    "# columns_to_view = ['popularity','length','danceability','acousticness','energy','instrumentalness',\n",
    "#                     'liveness','loudness','speechiness','valence','tempo']\n",
    "# for column in columns_to_view:\n",
    "#     sns.stripplot(x=df[\"popularity\"])\n",
    "#     plt.show()"
   ]
  },
  {
   "cell_type": "markdown",
   "id": "1e5adea3",
   "metadata": {},
   "source": [
    "## Show how various song attributes compare per album"
   ]
  },
  {
   "cell_type": "code",
   "execution_count": 24,
   "id": "98836f53",
   "metadata": {},
   "outputs": [],
   "source": [
    "# ## using sns, commented out since it's not interactive\n",
    "# # function to return a stripplot based on x, y, data, palette, and other sizing\n",
    "# def create_stripplot(x, y, data, jitter, palette, size, alpha, title, xlabel):\n",
    "#     sns.stripplot(x=x, y=y, data=data, jitter=jitter, palette=palette, size=size,\n",
    "#                     alpha=alpha) #, marker='s', linewidth=2, edgecolor='white')\n",
    "#     plt.title(title)\n",
    "#     plt.xlabel(xlabel)\n",
    "#     plt.show()"
   ]
  },
  {
   "cell_type": "code",
   "execution_count": 25,
   "id": "12c69a04",
   "metadata": {},
   "outputs": [],
   "source": [
    "# # create stripplot for popularity per album\n",
    "# create_stripplot(\"album\", \"popularity\", df, 0.1, 'flare', 10, 0.8, \n",
    "#                 'Popularity of songs per album', 'Album')"
   ]
  },
  {
   "cell_type": "code",
   "execution_count": 26,
   "id": "5511eefb",
   "metadata": {},
   "outputs": [],
   "source": [
    "# # create stripplot for acousticness per album\n",
    "# create_stripplot(\"album\", \"acousticness\", df, 0.1, 'flare', 10, 0.8, \n",
    "#                 'Acousticness of songs per album', 'Album')"
   ]
  },
  {
   "cell_type": "code",
   "execution_count": 27,
   "id": "06ad28be",
   "metadata": {},
   "outputs": [],
   "source": [
    "# function to make a scatterplot in plotly express\n",
    "def create_plotly_scatter_by_album(df, x, y, hover_data, color, color_discrete_sequence, title, template, size, symbol, width, linecolor):\n",
    "    fig = px.scatter(df, x=x, y=y, hover_data=hover_data, color=color, opacity=0.8, \n",
    "                    color_discrete_sequence=color_discrete_sequence, title=title, template=template)\n",
    "    # update default marker size and symbol\n",
    "    fig.update_traces(marker=dict(size=size, symbol=symbol,\n",
    "                                line=dict(width=width,\n",
    "                                            color=linecolor)),\n",
    "                                selector=dict(mode='markers'))\n",
    "    # save the plot as an html\n",
    "    # fig.write_html('./images/'+title+'.html')\n",
    "    fig.show()"
   ]
  },
  {
   "cell_type": "code",
   "execution_count": 28,
   "id": "0ede17ec",
   "metadata": {},
   "outputs": [
    {
     "data": {
      "application/vnd.plotly.v1+json": {
       "config": {
        "plotlyServerURL": "https://plot.ly"
       },
       "data": [
        {
         "customdata": [
          [
           "Picture To Burn"
          ],
          [
           "Our Song"
          ],
          [
           "Should've Said No"
          ],
          [
           "Tim McGraw"
          ],
          [
           "A Place in this World"
          ],
          [
           "Cold As You"
          ],
          [
           "The Outside"
          ],
          [
           "Tied Together with a Smile"
          ],
          [
           "Stay Beautiful"
          ],
          [
           "Mary's Song (Oh My My My)"
          ],
          [
           "I'm Only Me When I'm With You"
          ],
          [
           "Invisible"
          ],
          [
           "A Perfectly Good Heart"
          ],
          [
           "Teardrops on My Guitar - Pop Version"
          ],
          [
           "Teardrops On My Guitar - Radio Single Remix"
          ]
         ],
         "hovertemplate": "album=%{x}<br>popularity=%{y}<br>name=%{customdata[0]}<extra></extra>",
         "legendgroup": "Taylor Swift",
         "marker": {
          "color": "#67001f",
          "line": {
           "color": "DarkSlateGrey",
           "width": 1
          },
          "opacity": 0.8,
          "size": 15,
          "symbol": "diamond"
         },
         "mode": "markers",
         "name": "Taylor Swift",
         "orientation": "v",
         "showlegend": true,
         "type": "scatter",
         "x": [
          "Taylor Swift",
          "Taylor Swift",
          "Taylor Swift",
          "Taylor Swift",
          "Taylor Swift",
          "Taylor Swift",
          "Taylor Swift",
          "Taylor Swift",
          "Taylor Swift",
          "Taylor Swift",
          "Taylor Swift",
          "Taylor Swift",
          "Taylor Swift",
          "Taylor Swift",
          "Taylor Swift"
         ],
         "xaxis": "x",
         "y": [
          64,
          68,
          61,
          62,
          51,
          51,
          48,
          49,
          50,
          53,
          53,
          49,
          46,
          50,
          64
         ],
         "yaxis": "y"
        },
        {
         "customdata": [
          [
           "You Belong With Me"
          ],
          [
           "White Horse"
          ],
          [
           "Fearless"
          ],
          [
           "Fifteen"
          ],
          [
           "Jump Then Fall"
          ],
          [
           "Untouchable"
          ],
          [
           "Forever & Always - Piano Version"
          ],
          [
           "Come In With The Rain"
          ],
          [
           "SuperStar"
          ],
          [
           "The Other Side Of The Door"
          ],
          [
           "Hey Stephen"
          ],
          [
           "Breathe"
          ],
          [
           "Tell Me Why"
          ],
          [
           "You're Not Sorry"
          ],
          [
           "The Way I Loved You"
          ],
          [
           "Forever & Always"
          ],
          [
           "The Best Day"
          ],
          [
           "Change"
          ]
         ],
         "hovertemplate": "album=%{x}<br>popularity=%{y}<br>name=%{customdata[0]}<extra></extra>",
         "legendgroup": "Fearless",
         "marker": {
          "color": "#980043",
          "line": {
           "color": "DarkSlateGrey",
           "width": 1
          },
          "opacity": 0.8,
          "size": 15,
          "symbol": "diamond"
         },
         "mode": "markers",
         "name": "Fearless",
         "orientation": "v",
         "showlegend": true,
         "type": "scatter",
         "x": [
          "Fearless",
          "Fearless",
          "Fearless",
          "Fearless",
          "Fearless",
          "Fearless",
          "Fearless",
          "Fearless",
          "Fearless",
          "Fearless",
          "Fearless",
          "Fearless",
          "Fearless",
          "Fearless",
          "Fearless",
          "Fearless",
          "Fearless",
          "Fearless"
         ],
         "xaxis": "x",
         "y": [
          54,
          46,
          47,
          47,
          46,
          45,
          46,
          44,
          42,
          44,
          44,
          48,
          42,
          44,
          46,
          46,
          42,
          41
         ],
         "yaxis": "y"
        },
        {
         "customdata": [
          [
           "Mean"
          ],
          [
           "The Story Of Us"
          ],
          [
           "Speak Now"
          ],
          [
           "Ours"
          ],
          [
           "Mine"
          ],
          [
           "Sparks Fly"
          ],
          [
           "Back To December"
          ],
          [
           "Dear John"
          ],
          [
           "Never Grow Up"
          ],
          [
           "Enchanted"
          ],
          [
           "Better Than Revenge"
          ],
          [
           "Innocent"
          ],
          [
           "Haunted"
          ],
          [
           "Last Kiss"
          ],
          [
           "Long Live"
          ],
          [
           "If This Was A Movie"
          ],
          [
           "Superman"
          ],
          [
           "Back To December - Acoustic Version"
          ],
          [
           "Haunted - Acoustic Version"
          ],
          [
           "Mine - POP Mix"
          ]
         ],
         "hovertemplate": "album=%{x}<br>popularity=%{y}<br>name=%{customdata[0]}<extra></extra>",
         "legendgroup": "Speak Now",
         "marker": {
          "color": "#ce1256",
          "line": {
           "color": "DarkSlateGrey",
           "width": 1
          },
          "opacity": 0.8,
          "size": 15,
          "symbol": "diamond"
         },
         "mode": "markers",
         "name": "Speak Now",
         "orientation": "v",
         "showlegend": true,
         "type": "scatter",
         "x": [
          "Speak Now",
          "Speak Now",
          "Speak Now",
          "Speak Now",
          "Speak Now",
          "Speak Now",
          "Speak Now",
          "Speak Now",
          "Speak Now",
          "Speak Now",
          "Speak Now",
          "Speak Now",
          "Speak Now",
          "Speak Now",
          "Speak Now",
          "Speak Now",
          "Speak Now",
          "Speak Now",
          "Speak Now",
          "Speak Now"
         ],
         "xaxis": "x",
         "y": [
          54,
          55,
          53,
          56,
          56,
          57,
          56,
          60,
          55,
          55,
          64,
          49,
          55,
          56,
          54,
          52,
          49,
          52,
          48,
          46
         ],
         "yaxis": "y"
        },
        {
         "customdata": [
          [
           "We Are Never Ever Getting Back Together"
          ],
          [
           "I Knew You Were Trouble."
          ],
          [
           "22"
          ],
          [
           "All Too Well"
          ],
          [
           "State Of Grace"
          ],
          [
           "Red"
          ],
          [
           "Treacherous"
          ],
          [
           "I Almost Do"
          ],
          [
           "Stay Stay Stay"
          ],
          [
           "The Last Time"
          ],
          [
           "Holy Ground"
          ],
          [
           "Sad Beautiful Tragic"
          ],
          [
           "Everything Has Changed"
          ],
          [
           "Starlight"
          ],
          [
           "Begin Again"
          ],
          [
           "Come Back...Be Here"
          ],
          [
           "Girl At Home"
          ],
          [
           "The Lucky One"
          ],
          [
           "The Moment I Knew"
          ],
          [
           "State Of Grace - Acoustic Version"
          ],
          [
           "Treacherous - Original Demo Recording"
          ],
          [
           "Red - Original Demo Recording"
          ]
         ],
         "hovertemplate": "album=%{x}<br>popularity=%{y}<br>name=%{customdata[0]}<extra></extra>",
         "legendgroup": "Red",
         "marker": {
          "color": "#e7298a",
          "line": {
           "color": "DarkSlateGrey",
           "width": 1
          },
          "opacity": 0.8,
          "size": 15,
          "symbol": "diamond"
         },
         "mode": "markers",
         "name": "Red",
         "orientation": "v",
         "showlegend": true,
         "type": "scatter",
         "x": [
          "Red",
          "Red",
          "Red",
          "Red",
          "Red",
          "Red",
          "Red",
          "Red",
          "Red",
          "Red",
          "Red",
          "Red",
          "Red",
          "Red",
          "Red",
          "Red",
          "Red",
          "Red",
          "Red",
          "Red",
          "Red",
          "Red"
         ],
         "xaxis": "x",
         "y": [
          60,
          61,
          63,
          69,
          60,
          62,
          59,
          59,
          58,
          59,
          59,
          56,
          58,
          57,
          57,
          57,
          53,
          58,
          56,
          54,
          51,
          51
         ],
         "yaxis": "y"
        },
        {
         "customdata": [
          [
           "Blank Space"
          ],
          [
           "Shake It Off"
          ],
          [
           "Style"
          ],
          [
           "Out Of The Woods"
          ],
          [
           "Wildest Dreams"
          ],
          [
           "Welcome To New York"
          ],
          [
           "All You Had To Do Was Stay"
          ],
          [
           "I Wish You Would"
          ],
          [
           "Bad Blood"
          ],
          [
           "How You Get The Girl"
          ],
          [
           "This Love"
          ],
          [
           "I Know Places"
          ],
          [
           "Clean"
          ],
          [
           "Wonderland"
          ],
          [
           "You Are In Love"
          ],
          [
           "New Romantics"
          ]
         ],
         "hovertemplate": "album=%{x}<br>popularity=%{y}<br>name=%{customdata[0]}<extra></extra>",
         "legendgroup": "1989",
         "marker": {
          "color": "#df65b0",
          "line": {
           "color": "DarkSlateGrey",
           "width": 1
          },
          "opacity": 0.8,
          "size": 15,
          "symbol": "diamond"
         },
         "mode": "markers",
         "name": "1989",
         "orientation": "v",
         "showlegend": true,
         "type": "scatter",
         "x": [
          "1989",
          "1989",
          "1989",
          "1989",
          "1989",
          "1989",
          "1989",
          "1989",
          "1989",
          "1989",
          "1989",
          "1989",
          "1989",
          "1989",
          "1989",
          "1989"
         ],
         "xaxis": "x",
         "y": [
          61,
          58,
          61,
          60,
          59,
          55,
          57,
          58,
          56,
          58,
          57,
          58,
          60,
          60,
          59,
          65
         ],
         "yaxis": "y"
        },
        {
         "customdata": [
          [
           "...Ready For It?"
          ],
          [
           "End Game"
          ],
          [
           "Look What You Made Me Do"
          ],
          [
           "Delicate"
          ],
          [
           "Getaway Car"
          ],
          [
           "Gorgeous"
          ],
          [
           "I Did Something Bad"
          ],
          [
           "Don’t Blame Me"
          ],
          [
           "So It Goes..."
          ],
          [
           "King Of My Heart"
          ],
          [
           "Dancing With Our Hands Tied"
          ],
          [
           "Dress"
          ],
          [
           "This Is Why We Can't Have Nice Things"
          ],
          [
           "Call It What You Want"
          ],
          [
           "New Year’s Day"
          ]
         ],
         "hovertemplate": "album=%{x}<br>popularity=%{y}<br>name=%{customdata[0]}<extra></extra>",
         "legendgroup": "reputation",
         "marker": {
          "color": "#c994c7",
          "line": {
           "color": "DarkSlateGrey",
           "width": 1
          },
          "opacity": 0.8,
          "size": 15,
          "symbol": "diamond"
         },
         "mode": "markers",
         "name": "reputation",
         "orientation": "v",
         "showlegend": true,
         "type": "scatter",
         "x": [
          "reputation",
          "reputation",
          "reputation",
          "reputation",
          "reputation",
          "reputation",
          "reputation",
          "reputation",
          "reputation",
          "reputation",
          "reputation",
          "reputation",
          "reputation",
          "reputation",
          "reputation"
         ],
         "xaxis": "x",
         "y": [
          73,
          71,
          77,
          77,
          75,
          71,
          73,
          72,
          65,
          68,
          67,
          68,
          68,
          70,
          66
         ],
         "yaxis": "y"
        },
        {
         "customdata": [
          [
           "The Man"
          ],
          [
           "I Forgot That You Existed"
          ],
          [
           "Cruel Summer"
          ],
          [
           "Lover"
          ],
          [
           "The Man"
          ],
          [
           "The Archer"
          ],
          [
           "I Think He Knows"
          ],
          [
           "Miss Americana & The Heartbreak Prince"
          ],
          [
           "Paper Rings"
          ],
          [
           "Cornelia Street"
          ],
          [
           "Death By A Thousand Cuts"
          ],
          [
           "London Boy"
          ],
          [
           "Soon You’ll Get Better (feat. The Chicks)"
          ],
          [
           "False God"
          ],
          [
           "You Need To Calm Down"
          ],
          [
           "Afterglow"
          ],
          [
           "ME! (feat. Brendon Urie of Panic! At The Disco)"
          ],
          [
           "It’s Nice To Have A Friend"
          ],
          [
           "Daylight"
          ]
         ],
         "hovertemplate": "album=%{x}<br>popularity=%{y}<br>name=%{customdata[0]}<extra></extra>",
         "legendgroup": "Lover",
         "marker": {
          "color": "#d4b9da",
          "line": {
           "color": "DarkSlateGrey",
           "width": 1
          },
          "opacity": 0.8,
          "size": 15,
          "symbol": "diamond"
         },
         "mode": "markers",
         "name": "Lover",
         "orientation": "v",
         "showlegend": true,
         "type": "scatter",
         "x": [
          "Lover",
          "Lover",
          "Lover",
          "Lover",
          "Lover",
          "Lover",
          "Lover",
          "Lover",
          "Lover",
          "Lover",
          "Lover",
          "Lover",
          "Lover",
          "Lover",
          "Lover",
          "Lover",
          "Lover",
          "Lover",
          "Lover"
         ],
         "xaxis": "x",
         "y": [
          76,
          73,
          77,
          77,
          76,
          68,
          69,
          69,
          74,
          70,
          70,
          71,
          65,
          67,
          80,
          68,
          78,
          64,
          67
         ],
         "yaxis": "y"
        },
        {
         "customdata": [
          [
           "cardigan"
          ],
          [
           "exile (feat. Bon Iver)"
          ],
          [
           "betty"
          ],
          [
           "august"
          ],
          [
           "this is me trying"
          ],
          [
           "the 1"
          ],
          [
           "the last great american dynasty"
          ],
          [
           "my tears ricochet"
          ],
          [
           "mirrorball"
          ],
          [
           "seven"
          ],
          [
           "illicit affairs"
          ],
          [
           "invisible string"
          ],
          [
           "mad woman"
          ],
          [
           "epiphany"
          ],
          [
           "peace"
          ],
          [
           "hoax"
          ]
         ],
         "hovertemplate": "album=%{x}<br>popularity=%{y}<br>name=%{customdata[0]}<extra></extra>",
         "legendgroup": "folklore",
         "marker": {
          "color": "#e7e1ef",
          "line": {
           "color": "DarkSlateGrey",
           "width": 1
          },
          "opacity": 0.8,
          "size": 15,
          "symbol": "diamond"
         },
         "mode": "markers",
         "name": "folklore",
         "orientation": "v",
         "showlegend": true,
         "type": "scatter",
         "x": [
          "folklore",
          "folklore",
          "folklore",
          "folklore",
          "folklore",
          "folklore",
          "folklore",
          "folklore",
          "folklore",
          "folklore",
          "folklore",
          "folklore",
          "folklore",
          "folklore",
          "folklore",
          "folklore"
         ],
         "xaxis": "x",
         "y": [
          80,
          78,
          72,
          75,
          70,
          76,
          71,
          71,
          70,
          69,
          70,
          71,
          67,
          67,
          67,
          67
         ],
         "yaxis": "y"
        },
        {
         "customdata": [
          [
           "willow"
          ],
          [
           "champagne problems"
          ],
          [
           "gold rush"
          ],
          [
           "‘tis the damn season"
          ],
          [
           "tolerate it"
          ],
          [
           "no body, no crime (feat. HAIM)"
          ],
          [
           "happiness"
          ],
          [
           "dorothea"
          ],
          [
           "coney island (feat. The National)"
          ],
          [
           "ivy"
          ],
          [
           "cowboy like me"
          ],
          [
           "long story short"
          ],
          [
           "marjorie"
          ],
          [
           "closure"
          ],
          [
           "evermore (feat. Bon Iver)"
          ],
          [
           "right where you left me - bonus track"
          ],
          [
           "it’s time to go - bonus track"
          ]
         ],
         "hovertemplate": "album=%{x}<br>popularity=%{y}<br>name=%{customdata[0]}<extra></extra>",
         "legendgroup": "evermore",
         "marker": {
          "color": "#f7f4f9",
          "line": {
           "color": "DarkSlateGrey",
           "width": 1
          },
          "opacity": 0.8,
          "size": 15,
          "symbol": "diamond"
         },
         "mode": "markers",
         "name": "evermore",
         "orientation": "v",
         "showlegend": true,
         "type": "scatter",
         "x": [
          "evermore",
          "evermore",
          "evermore",
          "evermore",
          "evermore",
          "evermore",
          "evermore",
          "evermore",
          "evermore",
          "evermore",
          "evermore",
          "evermore",
          "evermore",
          "evermore",
          "evermore",
          "evermore",
          "evermore"
         ],
         "xaxis": "x",
         "y": [
          66,
          67,
          65,
          65,
          64,
          64,
          63,
          63,
          63,
          64,
          63,
          63,
          62,
          61,
          63,
          70,
          67
         ],
         "yaxis": "y"
        }
       ],
       "layout": {
        "legend": {
         "title": {
          "text": "album"
         },
         "tracegroupgap": 0
        },
        "template": {
         "data": {
          "bar": [
           {
            "error_x": {
             "color": "#2a3f5f"
            },
            "error_y": {
             "color": "#2a3f5f"
            },
            "marker": {
             "line": {
              "color": "white",
              "width": 0.5
             },
             "pattern": {
              "fillmode": "overlay",
              "size": 10,
              "solidity": 0.2
             }
            },
            "type": "bar"
           }
          ],
          "barpolar": [
           {
            "marker": {
             "line": {
              "color": "white",
              "width": 0.5
             },
             "pattern": {
              "fillmode": "overlay",
              "size": 10,
              "solidity": 0.2
             }
            },
            "type": "barpolar"
           }
          ],
          "carpet": [
           {
            "aaxis": {
             "endlinecolor": "#2a3f5f",
             "gridcolor": "#C8D4E3",
             "linecolor": "#C8D4E3",
             "minorgridcolor": "#C8D4E3",
             "startlinecolor": "#2a3f5f"
            },
            "baxis": {
             "endlinecolor": "#2a3f5f",
             "gridcolor": "#C8D4E3",
             "linecolor": "#C8D4E3",
             "minorgridcolor": "#C8D4E3",
             "startlinecolor": "#2a3f5f"
            },
            "type": "carpet"
           }
          ],
          "choropleth": [
           {
            "colorbar": {
             "outlinewidth": 0,
             "ticks": ""
            },
            "type": "choropleth"
           }
          ],
          "contour": [
           {
            "colorbar": {
             "outlinewidth": 0,
             "ticks": ""
            },
            "colorscale": [
             [
              0,
              "#0d0887"
             ],
             [
              0.1111111111111111,
              "#46039f"
             ],
             [
              0.2222222222222222,
              "#7201a8"
             ],
             [
              0.3333333333333333,
              "#9c179e"
             ],
             [
              0.4444444444444444,
              "#bd3786"
             ],
             [
              0.5555555555555556,
              "#d8576b"
             ],
             [
              0.6666666666666666,
              "#ed7953"
             ],
             [
              0.7777777777777778,
              "#fb9f3a"
             ],
             [
              0.8888888888888888,
              "#fdca26"
             ],
             [
              1,
              "#f0f921"
             ]
            ],
            "type": "contour"
           }
          ],
          "contourcarpet": [
           {
            "colorbar": {
             "outlinewidth": 0,
             "ticks": ""
            },
            "type": "contourcarpet"
           }
          ],
          "heatmap": [
           {
            "colorbar": {
             "outlinewidth": 0,
             "ticks": ""
            },
            "colorscale": [
             [
              0,
              "#0d0887"
             ],
             [
              0.1111111111111111,
              "#46039f"
             ],
             [
              0.2222222222222222,
              "#7201a8"
             ],
             [
              0.3333333333333333,
              "#9c179e"
             ],
             [
              0.4444444444444444,
              "#bd3786"
             ],
             [
              0.5555555555555556,
              "#d8576b"
             ],
             [
              0.6666666666666666,
              "#ed7953"
             ],
             [
              0.7777777777777778,
              "#fb9f3a"
             ],
             [
              0.8888888888888888,
              "#fdca26"
             ],
             [
              1,
              "#f0f921"
             ]
            ],
            "type": "heatmap"
           }
          ],
          "heatmapgl": [
           {
            "colorbar": {
             "outlinewidth": 0,
             "ticks": ""
            },
            "colorscale": [
             [
              0,
              "#0d0887"
             ],
             [
              0.1111111111111111,
              "#46039f"
             ],
             [
              0.2222222222222222,
              "#7201a8"
             ],
             [
              0.3333333333333333,
              "#9c179e"
             ],
             [
              0.4444444444444444,
              "#bd3786"
             ],
             [
              0.5555555555555556,
              "#d8576b"
             ],
             [
              0.6666666666666666,
              "#ed7953"
             ],
             [
              0.7777777777777778,
              "#fb9f3a"
             ],
             [
              0.8888888888888888,
              "#fdca26"
             ],
             [
              1,
              "#f0f921"
             ]
            ],
            "type": "heatmapgl"
           }
          ],
          "histogram": [
           {
            "marker": {
             "pattern": {
              "fillmode": "overlay",
              "size": 10,
              "solidity": 0.2
             }
            },
            "type": "histogram"
           }
          ],
          "histogram2d": [
           {
            "colorbar": {
             "outlinewidth": 0,
             "ticks": ""
            },
            "colorscale": [
             [
              0,
              "#0d0887"
             ],
             [
              0.1111111111111111,
              "#46039f"
             ],
             [
              0.2222222222222222,
              "#7201a8"
             ],
             [
              0.3333333333333333,
              "#9c179e"
             ],
             [
              0.4444444444444444,
              "#bd3786"
             ],
             [
              0.5555555555555556,
              "#d8576b"
             ],
             [
              0.6666666666666666,
              "#ed7953"
             ],
             [
              0.7777777777777778,
              "#fb9f3a"
             ],
             [
              0.8888888888888888,
              "#fdca26"
             ],
             [
              1,
              "#f0f921"
             ]
            ],
            "type": "histogram2d"
           }
          ],
          "histogram2dcontour": [
           {
            "colorbar": {
             "outlinewidth": 0,
             "ticks": ""
            },
            "colorscale": [
             [
              0,
              "#0d0887"
             ],
             [
              0.1111111111111111,
              "#46039f"
             ],
             [
              0.2222222222222222,
              "#7201a8"
             ],
             [
              0.3333333333333333,
              "#9c179e"
             ],
             [
              0.4444444444444444,
              "#bd3786"
             ],
             [
              0.5555555555555556,
              "#d8576b"
             ],
             [
              0.6666666666666666,
              "#ed7953"
             ],
             [
              0.7777777777777778,
              "#fb9f3a"
             ],
             [
              0.8888888888888888,
              "#fdca26"
             ],
             [
              1,
              "#f0f921"
             ]
            ],
            "type": "histogram2dcontour"
           }
          ],
          "mesh3d": [
           {
            "colorbar": {
             "outlinewidth": 0,
             "ticks": ""
            },
            "type": "mesh3d"
           }
          ],
          "parcoords": [
           {
            "line": {
             "colorbar": {
              "outlinewidth": 0,
              "ticks": ""
             }
            },
            "type": "parcoords"
           }
          ],
          "pie": [
           {
            "automargin": true,
            "type": "pie"
           }
          ],
          "scatter": [
           {
            "fillpattern": {
             "fillmode": "overlay",
             "size": 10,
             "solidity": 0.2
            },
            "type": "scatter"
           }
          ],
          "scatter3d": [
           {
            "line": {
             "colorbar": {
              "outlinewidth": 0,
              "ticks": ""
             }
            },
            "marker": {
             "colorbar": {
              "outlinewidth": 0,
              "ticks": ""
             }
            },
            "type": "scatter3d"
           }
          ],
          "scattercarpet": [
           {
            "marker": {
             "colorbar": {
              "outlinewidth": 0,
              "ticks": ""
             }
            },
            "type": "scattercarpet"
           }
          ],
          "scattergeo": [
           {
            "marker": {
             "colorbar": {
              "outlinewidth": 0,
              "ticks": ""
             }
            },
            "type": "scattergeo"
           }
          ],
          "scattergl": [
           {
            "marker": {
             "colorbar": {
              "outlinewidth": 0,
              "ticks": ""
             }
            },
            "type": "scattergl"
           }
          ],
          "scattermapbox": [
           {
            "marker": {
             "colorbar": {
              "outlinewidth": 0,
              "ticks": ""
             }
            },
            "type": "scattermapbox"
           }
          ],
          "scatterpolar": [
           {
            "marker": {
             "colorbar": {
              "outlinewidth": 0,
              "ticks": ""
             }
            },
            "type": "scatterpolar"
           }
          ],
          "scatterpolargl": [
           {
            "marker": {
             "colorbar": {
              "outlinewidth": 0,
              "ticks": ""
             }
            },
            "type": "scatterpolargl"
           }
          ],
          "scatterternary": [
           {
            "marker": {
             "colorbar": {
              "outlinewidth": 0,
              "ticks": ""
             }
            },
            "type": "scatterternary"
           }
          ],
          "surface": [
           {
            "colorbar": {
             "outlinewidth": 0,
             "ticks": ""
            },
            "colorscale": [
             [
              0,
              "#0d0887"
             ],
             [
              0.1111111111111111,
              "#46039f"
             ],
             [
              0.2222222222222222,
              "#7201a8"
             ],
             [
              0.3333333333333333,
              "#9c179e"
             ],
             [
              0.4444444444444444,
              "#bd3786"
             ],
             [
              0.5555555555555556,
              "#d8576b"
             ],
             [
              0.6666666666666666,
              "#ed7953"
             ],
             [
              0.7777777777777778,
              "#fb9f3a"
             ],
             [
              0.8888888888888888,
              "#fdca26"
             ],
             [
              1,
              "#f0f921"
             ]
            ],
            "type": "surface"
           }
          ],
          "table": [
           {
            "cells": {
             "fill": {
              "color": "#EBF0F8"
             },
             "line": {
              "color": "white"
             }
            },
            "header": {
             "fill": {
              "color": "#C8D4E3"
             },
             "line": {
              "color": "white"
             }
            },
            "type": "table"
           }
          ]
         },
         "layout": {
          "annotationdefaults": {
           "arrowcolor": "#2a3f5f",
           "arrowhead": 0,
           "arrowwidth": 1
          },
          "autotypenumbers": "strict",
          "coloraxis": {
           "colorbar": {
            "outlinewidth": 0,
            "ticks": ""
           }
          },
          "colorscale": {
           "diverging": [
            [
             0,
             "#8e0152"
            ],
            [
             0.1,
             "#c51b7d"
            ],
            [
             0.2,
             "#de77ae"
            ],
            [
             0.3,
             "#f1b6da"
            ],
            [
             0.4,
             "#fde0ef"
            ],
            [
             0.5,
             "#f7f7f7"
            ],
            [
             0.6,
             "#e6f5d0"
            ],
            [
             0.7,
             "#b8e186"
            ],
            [
             0.8,
             "#7fbc41"
            ],
            [
             0.9,
             "#4d9221"
            ],
            [
             1,
             "#276419"
            ]
           ],
           "sequential": [
            [
             0,
             "#0d0887"
            ],
            [
             0.1111111111111111,
             "#46039f"
            ],
            [
             0.2222222222222222,
             "#7201a8"
            ],
            [
             0.3333333333333333,
             "#9c179e"
            ],
            [
             0.4444444444444444,
             "#bd3786"
            ],
            [
             0.5555555555555556,
             "#d8576b"
            ],
            [
             0.6666666666666666,
             "#ed7953"
            ],
            [
             0.7777777777777778,
             "#fb9f3a"
            ],
            [
             0.8888888888888888,
             "#fdca26"
            ],
            [
             1,
             "#f0f921"
            ]
           ],
           "sequentialminus": [
            [
             0,
             "#0d0887"
            ],
            [
             0.1111111111111111,
             "#46039f"
            ],
            [
             0.2222222222222222,
             "#7201a8"
            ],
            [
             0.3333333333333333,
             "#9c179e"
            ],
            [
             0.4444444444444444,
             "#bd3786"
            ],
            [
             0.5555555555555556,
             "#d8576b"
            ],
            [
             0.6666666666666666,
             "#ed7953"
            ],
            [
             0.7777777777777778,
             "#fb9f3a"
            ],
            [
             0.8888888888888888,
             "#fdca26"
            ],
            [
             1,
             "#f0f921"
            ]
           ]
          },
          "colorway": [
           "#636efa",
           "#EF553B",
           "#00cc96",
           "#ab63fa",
           "#FFA15A",
           "#19d3f3",
           "#FF6692",
           "#B6E880",
           "#FF97FF",
           "#FECB52"
          ],
          "font": {
           "color": "#2a3f5f"
          },
          "geo": {
           "bgcolor": "white",
           "lakecolor": "white",
           "landcolor": "white",
           "showlakes": true,
           "showland": true,
           "subunitcolor": "#C8D4E3"
          },
          "hoverlabel": {
           "align": "left"
          },
          "hovermode": "closest",
          "mapbox": {
           "style": "light"
          },
          "paper_bgcolor": "white",
          "plot_bgcolor": "white",
          "polar": {
           "angularaxis": {
            "gridcolor": "#EBF0F8",
            "linecolor": "#EBF0F8",
            "ticks": ""
           },
           "bgcolor": "white",
           "radialaxis": {
            "gridcolor": "#EBF0F8",
            "linecolor": "#EBF0F8",
            "ticks": ""
           }
          },
          "scene": {
           "xaxis": {
            "backgroundcolor": "white",
            "gridcolor": "#DFE8F3",
            "gridwidth": 2,
            "linecolor": "#EBF0F8",
            "showbackground": true,
            "ticks": "",
            "zerolinecolor": "#EBF0F8"
           },
           "yaxis": {
            "backgroundcolor": "white",
            "gridcolor": "#DFE8F3",
            "gridwidth": 2,
            "linecolor": "#EBF0F8",
            "showbackground": true,
            "ticks": "",
            "zerolinecolor": "#EBF0F8"
           },
           "zaxis": {
            "backgroundcolor": "white",
            "gridcolor": "#DFE8F3",
            "gridwidth": 2,
            "linecolor": "#EBF0F8",
            "showbackground": true,
            "ticks": "",
            "zerolinecolor": "#EBF0F8"
           }
          },
          "shapedefaults": {
           "line": {
            "color": "#2a3f5f"
           }
          },
          "ternary": {
           "aaxis": {
            "gridcolor": "#DFE8F3",
            "linecolor": "#A2B1C6",
            "ticks": ""
           },
           "baxis": {
            "gridcolor": "#DFE8F3",
            "linecolor": "#A2B1C6",
            "ticks": ""
           },
           "bgcolor": "white",
           "caxis": {
            "gridcolor": "#DFE8F3",
            "linecolor": "#A2B1C6",
            "ticks": ""
           }
          },
          "title": {
           "x": 0.05
          },
          "xaxis": {
           "automargin": true,
           "gridcolor": "#EBF0F8",
           "linecolor": "#EBF0F8",
           "ticks": "",
           "title": {
            "standoff": 15
           },
           "zerolinecolor": "#EBF0F8",
           "zerolinewidth": 2
          },
          "yaxis": {
           "automargin": true,
           "gridcolor": "#EBF0F8",
           "linecolor": "#EBF0F8",
           "ticks": "",
           "title": {
            "standoff": 15
           },
           "zerolinecolor": "#EBF0F8",
           "zerolinewidth": 2
          }
         }
        },
        "title": {
         "text": "Popularity of songs"
        },
        "xaxis": {
         "anchor": "y",
         "categoryarray": [
          "Taylor Swift",
          "Fearless",
          "Speak Now",
          "Red",
          "1989",
          "reputation",
          "Lover",
          "folklore",
          "evermore"
         ],
         "categoryorder": "array",
         "domain": [
          0,
          1
         ],
         "title": {
          "text": "album"
         }
        },
        "yaxis": {
         "anchor": "x",
         "domain": [
          0,
          1
         ],
         "title": {
          "text": "popularity"
         }
        }
       }
      }
     },
     "metadata": {},
     "output_type": "display_data"
    }
   ],
   "source": [
    "# popularity scatter\n",
    "create_plotly_scatter_by_album(df, \"album\", \"popularity\", ['name'], 'album', color_purd, 'Popularity of songs', 'plotly_white', 15, 'diamond', 1, 'DarkSlateGrey')"
   ]
  },
  {
   "cell_type": "code",
   "execution_count": 29,
   "id": "277a78fe",
   "metadata": {},
   "outputs": [
    {
     "data": {
      "application/vnd.plotly.v1+json": {
       "config": {
        "plotlyServerURL": "https://plot.ly"
       },
       "data": [
        {
         "customdata": [
          [
           "Picture To Burn"
          ],
          [
           "Our Song"
          ],
          [
           "Should've Said No"
          ],
          [
           "Tim McGraw"
          ],
          [
           "A Place in this World"
          ],
          [
           "Cold As You"
          ],
          [
           "The Outside"
          ],
          [
           "Tied Together with a Smile"
          ],
          [
           "Stay Beautiful"
          ],
          [
           "Mary's Song (Oh My My My)"
          ],
          [
           "I'm Only Me When I'm With You"
          ],
          [
           "Invisible"
          ],
          [
           "A Perfectly Good Heart"
          ],
          [
           "Teardrops on My Guitar - Pop Version"
          ],
          [
           "Teardrops On My Guitar - Radio Single Remix"
          ]
         ],
         "hovertemplate": "album=%{x}<br>acousticness=%{y}<br>name=%{customdata[0]}<extra></extra>",
         "legendgroup": "Taylor Swift",
         "marker": {
          "color": "#67001f",
          "line": {
           "color": "DarkSlateGrey",
           "width": 1
          },
          "opacity": 0.8,
          "size": 15,
          "symbol": "star"
         },
         "mode": "markers",
         "name": "Taylor Swift",
         "orientation": "v",
         "showlegend": true,
         "type": "scatter",
         "x": [
          "Taylor Swift",
          "Taylor Swift",
          "Taylor Swift",
          "Taylor Swift",
          "Taylor Swift",
          "Taylor Swift",
          "Taylor Swift",
          "Taylor Swift",
          "Taylor Swift",
          "Taylor Swift",
          "Taylor Swift",
          "Taylor Swift",
          "Taylor Swift",
          "Taylor Swift",
          "Taylor Swift"
         ],
         "xaxis": "x",
         "y": [
          0.173,
          0.111,
          0.0103,
          0.575,
          0.051,
          0.217,
          0.00491,
          0.525,
          0.0868,
          0.0177,
          0.00452,
          0.637,
          0.00349,
          0.0402,
          0.288
         ],
         "yaxis": "y"
        },
        {
         "customdata": [
          [
           "You Belong With Me"
          ],
          [
           "White Horse"
          ],
          [
           "Fearless"
          ],
          [
           "Fifteen"
          ],
          [
           "Jump Then Fall"
          ],
          [
           "Untouchable"
          ],
          [
           "Forever & Always - Piano Version"
          ],
          [
           "Come In With The Rain"
          ],
          [
           "SuperStar"
          ],
          [
           "The Other Side Of The Door"
          ],
          [
           "Hey Stephen"
          ],
          [
           "Breathe"
          ],
          [
           "Tell Me Why"
          ],
          [
           "You're Not Sorry"
          ],
          [
           "The Way I Loved You"
          ],
          [
           "Forever & Always"
          ],
          [
           "The Best Day"
          ],
          [
           "Change"
          ]
         ],
         "hovertemplate": "album=%{x}<br>acousticness=%{y}<br>name=%{customdata[0]}<extra></extra>",
         "legendgroup": "Fearless",
         "marker": {
          "color": "#980043",
          "line": {
           "color": "DarkSlateGrey",
           "width": 1
          },
          "opacity": 0.8,
          "size": 15,
          "symbol": "star"
         },
         "mode": "markers",
         "name": "Fearless",
         "orientation": "v",
         "showlegend": true,
         "type": "scatter",
         "x": [
          "Fearless",
          "Fearless",
          "Fearless",
          "Fearless",
          "Fearless",
          "Fearless",
          "Fearless",
          "Fearless",
          "Fearless",
          "Fearless",
          "Fearless",
          "Fearless",
          "Fearless",
          "Fearless",
          "Fearless",
          "Fearless",
          "Fearless",
          "Fearless"
         ],
         "xaxis": "x",
         "y": [
          0.164,
          0.302,
          0.0364,
          0.0728,
          0.111,
          0.0583,
          0.852,
          0.0868,
          0.367,
          0.169,
          0.168,
          0.373,
          0.0606,
          0.13,
          0.0322,
          0.0907,
          0.611,
          0.00471
         ],
         "yaxis": "y"
        },
        {
         "customdata": [
          [
           "Mean"
          ],
          [
           "The Story Of Us"
          ],
          [
           "Speak Now"
          ],
          [
           "Ours"
          ],
          [
           "Mine"
          ],
          [
           "Sparks Fly"
          ],
          [
           "Back To December"
          ],
          [
           "Dear John"
          ],
          [
           "Never Grow Up"
          ],
          [
           "Enchanted"
          ],
          [
           "Better Than Revenge"
          ],
          [
           "Innocent"
          ],
          [
           "Haunted"
          ],
          [
           "Last Kiss"
          ],
          [
           "Long Live"
          ],
          [
           "If This Was A Movie"
          ],
          [
           "Superman"
          ],
          [
           "Back To December - Acoustic Version"
          ],
          [
           "Haunted - Acoustic Version"
          ],
          [
           "Mine - POP Mix"
          ]
         ],
         "hovertemplate": "album=%{x}<br>acousticness=%{y}<br>name=%{customdata[0]}<extra></extra>",
         "legendgroup": "Speak Now",
         "marker": {
          "color": "#ce1256",
          "line": {
           "color": "DarkSlateGrey",
           "width": 1
          },
          "opacity": 0.8,
          "size": 15,
          "symbol": "star"
         },
         "mode": "markers",
         "name": "Speak Now",
         "orientation": "v",
         "showlegend": true,
         "type": "scatter",
         "x": [
          "Speak Now",
          "Speak Now",
          "Speak Now",
          "Speak Now",
          "Speak Now",
          "Speak Now",
          "Speak Now",
          "Speak Now",
          "Speak Now",
          "Speak Now",
          "Speak Now",
          "Speak Now",
          "Speak Now",
          "Speak Now",
          "Speak Now",
          "Speak Now",
          "Speak Now",
          "Speak Now",
          "Speak Now",
          "Speak Now"
         ],
         "xaxis": "x",
         "y": [
          0.452,
          0.00478,
          0.095,
          0.537,
          0.00265,
          0.0396,
          0.117,
          0.166,
          0.819,
          0.0739,
          0.0139,
          0.186,
          0.0826,
          0.57,
          0.036,
          0.166,
          0.0268,
          0.748,
          0.842,
          0.00727
         ],
         "yaxis": "y"
        },
        {
         "customdata": [
          [
           "We Are Never Ever Getting Back Together"
          ],
          [
           "I Knew You Were Trouble."
          ],
          [
           "22"
          ],
          [
           "All Too Well"
          ],
          [
           "State Of Grace"
          ],
          [
           "Red"
          ],
          [
           "Treacherous"
          ],
          [
           "I Almost Do"
          ],
          [
           "Stay Stay Stay"
          ],
          [
           "The Last Time"
          ],
          [
           "Holy Ground"
          ],
          [
           "Sad Beautiful Tragic"
          ],
          [
           "Everything Has Changed"
          ],
          [
           "Starlight"
          ],
          [
           "Begin Again"
          ],
          [
           "Come Back...Be Here"
          ],
          [
           "Girl At Home"
          ],
          [
           "The Lucky One"
          ],
          [
           "The Moment I Knew"
          ],
          [
           "State Of Grace - Acoustic Version"
          ],
          [
           "Treacherous - Original Demo Recording"
          ],
          [
           "Red - Original Demo Recording"
          ]
         ],
         "hovertemplate": "album=%{x}<br>acousticness=%{y}<br>name=%{customdata[0]}<extra></extra>",
         "legendgroup": "Red",
         "marker": {
          "color": "#e7298a",
          "line": {
           "color": "DarkSlateGrey",
           "width": 1
          },
          "opacity": 0.8,
          "size": 15,
          "symbol": "star"
         },
         "mode": "markers",
         "name": "Red",
         "orientation": "v",
         "showlegend": true,
         "type": "scatter",
         "x": [
          "Red",
          "Red",
          "Red",
          "Red",
          "Red",
          "Red",
          "Red",
          "Red",
          "Red",
          "Red",
          "Red",
          "Red",
          "Red",
          "Red",
          "Red",
          "Red",
          "Red",
          "Red",
          "Red",
          "Red",
          "Red",
          "Red"
         ],
         "xaxis": "x",
         "y": [
          0.00957,
          0.00454,
          0.00215,
          0.0382,
          0.000197,
          0.0773,
          0.101,
          0.0173,
          0.307,
          0.035,
          0.0162,
          0.632,
          0.36,
          0.0213,
          0.199,
          0.00471,
          0.272,
          0.0371,
          0.187,
          0.664,
          0.175,
          0.113
         ],
         "yaxis": "y"
        },
        {
         "customdata": [
          [
           "Blank Space"
          ],
          [
           "Shake It Off"
          ],
          [
           "Style"
          ],
          [
           "Out Of The Woods"
          ],
          [
           "Wildest Dreams"
          ],
          [
           "Welcome To New York"
          ],
          [
           "All You Had To Do Was Stay"
          ],
          [
           "I Wish You Would"
          ],
          [
           "Bad Blood"
          ],
          [
           "How You Get The Girl"
          ],
          [
           "This Love"
          ],
          [
           "I Know Places"
          ],
          [
           "Clean"
          ],
          [
           "Wonderland"
          ],
          [
           "You Are In Love"
          ],
          [
           "New Romantics"
          ]
         ],
         "hovertemplate": "album=%{x}<br>acousticness=%{y}<br>name=%{customdata[0]}<extra></extra>",
         "legendgroup": "1989",
         "marker": {
          "color": "#df65b0",
          "line": {
           "color": "DarkSlateGrey",
           "width": 1
          },
          "opacity": 0.8,
          "size": 15,
          "symbol": "star"
         },
         "mode": "markers",
         "name": "1989",
         "orientation": "v",
         "showlegend": true,
         "type": "scatter",
         "x": [
          "1989",
          "1989",
          "1989",
          "1989",
          "1989",
          "1989",
          "1989",
          "1989",
          "1989",
          "1989",
          "1989",
          "1989",
          "1989",
          "1989",
          "1989",
          "1989"
         ],
         "xaxis": "x",
         "y": [
          0.103,
          0.0647,
          0.00245,
          0.000743,
          0.0692,
          0.0348,
          0.00201,
          0.0158,
          0.0885,
          0.00364,
          0.678,
          0.245,
          0.232,
          0.0493,
          0.707,
          0.00463
         ],
         "yaxis": "y"
        },
        {
         "customdata": [
          [
           "...Ready For It?"
          ],
          [
           "End Game"
          ],
          [
           "Look What You Made Me Do"
          ],
          [
           "Delicate"
          ],
          [
           "Getaway Car"
          ],
          [
           "Gorgeous"
          ],
          [
           "I Did Something Bad"
          ],
          [
           "Don’t Blame Me"
          ],
          [
           "So It Goes..."
          ],
          [
           "King Of My Heart"
          ],
          [
           "Dancing With Our Hands Tied"
          ],
          [
           "Dress"
          ],
          [
           "This Is Why We Can't Have Nice Things"
          ],
          [
           "Call It What You Want"
          ],
          [
           "New Year’s Day"
          ]
         ],
         "hovertemplate": "album=%{x}<br>acousticness=%{y}<br>name=%{customdata[0]}<extra></extra>",
         "legendgroup": "reputation",
         "marker": {
          "color": "#c994c7",
          "line": {
           "color": "DarkSlateGrey",
           "width": 1
          },
          "opacity": 0.8,
          "size": 15,
          "symbol": "star"
         },
         "mode": "markers",
         "name": "reputation",
         "orientation": "v",
         "showlegend": true,
         "type": "scatter",
         "x": [
          "reputation",
          "reputation",
          "reputation",
          "reputation",
          "reputation",
          "reputation",
          "reputation",
          "reputation",
          "reputation",
          "reputation",
          "reputation",
          "reputation",
          "reputation",
          "reputation",
          "reputation"
         ],
         "xaxis": "x",
         "y": [
          0.0527,
          0.00845,
          0.204,
          0.216,
          0.00465,
          0.0713,
          0.0679,
          0.106,
          0.122,
          0.00882,
          0.0604,
          0.0329,
          0.0156,
          0.186,
          0.921
         ],
         "yaxis": "y"
        },
        {
         "customdata": [
          [
           "The Man"
          ],
          [
           "I Forgot That You Existed"
          ],
          [
           "Cruel Summer"
          ],
          [
           "Lover"
          ],
          [
           "The Man"
          ],
          [
           "The Archer"
          ],
          [
           "I Think He Knows"
          ],
          [
           "Miss Americana & The Heartbreak Prince"
          ],
          [
           "Paper Rings"
          ],
          [
           "Cornelia Street"
          ],
          [
           "Death By A Thousand Cuts"
          ],
          [
           "London Boy"
          ],
          [
           "Soon You’ll Get Better (feat. The Chicks)"
          ],
          [
           "False God"
          ],
          [
           "You Need To Calm Down"
          ],
          [
           "Afterglow"
          ],
          [
           "ME! (feat. Brendon Urie of Panic! At The Disco)"
          ],
          [
           "It’s Nice To Have A Friend"
          ],
          [
           "Daylight"
          ]
         ],
         "hovertemplate": "album=%{x}<br>acousticness=%{y}<br>name=%{customdata[0]}<extra></extra>",
         "legendgroup": "Lover",
         "marker": {
          "color": "#d4b9da",
          "line": {
           "color": "DarkSlateGrey",
           "width": 1
          },
          "opacity": 0.8,
          "size": 15,
          "symbol": "star"
         },
         "mode": "markers",
         "name": "Lover",
         "orientation": "v",
         "showlegend": true,
         "type": "scatter",
         "x": [
          "Lover",
          "Lover",
          "Lover",
          "Lover",
          "Lover",
          "Lover",
          "Lover",
          "Lover",
          "Lover",
          "Lover",
          "Lover",
          "Lover",
          "Lover",
          "Lover",
          "Lover",
          "Lover",
          "Lover",
          "Lover",
          "Lover"
         ],
         "xaxis": "x",
         "y": [
          0.0767,
          0.298,
          0.117,
          0.492,
          0.0767,
          0.12,
          0.00889,
          0.028,
          0.0129,
          0.781,
          0.454,
          0.0246,
          0.907,
          0.736,
          0.00929,
          0.13,
          0.033,
          0.971,
          0.808
         ],
         "yaxis": "y"
        },
        {
         "customdata": [
          [
           "cardigan"
          ],
          [
           "exile (feat. Bon Iver)"
          ],
          [
           "betty"
          ],
          [
           "august"
          ],
          [
           "this is me trying"
          ],
          [
           "the 1"
          ],
          [
           "the last great american dynasty"
          ],
          [
           "my tears ricochet"
          ],
          [
           "mirrorball"
          ],
          [
           "seven"
          ],
          [
           "illicit affairs"
          ],
          [
           "invisible string"
          ],
          [
           "mad woman"
          ],
          [
           "epiphany"
          ],
          [
           "peace"
          ],
          [
           "hoax"
          ]
         ],
         "hovertemplate": "album=%{x}<br>acousticness=%{y}<br>name=%{customdata[0]}<extra></extra>",
         "legendgroup": "folklore",
         "marker": {
          "color": "#e7e1ef",
          "line": {
           "color": "DarkSlateGrey",
           "width": 1
          },
          "opacity": 0.8,
          "size": 15,
          "symbol": "star"
         },
         "mode": "markers",
         "name": "folklore",
         "orientation": "v",
         "showlegend": true,
         "type": "scatter",
         "x": [
          "folklore",
          "folklore",
          "folklore",
          "folklore",
          "folklore",
          "folklore",
          "folklore",
          "folklore",
          "folklore",
          "folklore",
          "folklore",
          "folklore",
          "folklore",
          "folklore",
          "folklore",
          "folklore"
         ],
         "xaxis": "x",
         "y": [
          0.537,
          0.778,
          0.6,
          0.538,
          0.314,
          0.757,
          0.467,
          0.806,
          0.687,
          0.9,
          0.881,
          0.838,
          0.655,
          0.731,
          0.918,
          0.966
         ],
         "yaxis": "y"
        },
        {
         "customdata": [
          [
           "willow"
          ],
          [
           "champagne problems"
          ],
          [
           "gold rush"
          ],
          [
           "‘tis the damn season"
          ],
          [
           "tolerate it"
          ],
          [
           "no body, no crime (feat. HAIM)"
          ],
          [
           "happiness"
          ],
          [
           "dorothea"
          ],
          [
           "coney island (feat. The National)"
          ],
          [
           "ivy"
          ],
          [
           "cowboy like me"
          ],
          [
           "long story short"
          ],
          [
           "marjorie"
          ],
          [
           "closure"
          ],
          [
           "evermore (feat. Bon Iver)"
          ],
          [
           "right where you left me - bonus track"
          ],
          [
           "it’s time to go - bonus track"
          ]
         ],
         "hovertemplate": "album=%{x}<br>acousticness=%{y}<br>name=%{customdata[0]}<extra></extra>",
         "legendgroup": "evermore",
         "marker": {
          "color": "#f7f4f9",
          "line": {
           "color": "DarkSlateGrey",
           "width": 1
          },
          "opacity": 0.8,
          "size": 15,
          "symbol": "star"
         },
         "mode": "markers",
         "name": "evermore",
         "orientation": "v",
         "showlegend": true,
         "type": "scatter",
         "x": [
          "evermore",
          "evermore",
          "evermore",
          "evermore",
          "evermore",
          "evermore",
          "evermore",
          "evermore",
          "evermore",
          "evermore",
          "evermore",
          "evermore",
          "evermore",
          "evermore",
          "evermore",
          "evermore",
          "evermore"
         ],
         "xaxis": "x",
         "y": [
          0.833,
          0.92,
          0.83,
          0.735,
          0.878,
          0.418,
          0.87,
          0.696,
          0.819,
          0.855,
          0.768,
          0.66,
          0.876,
          0.835,
          0.937,
          0.769,
          0.801
         ],
         "yaxis": "y"
        }
       ],
       "layout": {
        "legend": {
         "title": {
          "text": "album"
         },
         "tracegroupgap": 0
        },
        "template": {
         "data": {
          "bar": [
           {
            "error_x": {
             "color": "#2a3f5f"
            },
            "error_y": {
             "color": "#2a3f5f"
            },
            "marker": {
             "line": {
              "color": "white",
              "width": 0.5
             },
             "pattern": {
              "fillmode": "overlay",
              "size": 10,
              "solidity": 0.2
             }
            },
            "type": "bar"
           }
          ],
          "barpolar": [
           {
            "marker": {
             "line": {
              "color": "white",
              "width": 0.5
             },
             "pattern": {
              "fillmode": "overlay",
              "size": 10,
              "solidity": 0.2
             }
            },
            "type": "barpolar"
           }
          ],
          "carpet": [
           {
            "aaxis": {
             "endlinecolor": "#2a3f5f",
             "gridcolor": "#C8D4E3",
             "linecolor": "#C8D4E3",
             "minorgridcolor": "#C8D4E3",
             "startlinecolor": "#2a3f5f"
            },
            "baxis": {
             "endlinecolor": "#2a3f5f",
             "gridcolor": "#C8D4E3",
             "linecolor": "#C8D4E3",
             "minorgridcolor": "#C8D4E3",
             "startlinecolor": "#2a3f5f"
            },
            "type": "carpet"
           }
          ],
          "choropleth": [
           {
            "colorbar": {
             "outlinewidth": 0,
             "ticks": ""
            },
            "type": "choropleth"
           }
          ],
          "contour": [
           {
            "colorbar": {
             "outlinewidth": 0,
             "ticks": ""
            },
            "colorscale": [
             [
              0,
              "#0d0887"
             ],
             [
              0.1111111111111111,
              "#46039f"
             ],
             [
              0.2222222222222222,
              "#7201a8"
             ],
             [
              0.3333333333333333,
              "#9c179e"
             ],
             [
              0.4444444444444444,
              "#bd3786"
             ],
             [
              0.5555555555555556,
              "#d8576b"
             ],
             [
              0.6666666666666666,
              "#ed7953"
             ],
             [
              0.7777777777777778,
              "#fb9f3a"
             ],
             [
              0.8888888888888888,
              "#fdca26"
             ],
             [
              1,
              "#f0f921"
             ]
            ],
            "type": "contour"
           }
          ],
          "contourcarpet": [
           {
            "colorbar": {
             "outlinewidth": 0,
             "ticks": ""
            },
            "type": "contourcarpet"
           }
          ],
          "heatmap": [
           {
            "colorbar": {
             "outlinewidth": 0,
             "ticks": ""
            },
            "colorscale": [
             [
              0,
              "#0d0887"
             ],
             [
              0.1111111111111111,
              "#46039f"
             ],
             [
              0.2222222222222222,
              "#7201a8"
             ],
             [
              0.3333333333333333,
              "#9c179e"
             ],
             [
              0.4444444444444444,
              "#bd3786"
             ],
             [
              0.5555555555555556,
              "#d8576b"
             ],
             [
              0.6666666666666666,
              "#ed7953"
             ],
             [
              0.7777777777777778,
              "#fb9f3a"
             ],
             [
              0.8888888888888888,
              "#fdca26"
             ],
             [
              1,
              "#f0f921"
             ]
            ],
            "type": "heatmap"
           }
          ],
          "heatmapgl": [
           {
            "colorbar": {
             "outlinewidth": 0,
             "ticks": ""
            },
            "colorscale": [
             [
              0,
              "#0d0887"
             ],
             [
              0.1111111111111111,
              "#46039f"
             ],
             [
              0.2222222222222222,
              "#7201a8"
             ],
             [
              0.3333333333333333,
              "#9c179e"
             ],
             [
              0.4444444444444444,
              "#bd3786"
             ],
             [
              0.5555555555555556,
              "#d8576b"
             ],
             [
              0.6666666666666666,
              "#ed7953"
             ],
             [
              0.7777777777777778,
              "#fb9f3a"
             ],
             [
              0.8888888888888888,
              "#fdca26"
             ],
             [
              1,
              "#f0f921"
             ]
            ],
            "type": "heatmapgl"
           }
          ],
          "histogram": [
           {
            "marker": {
             "pattern": {
              "fillmode": "overlay",
              "size": 10,
              "solidity": 0.2
             }
            },
            "type": "histogram"
           }
          ],
          "histogram2d": [
           {
            "colorbar": {
             "outlinewidth": 0,
             "ticks": ""
            },
            "colorscale": [
             [
              0,
              "#0d0887"
             ],
             [
              0.1111111111111111,
              "#46039f"
             ],
             [
              0.2222222222222222,
              "#7201a8"
             ],
             [
              0.3333333333333333,
              "#9c179e"
             ],
             [
              0.4444444444444444,
              "#bd3786"
             ],
             [
              0.5555555555555556,
              "#d8576b"
             ],
             [
              0.6666666666666666,
              "#ed7953"
             ],
             [
              0.7777777777777778,
              "#fb9f3a"
             ],
             [
              0.8888888888888888,
              "#fdca26"
             ],
             [
              1,
              "#f0f921"
             ]
            ],
            "type": "histogram2d"
           }
          ],
          "histogram2dcontour": [
           {
            "colorbar": {
             "outlinewidth": 0,
             "ticks": ""
            },
            "colorscale": [
             [
              0,
              "#0d0887"
             ],
             [
              0.1111111111111111,
              "#46039f"
             ],
             [
              0.2222222222222222,
              "#7201a8"
             ],
             [
              0.3333333333333333,
              "#9c179e"
             ],
             [
              0.4444444444444444,
              "#bd3786"
             ],
             [
              0.5555555555555556,
              "#d8576b"
             ],
             [
              0.6666666666666666,
              "#ed7953"
             ],
             [
              0.7777777777777778,
              "#fb9f3a"
             ],
             [
              0.8888888888888888,
              "#fdca26"
             ],
             [
              1,
              "#f0f921"
             ]
            ],
            "type": "histogram2dcontour"
           }
          ],
          "mesh3d": [
           {
            "colorbar": {
             "outlinewidth": 0,
             "ticks": ""
            },
            "type": "mesh3d"
           }
          ],
          "parcoords": [
           {
            "line": {
             "colorbar": {
              "outlinewidth": 0,
              "ticks": ""
             }
            },
            "type": "parcoords"
           }
          ],
          "pie": [
           {
            "automargin": true,
            "type": "pie"
           }
          ],
          "scatter": [
           {
            "fillpattern": {
             "fillmode": "overlay",
             "size": 10,
             "solidity": 0.2
            },
            "type": "scatter"
           }
          ],
          "scatter3d": [
           {
            "line": {
             "colorbar": {
              "outlinewidth": 0,
              "ticks": ""
             }
            },
            "marker": {
             "colorbar": {
              "outlinewidth": 0,
              "ticks": ""
             }
            },
            "type": "scatter3d"
           }
          ],
          "scattercarpet": [
           {
            "marker": {
             "colorbar": {
              "outlinewidth": 0,
              "ticks": ""
             }
            },
            "type": "scattercarpet"
           }
          ],
          "scattergeo": [
           {
            "marker": {
             "colorbar": {
              "outlinewidth": 0,
              "ticks": ""
             }
            },
            "type": "scattergeo"
           }
          ],
          "scattergl": [
           {
            "marker": {
             "colorbar": {
              "outlinewidth": 0,
              "ticks": ""
             }
            },
            "type": "scattergl"
           }
          ],
          "scattermapbox": [
           {
            "marker": {
             "colorbar": {
              "outlinewidth": 0,
              "ticks": ""
             }
            },
            "type": "scattermapbox"
           }
          ],
          "scatterpolar": [
           {
            "marker": {
             "colorbar": {
              "outlinewidth": 0,
              "ticks": ""
             }
            },
            "type": "scatterpolar"
           }
          ],
          "scatterpolargl": [
           {
            "marker": {
             "colorbar": {
              "outlinewidth": 0,
              "ticks": ""
             }
            },
            "type": "scatterpolargl"
           }
          ],
          "scatterternary": [
           {
            "marker": {
             "colorbar": {
              "outlinewidth": 0,
              "ticks": ""
             }
            },
            "type": "scatterternary"
           }
          ],
          "surface": [
           {
            "colorbar": {
             "outlinewidth": 0,
             "ticks": ""
            },
            "colorscale": [
             [
              0,
              "#0d0887"
             ],
             [
              0.1111111111111111,
              "#46039f"
             ],
             [
              0.2222222222222222,
              "#7201a8"
             ],
             [
              0.3333333333333333,
              "#9c179e"
             ],
             [
              0.4444444444444444,
              "#bd3786"
             ],
             [
              0.5555555555555556,
              "#d8576b"
             ],
             [
              0.6666666666666666,
              "#ed7953"
             ],
             [
              0.7777777777777778,
              "#fb9f3a"
             ],
             [
              0.8888888888888888,
              "#fdca26"
             ],
             [
              1,
              "#f0f921"
             ]
            ],
            "type": "surface"
           }
          ],
          "table": [
           {
            "cells": {
             "fill": {
              "color": "#EBF0F8"
             },
             "line": {
              "color": "white"
             }
            },
            "header": {
             "fill": {
              "color": "#C8D4E3"
             },
             "line": {
              "color": "white"
             }
            },
            "type": "table"
           }
          ]
         },
         "layout": {
          "annotationdefaults": {
           "arrowcolor": "#2a3f5f",
           "arrowhead": 0,
           "arrowwidth": 1
          },
          "autotypenumbers": "strict",
          "coloraxis": {
           "colorbar": {
            "outlinewidth": 0,
            "ticks": ""
           }
          },
          "colorscale": {
           "diverging": [
            [
             0,
             "#8e0152"
            ],
            [
             0.1,
             "#c51b7d"
            ],
            [
             0.2,
             "#de77ae"
            ],
            [
             0.3,
             "#f1b6da"
            ],
            [
             0.4,
             "#fde0ef"
            ],
            [
             0.5,
             "#f7f7f7"
            ],
            [
             0.6,
             "#e6f5d0"
            ],
            [
             0.7,
             "#b8e186"
            ],
            [
             0.8,
             "#7fbc41"
            ],
            [
             0.9,
             "#4d9221"
            ],
            [
             1,
             "#276419"
            ]
           ],
           "sequential": [
            [
             0,
             "#0d0887"
            ],
            [
             0.1111111111111111,
             "#46039f"
            ],
            [
             0.2222222222222222,
             "#7201a8"
            ],
            [
             0.3333333333333333,
             "#9c179e"
            ],
            [
             0.4444444444444444,
             "#bd3786"
            ],
            [
             0.5555555555555556,
             "#d8576b"
            ],
            [
             0.6666666666666666,
             "#ed7953"
            ],
            [
             0.7777777777777778,
             "#fb9f3a"
            ],
            [
             0.8888888888888888,
             "#fdca26"
            ],
            [
             1,
             "#f0f921"
            ]
           ],
           "sequentialminus": [
            [
             0,
             "#0d0887"
            ],
            [
             0.1111111111111111,
             "#46039f"
            ],
            [
             0.2222222222222222,
             "#7201a8"
            ],
            [
             0.3333333333333333,
             "#9c179e"
            ],
            [
             0.4444444444444444,
             "#bd3786"
            ],
            [
             0.5555555555555556,
             "#d8576b"
            ],
            [
             0.6666666666666666,
             "#ed7953"
            ],
            [
             0.7777777777777778,
             "#fb9f3a"
            ],
            [
             0.8888888888888888,
             "#fdca26"
            ],
            [
             1,
             "#f0f921"
            ]
           ]
          },
          "colorway": [
           "#636efa",
           "#EF553B",
           "#00cc96",
           "#ab63fa",
           "#FFA15A",
           "#19d3f3",
           "#FF6692",
           "#B6E880",
           "#FF97FF",
           "#FECB52"
          ],
          "font": {
           "color": "#2a3f5f"
          },
          "geo": {
           "bgcolor": "white",
           "lakecolor": "white",
           "landcolor": "white",
           "showlakes": true,
           "showland": true,
           "subunitcolor": "#C8D4E3"
          },
          "hoverlabel": {
           "align": "left"
          },
          "hovermode": "closest",
          "mapbox": {
           "style": "light"
          },
          "paper_bgcolor": "white",
          "plot_bgcolor": "white",
          "polar": {
           "angularaxis": {
            "gridcolor": "#EBF0F8",
            "linecolor": "#EBF0F8",
            "ticks": ""
           },
           "bgcolor": "white",
           "radialaxis": {
            "gridcolor": "#EBF0F8",
            "linecolor": "#EBF0F8",
            "ticks": ""
           }
          },
          "scene": {
           "xaxis": {
            "backgroundcolor": "white",
            "gridcolor": "#DFE8F3",
            "gridwidth": 2,
            "linecolor": "#EBF0F8",
            "showbackground": true,
            "ticks": "",
            "zerolinecolor": "#EBF0F8"
           },
           "yaxis": {
            "backgroundcolor": "white",
            "gridcolor": "#DFE8F3",
            "gridwidth": 2,
            "linecolor": "#EBF0F8",
            "showbackground": true,
            "ticks": "",
            "zerolinecolor": "#EBF0F8"
           },
           "zaxis": {
            "backgroundcolor": "white",
            "gridcolor": "#DFE8F3",
            "gridwidth": 2,
            "linecolor": "#EBF0F8",
            "showbackground": true,
            "ticks": "",
            "zerolinecolor": "#EBF0F8"
           }
          },
          "shapedefaults": {
           "line": {
            "color": "#2a3f5f"
           }
          },
          "ternary": {
           "aaxis": {
            "gridcolor": "#DFE8F3",
            "linecolor": "#A2B1C6",
            "ticks": ""
           },
           "baxis": {
            "gridcolor": "#DFE8F3",
            "linecolor": "#A2B1C6",
            "ticks": ""
           },
           "bgcolor": "white",
           "caxis": {
            "gridcolor": "#DFE8F3",
            "linecolor": "#A2B1C6",
            "ticks": ""
           }
          },
          "title": {
           "x": 0.05
          },
          "xaxis": {
           "automargin": true,
           "gridcolor": "#EBF0F8",
           "linecolor": "#EBF0F8",
           "ticks": "",
           "title": {
            "standoff": 15
           },
           "zerolinecolor": "#EBF0F8",
           "zerolinewidth": 2
          },
          "yaxis": {
           "automargin": true,
           "gridcolor": "#EBF0F8",
           "linecolor": "#EBF0F8",
           "ticks": "",
           "title": {
            "standoff": 15
           },
           "zerolinecolor": "#EBF0F8",
           "zerolinewidth": 2
          }
         }
        },
        "title": {
         "text": "Acousticness of songs"
        },
        "xaxis": {
         "anchor": "y",
         "categoryarray": [
          "Taylor Swift",
          "Fearless",
          "Speak Now",
          "Red",
          "1989",
          "reputation",
          "Lover",
          "folklore",
          "evermore"
         ],
         "categoryorder": "array",
         "domain": [
          0,
          1
         ],
         "title": {
          "text": "album"
         }
        },
        "yaxis": {
         "anchor": "x",
         "domain": [
          0,
          1
         ],
         "title": {
          "text": "acousticness"
         }
        }
       }
      }
     },
     "metadata": {},
     "output_type": "display_data"
    }
   ],
   "source": [
    "# acousticness scatter\n",
    "create_plotly_scatter_by_album(df, \"album\", \"acousticness\", ['name'], 'album', color_purd, 'Acousticness of songs', 'plotly_white', 15, 'star', 1, 'DarkSlateGrey')"
   ]
  },
  {
   "cell_type": "code",
   "execution_count": 30,
   "id": "19c0bcc6",
   "metadata": {},
   "outputs": [
    {
     "data": {
      "application/vnd.plotly.v1+json": {
       "config": {
        "plotlyServerURL": "https://plot.ly"
       },
       "data": [
        {
         "customdata": [
          [
           "Picture To Burn"
          ],
          [
           "Our Song"
          ],
          [
           "Should've Said No"
          ],
          [
           "Tim McGraw"
          ],
          [
           "A Place in this World"
          ],
          [
           "Cold As You"
          ],
          [
           "The Outside"
          ],
          [
           "Tied Together with a Smile"
          ],
          [
           "Stay Beautiful"
          ],
          [
           "Mary's Song (Oh My My My)"
          ],
          [
           "I'm Only Me When I'm With You"
          ],
          [
           "Invisible"
          ],
          [
           "A Perfectly Good Heart"
          ],
          [
           "Teardrops on My Guitar - Pop Version"
          ],
          [
           "Teardrops On My Guitar - Radio Single Remix"
          ]
         ],
         "hovertemplate": "album=%{x}<br>length=%{y}<br>name=%{customdata[0]}<extra></extra>",
         "legendgroup": "Taylor Swift",
         "marker": {
          "color": "#1b7837",
          "line": {
           "color": "white",
           "width": 0.5
          },
          "opacity": 0.8,
          "size": 15,
          "symbol": "diamond"
         },
         "mode": "markers",
         "name": "Taylor Swift",
         "orientation": "v",
         "showlegend": true,
         "type": "scatter",
         "x": [
          "Taylor Swift",
          "Taylor Swift",
          "Taylor Swift",
          "Taylor Swift",
          "Taylor Swift",
          "Taylor Swift",
          "Taylor Swift",
          "Taylor Swift",
          "Taylor Swift",
          "Taylor Swift",
          "Taylor Swift",
          "Taylor Swift",
          "Taylor Swift",
          "Taylor Swift",
          "Taylor Swift"
         ],
         "xaxis": "x",
         "y": [
          173,
          201,
          242,
          232,
          199,
          239,
          207,
          248,
          236,
          213,
          213,
          203,
          220,
          179,
          203
         ],
         "yaxis": "y"
        },
        {
         "customdata": [
          [
           "You Belong With Me"
          ],
          [
           "White Horse"
          ],
          [
           "Fearless"
          ],
          [
           "Fifteen"
          ],
          [
           "Jump Then Fall"
          ],
          [
           "Untouchable"
          ],
          [
           "Forever & Always - Piano Version"
          ],
          [
           "Come In With The Rain"
          ],
          [
           "SuperStar"
          ],
          [
           "The Other Side Of The Door"
          ],
          [
           "Hey Stephen"
          ],
          [
           "Breathe"
          ],
          [
           "Tell Me Why"
          ],
          [
           "You're Not Sorry"
          ],
          [
           "The Way I Loved You"
          ],
          [
           "Forever & Always"
          ],
          [
           "The Best Day"
          ],
          [
           "Change"
          ]
         ],
         "hovertemplate": "album=%{x}<br>length=%{y}<br>name=%{customdata[0]}<extra></extra>",
         "legendgroup": "Fearless",
         "marker": {
          "color": "#5aae61",
          "line": {
           "color": "white",
           "width": 0.5
          },
          "opacity": 0.8,
          "size": 15,
          "symbol": "diamond"
         },
         "mode": "markers",
         "name": "Fearless",
         "orientation": "v",
         "showlegend": true,
         "type": "scatter",
         "x": [
          "Fearless",
          "Fearless",
          "Fearless",
          "Fearless",
          "Fearless",
          "Fearless",
          "Fearless",
          "Fearless",
          "Fearless",
          "Fearless",
          "Fearless",
          "Fearless",
          "Fearless",
          "Fearless",
          "Fearless",
          "Fearless",
          "Fearless",
          "Fearless"
         ],
         "xaxis": "x",
         "y": [
          231,
          234,
          242,
          294,
          237,
          311,
          268,
          238,
          261,
          238,
          254,
          264,
          201,
          262,
          244,
          225,
          245,
          281
         ],
         "yaxis": "y"
        },
        {
         "customdata": [
          [
           "Mean"
          ],
          [
           "The Story Of Us"
          ],
          [
           "Speak Now"
          ],
          [
           "Ours"
          ],
          [
           "Mine"
          ],
          [
           "Sparks Fly"
          ],
          [
           "Back To December"
          ],
          [
           "Dear John"
          ],
          [
           "Never Grow Up"
          ],
          [
           "Enchanted"
          ],
          [
           "Better Than Revenge"
          ],
          [
           "Innocent"
          ],
          [
           "Haunted"
          ],
          [
           "Last Kiss"
          ],
          [
           "Long Live"
          ],
          [
           "If This Was A Movie"
          ],
          [
           "Superman"
          ],
          [
           "Back To December - Acoustic Version"
          ],
          [
           "Haunted - Acoustic Version"
          ],
          [
           "Mine - POP Mix"
          ]
         ],
         "hovertemplate": "album=%{x}<br>length=%{y}<br>name=%{customdata[0]}<extra></extra>",
         "legendgroup": "Speak Now",
         "marker": {
          "color": "#a6dba0",
          "line": {
           "color": "white",
           "width": 0.5
          },
          "opacity": 0.8,
          "size": 15,
          "symbol": "diamond"
         },
         "mode": "markers",
         "name": "Speak Now",
         "orientation": "v",
         "showlegend": true,
         "type": "scatter",
         "x": [
          "Speak Now",
          "Speak Now",
          "Speak Now",
          "Speak Now",
          "Speak Now",
          "Speak Now",
          "Speak Now",
          "Speak Now",
          "Speak Now",
          "Speak Now",
          "Speak Now",
          "Speak Now",
          "Speak Now",
          "Speak Now",
          "Speak Now",
          "Speak Now",
          "Speak Now",
          "Speak Now",
          "Speak Now",
          "Speak Now"
         ],
         "xaxis": "x",
         "y": [
          238,
          266,
          241,
          238,
          231,
          261,
          293,
          404,
          290,
          352,
          217,
          302,
          242,
          367,
          317,
          235,
          276,
          293,
          218,
          230
         ],
         "yaxis": "y"
        },
        {
         "customdata": [
          [
           "We Are Never Ever Getting Back Together"
          ],
          [
           "I Knew You Were Trouble."
          ],
          [
           "22"
          ],
          [
           "All Too Well"
          ],
          [
           "State Of Grace"
          ],
          [
           "Red"
          ],
          [
           "Treacherous"
          ],
          [
           "I Almost Do"
          ],
          [
           "Stay Stay Stay"
          ],
          [
           "The Last Time"
          ],
          [
           "Holy Ground"
          ],
          [
           "Sad Beautiful Tragic"
          ],
          [
           "Everything Has Changed"
          ],
          [
           "Starlight"
          ],
          [
           "Begin Again"
          ],
          [
           "Come Back...Be Here"
          ],
          [
           "Girl At Home"
          ],
          [
           "The Lucky One"
          ],
          [
           "The Moment I Knew"
          ],
          [
           "State Of Grace - Acoustic Version"
          ],
          [
           "Treacherous - Original Demo Recording"
          ],
          [
           "Red - Original Demo Recording"
          ]
         ],
         "hovertemplate": "album=%{x}<br>length=%{y}<br>name=%{customdata[0]}<extra></extra>",
         "legendgroup": "Red",
         "marker": {
          "color": "#d9f0d3",
          "line": {
           "color": "white",
           "width": 0.5
          },
          "opacity": 0.8,
          "size": 15,
          "symbol": "diamond"
         },
         "mode": "markers",
         "name": "Red",
         "orientation": "v",
         "showlegend": true,
         "type": "scatter",
         "x": [
          "Red",
          "Red",
          "Red",
          "Red",
          "Red",
          "Red",
          "Red",
          "Red",
          "Red",
          "Red",
          "Red",
          "Red",
          "Red",
          "Red",
          "Red",
          "Red",
          "Red",
          "Red",
          "Red",
          "Red",
          "Red",
          "Red"
         ],
         "xaxis": "x",
         "y": [
          192,
          218,
          230,
          328,
          295,
          221,
          241,
          243,
          205,
          298,
          202,
          284,
          244,
          218,
          238,
          223,
          220,
          240,
          286,
          323,
          240,
          226
         ],
         "yaxis": "y"
        },
        {
         "customdata": [
          [
           "Blank Space"
          ],
          [
           "Shake It Off"
          ],
          [
           "Style"
          ],
          [
           "Out Of The Woods"
          ],
          [
           "Wildest Dreams"
          ],
          [
           "Welcome To New York"
          ],
          [
           "All You Had To Do Was Stay"
          ],
          [
           "I Wish You Would"
          ],
          [
           "Bad Blood"
          ],
          [
           "How You Get The Girl"
          ],
          [
           "This Love"
          ],
          [
           "I Know Places"
          ],
          [
           "Clean"
          ],
          [
           "Wonderland"
          ],
          [
           "You Are In Love"
          ],
          [
           "New Romantics"
          ]
         ],
         "hovertemplate": "album=%{x}<br>length=%{y}<br>name=%{customdata[0]}<extra></extra>",
         "legendgroup": "1989",
         "marker": {
          "color": "#f7f7f7",
          "line": {
           "color": "white",
           "width": 0.5
          },
          "opacity": 0.8,
          "size": 15,
          "symbol": "diamond"
         },
         "mode": "markers",
         "name": "1989",
         "orientation": "v",
         "showlegend": true,
         "type": "scatter",
         "x": [
          "1989",
          "1989",
          "1989",
          "1989",
          "1989",
          "1989",
          "1989",
          "1989",
          "1989",
          "1989",
          "1989",
          "1989",
          "1989",
          "1989",
          "1989",
          "1989"
         ],
         "xaxis": "x",
         "y": [
          232,
          219,
          231,
          236,
          220,
          213,
          193,
          207,
          212,
          248,
          250,
          196,
          271,
          246,
          267,
          230
         ],
         "yaxis": "y"
        },
        {
         "customdata": [
          [
           "...Ready For It?"
          ],
          [
           "End Game"
          ],
          [
           "Look What You Made Me Do"
          ],
          [
           "Delicate"
          ],
          [
           "Getaway Car"
          ],
          [
           "Gorgeous"
          ],
          [
           "I Did Something Bad"
          ],
          [
           "Don’t Blame Me"
          ],
          [
           "So It Goes..."
          ],
          [
           "King Of My Heart"
          ],
          [
           "Dancing With Our Hands Tied"
          ],
          [
           "Dress"
          ],
          [
           "This Is Why We Can't Have Nice Things"
          ],
          [
           "Call It What You Want"
          ],
          [
           "New Year’s Day"
          ]
         ],
         "hovertemplate": "album=%{x}<br>length=%{y}<br>name=%{customdata[0]}<extra></extra>",
         "legendgroup": "reputation",
         "marker": {
          "color": "#e7d4e8",
          "line": {
           "color": "white",
           "width": 0.5
          },
          "opacity": 0.8,
          "size": 15,
          "symbol": "diamond"
         },
         "mode": "markers",
         "name": "reputation",
         "orientation": "v",
         "showlegend": true,
         "type": "scatter",
         "x": [
          "reputation",
          "reputation",
          "reputation",
          "reputation",
          "reputation",
          "reputation",
          "reputation",
          "reputation",
          "reputation",
          "reputation",
          "reputation",
          "reputation",
          "reputation",
          "reputation",
          "reputation"
         ],
         "xaxis": "x",
         "y": [
          208,
          245,
          212,
          232,
          234,
          210,
          238,
          236,
          228,
          214,
          212,
          230,
          207,
          204,
          235
         ],
         "yaxis": "y"
        },
        {
         "customdata": [
          [
           "The Man"
          ],
          [
           "I Forgot That You Existed"
          ],
          [
           "Cruel Summer"
          ],
          [
           "Lover"
          ],
          [
           "The Man"
          ],
          [
           "The Archer"
          ],
          [
           "I Think He Knows"
          ],
          [
           "Miss Americana & The Heartbreak Prince"
          ],
          [
           "Paper Rings"
          ],
          [
           "Cornelia Street"
          ],
          [
           "Death By A Thousand Cuts"
          ],
          [
           "London Boy"
          ],
          [
           "Soon You’ll Get Better (feat. The Chicks)"
          ],
          [
           "False God"
          ],
          [
           "You Need To Calm Down"
          ],
          [
           "Afterglow"
          ],
          [
           "ME! (feat. Brendon Urie of Panic! At The Disco)"
          ],
          [
           "It’s Nice To Have A Friend"
          ],
          [
           "Daylight"
          ]
         ],
         "hovertemplate": "album=%{x}<br>length=%{y}<br>name=%{customdata[0]}<extra></extra>",
         "legendgroup": "Lover",
         "marker": {
          "color": "#c2a5cf",
          "line": {
           "color": "white",
           "width": 0.5
          },
          "opacity": 0.8,
          "size": 15,
          "symbol": "diamond"
         },
         "mode": "markers",
         "name": "Lover",
         "orientation": "v",
         "showlegend": true,
         "type": "scatter",
         "x": [
          "Lover",
          "Lover",
          "Lover",
          "Lover",
          "Lover",
          "Lover",
          "Lover",
          "Lover",
          "Lover",
          "Lover",
          "Lover",
          "Lover",
          "Lover",
          "Lover",
          "Lover",
          "Lover",
          "Lover",
          "Lover",
          "Lover"
         ],
         "xaxis": "x",
         "y": [
          190,
          171,
          178,
          221,
          190,
          211,
          173,
          234,
          222,
          287,
          199,
          190,
          202,
          200,
          171,
          223,
          193,
          150,
          293
         ],
         "yaxis": "y"
        },
        {
         "customdata": [
          [
           "cardigan"
          ],
          [
           "exile (feat. Bon Iver)"
          ],
          [
           "betty"
          ],
          [
           "august"
          ],
          [
           "this is me trying"
          ],
          [
           "the 1"
          ],
          [
           "the last great american dynasty"
          ],
          [
           "my tears ricochet"
          ],
          [
           "mirrorball"
          ],
          [
           "seven"
          ],
          [
           "illicit affairs"
          ],
          [
           "invisible string"
          ],
          [
           "mad woman"
          ],
          [
           "epiphany"
          ],
          [
           "peace"
          ],
          [
           "hoax"
          ]
         ],
         "hovertemplate": "album=%{x}<br>length=%{y}<br>name=%{customdata[0]}<extra></extra>",
         "legendgroup": "folklore",
         "marker": {
          "color": "#9970ab",
          "line": {
           "color": "white",
           "width": 0.5
          },
          "opacity": 0.8,
          "size": 15,
          "symbol": "diamond"
         },
         "mode": "markers",
         "name": "folklore",
         "orientation": "v",
         "showlegend": true,
         "type": "scatter",
         "x": [
          "folklore",
          "folklore",
          "folklore",
          "folklore",
          "folklore",
          "folklore",
          "folklore",
          "folklore",
          "folklore",
          "folklore",
          "folklore",
          "folklore",
          "folklore",
          "folklore",
          "folklore",
          "folklore"
         ],
         "xaxis": "x",
         "y": [
          240,
          286,
          295,
          262,
          195,
          210,
          231,
          256,
          209,
          209,
          191,
          253,
          237,
          290,
          234,
          220
         ],
         "yaxis": "y"
        },
        {
         "customdata": [
          [
           "willow"
          ],
          [
           "champagne problems"
          ],
          [
           "gold rush"
          ],
          [
           "‘tis the damn season"
          ],
          [
           "tolerate it"
          ],
          [
           "no body, no crime (feat. HAIM)"
          ],
          [
           "happiness"
          ],
          [
           "dorothea"
          ],
          [
           "coney island (feat. The National)"
          ],
          [
           "ivy"
          ],
          [
           "cowboy like me"
          ],
          [
           "long story short"
          ],
          [
           "marjorie"
          ],
          [
           "closure"
          ],
          [
           "evermore (feat. Bon Iver)"
          ],
          [
           "right where you left me - bonus track"
          ],
          [
           "it’s time to go - bonus track"
          ]
         ],
         "hovertemplate": "album=%{x}<br>length=%{y}<br>name=%{customdata[0]}<extra></extra>",
         "legendgroup": "evermore",
         "marker": {
          "color": "#762a83",
          "line": {
           "color": "white",
           "width": 0.5
          },
          "opacity": 0.8,
          "size": 15,
          "symbol": "diamond"
         },
         "mode": "markers",
         "name": "evermore",
         "orientation": "v",
         "showlegend": true,
         "type": "scatter",
         "x": [
          "evermore",
          "evermore",
          "evermore",
          "evermore",
          "evermore",
          "evermore",
          "evermore",
          "evermore",
          "evermore",
          "evermore",
          "evermore",
          "evermore",
          "evermore",
          "evermore",
          "evermore",
          "evermore",
          "evermore"
         ],
         "xaxis": "x",
         "y": [
          215,
          244,
          185,
          230,
          245,
          216,
          315,
          226,
          275,
          260,
          275,
          216,
          258,
          181,
          304,
          245,
          255
         ],
         "yaxis": "y"
        }
       ],
       "layout": {
        "legend": {
         "title": {
          "text": "album"
         },
         "tracegroupgap": 0
        },
        "template": {
         "data": {
          "bar": [
           {
            "error_x": {
             "color": "#f2f5fa"
            },
            "error_y": {
             "color": "#f2f5fa"
            },
            "marker": {
             "line": {
              "color": "rgb(17,17,17)",
              "width": 0.5
             },
             "pattern": {
              "fillmode": "overlay",
              "size": 10,
              "solidity": 0.2
             }
            },
            "type": "bar"
           }
          ],
          "barpolar": [
           {
            "marker": {
             "line": {
              "color": "rgb(17,17,17)",
              "width": 0.5
             },
             "pattern": {
              "fillmode": "overlay",
              "size": 10,
              "solidity": 0.2
             }
            },
            "type": "barpolar"
           }
          ],
          "carpet": [
           {
            "aaxis": {
             "endlinecolor": "#A2B1C6",
             "gridcolor": "#506784",
             "linecolor": "#506784",
             "minorgridcolor": "#506784",
             "startlinecolor": "#A2B1C6"
            },
            "baxis": {
             "endlinecolor": "#A2B1C6",
             "gridcolor": "#506784",
             "linecolor": "#506784",
             "minorgridcolor": "#506784",
             "startlinecolor": "#A2B1C6"
            },
            "type": "carpet"
           }
          ],
          "choropleth": [
           {
            "colorbar": {
             "outlinewidth": 0,
             "ticks": ""
            },
            "type": "choropleth"
           }
          ],
          "contour": [
           {
            "colorbar": {
             "outlinewidth": 0,
             "ticks": ""
            },
            "colorscale": [
             [
              0,
              "#0d0887"
             ],
             [
              0.1111111111111111,
              "#46039f"
             ],
             [
              0.2222222222222222,
              "#7201a8"
             ],
             [
              0.3333333333333333,
              "#9c179e"
             ],
             [
              0.4444444444444444,
              "#bd3786"
             ],
             [
              0.5555555555555556,
              "#d8576b"
             ],
             [
              0.6666666666666666,
              "#ed7953"
             ],
             [
              0.7777777777777778,
              "#fb9f3a"
             ],
             [
              0.8888888888888888,
              "#fdca26"
             ],
             [
              1,
              "#f0f921"
             ]
            ],
            "type": "contour"
           }
          ],
          "contourcarpet": [
           {
            "colorbar": {
             "outlinewidth": 0,
             "ticks": ""
            },
            "type": "contourcarpet"
           }
          ],
          "heatmap": [
           {
            "colorbar": {
             "outlinewidth": 0,
             "ticks": ""
            },
            "colorscale": [
             [
              0,
              "#0d0887"
             ],
             [
              0.1111111111111111,
              "#46039f"
             ],
             [
              0.2222222222222222,
              "#7201a8"
             ],
             [
              0.3333333333333333,
              "#9c179e"
             ],
             [
              0.4444444444444444,
              "#bd3786"
             ],
             [
              0.5555555555555556,
              "#d8576b"
             ],
             [
              0.6666666666666666,
              "#ed7953"
             ],
             [
              0.7777777777777778,
              "#fb9f3a"
             ],
             [
              0.8888888888888888,
              "#fdca26"
             ],
             [
              1,
              "#f0f921"
             ]
            ],
            "type": "heatmap"
           }
          ],
          "heatmapgl": [
           {
            "colorbar": {
             "outlinewidth": 0,
             "ticks": ""
            },
            "colorscale": [
             [
              0,
              "#0d0887"
             ],
             [
              0.1111111111111111,
              "#46039f"
             ],
             [
              0.2222222222222222,
              "#7201a8"
             ],
             [
              0.3333333333333333,
              "#9c179e"
             ],
             [
              0.4444444444444444,
              "#bd3786"
             ],
             [
              0.5555555555555556,
              "#d8576b"
             ],
             [
              0.6666666666666666,
              "#ed7953"
             ],
             [
              0.7777777777777778,
              "#fb9f3a"
             ],
             [
              0.8888888888888888,
              "#fdca26"
             ],
             [
              1,
              "#f0f921"
             ]
            ],
            "type": "heatmapgl"
           }
          ],
          "histogram": [
           {
            "marker": {
             "pattern": {
              "fillmode": "overlay",
              "size": 10,
              "solidity": 0.2
             }
            },
            "type": "histogram"
           }
          ],
          "histogram2d": [
           {
            "colorbar": {
             "outlinewidth": 0,
             "ticks": ""
            },
            "colorscale": [
             [
              0,
              "#0d0887"
             ],
             [
              0.1111111111111111,
              "#46039f"
             ],
             [
              0.2222222222222222,
              "#7201a8"
             ],
             [
              0.3333333333333333,
              "#9c179e"
             ],
             [
              0.4444444444444444,
              "#bd3786"
             ],
             [
              0.5555555555555556,
              "#d8576b"
             ],
             [
              0.6666666666666666,
              "#ed7953"
             ],
             [
              0.7777777777777778,
              "#fb9f3a"
             ],
             [
              0.8888888888888888,
              "#fdca26"
             ],
             [
              1,
              "#f0f921"
             ]
            ],
            "type": "histogram2d"
           }
          ],
          "histogram2dcontour": [
           {
            "colorbar": {
             "outlinewidth": 0,
             "ticks": ""
            },
            "colorscale": [
             [
              0,
              "#0d0887"
             ],
             [
              0.1111111111111111,
              "#46039f"
             ],
             [
              0.2222222222222222,
              "#7201a8"
             ],
             [
              0.3333333333333333,
              "#9c179e"
             ],
             [
              0.4444444444444444,
              "#bd3786"
             ],
             [
              0.5555555555555556,
              "#d8576b"
             ],
             [
              0.6666666666666666,
              "#ed7953"
             ],
             [
              0.7777777777777778,
              "#fb9f3a"
             ],
             [
              0.8888888888888888,
              "#fdca26"
             ],
             [
              1,
              "#f0f921"
             ]
            ],
            "type": "histogram2dcontour"
           }
          ],
          "mesh3d": [
           {
            "colorbar": {
             "outlinewidth": 0,
             "ticks": ""
            },
            "type": "mesh3d"
           }
          ],
          "parcoords": [
           {
            "line": {
             "colorbar": {
              "outlinewidth": 0,
              "ticks": ""
             }
            },
            "type": "parcoords"
           }
          ],
          "pie": [
           {
            "automargin": true,
            "type": "pie"
           }
          ],
          "scatter": [
           {
            "marker": {
             "line": {
              "color": "#283442"
             }
            },
            "type": "scatter"
           }
          ],
          "scatter3d": [
           {
            "line": {
             "colorbar": {
              "outlinewidth": 0,
              "ticks": ""
             }
            },
            "marker": {
             "colorbar": {
              "outlinewidth": 0,
              "ticks": ""
             }
            },
            "type": "scatter3d"
           }
          ],
          "scattercarpet": [
           {
            "marker": {
             "colorbar": {
              "outlinewidth": 0,
              "ticks": ""
             }
            },
            "type": "scattercarpet"
           }
          ],
          "scattergeo": [
           {
            "marker": {
             "colorbar": {
              "outlinewidth": 0,
              "ticks": ""
             }
            },
            "type": "scattergeo"
           }
          ],
          "scattergl": [
           {
            "marker": {
             "line": {
              "color": "#283442"
             }
            },
            "type": "scattergl"
           }
          ],
          "scattermapbox": [
           {
            "marker": {
             "colorbar": {
              "outlinewidth": 0,
              "ticks": ""
             }
            },
            "type": "scattermapbox"
           }
          ],
          "scatterpolar": [
           {
            "marker": {
             "colorbar": {
              "outlinewidth": 0,
              "ticks": ""
             }
            },
            "type": "scatterpolar"
           }
          ],
          "scatterpolargl": [
           {
            "marker": {
             "colorbar": {
              "outlinewidth": 0,
              "ticks": ""
             }
            },
            "type": "scatterpolargl"
           }
          ],
          "scatterternary": [
           {
            "marker": {
             "colorbar": {
              "outlinewidth": 0,
              "ticks": ""
             }
            },
            "type": "scatterternary"
           }
          ],
          "surface": [
           {
            "colorbar": {
             "outlinewidth": 0,
             "ticks": ""
            },
            "colorscale": [
             [
              0,
              "#0d0887"
             ],
             [
              0.1111111111111111,
              "#46039f"
             ],
             [
              0.2222222222222222,
              "#7201a8"
             ],
             [
              0.3333333333333333,
              "#9c179e"
             ],
             [
              0.4444444444444444,
              "#bd3786"
             ],
             [
              0.5555555555555556,
              "#d8576b"
             ],
             [
              0.6666666666666666,
              "#ed7953"
             ],
             [
              0.7777777777777778,
              "#fb9f3a"
             ],
             [
              0.8888888888888888,
              "#fdca26"
             ],
             [
              1,
              "#f0f921"
             ]
            ],
            "type": "surface"
           }
          ],
          "table": [
           {
            "cells": {
             "fill": {
              "color": "#506784"
             },
             "line": {
              "color": "rgb(17,17,17)"
             }
            },
            "header": {
             "fill": {
              "color": "#2a3f5f"
             },
             "line": {
              "color": "rgb(17,17,17)"
             }
            },
            "type": "table"
           }
          ]
         },
         "layout": {
          "annotationdefaults": {
           "arrowcolor": "#f2f5fa",
           "arrowhead": 0,
           "arrowwidth": 1
          },
          "autotypenumbers": "strict",
          "coloraxis": {
           "colorbar": {
            "outlinewidth": 0,
            "ticks": ""
           }
          },
          "colorscale": {
           "diverging": [
            [
             0,
             "#8e0152"
            ],
            [
             0.1,
             "#c51b7d"
            ],
            [
             0.2,
             "#de77ae"
            ],
            [
             0.3,
             "#f1b6da"
            ],
            [
             0.4,
             "#fde0ef"
            ],
            [
             0.5,
             "#f7f7f7"
            ],
            [
             0.6,
             "#e6f5d0"
            ],
            [
             0.7,
             "#b8e186"
            ],
            [
             0.8,
             "#7fbc41"
            ],
            [
             0.9,
             "#4d9221"
            ],
            [
             1,
             "#276419"
            ]
           ],
           "sequential": [
            [
             0,
             "#0d0887"
            ],
            [
             0.1111111111111111,
             "#46039f"
            ],
            [
             0.2222222222222222,
             "#7201a8"
            ],
            [
             0.3333333333333333,
             "#9c179e"
            ],
            [
             0.4444444444444444,
             "#bd3786"
            ],
            [
             0.5555555555555556,
             "#d8576b"
            ],
            [
             0.6666666666666666,
             "#ed7953"
            ],
            [
             0.7777777777777778,
             "#fb9f3a"
            ],
            [
             0.8888888888888888,
             "#fdca26"
            ],
            [
             1,
             "#f0f921"
            ]
           ],
           "sequentialminus": [
            [
             0,
             "#0d0887"
            ],
            [
             0.1111111111111111,
             "#46039f"
            ],
            [
             0.2222222222222222,
             "#7201a8"
            ],
            [
             0.3333333333333333,
             "#9c179e"
            ],
            [
             0.4444444444444444,
             "#bd3786"
            ],
            [
             0.5555555555555556,
             "#d8576b"
            ],
            [
             0.6666666666666666,
             "#ed7953"
            ],
            [
             0.7777777777777778,
             "#fb9f3a"
            ],
            [
             0.8888888888888888,
             "#fdca26"
            ],
            [
             1,
             "#f0f921"
            ]
           ]
          },
          "colorway": [
           "#636efa",
           "#EF553B",
           "#00cc96",
           "#ab63fa",
           "#FFA15A",
           "#19d3f3",
           "#FF6692",
           "#B6E880",
           "#FF97FF",
           "#FECB52"
          ],
          "font": {
           "color": "#f2f5fa"
          },
          "geo": {
           "bgcolor": "rgb(17,17,17)",
           "lakecolor": "rgb(17,17,17)",
           "landcolor": "rgb(17,17,17)",
           "showlakes": true,
           "showland": true,
           "subunitcolor": "#506784"
          },
          "hoverlabel": {
           "align": "left"
          },
          "hovermode": "closest",
          "mapbox": {
           "style": "dark"
          },
          "paper_bgcolor": "rgb(17,17,17)",
          "plot_bgcolor": "rgb(17,17,17)",
          "polar": {
           "angularaxis": {
            "gridcolor": "#506784",
            "linecolor": "#506784",
            "ticks": ""
           },
           "bgcolor": "rgb(17,17,17)",
           "radialaxis": {
            "gridcolor": "#506784",
            "linecolor": "#506784",
            "ticks": ""
           }
          },
          "scene": {
           "xaxis": {
            "backgroundcolor": "rgb(17,17,17)",
            "gridcolor": "#506784",
            "gridwidth": 2,
            "linecolor": "#506784",
            "showbackground": true,
            "ticks": "",
            "zerolinecolor": "#C8D4E3"
           },
           "yaxis": {
            "backgroundcolor": "rgb(17,17,17)",
            "gridcolor": "#506784",
            "gridwidth": 2,
            "linecolor": "#506784",
            "showbackground": true,
            "ticks": "",
            "zerolinecolor": "#C8D4E3"
           },
           "zaxis": {
            "backgroundcolor": "rgb(17,17,17)",
            "gridcolor": "#506784",
            "gridwidth": 2,
            "linecolor": "#506784",
            "showbackground": true,
            "ticks": "",
            "zerolinecolor": "#C8D4E3"
           }
          },
          "shapedefaults": {
           "line": {
            "color": "#f2f5fa"
           }
          },
          "sliderdefaults": {
           "bgcolor": "#C8D4E3",
           "bordercolor": "rgb(17,17,17)",
           "borderwidth": 1,
           "tickwidth": 0
          },
          "ternary": {
           "aaxis": {
            "gridcolor": "#506784",
            "linecolor": "#506784",
            "ticks": ""
           },
           "baxis": {
            "gridcolor": "#506784",
            "linecolor": "#506784",
            "ticks": ""
           },
           "bgcolor": "rgb(17,17,17)",
           "caxis": {
            "gridcolor": "#506784",
            "linecolor": "#506784",
            "ticks": ""
           }
          },
          "title": {
           "x": 0.05
          },
          "updatemenudefaults": {
           "bgcolor": "#506784",
           "borderwidth": 0
          },
          "xaxis": {
           "automargin": true,
           "gridcolor": "#283442",
           "linecolor": "#506784",
           "ticks": "",
           "title": {
            "standoff": 15
           },
           "zerolinecolor": "#283442",
           "zerolinewidth": 2
          },
          "yaxis": {
           "automargin": true,
           "gridcolor": "#283442",
           "linecolor": "#506784",
           "ticks": "",
           "title": {
            "standoff": 15
           },
           "zerolinecolor": "#283442",
           "zerolinewidth": 2
          }
         }
        },
        "title": {
         "text": "Length of songs"
        },
        "xaxis": {
         "anchor": "y",
         "categoryarray": [
          "Taylor Swift",
          "Fearless",
          "Speak Now",
          "Red",
          "1989",
          "reputation",
          "Lover",
          "folklore",
          "evermore"
         ],
         "categoryorder": "array",
         "domain": [
          0,
          1
         ],
         "title": {
          "text": "album"
         }
        },
        "yaxis": {
         "anchor": "x",
         "domain": [
          0,
          1
         ],
         "title": {
          "text": "length"
         }
        }
       }
      }
     },
     "metadata": {},
     "output_type": "display_data"
    }
   ],
   "source": [
    "# length scatter\n",
    "create_plotly_scatter_by_album(df, \"album\", \"length\", ['name'], 'album', color_prgn, 'Length of songs', 'plotly_dark', 15, 'diamond', 0.5, 'white')"
   ]
  },
  {
   "cell_type": "code",
   "execution_count": 31,
   "id": "fa6c82a3",
   "metadata": {},
   "outputs": [
    {
     "data": {
      "application/vnd.plotly.v1+json": {
       "config": {
        "plotlyServerURL": "https://plot.ly"
       },
       "data": [
        {
         "customdata": [
          [
           "Picture To Burn"
          ],
          [
           "Our Song"
          ],
          [
           "Should've Said No"
          ],
          [
           "Tim McGraw"
          ],
          [
           "A Place in this World"
          ],
          [
           "Cold As You"
          ],
          [
           "The Outside"
          ],
          [
           "Tied Together with a Smile"
          ],
          [
           "Stay Beautiful"
          ],
          [
           "Mary's Song (Oh My My My)"
          ],
          [
           "I'm Only Me When I'm With You"
          ],
          [
           "Invisible"
          ],
          [
           "A Perfectly Good Heart"
          ],
          [
           "Teardrops on My Guitar - Pop Version"
          ],
          [
           "Teardrops On My Guitar - Radio Single Remix"
          ]
         ],
         "hovertemplate": "album=%{x}<br>energy=%{y}<br>name=%{customdata[0]}<extra></extra>",
         "legendgroup": "Taylor Swift",
         "marker": {
          "color": "#67001f",
          "line": {
           "color": "white",
           "width": 0.5
          },
          "opacity": 0.8,
          "size": 15,
          "symbol": "diamond"
         },
         "mode": "markers",
         "name": "Taylor Swift",
         "orientation": "v",
         "showlegend": true,
         "type": "scatter",
         "x": [
          "Taylor Swift",
          "Taylor Swift",
          "Taylor Swift",
          "Taylor Swift",
          "Taylor Swift",
          "Taylor Swift",
          "Taylor Swift",
          "Taylor Swift",
          "Taylor Swift",
          "Taylor Swift",
          "Taylor Swift",
          "Taylor Swift",
          "Taylor Swift",
          "Taylor Swift",
          "Taylor Swift"
         ],
         "xaxis": "x",
         "y": [
          0.877,
          0.672,
          0.777,
          0.491,
          0.777,
          0.482,
          0.805,
          0.578,
          0.629,
          0.627,
          0.934,
          0.394,
          0.751,
          0.753,
          0.417
         ],
         "yaxis": "y"
        },
        {
         "customdata": [
          [
           "You Belong With Me"
          ],
          [
           "White Horse"
          ],
          [
           "Fearless"
          ],
          [
           "Fifteen"
          ],
          [
           "Jump Then Fall"
          ],
          [
           "Untouchable"
          ],
          [
           "Forever & Always - Piano Version"
          ],
          [
           "Come In With The Rain"
          ],
          [
           "SuperStar"
          ],
          [
           "The Other Side Of The Door"
          ],
          [
           "Hey Stephen"
          ],
          [
           "Breathe"
          ],
          [
           "Tell Me Why"
          ],
          [
           "You're Not Sorry"
          ],
          [
           "The Way I Loved You"
          ],
          [
           "Forever & Always"
          ],
          [
           "The Best Day"
          ],
          [
           "Change"
          ]
         ],
         "hovertemplate": "album=%{x}<br>energy=%{y}<br>name=%{customdata[0]}<extra></extra>",
         "legendgroup": "Fearless",
         "marker": {
          "color": "#980043",
          "line": {
           "color": "white",
           "width": 0.5
          },
          "opacity": 0.8,
          "size": 15,
          "symbol": "diamond"
         },
         "mode": "markers",
         "name": "Fearless",
         "orientation": "v",
         "showlegend": true,
         "type": "scatter",
         "x": [
          "Fearless",
          "Fearless",
          "Fearless",
          "Fearless",
          "Fearless",
          "Fearless",
          "Fearless",
          "Fearless",
          "Fearless",
          "Fearless",
          "Fearless",
          "Fearless",
          "Fearless",
          "Fearless",
          "Fearless",
          "Fearless",
          "Fearless",
          "Fearless"
         ],
         "xaxis": "x",
         "y": [
          0.771,
          0.346,
          0.714,
          0.636,
          0.687,
          0.454,
          0.16,
          0.475,
          0.531,
          0.816,
          0.553,
          0.486,
          0.852,
          0.459,
          0.712,
          0.829,
          0.447,
          0.756
         ],
         "yaxis": "y"
        },
        {
         "customdata": [
          [
           "Mean"
          ],
          [
           "The Story Of Us"
          ],
          [
           "Speak Now"
          ],
          [
           "Ours"
          ],
          [
           "Mine"
          ],
          [
           "Sparks Fly"
          ],
          [
           "Back To December"
          ],
          [
           "Dear John"
          ],
          [
           "Never Grow Up"
          ],
          [
           "Enchanted"
          ],
          [
           "Better Than Revenge"
          ],
          [
           "Innocent"
          ],
          [
           "Haunted"
          ],
          [
           "Last Kiss"
          ],
          [
           "Long Live"
          ],
          [
           "If This Was A Movie"
          ],
          [
           "Superman"
          ],
          [
           "Back To December - Acoustic Version"
          ],
          [
           "Haunted - Acoustic Version"
          ],
          [
           "Mine - POP Mix"
          ]
         ],
         "hovertemplate": "album=%{x}<br>energy=%{y}<br>name=%{customdata[0]}<extra></extra>",
         "legendgroup": "Speak Now",
         "marker": {
          "color": "#ce1256",
          "line": {
           "color": "white",
           "width": 0.5
          },
          "opacity": 0.8,
          "size": 15,
          "symbol": "diamond"
         },
         "mode": "markers",
         "name": "Speak Now",
         "orientation": "v",
         "showlegend": true,
         "type": "scatter",
         "x": [
          "Speak Now",
          "Speak Now",
          "Speak Now",
          "Speak Now",
          "Speak Now",
          "Speak Now",
          "Speak Now",
          "Speak Now",
          "Speak Now",
          "Speak Now",
          "Speak Now",
          "Speak Now",
          "Speak Now",
          "Speak Now",
          "Speak Now",
          "Speak Now",
          "Speak Now",
          "Speak Now",
          "Speak Now",
          "Speak Now"
         ],
         "xaxis": "x",
         "y": [
          0.761,
          0.818,
          0.599,
          0.569,
          0.757,
          0.787,
          0.67,
          0.47,
          0.305,
          0.623,
          0.917,
          0.608,
          0.95,
          0.341,
          0.68,
          0.719,
          0.765,
          0.453,
          0.443,
          0.723
         ],
         "yaxis": "y"
        },
        {
         "customdata": [
          [
           "We Are Never Ever Getting Back Together"
          ],
          [
           "I Knew You Were Trouble."
          ],
          [
           "22"
          ],
          [
           "All Too Well"
          ],
          [
           "State Of Grace"
          ],
          [
           "Red"
          ],
          [
           "Treacherous"
          ],
          [
           "I Almost Do"
          ],
          [
           "Stay Stay Stay"
          ],
          [
           "The Last Time"
          ],
          [
           "Holy Ground"
          ],
          [
           "Sad Beautiful Tragic"
          ],
          [
           "Everything Has Changed"
          ],
          [
           "Starlight"
          ],
          [
           "Begin Again"
          ],
          [
           "Come Back...Be Here"
          ],
          [
           "Girl At Home"
          ],
          [
           "The Lucky One"
          ],
          [
           "The Moment I Knew"
          ],
          [
           "State Of Grace - Acoustic Version"
          ],
          [
           "Treacherous - Original Demo Recording"
          ],
          [
           "Red - Original Demo Recording"
          ]
         ],
         "hovertemplate": "album=%{x}<br>energy=%{y}<br>name=%{customdata[0]}<extra></extra>",
         "legendgroup": "Red",
         "marker": {
          "color": "#e7298a",
          "line": {
           "color": "white",
           "width": 0.5
          },
          "opacity": 0.8,
          "size": 15,
          "symbol": "diamond"
         },
         "mode": "markers",
         "name": "Red",
         "orientation": "v",
         "showlegend": true,
         "type": "scatter",
         "x": [
          "Red",
          "Red",
          "Red",
          "Red",
          "Red",
          "Red",
          "Red",
          "Red",
          "Red",
          "Red",
          "Red",
          "Red",
          "Red",
          "Red",
          "Red",
          "Red",
          "Red",
          "Red",
          "Red",
          "Red",
          "Red",
          "Red"
         ],
         "xaxis": "x",
         "y": [
          0.676,
          0.469,
          0.729,
          0.609,
          0.825,
          0.896,
          0.621,
          0.481,
          0.748,
          0.443,
          0.816,
          0.34,
          0.458,
          0.777,
          0.526,
          0.548,
          0.59,
          0.499,
          0.506,
          0.118,
          0.64,
          0.902
         ],
         "yaxis": "y"
        },
        {
         "customdata": [
          [
           "Blank Space"
          ],
          [
           "Shake It Off"
          ],
          [
           "Style"
          ],
          [
           "Out Of The Woods"
          ],
          [
           "Wildest Dreams"
          ],
          [
           "Welcome To New York"
          ],
          [
           "All You Had To Do Was Stay"
          ],
          [
           "I Wish You Would"
          ],
          [
           "Bad Blood"
          ],
          [
           "How You Get The Girl"
          ],
          [
           "This Love"
          ],
          [
           "I Know Places"
          ],
          [
           "Clean"
          ],
          [
           "Wonderland"
          ],
          [
           "You Are In Love"
          ],
          [
           "New Romantics"
          ]
         ],
         "hovertemplate": "album=%{x}<br>energy=%{y}<br>name=%{customdata[0]}<extra></extra>",
         "legendgroup": "1989",
         "marker": {
          "color": "#df65b0",
          "line": {
           "color": "white",
           "width": 0.5
          },
          "opacity": 0.8,
          "size": 15,
          "symbol": "diamond"
         },
         "mode": "markers",
         "name": "1989",
         "orientation": "v",
         "showlegend": true,
         "type": "scatter",
         "x": [
          "1989",
          "1989",
          "1989",
          "1989",
          "1989",
          "1989",
          "1989",
          "1989",
          "1989",
          "1989",
          "1989",
          "1989",
          "1989",
          "1989",
          "1989",
          "1989"
         ],
         "xaxis": "x",
         "y": [
          0.703,
          0.8,
          0.791,
          0.841,
          0.688,
          0.634,
          0.725,
          0.893,
          0.794,
          0.656,
          0.435,
          0.755,
          0.377,
          0.692,
          0.48,
          0.889
         ],
         "yaxis": "y"
        },
        {
         "customdata": [
          [
           "...Ready For It?"
          ],
          [
           "End Game"
          ],
          [
           "Look What You Made Me Do"
          ],
          [
           "Delicate"
          ],
          [
           "Getaway Car"
          ],
          [
           "Gorgeous"
          ],
          [
           "I Did Something Bad"
          ],
          [
           "Don’t Blame Me"
          ],
          [
           "So It Goes..."
          ],
          [
           "King Of My Heart"
          ],
          [
           "Dancing With Our Hands Tied"
          ],
          [
           "Dress"
          ],
          [
           "This Is Why We Can't Have Nice Things"
          ],
          [
           "Call It What You Want"
          ],
          [
           "New Year’s Day"
          ]
         ],
         "hovertemplate": "album=%{x}<br>energy=%{y}<br>name=%{customdata[0]}<extra></extra>",
         "legendgroup": "reputation",
         "marker": {
          "color": "#c994c7",
          "line": {
           "color": "white",
           "width": 0.5
          },
          "opacity": 0.8,
          "size": 15,
          "symbol": "diamond"
         },
         "mode": "markers",
         "name": "reputation",
         "orientation": "v",
         "showlegend": true,
         "type": "scatter",
         "x": [
          "reputation",
          "reputation",
          "reputation",
          "reputation",
          "reputation",
          "reputation",
          "reputation",
          "reputation",
          "reputation",
          "reputation",
          "reputation",
          "reputation",
          "reputation",
          "reputation",
          "reputation"
         ],
         "xaxis": "x",
         "y": [
          0.764,
          0.589,
          0.709,
          0.404,
          0.689,
          0.535,
          0.602,
          0.534,
          0.61,
          0.703,
          0.691,
          0.469,
          0.789,
          0.504,
          0.151
         ],
         "yaxis": "y"
        },
        {
         "customdata": [
          [
           "The Man"
          ],
          [
           "I Forgot That You Existed"
          ],
          [
           "Cruel Summer"
          ],
          [
           "Lover"
          ],
          [
           "The Man"
          ],
          [
           "The Archer"
          ],
          [
           "I Think He Knows"
          ],
          [
           "Miss Americana & The Heartbreak Prince"
          ],
          [
           "Paper Rings"
          ],
          [
           "Cornelia Street"
          ],
          [
           "Death By A Thousand Cuts"
          ],
          [
           "London Boy"
          ],
          [
           "Soon You’ll Get Better (feat. The Chicks)"
          ],
          [
           "False God"
          ],
          [
           "You Need To Calm Down"
          ],
          [
           "Afterglow"
          ],
          [
           "ME! (feat. Brendon Urie of Panic! At The Disco)"
          ],
          [
           "It’s Nice To Have A Friend"
          ],
          [
           "Daylight"
          ]
         ],
         "hovertemplate": "album=%{x}<br>energy=%{y}<br>name=%{customdata[0]}<extra></extra>",
         "legendgroup": "Lover",
         "marker": {
          "color": "#d4b9da",
          "line": {
           "color": "white",
           "width": 0.5
          },
          "opacity": 0.8,
          "size": 15,
          "symbol": "diamond"
         },
         "mode": "markers",
         "name": "Lover",
         "orientation": "v",
         "showlegend": true,
         "type": "scatter",
         "x": [
          "Lover",
          "Lover",
          "Lover",
          "Lover",
          "Lover",
          "Lover",
          "Lover",
          "Lover",
          "Lover",
          "Lover",
          "Lover",
          "Lover",
          "Lover",
          "Lover",
          "Lover",
          "Lover",
          "Lover",
          "Lover",
          "Lover"
         ],
         "xaxis": "x",
         "y": [
          0.658,
          0.316,
          0.702,
          0.543,
          0.658,
          0.574,
          0.366,
          0.747,
          0.719,
          0.624,
          0.732,
          0.71,
          0.182,
          0.32,
          0.671,
          0.449,
          0.83,
          0.175,
          0.496
         ],
         "yaxis": "y"
        },
        {
         "customdata": [
          [
           "cardigan"
          ],
          [
           "exile (feat. Bon Iver)"
          ],
          [
           "betty"
          ],
          [
           "august"
          ],
          [
           "this is me trying"
          ],
          [
           "the 1"
          ],
          [
           "the last great american dynasty"
          ],
          [
           "my tears ricochet"
          ],
          [
           "mirrorball"
          ],
          [
           "seven"
          ],
          [
           "illicit affairs"
          ],
          [
           "invisible string"
          ],
          [
           "mad woman"
          ],
          [
           "epiphany"
          ],
          [
           "peace"
          ],
          [
           "hoax"
          ]
         ],
         "hovertemplate": "album=%{x}<br>energy=%{y}<br>name=%{customdata[0]}<extra></extra>",
         "legendgroup": "folklore",
         "marker": {
          "color": "#e7e1ef",
          "line": {
           "color": "white",
           "width": 0.5
          },
          "opacity": 0.8,
          "size": 15,
          "symbol": "diamond"
         },
         "mode": "markers",
         "name": "folklore",
         "orientation": "v",
         "showlegend": true,
         "type": "scatter",
         "x": [
          "folklore",
          "folklore",
          "folklore",
          "folklore",
          "folklore",
          "folklore",
          "folklore",
          "folklore",
          "folklore",
          "folklore",
          "folklore",
          "folklore",
          "folklore",
          "folklore",
          "folklore",
          "folklore"
         ],
         "xaxis": "x",
         "y": [
          0.581,
          0.38,
          0.377,
          0.623,
          0.476,
          0.357,
          0.662,
          0.263,
          0.413,
          0.488,
          0.31,
          0.452,
          0.699,
          0.267,
          0.272,
          0.181
         ],
         "yaxis": "y"
        },
        {
         "customdata": [
          [
           "willow"
          ],
          [
           "champagne problems"
          ],
          [
           "gold rush"
          ],
          [
           "‘tis the damn season"
          ],
          [
           "tolerate it"
          ],
          [
           "no body, no crime (feat. HAIM)"
          ],
          [
           "happiness"
          ],
          [
           "dorothea"
          ],
          [
           "coney island (feat. The National)"
          ],
          [
           "ivy"
          ],
          [
           "cowboy like me"
          ],
          [
           "long story short"
          ],
          [
           "marjorie"
          ],
          [
           "closure"
          ],
          [
           "evermore (feat. Bon Iver)"
          ],
          [
           "right where you left me - bonus track"
          ],
          [
           "it’s time to go - bonus track"
          ]
         ],
         "hovertemplate": "album=%{x}<br>energy=%{y}<br>name=%{customdata[0]}<extra></extra>",
         "legendgroup": "evermore",
         "marker": {
          "color": "#f7f4f9",
          "line": {
           "color": "white",
           "width": 0.5
          },
          "opacity": 0.8,
          "size": 15,
          "symbol": "diamond"
         },
         "mode": "markers",
         "name": "evermore",
         "orientation": "v",
         "showlegend": true,
         "type": "scatter",
         "x": [
          "evermore",
          "evermore",
          "evermore",
          "evermore",
          "evermore",
          "evermore",
          "evermore",
          "evermore",
          "evermore",
          "evermore",
          "evermore",
          "evermore",
          "evermore",
          "evermore",
          "evermore",
          "evermore",
          "evermore"
         ],
         "xaxis": "x",
         "y": [
          0.574,
          0.24,
          0.462,
          0.434,
          0.361,
          0.613,
          0.334,
          0.488,
          0.537,
          0.545,
          0.517,
          0.73,
          0.561,
          0.704,
          0.27,
          0.619,
          0.41
         ],
         "yaxis": "y"
        }
       ],
       "layout": {
        "legend": {
         "title": {
          "text": "album"
         },
         "tracegroupgap": 0
        },
        "template": {
         "data": {
          "bar": [
           {
            "error_x": {
             "color": "#f2f5fa"
            },
            "error_y": {
             "color": "#f2f5fa"
            },
            "marker": {
             "line": {
              "color": "rgb(17,17,17)",
              "width": 0.5
             },
             "pattern": {
              "fillmode": "overlay",
              "size": 10,
              "solidity": 0.2
             }
            },
            "type": "bar"
           }
          ],
          "barpolar": [
           {
            "marker": {
             "line": {
              "color": "rgb(17,17,17)",
              "width": 0.5
             },
             "pattern": {
              "fillmode": "overlay",
              "size": 10,
              "solidity": 0.2
             }
            },
            "type": "barpolar"
           }
          ],
          "carpet": [
           {
            "aaxis": {
             "endlinecolor": "#A2B1C6",
             "gridcolor": "#506784",
             "linecolor": "#506784",
             "minorgridcolor": "#506784",
             "startlinecolor": "#A2B1C6"
            },
            "baxis": {
             "endlinecolor": "#A2B1C6",
             "gridcolor": "#506784",
             "linecolor": "#506784",
             "minorgridcolor": "#506784",
             "startlinecolor": "#A2B1C6"
            },
            "type": "carpet"
           }
          ],
          "choropleth": [
           {
            "colorbar": {
             "outlinewidth": 0,
             "ticks": ""
            },
            "type": "choropleth"
           }
          ],
          "contour": [
           {
            "colorbar": {
             "outlinewidth": 0,
             "ticks": ""
            },
            "colorscale": [
             [
              0,
              "#0d0887"
             ],
             [
              0.1111111111111111,
              "#46039f"
             ],
             [
              0.2222222222222222,
              "#7201a8"
             ],
             [
              0.3333333333333333,
              "#9c179e"
             ],
             [
              0.4444444444444444,
              "#bd3786"
             ],
             [
              0.5555555555555556,
              "#d8576b"
             ],
             [
              0.6666666666666666,
              "#ed7953"
             ],
             [
              0.7777777777777778,
              "#fb9f3a"
             ],
             [
              0.8888888888888888,
              "#fdca26"
             ],
             [
              1,
              "#f0f921"
             ]
            ],
            "type": "contour"
           }
          ],
          "contourcarpet": [
           {
            "colorbar": {
             "outlinewidth": 0,
             "ticks": ""
            },
            "type": "contourcarpet"
           }
          ],
          "heatmap": [
           {
            "colorbar": {
             "outlinewidth": 0,
             "ticks": ""
            },
            "colorscale": [
             [
              0,
              "#0d0887"
             ],
             [
              0.1111111111111111,
              "#46039f"
             ],
             [
              0.2222222222222222,
              "#7201a8"
             ],
             [
              0.3333333333333333,
              "#9c179e"
             ],
             [
              0.4444444444444444,
              "#bd3786"
             ],
             [
              0.5555555555555556,
              "#d8576b"
             ],
             [
              0.6666666666666666,
              "#ed7953"
             ],
             [
              0.7777777777777778,
              "#fb9f3a"
             ],
             [
              0.8888888888888888,
              "#fdca26"
             ],
             [
              1,
              "#f0f921"
             ]
            ],
            "type": "heatmap"
           }
          ],
          "heatmapgl": [
           {
            "colorbar": {
             "outlinewidth": 0,
             "ticks": ""
            },
            "colorscale": [
             [
              0,
              "#0d0887"
             ],
             [
              0.1111111111111111,
              "#46039f"
             ],
             [
              0.2222222222222222,
              "#7201a8"
             ],
             [
              0.3333333333333333,
              "#9c179e"
             ],
             [
              0.4444444444444444,
              "#bd3786"
             ],
             [
              0.5555555555555556,
              "#d8576b"
             ],
             [
              0.6666666666666666,
              "#ed7953"
             ],
             [
              0.7777777777777778,
              "#fb9f3a"
             ],
             [
              0.8888888888888888,
              "#fdca26"
             ],
             [
              1,
              "#f0f921"
             ]
            ],
            "type": "heatmapgl"
           }
          ],
          "histogram": [
           {
            "marker": {
             "pattern": {
              "fillmode": "overlay",
              "size": 10,
              "solidity": 0.2
             }
            },
            "type": "histogram"
           }
          ],
          "histogram2d": [
           {
            "colorbar": {
             "outlinewidth": 0,
             "ticks": ""
            },
            "colorscale": [
             [
              0,
              "#0d0887"
             ],
             [
              0.1111111111111111,
              "#46039f"
             ],
             [
              0.2222222222222222,
              "#7201a8"
             ],
             [
              0.3333333333333333,
              "#9c179e"
             ],
             [
              0.4444444444444444,
              "#bd3786"
             ],
             [
              0.5555555555555556,
              "#d8576b"
             ],
             [
              0.6666666666666666,
              "#ed7953"
             ],
             [
              0.7777777777777778,
              "#fb9f3a"
             ],
             [
              0.8888888888888888,
              "#fdca26"
             ],
             [
              1,
              "#f0f921"
             ]
            ],
            "type": "histogram2d"
           }
          ],
          "histogram2dcontour": [
           {
            "colorbar": {
             "outlinewidth": 0,
             "ticks": ""
            },
            "colorscale": [
             [
              0,
              "#0d0887"
             ],
             [
              0.1111111111111111,
              "#46039f"
             ],
             [
              0.2222222222222222,
              "#7201a8"
             ],
             [
              0.3333333333333333,
              "#9c179e"
             ],
             [
              0.4444444444444444,
              "#bd3786"
             ],
             [
              0.5555555555555556,
              "#d8576b"
             ],
             [
              0.6666666666666666,
              "#ed7953"
             ],
             [
              0.7777777777777778,
              "#fb9f3a"
             ],
             [
              0.8888888888888888,
              "#fdca26"
             ],
             [
              1,
              "#f0f921"
             ]
            ],
            "type": "histogram2dcontour"
           }
          ],
          "mesh3d": [
           {
            "colorbar": {
             "outlinewidth": 0,
             "ticks": ""
            },
            "type": "mesh3d"
           }
          ],
          "parcoords": [
           {
            "line": {
             "colorbar": {
              "outlinewidth": 0,
              "ticks": ""
             }
            },
            "type": "parcoords"
           }
          ],
          "pie": [
           {
            "automargin": true,
            "type": "pie"
           }
          ],
          "scatter": [
           {
            "marker": {
             "line": {
              "color": "#283442"
             }
            },
            "type": "scatter"
           }
          ],
          "scatter3d": [
           {
            "line": {
             "colorbar": {
              "outlinewidth": 0,
              "ticks": ""
             }
            },
            "marker": {
             "colorbar": {
              "outlinewidth": 0,
              "ticks": ""
             }
            },
            "type": "scatter3d"
           }
          ],
          "scattercarpet": [
           {
            "marker": {
             "colorbar": {
              "outlinewidth": 0,
              "ticks": ""
             }
            },
            "type": "scattercarpet"
           }
          ],
          "scattergeo": [
           {
            "marker": {
             "colorbar": {
              "outlinewidth": 0,
              "ticks": ""
             }
            },
            "type": "scattergeo"
           }
          ],
          "scattergl": [
           {
            "marker": {
             "line": {
              "color": "#283442"
             }
            },
            "type": "scattergl"
           }
          ],
          "scattermapbox": [
           {
            "marker": {
             "colorbar": {
              "outlinewidth": 0,
              "ticks": ""
             }
            },
            "type": "scattermapbox"
           }
          ],
          "scatterpolar": [
           {
            "marker": {
             "colorbar": {
              "outlinewidth": 0,
              "ticks": ""
             }
            },
            "type": "scatterpolar"
           }
          ],
          "scatterpolargl": [
           {
            "marker": {
             "colorbar": {
              "outlinewidth": 0,
              "ticks": ""
             }
            },
            "type": "scatterpolargl"
           }
          ],
          "scatterternary": [
           {
            "marker": {
             "colorbar": {
              "outlinewidth": 0,
              "ticks": ""
             }
            },
            "type": "scatterternary"
           }
          ],
          "surface": [
           {
            "colorbar": {
             "outlinewidth": 0,
             "ticks": ""
            },
            "colorscale": [
             [
              0,
              "#0d0887"
             ],
             [
              0.1111111111111111,
              "#46039f"
             ],
             [
              0.2222222222222222,
              "#7201a8"
             ],
             [
              0.3333333333333333,
              "#9c179e"
             ],
             [
              0.4444444444444444,
              "#bd3786"
             ],
             [
              0.5555555555555556,
              "#d8576b"
             ],
             [
              0.6666666666666666,
              "#ed7953"
             ],
             [
              0.7777777777777778,
              "#fb9f3a"
             ],
             [
              0.8888888888888888,
              "#fdca26"
             ],
             [
              1,
              "#f0f921"
             ]
            ],
            "type": "surface"
           }
          ],
          "table": [
           {
            "cells": {
             "fill": {
              "color": "#506784"
             },
             "line": {
              "color": "rgb(17,17,17)"
             }
            },
            "header": {
             "fill": {
              "color": "#2a3f5f"
             },
             "line": {
              "color": "rgb(17,17,17)"
             }
            },
            "type": "table"
           }
          ]
         },
         "layout": {
          "annotationdefaults": {
           "arrowcolor": "#f2f5fa",
           "arrowhead": 0,
           "arrowwidth": 1
          },
          "autotypenumbers": "strict",
          "coloraxis": {
           "colorbar": {
            "outlinewidth": 0,
            "ticks": ""
           }
          },
          "colorscale": {
           "diverging": [
            [
             0,
             "#8e0152"
            ],
            [
             0.1,
             "#c51b7d"
            ],
            [
             0.2,
             "#de77ae"
            ],
            [
             0.3,
             "#f1b6da"
            ],
            [
             0.4,
             "#fde0ef"
            ],
            [
             0.5,
             "#f7f7f7"
            ],
            [
             0.6,
             "#e6f5d0"
            ],
            [
             0.7,
             "#b8e186"
            ],
            [
             0.8,
             "#7fbc41"
            ],
            [
             0.9,
             "#4d9221"
            ],
            [
             1,
             "#276419"
            ]
           ],
           "sequential": [
            [
             0,
             "#0d0887"
            ],
            [
             0.1111111111111111,
             "#46039f"
            ],
            [
             0.2222222222222222,
             "#7201a8"
            ],
            [
             0.3333333333333333,
             "#9c179e"
            ],
            [
             0.4444444444444444,
             "#bd3786"
            ],
            [
             0.5555555555555556,
             "#d8576b"
            ],
            [
             0.6666666666666666,
             "#ed7953"
            ],
            [
             0.7777777777777778,
             "#fb9f3a"
            ],
            [
             0.8888888888888888,
             "#fdca26"
            ],
            [
             1,
             "#f0f921"
            ]
           ],
           "sequentialminus": [
            [
             0,
             "#0d0887"
            ],
            [
             0.1111111111111111,
             "#46039f"
            ],
            [
             0.2222222222222222,
             "#7201a8"
            ],
            [
             0.3333333333333333,
             "#9c179e"
            ],
            [
             0.4444444444444444,
             "#bd3786"
            ],
            [
             0.5555555555555556,
             "#d8576b"
            ],
            [
             0.6666666666666666,
             "#ed7953"
            ],
            [
             0.7777777777777778,
             "#fb9f3a"
            ],
            [
             0.8888888888888888,
             "#fdca26"
            ],
            [
             1,
             "#f0f921"
            ]
           ]
          },
          "colorway": [
           "#636efa",
           "#EF553B",
           "#00cc96",
           "#ab63fa",
           "#FFA15A",
           "#19d3f3",
           "#FF6692",
           "#B6E880",
           "#FF97FF",
           "#FECB52"
          ],
          "font": {
           "color": "#f2f5fa"
          },
          "geo": {
           "bgcolor": "rgb(17,17,17)",
           "lakecolor": "rgb(17,17,17)",
           "landcolor": "rgb(17,17,17)",
           "showlakes": true,
           "showland": true,
           "subunitcolor": "#506784"
          },
          "hoverlabel": {
           "align": "left"
          },
          "hovermode": "closest",
          "mapbox": {
           "style": "dark"
          },
          "paper_bgcolor": "rgb(17,17,17)",
          "plot_bgcolor": "rgb(17,17,17)",
          "polar": {
           "angularaxis": {
            "gridcolor": "#506784",
            "linecolor": "#506784",
            "ticks": ""
           },
           "bgcolor": "rgb(17,17,17)",
           "radialaxis": {
            "gridcolor": "#506784",
            "linecolor": "#506784",
            "ticks": ""
           }
          },
          "scene": {
           "xaxis": {
            "backgroundcolor": "rgb(17,17,17)",
            "gridcolor": "#506784",
            "gridwidth": 2,
            "linecolor": "#506784",
            "showbackground": true,
            "ticks": "",
            "zerolinecolor": "#C8D4E3"
           },
           "yaxis": {
            "backgroundcolor": "rgb(17,17,17)",
            "gridcolor": "#506784",
            "gridwidth": 2,
            "linecolor": "#506784",
            "showbackground": true,
            "ticks": "",
            "zerolinecolor": "#C8D4E3"
           },
           "zaxis": {
            "backgroundcolor": "rgb(17,17,17)",
            "gridcolor": "#506784",
            "gridwidth": 2,
            "linecolor": "#506784",
            "showbackground": true,
            "ticks": "",
            "zerolinecolor": "#C8D4E3"
           }
          },
          "shapedefaults": {
           "line": {
            "color": "#f2f5fa"
           }
          },
          "sliderdefaults": {
           "bgcolor": "#C8D4E3",
           "bordercolor": "rgb(17,17,17)",
           "borderwidth": 1,
           "tickwidth": 0
          },
          "ternary": {
           "aaxis": {
            "gridcolor": "#506784",
            "linecolor": "#506784",
            "ticks": ""
           },
           "baxis": {
            "gridcolor": "#506784",
            "linecolor": "#506784",
            "ticks": ""
           },
           "bgcolor": "rgb(17,17,17)",
           "caxis": {
            "gridcolor": "#506784",
            "linecolor": "#506784",
            "ticks": ""
           }
          },
          "title": {
           "x": 0.05
          },
          "updatemenudefaults": {
           "bgcolor": "#506784",
           "borderwidth": 0
          },
          "xaxis": {
           "automargin": true,
           "gridcolor": "#283442",
           "linecolor": "#506784",
           "ticks": "",
           "title": {
            "standoff": 15
           },
           "zerolinecolor": "#283442",
           "zerolinewidth": 2
          },
          "yaxis": {
           "automargin": true,
           "gridcolor": "#283442",
           "linecolor": "#506784",
           "ticks": "",
           "title": {
            "standoff": 15
           },
           "zerolinecolor": "#283442",
           "zerolinewidth": 2
          }
         }
        },
        "title": {
         "text": "Energy of songs"
        },
        "xaxis": {
         "anchor": "y",
         "categoryarray": [
          "Taylor Swift",
          "Fearless",
          "Speak Now",
          "Red",
          "1989",
          "reputation",
          "Lover",
          "folklore",
          "evermore"
         ],
         "categoryorder": "array",
         "domain": [
          0,
          1
         ],
         "title": {
          "text": "album"
         }
        },
        "yaxis": {
         "anchor": "x",
         "domain": [
          0,
          1
         ],
         "title": {
          "text": "energy"
         }
        }
       }
      }
     },
     "metadata": {},
     "output_type": "display_data"
    }
   ],
   "source": [
    "# energy scatter\n",
    "create_plotly_scatter_by_album(df, \"album\", \"energy\", ['name'], 'album', color_purd, 'Energy of songs', 'plotly_dark', 15, 'diamond', 0.5, 'white')"
   ]
  },
  {
   "cell_type": "markdown",
   "id": "e5495359",
   "metadata": {},
   "source": [
    "### Compare attributes against each other"
   ]
  },
  {
   "cell_type": "code",
   "execution_count": 32,
   "id": "789300da",
   "metadata": {},
   "outputs": [],
   "source": [
    "## function to show scatterplot of 2 features, using different shapes based on album\n",
    "\n",
    "def create_plotly_scatter_two_columns(df, x, y, hover_data, color, color_discrete_sequence, title, template, size, width, linecolor):\n",
    "    fig = px.scatter(df, x=x, y=y, hover_data=['name'], color='album',\n",
    "                    title=title, color_discrete_sequence=color_discrete_sequence,\n",
    "                    template=template, opacity=0.7, symbol=\"album\") #, size=\"energy\")\n",
    "\n",
    "    fig.update_traces(marker=dict(size=size,  #symbol='diamond',\n",
    "                                    line=dict(width=width,\n",
    "                                                color=linecolor)),\n",
    "                                    selector=dict(mode='markers'))\n",
    "    # save the plot as an html\n",
    "    # fig.write_html('./images/'+title+'.html')\n",
    "    fig.show()\n"
   ]
  },
  {
   "cell_type": "code",
   "execution_count": 33,
   "id": "fe25e08d",
   "metadata": {},
   "outputs": [
    {
     "data": {
      "application/vnd.plotly.v1+json": {
       "config": {
        "plotlyServerURL": "https://plot.ly"
       },
       "data": [
        {
         "customdata": [
          [
           "Picture To Burn"
          ],
          [
           "Our Song"
          ],
          [
           "Should've Said No"
          ],
          [
           "Tim McGraw"
          ],
          [
           "A Place in this World"
          ],
          [
           "Cold As You"
          ],
          [
           "The Outside"
          ],
          [
           "Tied Together with a Smile"
          ],
          [
           "Stay Beautiful"
          ],
          [
           "Mary's Song (Oh My My My)"
          ],
          [
           "I'm Only Me When I'm With You"
          ],
          [
           "Invisible"
          ],
          [
           "A Perfectly Good Heart"
          ],
          [
           "Teardrops on My Guitar - Pop Version"
          ],
          [
           "Teardrops On My Guitar - Radio Single Remix"
          ]
         ],
         "hovertemplate": "album=Taylor Swift<br>energy=%{x}<br>danceability=%{y}<br>name=%{customdata[0]}<extra></extra>",
         "legendgroup": "Taylor Swift",
         "marker": {
          "color": "#4d004b",
          "line": {
           "color": "white",
           "width": 0.5
          },
          "opacity": 0.7,
          "size": 15,
          "symbol": "circle"
         },
         "mode": "markers",
         "name": "Taylor Swift",
         "orientation": "v",
         "showlegend": true,
         "type": "scatter",
         "x": [
          0.877,
          0.672,
          0.777,
          0.491,
          0.777,
          0.482,
          0.805,
          0.578,
          0.629,
          0.627,
          0.934,
          0.394,
          0.751,
          0.753,
          0.417
         ],
         "xaxis": "x",
         "y": [
          0.658,
          0.668,
          0.476,
          0.58,
          0.576,
          0.418,
          0.589,
          0.479,
          0.594,
          0.403,
          0.563,
          0.612,
          0.483,
          0.459,
          0.621
         ],
         "yaxis": "y"
        },
        {
         "customdata": [
          [
           "You Belong With Me"
          ],
          [
           "White Horse"
          ],
          [
           "Fearless"
          ],
          [
           "Fifteen"
          ],
          [
           "Jump Then Fall"
          ],
          [
           "Untouchable"
          ],
          [
           "Forever & Always - Piano Version"
          ],
          [
           "Come In With The Rain"
          ],
          [
           "SuperStar"
          ],
          [
           "The Other Side Of The Door"
          ],
          [
           "Hey Stephen"
          ],
          [
           "Breathe"
          ],
          [
           "Tell Me Why"
          ],
          [
           "You're Not Sorry"
          ],
          [
           "The Way I Loved You"
          ],
          [
           "Forever & Always"
          ],
          [
           "The Best Day"
          ],
          [
           "Change"
          ]
         ],
         "hovertemplate": "album=Fearless<br>energy=%{x}<br>danceability=%{y}<br>name=%{customdata[0]}<extra></extra>",
         "legendgroup": "Fearless",
         "marker": {
          "color": "#810f7c",
          "line": {
           "color": "white",
           "width": 0.5
          },
          "opacity": 0.7,
          "size": 15,
          "symbol": "diamond"
         },
         "mode": "markers",
         "name": "Fearless",
         "orientation": "v",
         "showlegend": true,
         "type": "scatter",
         "x": [
          0.771,
          0.346,
          0.714,
          0.636,
          0.687,
          0.454,
          0.16,
          0.475,
          0.531,
          0.816,
          0.553,
          0.486,
          0.852,
          0.459,
          0.712,
          0.829,
          0.447,
          0.756
         ],
         "xaxis": "x",
         "y": [
          0.687,
          0.585,
          0.598,
          0.559,
          0.618,
          0.419,
          0.592,
          0.527,
          0.61,
          0.476,
          0.843,
          0.498,
          0.601,
          0.459,
          0.436,
          0.605,
          0.664,
          0.548
         ],
         "yaxis": "y"
        },
        {
         "customdata": [
          [
           "Mean"
          ],
          [
           "The Story Of Us"
          ],
          [
           "Speak Now"
          ],
          [
           "Ours"
          ],
          [
           "Mine"
          ],
          [
           "Sparks Fly"
          ],
          [
           "Back To December"
          ],
          [
           "Dear John"
          ],
          [
           "Never Grow Up"
          ],
          [
           "Enchanted"
          ],
          [
           "Better Than Revenge"
          ],
          [
           "Innocent"
          ],
          [
           "Haunted"
          ],
          [
           "Last Kiss"
          ],
          [
           "Long Live"
          ],
          [
           "If This Was A Movie"
          ],
          [
           "Superman"
          ],
          [
           "Back To December - Acoustic Version"
          ],
          [
           "Haunted - Acoustic Version"
          ],
          [
           "Mine - POP Mix"
          ]
         ],
         "hovertemplate": "album=Speak Now<br>energy=%{x}<br>danceability=%{y}<br>name=%{customdata[0]}<extra></extra>",
         "legendgroup": "Speak Now",
         "marker": {
          "color": "#88419d",
          "line": {
           "color": "white",
           "width": 0.5
          },
          "opacity": 0.7,
          "size": 15,
          "symbol": "square"
         },
         "mode": "markers",
         "name": "Speak Now",
         "orientation": "v",
         "showlegend": true,
         "type": "scatter",
         "x": [
          0.761,
          0.818,
          0.599,
          0.569,
          0.757,
          0.787,
          0.67,
          0.47,
          0.305,
          0.623,
          0.917,
          0.608,
          0.95,
          0.341,
          0.68,
          0.719,
          0.765,
          0.453,
          0.443,
          0.723
         ],
         "xaxis": "x",
         "y": [
          0.568,
          0.543,
          0.709,
          0.608,
          0.624,
          0.605,
          0.529,
          0.589,
          0.714,
          0.455,
          0.516,
          0.552,
          0.436,
          0.371,
          0.418,
          0.511,
          0.582,
          0.541,
          0.563,
          0.695
         ],
         "yaxis": "y"
        },
        {
         "customdata": [
          [
           "We Are Never Ever Getting Back Together"
          ],
          [
           "I Knew You Were Trouble."
          ],
          [
           "22"
          ],
          [
           "All Too Well"
          ],
          [
           "State Of Grace"
          ],
          [
           "Red"
          ],
          [
           "Treacherous"
          ],
          [
           "I Almost Do"
          ],
          [
           "Stay Stay Stay"
          ],
          [
           "The Last Time"
          ],
          [
           "Holy Ground"
          ],
          [
           "Sad Beautiful Tragic"
          ],
          [
           "Everything Has Changed"
          ],
          [
           "Starlight"
          ],
          [
           "Begin Again"
          ],
          [
           "Come Back...Be Here"
          ],
          [
           "Girl At Home"
          ],
          [
           "The Lucky One"
          ],
          [
           "The Moment I Knew"
          ],
          [
           "State Of Grace - Acoustic Version"
          ],
          [
           "Treacherous - Original Demo Recording"
          ],
          [
           "Red - Original Demo Recording"
          ]
         ],
         "hovertemplate": "album=Red<br>energy=%{x}<br>danceability=%{y}<br>name=%{customdata[0]}<extra></extra>",
         "legendgroup": "Red",
         "marker": {
          "color": "#8c6bb1",
          "line": {
           "color": "white",
           "width": 0.5
          },
          "opacity": 0.7,
          "size": 15,
          "symbol": "x"
         },
         "mode": "markers",
         "name": "Red",
         "orientation": "v",
         "showlegend": true,
         "type": "scatter",
         "x": [
          0.676,
          0.469,
          0.729,
          0.609,
          0.825,
          0.896,
          0.621,
          0.481,
          0.748,
          0.443,
          0.816,
          0.34,
          0.458,
          0.777,
          0.526,
          0.548,
          0.59,
          0.499,
          0.506,
          0.118,
          0.64,
          0.902
         ],
         "xaxis": "x",
         "y": [
          0.628,
          0.622,
          0.658,
          0.602,
          0.588,
          0.602,
          0.705,
          0.567,
          0.729,
          0.505,
          0.627,
          0.624,
          0.624,
          0.649,
          0.53,
          0.483,
          0.733,
          0.706,
          0.62,
          0.626,
          0.828,
          0.678
         ],
         "yaxis": "y"
        },
        {
         "customdata": [
          [
           "Blank Space"
          ],
          [
           "Shake It Off"
          ],
          [
           "Style"
          ],
          [
           "Out Of The Woods"
          ],
          [
           "Wildest Dreams"
          ],
          [
           "Welcome To New York"
          ],
          [
           "All You Had To Do Was Stay"
          ],
          [
           "I Wish You Would"
          ],
          [
           "Bad Blood"
          ],
          [
           "How You Get The Girl"
          ],
          [
           "This Love"
          ],
          [
           "I Know Places"
          ],
          [
           "Clean"
          ],
          [
           "Wonderland"
          ],
          [
           "You Are In Love"
          ],
          [
           "New Romantics"
          ]
         ],
         "hovertemplate": "album=1989<br>energy=%{x}<br>danceability=%{y}<br>name=%{customdata[0]}<extra></extra>",
         "legendgroup": "1989",
         "marker": {
          "color": "#8c96c6",
          "line": {
           "color": "white",
           "width": 0.5
          },
          "opacity": 0.7,
          "size": 15,
          "symbol": "cross"
         },
         "mode": "markers",
         "name": "1989",
         "orientation": "v",
         "showlegend": true,
         "type": "scatter",
         "x": [
          0.703,
          0.8,
          0.791,
          0.841,
          0.688,
          0.634,
          0.725,
          0.893,
          0.794,
          0.656,
          0.435,
          0.755,
          0.377,
          0.692,
          0.48,
          0.889
         ],
         "xaxis": "x",
         "y": [
          0.76,
          0.647,
          0.588,
          0.553,
          0.55,
          0.789,
          0.605,
          0.653,
          0.646,
          0.765,
          0.481,
          0.602,
          0.815,
          0.422,
          0.474,
          0.633
         ],
         "yaxis": "y"
        },
        {
         "customdata": [
          [
           "...Ready For It?"
          ],
          [
           "End Game"
          ],
          [
           "Look What You Made Me Do"
          ],
          [
           "Delicate"
          ],
          [
           "Getaway Car"
          ],
          [
           "Gorgeous"
          ],
          [
           "I Did Something Bad"
          ],
          [
           "Don’t Blame Me"
          ],
          [
           "So It Goes..."
          ],
          [
           "King Of My Heart"
          ],
          [
           "Dancing With Our Hands Tied"
          ],
          [
           "Dress"
          ],
          [
           "This Is Why We Can't Have Nice Things"
          ],
          [
           "Call It What You Want"
          ],
          [
           "New Year’s Day"
          ]
         ],
         "hovertemplate": "album=reputation<br>energy=%{x}<br>danceability=%{y}<br>name=%{customdata[0]}<extra></extra>",
         "legendgroup": "reputation",
         "marker": {
          "color": "#9ebcda",
          "line": {
           "color": "white",
           "width": 0.5
          },
          "opacity": 0.7,
          "size": 15,
          "symbol": "circle"
         },
         "mode": "markers",
         "name": "reputation",
         "orientation": "v",
         "showlegend": true,
         "type": "scatter",
         "x": [
          0.764,
          0.589,
          0.709,
          0.404,
          0.689,
          0.535,
          0.602,
          0.534,
          0.61,
          0.703,
          0.691,
          0.469,
          0.789,
          0.504,
          0.151
         ],
         "xaxis": "x",
         "y": [
          0.613,
          0.649,
          0.766,
          0.75,
          0.562,
          0.8,
          0.696,
          0.615,
          0.574,
          0.675,
          0.624,
          0.719,
          0.567,
          0.598,
          0.661
         ],
         "yaxis": "y"
        },
        {
         "customdata": [
          [
           "The Man"
          ],
          [
           "I Forgot That You Existed"
          ],
          [
           "Cruel Summer"
          ],
          [
           "Lover"
          ],
          [
           "The Man"
          ],
          [
           "The Archer"
          ],
          [
           "I Think He Knows"
          ],
          [
           "Miss Americana & The Heartbreak Prince"
          ],
          [
           "Paper Rings"
          ],
          [
           "Cornelia Street"
          ],
          [
           "Death By A Thousand Cuts"
          ],
          [
           "London Boy"
          ],
          [
           "Soon You’ll Get Better (feat. The Chicks)"
          ],
          [
           "False God"
          ],
          [
           "You Need To Calm Down"
          ],
          [
           "Afterglow"
          ],
          [
           "ME! (feat. Brendon Urie of Panic! At The Disco)"
          ],
          [
           "It’s Nice To Have A Friend"
          ],
          [
           "Daylight"
          ]
         ],
         "hovertemplate": "album=Lover<br>energy=%{x}<br>danceability=%{y}<br>name=%{customdata[0]}<extra></extra>",
         "legendgroup": "Lover",
         "marker": {
          "color": "#bfd3e6",
          "line": {
           "color": "white",
           "width": 0.5
          },
          "opacity": 0.7,
          "size": 15,
          "symbol": "diamond"
         },
         "mode": "markers",
         "name": "Lover",
         "orientation": "v",
         "showlegend": true,
         "type": "scatter",
         "x": [
          0.658,
          0.316,
          0.702,
          0.543,
          0.658,
          0.574,
          0.366,
          0.747,
          0.719,
          0.624,
          0.732,
          0.71,
          0.182,
          0.32,
          0.671,
          0.449,
          0.83,
          0.175,
          0.496
         ],
         "xaxis": "x",
         "y": [
          0.777,
          0.664,
          0.552,
          0.359,
          0.777,
          0.292,
          0.897,
          0.662,
          0.811,
          0.824,
          0.712,
          0.695,
          0.433,
          0.739,
          0.771,
          0.756,
          0.61,
          0.737,
          0.557
         ],
         "yaxis": "y"
        },
        {
         "customdata": [
          [
           "cardigan"
          ],
          [
           "exile (feat. Bon Iver)"
          ],
          [
           "betty"
          ],
          [
           "august"
          ],
          [
           "this is me trying"
          ],
          [
           "the 1"
          ],
          [
           "the last great american dynasty"
          ],
          [
           "my tears ricochet"
          ],
          [
           "mirrorball"
          ],
          [
           "seven"
          ],
          [
           "illicit affairs"
          ],
          [
           "invisible string"
          ],
          [
           "mad woman"
          ],
          [
           "epiphany"
          ],
          [
           "peace"
          ],
          [
           "hoax"
          ]
         ],
         "hovertemplate": "album=folklore<br>energy=%{x}<br>danceability=%{y}<br>name=%{customdata[0]}<extra></extra>",
         "legendgroup": "folklore",
         "marker": {
          "color": "#e0ecf4",
          "line": {
           "color": "white",
           "width": 0.5
          },
          "opacity": 0.7,
          "size": 15,
          "symbol": "square"
         },
         "mode": "markers",
         "name": "folklore",
         "orientation": "v",
         "showlegend": true,
         "type": "scatter",
         "x": [
          0.581,
          0.38,
          0.377,
          0.623,
          0.476,
          0.357,
          0.662,
          0.263,
          0.413,
          0.488,
          0.31,
          0.452,
          0.699,
          0.267,
          0.272,
          0.181
         ],
         "xaxis": "x",
         "y": [
          0.613,
          0.298,
          0.593,
          0.532,
          0.515,
          0.777,
          0.686,
          0.456,
          0.553,
          0.596,
          0.559,
          0.653,
          0.592,
          0.354,
          0.647,
          0.662
         ],
         "yaxis": "y"
        },
        {
         "customdata": [
          [
           "willow"
          ],
          [
           "champagne problems"
          ],
          [
           "gold rush"
          ],
          [
           "‘tis the damn season"
          ],
          [
           "tolerate it"
          ],
          [
           "no body, no crime (feat. HAIM)"
          ],
          [
           "happiness"
          ],
          [
           "dorothea"
          ],
          [
           "coney island (feat. The National)"
          ],
          [
           "ivy"
          ],
          [
           "cowboy like me"
          ],
          [
           "long story short"
          ],
          [
           "marjorie"
          ],
          [
           "closure"
          ],
          [
           "evermore (feat. Bon Iver)"
          ],
          [
           "right where you left me - bonus track"
          ],
          [
           "it’s time to go - bonus track"
          ]
         ],
         "hovertemplate": "album=evermore<br>energy=%{x}<br>danceability=%{y}<br>name=%{customdata[0]}<extra></extra>",
         "legendgroup": "evermore",
         "marker": {
          "color": "#f7fcfd",
          "line": {
           "color": "white",
           "width": 0.5
          },
          "opacity": 0.7,
          "size": 15,
          "symbol": "x"
         },
         "mode": "markers",
         "name": "evermore",
         "orientation": "v",
         "showlegend": true,
         "type": "scatter",
         "x": [
          0.574,
          0.24,
          0.462,
          0.434,
          0.361,
          0.613,
          0.334,
          0.488,
          0.537,
          0.545,
          0.517,
          0.73,
          0.561,
          0.704,
          0.27,
          0.619,
          0.41
         ],
         "xaxis": "x",
         "y": [
          0.392,
          0.462,
          0.512,
          0.575,
          0.316,
          0.546,
          0.559,
          0.605,
          0.537,
          0.515,
          0.604,
          0.546,
          0.535,
          0.689,
          0.39,
          0.581,
          0.592
         ],
         "yaxis": "y"
        }
       ],
       "layout": {
        "legend": {
         "title": {
          "text": "album"
         },
         "tracegroupgap": 0
        },
        "template": {
         "data": {
          "bar": [
           {
            "error_x": {
             "color": "#f2f5fa"
            },
            "error_y": {
             "color": "#f2f5fa"
            },
            "marker": {
             "line": {
              "color": "rgb(17,17,17)",
              "width": 0.5
             },
             "pattern": {
              "fillmode": "overlay",
              "size": 10,
              "solidity": 0.2
             }
            },
            "type": "bar"
           }
          ],
          "barpolar": [
           {
            "marker": {
             "line": {
              "color": "rgb(17,17,17)",
              "width": 0.5
             },
             "pattern": {
              "fillmode": "overlay",
              "size": 10,
              "solidity": 0.2
             }
            },
            "type": "barpolar"
           }
          ],
          "carpet": [
           {
            "aaxis": {
             "endlinecolor": "#A2B1C6",
             "gridcolor": "#506784",
             "linecolor": "#506784",
             "minorgridcolor": "#506784",
             "startlinecolor": "#A2B1C6"
            },
            "baxis": {
             "endlinecolor": "#A2B1C6",
             "gridcolor": "#506784",
             "linecolor": "#506784",
             "minorgridcolor": "#506784",
             "startlinecolor": "#A2B1C6"
            },
            "type": "carpet"
           }
          ],
          "choropleth": [
           {
            "colorbar": {
             "outlinewidth": 0,
             "ticks": ""
            },
            "type": "choropleth"
           }
          ],
          "contour": [
           {
            "colorbar": {
             "outlinewidth": 0,
             "ticks": ""
            },
            "colorscale": [
             [
              0,
              "#0d0887"
             ],
             [
              0.1111111111111111,
              "#46039f"
             ],
             [
              0.2222222222222222,
              "#7201a8"
             ],
             [
              0.3333333333333333,
              "#9c179e"
             ],
             [
              0.4444444444444444,
              "#bd3786"
             ],
             [
              0.5555555555555556,
              "#d8576b"
             ],
             [
              0.6666666666666666,
              "#ed7953"
             ],
             [
              0.7777777777777778,
              "#fb9f3a"
             ],
             [
              0.8888888888888888,
              "#fdca26"
             ],
             [
              1,
              "#f0f921"
             ]
            ],
            "type": "contour"
           }
          ],
          "contourcarpet": [
           {
            "colorbar": {
             "outlinewidth": 0,
             "ticks": ""
            },
            "type": "contourcarpet"
           }
          ],
          "heatmap": [
           {
            "colorbar": {
             "outlinewidth": 0,
             "ticks": ""
            },
            "colorscale": [
             [
              0,
              "#0d0887"
             ],
             [
              0.1111111111111111,
              "#46039f"
             ],
             [
              0.2222222222222222,
              "#7201a8"
             ],
             [
              0.3333333333333333,
              "#9c179e"
             ],
             [
              0.4444444444444444,
              "#bd3786"
             ],
             [
              0.5555555555555556,
              "#d8576b"
             ],
             [
              0.6666666666666666,
              "#ed7953"
             ],
             [
              0.7777777777777778,
              "#fb9f3a"
             ],
             [
              0.8888888888888888,
              "#fdca26"
             ],
             [
              1,
              "#f0f921"
             ]
            ],
            "type": "heatmap"
           }
          ],
          "heatmapgl": [
           {
            "colorbar": {
             "outlinewidth": 0,
             "ticks": ""
            },
            "colorscale": [
             [
              0,
              "#0d0887"
             ],
             [
              0.1111111111111111,
              "#46039f"
             ],
             [
              0.2222222222222222,
              "#7201a8"
             ],
             [
              0.3333333333333333,
              "#9c179e"
             ],
             [
              0.4444444444444444,
              "#bd3786"
             ],
             [
              0.5555555555555556,
              "#d8576b"
             ],
             [
              0.6666666666666666,
              "#ed7953"
             ],
             [
              0.7777777777777778,
              "#fb9f3a"
             ],
             [
              0.8888888888888888,
              "#fdca26"
             ],
             [
              1,
              "#f0f921"
             ]
            ],
            "type": "heatmapgl"
           }
          ],
          "histogram": [
           {
            "marker": {
             "pattern": {
              "fillmode": "overlay",
              "size": 10,
              "solidity": 0.2
             }
            },
            "type": "histogram"
           }
          ],
          "histogram2d": [
           {
            "colorbar": {
             "outlinewidth": 0,
             "ticks": ""
            },
            "colorscale": [
             [
              0,
              "#0d0887"
             ],
             [
              0.1111111111111111,
              "#46039f"
             ],
             [
              0.2222222222222222,
              "#7201a8"
             ],
             [
              0.3333333333333333,
              "#9c179e"
             ],
             [
              0.4444444444444444,
              "#bd3786"
             ],
             [
              0.5555555555555556,
              "#d8576b"
             ],
             [
              0.6666666666666666,
              "#ed7953"
             ],
             [
              0.7777777777777778,
              "#fb9f3a"
             ],
             [
              0.8888888888888888,
              "#fdca26"
             ],
             [
              1,
              "#f0f921"
             ]
            ],
            "type": "histogram2d"
           }
          ],
          "histogram2dcontour": [
           {
            "colorbar": {
             "outlinewidth": 0,
             "ticks": ""
            },
            "colorscale": [
             [
              0,
              "#0d0887"
             ],
             [
              0.1111111111111111,
              "#46039f"
             ],
             [
              0.2222222222222222,
              "#7201a8"
             ],
             [
              0.3333333333333333,
              "#9c179e"
             ],
             [
              0.4444444444444444,
              "#bd3786"
             ],
             [
              0.5555555555555556,
              "#d8576b"
             ],
             [
              0.6666666666666666,
              "#ed7953"
             ],
             [
              0.7777777777777778,
              "#fb9f3a"
             ],
             [
              0.8888888888888888,
              "#fdca26"
             ],
             [
              1,
              "#f0f921"
             ]
            ],
            "type": "histogram2dcontour"
           }
          ],
          "mesh3d": [
           {
            "colorbar": {
             "outlinewidth": 0,
             "ticks": ""
            },
            "type": "mesh3d"
           }
          ],
          "parcoords": [
           {
            "line": {
             "colorbar": {
              "outlinewidth": 0,
              "ticks": ""
             }
            },
            "type": "parcoords"
           }
          ],
          "pie": [
           {
            "automargin": true,
            "type": "pie"
           }
          ],
          "scatter": [
           {
            "marker": {
             "line": {
              "color": "#283442"
             }
            },
            "type": "scatter"
           }
          ],
          "scatter3d": [
           {
            "line": {
             "colorbar": {
              "outlinewidth": 0,
              "ticks": ""
             }
            },
            "marker": {
             "colorbar": {
              "outlinewidth": 0,
              "ticks": ""
             }
            },
            "type": "scatter3d"
           }
          ],
          "scattercarpet": [
           {
            "marker": {
             "colorbar": {
              "outlinewidth": 0,
              "ticks": ""
             }
            },
            "type": "scattercarpet"
           }
          ],
          "scattergeo": [
           {
            "marker": {
             "colorbar": {
              "outlinewidth": 0,
              "ticks": ""
             }
            },
            "type": "scattergeo"
           }
          ],
          "scattergl": [
           {
            "marker": {
             "line": {
              "color": "#283442"
             }
            },
            "type": "scattergl"
           }
          ],
          "scattermapbox": [
           {
            "marker": {
             "colorbar": {
              "outlinewidth": 0,
              "ticks": ""
             }
            },
            "type": "scattermapbox"
           }
          ],
          "scatterpolar": [
           {
            "marker": {
             "colorbar": {
              "outlinewidth": 0,
              "ticks": ""
             }
            },
            "type": "scatterpolar"
           }
          ],
          "scatterpolargl": [
           {
            "marker": {
             "colorbar": {
              "outlinewidth": 0,
              "ticks": ""
             }
            },
            "type": "scatterpolargl"
           }
          ],
          "scatterternary": [
           {
            "marker": {
             "colorbar": {
              "outlinewidth": 0,
              "ticks": ""
             }
            },
            "type": "scatterternary"
           }
          ],
          "surface": [
           {
            "colorbar": {
             "outlinewidth": 0,
             "ticks": ""
            },
            "colorscale": [
             [
              0,
              "#0d0887"
             ],
             [
              0.1111111111111111,
              "#46039f"
             ],
             [
              0.2222222222222222,
              "#7201a8"
             ],
             [
              0.3333333333333333,
              "#9c179e"
             ],
             [
              0.4444444444444444,
              "#bd3786"
             ],
             [
              0.5555555555555556,
              "#d8576b"
             ],
             [
              0.6666666666666666,
              "#ed7953"
             ],
             [
              0.7777777777777778,
              "#fb9f3a"
             ],
             [
              0.8888888888888888,
              "#fdca26"
             ],
             [
              1,
              "#f0f921"
             ]
            ],
            "type": "surface"
           }
          ],
          "table": [
           {
            "cells": {
             "fill": {
              "color": "#506784"
             },
             "line": {
              "color": "rgb(17,17,17)"
             }
            },
            "header": {
             "fill": {
              "color": "#2a3f5f"
             },
             "line": {
              "color": "rgb(17,17,17)"
             }
            },
            "type": "table"
           }
          ]
         },
         "layout": {
          "annotationdefaults": {
           "arrowcolor": "#f2f5fa",
           "arrowhead": 0,
           "arrowwidth": 1
          },
          "autotypenumbers": "strict",
          "coloraxis": {
           "colorbar": {
            "outlinewidth": 0,
            "ticks": ""
           }
          },
          "colorscale": {
           "diverging": [
            [
             0,
             "#8e0152"
            ],
            [
             0.1,
             "#c51b7d"
            ],
            [
             0.2,
             "#de77ae"
            ],
            [
             0.3,
             "#f1b6da"
            ],
            [
             0.4,
             "#fde0ef"
            ],
            [
             0.5,
             "#f7f7f7"
            ],
            [
             0.6,
             "#e6f5d0"
            ],
            [
             0.7,
             "#b8e186"
            ],
            [
             0.8,
             "#7fbc41"
            ],
            [
             0.9,
             "#4d9221"
            ],
            [
             1,
             "#276419"
            ]
           ],
           "sequential": [
            [
             0,
             "#0d0887"
            ],
            [
             0.1111111111111111,
             "#46039f"
            ],
            [
             0.2222222222222222,
             "#7201a8"
            ],
            [
             0.3333333333333333,
             "#9c179e"
            ],
            [
             0.4444444444444444,
             "#bd3786"
            ],
            [
             0.5555555555555556,
             "#d8576b"
            ],
            [
             0.6666666666666666,
             "#ed7953"
            ],
            [
             0.7777777777777778,
             "#fb9f3a"
            ],
            [
             0.8888888888888888,
             "#fdca26"
            ],
            [
             1,
             "#f0f921"
            ]
           ],
           "sequentialminus": [
            [
             0,
             "#0d0887"
            ],
            [
             0.1111111111111111,
             "#46039f"
            ],
            [
             0.2222222222222222,
             "#7201a8"
            ],
            [
             0.3333333333333333,
             "#9c179e"
            ],
            [
             0.4444444444444444,
             "#bd3786"
            ],
            [
             0.5555555555555556,
             "#d8576b"
            ],
            [
             0.6666666666666666,
             "#ed7953"
            ],
            [
             0.7777777777777778,
             "#fb9f3a"
            ],
            [
             0.8888888888888888,
             "#fdca26"
            ],
            [
             1,
             "#f0f921"
            ]
           ]
          },
          "colorway": [
           "#636efa",
           "#EF553B",
           "#00cc96",
           "#ab63fa",
           "#FFA15A",
           "#19d3f3",
           "#FF6692",
           "#B6E880",
           "#FF97FF",
           "#FECB52"
          ],
          "font": {
           "color": "#f2f5fa"
          },
          "geo": {
           "bgcolor": "rgb(17,17,17)",
           "lakecolor": "rgb(17,17,17)",
           "landcolor": "rgb(17,17,17)",
           "showlakes": true,
           "showland": true,
           "subunitcolor": "#506784"
          },
          "hoverlabel": {
           "align": "left"
          },
          "hovermode": "closest",
          "mapbox": {
           "style": "dark"
          },
          "paper_bgcolor": "rgb(17,17,17)",
          "plot_bgcolor": "rgb(17,17,17)",
          "polar": {
           "angularaxis": {
            "gridcolor": "#506784",
            "linecolor": "#506784",
            "ticks": ""
           },
           "bgcolor": "rgb(17,17,17)",
           "radialaxis": {
            "gridcolor": "#506784",
            "linecolor": "#506784",
            "ticks": ""
           }
          },
          "scene": {
           "xaxis": {
            "backgroundcolor": "rgb(17,17,17)",
            "gridcolor": "#506784",
            "gridwidth": 2,
            "linecolor": "#506784",
            "showbackground": true,
            "ticks": "",
            "zerolinecolor": "#C8D4E3"
           },
           "yaxis": {
            "backgroundcolor": "rgb(17,17,17)",
            "gridcolor": "#506784",
            "gridwidth": 2,
            "linecolor": "#506784",
            "showbackground": true,
            "ticks": "",
            "zerolinecolor": "#C8D4E3"
           },
           "zaxis": {
            "backgroundcolor": "rgb(17,17,17)",
            "gridcolor": "#506784",
            "gridwidth": 2,
            "linecolor": "#506784",
            "showbackground": true,
            "ticks": "",
            "zerolinecolor": "#C8D4E3"
           }
          },
          "shapedefaults": {
           "line": {
            "color": "#f2f5fa"
           }
          },
          "sliderdefaults": {
           "bgcolor": "#C8D4E3",
           "bordercolor": "rgb(17,17,17)",
           "borderwidth": 1,
           "tickwidth": 0
          },
          "ternary": {
           "aaxis": {
            "gridcolor": "#506784",
            "linecolor": "#506784",
            "ticks": ""
           },
           "baxis": {
            "gridcolor": "#506784",
            "linecolor": "#506784",
            "ticks": ""
           },
           "bgcolor": "rgb(17,17,17)",
           "caxis": {
            "gridcolor": "#506784",
            "linecolor": "#506784",
            "ticks": ""
           }
          },
          "title": {
           "x": 0.05
          },
          "updatemenudefaults": {
           "bgcolor": "#506784",
           "borderwidth": 0
          },
          "xaxis": {
           "automargin": true,
           "gridcolor": "#283442",
           "linecolor": "#506784",
           "ticks": "",
           "title": {
            "standoff": 15
           },
           "zerolinecolor": "#283442",
           "zerolinewidth": 2
          },
          "yaxis": {
           "automargin": true,
           "gridcolor": "#283442",
           "linecolor": "#506784",
           "ticks": "",
           "title": {
            "standoff": 15
           },
           "zerolinecolor": "#283442",
           "zerolinewidth": 2
          }
         }
        },
        "title": {
         "text": "Energy versus danceability"
        },
        "xaxis": {
         "anchor": "y",
         "domain": [
          0,
          1
         ],
         "title": {
          "text": "energy"
         }
        },
        "yaxis": {
         "anchor": "x",
         "domain": [
          0,
          1
         ],
         "title": {
          "text": "danceability"
         }
        }
       }
      }
     },
     "metadata": {},
     "output_type": "display_data"
    }
   ],
   "source": [
    "# energy and danceability\n",
    "create_plotly_scatter_two_columns(df, \"energy\", \"danceability\", ['name'], 'album', color_bupu, 'Energy versus danceability', 'plotly_dark', 15, 0.5, 'white')"
   ]
  },
  {
   "cell_type": "code",
   "execution_count": 34,
   "id": "807af009",
   "metadata": {},
   "outputs": [
    {
     "data": {
      "application/vnd.plotly.v1+json": {
       "config": {
        "plotlyServerURL": "https://plot.ly"
       },
       "data": [
        {
         "customdata": [
          [
           "Picture To Burn"
          ],
          [
           "Our Song"
          ],
          [
           "Should've Said No"
          ],
          [
           "Tim McGraw"
          ],
          [
           "A Place in this World"
          ],
          [
           "Cold As You"
          ],
          [
           "The Outside"
          ],
          [
           "Tied Together with a Smile"
          ],
          [
           "Stay Beautiful"
          ],
          [
           "Mary's Song (Oh My My My)"
          ],
          [
           "I'm Only Me When I'm With You"
          ],
          [
           "Invisible"
          ],
          [
           "A Perfectly Good Heart"
          ],
          [
           "Teardrops on My Guitar - Pop Version"
          ],
          [
           "Teardrops On My Guitar - Radio Single Remix"
          ]
         ],
         "hovertemplate": "album=Taylor Swift<br>energy=%{x}<br>tempo=%{y}<br>name=%{customdata[0]}<extra></extra>",
         "legendgroup": "Taylor Swift",
         "marker": {
          "color": "#67001f",
          "line": {
           "color": "white",
           "width": 0.5
          },
          "opacity": 0.7,
          "size": 15,
          "symbol": "circle"
         },
         "mode": "markers",
         "name": "Taylor Swift",
         "orientation": "v",
         "showlegend": true,
         "type": "scatter",
         "x": [
          0.877,
          0.672,
          0.777,
          0.491,
          0.777,
          0.482,
          0.805,
          0.578,
          0.629,
          0.627,
          0.934,
          0.394,
          0.751,
          0.753,
          0.417
         ],
         "xaxis": "x",
         "y": [
          105.586,
          89.011,
          167.964,
          76.009,
          115.028,
          175.558,
          112.982,
          146.165,
          131.597,
          74.9,
          143.964,
          96.001,
          156.092,
          199.997,
          99.953
         ],
         "yaxis": "y"
        },
        {
         "customdata": [
          [
           "You Belong With Me"
          ],
          [
           "White Horse"
          ],
          [
           "Fearless"
          ],
          [
           "Fifteen"
          ],
          [
           "Jump Then Fall"
          ],
          [
           "Untouchable"
          ],
          [
           "Forever & Always - Piano Version"
          ],
          [
           "Come In With The Rain"
          ],
          [
           "SuperStar"
          ],
          [
           "The Other Side Of The Door"
          ],
          [
           "Hey Stephen"
          ],
          [
           "Breathe"
          ],
          [
           "Tell Me Why"
          ],
          [
           "You're Not Sorry"
          ],
          [
           "The Way I Loved You"
          ],
          [
           "Forever & Always"
          ],
          [
           "The Best Day"
          ],
          [
           "Change"
          ]
         ],
         "hovertemplate": "album=Fearless<br>energy=%{x}<br>tempo=%{y}<br>name=%{customdata[0]}<extra></extra>",
         "legendgroup": "Fearless",
         "marker": {
          "color": "#980043",
          "line": {
           "color": "white",
           "width": 0.5
          },
          "opacity": 0.7,
          "size": 15,
          "symbol": "diamond"
         },
         "mode": "markers",
         "name": "Fearless",
         "orientation": "v",
         "showlegend": true,
         "type": "scatter",
         "x": [
          0.771,
          0.346,
          0.714,
          0.636,
          0.687,
          0.454,
          0.16,
          0.475,
          0.531,
          0.816,
          0.553,
          0.486,
          0.852,
          0.459,
          0.712,
          0.829,
          0.447,
          0.756
         ],
         "xaxis": "x",
         "y": [
          129.964,
          92.564,
          99.979,
          95.485,
          79.991,
          200.017,
          118.929,
          143.962,
          85.979,
          163.847,
          115.997,
          147.952,
          100.015,
          134.018,
          160.886,
          128.012,
          126.079,
          96.038
         ],
         "yaxis": "y"
        },
        {
         "customdata": [
          [
           "Mean"
          ],
          [
           "The Story Of Us"
          ],
          [
           "Speak Now"
          ],
          [
           "Ours"
          ],
          [
           "Mine"
          ],
          [
           "Sparks Fly"
          ],
          [
           "Back To December"
          ],
          [
           "Dear John"
          ],
          [
           "Never Grow Up"
          ],
          [
           "Enchanted"
          ],
          [
           "Better Than Revenge"
          ],
          [
           "Innocent"
          ],
          [
           "Haunted"
          ],
          [
           "Last Kiss"
          ],
          [
           "Long Live"
          ],
          [
           "If This Was A Movie"
          ],
          [
           "Superman"
          ],
          [
           "Back To December - Acoustic Version"
          ],
          [
           "Haunted - Acoustic Version"
          ],
          [
           "Mine - POP Mix"
          ]
         ],
         "hovertemplate": "album=Speak Now<br>energy=%{x}<br>tempo=%{y}<br>name=%{customdata[0]}<extra></extra>",
         "legendgroup": "Speak Now",
         "marker": {
          "color": "#ce1256",
          "line": {
           "color": "white",
           "width": 0.5
          },
          "opacity": 0.7,
          "size": 15,
          "symbol": "square"
         },
         "mode": "markers",
         "name": "Speak Now",
         "orientation": "v",
         "showlegend": true,
         "type": "scatter",
         "x": [
          0.761,
          0.818,
          0.599,
          0.569,
          0.757,
          0.787,
          0.67,
          0.47,
          0.305,
          0.623,
          0.917,
          0.608,
          0.95,
          0.341,
          0.68,
          0.719,
          0.765,
          0.453,
          0.443,
          0.723
         ],
         "xaxis": "x",
         "y": [
          163.974,
          139.898,
          118.975,
          159.845,
          121.07,
          114.987,
          141.893,
          119.386,
          124.91,
          163.893,
          145.821,
          134.05,
          162.088,
          89.038,
          204.12,
          147.852,
          131.982,
          141.757,
          80.962,
          121.011
         ],
         "yaxis": "y"
        },
        {
         "customdata": [
          [
           "We Are Never Ever Getting Back Together"
          ],
          [
           "I Knew You Were Trouble."
          ],
          [
           "22"
          ],
          [
           "All Too Well"
          ],
          [
           "State Of Grace"
          ],
          [
           "Red"
          ],
          [
           "Treacherous"
          ],
          [
           "I Almost Do"
          ],
          [
           "Stay Stay Stay"
          ],
          [
           "The Last Time"
          ],
          [
           "Holy Ground"
          ],
          [
           "Sad Beautiful Tragic"
          ],
          [
           "Everything Has Changed"
          ],
          [
           "Starlight"
          ],
          [
           "Begin Again"
          ],
          [
           "Come Back...Be Here"
          ],
          [
           "Girl At Home"
          ],
          [
           "The Lucky One"
          ],
          [
           "The Moment I Knew"
          ],
          [
           "State Of Grace - Acoustic Version"
          ],
          [
           "Treacherous - Original Demo Recording"
          ],
          [
           "Red - Original Demo Recording"
          ]
         ],
         "hovertemplate": "album=Red<br>energy=%{x}<br>tempo=%{y}<br>name=%{customdata[0]}<extra></extra>",
         "legendgroup": "Red",
         "marker": {
          "color": "#e7298a",
          "line": {
           "color": "white",
           "width": 0.5
          },
          "opacity": 0.7,
          "size": 15,
          "symbol": "x"
         },
         "mode": "markers",
         "name": "Red",
         "orientation": "v",
         "showlegend": true,
         "type": "scatter",
         "x": [
          0.676,
          0.469,
          0.729,
          0.609,
          0.825,
          0.896,
          0.621,
          0.481,
          0.748,
          0.443,
          0.816,
          0.34,
          0.458,
          0.777,
          0.526,
          0.548,
          0.59,
          0.499,
          0.506,
          0.118,
          0.64,
          0.902
         ],
         "xaxis": "x",
         "y": [
          85.984,
          77.019,
          104.007,
          93.06,
          129.968,
          124.978,
          109.993,
          145.865,
          99.981,
          94.069,
          157.043,
          129.987,
          80.017,
          126.018,
          79.025,
          79.926,
          125.048,
          117.937,
          126.015,
          105.597,
          109.993,
          124.998
         ],
         "yaxis": "y"
        },
        {
         "customdata": [
          [
           "Blank Space"
          ],
          [
           "Shake It Off"
          ],
          [
           "Style"
          ],
          [
           "Out Of The Woods"
          ],
          [
           "Wildest Dreams"
          ],
          [
           "Welcome To New York"
          ],
          [
           "All You Had To Do Was Stay"
          ],
          [
           "I Wish You Would"
          ],
          [
           "Bad Blood"
          ],
          [
           "How You Get The Girl"
          ],
          [
           "This Love"
          ],
          [
           "I Know Places"
          ],
          [
           "Clean"
          ],
          [
           "Wonderland"
          ],
          [
           "You Are In Love"
          ],
          [
           "New Romantics"
          ]
         ],
         "hovertemplate": "album=1989<br>energy=%{x}<br>tempo=%{y}<br>name=%{customdata[0]}<extra></extra>",
         "legendgroup": "1989",
         "marker": {
          "color": "#df65b0",
          "line": {
           "color": "white",
           "width": 0.5
          },
          "opacity": 0.7,
          "size": 15,
          "symbol": "cross"
         },
         "mode": "markers",
         "name": "1989",
         "orientation": "v",
         "showlegend": true,
         "type": "scatter",
         "x": [
          0.703,
          0.8,
          0.791,
          0.841,
          0.688,
          0.634,
          0.725,
          0.893,
          0.794,
          0.656,
          0.435,
          0.755,
          0.377,
          0.692,
          0.48,
          0.889
         ],
         "xaxis": "x",
         "y": [
          95.997,
          160.078,
          94.933,
          92.008,
          139.997,
          116.992,
          96.97,
          118.035,
          170.216,
          119.997,
          143.95,
          159.965,
          103.97,
          184.014,
          170.109,
          121.956
         ],
         "yaxis": "y"
        },
        {
         "customdata": [
          [
           "...Ready For It?"
          ],
          [
           "End Game"
          ],
          [
           "Look What You Made Me Do"
          ],
          [
           "Delicate"
          ],
          [
           "Getaway Car"
          ],
          [
           "Gorgeous"
          ],
          [
           "I Did Something Bad"
          ],
          [
           "Don’t Blame Me"
          ],
          [
           "So It Goes..."
          ],
          [
           "King Of My Heart"
          ],
          [
           "Dancing With Our Hands Tied"
          ],
          [
           "Dress"
          ],
          [
           "This Is Why We Can't Have Nice Things"
          ],
          [
           "Call It What You Want"
          ],
          [
           "New Year’s Day"
          ]
         ],
         "hovertemplate": "album=reputation<br>energy=%{x}<br>tempo=%{y}<br>name=%{customdata[0]}<extra></extra>",
         "legendgroup": "reputation",
         "marker": {
          "color": "#c994c7",
          "line": {
           "color": "white",
           "width": 0.5
          },
          "opacity": 0.7,
          "size": 15,
          "symbol": "circle"
         },
         "mode": "markers",
         "name": "reputation",
         "orientation": "v",
         "showlegend": true,
         "type": "scatter",
         "x": [
          0.764,
          0.589,
          0.709,
          0.404,
          0.689,
          0.535,
          0.602,
          0.534,
          0.61,
          0.703,
          0.691,
          0.469,
          0.789,
          0.504,
          0.151
         ],
         "xaxis": "x",
         "y": [
          160.015,
          159.073,
          128.07,
          95.045,
          172.054,
          92.027,
          82.989,
          135.917,
          74.957,
          110.01,
          160.024,
          120.085,
          163.96,
          163.954,
          94.922
         ],
         "yaxis": "y"
        },
        {
         "customdata": [
          [
           "The Man"
          ],
          [
           "I Forgot That You Existed"
          ],
          [
           "Cruel Summer"
          ],
          [
           "Lover"
          ],
          [
           "The Man"
          ],
          [
           "The Archer"
          ],
          [
           "I Think He Knows"
          ],
          [
           "Miss Americana & The Heartbreak Prince"
          ],
          [
           "Paper Rings"
          ],
          [
           "Cornelia Street"
          ],
          [
           "Death By A Thousand Cuts"
          ],
          [
           "London Boy"
          ],
          [
           "Soon You’ll Get Better (feat. The Chicks)"
          ],
          [
           "False God"
          ],
          [
           "You Need To Calm Down"
          ],
          [
           "Afterglow"
          ],
          [
           "ME! (feat. Brendon Urie of Panic! At The Disco)"
          ],
          [
           "It’s Nice To Have A Friend"
          ],
          [
           "Daylight"
          ]
         ],
         "hovertemplate": "album=Lover<br>energy=%{x}<br>tempo=%{y}<br>name=%{customdata[0]}<extra></extra>",
         "legendgroup": "Lover",
         "marker": {
          "color": "#d4b9da",
          "line": {
           "color": "white",
           "width": 0.5
          },
          "opacity": 0.7,
          "size": 15,
          "symbol": "diamond"
         },
         "mode": "markers",
         "name": "Lover",
         "orientation": "v",
         "showlegend": true,
         "type": "scatter",
         "x": [
          0.658,
          0.316,
          0.702,
          0.543,
          0.658,
          0.574,
          0.366,
          0.747,
          0.719,
          0.624,
          0.732,
          0.71,
          0.182,
          0.32,
          0.671,
          0.449,
          0.83,
          0.175,
          0.496
         ],
         "xaxis": "x",
         "y": [
          110.048,
          92.875,
          169.994,
          68.534,
          110.048,
          124.344,
          100.003,
          150.088,
          103.979,
          102.012,
          94.071,
          157.925,
          207.476,
          79.97,
          85.026,
          111.011,
          182.162,
          70.008,
          149.983
         ],
         "yaxis": "y"
        },
        {
         "customdata": [
          [
           "cardigan"
          ],
          [
           "exile (feat. Bon Iver)"
          ],
          [
           "betty"
          ],
          [
           "august"
          ],
          [
           "this is me trying"
          ],
          [
           "the 1"
          ],
          [
           "the last great american dynasty"
          ],
          [
           "my tears ricochet"
          ],
          [
           "mirrorball"
          ],
          [
           "seven"
          ],
          [
           "illicit affairs"
          ],
          [
           "invisible string"
          ],
          [
           "mad woman"
          ],
          [
           "epiphany"
          ],
          [
           "peace"
          ],
          [
           "hoax"
          ]
         ],
         "hovertemplate": "album=folklore<br>energy=%{x}<br>tempo=%{y}<br>name=%{customdata[0]}<extra></extra>",
         "legendgroup": "folklore",
         "marker": {
          "color": "#e7e1ef",
          "line": {
           "color": "white",
           "width": 0.5
          },
          "opacity": 0.7,
          "size": 15,
          "symbol": "square"
         },
         "mode": "markers",
         "name": "folklore",
         "orientation": "v",
         "showlegend": true,
         "type": "scatter",
         "x": [
          0.581,
          0.38,
          0.377,
          0.623,
          0.476,
          0.357,
          0.662,
          0.263,
          0.413,
          0.488,
          0.31,
          0.452,
          0.699,
          0.267,
          0.272,
          0.181
         ],
         "xaxis": "x",
         "y": [
          130.033,
          75.602,
          95.939,
          89.937,
          135.886,
          139.883,
          147.922,
          129.86,
          110.107,
          94.926,
          119.845,
          83.433,
          141.916,
          94.219,
          150.044,
          118.819
         ],
         "yaxis": "y"
        },
        {
         "customdata": [
          [
           "willow"
          ],
          [
           "champagne problems"
          ],
          [
           "gold rush"
          ],
          [
           "‘tis the damn season"
          ],
          [
           "tolerate it"
          ],
          [
           "no body, no crime (feat. HAIM)"
          ],
          [
           "happiness"
          ],
          [
           "dorothea"
          ],
          [
           "coney island (feat. The National)"
          ],
          [
           "ivy"
          ],
          [
           "cowboy like me"
          ],
          [
           "long story short"
          ],
          [
           "marjorie"
          ],
          [
           "closure"
          ],
          [
           "evermore (feat. Bon Iver)"
          ],
          [
           "right where you left me - bonus track"
          ],
          [
           "it’s time to go - bonus track"
          ]
         ],
         "hovertemplate": "album=evermore<br>energy=%{x}<br>tempo=%{y}<br>name=%{customdata[0]}<extra></extra>",
         "legendgroup": "evermore",
         "marker": {
          "color": "#f7f4f9",
          "line": {
           "color": "white",
           "width": 0.5
          },
          "opacity": 0.7,
          "size": 15,
          "symbol": "x"
         },
         "mode": "markers",
         "name": "evermore",
         "orientation": "v",
         "showlegend": true,
         "type": "scatter",
         "x": [
          0.574,
          0.24,
          0.462,
          0.434,
          0.361,
          0.613,
          0.334,
          0.488,
          0.537,
          0.545,
          0.517,
          0.73,
          0.561,
          0.704,
          0.27,
          0.619,
          0.41
         ],
         "xaxis": "x",
         "y": [
          81.112,
          171.319,
          112.05,
          145.916,
          74.952,
          79.015,
          122.079,
          119.966,
          107.895,
          88.856,
          127.967,
          157.895,
          96.103,
          151.884,
          125.177,
          137.915,
          151.923
         ],
         "yaxis": "y"
        }
       ],
       "layout": {
        "legend": {
         "title": {
          "text": "album"
         },
         "tracegroupgap": 0
        },
        "template": {
         "data": {
          "bar": [
           {
            "error_x": {
             "color": "#f2f5fa"
            },
            "error_y": {
             "color": "#f2f5fa"
            },
            "marker": {
             "line": {
              "color": "rgb(17,17,17)",
              "width": 0.5
             },
             "pattern": {
              "fillmode": "overlay",
              "size": 10,
              "solidity": 0.2
             }
            },
            "type": "bar"
           }
          ],
          "barpolar": [
           {
            "marker": {
             "line": {
              "color": "rgb(17,17,17)",
              "width": 0.5
             },
             "pattern": {
              "fillmode": "overlay",
              "size": 10,
              "solidity": 0.2
             }
            },
            "type": "barpolar"
           }
          ],
          "carpet": [
           {
            "aaxis": {
             "endlinecolor": "#A2B1C6",
             "gridcolor": "#506784",
             "linecolor": "#506784",
             "minorgridcolor": "#506784",
             "startlinecolor": "#A2B1C6"
            },
            "baxis": {
             "endlinecolor": "#A2B1C6",
             "gridcolor": "#506784",
             "linecolor": "#506784",
             "minorgridcolor": "#506784",
             "startlinecolor": "#A2B1C6"
            },
            "type": "carpet"
           }
          ],
          "choropleth": [
           {
            "colorbar": {
             "outlinewidth": 0,
             "ticks": ""
            },
            "type": "choropleth"
           }
          ],
          "contour": [
           {
            "colorbar": {
             "outlinewidth": 0,
             "ticks": ""
            },
            "colorscale": [
             [
              0,
              "#0d0887"
             ],
             [
              0.1111111111111111,
              "#46039f"
             ],
             [
              0.2222222222222222,
              "#7201a8"
             ],
             [
              0.3333333333333333,
              "#9c179e"
             ],
             [
              0.4444444444444444,
              "#bd3786"
             ],
             [
              0.5555555555555556,
              "#d8576b"
             ],
             [
              0.6666666666666666,
              "#ed7953"
             ],
             [
              0.7777777777777778,
              "#fb9f3a"
             ],
             [
              0.8888888888888888,
              "#fdca26"
             ],
             [
              1,
              "#f0f921"
             ]
            ],
            "type": "contour"
           }
          ],
          "contourcarpet": [
           {
            "colorbar": {
             "outlinewidth": 0,
             "ticks": ""
            },
            "type": "contourcarpet"
           }
          ],
          "heatmap": [
           {
            "colorbar": {
             "outlinewidth": 0,
             "ticks": ""
            },
            "colorscale": [
             [
              0,
              "#0d0887"
             ],
             [
              0.1111111111111111,
              "#46039f"
             ],
             [
              0.2222222222222222,
              "#7201a8"
             ],
             [
              0.3333333333333333,
              "#9c179e"
             ],
             [
              0.4444444444444444,
              "#bd3786"
             ],
             [
              0.5555555555555556,
              "#d8576b"
             ],
             [
              0.6666666666666666,
              "#ed7953"
             ],
             [
              0.7777777777777778,
              "#fb9f3a"
             ],
             [
              0.8888888888888888,
              "#fdca26"
             ],
             [
              1,
              "#f0f921"
             ]
            ],
            "type": "heatmap"
           }
          ],
          "heatmapgl": [
           {
            "colorbar": {
             "outlinewidth": 0,
             "ticks": ""
            },
            "colorscale": [
             [
              0,
              "#0d0887"
             ],
             [
              0.1111111111111111,
              "#46039f"
             ],
             [
              0.2222222222222222,
              "#7201a8"
             ],
             [
              0.3333333333333333,
              "#9c179e"
             ],
             [
              0.4444444444444444,
              "#bd3786"
             ],
             [
              0.5555555555555556,
              "#d8576b"
             ],
             [
              0.6666666666666666,
              "#ed7953"
             ],
             [
              0.7777777777777778,
              "#fb9f3a"
             ],
             [
              0.8888888888888888,
              "#fdca26"
             ],
             [
              1,
              "#f0f921"
             ]
            ],
            "type": "heatmapgl"
           }
          ],
          "histogram": [
           {
            "marker": {
             "pattern": {
              "fillmode": "overlay",
              "size": 10,
              "solidity": 0.2
             }
            },
            "type": "histogram"
           }
          ],
          "histogram2d": [
           {
            "colorbar": {
             "outlinewidth": 0,
             "ticks": ""
            },
            "colorscale": [
             [
              0,
              "#0d0887"
             ],
             [
              0.1111111111111111,
              "#46039f"
             ],
             [
              0.2222222222222222,
              "#7201a8"
             ],
             [
              0.3333333333333333,
              "#9c179e"
             ],
             [
              0.4444444444444444,
              "#bd3786"
             ],
             [
              0.5555555555555556,
              "#d8576b"
             ],
             [
              0.6666666666666666,
              "#ed7953"
             ],
             [
              0.7777777777777778,
              "#fb9f3a"
             ],
             [
              0.8888888888888888,
              "#fdca26"
             ],
             [
              1,
              "#f0f921"
             ]
            ],
            "type": "histogram2d"
           }
          ],
          "histogram2dcontour": [
           {
            "colorbar": {
             "outlinewidth": 0,
             "ticks": ""
            },
            "colorscale": [
             [
              0,
              "#0d0887"
             ],
             [
              0.1111111111111111,
              "#46039f"
             ],
             [
              0.2222222222222222,
              "#7201a8"
             ],
             [
              0.3333333333333333,
              "#9c179e"
             ],
             [
              0.4444444444444444,
              "#bd3786"
             ],
             [
              0.5555555555555556,
              "#d8576b"
             ],
             [
              0.6666666666666666,
              "#ed7953"
             ],
             [
              0.7777777777777778,
              "#fb9f3a"
             ],
             [
              0.8888888888888888,
              "#fdca26"
             ],
             [
              1,
              "#f0f921"
             ]
            ],
            "type": "histogram2dcontour"
           }
          ],
          "mesh3d": [
           {
            "colorbar": {
             "outlinewidth": 0,
             "ticks": ""
            },
            "type": "mesh3d"
           }
          ],
          "parcoords": [
           {
            "line": {
             "colorbar": {
              "outlinewidth": 0,
              "ticks": ""
             }
            },
            "type": "parcoords"
           }
          ],
          "pie": [
           {
            "automargin": true,
            "type": "pie"
           }
          ],
          "scatter": [
           {
            "marker": {
             "line": {
              "color": "#283442"
             }
            },
            "type": "scatter"
           }
          ],
          "scatter3d": [
           {
            "line": {
             "colorbar": {
              "outlinewidth": 0,
              "ticks": ""
             }
            },
            "marker": {
             "colorbar": {
              "outlinewidth": 0,
              "ticks": ""
             }
            },
            "type": "scatter3d"
           }
          ],
          "scattercarpet": [
           {
            "marker": {
             "colorbar": {
              "outlinewidth": 0,
              "ticks": ""
             }
            },
            "type": "scattercarpet"
           }
          ],
          "scattergeo": [
           {
            "marker": {
             "colorbar": {
              "outlinewidth": 0,
              "ticks": ""
             }
            },
            "type": "scattergeo"
           }
          ],
          "scattergl": [
           {
            "marker": {
             "line": {
              "color": "#283442"
             }
            },
            "type": "scattergl"
           }
          ],
          "scattermapbox": [
           {
            "marker": {
             "colorbar": {
              "outlinewidth": 0,
              "ticks": ""
             }
            },
            "type": "scattermapbox"
           }
          ],
          "scatterpolar": [
           {
            "marker": {
             "colorbar": {
              "outlinewidth": 0,
              "ticks": ""
             }
            },
            "type": "scatterpolar"
           }
          ],
          "scatterpolargl": [
           {
            "marker": {
             "colorbar": {
              "outlinewidth": 0,
              "ticks": ""
             }
            },
            "type": "scatterpolargl"
           }
          ],
          "scatterternary": [
           {
            "marker": {
             "colorbar": {
              "outlinewidth": 0,
              "ticks": ""
             }
            },
            "type": "scatterternary"
           }
          ],
          "surface": [
           {
            "colorbar": {
             "outlinewidth": 0,
             "ticks": ""
            },
            "colorscale": [
             [
              0,
              "#0d0887"
             ],
             [
              0.1111111111111111,
              "#46039f"
             ],
             [
              0.2222222222222222,
              "#7201a8"
             ],
             [
              0.3333333333333333,
              "#9c179e"
             ],
             [
              0.4444444444444444,
              "#bd3786"
             ],
             [
              0.5555555555555556,
              "#d8576b"
             ],
             [
              0.6666666666666666,
              "#ed7953"
             ],
             [
              0.7777777777777778,
              "#fb9f3a"
             ],
             [
              0.8888888888888888,
              "#fdca26"
             ],
             [
              1,
              "#f0f921"
             ]
            ],
            "type": "surface"
           }
          ],
          "table": [
           {
            "cells": {
             "fill": {
              "color": "#506784"
             },
             "line": {
              "color": "rgb(17,17,17)"
             }
            },
            "header": {
             "fill": {
              "color": "#2a3f5f"
             },
             "line": {
              "color": "rgb(17,17,17)"
             }
            },
            "type": "table"
           }
          ]
         },
         "layout": {
          "annotationdefaults": {
           "arrowcolor": "#f2f5fa",
           "arrowhead": 0,
           "arrowwidth": 1
          },
          "autotypenumbers": "strict",
          "coloraxis": {
           "colorbar": {
            "outlinewidth": 0,
            "ticks": ""
           }
          },
          "colorscale": {
           "diverging": [
            [
             0,
             "#8e0152"
            ],
            [
             0.1,
             "#c51b7d"
            ],
            [
             0.2,
             "#de77ae"
            ],
            [
             0.3,
             "#f1b6da"
            ],
            [
             0.4,
             "#fde0ef"
            ],
            [
             0.5,
             "#f7f7f7"
            ],
            [
             0.6,
             "#e6f5d0"
            ],
            [
             0.7,
             "#b8e186"
            ],
            [
             0.8,
             "#7fbc41"
            ],
            [
             0.9,
             "#4d9221"
            ],
            [
             1,
             "#276419"
            ]
           ],
           "sequential": [
            [
             0,
             "#0d0887"
            ],
            [
             0.1111111111111111,
             "#46039f"
            ],
            [
             0.2222222222222222,
             "#7201a8"
            ],
            [
             0.3333333333333333,
             "#9c179e"
            ],
            [
             0.4444444444444444,
             "#bd3786"
            ],
            [
             0.5555555555555556,
             "#d8576b"
            ],
            [
             0.6666666666666666,
             "#ed7953"
            ],
            [
             0.7777777777777778,
             "#fb9f3a"
            ],
            [
             0.8888888888888888,
             "#fdca26"
            ],
            [
             1,
             "#f0f921"
            ]
           ],
           "sequentialminus": [
            [
             0,
             "#0d0887"
            ],
            [
             0.1111111111111111,
             "#46039f"
            ],
            [
             0.2222222222222222,
             "#7201a8"
            ],
            [
             0.3333333333333333,
             "#9c179e"
            ],
            [
             0.4444444444444444,
             "#bd3786"
            ],
            [
             0.5555555555555556,
             "#d8576b"
            ],
            [
             0.6666666666666666,
             "#ed7953"
            ],
            [
             0.7777777777777778,
             "#fb9f3a"
            ],
            [
             0.8888888888888888,
             "#fdca26"
            ],
            [
             1,
             "#f0f921"
            ]
           ]
          },
          "colorway": [
           "#636efa",
           "#EF553B",
           "#00cc96",
           "#ab63fa",
           "#FFA15A",
           "#19d3f3",
           "#FF6692",
           "#B6E880",
           "#FF97FF",
           "#FECB52"
          ],
          "font": {
           "color": "#f2f5fa"
          },
          "geo": {
           "bgcolor": "rgb(17,17,17)",
           "lakecolor": "rgb(17,17,17)",
           "landcolor": "rgb(17,17,17)",
           "showlakes": true,
           "showland": true,
           "subunitcolor": "#506784"
          },
          "hoverlabel": {
           "align": "left"
          },
          "hovermode": "closest",
          "mapbox": {
           "style": "dark"
          },
          "paper_bgcolor": "rgb(17,17,17)",
          "plot_bgcolor": "rgb(17,17,17)",
          "polar": {
           "angularaxis": {
            "gridcolor": "#506784",
            "linecolor": "#506784",
            "ticks": ""
           },
           "bgcolor": "rgb(17,17,17)",
           "radialaxis": {
            "gridcolor": "#506784",
            "linecolor": "#506784",
            "ticks": ""
           }
          },
          "scene": {
           "xaxis": {
            "backgroundcolor": "rgb(17,17,17)",
            "gridcolor": "#506784",
            "gridwidth": 2,
            "linecolor": "#506784",
            "showbackground": true,
            "ticks": "",
            "zerolinecolor": "#C8D4E3"
           },
           "yaxis": {
            "backgroundcolor": "rgb(17,17,17)",
            "gridcolor": "#506784",
            "gridwidth": 2,
            "linecolor": "#506784",
            "showbackground": true,
            "ticks": "",
            "zerolinecolor": "#C8D4E3"
           },
           "zaxis": {
            "backgroundcolor": "rgb(17,17,17)",
            "gridcolor": "#506784",
            "gridwidth": 2,
            "linecolor": "#506784",
            "showbackground": true,
            "ticks": "",
            "zerolinecolor": "#C8D4E3"
           }
          },
          "shapedefaults": {
           "line": {
            "color": "#f2f5fa"
           }
          },
          "sliderdefaults": {
           "bgcolor": "#C8D4E3",
           "bordercolor": "rgb(17,17,17)",
           "borderwidth": 1,
           "tickwidth": 0
          },
          "ternary": {
           "aaxis": {
            "gridcolor": "#506784",
            "linecolor": "#506784",
            "ticks": ""
           },
           "baxis": {
            "gridcolor": "#506784",
            "linecolor": "#506784",
            "ticks": ""
           },
           "bgcolor": "rgb(17,17,17)",
           "caxis": {
            "gridcolor": "#506784",
            "linecolor": "#506784",
            "ticks": ""
           }
          },
          "title": {
           "x": 0.05
          },
          "updatemenudefaults": {
           "bgcolor": "#506784",
           "borderwidth": 0
          },
          "xaxis": {
           "automargin": true,
           "gridcolor": "#283442",
           "linecolor": "#506784",
           "ticks": "",
           "title": {
            "standoff": 15
           },
           "zerolinecolor": "#283442",
           "zerolinewidth": 2
          },
          "yaxis": {
           "automargin": true,
           "gridcolor": "#283442",
           "linecolor": "#506784",
           "ticks": "",
           "title": {
            "standoff": 15
           },
           "zerolinecolor": "#283442",
           "zerolinewidth": 2
          }
         }
        },
        "title": {
         "text": "Energy versus tempo"
        },
        "xaxis": {
         "anchor": "y",
         "domain": [
          0,
          1
         ],
         "title": {
          "text": "energy"
         }
        },
        "yaxis": {
         "anchor": "x",
         "domain": [
          0,
          1
         ],
         "title": {
          "text": "tempo"
         }
        }
       }
      }
     },
     "metadata": {},
     "output_type": "display_data"
    }
   ],
   "source": [
    "# energy and danceability\n",
    "create_plotly_scatter_two_columns(df, \"energy\", \"tempo\", ['name'], 'album', color_purd, 'Energy versus tempo', 'plotly_dark', 15, 0.5, 'white')"
   ]
  },
  {
   "cell_type": "markdown",
   "id": "cef055a6",
   "metadata": {},
   "source": [
    "# try new graphs\n",
    "\n",
    "### show how average values per album changed over time\n",
    "\n",
    "# SHOULD ADD RELEASE DATE SO WE CAN SEE WHEN WE HOVER OVER THE POINTS."
   ]
  },
  {
   "cell_type": "code",
   "execution_count": 35,
   "id": "927494f4",
   "metadata": {},
   "outputs": [
    {
     "data": {
      "text/html": [
       "<div>\n",
       "<style scoped>\n",
       "    .dataframe tbody tr th:only-of-type {\n",
       "        vertical-align: middle;\n",
       "    }\n",
       "\n",
       "    .dataframe tbody tr th {\n",
       "        vertical-align: top;\n",
       "    }\n",
       "\n",
       "    .dataframe thead th {\n",
       "        text-align: right;\n",
       "    }\n",
       "</style>\n",
       "<table border=\"1\" class=\"dataframe\">\n",
       "  <thead>\n",
       "    <tr style=\"text-align: right;\">\n",
       "      <th></th>\n",
       "      <th>length</th>\n",
       "      <th>popularity</th>\n",
       "      <th>danceability</th>\n",
       "      <th>acousticness</th>\n",
       "      <th>energy</th>\n",
       "      <th>instrumentalness</th>\n",
       "      <th>liveness</th>\n",
       "      <th>loudness</th>\n",
       "      <th>speechiness</th>\n",
       "      <th>valence</th>\n",
       "      <th>tempo</th>\n",
       "    </tr>\n",
       "    <tr>\n",
       "      <th>album</th>\n",
       "      <th></th>\n",
       "      <th></th>\n",
       "      <th></th>\n",
       "      <th></th>\n",
       "      <th></th>\n",
       "      <th></th>\n",
       "      <th></th>\n",
       "      <th></th>\n",
       "      <th></th>\n",
       "      <th></th>\n",
       "      <th></th>\n",
       "    </tr>\n",
       "  </thead>\n",
       "  <tbody>\n",
       "    <tr>\n",
       "      <th>Taylor Swift</th>\n",
       "      <td>213.866667</td>\n",
       "      <td>54.600000</td>\n",
       "      <td>0.545267</td>\n",
       "      <td>0.182995</td>\n",
       "      <td>0.664267</td>\n",
       "      <td>0.000054</td>\n",
       "      <td>0.160773</td>\n",
       "      <td>-4.731667</td>\n",
       "      <td>0.032687</td>\n",
       "      <td>0.426533</td>\n",
       "      <td>126.053800</td>\n",
       "    </tr>\n",
       "    <tr>\n",
       "      <th>Fearless</th>\n",
       "      <td>251.666667</td>\n",
       "      <td>45.222222</td>\n",
       "      <td>0.573611</td>\n",
       "      <td>0.204973</td>\n",
       "      <td>0.593556</td>\n",
       "      <td>0.000002</td>\n",
       "      <td>0.164650</td>\n",
       "      <td>-5.806611</td>\n",
       "      <td>0.031967</td>\n",
       "      <td>0.384111</td>\n",
       "      <td>123.317444</td>\n",
       "    </tr>\n",
       "    <tr>\n",
       "      <th>Speak Now</th>\n",
       "      <td>275.550000</td>\n",
       "      <td>54.100000</td>\n",
       "      <td>0.556450</td>\n",
       "      <td>0.249275</td>\n",
       "      <td>0.647900</td>\n",
       "      <td>0.000046</td>\n",
       "      <td>0.172500</td>\n",
       "      <td>-4.726250</td>\n",
       "      <td>0.034670</td>\n",
       "      <td>0.416950</td>\n",
       "      <td>136.375600</td>\n",
       "    </tr>\n",
       "    <tr>\n",
       "      <th>Red</th>\n",
       "      <td>246.136364</td>\n",
       "      <td>58.045455</td>\n",
       "      <td>0.633364</td>\n",
       "      <td>0.148799</td>\n",
       "      <td>0.600773</td>\n",
       "      <td>0.001802</td>\n",
       "      <td>0.126214</td>\n",
       "      <td>-7.380045</td>\n",
       "      <td>0.036577</td>\n",
       "      <td>0.468191</td>\n",
       "      <td>110.296727</td>\n",
       "    </tr>\n",
       "    <tr>\n",
       "      <th>1989</th>\n",
       "      <td>229.437500</td>\n",
       "      <td>58.875000</td>\n",
       "      <td>0.623938</td>\n",
       "      <td>0.143798</td>\n",
       "      <td>0.697063</td>\n",
       "      <td>0.000836</td>\n",
       "      <td>0.155750</td>\n",
       "      <td>-6.323000</td>\n",
       "      <td>0.067100</td>\n",
       "      <td>0.453562</td>\n",
       "      <td>130.574187</td>\n",
       "    </tr>\n",
       "    <tr>\n",
       "      <th>reputation</th>\n",
       "      <td>223.000000</td>\n",
       "      <td>70.733333</td>\n",
       "      <td>0.657933</td>\n",
       "      <td>0.138515</td>\n",
       "      <td>0.582867</td>\n",
       "      <td>0.000044</td>\n",
       "      <td>0.152153</td>\n",
       "      <td>-7.672400</td>\n",
       "      <td>0.095120</td>\n",
       "      <td>0.293400</td>\n",
       "      <td>127.540133</td>\n",
       "    </tr>\n",
       "    <tr>\n",
       "      <th>folklore</th>\n",
       "      <td>238.625000</td>\n",
       "      <td>71.312500</td>\n",
       "      <td>0.567875</td>\n",
       "      <td>0.710813</td>\n",
       "      <td>0.425063</td>\n",
       "      <td>0.000211</td>\n",
       "      <td>0.112625</td>\n",
       "      <td>-10.247063</td>\n",
       "      <td>0.040431</td>\n",
       "      <td>0.381250</td>\n",
       "      <td>116.148188</td>\n",
       "    </tr>\n",
       "    <tr>\n",
       "      <th>evermore</th>\n",
       "      <td>243.823529</td>\n",
       "      <td>64.294118</td>\n",
       "      <td>0.526824</td>\n",
       "      <td>0.794118</td>\n",
       "      <td>0.494059</td>\n",
       "      <td>0.020617</td>\n",
       "      <td>0.113588</td>\n",
       "      <td>-9.781588</td>\n",
       "      <td>0.057906</td>\n",
       "      <td>0.433529</td>\n",
       "      <td>120.707294</td>\n",
       "    </tr>\n",
       "  </tbody>\n",
       "</table>\n",
       "</div>"
      ],
      "text/plain": [
       "                  length  popularity  danceability  acousticness    energy  \\\n",
       "album                                                                        \n",
       "Taylor Swift  213.866667   54.600000      0.545267      0.182995  0.664267   \n",
       "Fearless      251.666667   45.222222      0.573611      0.204973  0.593556   \n",
       "Speak Now     275.550000   54.100000      0.556450      0.249275  0.647900   \n",
       "Red           246.136364   58.045455      0.633364      0.148799  0.600773   \n",
       "1989          229.437500   58.875000      0.623938      0.143798  0.697063   \n",
       "reputation    223.000000   70.733333      0.657933      0.138515  0.582867   \n",
       "folklore      238.625000   71.312500      0.567875      0.710813  0.425063   \n",
       "evermore      243.823529   64.294118      0.526824      0.794118  0.494059   \n",
       "\n",
       "              instrumentalness  liveness   loudness  speechiness   valence  \\\n",
       "album                                                                        \n",
       "Taylor Swift          0.000054  0.160773  -4.731667     0.032687  0.426533   \n",
       "Fearless              0.000002  0.164650  -5.806611     0.031967  0.384111   \n",
       "Speak Now             0.000046  0.172500  -4.726250     0.034670  0.416950   \n",
       "Red                   0.001802  0.126214  -7.380045     0.036577  0.468191   \n",
       "1989                  0.000836  0.155750  -6.323000     0.067100  0.453562   \n",
       "reputation            0.000044  0.152153  -7.672400     0.095120  0.293400   \n",
       "folklore              0.000211  0.112625 -10.247063     0.040431  0.381250   \n",
       "evermore              0.020617  0.113588  -9.781588     0.057906  0.433529   \n",
       "\n",
       "                   tempo  \n",
       "album                     \n",
       "Taylor Swift  126.053800  \n",
       "Fearless      123.317444  \n",
       "Speak Now     136.375600  \n",
       "Red           110.296727  \n",
       "1989          130.574187  \n",
       "reputation    127.540133  \n",
       "folklore      116.148188  \n",
       "evermore      120.707294  "
      ]
     },
     "execution_count": 35,
     "metadata": {},
     "output_type": "execute_result"
    }
   ],
   "source": [
    "## create new df to store average values per album\n",
    "df_avg = df.groupby('album').mean()\n",
    "df_avg = df_avg.reindex(['Taylor Swift','Fearless','Speak Now','Red','1989','reputation','folklore','evermore'])\n",
    "df_avg"
   ]
  },
  {
   "cell_type": "code",
   "execution_count": 36,
   "id": "c94fa4d4",
   "metadata": {},
   "outputs": [],
   "source": [
    "# create function to show feature in a line graph\n",
    "def create_plotly_line(column, title, color_discrete_sequence, template, xaxislabel, yaxislabel, symbol, edgecolor):\n",
    "    fig = px.line(column, title=title, markers=True, \n",
    "                color_discrete_sequence=color_discrete_sequence, template=template)\n",
    "    fig[\"layout\"][\"xaxis\"][\"title\"][\"text\"] = xaxislabel\n",
    "    fig[\"layout\"][\"yaxis\"][\"title\"][\"text\"] = yaxislabel\n",
    "    fig.update_traces(marker=dict(size=15, symbol=symbol, \n",
    "                                    line=dict(width=2,\n",
    "                                                color=edgecolor)))\n",
    "    fig.update_xaxes(tickangle=-30)\n",
    "\n",
    "    # save the plot as an html\n",
    "    # fig.write_html('./images/'+title+'.html')                                            \n",
    "    fig.show()\n"
   ]
  },
  {
   "cell_type": "code",
   "execution_count": 37,
   "id": "368a6715",
   "metadata": {},
   "outputs": [
    {
     "data": {
      "application/vnd.plotly.v1+json": {
       "config": {
        "plotlyServerURL": "https://plot.ly"
       },
       "data": [
        {
         "hovertemplate": "variable=length<br>album=%{x}<br>value=%{y}<extra></extra>",
         "legendgroup": "length",
         "line": {
          "color": "#BF3EFF",
          "dash": "solid"
         },
         "marker": {
          "line": {
           "color": "lavender",
           "width": 2
          },
          "size": 15,
          "symbol": "diamond"
         },
         "mode": "lines+markers",
         "name": "length",
         "orientation": "v",
         "showlegend": true,
         "type": "scatter",
         "x": [
          "Taylor Swift",
          "Fearless",
          "Speak Now",
          "Red",
          "1989",
          "reputation",
          "folklore",
          "evermore"
         ],
         "xaxis": "x",
         "y": [
          213.86666666666667,
          251.66666666666666,
          275.55,
          246.13636363636363,
          229.4375,
          223,
          238.625,
          243.8235294117647
         ],
         "yaxis": "y"
        }
       ],
       "layout": {
        "legend": {
         "title": {
          "text": "variable"
         },
         "tracegroupgap": 0
        },
        "template": {
         "data": {
          "bar": [
           {
            "error_x": {
             "color": "#f2f5fa"
            },
            "error_y": {
             "color": "#f2f5fa"
            },
            "marker": {
             "line": {
              "color": "rgb(17,17,17)",
              "width": 0.5
             },
             "pattern": {
              "fillmode": "overlay",
              "size": 10,
              "solidity": 0.2
             }
            },
            "type": "bar"
           }
          ],
          "barpolar": [
           {
            "marker": {
             "line": {
              "color": "rgb(17,17,17)",
              "width": 0.5
             },
             "pattern": {
              "fillmode": "overlay",
              "size": 10,
              "solidity": 0.2
             }
            },
            "type": "barpolar"
           }
          ],
          "carpet": [
           {
            "aaxis": {
             "endlinecolor": "#A2B1C6",
             "gridcolor": "#506784",
             "linecolor": "#506784",
             "minorgridcolor": "#506784",
             "startlinecolor": "#A2B1C6"
            },
            "baxis": {
             "endlinecolor": "#A2B1C6",
             "gridcolor": "#506784",
             "linecolor": "#506784",
             "minorgridcolor": "#506784",
             "startlinecolor": "#A2B1C6"
            },
            "type": "carpet"
           }
          ],
          "choropleth": [
           {
            "colorbar": {
             "outlinewidth": 0,
             "ticks": ""
            },
            "type": "choropleth"
           }
          ],
          "contour": [
           {
            "colorbar": {
             "outlinewidth": 0,
             "ticks": ""
            },
            "colorscale": [
             [
              0,
              "#0d0887"
             ],
             [
              0.1111111111111111,
              "#46039f"
             ],
             [
              0.2222222222222222,
              "#7201a8"
             ],
             [
              0.3333333333333333,
              "#9c179e"
             ],
             [
              0.4444444444444444,
              "#bd3786"
             ],
             [
              0.5555555555555556,
              "#d8576b"
             ],
             [
              0.6666666666666666,
              "#ed7953"
             ],
             [
              0.7777777777777778,
              "#fb9f3a"
             ],
             [
              0.8888888888888888,
              "#fdca26"
             ],
             [
              1,
              "#f0f921"
             ]
            ],
            "type": "contour"
           }
          ],
          "contourcarpet": [
           {
            "colorbar": {
             "outlinewidth": 0,
             "ticks": ""
            },
            "type": "contourcarpet"
           }
          ],
          "heatmap": [
           {
            "colorbar": {
             "outlinewidth": 0,
             "ticks": ""
            },
            "colorscale": [
             [
              0,
              "#0d0887"
             ],
             [
              0.1111111111111111,
              "#46039f"
             ],
             [
              0.2222222222222222,
              "#7201a8"
             ],
             [
              0.3333333333333333,
              "#9c179e"
             ],
             [
              0.4444444444444444,
              "#bd3786"
             ],
             [
              0.5555555555555556,
              "#d8576b"
             ],
             [
              0.6666666666666666,
              "#ed7953"
             ],
             [
              0.7777777777777778,
              "#fb9f3a"
             ],
             [
              0.8888888888888888,
              "#fdca26"
             ],
             [
              1,
              "#f0f921"
             ]
            ],
            "type": "heatmap"
           }
          ],
          "heatmapgl": [
           {
            "colorbar": {
             "outlinewidth": 0,
             "ticks": ""
            },
            "colorscale": [
             [
              0,
              "#0d0887"
             ],
             [
              0.1111111111111111,
              "#46039f"
             ],
             [
              0.2222222222222222,
              "#7201a8"
             ],
             [
              0.3333333333333333,
              "#9c179e"
             ],
             [
              0.4444444444444444,
              "#bd3786"
             ],
             [
              0.5555555555555556,
              "#d8576b"
             ],
             [
              0.6666666666666666,
              "#ed7953"
             ],
             [
              0.7777777777777778,
              "#fb9f3a"
             ],
             [
              0.8888888888888888,
              "#fdca26"
             ],
             [
              1,
              "#f0f921"
             ]
            ],
            "type": "heatmapgl"
           }
          ],
          "histogram": [
           {
            "marker": {
             "pattern": {
              "fillmode": "overlay",
              "size": 10,
              "solidity": 0.2
             }
            },
            "type": "histogram"
           }
          ],
          "histogram2d": [
           {
            "colorbar": {
             "outlinewidth": 0,
             "ticks": ""
            },
            "colorscale": [
             [
              0,
              "#0d0887"
             ],
             [
              0.1111111111111111,
              "#46039f"
             ],
             [
              0.2222222222222222,
              "#7201a8"
             ],
             [
              0.3333333333333333,
              "#9c179e"
             ],
             [
              0.4444444444444444,
              "#bd3786"
             ],
             [
              0.5555555555555556,
              "#d8576b"
             ],
             [
              0.6666666666666666,
              "#ed7953"
             ],
             [
              0.7777777777777778,
              "#fb9f3a"
             ],
             [
              0.8888888888888888,
              "#fdca26"
             ],
             [
              1,
              "#f0f921"
             ]
            ],
            "type": "histogram2d"
           }
          ],
          "histogram2dcontour": [
           {
            "colorbar": {
             "outlinewidth": 0,
             "ticks": ""
            },
            "colorscale": [
             [
              0,
              "#0d0887"
             ],
             [
              0.1111111111111111,
              "#46039f"
             ],
             [
              0.2222222222222222,
              "#7201a8"
             ],
             [
              0.3333333333333333,
              "#9c179e"
             ],
             [
              0.4444444444444444,
              "#bd3786"
             ],
             [
              0.5555555555555556,
              "#d8576b"
             ],
             [
              0.6666666666666666,
              "#ed7953"
             ],
             [
              0.7777777777777778,
              "#fb9f3a"
             ],
             [
              0.8888888888888888,
              "#fdca26"
             ],
             [
              1,
              "#f0f921"
             ]
            ],
            "type": "histogram2dcontour"
           }
          ],
          "mesh3d": [
           {
            "colorbar": {
             "outlinewidth": 0,
             "ticks": ""
            },
            "type": "mesh3d"
           }
          ],
          "parcoords": [
           {
            "line": {
             "colorbar": {
              "outlinewidth": 0,
              "ticks": ""
             }
            },
            "type": "parcoords"
           }
          ],
          "pie": [
           {
            "automargin": true,
            "type": "pie"
           }
          ],
          "scatter": [
           {
            "marker": {
             "line": {
              "color": "#283442"
             }
            },
            "type": "scatter"
           }
          ],
          "scatter3d": [
           {
            "line": {
             "colorbar": {
              "outlinewidth": 0,
              "ticks": ""
             }
            },
            "marker": {
             "colorbar": {
              "outlinewidth": 0,
              "ticks": ""
             }
            },
            "type": "scatter3d"
           }
          ],
          "scattercarpet": [
           {
            "marker": {
             "colorbar": {
              "outlinewidth": 0,
              "ticks": ""
             }
            },
            "type": "scattercarpet"
           }
          ],
          "scattergeo": [
           {
            "marker": {
             "colorbar": {
              "outlinewidth": 0,
              "ticks": ""
             }
            },
            "type": "scattergeo"
           }
          ],
          "scattergl": [
           {
            "marker": {
             "line": {
              "color": "#283442"
             }
            },
            "type": "scattergl"
           }
          ],
          "scattermapbox": [
           {
            "marker": {
             "colorbar": {
              "outlinewidth": 0,
              "ticks": ""
             }
            },
            "type": "scattermapbox"
           }
          ],
          "scatterpolar": [
           {
            "marker": {
             "colorbar": {
              "outlinewidth": 0,
              "ticks": ""
             }
            },
            "type": "scatterpolar"
           }
          ],
          "scatterpolargl": [
           {
            "marker": {
             "colorbar": {
              "outlinewidth": 0,
              "ticks": ""
             }
            },
            "type": "scatterpolargl"
           }
          ],
          "scatterternary": [
           {
            "marker": {
             "colorbar": {
              "outlinewidth": 0,
              "ticks": ""
             }
            },
            "type": "scatterternary"
           }
          ],
          "surface": [
           {
            "colorbar": {
             "outlinewidth": 0,
             "ticks": ""
            },
            "colorscale": [
             [
              0,
              "#0d0887"
             ],
             [
              0.1111111111111111,
              "#46039f"
             ],
             [
              0.2222222222222222,
              "#7201a8"
             ],
             [
              0.3333333333333333,
              "#9c179e"
             ],
             [
              0.4444444444444444,
              "#bd3786"
             ],
             [
              0.5555555555555556,
              "#d8576b"
             ],
             [
              0.6666666666666666,
              "#ed7953"
             ],
             [
              0.7777777777777778,
              "#fb9f3a"
             ],
             [
              0.8888888888888888,
              "#fdca26"
             ],
             [
              1,
              "#f0f921"
             ]
            ],
            "type": "surface"
           }
          ],
          "table": [
           {
            "cells": {
             "fill": {
              "color": "#506784"
             },
             "line": {
              "color": "rgb(17,17,17)"
             }
            },
            "header": {
             "fill": {
              "color": "#2a3f5f"
             },
             "line": {
              "color": "rgb(17,17,17)"
             }
            },
            "type": "table"
           }
          ]
         },
         "layout": {
          "annotationdefaults": {
           "arrowcolor": "#f2f5fa",
           "arrowhead": 0,
           "arrowwidth": 1
          },
          "autotypenumbers": "strict",
          "coloraxis": {
           "colorbar": {
            "outlinewidth": 0,
            "ticks": ""
           }
          },
          "colorscale": {
           "diverging": [
            [
             0,
             "#8e0152"
            ],
            [
             0.1,
             "#c51b7d"
            ],
            [
             0.2,
             "#de77ae"
            ],
            [
             0.3,
             "#f1b6da"
            ],
            [
             0.4,
             "#fde0ef"
            ],
            [
             0.5,
             "#f7f7f7"
            ],
            [
             0.6,
             "#e6f5d0"
            ],
            [
             0.7,
             "#b8e186"
            ],
            [
             0.8,
             "#7fbc41"
            ],
            [
             0.9,
             "#4d9221"
            ],
            [
             1,
             "#276419"
            ]
           ],
           "sequential": [
            [
             0,
             "#0d0887"
            ],
            [
             0.1111111111111111,
             "#46039f"
            ],
            [
             0.2222222222222222,
             "#7201a8"
            ],
            [
             0.3333333333333333,
             "#9c179e"
            ],
            [
             0.4444444444444444,
             "#bd3786"
            ],
            [
             0.5555555555555556,
             "#d8576b"
            ],
            [
             0.6666666666666666,
             "#ed7953"
            ],
            [
             0.7777777777777778,
             "#fb9f3a"
            ],
            [
             0.8888888888888888,
             "#fdca26"
            ],
            [
             1,
             "#f0f921"
            ]
           ],
           "sequentialminus": [
            [
             0,
             "#0d0887"
            ],
            [
             0.1111111111111111,
             "#46039f"
            ],
            [
             0.2222222222222222,
             "#7201a8"
            ],
            [
             0.3333333333333333,
             "#9c179e"
            ],
            [
             0.4444444444444444,
             "#bd3786"
            ],
            [
             0.5555555555555556,
             "#d8576b"
            ],
            [
             0.6666666666666666,
             "#ed7953"
            ],
            [
             0.7777777777777778,
             "#fb9f3a"
            ],
            [
             0.8888888888888888,
             "#fdca26"
            ],
            [
             1,
             "#f0f921"
            ]
           ]
          },
          "colorway": [
           "#636efa",
           "#EF553B",
           "#00cc96",
           "#ab63fa",
           "#FFA15A",
           "#19d3f3",
           "#FF6692",
           "#B6E880",
           "#FF97FF",
           "#FECB52"
          ],
          "font": {
           "color": "#f2f5fa"
          },
          "geo": {
           "bgcolor": "rgb(17,17,17)",
           "lakecolor": "rgb(17,17,17)",
           "landcolor": "rgb(17,17,17)",
           "showlakes": true,
           "showland": true,
           "subunitcolor": "#506784"
          },
          "hoverlabel": {
           "align": "left"
          },
          "hovermode": "closest",
          "mapbox": {
           "style": "dark"
          },
          "paper_bgcolor": "rgb(17,17,17)",
          "plot_bgcolor": "rgb(17,17,17)",
          "polar": {
           "angularaxis": {
            "gridcolor": "#506784",
            "linecolor": "#506784",
            "ticks": ""
           },
           "bgcolor": "rgb(17,17,17)",
           "radialaxis": {
            "gridcolor": "#506784",
            "linecolor": "#506784",
            "ticks": ""
           }
          },
          "scene": {
           "xaxis": {
            "backgroundcolor": "rgb(17,17,17)",
            "gridcolor": "#506784",
            "gridwidth": 2,
            "linecolor": "#506784",
            "showbackground": true,
            "ticks": "",
            "zerolinecolor": "#C8D4E3"
           },
           "yaxis": {
            "backgroundcolor": "rgb(17,17,17)",
            "gridcolor": "#506784",
            "gridwidth": 2,
            "linecolor": "#506784",
            "showbackground": true,
            "ticks": "",
            "zerolinecolor": "#C8D4E3"
           },
           "zaxis": {
            "backgroundcolor": "rgb(17,17,17)",
            "gridcolor": "#506784",
            "gridwidth": 2,
            "linecolor": "#506784",
            "showbackground": true,
            "ticks": "",
            "zerolinecolor": "#C8D4E3"
           }
          },
          "shapedefaults": {
           "line": {
            "color": "#f2f5fa"
           }
          },
          "sliderdefaults": {
           "bgcolor": "#C8D4E3",
           "bordercolor": "rgb(17,17,17)",
           "borderwidth": 1,
           "tickwidth": 0
          },
          "ternary": {
           "aaxis": {
            "gridcolor": "#506784",
            "linecolor": "#506784",
            "ticks": ""
           },
           "baxis": {
            "gridcolor": "#506784",
            "linecolor": "#506784",
            "ticks": ""
           },
           "bgcolor": "rgb(17,17,17)",
           "caxis": {
            "gridcolor": "#506784",
            "linecolor": "#506784",
            "ticks": ""
           }
          },
          "title": {
           "x": 0.05
          },
          "updatemenudefaults": {
           "bgcolor": "#506784",
           "borderwidth": 0
          },
          "xaxis": {
           "automargin": true,
           "gridcolor": "#283442",
           "linecolor": "#506784",
           "ticks": "",
           "title": {
            "standoff": 15
           },
           "zerolinecolor": "#283442",
           "zerolinewidth": 2
          },
          "yaxis": {
           "automargin": true,
           "gridcolor": "#283442",
           "linecolor": "#506784",
           "ticks": "",
           "title": {
            "standoff": 15
           },
           "zerolinecolor": "#283442",
           "zerolinewidth": 2
          }
         }
        },
        "title": {
         "text": "Average length of songs per album"
        },
        "xaxis": {
         "anchor": "y",
         "domain": [
          0,
          1
         ],
         "tickangle": -30,
         "title": {
          "text": "Album"
         }
        },
        "yaxis": {
         "anchor": "x",
         "domain": [
          0,
          1
         ],
         "title": {
          "text": "Average length (s)"
         }
        }
       }
      }
     },
     "metadata": {},
     "output_type": "display_data"
    }
   ],
   "source": [
    "# length over time\n",
    "create_plotly_line(df_avg.length, 'Average length of songs per album',['#BF3EFF'], 'plotly_dark', 'Album', 'Average length (s)', 'diamond', 'lavender')"
   ]
  },
  {
   "cell_type": "code",
   "execution_count": 38,
   "id": "879b1a1f",
   "metadata": {},
   "outputs": [
    {
     "data": {
      "application/vnd.plotly.v1+json": {
       "config": {
        "plotlyServerURL": "https://plot.ly"
       },
       "data": [
        {
         "hovertemplate": "variable=popularity<br>album=%{x}<br>value=%{y}<extra></extra>",
         "legendgroup": "popularity",
         "line": {
          "color": "#BF3EFF",
          "dash": "solid"
         },
         "marker": {
          "line": {
           "color": "lavender",
           "width": 2
          },
          "size": 15,
          "symbol": "diamond"
         },
         "mode": "lines+markers",
         "name": "popularity",
         "orientation": "v",
         "showlegend": true,
         "type": "scatter",
         "x": [
          "Taylor Swift",
          "Fearless",
          "Speak Now",
          "Red",
          "1989",
          "reputation",
          "folklore",
          "evermore"
         ],
         "xaxis": "x",
         "y": [
          54.6,
          45.22222222222222,
          54.1,
          58.04545454545455,
          58.875,
          70.73333333333333,
          71.3125,
          64.29411764705883
         ],
         "yaxis": "y"
        }
       ],
       "layout": {
        "legend": {
         "title": {
          "text": "variable"
         },
         "tracegroupgap": 0
        },
        "template": {
         "data": {
          "bar": [
           {
            "error_x": {
             "color": "#f2f5fa"
            },
            "error_y": {
             "color": "#f2f5fa"
            },
            "marker": {
             "line": {
              "color": "rgb(17,17,17)",
              "width": 0.5
             },
             "pattern": {
              "fillmode": "overlay",
              "size": 10,
              "solidity": 0.2
             }
            },
            "type": "bar"
           }
          ],
          "barpolar": [
           {
            "marker": {
             "line": {
              "color": "rgb(17,17,17)",
              "width": 0.5
             },
             "pattern": {
              "fillmode": "overlay",
              "size": 10,
              "solidity": 0.2
             }
            },
            "type": "barpolar"
           }
          ],
          "carpet": [
           {
            "aaxis": {
             "endlinecolor": "#A2B1C6",
             "gridcolor": "#506784",
             "linecolor": "#506784",
             "minorgridcolor": "#506784",
             "startlinecolor": "#A2B1C6"
            },
            "baxis": {
             "endlinecolor": "#A2B1C6",
             "gridcolor": "#506784",
             "linecolor": "#506784",
             "minorgridcolor": "#506784",
             "startlinecolor": "#A2B1C6"
            },
            "type": "carpet"
           }
          ],
          "choropleth": [
           {
            "colorbar": {
             "outlinewidth": 0,
             "ticks": ""
            },
            "type": "choropleth"
           }
          ],
          "contour": [
           {
            "colorbar": {
             "outlinewidth": 0,
             "ticks": ""
            },
            "colorscale": [
             [
              0,
              "#0d0887"
             ],
             [
              0.1111111111111111,
              "#46039f"
             ],
             [
              0.2222222222222222,
              "#7201a8"
             ],
             [
              0.3333333333333333,
              "#9c179e"
             ],
             [
              0.4444444444444444,
              "#bd3786"
             ],
             [
              0.5555555555555556,
              "#d8576b"
             ],
             [
              0.6666666666666666,
              "#ed7953"
             ],
             [
              0.7777777777777778,
              "#fb9f3a"
             ],
             [
              0.8888888888888888,
              "#fdca26"
             ],
             [
              1,
              "#f0f921"
             ]
            ],
            "type": "contour"
           }
          ],
          "contourcarpet": [
           {
            "colorbar": {
             "outlinewidth": 0,
             "ticks": ""
            },
            "type": "contourcarpet"
           }
          ],
          "heatmap": [
           {
            "colorbar": {
             "outlinewidth": 0,
             "ticks": ""
            },
            "colorscale": [
             [
              0,
              "#0d0887"
             ],
             [
              0.1111111111111111,
              "#46039f"
             ],
             [
              0.2222222222222222,
              "#7201a8"
             ],
             [
              0.3333333333333333,
              "#9c179e"
             ],
             [
              0.4444444444444444,
              "#bd3786"
             ],
             [
              0.5555555555555556,
              "#d8576b"
             ],
             [
              0.6666666666666666,
              "#ed7953"
             ],
             [
              0.7777777777777778,
              "#fb9f3a"
             ],
             [
              0.8888888888888888,
              "#fdca26"
             ],
             [
              1,
              "#f0f921"
             ]
            ],
            "type": "heatmap"
           }
          ],
          "heatmapgl": [
           {
            "colorbar": {
             "outlinewidth": 0,
             "ticks": ""
            },
            "colorscale": [
             [
              0,
              "#0d0887"
             ],
             [
              0.1111111111111111,
              "#46039f"
             ],
             [
              0.2222222222222222,
              "#7201a8"
             ],
             [
              0.3333333333333333,
              "#9c179e"
             ],
             [
              0.4444444444444444,
              "#bd3786"
             ],
             [
              0.5555555555555556,
              "#d8576b"
             ],
             [
              0.6666666666666666,
              "#ed7953"
             ],
             [
              0.7777777777777778,
              "#fb9f3a"
             ],
             [
              0.8888888888888888,
              "#fdca26"
             ],
             [
              1,
              "#f0f921"
             ]
            ],
            "type": "heatmapgl"
           }
          ],
          "histogram": [
           {
            "marker": {
             "pattern": {
              "fillmode": "overlay",
              "size": 10,
              "solidity": 0.2
             }
            },
            "type": "histogram"
           }
          ],
          "histogram2d": [
           {
            "colorbar": {
             "outlinewidth": 0,
             "ticks": ""
            },
            "colorscale": [
             [
              0,
              "#0d0887"
             ],
             [
              0.1111111111111111,
              "#46039f"
             ],
             [
              0.2222222222222222,
              "#7201a8"
             ],
             [
              0.3333333333333333,
              "#9c179e"
             ],
             [
              0.4444444444444444,
              "#bd3786"
             ],
             [
              0.5555555555555556,
              "#d8576b"
             ],
             [
              0.6666666666666666,
              "#ed7953"
             ],
             [
              0.7777777777777778,
              "#fb9f3a"
             ],
             [
              0.8888888888888888,
              "#fdca26"
             ],
             [
              1,
              "#f0f921"
             ]
            ],
            "type": "histogram2d"
           }
          ],
          "histogram2dcontour": [
           {
            "colorbar": {
             "outlinewidth": 0,
             "ticks": ""
            },
            "colorscale": [
             [
              0,
              "#0d0887"
             ],
             [
              0.1111111111111111,
              "#46039f"
             ],
             [
              0.2222222222222222,
              "#7201a8"
             ],
             [
              0.3333333333333333,
              "#9c179e"
             ],
             [
              0.4444444444444444,
              "#bd3786"
             ],
             [
              0.5555555555555556,
              "#d8576b"
             ],
             [
              0.6666666666666666,
              "#ed7953"
             ],
             [
              0.7777777777777778,
              "#fb9f3a"
             ],
             [
              0.8888888888888888,
              "#fdca26"
             ],
             [
              1,
              "#f0f921"
             ]
            ],
            "type": "histogram2dcontour"
           }
          ],
          "mesh3d": [
           {
            "colorbar": {
             "outlinewidth": 0,
             "ticks": ""
            },
            "type": "mesh3d"
           }
          ],
          "parcoords": [
           {
            "line": {
             "colorbar": {
              "outlinewidth": 0,
              "ticks": ""
             }
            },
            "type": "parcoords"
           }
          ],
          "pie": [
           {
            "automargin": true,
            "type": "pie"
           }
          ],
          "scatter": [
           {
            "marker": {
             "line": {
              "color": "#283442"
             }
            },
            "type": "scatter"
           }
          ],
          "scatter3d": [
           {
            "line": {
             "colorbar": {
              "outlinewidth": 0,
              "ticks": ""
             }
            },
            "marker": {
             "colorbar": {
              "outlinewidth": 0,
              "ticks": ""
             }
            },
            "type": "scatter3d"
           }
          ],
          "scattercarpet": [
           {
            "marker": {
             "colorbar": {
              "outlinewidth": 0,
              "ticks": ""
             }
            },
            "type": "scattercarpet"
           }
          ],
          "scattergeo": [
           {
            "marker": {
             "colorbar": {
              "outlinewidth": 0,
              "ticks": ""
             }
            },
            "type": "scattergeo"
           }
          ],
          "scattergl": [
           {
            "marker": {
             "line": {
              "color": "#283442"
             }
            },
            "type": "scattergl"
           }
          ],
          "scattermapbox": [
           {
            "marker": {
             "colorbar": {
              "outlinewidth": 0,
              "ticks": ""
             }
            },
            "type": "scattermapbox"
           }
          ],
          "scatterpolar": [
           {
            "marker": {
             "colorbar": {
              "outlinewidth": 0,
              "ticks": ""
             }
            },
            "type": "scatterpolar"
           }
          ],
          "scatterpolargl": [
           {
            "marker": {
             "colorbar": {
              "outlinewidth": 0,
              "ticks": ""
             }
            },
            "type": "scatterpolargl"
           }
          ],
          "scatterternary": [
           {
            "marker": {
             "colorbar": {
              "outlinewidth": 0,
              "ticks": ""
             }
            },
            "type": "scatterternary"
           }
          ],
          "surface": [
           {
            "colorbar": {
             "outlinewidth": 0,
             "ticks": ""
            },
            "colorscale": [
             [
              0,
              "#0d0887"
             ],
             [
              0.1111111111111111,
              "#46039f"
             ],
             [
              0.2222222222222222,
              "#7201a8"
             ],
             [
              0.3333333333333333,
              "#9c179e"
             ],
             [
              0.4444444444444444,
              "#bd3786"
             ],
             [
              0.5555555555555556,
              "#d8576b"
             ],
             [
              0.6666666666666666,
              "#ed7953"
             ],
             [
              0.7777777777777778,
              "#fb9f3a"
             ],
             [
              0.8888888888888888,
              "#fdca26"
             ],
             [
              1,
              "#f0f921"
             ]
            ],
            "type": "surface"
           }
          ],
          "table": [
           {
            "cells": {
             "fill": {
              "color": "#506784"
             },
             "line": {
              "color": "rgb(17,17,17)"
             }
            },
            "header": {
             "fill": {
              "color": "#2a3f5f"
             },
             "line": {
              "color": "rgb(17,17,17)"
             }
            },
            "type": "table"
           }
          ]
         },
         "layout": {
          "annotationdefaults": {
           "arrowcolor": "#f2f5fa",
           "arrowhead": 0,
           "arrowwidth": 1
          },
          "autotypenumbers": "strict",
          "coloraxis": {
           "colorbar": {
            "outlinewidth": 0,
            "ticks": ""
           }
          },
          "colorscale": {
           "diverging": [
            [
             0,
             "#8e0152"
            ],
            [
             0.1,
             "#c51b7d"
            ],
            [
             0.2,
             "#de77ae"
            ],
            [
             0.3,
             "#f1b6da"
            ],
            [
             0.4,
             "#fde0ef"
            ],
            [
             0.5,
             "#f7f7f7"
            ],
            [
             0.6,
             "#e6f5d0"
            ],
            [
             0.7,
             "#b8e186"
            ],
            [
             0.8,
             "#7fbc41"
            ],
            [
             0.9,
             "#4d9221"
            ],
            [
             1,
             "#276419"
            ]
           ],
           "sequential": [
            [
             0,
             "#0d0887"
            ],
            [
             0.1111111111111111,
             "#46039f"
            ],
            [
             0.2222222222222222,
             "#7201a8"
            ],
            [
             0.3333333333333333,
             "#9c179e"
            ],
            [
             0.4444444444444444,
             "#bd3786"
            ],
            [
             0.5555555555555556,
             "#d8576b"
            ],
            [
             0.6666666666666666,
             "#ed7953"
            ],
            [
             0.7777777777777778,
             "#fb9f3a"
            ],
            [
             0.8888888888888888,
             "#fdca26"
            ],
            [
             1,
             "#f0f921"
            ]
           ],
           "sequentialminus": [
            [
             0,
             "#0d0887"
            ],
            [
             0.1111111111111111,
             "#46039f"
            ],
            [
             0.2222222222222222,
             "#7201a8"
            ],
            [
             0.3333333333333333,
             "#9c179e"
            ],
            [
             0.4444444444444444,
             "#bd3786"
            ],
            [
             0.5555555555555556,
             "#d8576b"
            ],
            [
             0.6666666666666666,
             "#ed7953"
            ],
            [
             0.7777777777777778,
             "#fb9f3a"
            ],
            [
             0.8888888888888888,
             "#fdca26"
            ],
            [
             1,
             "#f0f921"
            ]
           ]
          },
          "colorway": [
           "#636efa",
           "#EF553B",
           "#00cc96",
           "#ab63fa",
           "#FFA15A",
           "#19d3f3",
           "#FF6692",
           "#B6E880",
           "#FF97FF",
           "#FECB52"
          ],
          "font": {
           "color": "#f2f5fa"
          },
          "geo": {
           "bgcolor": "rgb(17,17,17)",
           "lakecolor": "rgb(17,17,17)",
           "landcolor": "rgb(17,17,17)",
           "showlakes": true,
           "showland": true,
           "subunitcolor": "#506784"
          },
          "hoverlabel": {
           "align": "left"
          },
          "hovermode": "closest",
          "mapbox": {
           "style": "dark"
          },
          "paper_bgcolor": "rgb(17,17,17)",
          "plot_bgcolor": "rgb(17,17,17)",
          "polar": {
           "angularaxis": {
            "gridcolor": "#506784",
            "linecolor": "#506784",
            "ticks": ""
           },
           "bgcolor": "rgb(17,17,17)",
           "radialaxis": {
            "gridcolor": "#506784",
            "linecolor": "#506784",
            "ticks": ""
           }
          },
          "scene": {
           "xaxis": {
            "backgroundcolor": "rgb(17,17,17)",
            "gridcolor": "#506784",
            "gridwidth": 2,
            "linecolor": "#506784",
            "showbackground": true,
            "ticks": "",
            "zerolinecolor": "#C8D4E3"
           },
           "yaxis": {
            "backgroundcolor": "rgb(17,17,17)",
            "gridcolor": "#506784",
            "gridwidth": 2,
            "linecolor": "#506784",
            "showbackground": true,
            "ticks": "",
            "zerolinecolor": "#C8D4E3"
           },
           "zaxis": {
            "backgroundcolor": "rgb(17,17,17)",
            "gridcolor": "#506784",
            "gridwidth": 2,
            "linecolor": "#506784",
            "showbackground": true,
            "ticks": "",
            "zerolinecolor": "#C8D4E3"
           }
          },
          "shapedefaults": {
           "line": {
            "color": "#f2f5fa"
           }
          },
          "sliderdefaults": {
           "bgcolor": "#C8D4E3",
           "bordercolor": "rgb(17,17,17)",
           "borderwidth": 1,
           "tickwidth": 0
          },
          "ternary": {
           "aaxis": {
            "gridcolor": "#506784",
            "linecolor": "#506784",
            "ticks": ""
           },
           "baxis": {
            "gridcolor": "#506784",
            "linecolor": "#506784",
            "ticks": ""
           },
           "bgcolor": "rgb(17,17,17)",
           "caxis": {
            "gridcolor": "#506784",
            "linecolor": "#506784",
            "ticks": ""
           }
          },
          "title": {
           "x": 0.05
          },
          "updatemenudefaults": {
           "bgcolor": "#506784",
           "borderwidth": 0
          },
          "xaxis": {
           "automargin": true,
           "gridcolor": "#283442",
           "linecolor": "#506784",
           "ticks": "",
           "title": {
            "standoff": 15
           },
           "zerolinecolor": "#283442",
           "zerolinewidth": 2
          },
          "yaxis": {
           "automargin": true,
           "gridcolor": "#283442",
           "linecolor": "#506784",
           "ticks": "",
           "title": {
            "standoff": 15
           },
           "zerolinecolor": "#283442",
           "zerolinewidth": 2
          }
         }
        },
        "title": {
         "text": "Average popularity of songs per album"
        },
        "xaxis": {
         "anchor": "y",
         "domain": [
          0,
          1
         ],
         "tickangle": -30,
         "title": {
          "text": "Album"
         }
        },
        "yaxis": {
         "anchor": "x",
         "domain": [
          0,
          1
         ],
         "title": {
          "text": "Average popularity"
         }
        }
       }
      }
     },
     "metadata": {},
     "output_type": "display_data"
    }
   ],
   "source": [
    "create_plotly_line(df_avg.popularity, 'Average popularity of songs per album',['#BF3EFF'], 'plotly_dark', 'Album', 'Average popularity', 'diamond', 'lavender')"
   ]
  },
  {
   "cell_type": "code",
   "execution_count": 39,
   "id": "289de83b",
   "metadata": {},
   "outputs": [
    {
     "data": {
      "application/vnd.plotly.v1+json": {
       "config": {
        "plotlyServerURL": "https://plot.ly"
       },
       "data": [
        {
         "hovertemplate": "variable=energy<br>album=%{x}<br>value=%{y}<extra></extra>",
         "legendgroup": "energy",
         "line": {
          "color": "#BF3EFF",
          "dash": "solid"
         },
         "marker": {
          "line": {
           "color": "lavender",
           "width": 2
          },
          "size": 15,
          "symbol": "diamond"
         },
         "mode": "lines+markers",
         "name": "energy",
         "orientation": "v",
         "showlegend": true,
         "type": "scatter",
         "x": [
          "Taylor Swift",
          "Fearless",
          "Speak Now",
          "Red",
          "1989",
          "reputation",
          "folklore",
          "evermore"
         ],
         "xaxis": "x",
         "y": [
          0.6642666666666667,
          0.5935555555555555,
          0.6479,
          0.6007727272727273,
          0.6970625,
          0.5828666666666666,
          0.4250625,
          0.4940588235294117
         ],
         "yaxis": "y"
        }
       ],
       "layout": {
        "legend": {
         "title": {
          "text": "variable"
         },
         "tracegroupgap": 0
        },
        "template": {
         "data": {
          "bar": [
           {
            "error_x": {
             "color": "#f2f5fa"
            },
            "error_y": {
             "color": "#f2f5fa"
            },
            "marker": {
             "line": {
              "color": "rgb(17,17,17)",
              "width": 0.5
             },
             "pattern": {
              "fillmode": "overlay",
              "size": 10,
              "solidity": 0.2
             }
            },
            "type": "bar"
           }
          ],
          "barpolar": [
           {
            "marker": {
             "line": {
              "color": "rgb(17,17,17)",
              "width": 0.5
             },
             "pattern": {
              "fillmode": "overlay",
              "size": 10,
              "solidity": 0.2
             }
            },
            "type": "barpolar"
           }
          ],
          "carpet": [
           {
            "aaxis": {
             "endlinecolor": "#A2B1C6",
             "gridcolor": "#506784",
             "linecolor": "#506784",
             "minorgridcolor": "#506784",
             "startlinecolor": "#A2B1C6"
            },
            "baxis": {
             "endlinecolor": "#A2B1C6",
             "gridcolor": "#506784",
             "linecolor": "#506784",
             "minorgridcolor": "#506784",
             "startlinecolor": "#A2B1C6"
            },
            "type": "carpet"
           }
          ],
          "choropleth": [
           {
            "colorbar": {
             "outlinewidth": 0,
             "ticks": ""
            },
            "type": "choropleth"
           }
          ],
          "contour": [
           {
            "colorbar": {
             "outlinewidth": 0,
             "ticks": ""
            },
            "colorscale": [
             [
              0,
              "#0d0887"
             ],
             [
              0.1111111111111111,
              "#46039f"
             ],
             [
              0.2222222222222222,
              "#7201a8"
             ],
             [
              0.3333333333333333,
              "#9c179e"
             ],
             [
              0.4444444444444444,
              "#bd3786"
             ],
             [
              0.5555555555555556,
              "#d8576b"
             ],
             [
              0.6666666666666666,
              "#ed7953"
             ],
             [
              0.7777777777777778,
              "#fb9f3a"
             ],
             [
              0.8888888888888888,
              "#fdca26"
             ],
             [
              1,
              "#f0f921"
             ]
            ],
            "type": "contour"
           }
          ],
          "contourcarpet": [
           {
            "colorbar": {
             "outlinewidth": 0,
             "ticks": ""
            },
            "type": "contourcarpet"
           }
          ],
          "heatmap": [
           {
            "colorbar": {
             "outlinewidth": 0,
             "ticks": ""
            },
            "colorscale": [
             [
              0,
              "#0d0887"
             ],
             [
              0.1111111111111111,
              "#46039f"
             ],
             [
              0.2222222222222222,
              "#7201a8"
             ],
             [
              0.3333333333333333,
              "#9c179e"
             ],
             [
              0.4444444444444444,
              "#bd3786"
             ],
             [
              0.5555555555555556,
              "#d8576b"
             ],
             [
              0.6666666666666666,
              "#ed7953"
             ],
             [
              0.7777777777777778,
              "#fb9f3a"
             ],
             [
              0.8888888888888888,
              "#fdca26"
             ],
             [
              1,
              "#f0f921"
             ]
            ],
            "type": "heatmap"
           }
          ],
          "heatmapgl": [
           {
            "colorbar": {
             "outlinewidth": 0,
             "ticks": ""
            },
            "colorscale": [
             [
              0,
              "#0d0887"
             ],
             [
              0.1111111111111111,
              "#46039f"
             ],
             [
              0.2222222222222222,
              "#7201a8"
             ],
             [
              0.3333333333333333,
              "#9c179e"
             ],
             [
              0.4444444444444444,
              "#bd3786"
             ],
             [
              0.5555555555555556,
              "#d8576b"
             ],
             [
              0.6666666666666666,
              "#ed7953"
             ],
             [
              0.7777777777777778,
              "#fb9f3a"
             ],
             [
              0.8888888888888888,
              "#fdca26"
             ],
             [
              1,
              "#f0f921"
             ]
            ],
            "type": "heatmapgl"
           }
          ],
          "histogram": [
           {
            "marker": {
             "pattern": {
              "fillmode": "overlay",
              "size": 10,
              "solidity": 0.2
             }
            },
            "type": "histogram"
           }
          ],
          "histogram2d": [
           {
            "colorbar": {
             "outlinewidth": 0,
             "ticks": ""
            },
            "colorscale": [
             [
              0,
              "#0d0887"
             ],
             [
              0.1111111111111111,
              "#46039f"
             ],
             [
              0.2222222222222222,
              "#7201a8"
             ],
             [
              0.3333333333333333,
              "#9c179e"
             ],
             [
              0.4444444444444444,
              "#bd3786"
             ],
             [
              0.5555555555555556,
              "#d8576b"
             ],
             [
              0.6666666666666666,
              "#ed7953"
             ],
             [
              0.7777777777777778,
              "#fb9f3a"
             ],
             [
              0.8888888888888888,
              "#fdca26"
             ],
             [
              1,
              "#f0f921"
             ]
            ],
            "type": "histogram2d"
           }
          ],
          "histogram2dcontour": [
           {
            "colorbar": {
             "outlinewidth": 0,
             "ticks": ""
            },
            "colorscale": [
             [
              0,
              "#0d0887"
             ],
             [
              0.1111111111111111,
              "#46039f"
             ],
             [
              0.2222222222222222,
              "#7201a8"
             ],
             [
              0.3333333333333333,
              "#9c179e"
             ],
             [
              0.4444444444444444,
              "#bd3786"
             ],
             [
              0.5555555555555556,
              "#d8576b"
             ],
             [
              0.6666666666666666,
              "#ed7953"
             ],
             [
              0.7777777777777778,
              "#fb9f3a"
             ],
             [
              0.8888888888888888,
              "#fdca26"
             ],
             [
              1,
              "#f0f921"
             ]
            ],
            "type": "histogram2dcontour"
           }
          ],
          "mesh3d": [
           {
            "colorbar": {
             "outlinewidth": 0,
             "ticks": ""
            },
            "type": "mesh3d"
           }
          ],
          "parcoords": [
           {
            "line": {
             "colorbar": {
              "outlinewidth": 0,
              "ticks": ""
             }
            },
            "type": "parcoords"
           }
          ],
          "pie": [
           {
            "automargin": true,
            "type": "pie"
           }
          ],
          "scatter": [
           {
            "marker": {
             "line": {
              "color": "#283442"
             }
            },
            "type": "scatter"
           }
          ],
          "scatter3d": [
           {
            "line": {
             "colorbar": {
              "outlinewidth": 0,
              "ticks": ""
             }
            },
            "marker": {
             "colorbar": {
              "outlinewidth": 0,
              "ticks": ""
             }
            },
            "type": "scatter3d"
           }
          ],
          "scattercarpet": [
           {
            "marker": {
             "colorbar": {
              "outlinewidth": 0,
              "ticks": ""
             }
            },
            "type": "scattercarpet"
           }
          ],
          "scattergeo": [
           {
            "marker": {
             "colorbar": {
              "outlinewidth": 0,
              "ticks": ""
             }
            },
            "type": "scattergeo"
           }
          ],
          "scattergl": [
           {
            "marker": {
             "line": {
              "color": "#283442"
             }
            },
            "type": "scattergl"
           }
          ],
          "scattermapbox": [
           {
            "marker": {
             "colorbar": {
              "outlinewidth": 0,
              "ticks": ""
             }
            },
            "type": "scattermapbox"
           }
          ],
          "scatterpolar": [
           {
            "marker": {
             "colorbar": {
              "outlinewidth": 0,
              "ticks": ""
             }
            },
            "type": "scatterpolar"
           }
          ],
          "scatterpolargl": [
           {
            "marker": {
             "colorbar": {
              "outlinewidth": 0,
              "ticks": ""
             }
            },
            "type": "scatterpolargl"
           }
          ],
          "scatterternary": [
           {
            "marker": {
             "colorbar": {
              "outlinewidth": 0,
              "ticks": ""
             }
            },
            "type": "scatterternary"
           }
          ],
          "surface": [
           {
            "colorbar": {
             "outlinewidth": 0,
             "ticks": ""
            },
            "colorscale": [
             [
              0,
              "#0d0887"
             ],
             [
              0.1111111111111111,
              "#46039f"
             ],
             [
              0.2222222222222222,
              "#7201a8"
             ],
             [
              0.3333333333333333,
              "#9c179e"
             ],
             [
              0.4444444444444444,
              "#bd3786"
             ],
             [
              0.5555555555555556,
              "#d8576b"
             ],
             [
              0.6666666666666666,
              "#ed7953"
             ],
             [
              0.7777777777777778,
              "#fb9f3a"
             ],
             [
              0.8888888888888888,
              "#fdca26"
             ],
             [
              1,
              "#f0f921"
             ]
            ],
            "type": "surface"
           }
          ],
          "table": [
           {
            "cells": {
             "fill": {
              "color": "#506784"
             },
             "line": {
              "color": "rgb(17,17,17)"
             }
            },
            "header": {
             "fill": {
              "color": "#2a3f5f"
             },
             "line": {
              "color": "rgb(17,17,17)"
             }
            },
            "type": "table"
           }
          ]
         },
         "layout": {
          "annotationdefaults": {
           "arrowcolor": "#f2f5fa",
           "arrowhead": 0,
           "arrowwidth": 1
          },
          "autotypenumbers": "strict",
          "coloraxis": {
           "colorbar": {
            "outlinewidth": 0,
            "ticks": ""
           }
          },
          "colorscale": {
           "diverging": [
            [
             0,
             "#8e0152"
            ],
            [
             0.1,
             "#c51b7d"
            ],
            [
             0.2,
             "#de77ae"
            ],
            [
             0.3,
             "#f1b6da"
            ],
            [
             0.4,
             "#fde0ef"
            ],
            [
             0.5,
             "#f7f7f7"
            ],
            [
             0.6,
             "#e6f5d0"
            ],
            [
             0.7,
             "#b8e186"
            ],
            [
             0.8,
             "#7fbc41"
            ],
            [
             0.9,
             "#4d9221"
            ],
            [
             1,
             "#276419"
            ]
           ],
           "sequential": [
            [
             0,
             "#0d0887"
            ],
            [
             0.1111111111111111,
             "#46039f"
            ],
            [
             0.2222222222222222,
             "#7201a8"
            ],
            [
             0.3333333333333333,
             "#9c179e"
            ],
            [
             0.4444444444444444,
             "#bd3786"
            ],
            [
             0.5555555555555556,
             "#d8576b"
            ],
            [
             0.6666666666666666,
             "#ed7953"
            ],
            [
             0.7777777777777778,
             "#fb9f3a"
            ],
            [
             0.8888888888888888,
             "#fdca26"
            ],
            [
             1,
             "#f0f921"
            ]
           ],
           "sequentialminus": [
            [
             0,
             "#0d0887"
            ],
            [
             0.1111111111111111,
             "#46039f"
            ],
            [
             0.2222222222222222,
             "#7201a8"
            ],
            [
             0.3333333333333333,
             "#9c179e"
            ],
            [
             0.4444444444444444,
             "#bd3786"
            ],
            [
             0.5555555555555556,
             "#d8576b"
            ],
            [
             0.6666666666666666,
             "#ed7953"
            ],
            [
             0.7777777777777778,
             "#fb9f3a"
            ],
            [
             0.8888888888888888,
             "#fdca26"
            ],
            [
             1,
             "#f0f921"
            ]
           ]
          },
          "colorway": [
           "#636efa",
           "#EF553B",
           "#00cc96",
           "#ab63fa",
           "#FFA15A",
           "#19d3f3",
           "#FF6692",
           "#B6E880",
           "#FF97FF",
           "#FECB52"
          ],
          "font": {
           "color": "#f2f5fa"
          },
          "geo": {
           "bgcolor": "rgb(17,17,17)",
           "lakecolor": "rgb(17,17,17)",
           "landcolor": "rgb(17,17,17)",
           "showlakes": true,
           "showland": true,
           "subunitcolor": "#506784"
          },
          "hoverlabel": {
           "align": "left"
          },
          "hovermode": "closest",
          "mapbox": {
           "style": "dark"
          },
          "paper_bgcolor": "rgb(17,17,17)",
          "plot_bgcolor": "rgb(17,17,17)",
          "polar": {
           "angularaxis": {
            "gridcolor": "#506784",
            "linecolor": "#506784",
            "ticks": ""
           },
           "bgcolor": "rgb(17,17,17)",
           "radialaxis": {
            "gridcolor": "#506784",
            "linecolor": "#506784",
            "ticks": ""
           }
          },
          "scene": {
           "xaxis": {
            "backgroundcolor": "rgb(17,17,17)",
            "gridcolor": "#506784",
            "gridwidth": 2,
            "linecolor": "#506784",
            "showbackground": true,
            "ticks": "",
            "zerolinecolor": "#C8D4E3"
           },
           "yaxis": {
            "backgroundcolor": "rgb(17,17,17)",
            "gridcolor": "#506784",
            "gridwidth": 2,
            "linecolor": "#506784",
            "showbackground": true,
            "ticks": "",
            "zerolinecolor": "#C8D4E3"
           },
           "zaxis": {
            "backgroundcolor": "rgb(17,17,17)",
            "gridcolor": "#506784",
            "gridwidth": 2,
            "linecolor": "#506784",
            "showbackground": true,
            "ticks": "",
            "zerolinecolor": "#C8D4E3"
           }
          },
          "shapedefaults": {
           "line": {
            "color": "#f2f5fa"
           }
          },
          "sliderdefaults": {
           "bgcolor": "#C8D4E3",
           "bordercolor": "rgb(17,17,17)",
           "borderwidth": 1,
           "tickwidth": 0
          },
          "ternary": {
           "aaxis": {
            "gridcolor": "#506784",
            "linecolor": "#506784",
            "ticks": ""
           },
           "baxis": {
            "gridcolor": "#506784",
            "linecolor": "#506784",
            "ticks": ""
           },
           "bgcolor": "rgb(17,17,17)",
           "caxis": {
            "gridcolor": "#506784",
            "linecolor": "#506784",
            "ticks": ""
           }
          },
          "title": {
           "x": 0.05
          },
          "updatemenudefaults": {
           "bgcolor": "#506784",
           "borderwidth": 0
          },
          "xaxis": {
           "automargin": true,
           "gridcolor": "#283442",
           "linecolor": "#506784",
           "ticks": "",
           "title": {
            "standoff": 15
           },
           "zerolinecolor": "#283442",
           "zerolinewidth": 2
          },
          "yaxis": {
           "automargin": true,
           "gridcolor": "#283442",
           "linecolor": "#506784",
           "ticks": "",
           "title": {
            "standoff": 15
           },
           "zerolinecolor": "#283442",
           "zerolinewidth": 2
          }
         }
        },
        "title": {
         "text": "Average energy of songs per album"
        },
        "xaxis": {
         "anchor": "y",
         "domain": [
          0,
          1
         ],
         "tickangle": -30,
         "title": {
          "text": "Album"
         }
        },
        "yaxis": {
         "anchor": "x",
         "domain": [
          0,
          1
         ],
         "title": {
          "text": "Average energy"
         }
        }
       }
      }
     },
     "metadata": {},
     "output_type": "display_data"
    }
   ],
   "source": [
    "# energy\n",
    "create_plotly_line(df_avg.energy, 'Average energy of songs per album',['#BF3EFF'], 'plotly_dark', 'Album', 'Average energy', 'diamond', 'lavender')"
   ]
  },
  {
   "cell_type": "code",
   "execution_count": 40,
   "id": "f3422b29",
   "metadata": {},
   "outputs": [
    {
     "data": {
      "application/vnd.plotly.v1+json": {
       "config": {
        "plotlyServerURL": "https://plot.ly"
       },
       "data": [
        {
         "hovertemplate": "variable=danceability<br>album=%{x}<br>value=%{y}<extra></extra>",
         "legendgroup": "danceability",
         "line": {
          "color": "#BF3EFF",
          "dash": "solid"
         },
         "marker": {
          "line": {
           "color": "lavender",
           "width": 2
          },
          "size": 15,
          "symbol": "diamond"
         },
         "mode": "lines+markers",
         "name": "danceability",
         "orientation": "v",
         "showlegend": true,
         "type": "scatter",
         "x": [
          "Taylor Swift",
          "Fearless",
          "Speak Now",
          "Red",
          "1989",
          "reputation",
          "folklore",
          "evermore"
         ],
         "xaxis": "x",
         "y": [
          0.5452666666666667,
          0.5736111111111111,
          0.55645,
          0.6333636363636364,
          0.6239375,
          0.6579333333333334,
          0.567875,
          0.5268235294117647
         ],
         "yaxis": "y"
        }
       ],
       "layout": {
        "legend": {
         "title": {
          "text": "variable"
         },
         "tracegroupgap": 0
        },
        "template": {
         "data": {
          "bar": [
           {
            "error_x": {
             "color": "#f2f5fa"
            },
            "error_y": {
             "color": "#f2f5fa"
            },
            "marker": {
             "line": {
              "color": "rgb(17,17,17)",
              "width": 0.5
             },
             "pattern": {
              "fillmode": "overlay",
              "size": 10,
              "solidity": 0.2
             }
            },
            "type": "bar"
           }
          ],
          "barpolar": [
           {
            "marker": {
             "line": {
              "color": "rgb(17,17,17)",
              "width": 0.5
             },
             "pattern": {
              "fillmode": "overlay",
              "size": 10,
              "solidity": 0.2
             }
            },
            "type": "barpolar"
           }
          ],
          "carpet": [
           {
            "aaxis": {
             "endlinecolor": "#A2B1C6",
             "gridcolor": "#506784",
             "linecolor": "#506784",
             "minorgridcolor": "#506784",
             "startlinecolor": "#A2B1C6"
            },
            "baxis": {
             "endlinecolor": "#A2B1C6",
             "gridcolor": "#506784",
             "linecolor": "#506784",
             "minorgridcolor": "#506784",
             "startlinecolor": "#A2B1C6"
            },
            "type": "carpet"
           }
          ],
          "choropleth": [
           {
            "colorbar": {
             "outlinewidth": 0,
             "ticks": ""
            },
            "type": "choropleth"
           }
          ],
          "contour": [
           {
            "colorbar": {
             "outlinewidth": 0,
             "ticks": ""
            },
            "colorscale": [
             [
              0,
              "#0d0887"
             ],
             [
              0.1111111111111111,
              "#46039f"
             ],
             [
              0.2222222222222222,
              "#7201a8"
             ],
             [
              0.3333333333333333,
              "#9c179e"
             ],
             [
              0.4444444444444444,
              "#bd3786"
             ],
             [
              0.5555555555555556,
              "#d8576b"
             ],
             [
              0.6666666666666666,
              "#ed7953"
             ],
             [
              0.7777777777777778,
              "#fb9f3a"
             ],
             [
              0.8888888888888888,
              "#fdca26"
             ],
             [
              1,
              "#f0f921"
             ]
            ],
            "type": "contour"
           }
          ],
          "contourcarpet": [
           {
            "colorbar": {
             "outlinewidth": 0,
             "ticks": ""
            },
            "type": "contourcarpet"
           }
          ],
          "heatmap": [
           {
            "colorbar": {
             "outlinewidth": 0,
             "ticks": ""
            },
            "colorscale": [
             [
              0,
              "#0d0887"
             ],
             [
              0.1111111111111111,
              "#46039f"
             ],
             [
              0.2222222222222222,
              "#7201a8"
             ],
             [
              0.3333333333333333,
              "#9c179e"
             ],
             [
              0.4444444444444444,
              "#bd3786"
             ],
             [
              0.5555555555555556,
              "#d8576b"
             ],
             [
              0.6666666666666666,
              "#ed7953"
             ],
             [
              0.7777777777777778,
              "#fb9f3a"
             ],
             [
              0.8888888888888888,
              "#fdca26"
             ],
             [
              1,
              "#f0f921"
             ]
            ],
            "type": "heatmap"
           }
          ],
          "heatmapgl": [
           {
            "colorbar": {
             "outlinewidth": 0,
             "ticks": ""
            },
            "colorscale": [
             [
              0,
              "#0d0887"
             ],
             [
              0.1111111111111111,
              "#46039f"
             ],
             [
              0.2222222222222222,
              "#7201a8"
             ],
             [
              0.3333333333333333,
              "#9c179e"
             ],
             [
              0.4444444444444444,
              "#bd3786"
             ],
             [
              0.5555555555555556,
              "#d8576b"
             ],
             [
              0.6666666666666666,
              "#ed7953"
             ],
             [
              0.7777777777777778,
              "#fb9f3a"
             ],
             [
              0.8888888888888888,
              "#fdca26"
             ],
             [
              1,
              "#f0f921"
             ]
            ],
            "type": "heatmapgl"
           }
          ],
          "histogram": [
           {
            "marker": {
             "pattern": {
              "fillmode": "overlay",
              "size": 10,
              "solidity": 0.2
             }
            },
            "type": "histogram"
           }
          ],
          "histogram2d": [
           {
            "colorbar": {
             "outlinewidth": 0,
             "ticks": ""
            },
            "colorscale": [
             [
              0,
              "#0d0887"
             ],
             [
              0.1111111111111111,
              "#46039f"
             ],
             [
              0.2222222222222222,
              "#7201a8"
             ],
             [
              0.3333333333333333,
              "#9c179e"
             ],
             [
              0.4444444444444444,
              "#bd3786"
             ],
             [
              0.5555555555555556,
              "#d8576b"
             ],
             [
              0.6666666666666666,
              "#ed7953"
             ],
             [
              0.7777777777777778,
              "#fb9f3a"
             ],
             [
              0.8888888888888888,
              "#fdca26"
             ],
             [
              1,
              "#f0f921"
             ]
            ],
            "type": "histogram2d"
           }
          ],
          "histogram2dcontour": [
           {
            "colorbar": {
             "outlinewidth": 0,
             "ticks": ""
            },
            "colorscale": [
             [
              0,
              "#0d0887"
             ],
             [
              0.1111111111111111,
              "#46039f"
             ],
             [
              0.2222222222222222,
              "#7201a8"
             ],
             [
              0.3333333333333333,
              "#9c179e"
             ],
             [
              0.4444444444444444,
              "#bd3786"
             ],
             [
              0.5555555555555556,
              "#d8576b"
             ],
             [
              0.6666666666666666,
              "#ed7953"
             ],
             [
              0.7777777777777778,
              "#fb9f3a"
             ],
             [
              0.8888888888888888,
              "#fdca26"
             ],
             [
              1,
              "#f0f921"
             ]
            ],
            "type": "histogram2dcontour"
           }
          ],
          "mesh3d": [
           {
            "colorbar": {
             "outlinewidth": 0,
             "ticks": ""
            },
            "type": "mesh3d"
           }
          ],
          "parcoords": [
           {
            "line": {
             "colorbar": {
              "outlinewidth": 0,
              "ticks": ""
             }
            },
            "type": "parcoords"
           }
          ],
          "pie": [
           {
            "automargin": true,
            "type": "pie"
           }
          ],
          "scatter": [
           {
            "marker": {
             "line": {
              "color": "#283442"
             }
            },
            "type": "scatter"
           }
          ],
          "scatter3d": [
           {
            "line": {
             "colorbar": {
              "outlinewidth": 0,
              "ticks": ""
             }
            },
            "marker": {
             "colorbar": {
              "outlinewidth": 0,
              "ticks": ""
             }
            },
            "type": "scatter3d"
           }
          ],
          "scattercarpet": [
           {
            "marker": {
             "colorbar": {
              "outlinewidth": 0,
              "ticks": ""
             }
            },
            "type": "scattercarpet"
           }
          ],
          "scattergeo": [
           {
            "marker": {
             "colorbar": {
              "outlinewidth": 0,
              "ticks": ""
             }
            },
            "type": "scattergeo"
           }
          ],
          "scattergl": [
           {
            "marker": {
             "line": {
              "color": "#283442"
             }
            },
            "type": "scattergl"
           }
          ],
          "scattermapbox": [
           {
            "marker": {
             "colorbar": {
              "outlinewidth": 0,
              "ticks": ""
             }
            },
            "type": "scattermapbox"
           }
          ],
          "scatterpolar": [
           {
            "marker": {
             "colorbar": {
              "outlinewidth": 0,
              "ticks": ""
             }
            },
            "type": "scatterpolar"
           }
          ],
          "scatterpolargl": [
           {
            "marker": {
             "colorbar": {
              "outlinewidth": 0,
              "ticks": ""
             }
            },
            "type": "scatterpolargl"
           }
          ],
          "scatterternary": [
           {
            "marker": {
             "colorbar": {
              "outlinewidth": 0,
              "ticks": ""
             }
            },
            "type": "scatterternary"
           }
          ],
          "surface": [
           {
            "colorbar": {
             "outlinewidth": 0,
             "ticks": ""
            },
            "colorscale": [
             [
              0,
              "#0d0887"
             ],
             [
              0.1111111111111111,
              "#46039f"
             ],
             [
              0.2222222222222222,
              "#7201a8"
             ],
             [
              0.3333333333333333,
              "#9c179e"
             ],
             [
              0.4444444444444444,
              "#bd3786"
             ],
             [
              0.5555555555555556,
              "#d8576b"
             ],
             [
              0.6666666666666666,
              "#ed7953"
             ],
             [
              0.7777777777777778,
              "#fb9f3a"
             ],
             [
              0.8888888888888888,
              "#fdca26"
             ],
             [
              1,
              "#f0f921"
             ]
            ],
            "type": "surface"
           }
          ],
          "table": [
           {
            "cells": {
             "fill": {
              "color": "#506784"
             },
             "line": {
              "color": "rgb(17,17,17)"
             }
            },
            "header": {
             "fill": {
              "color": "#2a3f5f"
             },
             "line": {
              "color": "rgb(17,17,17)"
             }
            },
            "type": "table"
           }
          ]
         },
         "layout": {
          "annotationdefaults": {
           "arrowcolor": "#f2f5fa",
           "arrowhead": 0,
           "arrowwidth": 1
          },
          "autotypenumbers": "strict",
          "coloraxis": {
           "colorbar": {
            "outlinewidth": 0,
            "ticks": ""
           }
          },
          "colorscale": {
           "diverging": [
            [
             0,
             "#8e0152"
            ],
            [
             0.1,
             "#c51b7d"
            ],
            [
             0.2,
             "#de77ae"
            ],
            [
             0.3,
             "#f1b6da"
            ],
            [
             0.4,
             "#fde0ef"
            ],
            [
             0.5,
             "#f7f7f7"
            ],
            [
             0.6,
             "#e6f5d0"
            ],
            [
             0.7,
             "#b8e186"
            ],
            [
             0.8,
             "#7fbc41"
            ],
            [
             0.9,
             "#4d9221"
            ],
            [
             1,
             "#276419"
            ]
           ],
           "sequential": [
            [
             0,
             "#0d0887"
            ],
            [
             0.1111111111111111,
             "#46039f"
            ],
            [
             0.2222222222222222,
             "#7201a8"
            ],
            [
             0.3333333333333333,
             "#9c179e"
            ],
            [
             0.4444444444444444,
             "#bd3786"
            ],
            [
             0.5555555555555556,
             "#d8576b"
            ],
            [
             0.6666666666666666,
             "#ed7953"
            ],
            [
             0.7777777777777778,
             "#fb9f3a"
            ],
            [
             0.8888888888888888,
             "#fdca26"
            ],
            [
             1,
             "#f0f921"
            ]
           ],
           "sequentialminus": [
            [
             0,
             "#0d0887"
            ],
            [
             0.1111111111111111,
             "#46039f"
            ],
            [
             0.2222222222222222,
             "#7201a8"
            ],
            [
             0.3333333333333333,
             "#9c179e"
            ],
            [
             0.4444444444444444,
             "#bd3786"
            ],
            [
             0.5555555555555556,
             "#d8576b"
            ],
            [
             0.6666666666666666,
             "#ed7953"
            ],
            [
             0.7777777777777778,
             "#fb9f3a"
            ],
            [
             0.8888888888888888,
             "#fdca26"
            ],
            [
             1,
             "#f0f921"
            ]
           ]
          },
          "colorway": [
           "#636efa",
           "#EF553B",
           "#00cc96",
           "#ab63fa",
           "#FFA15A",
           "#19d3f3",
           "#FF6692",
           "#B6E880",
           "#FF97FF",
           "#FECB52"
          ],
          "font": {
           "color": "#f2f5fa"
          },
          "geo": {
           "bgcolor": "rgb(17,17,17)",
           "lakecolor": "rgb(17,17,17)",
           "landcolor": "rgb(17,17,17)",
           "showlakes": true,
           "showland": true,
           "subunitcolor": "#506784"
          },
          "hoverlabel": {
           "align": "left"
          },
          "hovermode": "closest",
          "mapbox": {
           "style": "dark"
          },
          "paper_bgcolor": "rgb(17,17,17)",
          "plot_bgcolor": "rgb(17,17,17)",
          "polar": {
           "angularaxis": {
            "gridcolor": "#506784",
            "linecolor": "#506784",
            "ticks": ""
           },
           "bgcolor": "rgb(17,17,17)",
           "radialaxis": {
            "gridcolor": "#506784",
            "linecolor": "#506784",
            "ticks": ""
           }
          },
          "scene": {
           "xaxis": {
            "backgroundcolor": "rgb(17,17,17)",
            "gridcolor": "#506784",
            "gridwidth": 2,
            "linecolor": "#506784",
            "showbackground": true,
            "ticks": "",
            "zerolinecolor": "#C8D4E3"
           },
           "yaxis": {
            "backgroundcolor": "rgb(17,17,17)",
            "gridcolor": "#506784",
            "gridwidth": 2,
            "linecolor": "#506784",
            "showbackground": true,
            "ticks": "",
            "zerolinecolor": "#C8D4E3"
           },
           "zaxis": {
            "backgroundcolor": "rgb(17,17,17)",
            "gridcolor": "#506784",
            "gridwidth": 2,
            "linecolor": "#506784",
            "showbackground": true,
            "ticks": "",
            "zerolinecolor": "#C8D4E3"
           }
          },
          "shapedefaults": {
           "line": {
            "color": "#f2f5fa"
           }
          },
          "sliderdefaults": {
           "bgcolor": "#C8D4E3",
           "bordercolor": "rgb(17,17,17)",
           "borderwidth": 1,
           "tickwidth": 0
          },
          "ternary": {
           "aaxis": {
            "gridcolor": "#506784",
            "linecolor": "#506784",
            "ticks": ""
           },
           "baxis": {
            "gridcolor": "#506784",
            "linecolor": "#506784",
            "ticks": ""
           },
           "bgcolor": "rgb(17,17,17)",
           "caxis": {
            "gridcolor": "#506784",
            "linecolor": "#506784",
            "ticks": ""
           }
          },
          "title": {
           "x": 0.05
          },
          "updatemenudefaults": {
           "bgcolor": "#506784",
           "borderwidth": 0
          },
          "xaxis": {
           "automargin": true,
           "gridcolor": "#283442",
           "linecolor": "#506784",
           "ticks": "",
           "title": {
            "standoff": 15
           },
           "zerolinecolor": "#283442",
           "zerolinewidth": 2
          },
          "yaxis": {
           "automargin": true,
           "gridcolor": "#283442",
           "linecolor": "#506784",
           "ticks": "",
           "title": {
            "standoff": 15
           },
           "zerolinecolor": "#283442",
           "zerolinewidth": 2
          }
         }
        },
        "title": {
         "text": "Average danceability of songs per album"
        },
        "xaxis": {
         "anchor": "y",
         "domain": [
          0,
          1
         ],
         "tickangle": -30,
         "title": {
          "text": "Album"
         }
        },
        "yaxis": {
         "anchor": "x",
         "domain": [
          0,
          1
         ],
         "title": {
          "text": "Average danceability"
         }
        }
       }
      }
     },
     "metadata": {},
     "output_type": "display_data"
    }
   ],
   "source": [
    "# danceability\n",
    "create_plotly_line(df_avg.danceability, 'Average danceability of songs per album',['#BF3EFF'], 'plotly_dark', 'Album', 'Average danceability', 'diamond', 'lavender')"
   ]
  },
  {
   "cell_type": "code",
   "execution_count": 41,
   "id": "31b49600",
   "metadata": {},
   "outputs": [],
   "source": [
    "# # show popularity over time - manual for testing\n",
    "# fig = px.line(df_avg.popularity, title='Average popularity of songs per album', markers=True, \n",
    "#                 color_discrete_sequence=['#BF3EFF'], template='plotly_dark')\n",
    "# fig[\"layout\"][\"xaxis\"][\"title\"][\"text\"] = \"Album\"\n",
    "# fig[\"layout\"][\"yaxis\"][\"title\"][\"text\"] = \"Average popularity of songs\"\n",
    "# fig.update_traces(marker=dict(size=15, symbol='diamond', \n",
    "#                                 line=dict(width=2,\n",
    "#                                             color='lavender')))\n",
    "\n",
    "                        \n",
    "# fig.show()\n",
    "# look inside the fig's dict to see what we can update\n",
    "# x = fig.to_dict()\n",
    "# fig['data'][0]['line']['color']='chartreuse'\n",
    "# fig.show()"
   ]
  },
  {
   "cell_type": "markdown",
   "id": "d3980953",
   "metadata": {},
   "source": []
  },
  {
   "cell_type": "markdown",
   "id": "7eddf6de",
   "metadata": {},
   "source": [
    "## show tables full of top X popular, least popular, longest, least long, most energy, lowest energy"
   ]
  },
  {
   "cell_type": "markdown",
   "id": "59305b4c",
   "metadata": {},
   "source": []
  },
  {
   "cell_type": "code",
   "execution_count": 42,
   "id": "26081a80",
   "metadata": {},
   "outputs": [
    {
     "data": {
      "application/vnd.plotly.v1+json": {
       "config": {
        "plotlyServerURL": "https://plot.ly"
       },
       "data": [
        {
         "cells": {
          "align": "left",
          "fill": {
           "color": "lavender"
          },
          "font": {
           "color": "indigo",
           "size": 11
          },
          "values": [
           [
            "Picture To Burn",
            "Our Song",
            "Should've Said No",
            "Tim McGraw",
            "A Place in this World",
            "Cold As You",
            "The Outside",
            "Tied Together with a Smile",
            "Stay Beautiful",
            "Mary's Song (Oh My My My)",
            "I'm Only Me When I'm With You",
            "Invisible",
            "A Perfectly Good Heart",
            "Teardrops on My Guitar - Pop Version",
            "Teardrops On My Guitar - Radio Single Remix",
            "You Belong With Me",
            "White Horse",
            "Fearless",
            "Fifteen",
            "Jump Then Fall",
            "Untouchable",
            "Forever & Always - Piano Version",
            "Come In With The Rain",
            "SuperStar",
            "The Other Side Of The Door",
            "Hey Stephen",
            "Breathe",
            "Tell Me Why",
            "You're Not Sorry",
            "The Way I Loved You",
            "Forever & Always",
            "The Best Day",
            "Change",
            "Mean",
            "The Story Of Us",
            "Speak Now",
            "Ours",
            "Mine",
            "Sparks Fly",
            "Back To December",
            "Dear John",
            "Never Grow Up",
            "Enchanted",
            "Better Than Revenge",
            "Innocent",
            "Haunted",
            "Last Kiss",
            "Long Live",
            "If This Was A Movie",
            "Superman",
            "Back To December - Acoustic Version",
            "Haunted - Acoustic Version",
            "Mine - POP Mix",
            "We Are Never Ever Getting Back Together",
            "I Knew You Were Trouble.",
            "22",
            "All Too Well",
            "State Of Grace",
            "Red",
            "Treacherous",
            "I Almost Do",
            "Stay Stay Stay",
            "The Last Time",
            "Holy Ground",
            "Sad Beautiful Tragic",
            "Everything Has Changed",
            "Starlight",
            "Begin Again",
            "Come Back...Be Here",
            "Girl At Home",
            "The Lucky One",
            "The Moment I Knew",
            "State Of Grace - Acoustic Version",
            "Treacherous - Original Demo Recording",
            "Red - Original Demo Recording",
            "Blank Space",
            "Shake It Off",
            "Style",
            "Out Of The Woods",
            "Wildest Dreams",
            "Welcome To New York",
            "All You Had To Do Was Stay",
            "I Wish You Would",
            "Bad Blood",
            "How You Get The Girl",
            "This Love",
            "I Know Places",
            "Clean",
            "Wonderland",
            "You Are In Love",
            "New Romantics",
            "...Ready For It?",
            "End Game",
            "Look What You Made Me Do",
            "Delicate",
            "Getaway Car",
            "Gorgeous",
            "I Did Something Bad",
            "Don’t Blame Me",
            "So It Goes...",
            "King Of My Heart",
            "Dancing With Our Hands Tied",
            "Dress",
            "This Is Why We Can't Have Nice Things",
            "Call It What You Want",
            "New Year’s Day",
            "The Man",
            "I Forgot That You Existed",
            "Cruel Summer",
            "Lover",
            "The Man",
            "The Archer",
            "I Think He Knows",
            "Miss Americana & The Heartbreak Prince",
            "Paper Rings",
            "Cornelia Street",
            "Death By A Thousand Cuts",
            "London Boy",
            "Soon You’ll Get Better (feat. The Chicks)",
            "False God",
            "You Need To Calm Down",
            "Afterglow",
            "ME! (feat. Brendon Urie of Panic! At The Disco)",
            "It’s Nice To Have A Friend",
            "Daylight",
            "cardigan",
            "exile (feat. Bon Iver)",
            "betty",
            "august",
            "this is me trying",
            "the 1",
            "the last great american dynasty",
            "my tears ricochet",
            "mirrorball",
            "seven",
            "illicit affairs",
            "invisible string",
            "mad woman",
            "epiphany",
            "peace",
            "hoax",
            "willow",
            "champagne problems",
            "gold rush",
            "‘tis the damn season",
            "tolerate it",
            "no body, no crime (feat. HAIM)",
            "happiness",
            "dorothea",
            "coney island (feat. The National)",
            "ivy",
            "cowboy like me",
            "long story short",
            "marjorie",
            "closure",
            "evermore (feat. Bon Iver)",
            "right where you left me - bonus track",
            "it’s time to go - bonus track"
           ],
           [
            "Taylor Swift",
            "Taylor Swift",
            "Taylor Swift",
            "Taylor Swift",
            "Taylor Swift",
            "Taylor Swift",
            "Taylor Swift",
            "Taylor Swift",
            "Taylor Swift",
            "Taylor Swift",
            "Taylor Swift",
            "Taylor Swift",
            "Taylor Swift",
            "Taylor Swift",
            "Taylor Swift",
            "Fearless",
            "Fearless",
            "Fearless",
            "Fearless",
            "Fearless",
            "Fearless",
            "Fearless",
            "Fearless",
            "Fearless",
            "Fearless",
            "Fearless",
            "Fearless",
            "Fearless",
            "Fearless",
            "Fearless",
            "Fearless",
            "Fearless",
            "Fearless",
            "Speak Now",
            "Speak Now",
            "Speak Now",
            "Speak Now",
            "Speak Now",
            "Speak Now",
            "Speak Now",
            "Speak Now",
            "Speak Now",
            "Speak Now",
            "Speak Now",
            "Speak Now",
            "Speak Now",
            "Speak Now",
            "Speak Now",
            "Speak Now",
            "Speak Now",
            "Speak Now",
            "Speak Now",
            "Speak Now",
            "Red",
            "Red",
            "Red",
            "Red",
            "Red",
            "Red",
            "Red",
            "Red",
            "Red",
            "Red",
            "Red",
            "Red",
            "Red",
            "Red",
            "Red",
            "Red",
            "Red",
            "Red",
            "Red",
            "Red",
            "Red",
            "Red",
            "1989",
            "1989",
            "1989",
            "1989",
            "1989",
            "1989",
            "1989",
            "1989",
            "1989",
            "1989",
            "1989",
            "1989",
            "1989",
            "1989",
            "1989",
            "1989",
            "reputation",
            "reputation",
            "reputation",
            "reputation",
            "reputation",
            "reputation",
            "reputation",
            "reputation",
            "reputation",
            "reputation",
            "reputation",
            "reputation",
            "reputation",
            "reputation",
            "reputation",
            "Lover",
            "Lover",
            "Lover",
            "Lover",
            "Lover",
            "Lover",
            "Lover",
            "Lover",
            "Lover",
            "Lover",
            "Lover",
            "Lover",
            "Lover",
            "Lover",
            "Lover",
            "Lover",
            "Lover",
            "Lover",
            "Lover",
            "folklore",
            "folklore",
            "folklore",
            "folklore",
            "folklore",
            "folklore",
            "folklore",
            "folklore",
            "folklore",
            "folklore",
            "folklore",
            "folklore",
            "folklore",
            "folklore",
            "folklore",
            "folklore",
            "evermore",
            "evermore",
            "evermore",
            "evermore",
            "evermore",
            "evermore",
            "evermore",
            "evermore",
            "evermore",
            "evermore",
            "evermore",
            "evermore",
            "evermore",
            "evermore",
            "evermore",
            "evermore",
            "evermore"
           ],
           [
            "2006-10-24T00:00:00",
            "2006-10-24T00:00:00",
            "2006-10-24T00:00:00",
            "2006-10-24T00:00:00",
            "2006-10-24T00:00:00",
            "2006-10-24T00:00:00",
            "2006-10-24T00:00:00",
            "2006-10-24T00:00:00",
            "2006-10-24T00:00:00",
            "2006-10-24T00:00:00",
            "2006-10-24T00:00:00",
            "2006-10-24T00:00:00",
            "2006-10-24T00:00:00",
            "2006-10-24T00:00:00",
            "2006-10-24T00:00:00",
            "2008-11-11T00:00:00",
            "2008-11-11T00:00:00",
            "2008-11-11T00:00:00",
            "2008-11-11T00:00:00",
            "2008-11-11T00:00:00",
            "2008-11-11T00:00:00",
            "2008-11-11T00:00:00",
            "2008-11-11T00:00:00",
            "2008-11-11T00:00:00",
            "2008-11-11T00:00:00",
            "2008-11-11T00:00:00",
            "2008-11-11T00:00:00",
            "2008-11-11T00:00:00",
            "2008-11-11T00:00:00",
            "2008-11-11T00:00:00",
            "2008-11-11T00:00:00",
            "2008-11-11T00:00:00",
            "2008-11-11T00:00:00",
            "2010-10-25T00:00:00",
            "2010-10-25T00:00:00",
            "2010-10-25T00:00:00",
            "2010-10-25T00:00:00",
            "2010-10-25T00:00:00",
            "2010-10-25T00:00:00",
            "2010-10-25T00:00:00",
            "2010-10-25T00:00:00",
            "2010-10-25T00:00:00",
            "2010-10-25T00:00:00",
            "2010-10-25T00:00:00",
            "2010-10-25T00:00:00",
            "2010-10-25T00:00:00",
            "2010-10-25T00:00:00",
            "2010-10-25T00:00:00",
            "2010-10-25T00:00:00",
            "2010-10-25T00:00:00",
            "2010-10-25T00:00:00",
            "2010-10-25T00:00:00",
            "2010-10-25T00:00:00",
            "2012-10-22T00:00:00",
            "2012-10-22T00:00:00",
            "2012-10-22T00:00:00",
            "2012-10-22T00:00:00",
            "2012-10-22T00:00:00",
            "2012-10-22T00:00:00",
            "2012-10-22T00:00:00",
            "2012-10-22T00:00:00",
            "2012-10-22T00:00:00",
            "2012-10-22T00:00:00",
            "2012-10-22T00:00:00",
            "2012-10-22T00:00:00",
            "2012-10-22T00:00:00",
            "2012-10-22T00:00:00",
            "2012-10-22T00:00:00",
            "2012-10-22T00:00:00",
            "2012-10-22T00:00:00",
            "2012-10-22T00:00:00",
            "2012-10-22T00:00:00",
            "2012-10-22T00:00:00",
            "2012-10-22T00:00:00",
            "2012-10-22T00:00:00",
            "2014-10-27T00:00:00",
            "2014-10-27T00:00:00",
            "2014-10-27T00:00:00",
            "2014-10-27T00:00:00",
            "2014-10-27T00:00:00",
            "2014-10-27T00:00:00",
            "2014-10-27T00:00:00",
            "2014-10-27T00:00:00",
            "2014-10-27T00:00:00",
            "2014-10-27T00:00:00",
            "2014-10-27T00:00:00",
            "2014-10-27T00:00:00",
            "2014-10-27T00:00:00",
            "2014-10-27T00:00:00",
            "2014-10-27T00:00:00",
            "2014-10-27T00:00:00",
            "2017-11-10T00:00:00",
            "2017-11-10T00:00:00",
            "2017-11-10T00:00:00",
            "2017-11-10T00:00:00",
            "2017-11-10T00:00:00",
            "2017-11-10T00:00:00",
            "2017-11-10T00:00:00",
            "2017-11-10T00:00:00",
            "2017-11-10T00:00:00",
            "2017-11-10T00:00:00",
            "2017-11-10T00:00:00",
            "2017-11-10T00:00:00",
            "2017-11-10T00:00:00",
            "2017-11-10T00:00:00",
            "2017-11-10T00:00:00",
            "2019-08-23T00:00:00",
            "2019-08-23T00:00:00",
            "2019-08-23T00:00:00",
            "2019-08-23T00:00:00",
            "2019-08-23T00:00:00",
            "2019-08-23T00:00:00",
            "2019-08-23T00:00:00",
            "2019-08-23T00:00:00",
            "2019-08-23T00:00:00",
            "2019-08-23T00:00:00",
            "2019-08-23T00:00:00",
            "2019-08-23T00:00:00",
            "2019-08-23T00:00:00",
            "2019-08-23T00:00:00",
            "2019-08-23T00:00:00",
            "2019-08-23T00:00:00",
            "2019-08-23T00:00:00",
            "2019-08-23T00:00:00",
            "2019-08-23T00:00:00",
            "2020-07-24T00:00:00",
            "2020-07-24T00:00:00",
            "2020-07-24T00:00:00",
            "2020-07-24T00:00:00",
            "2020-07-24T00:00:00",
            "2020-07-24T00:00:00",
            "2020-07-24T00:00:00",
            "2020-07-24T00:00:00",
            "2020-07-24T00:00:00",
            "2020-07-24T00:00:00",
            "2020-07-24T00:00:00",
            "2020-07-24T00:00:00",
            "2020-07-24T00:00:00",
            "2020-07-24T00:00:00",
            "2020-07-24T00:00:00",
            "2020-07-24T00:00:00",
            "2021-01-07T00:00:00",
            "2021-01-07T00:00:00",
            "2021-01-07T00:00:00",
            "2021-01-07T00:00:00",
            "2021-01-07T00:00:00",
            "2021-01-07T00:00:00",
            "2021-01-07T00:00:00",
            "2021-01-07T00:00:00",
            "2021-01-07T00:00:00",
            "2021-01-07T00:00:00",
            "2021-01-07T00:00:00",
            "2021-01-07T00:00:00",
            "2021-01-07T00:00:00",
            "2021-01-07T00:00:00",
            "2021-01-07T00:00:00",
            "2021-01-07T00:00:00",
            "2021-01-07T00:00:00"
           ],
           [
            64,
            68,
            61,
            62,
            51,
            51,
            48,
            49,
            50,
            53,
            53,
            49,
            46,
            50,
            64,
            54,
            46,
            47,
            47,
            46,
            45,
            46,
            44,
            42,
            44,
            44,
            48,
            42,
            44,
            46,
            46,
            42,
            41,
            54,
            55,
            53,
            56,
            56,
            57,
            56,
            60,
            55,
            55,
            64,
            49,
            55,
            56,
            54,
            52,
            49,
            52,
            48,
            46,
            60,
            61,
            63,
            69,
            60,
            62,
            59,
            59,
            58,
            59,
            59,
            56,
            58,
            57,
            57,
            57,
            53,
            58,
            56,
            54,
            51,
            51,
            61,
            58,
            61,
            60,
            59,
            55,
            57,
            58,
            56,
            58,
            57,
            58,
            60,
            60,
            59,
            65,
            73,
            71,
            77,
            77,
            75,
            71,
            73,
            72,
            65,
            68,
            67,
            68,
            68,
            70,
            66,
            76,
            73,
            77,
            77,
            76,
            68,
            69,
            69,
            74,
            70,
            70,
            71,
            65,
            67,
            80,
            68,
            78,
            64,
            67,
            80,
            78,
            72,
            75,
            70,
            76,
            71,
            71,
            70,
            69,
            70,
            71,
            67,
            67,
            67,
            67,
            66,
            67,
            65,
            65,
            64,
            64,
            63,
            63,
            63,
            64,
            63,
            63,
            62,
            61,
            63,
            70,
            67
           ],
           [
            0.658,
            0.668,
            0.476,
            0.58,
            0.576,
            0.418,
            0.589,
            0.479,
            0.594,
            0.403,
            0.563,
            0.612,
            0.483,
            0.459,
            0.621,
            0.687,
            0.585,
            0.598,
            0.559,
            0.618,
            0.419,
            0.592,
            0.527,
            0.61,
            0.476,
            0.843,
            0.498,
            0.601,
            0.459,
            0.436,
            0.605,
            0.664,
            0.548,
            0.568,
            0.543,
            0.709,
            0.608,
            0.624,
            0.605,
            0.529,
            0.589,
            0.714,
            0.455,
            0.516,
            0.552,
            0.436,
            0.371,
            0.418,
            0.511,
            0.582,
            0.541,
            0.563,
            0.695,
            0.628,
            0.622,
            0.658,
            0.602,
            0.588,
            0.602,
            0.705,
            0.567,
            0.729,
            0.505,
            0.627,
            0.624,
            0.624,
            0.649,
            0.53,
            0.483,
            0.733,
            0.706,
            0.62,
            0.626,
            0.828,
            0.678,
            0.76,
            0.647,
            0.588,
            0.553,
            0.55,
            0.789,
            0.605,
            0.653,
            0.646,
            0.765,
            0.481,
            0.602,
            0.815,
            0.422,
            0.474,
            0.633,
            0.613,
            0.649,
            0.766,
            0.75,
            0.562,
            0.8,
            0.696,
            0.615,
            0.574,
            0.675,
            0.624,
            0.719,
            0.567,
            0.598,
            0.661,
            0.777,
            0.664,
            0.552,
            0.359,
            0.777,
            0.292,
            0.897,
            0.662,
            0.811,
            0.824,
            0.712,
            0.695,
            0.433,
            0.739,
            0.771,
            0.756,
            0.61,
            0.737,
            0.557,
            0.613,
            0.298,
            0.593,
            0.532,
            0.515,
            0.777,
            0.686,
            0.456,
            0.553,
            0.596,
            0.559,
            0.653,
            0.592,
            0.354,
            0.647,
            0.662,
            0.392,
            0.462,
            0.512,
            0.575,
            0.316,
            0.546,
            0.559,
            0.605,
            0.537,
            0.515,
            0.604,
            0.546,
            0.535,
            0.689,
            0.39,
            0.581,
            0.592
           ]
          ]
         },
         "header": {
          "align": "left",
          "fill": {
           "color": "indigo"
          },
          "font": {
           "color": "white",
           "size": 13
          },
          "values": [
           "name",
           "album",
           "release date",
           "popularity",
           "danceabilty"
          ]
         },
         "type": "table"
        }
       ],
       "layout": {
        "template": {
         "data": {
          "bar": [
           {
            "error_x": {
             "color": "#2a3f5f"
            },
            "error_y": {
             "color": "#2a3f5f"
            },
            "marker": {
             "line": {
              "color": "#E5ECF6",
              "width": 0.5
             },
             "pattern": {
              "fillmode": "overlay",
              "size": 10,
              "solidity": 0.2
             }
            },
            "type": "bar"
           }
          ],
          "barpolar": [
           {
            "marker": {
             "line": {
              "color": "#E5ECF6",
              "width": 0.5
             },
             "pattern": {
              "fillmode": "overlay",
              "size": 10,
              "solidity": 0.2
             }
            },
            "type": "barpolar"
           }
          ],
          "carpet": [
           {
            "aaxis": {
             "endlinecolor": "#2a3f5f",
             "gridcolor": "white",
             "linecolor": "white",
             "minorgridcolor": "white",
             "startlinecolor": "#2a3f5f"
            },
            "baxis": {
             "endlinecolor": "#2a3f5f",
             "gridcolor": "white",
             "linecolor": "white",
             "minorgridcolor": "white",
             "startlinecolor": "#2a3f5f"
            },
            "type": "carpet"
           }
          ],
          "choropleth": [
           {
            "colorbar": {
             "outlinewidth": 0,
             "ticks": ""
            },
            "type": "choropleth"
           }
          ],
          "contour": [
           {
            "colorbar": {
             "outlinewidth": 0,
             "ticks": ""
            },
            "colorscale": [
             [
              0,
              "#0d0887"
             ],
             [
              0.1111111111111111,
              "#46039f"
             ],
             [
              0.2222222222222222,
              "#7201a8"
             ],
             [
              0.3333333333333333,
              "#9c179e"
             ],
             [
              0.4444444444444444,
              "#bd3786"
             ],
             [
              0.5555555555555556,
              "#d8576b"
             ],
             [
              0.6666666666666666,
              "#ed7953"
             ],
             [
              0.7777777777777778,
              "#fb9f3a"
             ],
             [
              0.8888888888888888,
              "#fdca26"
             ],
             [
              1,
              "#f0f921"
             ]
            ],
            "type": "contour"
           }
          ],
          "contourcarpet": [
           {
            "colorbar": {
             "outlinewidth": 0,
             "ticks": ""
            },
            "type": "contourcarpet"
           }
          ],
          "heatmap": [
           {
            "colorbar": {
             "outlinewidth": 0,
             "ticks": ""
            },
            "colorscale": [
             [
              0,
              "#0d0887"
             ],
             [
              0.1111111111111111,
              "#46039f"
             ],
             [
              0.2222222222222222,
              "#7201a8"
             ],
             [
              0.3333333333333333,
              "#9c179e"
             ],
             [
              0.4444444444444444,
              "#bd3786"
             ],
             [
              0.5555555555555556,
              "#d8576b"
             ],
             [
              0.6666666666666666,
              "#ed7953"
             ],
             [
              0.7777777777777778,
              "#fb9f3a"
             ],
             [
              0.8888888888888888,
              "#fdca26"
             ],
             [
              1,
              "#f0f921"
             ]
            ],
            "type": "heatmap"
           }
          ],
          "heatmapgl": [
           {
            "colorbar": {
             "outlinewidth": 0,
             "ticks": ""
            },
            "colorscale": [
             [
              0,
              "#0d0887"
             ],
             [
              0.1111111111111111,
              "#46039f"
             ],
             [
              0.2222222222222222,
              "#7201a8"
             ],
             [
              0.3333333333333333,
              "#9c179e"
             ],
             [
              0.4444444444444444,
              "#bd3786"
             ],
             [
              0.5555555555555556,
              "#d8576b"
             ],
             [
              0.6666666666666666,
              "#ed7953"
             ],
             [
              0.7777777777777778,
              "#fb9f3a"
             ],
             [
              0.8888888888888888,
              "#fdca26"
             ],
             [
              1,
              "#f0f921"
             ]
            ],
            "type": "heatmapgl"
           }
          ],
          "histogram": [
           {
            "marker": {
             "pattern": {
              "fillmode": "overlay",
              "size": 10,
              "solidity": 0.2
             }
            },
            "type": "histogram"
           }
          ],
          "histogram2d": [
           {
            "colorbar": {
             "outlinewidth": 0,
             "ticks": ""
            },
            "colorscale": [
             [
              0,
              "#0d0887"
             ],
             [
              0.1111111111111111,
              "#46039f"
             ],
             [
              0.2222222222222222,
              "#7201a8"
             ],
             [
              0.3333333333333333,
              "#9c179e"
             ],
             [
              0.4444444444444444,
              "#bd3786"
             ],
             [
              0.5555555555555556,
              "#d8576b"
             ],
             [
              0.6666666666666666,
              "#ed7953"
             ],
             [
              0.7777777777777778,
              "#fb9f3a"
             ],
             [
              0.8888888888888888,
              "#fdca26"
             ],
             [
              1,
              "#f0f921"
             ]
            ],
            "type": "histogram2d"
           }
          ],
          "histogram2dcontour": [
           {
            "colorbar": {
             "outlinewidth": 0,
             "ticks": ""
            },
            "colorscale": [
             [
              0,
              "#0d0887"
             ],
             [
              0.1111111111111111,
              "#46039f"
             ],
             [
              0.2222222222222222,
              "#7201a8"
             ],
             [
              0.3333333333333333,
              "#9c179e"
             ],
             [
              0.4444444444444444,
              "#bd3786"
             ],
             [
              0.5555555555555556,
              "#d8576b"
             ],
             [
              0.6666666666666666,
              "#ed7953"
             ],
             [
              0.7777777777777778,
              "#fb9f3a"
             ],
             [
              0.8888888888888888,
              "#fdca26"
             ],
             [
              1,
              "#f0f921"
             ]
            ],
            "type": "histogram2dcontour"
           }
          ],
          "mesh3d": [
           {
            "colorbar": {
             "outlinewidth": 0,
             "ticks": ""
            },
            "type": "mesh3d"
           }
          ],
          "parcoords": [
           {
            "line": {
             "colorbar": {
              "outlinewidth": 0,
              "ticks": ""
             }
            },
            "type": "parcoords"
           }
          ],
          "pie": [
           {
            "automargin": true,
            "type": "pie"
           }
          ],
          "scatter": [
           {
            "fillpattern": {
             "fillmode": "overlay",
             "size": 10,
             "solidity": 0.2
            },
            "type": "scatter"
           }
          ],
          "scatter3d": [
           {
            "line": {
             "colorbar": {
              "outlinewidth": 0,
              "ticks": ""
             }
            },
            "marker": {
             "colorbar": {
              "outlinewidth": 0,
              "ticks": ""
             }
            },
            "type": "scatter3d"
           }
          ],
          "scattercarpet": [
           {
            "marker": {
             "colorbar": {
              "outlinewidth": 0,
              "ticks": ""
             }
            },
            "type": "scattercarpet"
           }
          ],
          "scattergeo": [
           {
            "marker": {
             "colorbar": {
              "outlinewidth": 0,
              "ticks": ""
             }
            },
            "type": "scattergeo"
           }
          ],
          "scattergl": [
           {
            "marker": {
             "colorbar": {
              "outlinewidth": 0,
              "ticks": ""
             }
            },
            "type": "scattergl"
           }
          ],
          "scattermapbox": [
           {
            "marker": {
             "colorbar": {
              "outlinewidth": 0,
              "ticks": ""
             }
            },
            "type": "scattermapbox"
           }
          ],
          "scatterpolar": [
           {
            "marker": {
             "colorbar": {
              "outlinewidth": 0,
              "ticks": ""
             }
            },
            "type": "scatterpolar"
           }
          ],
          "scatterpolargl": [
           {
            "marker": {
             "colorbar": {
              "outlinewidth": 0,
              "ticks": ""
             }
            },
            "type": "scatterpolargl"
           }
          ],
          "scatterternary": [
           {
            "marker": {
             "colorbar": {
              "outlinewidth": 0,
              "ticks": ""
             }
            },
            "type": "scatterternary"
           }
          ],
          "surface": [
           {
            "colorbar": {
             "outlinewidth": 0,
             "ticks": ""
            },
            "colorscale": [
             [
              0,
              "#0d0887"
             ],
             [
              0.1111111111111111,
              "#46039f"
             ],
             [
              0.2222222222222222,
              "#7201a8"
             ],
             [
              0.3333333333333333,
              "#9c179e"
             ],
             [
              0.4444444444444444,
              "#bd3786"
             ],
             [
              0.5555555555555556,
              "#d8576b"
             ],
             [
              0.6666666666666666,
              "#ed7953"
             ],
             [
              0.7777777777777778,
              "#fb9f3a"
             ],
             [
              0.8888888888888888,
              "#fdca26"
             ],
             [
              1,
              "#f0f921"
             ]
            ],
            "type": "surface"
           }
          ],
          "table": [
           {
            "cells": {
             "fill": {
              "color": "#EBF0F8"
             },
             "line": {
              "color": "white"
             }
            },
            "header": {
             "fill": {
              "color": "#C8D4E3"
             },
             "line": {
              "color": "white"
             }
            },
            "type": "table"
           }
          ]
         },
         "layout": {
          "annotationdefaults": {
           "arrowcolor": "#2a3f5f",
           "arrowhead": 0,
           "arrowwidth": 1
          },
          "autotypenumbers": "strict",
          "coloraxis": {
           "colorbar": {
            "outlinewidth": 0,
            "ticks": ""
           }
          },
          "colorscale": {
           "diverging": [
            [
             0,
             "#8e0152"
            ],
            [
             0.1,
             "#c51b7d"
            ],
            [
             0.2,
             "#de77ae"
            ],
            [
             0.3,
             "#f1b6da"
            ],
            [
             0.4,
             "#fde0ef"
            ],
            [
             0.5,
             "#f7f7f7"
            ],
            [
             0.6,
             "#e6f5d0"
            ],
            [
             0.7,
             "#b8e186"
            ],
            [
             0.8,
             "#7fbc41"
            ],
            [
             0.9,
             "#4d9221"
            ],
            [
             1,
             "#276419"
            ]
           ],
           "sequential": [
            [
             0,
             "#0d0887"
            ],
            [
             0.1111111111111111,
             "#46039f"
            ],
            [
             0.2222222222222222,
             "#7201a8"
            ],
            [
             0.3333333333333333,
             "#9c179e"
            ],
            [
             0.4444444444444444,
             "#bd3786"
            ],
            [
             0.5555555555555556,
             "#d8576b"
            ],
            [
             0.6666666666666666,
             "#ed7953"
            ],
            [
             0.7777777777777778,
             "#fb9f3a"
            ],
            [
             0.8888888888888888,
             "#fdca26"
            ],
            [
             1,
             "#f0f921"
            ]
           ],
           "sequentialminus": [
            [
             0,
             "#0d0887"
            ],
            [
             0.1111111111111111,
             "#46039f"
            ],
            [
             0.2222222222222222,
             "#7201a8"
            ],
            [
             0.3333333333333333,
             "#9c179e"
            ],
            [
             0.4444444444444444,
             "#bd3786"
            ],
            [
             0.5555555555555556,
             "#d8576b"
            ],
            [
             0.6666666666666666,
             "#ed7953"
            ],
            [
             0.7777777777777778,
             "#fb9f3a"
            ],
            [
             0.8888888888888888,
             "#fdca26"
            ],
            [
             1,
             "#f0f921"
            ]
           ]
          },
          "colorway": [
           "#636efa",
           "#EF553B",
           "#00cc96",
           "#ab63fa",
           "#FFA15A",
           "#19d3f3",
           "#FF6692",
           "#B6E880",
           "#FF97FF",
           "#FECB52"
          ],
          "font": {
           "color": "#2a3f5f"
          },
          "geo": {
           "bgcolor": "white",
           "lakecolor": "white",
           "landcolor": "#E5ECF6",
           "showlakes": true,
           "showland": true,
           "subunitcolor": "white"
          },
          "hoverlabel": {
           "align": "left"
          },
          "hovermode": "closest",
          "mapbox": {
           "style": "light"
          },
          "paper_bgcolor": "white",
          "plot_bgcolor": "#E5ECF6",
          "polar": {
           "angularaxis": {
            "gridcolor": "white",
            "linecolor": "white",
            "ticks": ""
           },
           "bgcolor": "#E5ECF6",
           "radialaxis": {
            "gridcolor": "white",
            "linecolor": "white",
            "ticks": ""
           }
          },
          "scene": {
           "xaxis": {
            "backgroundcolor": "#E5ECF6",
            "gridcolor": "white",
            "gridwidth": 2,
            "linecolor": "white",
            "showbackground": true,
            "ticks": "",
            "zerolinecolor": "white"
           },
           "yaxis": {
            "backgroundcolor": "#E5ECF6",
            "gridcolor": "white",
            "gridwidth": 2,
            "linecolor": "white",
            "showbackground": true,
            "ticks": "",
            "zerolinecolor": "white"
           },
           "zaxis": {
            "backgroundcolor": "#E5ECF6",
            "gridcolor": "white",
            "gridwidth": 2,
            "linecolor": "white",
            "showbackground": true,
            "ticks": "",
            "zerolinecolor": "white"
           }
          },
          "shapedefaults": {
           "line": {
            "color": "#2a3f5f"
           }
          },
          "ternary": {
           "aaxis": {
            "gridcolor": "white",
            "linecolor": "white",
            "ticks": ""
           },
           "baxis": {
            "gridcolor": "white",
            "linecolor": "white",
            "ticks": ""
           },
           "bgcolor": "#E5ECF6",
           "caxis": {
            "gridcolor": "white",
            "linecolor": "white",
            "ticks": ""
           }
          },
          "title": {
           "x": 0.05
          },
          "xaxis": {
           "automargin": true,
           "gridcolor": "white",
           "linecolor": "white",
           "ticks": "",
           "title": {
            "standoff": 15
           },
           "zerolinecolor": "white",
           "zerolinewidth": 2
          },
          "yaxis": {
           "automargin": true,
           "gridcolor": "white",
           "linecolor": "white",
           "ticks": "",
           "title": {
            "standoff": 15
           },
           "zerolinecolor": "white",
           "zerolinewidth": 2
          }
         }
        }
       }
      }
     },
     "metadata": {},
     "output_type": "display_data"
    }
   ],
   "source": [
    "# show basic table of all of the songs\n",
    "fig = go.Figure(data=[go.Table(\n",
    "    header=dict(values=['name','album','release date','popularity','danceabilty'],\n",
    "                fill_color='indigo', \n",
    "                font=dict(color='white', size=13),\n",
    "                align='left'),\n",
    "    cells=dict(values=[df.name, df.album, df.release_date, df.popularity, df.danceability],\n",
    "               fill_color='lavender', \n",
    "               font=dict(color='indigo', size=11),\n",
    "               align='left'))\n",
    "                ])\n",
    "\n",
    "fig.show()"
   ]
  },
  {
   "cell_type": "code",
   "execution_count": 43,
   "id": "65928511",
   "metadata": {},
   "outputs": [
    {
     "data": {
      "application/vnd.plotly.v1+json": {
       "config": {
        "plotlyServerURL": "https://plot.ly"
       },
       "data": [
        {
         "cells": {
          "align": "left",
          "fill": {
           "color": "lavender"
          },
          "font": {
           "color": "indigo",
           "size": 11
          },
          "values": [
           [
            "You Need To Calm Down",
            "cardigan",
            "ME! (feat. Brendon Urie of Panic! At The Disco)",
            "exile (feat. Bon Iver)",
            "Cruel Summer",
            "Lover",
            "Look What You Made Me Do",
            "Delicate",
            "the 1",
            "The Man"
           ],
           [
            "Lover",
            "folklore",
            "Lover",
            "folklore",
            "Lover",
            "Lover",
            "reputation",
            "reputation",
            "folklore",
            "Lover"
           ],
           [
            "2019-08-23T00:00:00",
            "2020-07-24T00:00:00",
            "2019-08-23T00:00:00",
            "2020-07-24T00:00:00",
            "2019-08-23T00:00:00",
            "2019-08-23T00:00:00",
            "2017-11-10T00:00:00",
            "2017-11-10T00:00:00",
            "2020-07-24T00:00:00",
            "2019-08-23T00:00:00"
           ],
           [
            80,
            80,
            78,
            78,
            77,
            77,
            77,
            77,
            76,
            76
           ]
          ]
         },
         "header": {
          "align": "left",
          "fill": {
           "color": "indigo"
          },
          "font": {
           "color": "white",
           "size": 13
          },
          "values": [
           "name",
           "album",
           "release date",
           "popularity"
          ]
         },
         "type": "table"
        }
       ],
       "layout": {
        "template": {
         "data": {
          "bar": [
           {
            "error_x": {
             "color": "#2a3f5f"
            },
            "error_y": {
             "color": "#2a3f5f"
            },
            "marker": {
             "line": {
              "color": "#E5ECF6",
              "width": 0.5
             },
             "pattern": {
              "fillmode": "overlay",
              "size": 10,
              "solidity": 0.2
             }
            },
            "type": "bar"
           }
          ],
          "barpolar": [
           {
            "marker": {
             "line": {
              "color": "#E5ECF6",
              "width": 0.5
             },
             "pattern": {
              "fillmode": "overlay",
              "size": 10,
              "solidity": 0.2
             }
            },
            "type": "barpolar"
           }
          ],
          "carpet": [
           {
            "aaxis": {
             "endlinecolor": "#2a3f5f",
             "gridcolor": "white",
             "linecolor": "white",
             "minorgridcolor": "white",
             "startlinecolor": "#2a3f5f"
            },
            "baxis": {
             "endlinecolor": "#2a3f5f",
             "gridcolor": "white",
             "linecolor": "white",
             "minorgridcolor": "white",
             "startlinecolor": "#2a3f5f"
            },
            "type": "carpet"
           }
          ],
          "choropleth": [
           {
            "colorbar": {
             "outlinewidth": 0,
             "ticks": ""
            },
            "type": "choropleth"
           }
          ],
          "contour": [
           {
            "colorbar": {
             "outlinewidth": 0,
             "ticks": ""
            },
            "colorscale": [
             [
              0,
              "#0d0887"
             ],
             [
              0.1111111111111111,
              "#46039f"
             ],
             [
              0.2222222222222222,
              "#7201a8"
             ],
             [
              0.3333333333333333,
              "#9c179e"
             ],
             [
              0.4444444444444444,
              "#bd3786"
             ],
             [
              0.5555555555555556,
              "#d8576b"
             ],
             [
              0.6666666666666666,
              "#ed7953"
             ],
             [
              0.7777777777777778,
              "#fb9f3a"
             ],
             [
              0.8888888888888888,
              "#fdca26"
             ],
             [
              1,
              "#f0f921"
             ]
            ],
            "type": "contour"
           }
          ],
          "contourcarpet": [
           {
            "colorbar": {
             "outlinewidth": 0,
             "ticks": ""
            },
            "type": "contourcarpet"
           }
          ],
          "heatmap": [
           {
            "colorbar": {
             "outlinewidth": 0,
             "ticks": ""
            },
            "colorscale": [
             [
              0,
              "#0d0887"
             ],
             [
              0.1111111111111111,
              "#46039f"
             ],
             [
              0.2222222222222222,
              "#7201a8"
             ],
             [
              0.3333333333333333,
              "#9c179e"
             ],
             [
              0.4444444444444444,
              "#bd3786"
             ],
             [
              0.5555555555555556,
              "#d8576b"
             ],
             [
              0.6666666666666666,
              "#ed7953"
             ],
             [
              0.7777777777777778,
              "#fb9f3a"
             ],
             [
              0.8888888888888888,
              "#fdca26"
             ],
             [
              1,
              "#f0f921"
             ]
            ],
            "type": "heatmap"
           }
          ],
          "heatmapgl": [
           {
            "colorbar": {
             "outlinewidth": 0,
             "ticks": ""
            },
            "colorscale": [
             [
              0,
              "#0d0887"
             ],
             [
              0.1111111111111111,
              "#46039f"
             ],
             [
              0.2222222222222222,
              "#7201a8"
             ],
             [
              0.3333333333333333,
              "#9c179e"
             ],
             [
              0.4444444444444444,
              "#bd3786"
             ],
             [
              0.5555555555555556,
              "#d8576b"
             ],
             [
              0.6666666666666666,
              "#ed7953"
             ],
             [
              0.7777777777777778,
              "#fb9f3a"
             ],
             [
              0.8888888888888888,
              "#fdca26"
             ],
             [
              1,
              "#f0f921"
             ]
            ],
            "type": "heatmapgl"
           }
          ],
          "histogram": [
           {
            "marker": {
             "pattern": {
              "fillmode": "overlay",
              "size": 10,
              "solidity": 0.2
             }
            },
            "type": "histogram"
           }
          ],
          "histogram2d": [
           {
            "colorbar": {
             "outlinewidth": 0,
             "ticks": ""
            },
            "colorscale": [
             [
              0,
              "#0d0887"
             ],
             [
              0.1111111111111111,
              "#46039f"
             ],
             [
              0.2222222222222222,
              "#7201a8"
             ],
             [
              0.3333333333333333,
              "#9c179e"
             ],
             [
              0.4444444444444444,
              "#bd3786"
             ],
             [
              0.5555555555555556,
              "#d8576b"
             ],
             [
              0.6666666666666666,
              "#ed7953"
             ],
             [
              0.7777777777777778,
              "#fb9f3a"
             ],
             [
              0.8888888888888888,
              "#fdca26"
             ],
             [
              1,
              "#f0f921"
             ]
            ],
            "type": "histogram2d"
           }
          ],
          "histogram2dcontour": [
           {
            "colorbar": {
             "outlinewidth": 0,
             "ticks": ""
            },
            "colorscale": [
             [
              0,
              "#0d0887"
             ],
             [
              0.1111111111111111,
              "#46039f"
             ],
             [
              0.2222222222222222,
              "#7201a8"
             ],
             [
              0.3333333333333333,
              "#9c179e"
             ],
             [
              0.4444444444444444,
              "#bd3786"
             ],
             [
              0.5555555555555556,
              "#d8576b"
             ],
             [
              0.6666666666666666,
              "#ed7953"
             ],
             [
              0.7777777777777778,
              "#fb9f3a"
             ],
             [
              0.8888888888888888,
              "#fdca26"
             ],
             [
              1,
              "#f0f921"
             ]
            ],
            "type": "histogram2dcontour"
           }
          ],
          "mesh3d": [
           {
            "colorbar": {
             "outlinewidth": 0,
             "ticks": ""
            },
            "type": "mesh3d"
           }
          ],
          "parcoords": [
           {
            "line": {
             "colorbar": {
              "outlinewidth": 0,
              "ticks": ""
             }
            },
            "type": "parcoords"
           }
          ],
          "pie": [
           {
            "automargin": true,
            "type": "pie"
           }
          ],
          "scatter": [
           {
            "fillpattern": {
             "fillmode": "overlay",
             "size": 10,
             "solidity": 0.2
            },
            "type": "scatter"
           }
          ],
          "scatter3d": [
           {
            "line": {
             "colorbar": {
              "outlinewidth": 0,
              "ticks": ""
             }
            },
            "marker": {
             "colorbar": {
              "outlinewidth": 0,
              "ticks": ""
             }
            },
            "type": "scatter3d"
           }
          ],
          "scattercarpet": [
           {
            "marker": {
             "colorbar": {
              "outlinewidth": 0,
              "ticks": ""
             }
            },
            "type": "scattercarpet"
           }
          ],
          "scattergeo": [
           {
            "marker": {
             "colorbar": {
              "outlinewidth": 0,
              "ticks": ""
             }
            },
            "type": "scattergeo"
           }
          ],
          "scattergl": [
           {
            "marker": {
             "colorbar": {
              "outlinewidth": 0,
              "ticks": ""
             }
            },
            "type": "scattergl"
           }
          ],
          "scattermapbox": [
           {
            "marker": {
             "colorbar": {
              "outlinewidth": 0,
              "ticks": ""
             }
            },
            "type": "scattermapbox"
           }
          ],
          "scatterpolar": [
           {
            "marker": {
             "colorbar": {
              "outlinewidth": 0,
              "ticks": ""
             }
            },
            "type": "scatterpolar"
           }
          ],
          "scatterpolargl": [
           {
            "marker": {
             "colorbar": {
              "outlinewidth": 0,
              "ticks": ""
             }
            },
            "type": "scatterpolargl"
           }
          ],
          "scatterternary": [
           {
            "marker": {
             "colorbar": {
              "outlinewidth": 0,
              "ticks": ""
             }
            },
            "type": "scatterternary"
           }
          ],
          "surface": [
           {
            "colorbar": {
             "outlinewidth": 0,
             "ticks": ""
            },
            "colorscale": [
             [
              0,
              "#0d0887"
             ],
             [
              0.1111111111111111,
              "#46039f"
             ],
             [
              0.2222222222222222,
              "#7201a8"
             ],
             [
              0.3333333333333333,
              "#9c179e"
             ],
             [
              0.4444444444444444,
              "#bd3786"
             ],
             [
              0.5555555555555556,
              "#d8576b"
             ],
             [
              0.6666666666666666,
              "#ed7953"
             ],
             [
              0.7777777777777778,
              "#fb9f3a"
             ],
             [
              0.8888888888888888,
              "#fdca26"
             ],
             [
              1,
              "#f0f921"
             ]
            ],
            "type": "surface"
           }
          ],
          "table": [
           {
            "cells": {
             "fill": {
              "color": "#EBF0F8"
             },
             "line": {
              "color": "white"
             }
            },
            "header": {
             "fill": {
              "color": "#C8D4E3"
             },
             "line": {
              "color": "white"
             }
            },
            "type": "table"
           }
          ]
         },
         "layout": {
          "annotationdefaults": {
           "arrowcolor": "#2a3f5f",
           "arrowhead": 0,
           "arrowwidth": 1
          },
          "autotypenumbers": "strict",
          "coloraxis": {
           "colorbar": {
            "outlinewidth": 0,
            "ticks": ""
           }
          },
          "colorscale": {
           "diverging": [
            [
             0,
             "#8e0152"
            ],
            [
             0.1,
             "#c51b7d"
            ],
            [
             0.2,
             "#de77ae"
            ],
            [
             0.3,
             "#f1b6da"
            ],
            [
             0.4,
             "#fde0ef"
            ],
            [
             0.5,
             "#f7f7f7"
            ],
            [
             0.6,
             "#e6f5d0"
            ],
            [
             0.7,
             "#b8e186"
            ],
            [
             0.8,
             "#7fbc41"
            ],
            [
             0.9,
             "#4d9221"
            ],
            [
             1,
             "#276419"
            ]
           ],
           "sequential": [
            [
             0,
             "#0d0887"
            ],
            [
             0.1111111111111111,
             "#46039f"
            ],
            [
             0.2222222222222222,
             "#7201a8"
            ],
            [
             0.3333333333333333,
             "#9c179e"
            ],
            [
             0.4444444444444444,
             "#bd3786"
            ],
            [
             0.5555555555555556,
             "#d8576b"
            ],
            [
             0.6666666666666666,
             "#ed7953"
            ],
            [
             0.7777777777777778,
             "#fb9f3a"
            ],
            [
             0.8888888888888888,
             "#fdca26"
            ],
            [
             1,
             "#f0f921"
            ]
           ],
           "sequentialminus": [
            [
             0,
             "#0d0887"
            ],
            [
             0.1111111111111111,
             "#46039f"
            ],
            [
             0.2222222222222222,
             "#7201a8"
            ],
            [
             0.3333333333333333,
             "#9c179e"
            ],
            [
             0.4444444444444444,
             "#bd3786"
            ],
            [
             0.5555555555555556,
             "#d8576b"
            ],
            [
             0.6666666666666666,
             "#ed7953"
            ],
            [
             0.7777777777777778,
             "#fb9f3a"
            ],
            [
             0.8888888888888888,
             "#fdca26"
            ],
            [
             1,
             "#f0f921"
            ]
           ]
          },
          "colorway": [
           "#636efa",
           "#EF553B",
           "#00cc96",
           "#ab63fa",
           "#FFA15A",
           "#19d3f3",
           "#FF6692",
           "#B6E880",
           "#FF97FF",
           "#FECB52"
          ],
          "font": {
           "color": "#2a3f5f"
          },
          "geo": {
           "bgcolor": "white",
           "lakecolor": "white",
           "landcolor": "#E5ECF6",
           "showlakes": true,
           "showland": true,
           "subunitcolor": "white"
          },
          "hoverlabel": {
           "align": "left"
          },
          "hovermode": "closest",
          "mapbox": {
           "style": "light"
          },
          "paper_bgcolor": "white",
          "plot_bgcolor": "#E5ECF6",
          "polar": {
           "angularaxis": {
            "gridcolor": "white",
            "linecolor": "white",
            "ticks": ""
           },
           "bgcolor": "#E5ECF6",
           "radialaxis": {
            "gridcolor": "white",
            "linecolor": "white",
            "ticks": ""
           }
          },
          "scene": {
           "xaxis": {
            "backgroundcolor": "#E5ECF6",
            "gridcolor": "white",
            "gridwidth": 2,
            "linecolor": "white",
            "showbackground": true,
            "ticks": "",
            "zerolinecolor": "white"
           },
           "yaxis": {
            "backgroundcolor": "#E5ECF6",
            "gridcolor": "white",
            "gridwidth": 2,
            "linecolor": "white",
            "showbackground": true,
            "ticks": "",
            "zerolinecolor": "white"
           },
           "zaxis": {
            "backgroundcolor": "#E5ECF6",
            "gridcolor": "white",
            "gridwidth": 2,
            "linecolor": "white",
            "showbackground": true,
            "ticks": "",
            "zerolinecolor": "white"
           }
          },
          "shapedefaults": {
           "line": {
            "color": "#2a3f5f"
           }
          },
          "ternary": {
           "aaxis": {
            "gridcolor": "white",
            "linecolor": "white",
            "ticks": ""
           },
           "baxis": {
            "gridcolor": "white",
            "linecolor": "white",
            "ticks": ""
           },
           "bgcolor": "#E5ECF6",
           "caxis": {
            "gridcolor": "white",
            "linecolor": "white",
            "ticks": ""
           }
          },
          "title": {
           "x": 0.05
          },
          "xaxis": {
           "automargin": true,
           "gridcolor": "white",
           "linecolor": "white",
           "ticks": "",
           "title": {
            "standoff": 15
           },
           "zerolinecolor": "white",
           "zerolinewidth": 2
          },
          "yaxis": {
           "automargin": true,
           "gridcolor": "white",
           "linecolor": "white",
           "ticks": "",
           "title": {
            "standoff": 15
           },
           "zerolinecolor": "white",
           "zerolinewidth": 2
          }
         }
        }
       }
      }
     },
     "metadata": {},
     "output_type": "display_data"
    }
   ],
   "source": [
    "## show top 10 most popular songs\n",
    "fig = go.Figure(data=[go.Table(\n",
    "    header=dict(values=['name','album','release date','popularity'],\n",
    "                fill_color='indigo', \n",
    "                font=dict(color='white', size=13),\n",
    "                align='left'),\n",
    "    cells=dict(values=[df.sort_values(by='popularity', ascending=False).head(10).name, df.sort_values(by='popularity', ascending=False).head(10).album, \n",
    "                        df.sort_values(by='popularity', ascending=False).head(10).release_date, df.sort_values(by='popularity', ascending=False).head(10).popularity],\n",
    "               fill_color='lavender', \n",
    "               font=dict(color='indigo', size=11),\n",
    "               align='left'))\n",
    "                ])\n",
    "\n",
    "fig.show()"
   ]
  },
  {
   "cell_type": "code",
   "execution_count": null,
   "id": "ee4b557e",
   "metadata": {},
   "outputs": [],
   "source": []
  },
  {
   "cell_type": "code",
   "execution_count": 44,
   "id": "348e5960",
   "metadata": {},
   "outputs": [],
   "source": [
    "# ## trying new things - scatterplot of 2 values, using shapes from album\n",
    "# fig = px.scatter(df, x=\"energy\", y=\"popularity\", hover_data=['name'], color='album',\n",
    "#                 title='Popularity compared to energy of songs', color_discrete_sequence=px.colors.qualitative.Prism,\n",
    "#                 template='plotly', opacity=0.7, symbol=\"album\") #, size=\"energy\")\n",
    "\n",
    "# fig.update_traces(marker=dict(size=15,  #symbol='diamond',\n",
    "#                                 line=dict(width=1,\n",
    "#                                             color='DarkSlateGrey')),\n",
    "#                                 selector=dict(mode='markers'))\n",
    "# fig.show()"
   ]
  },
  {
   "cell_type": "code",
   "execution_count": 45,
   "id": "9bad7430",
   "metadata": {},
   "outputs": [],
   "source": [
    "# ## code to manually plot/save figures for testing new parameters\n",
    "# fig = px.scatter(df, x=\"album\", y=\"popularity\", hover_data=['name'], color='album',\n",
    "#                 title='Popularity of songs', color_discrete_sequence=color_prgn,\n",
    "#                 template='plotly', opacity=0.7) #, size=\"energy\")\n",
    "\n",
    "# # update default marker size and symbol - https://stackoverflow.com/questions/65709221/set-all-markers-to-the-same-fixed-size-in-plotly-express-scatterplot\n",
    "# fig.update_traces(marker=dict(size=15, symbol='diamond',\n",
    "#                                 line=dict(width=1,\n",
    "#                                             color='DarkSlateGrey')),\n",
    "#                                 selector=dict(mode='markers'))\n",
    "\n",
    "# # # fig.write_html(\"./images/popularity_scatter.html\")\n",
    "# fig.show()"
   ]
  },
  {
   "cell_type": "code",
   "execution_count": null,
   "id": "1104a536",
   "metadata": {},
   "outputs": [],
   "source": []
  },
  {
   "cell_type": "code",
   "execution_count": null,
   "id": "c4a36714",
   "metadata": {},
   "outputs": [],
   "source": []
  },
  {
   "cell_type": "code",
   "execution_count": null,
   "id": "b2bf7cd9",
   "metadata": {},
   "outputs": [],
   "source": []
  },
  {
   "cell_type": "markdown",
   "id": "0028d40a",
   "metadata": {},
   "source": [
    "### make everything nice in Bokeh (or plotly)\n",
    "trending to see how things have changed over time\n",
    "\n",
    "scatter plot matrix - done\n",
    "\n",
    "corr heatmaps - could do some per album?\n",
    "\n",
    "graphs to show top X popular, danceable, etc songs overall and per each album\n",
    "\n",
    "how do different albums compare to each other\n",
    "\n",
    "can we do some type of ML? nothing seems super interesting lol\n",
    "\n"
   ]
  },
  {
   "cell_type": "markdown",
   "id": "bccf6e5a",
   "metadata": {},
   "source": []
  }
 ],
 "metadata": {
  "kernelspec": {
   "display_name": "Python 3.8.2 ('base')",
   "language": "python",
   "name": "python3"
  },
  "language_info": {
   "codemirror_mode": {
    "name": "ipython",
    "version": 3
   },
   "file_extension": ".py",
   "mimetype": "text/x-python",
   "name": "python",
   "nbconvert_exporter": "python",
   "pygments_lexer": "ipython3",
   "version": "3.8.2"
  },
  "vscode": {
   "interpreter": {
    "hash": "64513436905a5770fb3f071339ece14f0166dbe142a9b417a8aaf6261c1c4bfd"
   }
  }
 },
 "nbformat": 4,
 "nbformat_minor": 5
}
